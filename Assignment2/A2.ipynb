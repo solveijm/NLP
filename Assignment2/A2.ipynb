{
 "cells": [
  {
   "cell_type": "markdown",
   "metadata": {},
   "source": [
    "### Import libraries"
   ]
  },
  {
   "cell_type": "code",
   "execution_count": 1,
   "metadata": {},
   "outputs": [],
   "source": [
    "from datetime import datetime\n",
    "import keras\n",
    "from keras import backend as K\n",
    "from keras.layers import Concatenate, Lambda, LSTM, Reshape, Dense, Embedding, Average, Reshape, Flatten, Input\n",
    "from keras.models import Model \n",
    "from keras.preprocessing.sequence import pad_sequences\n",
    "from keras.preprocessing.text import Tokenizer\n",
    "import numpy as np\n",
    "import matplotlib.pyplot as plt\n",
    "import os\n",
    "import pandas as pd\n",
    "import requests\n",
    "import seaborn as sns\n",
    "from sklearn.metrics import accuracy_score, classification_report, confusion_matrix\n",
    "import tensorflow as tf\n",
    "import zipfile\n",
    "\n",
    "import re\n",
    "from functools import reduce\n",
    "import nltk\n",
    "from nltk.corpus import stopwords\n",
    "from typing import List, Callable, Dict\n",
    "from nltk.stem import WordNetLemmatizer"
   ]
  },
  {
   "cell_type": "markdown",
   "metadata": {},
   "source": [
    "### Download dataset\n",
    "Downloading the dataset using the function provided in the assignment"
   ]
  },
  {
   "cell_type": "code",
   "execution_count": 2,
   "metadata": {},
   "outputs": [],
   "source": [
    "def save_response_content(response, destination):\n",
    "    CHUNK_SIZE = 32768\n",
    "\n",
    "    with open(destination, \"wb\") as f:\n",
    "        for chunk in response.iter_content(CHUNK_SIZE):\n",
    "            if chunk: # filter out keep-alive new chunks\n",
    "                f.write(chunk)\n",
    "\n",
    "def download_data(data_path):\n",
    "    toy_data_path = os.path.join(data_path, 'fever_data.zip')\n",
    "    toy_data_url_id = \"1wArZhF9_SHW17WKNGeLmX-QTYw9Zscl1\"\n",
    "    toy_url = \"https://docs.google.com/uc?export=download\"\n",
    "\n",
    "    if not os.path.exists(data_path):\n",
    "        os.makedirs(data_path)\n",
    "\n",
    "    if not os.path.exists(toy_data_path):\n",
    "        print(\"Downloading FEVER data splits...\")\n",
    "        with requests.Session() as current_session:\n",
    "            response = current_session.get(toy_url,\n",
    "                                   params={'id': toy_data_url_id},\n",
    "                                   stream=True)\n",
    "        save_response_content(response, toy_data_path)\n",
    "        print(\"Download completed!\")\n",
    "\n",
    "        print(\"Extracting dataset...\")\n",
    "        with zipfile.ZipFile(toy_data_path) as loaded_zip:\n",
    "            loaded_zip.extractall(data_path)\n",
    "        print(\"Extraction completed!\")\n",
    "\n",
    "# Uncomment if you need to dowload the dataset\n",
    "#download_data('dataset')"
   ]
  },
  {
   "cell_type": "markdown",
   "metadata": {},
   "source": [
    "### Preprocessing data\n",
    "\n",
    "The next cells are devoted to perform preprocessing of the raw data into a readable format. This is done in two steps. The first step organises the data from the csv file into usable columns. More in particular, the Evidence column is cleaned and the Labels are turned into numeric values by the `firstCleaning(df)` function. In the second step, more specific cleaning is done on the Evidence and Claim column. All words are put in lowercase, special characters are replaced, uncommon symbols are filtered out, stopwords are removed and the text is stripped. Finally, lemmatization has been executed. "
   ]
  },
  {
   "cell_type": "markdown",
   "metadata": {},
   "source": [
    "#### Create dataframes"
   ]
  },
  {
   "cell_type": "code",
   "execution_count": 3,
   "metadata": {},
   "outputs": [],
   "source": [
    "def firstCleaning(df): \n",
    "    \"\"\"\n",
    "    This method is to restructure the columns from dataframe df into a suitable format.  \n",
    "    \"\"\"\n",
    "    df[\"Evidence\"] = df[\"Evidence\"].str.split(pat = \"\\t\")\n",
    "    df[\"evidenceID\"]=df[\"Evidence\"].str[0]\n",
    "    df[\"Evidence\"]=df[\"Evidence\"].str[1]\n",
    "    df[\"Label\"] = df[\"Label\"].replace({'SUPPORTS': 1, 'REFUTES': 0})\n",
    "    return df"
   ]
  },
  {
   "cell_type": "code",
   "execution_count": 4,
   "metadata": {},
   "outputs": [],
   "source": [
    "#create a dataframe for the training data \n",
    "train_df = pd.read_csv('./dataset/train_pairs.csv', skipinitialspace=True, usecols=[\"Claim\",\"Evidence\",\"ID\",\"Label\"]).rename(columns={\"ID\": \"claimID\"})\n",
    "train_df = firstCleaning(train_df)\n",
    "\n",
    "#create a dataframe for the validation data \n",
    "val_df = pd.read_csv('./dataset/val_pairs.csv', skipinitialspace=True, usecols=[\"Claim\",\"Evidence\",\"ID\",\"Label\"]).rename(columns={\"ID\": \"claimID\"})\n",
    "val_df = firstCleaning(val_df)\n",
    "\n",
    "#create a dataframe for the test data \n",
    "test_df = pd.read_csv('./dataset/test_pairs.csv', skipinitialspace=True, usecols=[\"Claim\",\"Evidence\",\"ID\",\"Label\"]).rename(columns={\"ID\": \"claimID\"})\n",
    "test_df = firstCleaning(test_df)"
   ]
  },
  {
   "cell_type": "markdown",
   "metadata": {},
   "source": [
    "#### Clean text data"
   ]
  },
  {
   "cell_type": "code",
   "execution_count": 5,
   "metadata": {},
   "outputs": [
    {
     "name": "stderr",
     "output_type": "stream",
     "text": [
      "[nltk_data] Downloading package wordnet to\n",
      "[nltk_data]     /Users/solveig.mohr/nltk_data...\n",
      "[nltk_data]   Package wordnet is already up-to-date!\n"
     ]
    }
   ],
   "source": [
    "lemmatizer = WordNetLemmatizer()\n",
    "nltk.download('wordnet')\n",
    "\n",
    "REPLACE_BY_SPACE_RE = re.compile('[/(){}\\[\\]\\|@,;]')\n",
    "GOOD_SYMBOLS_RE = re.compile('[^0-9a-z #+_]')\n",
    "try:\n",
    "    STOPWORDS = set(stopwords.words('english'))\n",
    "except LookupError:\n",
    "    nltk.download('stopwords')\n",
    "    STOPWORDS = set(stopwords.words('english'))\n",
    "\n",
    "\n",
    "\n",
    "def lower(text: str) -> str:\n",
    "    \"\"\"\n",
    "    Transforms given text to lower case.\n",
    "    Example:\n",
    "    Input: 'I really like New York city'\n",
    "    Output: 'i really like new your city'\n",
    "    \"\"\"\n",
    "\n",
    "    return text.lower()\n",
    "\n",
    "def replace_special_characters(text: str) -> str:\n",
    "    \"\"\"\n",
    "    Replaces special characters, such as paranthesis,\n",
    "    with spacing character\n",
    "    \"\"\"\n",
    "\n",
    "    return REPLACE_BY_SPACE_RE.sub(' ', text)\n",
    "\n",
    "def filter_out_uncommon_symbols(text: str) -> str:\n",
    "    \"\"\"\n",
    "    Removes any special character that is not in the\n",
    "    good symbols list (check regular expression)\n",
    "    \"\"\"\n",
    "\n",
    "    return GOOD_SYMBOLS_RE.sub('', text)\n",
    "\n",
    "def remove_stopwords(text: str) -> str:\n",
    "    return ' '.join([x for x in text.split() if x and x not in STOPWORDS])\n",
    "\n",
    "def strip_text(text: str) -> str:\n",
    "    \"\"\"\n",
    "    Removes any left or right spacing (including carriage return) from text.\n",
    "    Example:\n",
    "    Input: '  This assignment is cool\\n'\n",
    "    Output: 'This assignment is cool'\n",
    "    \"\"\"\n",
    "\n",
    "    return text.strip()    \n",
    "\n",
    "def lemmatize_words(text: str ) -> str:\n",
    "    return \" \".join([lemmatizer.lemmatize(word) for word in text.split()])\n",
    "\n",
    "PREPROCESSING_PIPELINE = [\n",
    "                          lower,\n",
    "                          replace_special_characters,\n",
    "                          filter_out_uncommon_symbols,\n",
    "                          remove_stopwords,\n",
    "                          strip_text,\n",
    "                          lemmatize_words\n",
    "                          ]\n",
    "\n",
    "def text_prepare(text: str,\n",
    "                 filter_methods: List[Callable[[str], str]] = None) -> str:\n",
    "    \"\"\"\n",
    "    Applies a list of pre-processing functions in sequence (reduce).\n",
    "    Note that the order is important here!\n",
    "    \"\"\"\n",
    "\n",
    "    filter_methods = filter_methods if filter_methods is not None else PREPROCESSING_PIPELINE\n",
    "\n",
    "    return reduce(lambda txt, f: f(txt), filter_methods, text)\n",
    "\n",
    "\n",
    "# Replace each sentence with its pre-processed version\n",
    "train_df['Evidence'] = train_df['Evidence'].apply(lambda txt: text_prepare(txt))\n",
    "val_df['Evidence'] = val_df['Evidence'].apply(lambda txt: text_prepare(txt))\n",
    "test_df['Evidence'] = test_df['Evidence'].apply(lambda txt: text_prepare(txt))\n",
    "train_df['Claim'] = train_df['Claim'].apply(lambda txt: text_prepare(txt))\n",
    "val_df['Claim'] = val_df['Claim'].apply(lambda txt: text_prepare(txt))\n",
    "test_df['Claim'] = test_df['Claim'].apply(lambda txt: text_prepare(txt))\n",
    "\n"
   ]
  },
  {
   "cell_type": "markdown",
   "metadata": {},
   "source": [
    "#### Extract y values for train, val and test"
   ]
  },
  {
   "cell_type": "code",
   "execution_count": 6,
   "metadata": {},
   "outputs": [],
   "source": [
    "y_train = np.array(train_df['Label'])\n",
    "y_val = np.array(val_df['Label'])\n",
    "y_test = np.array(test_df['Label'])"
   ]
  },
  {
   "cell_type": "markdown",
   "metadata": {},
   "source": [
    "### Tokenize and padding of data"
   ]
  },
  {
   "cell_type": "code",
   "execution_count": 7,
   "metadata": {},
   "outputs": [],
   "source": [
    "# The tokenizer will have an index 1 for OOV words. A lot of words in test and val will be 1.\n",
    "tokenizer = Tokenizer(oov_token=1)\n",
    "\n",
    "tokenizer.fit_on_texts(train_df[\"Claim\"])\n",
    "tokenizer.fit_on_texts(train_df[\"Evidence\"])"
   ]
  },
  {
   "cell_type": "code",
   "execution_count": 8,
   "metadata": {},
   "outputs": [],
   "source": [
    "# Find max sentence lenght for evidence\n",
    "MAX_SEQ_LEN = np.max([len(text.split()) for text in train_df[\"Evidence\"]])"
   ]
  },
  {
   "cell_type": "code",
   "execution_count": 9,
   "metadata": {},
   "outputs": [],
   "source": [
    "def textToTensor(tokenizer, max_len, text):\n",
    "    '''\n",
    "        Converts text to tensors by converting the words into the correct indexes. \n",
    "        Then padds the tensors with 0 vlaues\n",
    "    '''\n",
    "    seq = tokenizer.texts_to_sequences(text)\n",
    "    padded = pad_sequences(sequences=seq, maxlen=max_len)\n",
    "    return padded"
   ]
  },
  {
   "cell_type": "code",
   "execution_count": 10,
   "metadata": {},
   "outputs": [],
   "source": [
    "claim_train = textToTensor(tokenizer, MAX_SEQ_LEN, train_df[\"Claim\"])\n",
    "evidence_train = textToTensor(tokenizer, MAX_SEQ_LEN, train_df[\"Evidence\"])\n",
    "\n",
    "claim_val = textToTensor(tokenizer, MAX_SEQ_LEN, val_df[\"Claim\"])\n",
    "evidence_val = textToTensor(tokenizer, MAX_SEQ_LEN, val_df[\"Evidence\"])\n",
    "\n",
    "claim_test = textToTensor(tokenizer, MAX_SEQ_LEN, test_df[\"Claim\"])\n",
    "evidence_test = textToTensor(tokenizer, MAX_SEQ_LEN, test_df[\"Evidence\"])"
   ]
  },
  {
   "cell_type": "code",
   "execution_count": 11,
   "metadata": {},
   "outputs": [],
   "source": [
    "# Find size of vocabulary\n",
    "VOCABULARY_SIZE = len(tokenizer.word_index) + 1"
   ]
  },
  {
   "cell_type": "markdown",
   "metadata": {},
   "source": [
    "## Applying glove \n"
   ]
  },
  {
   "cell_type": "code",
   "execution_count": 12,
   "metadata": {},
   "outputs": [],
   "source": [
    "import gensim\n",
    "import gensim.downloader as gloader\n",
    "\n",
    "def load_embedding_model(embedding_dimension: int = 50) -> gensim.models.keyedvectors.KeyedVectors:\n",
    "    download_path = \"glove-wiki-gigaword-{}\".format(embedding_dimension)\n",
    "    # Check download\n",
    "    try:\n",
    "        emb_model = gloader.load(download_path)\n",
    "    except ValueError as e:\n",
    "        print(\"Invalid embedding model name! Check the embedding dimension:\")\n",
    "        print(\"Word2Vec: 300\")\n",
    "        print(\"Glove: 50, 100, 200, 300\")\n",
    "        raise e\n",
    "\n",
    "    return emb_model\n",
    "    \n",
    "def create_embedding_matrix(embedding_model, embedding_dimension, word_to_idx):\n",
    "    embedding_matrix = np.zeros((len(word_to_idx)+1, embedding_dimension), dtype=np.float32)\n",
    "    for word, idx in word_to_idx.items():\n",
    "        try:\n",
    "            embedding_vector = embedding_model[word]\n",
    "        except (KeyError, TypeError):\n",
    "            embedding_vector = np.random.uniform(low=-0.05, high=0.05, size=embedding_dimension)\n",
    "\n",
    "        embedding_matrix[idx] = embedding_vector\n",
    "                                \n",
    "    return embedding_matrix\n",
    "\n"
   ]
  },
  {
   "cell_type": "code",
   "execution_count": 13,
   "metadata": {},
   "outputs": [
    {
     "data": {
      "text/plain": [
       "(32234, 50)"
      ]
     },
     "execution_count": 13,
     "metadata": {},
     "output_type": "execute_result"
    }
   ],
   "source": [
    "embedding_dimension = 50\n",
    "\n",
    "embedding_model = load_embedding_model(embedding_dimension)\n",
    "embedding_matrix = create_embedding_matrix(embedding_model, embedding_dimension, tokenizer.word_index)\n",
    "embedding_matrix.shape"
   ]
  },
  {
   "cell_type": "markdown",
   "metadata": {},
   "source": [
    "### Create model\n",
    "\n",
    "- Choose type of sentence embedding by passing the sentence embedding number (1,2,3 or 4) to the create_model function.\n",
    "- Choose type of merging by passing the merge number (1,2 or 3) to the create_model function."
   ]
  },
  {
   "cell_type": "code",
   "execution_count": 14,
   "metadata": {},
   "outputs": [],
   "source": [
    "def create_model(max_tokens, vocab_size, embedding_dimension, sentence_embedding_type=1, merge_type=1):\n",
    "    '''\n",
    "        Creates keras model for classification.\n",
    "        Inputs: \n",
    "            max_tokens (int): Max length of a text sequence\n",
    "            vocab_size (int): Size of the vocabulary\n",
    "            embedding_dimension (int): The dimension of the embedding vectors\n",
    "            sentence_embedding_type (int): Defines which sentence embedding to use\n",
    "            merge_type (int): Defines which merging function to use\n",
    "    '''   \n",
    "\n",
    "    #-------------------------- Input layer ------------------------------------------------------------\n",
    "    claims_input = Input(shape=(max_tokens, ))\n",
    "    evidence_input = Input(shape=(max_tokens, ))\n",
    "    #-----------------------------------------------------------------------------------------------------\n",
    "\n",
    "    #-------------------------- Word embedding ------------------------------------------------------------\n",
    "    claims_embedding = Embedding(vocab_size, embedding_dimension, weights = [embedding_matrix], name='WordEmbedding_claims', trainable = False)(claims_input)\n",
    "    evidence_embedding = Embedding(vocab_size, embedding_dimension, weights = [embedding_matrix], name='WordEmbedding_evidence', trainable = False)(evidence_input)\n",
    "    #-----------------------------------------------------------------------------------------------------\n",
    "\n",
    "    #-------------------------- Sentence embedding -------------------------------------------------------\n",
    "    if sentence_embedding_type==1:\n",
    "        # Encode token sequences via a RNN and take the last state as the sentence embedding.\n",
    "        claims_sentence_embedding = LSTM(embedding_dimension, return_sequences=False, name='SentenceEmbedding_claims')(claims_embedding)\n",
    "        evidence_sentence_embedding = LSTM(embedding_dimension, return_sequences=False, name='SentenceEmbedding_evidence')(evidence_embedding)\n",
    "    elif sentence_embedding_type==2:\n",
    "        # Encode token sequences via a RNN and average all the output states.\n",
    "\n",
    "        # Put return_sequences True to get output from all hidden states\n",
    "        claims_sentence_embedding = LSTM(embedding_dimension, return_sequences=True, name='SentenceEmbedding_claims')(claims_embedding)\n",
    "        evidence_sentence_embedding = LSTM(embedding_dimension, return_sequences=True, name='SentenceEmbedding_evidence')(evidence_embedding)\n",
    "        \n",
    "        # Take average of outputs\n",
    "        claims_sentence_embedding = K.mean(claims_sentence_embedding, axis=1)\n",
    "        evidence_sentence_embedding = K.mean(evidence_sentence_embedding, axis=1)\n",
    "\n",
    "    elif sentence_embedding_type==3:\n",
    "        # Encode token sequences via a simple MLP layer.\n",
    "        num = embedding_dimension*max_tokens\n",
    "        # Reshape 3d vector to 2d\n",
    "        claims_sentence_embedding = Reshape((num,), input_shape=(max_tokens, embedding_dimension))(claims_embedding)\n",
    "        evidence_sentence_embedding = Reshape((num,), input_shape=(max_tokens, embedding_dimension))(evidence_embedding)\n",
    "\n",
    "        # Send into dense layer\n",
    "        claims_sentence_embedding = Dense(num, name='SentenceEmbedding_claims')(claims_sentence_embedding)\n",
    "        evidence_sentence_embedding = Dense(num, name='SentenceEmbedding_evidence')(evidence_sentence_embedding)\n",
    "   \n",
    "    elif sentence_embedding_type==4:\n",
    "        # Compute the sentence embedding as the mean of its token embeddings (bag of vectors).\n",
    "        claims_sentence_embedding = K.mean(claims_embedding, axis=1)\n",
    "        evidence_sentence_embedding = K.mean(evidence_embedding, axis=1)\n",
    "    else:\n",
    "        raise Exception(\"Sentence embedding type must be an integer between 1 and 4\")\n",
    "    #------------------------------------------------------------------------------------------------------------\n",
    "    \n",
    "\n",
    "    #-------------------------- Extension with cosine similarity -----------------------------------------------\n",
    "    # Calulate cosine similarity\n",
    "    # Returns list of cosine similarities for each evidence claim pair\n",
    "    cosine_loss = tf.keras.losses.CosineSimilarity(axis=-1, reduction=tf.keras.losses.Reduction.NONE)\n",
    "    cosine_similarity = cosine_loss(claims_sentence_embedding, evidence_sentence_embedding)\n",
    "\n",
    "    # Expand dimention to get tensor on shape (embedding_dimension, 1)\n",
    "    cosine_similarity = Lambda(lambda x: K.expand_dims(x, axis=1))(cosine_similarity)\n",
    "\n",
    "    # Concatenate tensors and get them on shape (batch_size, embedding_dim + 1)\n",
    "    claims_sentence_embedding = Concatenate(axis=-1)([claims_sentence_embedding, cosine_similarity])\n",
    "    evidence_sentence_embedding = Concatenate(axis=-1)([evidence_sentence_embedding, cosine_similarity])\n",
    "    #------------------------------------------------------------------------------------------------------------\n",
    "\n",
    "    #------------------------------------- Merging --------------------------------------------------------------\n",
    "    if merge_type == 1:\n",
    "        # Concatenate\n",
    "        merged = Concatenate(axis=1)([claims_sentence_embedding, evidence_sentence_embedding])\n",
    "    elif merge_type == 2:\n",
    "        # Sum\n",
    "        merged = Add([claims_sentence_embedding, evidence_sentence_embedding])\n",
    "    elif merge_type == 3:\n",
    "        # Mean\n",
    "        merged = Average(axis=1)([claims_sentence_embedding, evidence_sentence_embedding])\n",
    "    else:\n",
    "        raise Exception(\"Merge type must be an integer between 1 and 3\")\n",
    "    #------------------------------------------------------------------------------------------------------------\n",
    "\n",
    "    #------------------------------------- Classification --------------------------------------------------------------\n",
    "    out = (Dense(1, activation='sigmoid'))(merged)\n",
    "    #------------------------------------------------------------------------------------------------------------\n",
    "\n",
    "    model = Model(inputs=[claims_input, evidence_input], outputs=[out])\n",
    "\n",
    "    return model"
   ]
  },
  {
   "cell_type": "code",
   "execution_count": 15,
   "metadata": {},
   "outputs": [],
   "source": [
    "# Change vaiables in order to change sentence_embedding_type and merge_type\n",
    "sentence_embedding_type = 1\n",
    "merge_type = 1"
   ]
  },
  {
   "cell_type": "code",
   "execution_count": 55,
   "metadata": {
    "scrolled": false
   },
   "outputs": [
    {
     "name": "stdout",
     "output_type": "stream",
     "text": [
      "Model: \"model_1\"\n",
      "__________________________________________________________________________________________________\n",
      " Layer (type)                   Output Shape         Param #     Connected to                     \n",
      "==================================================================================================\n",
      " input_3 (InputLayer)           [(None, 96)]         0           []                               \n",
      "                                                                                                  \n",
      " input_4 (InputLayer)           [(None, 96)]         0           []                               \n",
      "                                                                                                  \n",
      " WordEmbedding_claims (Embeddin  (None, 96, 50)      1611700     ['input_3[0][0]']                \n",
      " g)                                                                                               \n",
      "                                                                                                  \n",
      " WordEmbedding_evidence (Embedd  (None, 96, 50)      1611700     ['input_4[0][0]']                \n",
      " ing)                                                                                             \n",
      "                                                                                                  \n",
      " SentenceEmbedding_claims (LSTM  (None, 50)          20200       ['WordEmbedding_claims[0][0]']   \n",
      " )                                                                                                \n",
      "                                                                                                  \n",
      " SentenceEmbedding_evidence (LS  (None, 50)          20200       ['WordEmbedding_evidence[0][0]'] \n",
      " TM)                                                                                              \n",
      "                                                                                                  \n",
      " tf.convert_to_tensor_3 (TFOpLa  (None, 50)          0           ['SentenceEmbedding_claims[0][0]'\n",
      " mbda)                                                           ]                                \n",
      "                                                                                                  \n",
      " tf.convert_to_tensor_2 (TFOpLa  (None, 50)          0           ['SentenceEmbedding_evidence[0][0\n",
      " mbda)                                                           ]']                              \n",
      "                                                                                                  \n",
      " tf.math.l2_normalize_2 (TFOpLa  (None, 50)          0           ['tf.convert_to_tensor_3[0][0]'] \n",
      " mbda)                                                                                            \n",
      "                                                                                                  \n",
      " tf.math.l2_normalize_3 (TFOpLa  (None, 50)          0           ['tf.convert_to_tensor_2[0][0]'] \n",
      " mbda)                                                                                            \n",
      "                                                                                                  \n",
      " tf.math.multiply_2 (TFOpLambda  (None, 50)          0           ['tf.math.l2_normalize_2[0][0]', \n",
      " )                                                                'tf.math.l2_normalize_3[0][0]'] \n",
      "                                                                                                  \n",
      " tf.math.reduce_sum_1 (TFOpLamb  (None,)             0           ['tf.math.multiply_2[0][0]']     \n",
      " da)                                                                                              \n",
      "                                                                                                  \n",
      " tf.math.negative_1 (TFOpLambda  (None,)             0           ['tf.math.reduce_sum_1[0][0]']   \n",
      " )                                                                                                \n",
      "                                                                                                  \n",
      " tf.cast_2 (TFOpLambda)         (None,)              0           ['tf.math.negative_1[0][0]']     \n",
      "                                                                                                  \n",
      " tf.math.multiply_3 (TFOpLambda  (None,)             0           ['tf.cast_2[0][0]']              \n",
      " )                                                                                                \n",
      "                                                                                                  \n",
      " tf.cast_3 (TFOpLambda)         (None,)              0           ['tf.math.multiply_3[0][0]']     \n",
      "                                                                                                  \n",
      " lambda_1 (Lambda)              (None, 1)            0           ['tf.cast_3[0][0]']              \n",
      "                                                                                                  \n",
      " concatenate_3 (Concatenate)    (None, 51)           0           ['SentenceEmbedding_claims[0][0]'\n",
      "                                                                 , 'lambda_1[0][0]']              \n",
      "                                                                                                  \n",
      " concatenate_4 (Concatenate)    (None, 51)           0           ['SentenceEmbedding_evidence[0][0\n",
      "                                                                 ]',                              \n",
      "                                                                  'lambda_1[0][0]']               \n",
      "                                                                                                  \n",
      " concatenate_5 (Concatenate)    (None, 102)          0           ['concatenate_3[0][0]',          \n",
      "                                                                  'concatenate_4[0][0]']          \n",
      "                                                                                                  \n",
      " dense_1 (Dense)                (None, 1)            103         ['concatenate_5[0][0]']          \n",
      "                                                                                                  \n",
      "==================================================================================================\n",
      "Total params: 3,263,903\n",
      "Trainable params: 40,503\n",
      "Non-trainable params: 3,223,400\n",
      "__________________________________________________________________________________________________\n"
     ]
    }
   ],
   "source": [
    "model = create_model(MAX_SEQ_LEN, VOCABULARY_SIZE, embedding_dimension, sentence_embedding_type=sentence_embedding_type, merge_type=merge_type)\n",
    "model.summary()"
   ]
  },
  {
   "cell_type": "markdown",
   "metadata": {},
   "source": [
    "### Train model"
   ]
  },
  {
   "cell_type": "code",
   "execution_count": 56,
   "metadata": {},
   "outputs": [
    {
     "name": "stdout",
     "output_type": "stream",
     "text": [
      "Epoch 1/10\n",
      "3805/3805 [==============================] - 201s 52ms/step - loss: 0.1735 - acc: 0.7611 - val_loss: 0.2626 - val_acc: 0.5852\n",
      "Epoch 2/10\n",
      "3805/3805 [==============================] - 171s 45ms/step - loss: 0.1555 - acc: 0.7879 - val_loss: 0.2499 - val_acc: 0.6173\n",
      "Epoch 3/10\n",
      "3805/3805 [==============================] - 180s 47ms/step - loss: 0.1456 - acc: 0.8032 - val_loss: 0.2404 - val_acc: 0.6367\n",
      "Epoch 4/10\n",
      "3805/3805 [==============================] - 169s 44ms/step - loss: 0.1381 - acc: 0.8141 - val_loss: 0.2410 - val_acc: 0.6430\n",
      "Epoch 5/10\n",
      "3805/3805 [==============================] - 183s 48ms/step - loss: 0.1318 - acc: 0.8227 - val_loss: 0.2211 - val_acc: 0.6681\n",
      "Epoch 6/10\n",
      "3805/3805 [==============================] - 176s 46ms/step - loss: 0.1262 - acc: 0.8310 - val_loss: 0.2281 - val_acc: 0.6632\n",
      "Epoch 7/10\n",
      "3805/3805 [==============================] - 212s 56ms/step - loss: 0.1215 - acc: 0.8381 - val_loss: 0.2374 - val_acc: 0.6578\n",
      "Epoch 8/10\n",
      "3805/3805 [==============================] - 201s 53ms/step - loss: 0.1169 - acc: 0.8452 - val_loss: 0.2350 - val_acc: 0.6621\n",
      "Epoch 9/10\n",
      "3805/3805 [==============================] - 194s 51ms/step - loss: 0.1128 - acc: 0.8512 - val_loss: 0.2384 - val_acc: 0.6650\n",
      "Epoch 10/10\n",
      "3805/3805 [==============================] - 191s 50ms/step - loss: 0.1090 - acc: 0.8568 - val_loss: 0.2458 - val_acc: 0.6615\n"
     ]
    }
   ],
   "source": [
    "model.compile(loss='mse',\n",
    "              optimizer='Adam',\n",
    "              metrics=['acc'])\n",
    "history = model.fit(x=[claim_train, evidence_train], y=y_train, batch_size=32, epochs=10, validation_data=([claim_val, evidence_val], y_val))"
   ]
  },
  {
   "cell_type": "code",
   "execution_count": 16,
   "metadata": {},
   "outputs": [
    {
     "name": "stderr",
     "output_type": "stream",
     "text": [
      "2021-12-01 21:40:14.982360: I tensorflow/core/platform/cpu_feature_guard.cc:151] This TensorFlow binary is optimized with oneAPI Deep Neural Network Library (oneDNN) to use the following CPU instructions in performance-critical operations:  AVX2 FMA\n",
      "To enable them in other operations, rebuild TensorFlow with the appropriate compiler flags.\n"
     ]
    },
    {
     "name": "stdout",
     "output_type": "stream",
     "text": [
      "Model: \"model\"\n",
      "__________________________________________________________________________________________________\n",
      " Layer (type)                   Output Shape         Param #     Connected to                     \n",
      "==================================================================================================\n",
      " input_1 (InputLayer)           [(None, 96)]         0           []                               \n",
      "                                                                                                  \n",
      " input_2 (InputLayer)           [(None, 96)]         0           []                               \n",
      "                                                                                                  \n",
      " WordEmbedding_claims (Embeddin  (None, 96, 50)      1611700     ['input_1[0][0]']                \n",
      " g)                                                                                               \n",
      "                                                                                                  \n",
      " WordEmbedding_evidence (Embedd  (None, 96, 50)      1611700     ['input_2[0][0]']                \n",
      " ing)                                                                                             \n",
      "                                                                                                  \n",
      " SentenceEmbedding_claims (LSTM  (None, 50)          20200       ['WordEmbedding_claims[0][0]']   \n",
      " )                                                                                                \n",
      "                                                                                                  \n",
      " SentenceEmbedding_evidence (LS  (None, 50)          20200       ['WordEmbedding_evidence[0][0]'] \n",
      " TM)                                                                                              \n",
      "                                                                                                  \n",
      " tf.convert_to_tensor_1 (TFOpLa  (None, 50)          0           ['SentenceEmbedding_claims[0][0]'\n",
      " mbda)                                                           ]                                \n",
      "                                                                                                  \n",
      " tf.convert_to_tensor (TFOpLamb  (None, 50)          0           ['SentenceEmbedding_evidence[0][0\n",
      " da)                                                             ]']                              \n",
      "                                                                                                  \n",
      " tf.math.l2_normalize (TFOpLamb  (None, 50)          0           ['tf.convert_to_tensor_1[0][0]'] \n",
      " da)                                                                                              \n",
      "                                                                                                  \n",
      " tf.math.l2_normalize_1 (TFOpLa  (None, 50)          0           ['tf.convert_to_tensor[0][0]']   \n",
      " mbda)                                                                                            \n",
      "                                                                                                  \n",
      " tf.math.multiply (TFOpLambda)  (None, 50)           0           ['tf.math.l2_normalize[0][0]',   \n",
      "                                                                  'tf.math.l2_normalize_1[0][0]'] \n",
      "                                                                                                  \n",
      " tf.math.reduce_sum (TFOpLambda  (None,)             0           ['tf.math.multiply[0][0]']       \n",
      " )                                                                                                \n",
      "                                                                                                  \n",
      " tf.math.negative (TFOpLambda)  (None,)              0           ['tf.math.reduce_sum[0][0]']     \n",
      "                                                                                                  \n",
      " tf.cast (TFOpLambda)           (None,)              0           ['tf.math.negative[0][0]']       \n",
      "                                                                                                  \n",
      " tf.math.multiply_1 (TFOpLambda  (None,)             0           ['tf.cast[0][0]']                \n",
      " )                                                                                                \n",
      "                                                                                                  \n",
      " tf.cast_1 (TFOpLambda)         (None,)              0           ['tf.math.multiply_1[0][0]']     \n",
      "                                                                                                  \n",
      " lambda (Lambda)                (None, 1)            0           ['tf.cast_1[0][0]']              \n",
      "                                                                                                  \n",
      " concatenate (Concatenate)      (None, 51)           0           ['SentenceEmbedding_claims[0][0]'\n",
      "                                                                 , 'lambda[0][0]']                \n",
      "                                                                                                  \n",
      " concatenate_1 (Concatenate)    (None, 51)           0           ['SentenceEmbedding_evidence[0][0\n",
      "                                                                 ]',                              \n",
      "                                                                  'lambda[0][0]']                 \n",
      "                                                                                                  \n",
      " concatenate_2 (Concatenate)    (None, 102)          0           ['concatenate[0][0]',            \n",
      "                                                                  'concatenate_1[0][0]']          \n",
      "                                                                                                  \n",
      " dense (Dense)                  (None, 1)            103         ['concatenate_2[0][0]']          \n",
      "                                                                                                  \n",
      "==================================================================================================\n",
      "Total params: 3,263,903\n",
      "Trainable params: 40,503\n",
      "Non-trainable params: 3,223,400\n",
      "__________________________________________________________________________________________________\n"
     ]
    }
   ],
   "source": [
    "model64 = create_model(MAX_SEQ_LEN, VOCABULARY_SIZE, embedding_dimension, sentence_embedding_type=sentence_embedding_type, merge_type=merge_type)\n",
    "model64.summary()"
   ]
  },
  {
   "cell_type": "code",
   "execution_count": 17,
   "metadata": {},
   "outputs": [
    {
     "name": "stdout",
     "output_type": "stream",
     "text": [
      "Epoch 1/10\n",
      "1903/1903 [==============================] - 137s 70ms/step - loss: 0.1764 - acc: 0.7553 - val_loss: 0.2755 - val_acc: 0.5724\n",
      "Epoch 2/10\n",
      "1903/1903 [==============================] - 143s 75ms/step - loss: 0.1585 - acc: 0.7834 - val_loss: 0.2479 - val_acc: 0.6089\n",
      "Epoch 3/10\n",
      "1903/1903 [==============================] - 134s 70ms/step - loss: 0.1488 - acc: 0.7973 - val_loss: 0.2389 - val_acc: 0.6357\n",
      "Epoch 4/10\n",
      "1903/1903 [==============================] - 140s 73ms/step - loss: 0.1414 - acc: 0.8080 - val_loss: 0.2358 - val_acc: 0.6500\n",
      "Epoch 5/10\n",
      "1903/1903 [==============================] - 124s 65ms/step - loss: 0.1352 - acc: 0.8175 - val_loss: 0.2377 - val_acc: 0.6544\n",
      "Epoch 6/10\n",
      "1903/1903 [==============================] - 120s 63ms/step - loss: 0.1300 - acc: 0.8256 - val_loss: 0.2321 - val_acc: 0.6606\n",
      "Epoch 7/10\n",
      "1903/1903 [==============================] - 148s 77ms/step - loss: 0.1253 - acc: 0.8325 - val_loss: 0.2363 - val_acc: 0.6648\n",
      "Epoch 8/10\n",
      "1903/1903 [==============================] - 151s 79ms/step - loss: 0.1211 - acc: 0.8391 - val_loss: 0.2365 - val_acc: 0.6636\n",
      "Epoch 9/10\n",
      "1903/1903 [==============================] - 163s 86ms/step - loss: 0.1172 - acc: 0.8444 - val_loss: 0.2413 - val_acc: 0.6663\n",
      "Epoch 10/10\n",
      "1903/1903 [==============================] - 150s 79ms/step - loss: 0.1138 - acc: 0.8503 - val_loss: 0.2439 - val_acc: 0.6600\n"
     ]
    }
   ],
   "source": [
    "model64.compile(loss='mse',\n",
    "              optimizer='Adam',\n",
    "              metrics=['acc'])\n",
    "history = model64.fit(x=[claim_train, evidence_train], y=y_train, batch_size=64, epochs=10, validation_data=([claim_val, evidence_val], y_val))"
   ]
  },
  {
   "cell_type": "code",
   "execution_count": 22,
   "metadata": {},
   "outputs": [
    {
     "name": "stdout",
     "output_type": "stream",
     "text": [
      "Model: \"model_3\"\n",
      "__________________________________________________________________________________________________\n",
      " Layer (type)                   Output Shape         Param #     Connected to                     \n",
      "==================================================================================================\n",
      " input_7 (InputLayer)           [(None, 96)]         0           []                               \n",
      "                                                                                                  \n",
      " input_8 (InputLayer)           [(None, 96)]         0           []                               \n",
      "                                                                                                  \n",
      " WordEmbedding_claims (Embeddin  (None, 96, 50)      1611700     ['input_7[0][0]']                \n",
      " g)                                                                                               \n",
      "                                                                                                  \n",
      " WordEmbedding_evidence (Embedd  (None, 96, 50)      1611700     ['input_8[0][0]']                \n",
      " ing)                                                                                             \n",
      "                                                                                                  \n",
      " SentenceEmbedding_claims (LSTM  (None, 50)          20200       ['WordEmbedding_claims[0][0]']   \n",
      " )                                                                                                \n",
      "                                                                                                  \n",
      " SentenceEmbedding_evidence (LS  (None, 50)          20200       ['WordEmbedding_evidence[0][0]'] \n",
      " TM)                                                                                              \n",
      "                                                                                                  \n",
      " tf.convert_to_tensor_7 (TFOpLa  (None, 50)          0           ['SentenceEmbedding_claims[0][0]'\n",
      " mbda)                                                           ]                                \n",
      "                                                                                                  \n",
      " tf.convert_to_tensor_6 (TFOpLa  (None, 50)          0           ['SentenceEmbedding_evidence[0][0\n",
      " mbda)                                                           ]']                              \n",
      "                                                                                                  \n",
      " tf.math.l2_normalize_6 (TFOpLa  (None, 50)          0           ['tf.convert_to_tensor_7[0][0]'] \n",
      " mbda)                                                                                            \n",
      "                                                                                                  \n",
      " tf.math.l2_normalize_7 (TFOpLa  (None, 50)          0           ['tf.convert_to_tensor_6[0][0]'] \n",
      " mbda)                                                                                            \n",
      "                                                                                                  \n",
      " tf.math.multiply_6 (TFOpLambda  (None, 50)          0           ['tf.math.l2_normalize_6[0][0]', \n",
      " )                                                                'tf.math.l2_normalize_7[0][0]'] \n",
      "                                                                                                  \n",
      " tf.math.reduce_sum_3 (TFOpLamb  (None,)             0           ['tf.math.multiply_6[0][0]']     \n",
      " da)                                                                                              \n",
      "                                                                                                  \n",
      " tf.math.negative_3 (TFOpLambda  (None,)             0           ['tf.math.reduce_sum_3[0][0]']   \n",
      " )                                                                                                \n",
      "                                                                                                  \n",
      " tf.cast_6 (TFOpLambda)         (None,)              0           ['tf.math.negative_3[0][0]']     \n",
      "                                                                                                  \n",
      " tf.math.multiply_7 (TFOpLambda  (None,)             0           ['tf.cast_6[0][0]']              \n",
      " )                                                                                                \n",
      "                                                                                                  \n",
      " tf.cast_7 (TFOpLambda)         (None,)              0           ['tf.math.multiply_7[0][0]']     \n",
      "                                                                                                  \n",
      " lambda_3 (Lambda)              (None, 1)            0           ['tf.cast_7[0][0]']              \n",
      "                                                                                                  \n",
      " concatenate_9 (Concatenate)    (None, 51)           0           ['SentenceEmbedding_claims[0][0]'\n",
      "                                                                 , 'lambda_3[0][0]']              \n",
      "                                                                                                  \n",
      " concatenate_10 (Concatenate)   (None, 51)           0           ['SentenceEmbedding_evidence[0][0\n",
      "                                                                 ]',                              \n",
      "                                                                  'lambda_3[0][0]']               \n",
      "                                                                                                  \n",
      " concatenate_11 (Concatenate)   (None, 102)          0           ['concatenate_9[0][0]',          \n",
      "                                                                  'concatenate_10[0][0]']         \n",
      "                                                                                                  \n",
      " dense_3 (Dense)                (None, 1)            103         ['concatenate_11[0][0]']         \n",
      "                                                                                                  \n",
      "==================================================================================================\n",
      "Total params: 3,263,903\n",
      "Trainable params: 40,503\n",
      "Non-trainable params: 3,223,400\n",
      "__________________________________________________________________________________________________\n"
     ]
    }
   ],
   "source": [
    "model256 = create_model(MAX_SEQ_LEN, VOCABULARY_SIZE, embedding_dimension, sentence_embedding_type=sentence_embedding_type, merge_type=merge_type)\n",
    "model256.summary()"
   ]
  },
  {
   "cell_type": "code",
   "execution_count": 23,
   "metadata": {},
   "outputs": [
    {
     "name": "stdout",
     "output_type": "stream",
     "text": [
      "Epoch 1/10\n",
      "952/952 [==============================] - 97s 98ms/step - loss: 0.1796 - acc: 0.7495 - val_loss: 0.2582 - val_acc: 0.5722\n",
      "Epoch 2/10\n",
      "952/952 [==============================] - 86s 91ms/step - loss: 0.1629 - acc: 0.7760 - val_loss: 0.2488 - val_acc: 0.6078\n",
      "Epoch 3/10\n",
      "952/952 [==============================] - 87s 91ms/step - loss: 0.1534 - acc: 0.7914 - val_loss: 0.2354 - val_acc: 0.6311\n",
      "Epoch 4/10\n",
      "952/952 [==============================] - 90s 94ms/step - loss: 0.1465 - acc: 0.8007 - val_loss: 0.2372 - val_acc: 0.6363\n",
      "Epoch 5/10\n",
      "952/952 [==============================] - 86s 90ms/step - loss: 0.1408 - acc: 0.8101 - val_loss: 0.2354 - val_acc: 0.6396\n",
      "Epoch 6/10\n",
      "952/952 [==============================] - 88s 92ms/step - loss: 0.1356 - acc: 0.8176 - val_loss: 0.2382 - val_acc: 0.6441\n",
      "Epoch 7/10\n",
      "952/952 [==============================] - 87s 91ms/step - loss: 0.1311 - acc: 0.8239 - val_loss: 0.2354 - val_acc: 0.6574\n",
      "Epoch 8/10\n",
      "952/952 [==============================] - 90s 95ms/step - loss: 0.1273 - acc: 0.8306 - val_loss: 0.2394 - val_acc: 0.6574\n",
      "Epoch 9/10\n",
      "952/952 [==============================] - 88s 92ms/step - loss: 0.1234 - acc: 0.8359 - val_loss: 0.2418 - val_acc: 0.6568\n",
      "Epoch 10/10\n",
      "952/952 [==============================] - 85s 90ms/step - loss: 0.1200 - acc: 0.8415 - val_loss: 0.2424 - val_acc: 0.6562\n"
     ]
    }
   ],
   "source": [
    "model256.compile(loss='mse',\n",
    "              optimizer='Adam',\n",
    "              metrics=['acc'])\n",
    "history = model256.fit(x=[claim_train, evidence_train], y=y_train, batch_size=128, epochs=10, validation_data=([claim_val, evidence_val], y_val))"
   ]
  },
  {
   "cell_type": "markdown",
   "metadata": {},
   "source": [
    "### Save model"
   ]
  },
  {
   "cell_type": "code",
   "execution_count": 24,
   "metadata": {},
   "outputs": [],
   "source": [
    "def save_model(model, sentence_embedding_type=1, merge_type=1, dir='models'):\n",
    "    '''\n",
    "        Saves model naming it according to sentence embedding merge type and time stamp.\n",
    "    '''\n",
    "    now = datetime.now()\n",
    "    dt_string = now.strftime(\"%d_%m_%Y_%H:%M:%S\")\n",
    "    model_name = f'model_SE{sentence_embedding_type}_MT{merge_type}_{dt_string}'\n",
    "    path = f'{dir}/{model_name}'\n",
    "    model.save(path)\n"
   ]
  },
  {
   "cell_type": "code",
   "execution_count": 25,
   "metadata": {},
   "outputs": [
    {
     "name": "stderr",
     "output_type": "stream",
     "text": [
      "2021-12-02 09:22:11.314816: W tensorflow/python/util/util.cc:368] Sets are not currently considered sequences, but this may change in the future, so consider avoiding using them.\n",
      "WARNING:absl:Found untraced functions such as lstm_cell_6_layer_call_fn, lstm_cell_6_layer_call_and_return_conditional_losses, lstm_cell_7_layer_call_fn, lstm_cell_7_layer_call_and_return_conditional_losses, lstm_cell_6_layer_call_fn while saving (showing 5 of 10). These functions will not be directly callable after loading.\n"
     ]
    },
    {
     "name": "stdout",
     "output_type": "stream",
     "text": [
      "INFO:tensorflow:Assets written to: models/model_SE1_MT1_02_12_2021_09:22:05/assets\n"
     ]
    },
    {
     "name": "stderr",
     "output_type": "stream",
     "text": [
      "INFO:tensorflow:Assets written to: models/model_SE1_MT1_02_12_2021_09:22:05/assets\n",
      "WARNING:absl:<keras.layers.recurrent.LSTMCell object at 0x16fafb8b0> has the same name 'LSTMCell' as a built-in Keras object. Consider renaming <class 'keras.layers.recurrent.LSTMCell'> to avoid naming conflicts when loading with `tf.keras.models.load_model`. If renaming is not possible, pass the object in the `custom_objects` parameter of the load function.\n",
      "WARNING:absl:<keras.layers.recurrent.LSTMCell object at 0x16fb07e50> has the same name 'LSTMCell' as a built-in Keras object. Consider renaming <class 'keras.layers.recurrent.LSTMCell'> to avoid naming conflicts when loading with `tf.keras.models.load_model`. If renaming is not possible, pass the object in the `custom_objects` parameter of the load function.\n"
     ]
    }
   ],
   "source": [
    "save_model(model256, sentence_embedding_type, merge_type)"
   ]
  },
  {
   "cell_type": "markdown",
   "metadata": {},
   "source": [
    "### Prediction\n",
    "Calcualte the predictions for the test set"
   ]
  },
  {
   "cell_type": "code",
   "execution_count": 21,
   "metadata": {},
   "outputs": [],
   "source": [
    "def prediction(model: keras.Model, x, predicting_info):\n",
    "    '''Call the models prediction function'''\n",
    "    predictions = model.predict(x, **predicting_info)\n",
    "    return predictions"
   ]
  },
  {
   "cell_type": "code",
   "execution_count": 22,
   "metadata": {},
   "outputs": [],
   "source": [
    "predictions = prediction(model, [claim_test, evidence_test], {'batch_size': 100})\n",
    "predictions = np.rint(predictions)"
   ]
  },
  {
   "cell_type": "markdown",
   "metadata": {},
   "source": [
    "## Evaluation"
   ]
  },
  {
   "cell_type": "markdown",
   "metadata": {},
   "source": [
    "### Multi-input classification evaluation"
   ]
  },
  {
   "cell_type": "markdown",
   "metadata": {},
   "source": [
    "#### Defining plotting functions"
   ]
  },
  {
   "cell_type": "code",
   "execution_count": 32,
   "metadata": {},
   "outputs": [],
   "source": [
    "def plot_accuracy(model_callback):\n",
    "    plt.plot(model_callback.history['acc'])\n",
    "    plt.plot(model_callback.history['val_acc'])\n",
    "    plt.title('model accuracy')\n",
    "    plt.ylabel('accuracy')\n",
    "    plt.xlabel('epoch')\n",
    "    plt.legend(['train', 'val'], loc=\"lower right\")\n",
    "    plt.show()\n",
    "    \n",
    "def plot_loss(model_callback):\n",
    "    plt.plot(model_callback.history['loss'])\n",
    "    plt.plot(model_callback.history['val_loss'])\n",
    "    plt.title('model loss')\n",
    "    plt.ylabel('loss')\n",
    "    plt.xlabel('epoch')\n",
    "    plt.legend(['train', 'val'], loc=\"lower right\")\n",
    "    plt.show()\n",
    "    \n",
    "def plot_confusion_matrix(confusion_matrix):\n",
    "\n",
    "    ax = sns.heatmap(confusion_matrix, annot=True, cmap='Blues', fmt='d')\n",
    "\n",
    "    ax.set_title('Confusion Matrix\\n\\n')\n",
    "    ax.set_xlabel('\\nPredicted Values')\n",
    "    ax.set_ylabel('Actual Values ')\n",
    "\n",
    "    ## Ticket labels - List must be in alphabetical order\n",
    "    ax.xaxis.set_ticklabels(['False','True'])\n",
    "    ax.yaxis.set_ticklabels(['False','True'])\n",
    "\n",
    "    ## Display the visualization of the Confusion Matrix.\n",
    "    plt.show()"
   ]
  },
  {
   "cell_type": "code",
   "execution_count": 33,
   "metadata": {},
   "outputs": [
    {
     "data": {
      "image/png": "[encoded data removed]",
      "text/plain": [
       "<Figure size 432x288 with 1 Axes>"
      ]
     },
     "metadata": {
      "needs_background": "light"
     },
     "output_type": "display_data"
    },
    {
     "data": {
      "image/png": "[encoded data removed]",
      "text/plain": [
       "<Figure size 432x288 with 1 Axes>"
      ]
     },
     "metadata": {
      "needs_background": "light"
     },
     "output_type": "display_data"
    }
   ],
   "source": [
    "plot_accuracy(history)\n",
    "plot_loss(history)"
   ]
  },
  {
   "cell_type": "code",
   "execution_count": 34,
   "metadata": {},
   "outputs": [],
   "source": [
    "def evaluation(predictions):\n",
    "    '''\n",
    "        Function for plotting the confusion_matrix\n",
    "        Inputs:\n",
    "            predicitons: Predicitons from a keras model\n",
    "    '''\n",
    "    print(classification_report(y_test, predictions))\n",
    "    print(accuracy_score(y_test, predictions))\n",
    "    cf_matrix = confusion_matrix(y_test, predictions)\n",
    "    plot_confusion_matrix(cf_matrix)"
   ]
  },
  {
   "cell_type": "code",
   "execution_count": 35,
   "metadata": {},
   "outputs": [
    {
     "name": "stdout",
     "output_type": "stream",
     "text": [
      "              precision    recall  f1-score   support\n",
      "\n",
      "           0       0.72      0.51      0.60      3583\n",
      "           1       0.62      0.80      0.70      3606\n",
      "\n",
      "    accuracy                           0.66      7189\n",
      "   macro avg       0.67      0.66      0.65      7189\n",
      "weighted avg       0.67      0.66      0.65      7189\n",
      "\n",
      "0.6579496452914174\n"
     ]
    },
    {
     "data": {
      "image/png": "[encoded data removed]",
      "text/plain": [
       "<Figure size 432x288 with 2 Axes>"
      ]
     },
     "metadata": {
      "needs_background": "light"
     },
     "output_type": "display_data"
    }
   ],
   "source": [
    "evaluation(predictions)"
   ]
  },
  {
   "cell_type": "markdown",
   "metadata": {},
   "source": [
    "### Claim verification evaluation"
   ]
  },
  {
   "cell_type": "code",
   "execution_count": 36,
   "metadata": {},
   "outputs": [],
   "source": [
    "def make_claims_dict():\n",
    "    \"\"\"\n",
    "    Makes a dictionary with claimID as key and \n",
    "    a list of the index for every evidence \n",
    "    corresponding to the claim as value\n",
    "    \"\"\"\n",
    "    claims = {}\n",
    "    t = test_df.groupby(\"claimID\")\n",
    "    for name, group in t:\n",
    "        claims[name] = list(group.index)\n",
    "    return claims"
   ]
  },
  {
   "cell_type": "code",
   "execution_count": 37,
   "metadata": {},
   "outputs": [],
   "source": [
    "claims_dict = make_claims_dict()"
   ]
  },
  {
   "cell_type": "code",
   "execution_count": 38,
   "metadata": {},
   "outputs": [],
   "source": [
    "def majority_pred(predictions):\n",
    "    \"\"\"\n",
    "    Find predictions based on majority voting\n",
    "    \"\"\"\n",
    "    majority = []\n",
    "\n",
    "    for i in range(len(claim_test)):\n",
    "        claim_id = np.array(test_df['claimID'])[i]\n",
    "        support = 0\n",
    "        defutes = 0\n",
    "        for evidence in claims_dict[claim_id]:\n",
    "            if predictions[evidence] == 1:\n",
    "                support += 1\n",
    "            else:\n",
    "                defutes += 1\n",
    "        if support > defutes:\n",
    "            majority.append(1.0)\n",
    "        else:\n",
    "            majority.append(0.0)\n",
    "    return majority"
   ]
  },
  {
   "cell_type": "code",
   "execution_count": 39,
   "metadata": {},
   "outputs": [],
   "source": [
    "majority_predictions = majority_pred(predictions)"
   ]
  },
  {
   "cell_type": "code",
   "execution_count": 40,
   "metadata": {},
   "outputs": [
    {
     "name": "stdout",
     "output_type": "stream",
     "text": [
      "              precision    recall  f1-score   support\n",
      "\n",
      "           0       0.72      0.52      0.60      3583\n",
      "           1       0.63      0.79      0.70      3606\n",
      "\n",
      "    accuracy                           0.66      7189\n",
      "   macro avg       0.67      0.66      0.65      7189\n",
      "weighted avg       0.67      0.66      0.65      7189\n",
      "\n",
      "0.6582278481012658\n"
     ]
    },
    {
     "data": {
      "image/png": "[encoded data removed]",
      "text/plain": [
       "<Figure size 432x288 with 2 Axes>"
      ]
     },
     "metadata": {
      "needs_background": "light"
     },
     "output_type": "display_data"
    }
   ],
   "source": [
    "evaluation(majority_predictions)"
   ]
  }
 ],
 "metadata": {
  "interpreter": {
   "hash": "31f2aee4e71d21fbe5cf8b01ff0e069b9275f58929596ceb00d14d90e3e16cd6"
  },
  "kernelspec": {
   "display_name": "Python 3",
   "language": "python",
   "name": "python3"
  },
  "language_info": {
   "codemirror_mode": {
    "name": "ipython",
    "version": 3
   },
   "file_extension": ".py",
   "mimetype": "text/x-python",
   "name": "python",
   "nbconvert_exporter": "python",
   "pygments_lexer": "ipython3",
   "version": "3.9.4"
  }
 },
 "nbformat": 4,
 "nbformat_minor": 2
}
