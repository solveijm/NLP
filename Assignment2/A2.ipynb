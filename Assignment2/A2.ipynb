{
 "cells": [
  {
   "cell_type": "markdown",
   "metadata": {},
   "source": [
    "### Import libraries"
   ]
  },
  {
   "cell_type": "code",
   "execution_count": 16,
   "metadata": {},
   "outputs": [],
   "source": [
    "from datetime import datetime\n",
    "import keras\n",
    "from keras import backend as K\n",
    "from keras.layers import Concatenate, Lambda, LSTM, Reshape, Dense, Embedding, Average, Reshape, Flatten, Input\n",
    "from keras.models import Model \n",
    "from keras.preprocessing.sequence import pad_sequences\n",
    "from keras.preprocessing.text import Tokenizer\n",
    "import numpy as np\n",
    "import matplotlib.pyplot as plt\n",
    "import os\n",
    "import pandas as pd\n",
    "import requests\n",
    "import seaborn as sns\n",
    "from sklearn.metrics import accuracy_score, classification_report, confusion_matrix\n",
    "import tensorflow as tf\n",
    "import zipfile"
   ]
  },
  {
   "cell_type": "markdown",
   "metadata": {},
   "source": [
    "### Download dataset\n",
    "Downloading the dataset using the function provided in the assignment"
   ]
  },
  {
   "cell_type": "code",
   "execution_count": 3,
   "metadata": {},
   "outputs": [],
   "source": [
    "def save_response_content(response, destination):\n",
    "    CHUNK_SIZE = 32768\n",
    "\n",
    "    with open(destination, \"wb\") as f:\n",
    "        for chunk in response.iter_content(CHUNK_SIZE):\n",
    "            if chunk: # filter out keep-alive new chunks\n",
    "                f.write(chunk)\n",
    "\n",
    "def download_data(data_path):\n",
    "    toy_data_path = os.path.join(data_path, 'fever_data.zip')\n",
    "    toy_data_url_id = \"1wArZhF9_SHW17WKNGeLmX-QTYw9Zscl1\"\n",
    "    toy_url = \"https://docs.google.com/uc?export=download\"\n",
    "\n",
    "    if not os.path.exists(data_path):\n",
    "        os.makedirs(data_path)\n",
    "\n",
    "    if not os.path.exists(toy_data_path):\n",
    "        print(\"Downloading FEVER data splits...\")\n",
    "        with requests.Session() as current_session:\n",
    "            response = current_session.get(toy_url,\n",
    "                                   params={'id': toy_data_url_id},\n",
    "                                   stream=True)\n",
    "        save_response_content(response, toy_data_path)\n",
    "        print(\"Download completed!\")\n",
    "\n",
    "        print(\"Extracting dataset...\")\n",
    "        with zipfile.ZipFile(toy_data_path) as loaded_zip:\n",
    "            loaded_zip.extractall(data_path)\n",
    "        print(\"Extraction completed!\")\n",
    "\n",
    "# Uncomment if you need to dowload the dataset\n",
    "#download_data('dataset')"
   ]
  },
  {
   "cell_type": "markdown",
   "metadata": {},
   "source": [
    "### Preprocessing data\n",
    "We are preprosseing like this.... FILL OUT"
   ]
  },
  {
   "cell_type": "markdown",
   "metadata": {},
   "source": [
    "#### Create dataframes"
   ]
  },
  {
   "cell_type": "code",
   "execution_count": 4,
   "metadata": {},
   "outputs": [],
   "source": [
    "#create a dataframe for the training data \n",
    "train_df = pd.read_csv('./dataset/train_pairs.csv', skipinitialspace=True, usecols=[\"Claim\",\"Evidence\",\"ID\",\"Label\"]).rename(columns={\"ID\": \"claimID\"})\n",
    "\n",
    "#create a dataframe for the validation data \n",
    "val_df = pd.read_csv('./dataset/val_pairs.csv', skipinitialspace=True, usecols=[\"Claim\",\"Evidence\",\"ID\",\"Label\"]).rename(columns={\"ID\": \"claimID\"})\n",
    "\n",
    "#create a dataframe for the test data \n",
    "test_df = pd.read_csv('./dataset/test_pairs.csv', skipinitialspace=True, usecols=[\"Claim\",\"Evidence\",\"ID\",\"Label\"]).rename(columns={\"ID\": \"claimID\"})"
   ]
  },
  {
   "cell_type": "markdown",
   "metadata": {},
   "source": [
    "#### Clean text data"
   ]
  },
  {
   "cell_type": "code",
   "execution_count": 5,
   "metadata": {},
   "outputs": [
    {
     "data": {
      "text/plain": [
       "'train_df = pd.read_csv(\\'./dataset/train_pairs.csv\\', skipinitialspace=True, usecols=[\"Claim\",\"Evidence\",\"ID\",\"Label\"]).rename(columns={\"ID\": \"claimID\"})\\ntrain_df[\"Evidence\"] = train_df[\"Evidence\"].str.split(pat = \"\\t\")\\ntrain_df[\"evidenceID\"]=train_df[\"Evidence\"].str[0]\\ntrain_df[\"Evidence\"]=train_df[\"Evidence\"].str[1]\\ntrain_df[\"Label\"] = train_df[\"Label\"].replace({\\'SUPPORTS\\': 1, \\'REFUTES\\': 0})\\n\\ntrain_df'"
      ]
     },
     "execution_count": 5,
     "metadata": {},
     "output_type": "execute_result"
    }
   ],
   "source": [
    "\n",
    "\"\"\"train_df = pd.read_csv('./dataset/train_pairs.csv', skipinitialspace=True, usecols=[\"Claim\",\"Evidence\",\"ID\",\"Label\"]).rename(columns={\"ID\": \"claimID\"})\n",
    "train_df[\"Evidence\"] = train_df[\"Evidence\"].str.split(pat = \"\\t\")\n",
    "train_df[\"evidenceID\"]=train_df[\"Evidence\"].str[0]\n",
    "train_df[\"Evidence\"]=train_df[\"Evidence\"].str[1]\n",
    "train_df[\"Label\"] = train_df[\"Label\"].replace({'SUPPORTS': 1, 'REFUTES': 0})\n",
    "\n",
    "train_df\"\"\""
   ]
  },
  {
   "cell_type": "markdown",
   "metadata": {},
   "source": [
    "#### Extract y values for train, val and test"
   ]
  },
  {
   "cell_type": "code",
   "execution_count": 6,
   "metadata": {},
   "outputs": [],
   "source": [
    "y_train = np.array(train_df['Label'])\n",
    "y_val = np.array(val_df['Label'])\n",
    "y_test = np.array(test_df['Label'])"
   ]
  },
  {
   "cell_type": "markdown",
   "metadata": {},
   "source": [
    "### Tokenize and padding of data"
   ]
  },
  {
   "cell_type": "code",
   "execution_count": 7,
   "metadata": {},
   "outputs": [],
   "source": [
    "# The tokenizer will have an index 1 for OOV words. A lot of words in test and val will be 1.\n",
    "tokenizer = Tokenizer(oov_token=1)\n",
    "\n",
    "tokenizer.fit_on_texts(train_df[\"Claim\"])\n",
    "tokenizer.fit_on_texts(train_df[\"Evidence\"])"
   ]
  },
  {
   "cell_type": "code",
   "execution_count": 8,
   "metadata": {},
   "outputs": [],
   "source": [
    "# Find max sentence lenght for evidence\n",
    "MAX_SEQ_LEN = np.max([len(text.split()) for text in train_df[\"Evidence\"]])"
   ]
  },
  {
   "cell_type": "code",
   "execution_count": 9,
   "metadata": {},
   "outputs": [],
   "source": [
    "def textToTensor(tokenizer, max_len, text):\n",
    "    '''\n",
    "        Converts text to tensors by converting the words into the correct indexes. \n",
    "        Then padds the tensors with 0 vlaues\n",
    "    '''\n",
    "    seq = tokenizer.texts_to_sequences(text)\n",
    "    padded = pad_sequences(sequences=seq, maxlen=max_len)\n",
    "    return padded"
   ]
  },
  {
   "cell_type": "code",
   "execution_count": 10,
   "metadata": {},
   "outputs": [],
   "source": [
    "claim_train = textToTensor(tokenizer, MAX_SEQ_LEN, train_df[\"Claim\"])\n",
    "evidence_train = textToTensor(tokenizer, MAX_SEQ_LEN, train_df[\"Evidence\"])\n",
    "\n",
    "claim_val = textToTensor(tokenizer, MAX_SEQ_LEN, val_df[\"Claim\"])\n",
    "evidence_val = textToTensor(tokenizer, MAX_SEQ_LEN, val_df[\"Evidence\"])\n",
    "\n",
    "claim_test = textToTensor(tokenizer, MAX_SEQ_LEN, test_df[\"Claim\"])\n",
    "evidence_test = textToTensor(tokenizer, MAX_SEQ_LEN, test_df[\"Evidence\"])"
   ]
  },
  {
   "cell_type": "code",
   "execution_count": 11,
   "metadata": {},
   "outputs": [],
   "source": [
    "# Find size of vocabulary\n",
    "VOCABULARY_SIZE = len(tokenizer.word_index) + 1"
   ]
  },
  {
   "cell_type": "markdown",
   "metadata": {},
   "source": [
    "#### Convert lables into integers"
   ]
  },
  {
   "cell_type": "code",
   "execution_count": 12,
   "metadata": {},
   "outputs": [],
   "source": [
    "y_train = np.array([1 if x=='SUPPORTS' else 0 for x in train_df[\"Label\"]])\n",
    "y_val = np.array([1 if x=='SUPPORTS' else 0 for x in val_df[\"Label\"]])\n",
    "y_test = np.array([1 if x=='SUPPORTS' else 0 for x in test_df[\"Label\"]])"
   ]
  },
  {
   "cell_type": "markdown",
   "metadata": {},
   "source": [
    "### Create model"
   ]
  },
  {
   "cell_type": "code",
   "execution_count": 13,
   "metadata": {},
   "outputs": [],
   "source": [
    "def create_model(max_tokens, vocab_size, embedding_dimension, sentence_embedding_type=1, merge_type=1):\n",
    "    '''\n",
    "        Creates keras model for classification.\n",
    "        Inputs: \n",
    "            max_tokens (int): Max length of a text sequence\n",
    "            vocab_size (int): Size of the vocabulary\n",
    "            embedding_dimension (int): The dimention of the embedding vectors\n",
    "            sentence_embedding_type (int): Defines which sentence embedding to use\n",
    "            merge_type (int): Defines which merging function to use\n",
    "    '''   \n",
    "\n",
    "    #-------------------------- Input layer ------------------------------------------------------------\n",
    "    claims_input = Input(shape=(max_tokens, ))\n",
    "    evidence_input = Input(shape=(max_tokens, ))\n",
    "    #-----------------------------------------------------------------------------------------------------\n",
    "\n",
    "    #-------------------------- Word embedding ------------------------------------------------------------\n",
    "    claims_embedding = Embedding(vocab_size, embedding_dimension, name='WordEmbedding_claims')(claims_input)\n",
    "    evidence_embedding = Embedding(vocab_size, embedding_dimension, name='WordEmbedding_evidence')(evidence_input)\n",
    "    #-----------------------------------------------------------------------------------------------------\n",
    "\n",
    "    #-------------------------- Sentence embedding -------------------------------------------------------\n",
    "    if sentence_embedding_type==1:\n",
    "        # Encode token sequences via a RNN and take the last state as the sentence embedding.\n",
    "        claims_sentence_embedding = LSTM(embedding_dimension, return_sequences=False, name='SentenceEmbedding_claims')(claims_embedding)\n",
    "        evidence_sentence_embedding = LSTM(embedding_dimension, return_sequences=False, name='SentenceEmbedding_evidence')(evidence_embedding)\n",
    "    elif sentence_embedding_type==2:\n",
    "        # Encode token sequences via a RNN and average all the output states.\n",
    "\n",
    "        # Put return_sequences True to get output from all hidden states\n",
    "        claims_sentence_embedding = LSTM(embedding_dimension, return_sequences=True, name='SentenceEmbedding_claims')(claims_embedding)\n",
    "        evidence_sentence_embedding = LSTM(embedding_dimension, return_sequences=True, name='SentenceEmbedding_evidence')(evidence_embedding)\n",
    "        \n",
    "        # Take average of outputs\n",
    "        claims_sentence_embedding = K.mean(claims_sentence_embedding, axis=1)\n",
    "        evidence_sentence_embedding = K.mean(evidence_sentence_embedding, axis=1)\n",
    "\n",
    "    elif sentence_embedding_type==3:\n",
    "        # Encode token sequences via a simple MLP layer.\n",
    "        num = embedding_dimension*max_tokens\n",
    "        # Reshape 3d vector to 2d\n",
    "        claims_sentence_embedding = Reshape((num,), input_shape=(max_tokens, embedding_dimension))(claims_embedding)\n",
    "        evidence_sentence_embedding = Reshape((num,), input_shape=(max_tokens, embedding_dimension))(evidence_embedding)\n",
    "\n",
    "        # Send into dense layer\n",
    "        claims_sentence_embedding = Dense(num, name='SentenceEmbedding_claims')(claims_sentence_embedding)\n",
    "        evidence_sentence_embedding = Dense(num, name='SentenceEmbedding_evidence')(evidence_sentence_embedding)\n",
    "   \n",
    "    elif sentence_embedding_type==4:\n",
    "        # Compute the sentence embedding as the mean of its token embeddings (bag of vectors).\n",
    "        claims_sentence_embedding = K.mean(claims_embedding, axis=1)\n",
    "        evidence_sentence_embedding = K.mean(evidence_embedding, axis=1)\n",
    "    else:\n",
    "        raise Exception(\"Sentence embedding type must be an integer between 1 and 4\")\n",
    "    #------------------------------------------------------------------------------------------------------------\n",
    "    \n",
    "\n",
    "    #-------------------------- Extension with cosine similarity -----------------------------------------------\n",
    "    # Calulate cosine similarity\n",
    "    # Returns list of cosine similarities for each evidence claim pair\n",
    "    cosine_loss = tf.keras.losses.CosineSimilarity(axis=-1, reduction=tf.keras.losses.Reduction.NONE)\n",
    "    cosine_similarity = cosine_loss(claims_sentence_embedding, evidence_sentence_embedding)\n",
    "\n",
    "    # Expand dimention to get tensor on shape (embedding_dimension, 1)\n",
    "    cosine_similarity = Lambda(lambda x: K.expand_dims(x, axis=1))(cosine_similarity)\n",
    "\n",
    "    # Concatenate tensors and get them on shape (batch_size, embedding_dim + 1)\n",
    "    claims_sentence_embedding = Concatenate(axis=-1)([claims_sentence_embedding, cosine_similarity])\n",
    "    evidence_sentence_embedding = Concatenate(axis=-1)([evidence_sentence_embedding, cosine_similarity])\n",
    "    #------------------------------------------------------------------------------------------------------------\n",
    "\n",
    "    #------------------------------------- Merging --------------------------------------------------------------\n",
    "    if merge_type == 1:\n",
    "        # Concatenate\n",
    "        merged = Concatenate(axis=1)([claims_sentence_embedding, evidence_sentence_embedding])\n",
    "    elif merge_type == 2:\n",
    "        # Sum\n",
    "        merged = Add([claims_sentence_embedding, evidence_sentence_embedding])\n",
    "    elif merge_type == 3:\n",
    "        # Mean\n",
    "        merged = Average(axis=1)([claims_sentence_embedding, evidence_sentence_embedding])\n",
    "    else:\n",
    "        raise Exception(\"Merge type must be an integer between 1 and 3\")\n",
    "    #------------------------------------------------------------------------------------------------------------\n",
    "\n",
    "    #------------------------------------- Classification --------------------------------------------------------------\n",
    "    out = (Dense(1, activation='sigmoid'))(merged)\n",
    "    #------------------------------------------------------------------------------------------------------------\n",
    "\n",
    "    model = Model(inputs=[claims_input, evidence_input], outputs=[out])\n",
    "\n",
    "    return model"
   ]
  },
  {
   "cell_type": "markdown",
   "metadata": {},
   "source": [
    "#### Create model with sentence embedding #1 and merging #1"
   ]
  },
  {
   "cell_type": "code",
   "execution_count": 14,
   "metadata": {
    "scrolled": false
   },
   "outputs": [
    {
     "name": "stderr",
     "output_type": "stream",
     "text": [
      "2021-11-29 16:09:58.703172: I tensorflow/core/platform/cpu_feature_guard.cc:151] This TensorFlow binary is optimized with oneAPI Deep Neural Network Library (oneDNN) to use the following CPU instructions in performance-critical operations:  AVX2 FMA\n",
      "To enable them in other operations, rebuild TensorFlow with the appropriate compiler flags.\n"
     ]
    },
    {
     "name": "stdout",
     "output_type": "stream",
     "text": [
      "Model: \"model\"\n",
      "__________________________________________________________________________________________________\n",
      " Layer (type)                   Output Shape         Param #     Connected to                     \n",
      "==================================================================================================\n",
      " input_1 (InputLayer)           [(None, 237)]        0           []                               \n",
      "                                                                                                  \n",
      " input_2 (InputLayer)           [(None, 237)]        0           []                               \n",
      "                                                                                                  \n",
      " WordEmbedding_claims (Embeddin  (None, 237, 50)     1790000     ['input_1[0][0]']                \n",
      " g)                                                                                               \n",
      "                                                                                                  \n",
      " WordEmbedding_evidence (Embedd  (None, 237, 50)     1790000     ['input_2[0][0]']                \n",
      " ing)                                                                                             \n",
      "                                                                                                  \n",
      " SentenceEmbedding_claims (LSTM  (None, 50)          20200       ['WordEmbedding_claims[0][0]']   \n",
      " )                                                                                                \n",
      "                                                                                                  \n",
      " SentenceEmbedding_evidence (LS  (None, 50)          20200       ['WordEmbedding_evidence[0][0]'] \n",
      " TM)                                                                                              \n",
      "                                                                                                  \n",
      " tf.convert_to_tensor_1 (TFOpLa  (None, 50)          0           ['SentenceEmbedding_claims[0][0]'\n",
      " mbda)                                                           ]                                \n",
      "                                                                                                  \n",
      " tf.convert_to_tensor (TFOpLamb  (None, 50)          0           ['SentenceEmbedding_evidence[0][0\n",
      " da)                                                             ]']                              \n",
      "                                                                                                  \n",
      " tf.math.l2_normalize (TFOpLamb  (None, 50)          0           ['tf.convert_to_tensor_1[0][0]'] \n",
      " da)                                                                                              \n",
      "                                                                                                  \n",
      " tf.math.l2_normalize_1 (TFOpLa  (None, 50)          0           ['tf.convert_to_tensor[0][0]']   \n",
      " mbda)                                                                                            \n",
      "                                                                                                  \n",
      " tf.math.multiply (TFOpLambda)  (None, 50)           0           ['tf.math.l2_normalize[0][0]',   \n",
      "                                                                  'tf.math.l2_normalize_1[0][0]'] \n",
      "                                                                                                  \n",
      " tf.math.reduce_sum (TFOpLambda  (None,)             0           ['tf.math.multiply[0][0]']       \n",
      " )                                                                                                \n",
      "                                                                                                  \n",
      " tf.math.negative (TFOpLambda)  (None,)              0           ['tf.math.reduce_sum[0][0]']     \n",
      "                                                                                                  \n",
      " tf.cast (TFOpLambda)           (None,)              0           ['tf.math.negative[0][0]']       \n",
      "                                                                                                  \n",
      " tf.math.multiply_1 (TFOpLambda  (None,)             0           ['tf.cast[0][0]']                \n",
      " )                                                                                                \n",
      "                                                                                                  \n",
      " tf.cast_1 (TFOpLambda)         (None,)              0           ['tf.math.multiply_1[0][0]']     \n",
      "                                                                                                  \n",
      " lambda (Lambda)                (None, 1)            0           ['tf.cast_1[0][0]']              \n",
      "                                                                                                  \n",
      " concatenate (Concatenate)      (None, 51)           0           ['SentenceEmbedding_claims[0][0]'\n",
      "                                                                 , 'lambda[0][0]']                \n",
      "                                                                                                  \n",
      " concatenate_1 (Concatenate)    (None, 51)           0           ['SentenceEmbedding_evidence[0][0\n",
      "                                                                 ]',                              \n",
      "                                                                  'lambda[0][0]']                 \n",
      "                                                                                                  \n",
      " concatenate_2 (Concatenate)    (None, 102)          0           ['concatenate[0][0]',            \n",
      "                                                                  'concatenate_1[0][0]']          \n",
      "                                                                                                  \n",
      " dense (Dense)                  (None, 1)            103         ['concatenate_2[0][0]']          \n",
      "                                                                                                  \n",
      "==================================================================================================\n",
      "Total params: 3,620,503\n",
      "Trainable params: 3,620,503\n",
      "Non-trainable params: 0\n",
      "__________________________________________________________________________________________________\n"
     ]
    }
   ],
   "source": [
    "model = create_model(MAX_SEQ_LEN, VOCABULARY_SIZE, 50)\n",
    "model.summary()"
   ]
  },
  {
   "cell_type": "markdown",
   "metadata": {},
   "source": [
    "### Train model"
   ]
  },
  {
   "cell_type": "code",
   "execution_count": 18,
   "metadata": {},
   "outputs": [
    {
     "name": "stdout",
     "output_type": "stream",
     "text": [
      "Epoch 1/10\n",
      "1218/1218 [==============================] - 306s 249ms/step - loss: 0.1323 - acc: 0.8241 - val_loss: 0.1845 - val_acc: 0.7244\n",
      "Epoch 2/10\n",
      "1218/1218 [==============================] - 307s 252ms/step - loss: 0.0985 - acc: 0.8672 - val_loss: 0.1806 - val_acc: 0.7352\n",
      "Epoch 3/10\n",
      "1218/1218 [==============================] - 320s 263ms/step - loss: 0.0819 - acc: 0.8911 - val_loss: 0.1893 - val_acc: 0.7344\n",
      "Epoch 4/10\n",
      " 775/1218 [==================>...........] - ETA: 1:57 - loss: 0.0668 - acc: 0.9134"
     ]
    }
   ],
   "source": [
    "model.compile(loss='mse',\n",
    "              optimizer='Adam',\n",
    "              metrics=['acc'])\n",
    "history = model.fit(x=[claim_train, evidence_train], y=y_train, batch_size=100, epochs=10, validation_data=([claim_val, evidence_val], y_val))"
   ]
  },
  {
   "cell_type": "markdown",
   "metadata": {},
   "source": [
    "### Save model"
   ]
  },
  {
   "cell_type": "code",
   "execution_count": 25,
   "metadata": {},
   "outputs": [],
   "source": [
    "def save_model(model, sentence_embedding_type=1, merge_type=1, dir='models'):\n",
    "    '''\n",
    "        Saves model naming it according to sentence embedding merge type and time stamp.\n",
    "    '''\n",
    "    now = datetime.now()\n",
    "    dt_string = now.strftime(\"%d_%m_%Y_%H:%M:%S\")\n",
    "    model_name = f'model_SE{sentence_embedding_type}_MT{merge_type}_{dt_string}'\n",
    "    path = f'{dir}/{model_name}'\n",
    "    model.save(path)\n"
   ]
  },
  {
   "cell_type": "code",
   "execution_count": 26,
   "metadata": {},
   "outputs": [
    {
     "name": "stdout",
     "output_type": "stream",
     "text": [
      "WARNING:tensorflow:Compiled the loaded model, but the compiled metrics have yet to be built. `model.compile_metrics` will be empty until you train or evaluate the model.\n"
     ]
    },
    {
     "name": "stderr",
     "output_type": "stream",
     "text": [
      "WARNING:tensorflow:Compiled the loaded model, but the compiled metrics have yet to be built. `model.compile_metrics` will be empty until you train or evaluate the model.\n",
      "WARNING:absl:Found untraced functions such as lstm_cell_layer_call_fn, lstm_cell_layer_call_and_return_conditional_losses, lstm_cell_1_layer_call_fn, lstm_cell_1_layer_call_and_return_conditional_losses, lstm_cell_layer_call_fn while saving (showing 5 of 10). These functions will not be directly callable after loading.\n"
     ]
    },
    {
     "name": "stdout",
     "output_type": "stream",
     "text": [
      "INFO:tensorflow:Assets written to: models/model_SE1_MT1_29_11_2021_16:28:38/assets\n"
     ]
    },
    {
     "name": "stderr",
     "output_type": "stream",
     "text": [
      "INFO:tensorflow:Assets written to: models/model_SE1_MT1_29_11_2021_16:28:38/assets\n",
      "WARNING:absl:<keras.layers.recurrent.LSTMCell object at 0x16a13ef10> has the same name 'LSTMCell' as a built-in Keras object. Consider renaming <class 'keras.layers.recurrent.LSTMCell'> to avoid naming conflicts when loading with `tf.keras.models.load_model`. If renaming is not possible, pass the object in the `custom_objects` parameter of the load function.\n",
      "WARNING:absl:<keras.layers.recurrent.LSTMCell object at 0x16c0e2550> has the same name 'LSTMCell' as a built-in Keras object. Consider renaming <class 'keras.layers.recurrent.LSTMCell'> to avoid naming conflicts when loading with `tf.keras.models.load_model`. If renaming is not possible, pass the object in the `custom_objects` parameter of the load function.\n"
     ]
    }
   ],
   "source": [
    "save_model(model, 1, 1)"
   ]
  },
  {
   "cell_type": "markdown",
   "metadata": {},
   "source": [
    "### Prediction\n",
    "Calcualte the predictions for the test set"
   ]
  },
  {
   "cell_type": "code",
   "execution_count": null,
   "metadata": {},
   "outputs": [],
   "source": [
    "def prediction(model: keras.Model, x, predicting_info):\n",
    "    '''Call the models prediction function'''\n",
    "    predictions = model.predict(x, **predicting_info)\n",
    "    return predictions"
   ]
  },
  {
   "cell_type": "code",
   "execution_count": null,
   "metadata": {},
   "outputs": [],
   "source": [
    "predictions = prediction(model, [claim_test, evidence_test], {'batch_size': 100})\n",
    "predictions = np.rint(predictions)"
   ]
  },
  {
   "cell_type": "markdown",
   "metadata": {},
   "source": [
    "## Evaluation"
   ]
  },
  {
   "cell_type": "markdown",
   "metadata": {},
   "source": [
    "### Multi-input classification evaluation"
   ]
  },
  {
   "cell_type": "markdown",
   "metadata": {},
   "source": [
    "#### Defining plotting functions"
   ]
  },
  {
   "cell_type": "code",
   "execution_count": null,
   "metadata": {},
   "outputs": [],
   "source": [
    "def plot_accuracy(model_callback):\n",
    "    plt.plot(model_callback.history['acc'])\n",
    "    plt.plot(model_callback.history['val_acc'])\n",
    "    plt.title('model accuracy')\n",
    "    plt.ylabel('accuracy')\n",
    "    plt.xlabel('epoch')\n",
    "    plt.legend(['train', 'val'], loc=\"lower right\")\n",
    "    plt.show()\n",
    "    \n",
    "def plot_loss(model_callback):\n",
    "    plt.plot(model_callback.history['loss'])\n",
    "    plt.plot(model_callback.history['val_loss'])\n",
    "    plt.title('model loss')\n",
    "    plt.ylabel('loss')\n",
    "    plt.xlabel('epoch')\n",
    "    plt.legend(['train', 'val'], loc=\"lower right\")\n",
    "    plt.show()\n",
    "    \n",
    "def plot_confusion_matrix(confusion_matrix):\n",
    "\n",
    "    ax = sns.heatmap(confusion_matrix, annot=True, cmap='Blues', fmt='d')\n",
    "\n",
    "    ax.set_title('Confusion Matrix\\n\\n');\n",
    "    ax.set_xlabel('\\nPredicted Values')\n",
    "    ax.set_ylabel('Actual Values ');\n",
    "\n",
    "    ## Ticket labels - List must be in alphabetical order\n",
    "    ax.xaxis.set_ticklabels(['False','True'])\n",
    "    ax.yaxis.set_ticklabels(['False','True'])\n",
    "\n",
    "    ## Display the visualization of the Confusion Matrix.\n",
    "    plt.show()"
   ]
  },
  {
   "cell_type": "code",
   "execution_count": null,
   "metadata": {},
   "outputs": [
    {
     "data": {
      "image/png": "[encoded data removed]",
      "text/plain": [
       "<Figure size 432x288 with 1 Axes>"
      ]
     },
     "metadata": {
      "needs_background": "light"
     },
     "output_type": "display_data"
    },
    {
     "data": {
      "image/png": "[encoded data removed]",
      "text/plain": [
       "<Figure size 432x288 with 1 Axes>"
      ]
     },
     "metadata": {
      "needs_background": "light"
     },
     "output_type": "display_data"
    }
   ],
   "source": [
    "plot_accuracy(history)\n",
    "plot_loss(history)"
   ]
  },
  {
   "cell_type": "code",
   "execution_count": 27,
   "metadata": {},
   "outputs": [],
   "source": [
    "def evaluation(predictions):\n",
    "    '''\n",
    "        Function for plotting the confusion_matrix\n",
    "        Inputs:\n",
    "            predicitons: Predicitons from a keras model\n",
    "    '''\n",
    "    print(classification_report(y_test, predictions))\n",
    "    print(accuracy_score(y_test, predictions))\n",
    "    cf_matrix = confusion_matrix(y_test, predictions)\n",
    "    plot_confusion_matrix(cf_matrix)"
   ]
  },
  {
   "cell_type": "code",
   "execution_count": 28,
   "metadata": {},
   "outputs": [
    {
     "ename": "NameError",
     "evalue": "name 'predictions' is not defined",
     "output_type": "error",
     "traceback": [
      "\u001b[0;31m---------------------------------------------------------------------------\u001b[0m",
      "\u001b[0;31mNameError\u001b[0m                                 Traceback (most recent call last)",
      "\u001b[0;32m/var/folders/t4/vnxj6kkj2n97knry5lnrscx00000gn/T/ipykernel_33576/1094818795.py\u001b[0m in \u001b[0;36m<module>\u001b[0;34m\u001b[0m\n\u001b[0;32m----> 1\u001b[0;31m \u001b[0mevaluation\u001b[0m\u001b[0;34m(\u001b[0m\u001b[0mpredictions\u001b[0m\u001b[0;34m)\u001b[0m\u001b[0;34m\u001b[0m\u001b[0;34m\u001b[0m\u001b[0m\n\u001b[0m",
      "\u001b[0;31mNameError\u001b[0m: name 'predictions' is not defined"
     ]
    }
   ],
   "source": [
    "evaluation(predictions)"
   ]
  },
  {
   "cell_type": "markdown",
   "metadata": {},
   "source": [
    "### Claim verification evaluation"
   ]
  },
  {
   "cell_type": "code",
   "execution_count": null,
   "metadata": {},
   "outputs": [],
   "source": [
    "def make_claims_dict():\n",
    "    \"\"\"\n",
    "    Makes a dictionary with claimID as key and \n",
    "    a list of the index for every evidence \n",
    "    corresponding to the claim as value\n",
    "    \"\"\"\n",
    "    claims = {}\n",
    "    t = test_df.groupby(\"claimID\")\n",
    "    for name, group in t:\n",
    "        claims[name] = list(group.index)\n",
    "    return claims"
   ]
  },
  {
   "cell_type": "code",
   "execution_count": null,
   "metadata": {},
   "outputs": [],
   "source": [
    "claims_dict = make_claims_dict()"
   ]
  },
  {
   "cell_type": "code",
   "execution_count": null,
   "metadata": {},
   "outputs": [],
   "source": [
    "def majority_pred(predictions):\n",
    "    \"\"\"\n",
    "    Find predictions based on majority voting\n",
    "    \"\"\"\n",
    "    majority = []\n",
    "\n",
    "    for i in range(len(claim_test)):\n",
    "        claim_id = np.array(test_df['claimID'])[i]\n",
    "        support = 0\n",
    "        defutes = 0\n",
    "        for evidence in claims_dict[claim_id]:\n",
    "            if predictions[evidence] == 1:\n",
    "                support += 1\n",
    "            else:\n",
    "                defutes += 1\n",
    "        if support > defutes:\n",
    "            majority.append(1.0)\n",
    "        else:\n",
    "            majority.append(0.0)\n",
    "    return majority"
   ]
  },
  {
   "cell_type": "code",
   "execution_count": null,
   "metadata": {},
   "outputs": [],
   "source": [
    "majority_predictions = majority_pred(predictions)"
   ]
  },
  {
   "cell_type": "code",
   "execution_count": null,
   "metadata": {},
   "outputs": [
    {
     "name": "stdout",
     "output_type": "stream",
     "text": [
      "              precision    recall  f1-score   support\n",
      "\n",
      "           0       0.76      0.62      0.69      3583\n",
      "           1       0.68      0.81      0.74      3606\n",
      "\n",
      "    accuracy                           0.72      7189\n",
      "   macro avg       0.72      0.72      0.71      7189\n",
      "weighted avg       0.72      0.72      0.71      7189\n",
      "\n",
      "0.715537626930032\n"
     ]
    },
    {
     "data": {
      "image/png": "[encoded data removed]",
      "text/plain": [
       "<Figure size 432x288 with 2 Axes>"
      ]
     },
     "metadata": {
      "needs_background": "light"
     },
     "output_type": "display_data"
    }
   ],
   "source": [
    "evaluation(majority_predictions)"
   ]
  },
  {
   "cell_type": "code",
   "execution_count": null,
   "metadata": {},
   "outputs": [],
   "source": []
  }
 ],
 "metadata": {
  "interpreter": {
   "hash": "31f2aee4e71d21fbe5cf8b01ff0e069b9275f58929596ceb00d14d90e3e16cd6"
  },
  "kernelspec": {
   "display_name": "Python 3",
   "language": "python",
   "name": "python3"
  },
  "language_info": {
   "codemirror_mode": {
    "name": "ipython",
    "version": 3
   },
   "file_extension": ".py",
   "mimetype": "text/x-python",
   "name": "python",
   "nbconvert_exporter": "python",
   "pygments_lexer": "ipython3",
   "version": "3.9.4"
  }
 },
 "nbformat": 4,
 "nbformat_minor": 2
}
