{
 "cells": [
  {
   "cell_type": "markdown",
   "metadata": {},
   "source": [
    "### Import libraries"
   ]
  },
  {
   "cell_type": "code",
   "execution_count": 1,
   "metadata": {},
   "outputs": [],
   "source": [
    "from datetime import datetime\n",
    "import keras\n",
    "from keras import backend as K\n",
    "from keras.layers import Concatenate, Lambda, LSTM, Reshape, Dense, Embedding, Average, Reshape, Flatten, Input\n",
    "from keras.models import Model \n",
    "from keras.preprocessing.sequence import pad_sequences\n",
    "from keras.preprocessing.text import Tokenizer\n",
    "import numpy as np\n",
    "import matplotlib.pyplot as plt\n",
    "import os\n",
    "import pandas as pd\n",
    "import requests\n",
    "import seaborn as sns\n",
    "from sklearn.metrics import accuracy_score, classification_report, confusion_matrix\n",
    "import tensorflow as tf\n",
    "import zipfile\n",
    "\n",
    "import re\n",
    "from functools import reduce\n",
    "import nltk\n",
    "from nltk.corpus import stopwords\n",
    "from typing import List, Callable, Dict\n",
    "from nltk.stem import WordNetLemmatizer"
   ]
  },
  {
   "cell_type": "markdown",
   "metadata": {},
   "source": [
    "### Download dataset\n",
    "Downloading the dataset using the function provided in the assignment"
   ]
  },
  {
   "cell_type": "code",
   "execution_count": 2,
   "metadata": {},
   "outputs": [],
   "source": [
    "def save_response_content(response, destination):\n",
    "    CHUNK_SIZE = 32768\n",
    "\n",
    "    with open(destination, \"wb\") as f:\n",
    "        for chunk in response.iter_content(CHUNK_SIZE):\n",
    "            if chunk: # filter out keep-alive new chunks\n",
    "                f.write(chunk)\n",
    "\n",
    "def download_data(data_path):\n",
    "    toy_data_path = os.path.join(data_path, 'fever_data.zip')\n",
    "    toy_data_url_id = \"1wArZhF9_SHW17WKNGeLmX-QTYw9Zscl1\"\n",
    "    toy_url = \"https://docs.google.com/uc?export=download\"\n",
    "\n",
    "    if not os.path.exists(data_path):\n",
    "        os.makedirs(data_path)\n",
    "\n",
    "    if not os.path.exists(toy_data_path):\n",
    "        print(\"Downloading FEVER data splits...\")\n",
    "        with requests.Session() as current_session:\n",
    "            response = current_session.get(toy_url,\n",
    "                                   params={'id': toy_data_url_id},\n",
    "                                   stream=True)\n",
    "        save_response_content(response, toy_data_path)\n",
    "        print(\"Download completed!\")\n",
    "\n",
    "        print(\"Extracting dataset...\")\n",
    "        with zipfile.ZipFile(toy_data_path) as loaded_zip:\n",
    "            loaded_zip.extractall(data_path)\n",
    "        print(\"Extraction completed!\")\n",
    "\n",
    "# Uncomment if you need to dowload the dataset\n",
    "#download_data('dataset')"
   ]
  },
  {
   "cell_type": "markdown",
   "metadata": {},
   "source": [
    "### Preprocessing data\n",
    "\n",
    "The next cells are devoted to perform preprocessing of the raw data into a readable format. This is done in two steps. The first step organises the data from the csv file into usable columns. More in particular, the Evidence column is cleaned and the Labels are turned into numeric values by the `firstCleaning(df)` function. In the second step, more specific cleaning is done on the Evidence and Claim column. All words are put in lowercase, special characters are replaced, uncommon symbols are filtered out, stopwords are removed and the text is stripped. Finally, lemmatization has been executed. "
   ]
  },
  {
   "cell_type": "markdown",
   "metadata": {},
   "source": [
    "#### Create dataframes"
   ]
  },
  {
   "cell_type": "code",
   "execution_count": 3,
   "metadata": {},
   "outputs": [],
   "source": [
    "def firstCleaning(df): \n",
    "    \"\"\"\n",
    "    This method is to restructure the columns from dataframe df into a suitable format.  \n",
    "    \"\"\"\n",
    "    df[\"Evidence\"] = df[\"Evidence\"].str.split(pat = \"\\t\")\n",
    "    df[\"evidenceID\"]=df[\"Evidence\"].str[0]\n",
    "    df[\"Evidence\"]=df[\"Evidence\"].str[1]\n",
    "    df[\"Label\"] = df[\"Label\"].replace({'SUPPORTS': 1, 'REFUTES': 0})\n",
    "    return df"
   ]
  },
  {
   "cell_type": "code",
   "execution_count": 4,
   "metadata": {},
   "outputs": [],
   "source": [
    "#create a dataframe for the training data \n",
    "train_df = pd.read_csv('./dataset/train_pairs.csv', skipinitialspace=True, usecols=[\"Claim\",\"Evidence\",\"ID\",\"Label\"]).rename(columns={\"ID\": \"claimID\"})\n",
    "train_df = firstCleaning(train_df)\n",
    "\n",
    "#create a dataframe for the validation data \n",
    "val_df = pd.read_csv('./dataset/val_pairs.csv', skipinitialspace=True, usecols=[\"Claim\",\"Evidence\",\"ID\",\"Label\"]).rename(columns={\"ID\": \"claimID\"})\n",
    "val_df = firstCleaning(val_df)\n",
    "\n",
    "#create a dataframe for the test data \n",
    "test_df = pd.read_csv('./dataset/test_pairs.csv', skipinitialspace=True, usecols=[\"Claim\",\"Evidence\",\"ID\",\"Label\"]).rename(columns={\"ID\": \"claimID\"})\n",
    "test_df = firstCleaning(test_df)"
   ]
  },
  {
   "cell_type": "markdown",
   "metadata": {},
   "source": [
    "#### Clean text data"
   ]
  },
  {
   "cell_type": "code",
   "execution_count": 5,
   "metadata": {},
   "outputs": [
    {
     "name": "stderr",
     "output_type": "stream",
     "text": [
      "[nltk_data] Downloading package wordnet to\n",
      "[nltk_data]     /Users/solveig.mohr/nltk_data...\n",
      "[nltk_data]   Package wordnet is already up-to-date!\n"
     ]
    }
   ],
   "source": [
    "lemmatizer = WordNetLemmatizer()\n",
    "nltk.download('wordnet')\n",
    "\n",
    "REPLACE_BY_SPACE_RE = re.compile('[/(){}\\[\\]\\|@,;]')\n",
    "GOOD_SYMBOLS_RE = re.compile('[^0-9a-z #+_]')\n",
    "try:\n",
    "    STOPWORDS = set(stopwords.words('english'))\n",
    "except LookupError:\n",
    "    nltk.download('stopwords')\n",
    "    STOPWORDS = set(stopwords.words('english'))\n",
    "\n",
    "\n",
    "\n",
    "def lower(text: str) -> str:\n",
    "    \"\"\"\n",
    "    Transforms given text to lower case.\n",
    "    Example:\n",
    "    Input: 'I really like New York city'\n",
    "    Output: 'i really like new your city'\n",
    "    \"\"\"\n",
    "\n",
    "    return text.lower()\n",
    "\n",
    "def replace_special_characters(text: str) -> str:\n",
    "    \"\"\"\n",
    "    Replaces special characters, such as paranthesis,\n",
    "    with spacing character\n",
    "    \"\"\"\n",
    "\n",
    "    return REPLACE_BY_SPACE_RE.sub(' ', text)\n",
    "\n",
    "def filter_out_uncommon_symbols(text: str) -> str:\n",
    "    \"\"\"\n",
    "    Removes any special character that is not in the\n",
    "    good symbols list (check regular expression)\n",
    "    \"\"\"\n",
    "\n",
    "    return GOOD_SYMBOLS_RE.sub('', text)\n",
    "\n",
    "def remove_stopwords(text: str) -> str:\n",
    "    return ' '.join([x for x in text.split() if x and x not in STOPWORDS])\n",
    "\n",
    "def strip_text(text: str) -> str:\n",
    "    \"\"\"\n",
    "    Removes any left or right spacing (including carriage return) from text.\n",
    "    Example:\n",
    "    Input: '  This assignment is cool\\n'\n",
    "    Output: 'This assignment is cool'\n",
    "    \"\"\"\n",
    "\n",
    "    return text.strip()    \n",
    "\n",
    "def lemmatize_words(text: str ) -> str:\n",
    "    return \" \".join([lemmatizer.lemmatize(word) for word in text.split()])\n",
    "\n",
    "PREPROCESSING_PIPELINE = [\n",
    "                          lower,\n",
    "                          replace_special_characters,\n",
    "                          filter_out_uncommon_symbols,\n",
    "                          remove_stopwords,\n",
    "                          strip_text,\n",
    "                          lemmatize_words\n",
    "                          ]\n",
    "\n",
    "def text_prepare(text: str,\n",
    "                 filter_methods: List[Callable[[str], str]] = None) -> str:\n",
    "    \"\"\"\n",
    "    Applies a list of pre-processing functions in sequence (reduce).\n",
    "    Note that the order is important here!\n",
    "    \"\"\"\n",
    "\n",
    "    filter_methods = filter_methods if filter_methods is not None else PREPROCESSING_PIPELINE\n",
    "\n",
    "    return reduce(lambda txt, f: f(txt), filter_methods, text)\n",
    "\n",
    "\n",
    "# Replace each sentence with its pre-processed version\n",
    "train_df['Evidence'] = train_df['Evidence'].apply(lambda txt: text_prepare(txt))\n",
    "val_df['Evidence'] = val_df['Evidence'].apply(lambda txt: text_prepare(txt))\n",
    "test_df['Evidence'] = test_df['Evidence'].apply(lambda txt: text_prepare(txt))\n",
    "train_df['Claim'] = train_df['Claim'].apply(lambda txt: text_prepare(txt))\n",
    "val_df['Claim'] = val_df['Claim'].apply(lambda txt: text_prepare(txt))\n",
    "test_df['Claim'] = test_df['Claim'].apply(lambda txt: text_prepare(txt))\n",
    "\n"
   ]
  },
  {
   "cell_type": "markdown",
   "metadata": {},
   "source": [
    "#### Extract y values for train, val and test"
   ]
  },
  {
   "cell_type": "code",
   "execution_count": 6,
   "metadata": {},
   "outputs": [],
   "source": [
    "y_train = np.array(train_df['Label'])\n",
    "y_val = np.array(val_df['Label'])\n",
    "y_test = np.array(test_df['Label'])"
   ]
  },
  {
   "cell_type": "markdown",
   "metadata": {},
   "source": [
    "### Tokenize and padding of data"
   ]
  },
  {
   "cell_type": "code",
   "execution_count": 7,
   "metadata": {},
   "outputs": [],
   "source": [
    "# The tokenizer will have an index 1 for OOV words. A lot of words in test and val will be 1.\n",
    "tokenizer = Tokenizer(oov_token=1)\n",
    "\n",
    "tokenizer.fit_on_texts(train_df[\"Claim\"])\n",
    "tokenizer.fit_on_texts(train_df[\"Evidence\"])"
   ]
  },
  {
   "cell_type": "code",
   "execution_count": 8,
   "metadata": {},
   "outputs": [],
   "source": [
    "# Find max sentence lenght for evidence\n",
    "MAX_SEQ_LEN = np.max([len(text.split()) for text in train_df[\"Evidence\"]])"
   ]
  },
  {
   "cell_type": "code",
   "execution_count": 9,
   "metadata": {},
   "outputs": [],
   "source": [
    "def textToTensor(tokenizer, max_len, text):\n",
    "    '''\n",
    "        Converts text to tensors by converting the words into the correct indexes. \n",
    "        Then padds the tensors with 0 vlaues\n",
    "    '''\n",
    "    seq = tokenizer.texts_to_sequences(text)\n",
    "    padded = pad_sequences(sequences=seq, maxlen=max_len)\n",
    "    return padded"
   ]
  },
  {
   "cell_type": "code",
   "execution_count": 10,
   "metadata": {},
   "outputs": [],
   "source": [
    "claim_train = textToTensor(tokenizer, MAX_SEQ_LEN, train_df[\"Claim\"])\n",
    "evidence_train = textToTensor(tokenizer, MAX_SEQ_LEN, train_df[\"Evidence\"])\n",
    "\n",
    "claim_val = textToTensor(tokenizer, MAX_SEQ_LEN, val_df[\"Claim\"])\n",
    "evidence_val = textToTensor(tokenizer, MAX_SEQ_LEN, val_df[\"Evidence\"])\n",
    "\n",
    "claim_test = textToTensor(tokenizer, MAX_SEQ_LEN, test_df[\"Claim\"])\n",
    "evidence_test = textToTensor(tokenizer, MAX_SEQ_LEN, test_df[\"Evidence\"])"
   ]
  },
  {
   "cell_type": "code",
   "execution_count": 11,
   "metadata": {},
   "outputs": [],
   "source": [
    "# Find size of vocabulary\n",
    "VOCABULARY_SIZE = len(tokenizer.word_index) + 1"
   ]
  },
  {
   "cell_type": "markdown",
   "metadata": {},
   "source": [
    "## Applying glove \n"
   ]
  },
  {
   "cell_type": "code",
   "execution_count": 12,
   "metadata": {},
   "outputs": [],
   "source": [
    "import gensim\n",
    "import gensim.downloader as gloader\n",
    "\n",
    "def load_embedding_model(embedding_dimension: int = 50) -> gensim.models.keyedvectors.KeyedVectors:\n",
    "    download_path = \"glove-wiki-gigaword-{}\".format(embedding_dimension)\n",
    "    # Check download\n",
    "    try:\n",
    "        emb_model = gloader.load(download_path)\n",
    "    except ValueError as e:\n",
    "        print(\"Invalid embedding model name! Check the embedding dimension:\")\n",
    "        print(\"Word2Vec: 300\")\n",
    "        print(\"Glove: 50, 100, 200, 300\")\n",
    "        raise e\n",
    "\n",
    "    return emb_model\n",
    "    \n",
    "def create_embedding_matrix(embedding_model, embedding_dimension, word_to_idx):\n",
    "    embedding_matrix = np.zeros((len(word_to_idx)+1, embedding_dimension), dtype=np.float32)\n",
    "    for word, idx in word_to_idx.items():\n",
    "        try:\n",
    "            embedding_vector = embedding_model[word]\n",
    "        except (KeyError, TypeError):\n",
    "            embedding_vector = np.random.uniform(low=-0.05, high=0.05, size=embedding_dimension)\n",
    "\n",
    "        embedding_matrix[idx] = embedding_vector\n",
    "                                \n",
    "    return embedding_matrix\n",
    "\n"
   ]
  },
  {
   "cell_type": "code",
   "execution_count": 13,
   "metadata": {},
   "outputs": [
    {
     "data": {
      "text/plain": [
       "(32234, 50)"
      ]
     },
     "execution_count": 13,
     "metadata": {},
     "output_type": "execute_result"
    }
   ],
   "source": [
    "embedding_dimension = 50\n",
    "\n",
    "embedding_model = load_embedding_model(embedding_dimension)\n",
    "embedding_matrix = create_embedding_matrix(embedding_model, embedding_dimension, tokenizer.word_index)\n",
    "embedding_matrix.shape"
   ]
  },
  {
   "cell_type": "markdown",
   "metadata": {},
   "source": [
    "### Create model\n",
    "\n",
    "- Choose type of sentence embedding by passing the sentence embedding number (1,2,3 or 4) to the create_model function.\n",
    "- Choose type of merging by passing the merge number (1,2 or 3) to the create_model function."
   ]
  },
  {
   "cell_type": "code",
   "execution_count": 14,
   "metadata": {},
   "outputs": [],
   "source": [
    "def create_model(max_tokens, vocab_size, embedding_dimension, sentence_embedding_type=1, merge_type=1):\n",
    "    '''\n",
    "        Creates keras model for classification.\n",
    "        Inputs: \n",
    "            max_tokens (int): Max length of a text sequence\n",
    "            vocab_size (int): Size of the vocabulary\n",
    "            embedding_dimension (int): The dimension of the embedding vectors\n",
    "            sentence_embedding_type (int): Defines which sentence embedding to use\n",
    "            merge_type (int): Defines which merging function to use\n",
    "    '''   \n",
    "\n",
    "    #-------------------------- Input layer ------------------------------------------------------------\n",
    "    claims_input = Input(shape=(max_tokens, ))\n",
    "    evidence_input = Input(shape=(max_tokens, ))\n",
    "    #-----------------------------------------------------------------------------------------------------\n",
    "\n",
    "    #-------------------------- Word embedding ------------------------------------------------------------\n",
    "    claims_embedding = Embedding(vocab_size, embedding_dimension, weights = [embedding_matrix], name='WordEmbedding_claims', trainable = False)(claims_input)\n",
    "    evidence_embedding = Embedding(vocab_size, embedding_dimension, weights = [embedding_matrix], name='WordEmbedding_evidence', trainable = False)(evidence_input)\n",
    "    #-----------------------------------------------------------------------------------------------------\n",
    "\n",
    "    #-------------------------- Sentence embedding -------------------------------------------------------\n",
    "    if sentence_embedding_type==1:\n",
    "        # Encode token sequences via a RNN and take the last state as the sentence embedding.\n",
    "        claims_sentence_embedding = LSTM(embedding_dimension, return_sequences=False, name='SentenceEmbedding_claims')(claims_embedding)\n",
    "        evidence_sentence_embedding = LSTM(embedding_dimension, return_sequences=False, name='SentenceEmbedding_evidence')(evidence_embedding)\n",
    "    elif sentence_embedding_type==2:\n",
    "        # Encode token sequences via a RNN and average all the output states.\n",
    "\n",
    "        # Put return_sequences True to get output from all hidden states\n",
    "        claims_sentence_embedding = LSTM(embedding_dimension, return_sequences=True, name='SentenceEmbedding_claims')(claims_embedding)\n",
    "        evidence_sentence_embedding = LSTM(embedding_dimension, return_sequences=True, name='SentenceEmbedding_evidence')(evidence_embedding)\n",
    "        \n",
    "        # Take average of outputs\n",
    "        claims_sentence_embedding = K.mean(claims_sentence_embedding, axis=1)\n",
    "        evidence_sentence_embedding = K.mean(evidence_sentence_embedding, axis=1)\n",
    "\n",
    "    elif sentence_embedding_type==3:\n",
    "        # Encode token sequences via a simple MLP layer.\n",
    "        num = embedding_dimension*max_tokens\n",
    "        # Reshape 3d vector to 2d\n",
    "        claims_sentence_embedding = Reshape((num,), input_shape=(max_tokens, embedding_dimension))(claims_embedding)\n",
    "        evidence_sentence_embedding = Reshape((num,), input_shape=(max_tokens, embedding_dimension))(evidence_embedding)\n",
    "\n",
    "        # Send into dense layer\n",
    "        claims_sentence_embedding = Dense(num, name='SentenceEmbedding_claims')(claims_sentence_embedding)\n",
    "        evidence_sentence_embedding = Dense(num, name='SentenceEmbedding_evidence')(evidence_sentence_embedding)\n",
    "   \n",
    "    elif sentence_embedding_type==4:\n",
    "        # Compute the sentence embedding as the mean of its token embeddings (bag of vectors).\n",
    "        claims_sentence_embedding = K.mean(claims_embedding, axis=1)\n",
    "        evidence_sentence_embedding = K.mean(evidence_embedding, axis=1)\n",
    "    else:\n",
    "        raise Exception(\"Sentence embedding type must be an integer between 1 and 4\")\n",
    "    #------------------------------------------------------------------------------------------------------------\n",
    "    \n",
    "\n",
    "    #-------------------------- Extension with cosine similarity -----------------------------------------------\n",
    "    # Calulate cosine similarity\n",
    "    # Returns list of cosine similarities for each evidence claim pair\n",
    "    cosine_loss = tf.keras.losses.CosineSimilarity(axis=-1, reduction=tf.keras.losses.Reduction.NONE)\n",
    "    cosine_similarity = cosine_loss(claims_sentence_embedding, evidence_sentence_embedding)\n",
    "\n",
    "    # Expand dimention to get tensor on shape (embedding_dimension, 1)\n",
    "    cosine_similarity = Lambda(lambda x: K.expand_dims(x, axis=1))(cosine_similarity)\n",
    "\n",
    "    # Concatenate tensors and get them on shape (batch_size, embedding_dim + 1)\n",
    "    claims_sentence_embedding = Concatenate(axis=-1)([claims_sentence_embedding, cosine_similarity])\n",
    "    evidence_sentence_embedding = Concatenate(axis=-1)([evidence_sentence_embedding, cosine_similarity])\n",
    "    #------------------------------------------------------------------------------------------------------------\n",
    "\n",
    "    #------------------------------------- Merging --------------------------------------------------------------\n",
    "    if merge_type == 1:\n",
    "        # Concatenate\n",
    "        merged = Concatenate(axis=1)([claims_sentence_embedding, evidence_sentence_embedding])\n",
    "    elif merge_type == 2:\n",
    "        # Sum\n",
    "        merged = Add([claims_sentence_embedding, evidence_sentence_embedding])\n",
    "    elif merge_type == 3:\n",
    "        # Mean\n",
    "        merged = Average(axis=1)([claims_sentence_embedding, evidence_sentence_embedding])\n",
    "    else:\n",
    "        raise Exception(\"Merge type must be an integer between 1 and 3\")\n",
    "    #------------------------------------------------------------------------------------------------------------\n",
    "\n",
    "    #------------------------------------- Classification --------------------------------------------------------------\n",
    "    out = (Dense(1, activation='sigmoid'))(merged)\n",
    "    #------------------------------------------------------------------------------------------------------------\n",
    "\n",
    "    model = Model(inputs=[claims_input, evidence_input], outputs=[out])\n",
    "\n",
    "    return model"
   ]
  },
  {
   "cell_type": "code",
   "execution_count": 15,
   "metadata": {},
   "outputs": [],
   "source": [
    "# Change vaiables in order to change sentence_embedding_type and merge_type\n",
    "sentence_embedding_type = 1\n",
    "merge_type = 1"
   ]
  },
  {
   "cell_type": "code",
   "execution_count": 16,
   "metadata": {
    "scrolled": false
   },
   "outputs": [
    {
     "name": "stderr",
     "output_type": "stream",
     "text": [
      "2021-12-06 12:55:52.233138: I tensorflow/core/platform/cpu_feature_guard.cc:151] This TensorFlow binary is optimized with oneAPI Deep Neural Network Library (oneDNN) to use the following CPU instructions in performance-critical operations:  AVX2 FMA\n",
      "To enable them in other operations, rebuild TensorFlow with the appropriate compiler flags.\n"
     ]
    },
    {
     "name": "stdout",
     "output_type": "stream",
     "text": [
      "Model: \"model\"\n",
      "__________________________________________________________________________________________________\n",
      " Layer (type)                   Output Shape         Param #     Connected to                     \n",
      "==================================================================================================\n",
      " input_1 (InputLayer)           [(None, 96)]         0           []                               \n",
      "                                                                                                  \n",
      " input_2 (InputLayer)           [(None, 96)]         0           []                               \n",
      "                                                                                                  \n",
      " WordEmbedding_claims (Embeddin  (None, 96, 50)      1611700     ['input_1[0][0]']                \n",
      " g)                                                                                               \n",
      "                                                                                                  \n",
      " WordEmbedding_evidence (Embedd  (None, 96, 50)      1611700     ['input_2[0][0]']                \n",
      " ing)                                                                                             \n",
      "                                                                                                  \n",
      " SentenceEmbedding_claims (LSTM  (None, 50)          20200       ['WordEmbedding_claims[0][0]']   \n",
      " )                                                                                                \n",
      "                                                                                                  \n",
      " SentenceEmbedding_evidence (LS  (None, 50)          20200       ['WordEmbedding_evidence[0][0]'] \n",
      " TM)                                                                                              \n",
      "                                                                                                  \n",
      " tf.convert_to_tensor_1 (TFOpLa  (None, 50)          0           ['SentenceEmbedding_claims[0][0]'\n",
      " mbda)                                                           ]                                \n",
      "                                                                                                  \n",
      " tf.convert_to_tensor (TFOpLamb  (None, 50)          0           ['SentenceEmbedding_evidence[0][0\n",
      " da)                                                             ]']                              \n",
      "                                                                                                  \n",
      " tf.math.l2_normalize (TFOpLamb  (None, 50)          0           ['tf.convert_to_tensor_1[0][0]'] \n",
      " da)                                                                                              \n",
      "                                                                                                  \n",
      " tf.math.l2_normalize_1 (TFOpLa  (None, 50)          0           ['tf.convert_to_tensor[0][0]']   \n",
      " mbda)                                                                                            \n",
      "                                                                                                  \n",
      " tf.math.multiply (TFOpLambda)  (None, 50)           0           ['tf.math.l2_normalize[0][0]',   \n",
      "                                                                  'tf.math.l2_normalize_1[0][0]'] \n",
      "                                                                                                  \n",
      " tf.math.reduce_sum (TFOpLambda  (None,)             0           ['tf.math.multiply[0][0]']       \n",
      " )                                                                                                \n",
      "                                                                                                  \n",
      " tf.math.negative (TFOpLambda)  (None,)              0           ['tf.math.reduce_sum[0][0]']     \n",
      "                                                                                                  \n",
      " tf.cast (TFOpLambda)           (None,)              0           ['tf.math.negative[0][0]']       \n",
      "                                                                                                  \n",
      " tf.math.multiply_1 (TFOpLambda  (None,)             0           ['tf.cast[0][0]']                \n",
      " )                                                                                                \n",
      "                                                                                                  \n",
      " tf.cast_1 (TFOpLambda)         (None,)              0           ['tf.math.multiply_1[0][0]']     \n",
      "                                                                                                  \n",
      " lambda (Lambda)                (None, 1)            0           ['tf.cast_1[0][0]']              \n",
      "                                                                                                  \n",
      " concatenate (Concatenate)      (None, 51)           0           ['SentenceEmbedding_claims[0][0]'\n",
      "                                                                 , 'lambda[0][0]']                \n",
      "                                                                                                  \n",
      " concatenate_1 (Concatenate)    (None, 51)           0           ['SentenceEmbedding_evidence[0][0\n",
      "                                                                 ]',                              \n",
      "                                                                  'lambda[0][0]']                 \n",
      "                                                                                                  \n",
      " concatenate_2 (Concatenate)    (None, 102)          0           ['concatenate[0][0]',            \n",
      "                                                                  'concatenate_1[0][0]']          \n",
      "                                                                                                  \n",
      " dense (Dense)                  (None, 1)            103         ['concatenate_2[0][0]']          \n",
      "                                                                                                  \n",
      "==================================================================================================\n",
      "Total params: 3,263,903\n",
      "Trainable params: 40,503\n",
      "Non-trainable params: 3,223,400\n",
      "__________________________________________________________________________________________________\n"
     ]
    }
   ],
   "source": [
    "model = create_model(MAX_SEQ_LEN, VOCABULARY_SIZE, embedding_dimension, sentence_embedding_type=sentence_embedding_type, merge_type=merge_type)\n",
    "model.summary()"
   ]
  },
  {
   "cell_type": "markdown",
   "metadata": {},
   "source": [
    "### Train model"
   ]
  },
  {
   "cell_type": "code",
   "execution_count": 17,
   "metadata": {},
   "outputs": [],
   "source": [
    "BATCH_SIZE = 256\n",
    "EPOCHS = 10"
   ]
  },
  {
   "cell_type": "code",
   "execution_count": 18,
   "metadata": {},
   "outputs": [
    {
     "name": "stdout",
     "output_type": "stream",
     "text": [
      "Epoch 1/50\n",
      "476/476 [==============================] - 105s 212ms/step - loss: 0.1846 - acc: 0.7417 - val_loss: 0.2730 - val_acc: 0.5474\n",
      "Epoch 2/50\n",
      "476/476 [==============================] - 98s 207ms/step - loss: 0.1690 - acc: 0.7658 - val_loss: 0.2609 - val_acc: 0.5823\n",
      "Epoch 3/50\n",
      "476/476 [==============================] - 111s 233ms/step - loss: 0.1612 - acc: 0.7785 - val_loss: 0.2558 - val_acc: 0.5976\n",
      "Epoch 4/50\n",
      "476/476 [==============================] - 109s 228ms/step - loss: 0.1556 - acc: 0.7873 - val_loss: 0.2584 - val_acc: 0.6022\n",
      "Epoch 5/50\n",
      "476/476 [==============================] - 93s 196ms/step - loss: 0.1515 - acc: 0.7932 - val_loss: 0.2460 - val_acc: 0.6176\n",
      "Epoch 6/50\n",
      "476/476 [==============================] - 93s 195ms/step - loss: 0.1477 - acc: 0.7989 - val_loss: 0.2446 - val_acc: 0.6279\n",
      "Epoch 7/50\n",
      "476/476 [==============================] - 92s 194ms/step - loss: 0.1447 - acc: 0.8036 - val_loss: 0.2423 - val_acc: 0.6336\n",
      "Epoch 8/50\n",
      "476/476 [==============================] - 100s 210ms/step - loss: 0.1416 - acc: 0.8084 - val_loss: 0.2463 - val_acc: 0.6348\n",
      "Epoch 9/50\n",
      "476/476 [==============================] - 94s 197ms/step - loss: 0.1389 - acc: 0.8121 - val_loss: 0.2463 - val_acc: 0.6375\n",
      "Epoch 10/50\n",
      "476/476 [==============================] - 93s 196ms/step - loss: 0.1362 - acc: 0.8158 - val_loss: 0.2402 - val_acc: 0.6458\n",
      "Epoch 11/50\n",
      "476/476 [==============================] - 91s 191ms/step - loss: 0.1336 - acc: 0.8202 - val_loss: 0.2473 - val_acc: 0.6391\n",
      "Epoch 12/50\n",
      "476/476 [==============================] - 96s 201ms/step - loss: 0.1311 - acc: 0.8243 - val_loss: 0.2438 - val_acc: 0.6466\n",
      "Epoch 13/50\n",
      "476/476 [==============================] - 102s 215ms/step - loss: 0.1288 - acc: 0.8275 - val_loss: 0.2341 - val_acc: 0.6586\n",
      "Epoch 14/50\n",
      "476/476 [==============================] - 106s 222ms/step - loss: 0.1265 - acc: 0.8313 - val_loss: 0.2425 - val_acc: 0.6536\n",
      "Epoch 15/50\n",
      "476/476 [==============================] - 97s 204ms/step - loss: 0.1242 - acc: 0.8352 - val_loss: 0.2460 - val_acc: 0.6508\n",
      "Epoch 16/50\n",
      "476/476 [==============================] - 91s 192ms/step - loss: 0.1219 - acc: 0.8382 - val_loss: 0.2465 - val_acc: 0.6509\n",
      "Epoch 17/50\n",
      "476/476 [==============================] - 93s 195ms/step - loss: 0.1199 - acc: 0.8418 - val_loss: 0.2387 - val_acc: 0.6586\n",
      "Epoch 18/50\n",
      "476/476 [==============================] - 98s 206ms/step - loss: 0.1180 - acc: 0.8451 - val_loss: 0.2520 - val_acc: 0.6505\n",
      "Epoch 19/50\n",
      "476/476 [==============================] - 111s 233ms/step - loss: 0.1159 - acc: 0.8473 - val_loss: 0.2443 - val_acc: 0.6572\n",
      "Epoch 20/50\n",
      "476/476 [==============================] - 107s 225ms/step - loss: 0.1141 - acc: 0.8513 - val_loss: 0.2500 - val_acc: 0.6539\n",
      "Epoch 21/50\n",
      "476/476 [==============================] - 109s 228ms/step - loss: 0.1121 - acc: 0.8536 - val_loss: 0.2453 - val_acc: 0.6569\n",
      "Epoch 22/50\n",
      "476/476 [==============================] - 103s 217ms/step - loss: 0.1106 - acc: 0.8565 - val_loss: 0.2520 - val_acc: 0.6557\n",
      "Epoch 23/50\n",
      "476/476 [==============================] - 113s 236ms/step - loss: 0.1088 - acc: 0.8590 - val_loss: 0.2514 - val_acc: 0.6564\n",
      "Epoch 24/50\n",
      "476/476 [==============================] - 127s 267ms/step - loss: 0.1071 - acc: 0.8621 - val_loss: 0.2523 - val_acc: 0.6540\n",
      "Epoch 25/50\n",
      "476/476 [==============================] - 103s 216ms/step - loss: 0.1055 - acc: 0.8645 - val_loss: 0.2554 - val_acc: 0.6557\n",
      "Epoch 26/50\n",
      "476/476 [==============================] - 102s 214ms/step - loss: 0.1038 - acc: 0.8662 - val_loss: 0.2521 - val_acc: 0.6592\n",
      "Epoch 27/50\n",
      "476/476 [==============================] - 94s 198ms/step - loss: 0.1024 - acc: 0.8686 - val_loss: 0.2588 - val_acc: 0.6561\n",
      "Epoch 28/50\n",
      "476/476 [==============================] - 106s 223ms/step - loss: 0.1009 - acc: 0.8712 - val_loss: 0.2505 - val_acc: 0.6635\n",
      "Epoch 29/50\n",
      "476/476 [==============================] - 98s 205ms/step - loss: 0.0996 - acc: 0.8728 - val_loss: 0.2552 - val_acc: 0.6582\n",
      "Epoch 30/50\n",
      "476/476 [==============================] - 104s 217ms/step - loss: 0.0981 - acc: 0.8761 - val_loss: 0.2622 - val_acc: 0.6539\n",
      "Epoch 31/50\n",
      "476/476 [==============================] - 107s 225ms/step - loss: 0.0968 - acc: 0.8780 - val_loss: 0.2644 - val_acc: 0.6539\n",
      "Epoch 32/50\n",
      "476/476 [==============================] - 97s 204ms/step - loss: 0.0956 - acc: 0.8800 - val_loss: 0.2643 - val_acc: 0.6579\n",
      "Epoch 33/50\n",
      "476/476 [==============================] - 107s 226ms/step - loss: 0.0942 - acc: 0.8817 - val_loss: 0.2693 - val_acc: 0.6532\n",
      "Epoch 34/50\n",
      "476/476 [==============================] - 122s 256ms/step - loss: 0.0932 - acc: 0.8843 - val_loss: 0.2683 - val_acc: 0.6550\n",
      "Epoch 35/50\n",
      "476/476 [==============================] - 106s 223ms/step - loss: 0.0918 - acc: 0.8860 - val_loss: 0.2660 - val_acc: 0.6550\n",
      "Epoch 36/50\n",
      "476/476 [==============================] - 100s 211ms/step - loss: 0.0906 - acc: 0.8874 - val_loss: 0.2726 - val_acc: 0.6515\n",
      "Epoch 37/50\n",
      "476/476 [==============================] - 117s 246ms/step - loss: 0.0894 - acc: 0.8896 - val_loss: 0.2690 - val_acc: 0.6514\n",
      "Epoch 38/50\n",
      "476/476 [==============================] - 105s 221ms/step - loss: 0.0882 - acc: 0.8913 - val_loss: 0.2749 - val_acc: 0.6490\n",
      "Epoch 39/50\n",
      "476/476 [==============================] - 98s 206ms/step - loss: 0.0873 - acc: 0.8929 - val_loss: 0.2768 - val_acc: 0.6498\n",
      "Epoch 40/50\n",
      "476/476 [==============================] - 102s 215ms/step - loss: 0.0862 - acc: 0.8943 - val_loss: 0.2730 - val_acc: 0.6547\n",
      "Epoch 41/50\n",
      "476/476 [==============================] - 113s 236ms/step - loss: 0.0852 - acc: 0.8957 - val_loss: 0.2788 - val_acc: 0.6502\n",
      "Epoch 42/50\n",
      "476/476 [==============================] - 98s 206ms/step - loss: 0.0843 - acc: 0.8974 - val_loss: 0.2781 - val_acc: 0.6507\n",
      "Epoch 43/50\n",
      "476/476 [==============================] - 104s 218ms/step - loss: 0.0832 - acc: 0.8987 - val_loss: 0.2775 - val_acc: 0.6508\n",
      "Epoch 44/50\n",
      "476/476 [==============================] - 89s 187ms/step - loss: 0.0825 - acc: 0.9001 - val_loss: 0.2772 - val_acc: 0.6540\n",
      "Epoch 45/50\n",
      "476/476 [==============================] - 85s 180ms/step - loss: 0.0815 - acc: 0.9013 - val_loss: 0.2794 - val_acc: 0.6533\n",
      "Epoch 46/50\n",
      "476/476 [==============================] - 84s 177ms/step - loss: 0.0804 - acc: 0.9029 - val_loss: 0.2853 - val_acc: 0.6479\n",
      "Epoch 47/50\n",
      "476/476 [==============================] - 86s 181ms/step - loss: 0.0797 - acc: 0.9034 - val_loss: 0.2835 - val_acc: 0.6515\n",
      "Epoch 48/50\n",
      "476/476 [==============================] - 84s 177ms/step - loss: 0.0791 - acc: 0.9049 - val_loss: 0.2794 - val_acc: 0.6539\n",
      "Epoch 49/50\n",
      "476/476 [==============================] - 84s 176ms/step - loss: 0.0781 - acc: 0.9070 - val_loss: 0.2853 - val_acc: 0.6495\n",
      "Epoch 50/50\n",
      "476/476 [==============================] - 89s 188ms/step - loss: 0.0772 - acc: 0.9072 - val_loss: 0.2811 - val_acc: 0.6550\n"
     ]
    }
   ],
   "source": [
    "model.compile(loss='mse',\n",
    "              optimizer='Adam',\n",
    "              metrics=['acc'])\n",
    "history = model.fit(x=[claim_train, evidence_train], y=y_train, batch_size=BATCH_SIZE, epochs=EPOCHS, validation_data=([claim_val, evidence_val], y_val))"
   ]
  },
  {
   "cell_type": "markdown",
   "metadata": {},
   "source": [
    "### Save model"
   ]
  },
  {
   "cell_type": "code",
   "execution_count": 21,
   "metadata": {},
   "outputs": [],
   "source": [
    "def save_model(model, sentence_embedding_type=1, merge_type=1, dir='models'):\n",
    "    '''\n",
    "        Saves model naming it according to sentence embedding merge type and time stamp.\n",
    "    '''\n",
    "    now = datetime.now()\n",
    "    dt_string = now.strftime(\"%d_%m_%Y_%H:%M:%S\")\n",
    "    model_name = f'model_SE{sentence_embedding_type}_MT{merge_type}_{dt_string}'\n",
    "    path = f'{dir}/{model_name}'\n",
    "    model.save(path)\n"
   ]
  },
  {
   "cell_type": "code",
   "execution_count": 22,
   "metadata": {},
   "outputs": [
    {
     "ename": "NameError",
     "evalue": "name 'model256' is not defined",
     "output_type": "error",
     "traceback": [
      "\u001b[0;31m---------------------------------------------------------------------------\u001b[0m",
      "\u001b[0;31mNameError\u001b[0m                                 Traceback (most recent call last)",
      "\u001b[0;32m/var/folders/t4/vnxj6kkj2n97knry5lnrscx00000gn/T/ipykernel_21100/1371310369.py\u001b[0m in \u001b[0;36m<module>\u001b[0;34m\u001b[0m\n\u001b[0;32m----> 1\u001b[0;31m \u001b[0msave_model\u001b[0m\u001b[0;34m(\u001b[0m\u001b[0mmodel256\u001b[0m\u001b[0;34m,\u001b[0m \u001b[0msentence_embedding_type\u001b[0m\u001b[0;34m,\u001b[0m \u001b[0mmerge_type\u001b[0m\u001b[0;34m)\u001b[0m\u001b[0;34m\u001b[0m\u001b[0;34m\u001b[0m\u001b[0m\n\u001b[0m",
      "\u001b[0;31mNameError\u001b[0m: name 'model256' is not defined"
     ]
    }
   ],
   "source": [
    "save_model(model, sentence_embedding_type, merge_type)"
   ]
  },
  {
   "cell_type": "markdown",
   "metadata": {},
   "source": [
    "### Prediction\n",
    "Calcualte the predictions for the test set"
   ]
  },
  {
   "cell_type": "code",
   "execution_count": null,
   "metadata": {},
   "outputs": [],
   "source": [
    "def prediction(model: keras.Model, x, predicting_info):\n",
    "    '''Call the models prediction function'''\n",
    "    predictions = model.predict(x, **predicting_info)\n",
    "    return predictions"
   ]
  },
  {
   "cell_type": "code",
   "execution_count": null,
   "metadata": {},
   "outputs": [],
   "source": [
    "predictions = prediction(model, [claim_test, evidence_test], {'batch_size': 100})\n",
    "predictions = np.rint(predictions)"
   ]
  },
  {
   "cell_type": "markdown",
   "metadata": {},
   "source": [
    "## Evaluation"
   ]
  },
  {
   "cell_type": "markdown",
   "metadata": {},
   "source": [
    "### Multi-input classification evaluation"
   ]
  },
  {
   "cell_type": "markdown",
   "metadata": {},
   "source": [
    "#### Defining plotting functions"
   ]
  },
  {
   "cell_type": "code",
   "execution_count": 24,
   "metadata": {},
   "outputs": [],
   "source": [
    "def plot_accuracy(model_callback):\n",
    "    plt.plot(model_callback.history['acc'])\n",
    "    plt.plot(model_callback.history['val_acc'])\n",
    "    plt.title('model accuracy')\n",
    "    plt.ylabel('accuracy')\n",
    "    plt.xlabel('epoch')\n",
    "    plt.legend(['train', 'val'], loc=\"lower right\")\n",
    "    plt.show()\n",
    "    \n",
    "def plot_loss(model_callback):\n",
    "    plt.plot(model_callback.history['loss'])\n",
    "    plt.plot(model_callback.history['val_loss'])\n",
    "    plt.title('model loss')\n",
    "    plt.ylabel('loss')\n",
    "    plt.xlabel('epoch')\n",
    "    plt.legend(['train', 'val'], loc=\"lower right\")\n",
    "    plt.show()\n",
    "    \n",
    "def plot_confusion_matrix(confusion_matrix):\n",
    "\n",
    "    ax = sns.heatmap(confusion_matrix, annot=True, cmap='Blues', fmt='d')\n",
    "\n",
    "    ax.set_title('Confusion Matrix\\n\\n')\n",
    "    ax.set_xlabel('\\nPredicted Values')\n",
    "    ax.set_ylabel('Actual Values ')\n",
    "\n",
    "    ## Ticket labels - List must be in alphabetical order\n",
    "    ax.xaxis.set_ticklabels(['False','True'])\n",
    "    ax.yaxis.set_ticklabels(['False','True'])\n",
    "\n",
    "    ## Display the visualization of the Confusion Matrix.\n",
    "    plt.show()"
   ]
  },
  {
   "cell_type": "code",
   "execution_count": 25,
   "metadata": {},
   "outputs": [
    {
     "data": {
      "image/png": "[encoded data removed]",
      "text/plain": [
       "<Figure size 432x288 with 1 Axes>"
      ]
     },
     "metadata": {
      "needs_background": "light"
     },
     "output_type": "display_data"
    },
    {
     "data": {
      "image/png": "[encoded data removed]",
      "text/plain": [
       "<Figure size 432x288 with 1 Axes>"
      ]
     },
     "metadata": {
      "needs_background": "light"
     },
     "output_type": "display_data"
    }
   ],
   "source": [
    "plot_accuracy(history)\n",
    "plot_loss(history)"
   ]
  },
  {
   "cell_type": "code",
   "execution_count": null,
   "metadata": {},
   "outputs": [],
   "source": [
    "def evaluation(predictions):\n",
    "    '''\n",
    "        Function for plotting the confusion_matrix\n",
    "        Inputs:\n",
    "            predicitons: Predicitons from a keras model\n",
    "    '''\n",
    "    print(classification_report(y_test, predictions))\n",
    "    print(accuracy_score(y_test, predictions))\n",
    "    cf_matrix = confusion_matrix(y_test, predictions)\n",
    "    plot_confusion_matrix(cf_matrix)"
   ]
  },
  {
   "cell_type": "code",
   "execution_count": null,
   "metadata": {},
   "outputs": [
    {
     "name": "stdout",
     "output_type": "stream",
     "text": [
      "              precision    recall  f1-score   support\n",
      "\n",
      "           0       0.72      0.51      0.60      3583\n",
      "           1       0.62      0.80      0.70      3606\n",
      "\n",
      "    accuracy                           0.66      7189\n",
      "   macro avg       0.67      0.66      0.65      7189\n",
      "weighted avg       0.67      0.66      0.65      7189\n",
      "\n",
      "0.6579496452914174\n"
     ]
    },
    {
     "data": {
      "image/png": "[encoded data removed]",
      "text/plain": [
       "<Figure size 432x288 with 2 Axes>"
      ]
     },
     "metadata": {
      "needs_background": "light"
     },
     "output_type": "display_data"
    }
   ],
   "source": [
    "evaluation(predictions)"
   ]
  },
  {
   "cell_type": "markdown",
   "metadata": {},
   "source": [
    "### Claim verification evaluation"
   ]
  },
  {
   "cell_type": "code",
   "execution_count": null,
   "metadata": {},
   "outputs": [],
   "source": [
    "def make_claims_dict():\n",
    "    \"\"\"\n",
    "    Makes a dictionary with claimID as key and \n",
    "    a list of the index for every evidence \n",
    "    corresponding to the claim as value\n",
    "    \"\"\"\n",
    "    claims = {}\n",
    "    t = test_df.groupby(\"claimID\")\n",
    "    for name, group in t:\n",
    "        claims[name] = list(group.index)\n",
    "    return claims"
   ]
  },
  {
   "cell_type": "code",
   "execution_count": null,
   "metadata": {},
   "outputs": [],
   "source": [
    "claims_dict = make_claims_dict()"
   ]
  },
  {
   "cell_type": "code",
   "execution_count": null,
   "metadata": {},
   "outputs": [],
   "source": [
    "def majority_pred(predictions):\n",
    "    \"\"\"\n",
    "    Find predictions based on majority voting\n",
    "    \"\"\"\n",
    "    majority = []\n",
    "\n",
    "    for i in range(len(claim_test)):\n",
    "        claim_id = np.array(test_df['claimID'])[i]\n",
    "        support = 0\n",
    "        defutes = 0\n",
    "        for evidence in claims_dict[claim_id]:\n",
    "            if predictions[evidence] == 1:\n",
    "                support += 1\n",
    "            else:\n",
    "                defutes += 1\n",
    "        if support > defutes:\n",
    "            majority.append(1.0)\n",
    "        else:\n",
    "            majority.append(0.0)\n",
    "    return majority"
   ]
  },
  {
   "cell_type": "code",
   "execution_count": null,
   "metadata": {},
   "outputs": [],
   "source": [
    "majority_predictions = majority_pred(predictions)"
   ]
  },
  {
   "cell_type": "code",
   "execution_count": null,
   "metadata": {},
   "outputs": [
    {
     "name": "stdout",
     "output_type": "stream",
     "text": [
      "              precision    recall  f1-score   support\n",
      "\n",
      "           0       0.72      0.52      0.60      3583\n",
      "           1       0.63      0.79      0.70      3606\n",
      "\n",
      "    accuracy                           0.66      7189\n",
      "   macro avg       0.67      0.66      0.65      7189\n",
      "weighted avg       0.67      0.66      0.65      7189\n",
      "\n",
      "0.6582278481012658\n"
     ]
    },
    {
     "data": {
      "image/png": "[encoded data removed]",
      "text/plain": [
       "<Figure size 432x288 with 2 Axes>"
      ]
     },
     "metadata": {
      "needs_background": "light"
     },
     "output_type": "display_data"
    }
   ],
   "source": [
    "evaluation(majority_predictions)"
   ]
  }
 ],
 "metadata": {
  "interpreter": {
   "hash": "31f2aee4e71d21fbe5cf8b01ff0e069b9275f58929596ceb00d14d90e3e16cd6"
  },
  "kernelspec": {
   "display_name": "Python 3",
   "language": "python",
   "name": "python3"
  },
  "language_info": {
   "codemirror_mode": {
    "name": "ipython",
    "version": 3
   },
   "file_extension": ".py",
   "mimetype": "text/x-python",
   "name": "python",
   "nbconvert_exporter": "python",
   "pygments_lexer": "ipython3",
   "version": "3.9.4"
  }
 },
 "nbformat": 4,
 "nbformat_minor": 2
}
