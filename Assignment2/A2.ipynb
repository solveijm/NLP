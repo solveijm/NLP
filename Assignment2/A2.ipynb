{
 "cells": [
  {
   "cell_type": "markdown",
   "metadata": {},
   "source": [
    "### Import libraries"
   ]
  },
  {
   "cell_type": "code",
   "execution_count": 60,
   "metadata": {},
   "outputs": [],
   "source": [
    "from datetime import datetime\n",
    "import keras\n",
    "from keras import backend as K\n",
    "from keras.layers import Concatenate, Lambda, LSTM, Reshape, Dense, Embedding, Average, Reshape, Flatten, Input, Add\n",
    "from keras.models import Model \n",
    "from keras.preprocessing.sequence import pad_sequences\n",
    "from keras.preprocessing.text import Tokenizer\n",
    "import numpy as np\n",
    "import matplotlib.pyplot as plt\n",
    "import os\n",
    "import pandas as pd\n",
    "import requests\n",
    "import seaborn as sns\n",
    "from sklearn.metrics import accuracy_score, classification_report, confusion_matrix\n",
    "import tensorflow as tf\n",
    "import zipfile\n",
    "\n",
    "import re\n",
    "from functools import reduce\n",
    "import nltk\n",
    "from nltk.corpus import stopwords\n",
    "from typing import List, Callable, Dict\n",
    "from nltk.stem import WordNetLemmatizer"
   ]
  },
  {
   "cell_type": "markdown",
   "metadata": {},
   "source": [
    "### Download dataset\n",
    "Downloading the dataset using the function provided in the assignment"
   ]
  },
  {
   "cell_type": "code",
   "execution_count": 2,
   "metadata": {},
   "outputs": [],
   "source": [
    "def save_response_content(response, destination):\n",
    "    CHUNK_SIZE = 32768\n",
    "\n",
    "    with open(destination, \"wb\") as f:\n",
    "        for chunk in response.iter_content(CHUNK_SIZE):\n",
    "            if chunk: # filter out keep-alive new chunks\n",
    "                f.write(chunk)\n",
    "\n",
    "def download_data(data_path):\n",
    "    toy_data_path = os.path.join(data_path, 'fever_data.zip')\n",
    "    toy_data_url_id = \"1wArZhF9_SHW17WKNGeLmX-QTYw9Zscl1\"\n",
    "    toy_url = \"https://docs.google.com/uc?export=download\"\n",
    "\n",
    "    if not os.path.exists(data_path):\n",
    "        os.makedirs(data_path)\n",
    "\n",
    "    if not os.path.exists(toy_data_path):\n",
    "        print(\"Downloading FEVER data splits...\")\n",
    "        with requests.Session() as current_session:\n",
    "            response = current_session.get(toy_url,\n",
    "                                   params={'id': toy_data_url_id},\n",
    "                                   stream=True)\n",
    "        save_response_content(response, toy_data_path)\n",
    "        print(\"Download completed!\")\n",
    "\n",
    "        print(\"Extracting dataset...\")\n",
    "        with zipfile.ZipFile(toy_data_path) as loaded_zip:\n",
    "            loaded_zip.extractall(data_path)\n",
    "        print(\"Extraction completed!\")\n",
    "\n",
    "# Uncomment if you need to dowload the dataset\n",
    "#download_data('dataset')"
   ]
  },
  {
   "cell_type": "markdown",
   "metadata": {},
   "source": [
    "### Preprocessing data\n",
    "\n",
    "The next cells are devoted to perform preprocessing of the raw data into a readable format. This is done in two steps. The first step organises the data from the csv file into usable columns. More in particular, the Evidence column is cleaned and the Labels are turned into numeric values by the `firstCleaning(df)` function. In the second step, more specific cleaning is done on the Evidence and Claim column. All words are put in lowercase, special characters are replaced, uncommon symbols are filtered out, stopwords are removed and the text is stripped. Finally, lemmatization has been executed. "
   ]
  },
  {
   "cell_type": "markdown",
   "metadata": {},
   "source": [
    "#### Create dataframes"
   ]
  },
  {
   "cell_type": "code",
   "execution_count": 3,
   "metadata": {},
   "outputs": [],
   "source": [
    "def firstCleaning(df): \n",
    "    \"\"\"\n",
    "    This method is to restructure the columns from dataframe df into a suitable format.  \n",
    "    \"\"\"\n",
    "    df[\"Evidence\"] = df[\"Evidence\"].str.split(pat = \"\\t\")\n",
    "    df[\"evidenceID\"]=df[\"Evidence\"].str[0]\n",
    "    df[\"Evidence\"]=df[\"Evidence\"].str[1]\n",
    "    df[\"Label\"] = df[\"Label\"].replace({'SUPPORTS': 1, 'REFUTES': 0})\n",
    "    return df"
   ]
  },
  {
   "cell_type": "code",
   "execution_count": 4,
   "metadata": {},
   "outputs": [],
   "source": [
    "#create a dataframe for the training data \n",
    "train_df = pd.read_csv('./dataset/train_pairs.csv', skipinitialspace=True, usecols=[\"Claim\",\"Evidence\",\"ID\",\"Label\"]).rename(columns={\"ID\": \"claimID\"})\n",
    "train_df = firstCleaning(train_df)\n",
    "\n",
    "#create a dataframe for the validation data \n",
    "val_df = pd.read_csv('./dataset/val_pairs.csv', skipinitialspace=True, usecols=[\"Claim\",\"Evidence\",\"ID\",\"Label\"]).rename(columns={\"ID\": \"claimID\"})\n",
    "val_df = firstCleaning(val_df)\n",
    "\n",
    "#create a dataframe for the test data \n",
    "test_df = pd.read_csv('./dataset/test_pairs.csv', skipinitialspace=True, usecols=[\"Claim\",\"Evidence\",\"ID\",\"Label\"]).rename(columns={\"ID\": \"claimID\"})\n",
    "test_df = firstCleaning(test_df)"
   ]
  },
  {
   "cell_type": "markdown",
   "metadata": {},
   "source": [
    "#### Clean text data"
   ]
  },
  {
   "cell_type": "code",
   "execution_count": 5,
   "metadata": {},
   "outputs": [
    {
     "name": "stderr",
     "output_type": "stream",
     "text": [
      "[nltk_data] Downloading package wordnet to\n",
      "[nltk_data]     /Users/solveig.mohr/nltk_data...\n",
      "[nltk_data]   Package wordnet is already up-to-date!\n"
     ]
    }
   ],
   "source": [
    "lemmatizer = WordNetLemmatizer()\n",
    "nltk.download('wordnet')\n",
    "\n",
    "REPLACE_BY_SPACE_RE = re.compile('[/(){}\\[\\]\\|@,;]')\n",
    "GOOD_SYMBOLS_RE = re.compile('[^0-9a-z #+_]')\n",
    "try:\n",
    "    STOPWORDS = set(stopwords.words('english'))\n",
    "except LookupError:\n",
    "    nltk.download('stopwords')\n",
    "    STOPWORDS = set(stopwords.words('english'))\n",
    "\n",
    "\n",
    "\n",
    "def lower(text: str) -> str:\n",
    "    \"\"\"\n",
    "    Transforms given text to lower case.\n",
    "    Example:\n",
    "    Input: 'I really like New York city'\n",
    "    Output: 'i really like new your city'\n",
    "    \"\"\"\n",
    "\n",
    "    return text.lower()\n",
    "\n",
    "def replace_special_characters(text: str) -> str:\n",
    "    \"\"\"\n",
    "    Replaces special characters, such as paranthesis,\n",
    "    with spacing character\n",
    "    \"\"\"\n",
    "\n",
    "    return REPLACE_BY_SPACE_RE.sub(' ', text)\n",
    "\n",
    "def filter_out_uncommon_symbols(text: str) -> str:\n",
    "    \"\"\"\n",
    "    Removes any special character that is not in the\n",
    "    good symbols list (check regular expression)\n",
    "    \"\"\"\n",
    "\n",
    "    return GOOD_SYMBOLS_RE.sub('', text)\n",
    "\n",
    "def remove_stopwords(text: str) -> str:\n",
    "    return ' '.join([x for x in text.split() if x and x not in STOPWORDS])\n",
    "\n",
    "def strip_text(text: str) -> str:\n",
    "    \"\"\"\n",
    "    Removes any left or right spacing (including carriage return) from text.\n",
    "    Example:\n",
    "    Input: '  This assignment is cool\\n'\n",
    "    Output: 'This assignment is cool'\n",
    "    \"\"\"\n",
    "\n",
    "    return text.strip()    \n",
    "\n",
    "def lemmatize_words(text: str ) -> str:\n",
    "    return \" \".join([lemmatizer.lemmatize(word) for word in text.split()])\n",
    "\n",
    "PREPROCESSING_PIPELINE = [\n",
    "                          lower,\n",
    "                          replace_special_characters,\n",
    "                          filter_out_uncommon_symbols,\n",
    "                          remove_stopwords,\n",
    "                          strip_text,\n",
    "                          lemmatize_words\n",
    "                          ]\n",
    "\n",
    "def text_prepare(text: str,\n",
    "                 filter_methods: List[Callable[[str], str]] = None) -> str:\n",
    "    \"\"\"\n",
    "    Applies a list of pre-processing functions in sequence (reduce).\n",
    "    Note that the order is important here!\n",
    "    \"\"\"\n",
    "\n",
    "    filter_methods = filter_methods if filter_methods is not None else PREPROCESSING_PIPELINE\n",
    "\n",
    "    return reduce(lambda txt, f: f(txt), filter_methods, text)\n",
    "\n",
    "\n",
    "# Replace each sentence with its pre-processed version\n",
    "train_df['Evidence'] = train_df['Evidence'].apply(lambda txt: text_prepare(txt))\n",
    "val_df['Evidence'] = val_df['Evidence'].apply(lambda txt: text_prepare(txt))\n",
    "test_df['Evidence'] = test_df['Evidence'].apply(lambda txt: text_prepare(txt))\n",
    "train_df['Claim'] = train_df['Claim'].apply(lambda txt: text_prepare(txt))\n",
    "val_df['Claim'] = val_df['Claim'].apply(lambda txt: text_prepare(txt))\n",
    "test_df['Claim'] = test_df['Claim'].apply(lambda txt: text_prepare(txt))\n",
    "\n"
   ]
  },
  {
   "cell_type": "markdown",
   "metadata": {},
   "source": [
    "#### Extract y values for train, val and test"
   ]
  },
  {
   "cell_type": "code",
   "execution_count": 6,
   "metadata": {},
   "outputs": [],
   "source": [
    "y_train = np.array(train_df['Label'])\n",
    "y_val = np.array(val_df['Label'])\n",
    "y_test = np.array(test_df['Label'])"
   ]
  },
  {
   "cell_type": "markdown",
   "metadata": {},
   "source": [
    "### Tokenize and padding of data"
   ]
  },
  {
   "cell_type": "code",
   "execution_count": 7,
   "metadata": {},
   "outputs": [],
   "source": [
    "# The tokenizer will have an index 1 for OOV words. A lot of words in test and val will be 1.\n",
    "tokenizer = Tokenizer(oov_token=1)\n",
    "\n",
    "tokenizer.fit_on_texts(train_df[\"Claim\"])\n",
    "tokenizer.fit_on_texts(train_df[\"Evidence\"])"
   ]
  },
  {
   "cell_type": "code",
   "execution_count": 8,
   "metadata": {},
   "outputs": [],
   "source": [
    "# Find max sentence lenght for evidence\n",
    "MAX_SEQ_LEN = np.max([len(text.split()) for text in train_df[\"Evidence\"]])"
   ]
  },
  {
   "cell_type": "code",
   "execution_count": 9,
   "metadata": {},
   "outputs": [],
   "source": [
    "def textToTensor(tokenizer, max_len, text):\n",
    "    '''\n",
    "        Converts text to tensors by converting the words into the correct indexes. \n",
    "        Then padds the tensors with 0 vlaues\n",
    "    '''\n",
    "    seq = tokenizer.texts_to_sequences(text)\n",
    "    padded = pad_sequences(sequences=seq, maxlen=max_len)\n",
    "    return padded"
   ]
  },
  {
   "cell_type": "code",
   "execution_count": 10,
   "metadata": {},
   "outputs": [],
   "source": [
    "claim_train = textToTensor(tokenizer, MAX_SEQ_LEN, train_df[\"Claim\"])\n",
    "evidence_train = textToTensor(tokenizer, MAX_SEQ_LEN, train_df[\"Evidence\"])\n",
    "\n",
    "claim_val = textToTensor(tokenizer, MAX_SEQ_LEN, val_df[\"Claim\"])\n",
    "evidence_val = textToTensor(tokenizer, MAX_SEQ_LEN, val_df[\"Evidence\"])\n",
    "\n",
    "claim_test = textToTensor(tokenizer, MAX_SEQ_LEN, test_df[\"Claim\"])\n",
    "evidence_test = textToTensor(tokenizer, MAX_SEQ_LEN, test_df[\"Evidence\"])"
   ]
  },
  {
   "cell_type": "code",
   "execution_count": 11,
   "metadata": {},
   "outputs": [],
   "source": [
    "# Find size of vocabulary\n",
    "VOCABULARY_SIZE = len(tokenizer.word_index) + 1"
   ]
  },
  {
   "cell_type": "markdown",
   "metadata": {},
   "source": [
    "## Applying glove \n"
   ]
  },
  {
   "cell_type": "code",
   "execution_count": 12,
   "metadata": {},
   "outputs": [],
   "source": [
    "import gensim\n",
    "import gensim.downloader as gloader\n",
    "\n",
    "def load_embedding_model(embedding_dimension: int = 50) -> gensim.models.keyedvectors.KeyedVectors:\n",
    "    download_path = \"glove-wiki-gigaword-{}\".format(embedding_dimension)\n",
    "    # Check download\n",
    "    try:\n",
    "        emb_model = gloader.load(download_path)\n",
    "    except ValueError as e:\n",
    "        print(\"Invalid embedding model name! Check the embedding dimension:\")\n",
    "        print(\"Word2Vec: 300\")\n",
    "        print(\"Glove: 50, 100, 200, 300\")\n",
    "        raise e\n",
    "\n",
    "    return emb_model\n",
    "    \n",
    "def create_embedding_matrix(embedding_model, embedding_dimension, word_to_idx):\n",
    "    embedding_matrix = np.zeros((len(word_to_idx)+1, embedding_dimension), dtype=np.float32)\n",
    "    for word, idx in word_to_idx.items():\n",
    "        try:\n",
    "            embedding_vector = embedding_model[word]\n",
    "        except (KeyError, TypeError):\n",
    "            embedding_vector = np.random.uniform(low=-0.05, high=0.05, size=embedding_dimension)\n",
    "\n",
    "        embedding_matrix[idx] = embedding_vector\n",
    "                                \n",
    "    return embedding_matrix\n",
    "\n"
   ]
  },
  {
   "cell_type": "code",
   "execution_count": 13,
   "metadata": {},
   "outputs": [
    {
     "data": {
      "text/plain": [
       "(32234, 50)"
      ]
     },
     "execution_count": 13,
     "metadata": {},
     "output_type": "execute_result"
    }
   ],
   "source": [
    "embedding_dimension = 50\n",
    "\n",
    "embedding_model = load_embedding_model(embedding_dimension)\n",
    "embedding_matrix = create_embedding_matrix(embedding_model, embedding_dimension, tokenizer.word_index)\n",
    "embedding_matrix.shape"
   ]
  },
  {
   "cell_type": "markdown",
   "metadata": {},
   "source": [
    "### Create model\n",
    "\n",
    "- Choose type of sentence embedding by passing the sentence embedding number (1,2,3 or 4) to the create_model function.\n",
    "- Choose type of merging by passing the merge number (1,2 or 3) to the create_model function."
   ]
  },
  {
   "cell_type": "code",
   "execution_count": 69,
   "metadata": {},
   "outputs": [],
   "source": [
    "def create_model(max_tokens, vocab_size, embedding_dimension, sentence_embedding_type=1, merge_type=1):\n",
    "    '''\n",
    "        Creates keras model for classification.\n",
    "        Inputs: \n",
    "            max_tokens (int): Max length of a text sequence\n",
    "            vocab_size (int): Size of the vocabulary\n",
    "            embedding_dimension (int): The dimension of the embedding vectors\n",
    "            sentence_embedding_type (int): Defines which sentence embedding to use\n",
    "            merge_type (int): Defines which merging function to use\n",
    "    '''   \n",
    "\n",
    "    #-------------------------- Input layer ------------------------------------------------------------\n",
    "    claims_input = Input(shape=(max_tokens, ))\n",
    "    evidence_input = Input(shape=(max_tokens, ))\n",
    "    #-----------------------------------------------------------------------------------------------------\n",
    "\n",
    "    #-------------------------- Word embedding ------------------------------------------------------------\n",
    "    claims_embedding = Embedding(vocab_size, embedding_dimension, weights = [embedding_matrix], name='WordEmbedding_claims', trainable = False)(claims_input)\n",
    "    evidence_embedding = Embedding(vocab_size, embedding_dimension, weights = [embedding_matrix], name='WordEmbedding_evidence', trainable = False)(evidence_input)\n",
    "    #-----------------------------------------------------------------------------------------------------\n",
    "\n",
    "    #-------------------------- Sentence embedding -------------------------------------------------------\n",
    "    if sentence_embedding_type==1:\n",
    "        # Encode token sequences via a RNN and take the last state as the sentence embedding.\n",
    "        claims_sentence_embedding = LSTM(embedding_dimension, return_sequences=False, name='SentenceEmbedding_claims')(claims_embedding)\n",
    "        evidence_sentence_embedding = LSTM(embedding_dimension, return_sequences=False, name='SentenceEmbedding_evidence')(evidence_embedding)\n",
    "    elif sentence_embedding_type==2:\n",
    "        # Encode token sequences via a RNN and average all the output states.\n",
    "\n",
    "        # Put return_sequences True to get output from all hidden states\n",
    "        claims_sentence_embedding = LSTM(embedding_dimension, return_sequences=True, name='SentenceEmbedding_claims')(claims_embedding)\n",
    "        evidence_sentence_embedding = LSTM(embedding_dimension, return_sequences=True, name='SentenceEmbedding_evidence')(evidence_embedding)\n",
    "        \n",
    "        # Take average of outputs\n",
    "        claims_sentence_embedding = K.mean(claims_sentence_embedding, axis=1)\n",
    "        evidence_sentence_embedding = K.mean(evidence_sentence_embedding, axis=1)\n",
    "\n",
    "    elif sentence_embedding_type==3:\n",
    "        # Encode token sequences via a simple MLP layer.\n",
    "        num = embedding_dimension*max_tokens\n",
    "        # Reshape 3d vector to 2d\n",
    "        claims_sentence_embedding = Reshape((num,), input_shape=(max_tokens, embedding_dimension))(claims_embedding)\n",
    "        evidence_sentence_embedding = Reshape((num,), input_shape=(max_tokens, embedding_dimension))(evidence_embedding)\n",
    "\n",
    "        # Send into dense layer\n",
    "        claims_sentence_embedding = Dense(num, name='SentenceEmbedding_claims')(claims_sentence_embedding)\n",
    "        evidence_sentence_embedding = Dense(num, name='SentenceEmbedding_evidence')(evidence_sentence_embedding)\n",
    "   \n",
    "    elif sentence_embedding_type==4:\n",
    "        # Compute the sentence embedding as the mean of its token embeddings (bag of vectors).\n",
    "        claims_sentence_embedding = K.mean(claims_embedding, axis=1)\n",
    "        evidence_sentence_embedding = K.mean(evidence_embedding, axis=1)\n",
    "    else:\n",
    "        raise Exception(\"Sentence embedding type must be an integer between 1 and 4\")\n",
    "    #------------------------------------------------------------------------------------------------------------\n",
    "    \n",
    "\n",
    "    #-------------------------- Extension with cosine similarity -----------------------------------------------\n",
    "    # Calulate cosine similarity\n",
    "    # Returns list of cosine similarities for each evidence claim pair\n",
    "    cosine_loss = tf.keras.losses.CosineSimilarity(axis=-1, reduction=tf.keras.losses.Reduction.NONE)\n",
    "    cosine_similarity = cosine_loss(claims_sentence_embedding, evidence_sentence_embedding)\n",
    "\n",
    "    # Expand dimention to get tensor on shape (embedding_dimension, 1)\n",
    "    cosine_similarity = Lambda(lambda x: K.expand_dims(x, axis=1))(cosine_similarity)\n",
    "\n",
    "    # Concatenate tensors and get them on shape (batch_size, embedding_dim + 1)\n",
    "    claims_sentence_embedding = Concatenate(axis=-1)([claims_sentence_embedding, cosine_similarity])\n",
    "    evidence_sentence_embedding = Concatenate(axis=-1)([evidence_sentence_embedding, cosine_similarity])\n",
    "    #------------------------------------------------------------------------------------------------------------\n",
    "\n",
    "    #------------------------------------- Merging --------------------------------------------------------------\n",
    "    if merge_type == 1:\n",
    "        # Concatenate\n",
    "        merged = Concatenate(axis=1)([claims_sentence_embedding, evidence_sentence_embedding])\n",
    "    elif merge_type == 2:\n",
    "        # Sum\n",
    "        merged = Add()([claims_sentence_embedding, evidence_sentence_embedding])\n",
    "    elif merge_type == 3:\n",
    "        # Mean\n",
    "        merged = Average()([claims_sentence_embedding, evidence_sentence_embedding])\n",
    "    else:\n",
    "        raise Exception(\"Merge type must be an integer between 1 and 3\")\n",
    "    #------------------------------------------------------------------------------------------------------------\n",
    "\n",
    "    #------------------------------------- Classification --------------------------------------------------------------\n",
    "    out = (Dense(1, activation='sigmoid'))(merged)\n",
    "    #------------------------------------------------------------------------------------------------------------\n",
    "\n",
    "    model = Model(inputs=[claims_input, evidence_input], outputs=[out])\n",
    "\n",
    "    return model"
   ]
  },
  {
   "cell_type": "markdown",
   "metadata": {},
   "source": [
    "### Funcitons for saving, predicting, plotting and evaluating the models\n"
   ]
  },
  {
   "cell_type": "markdown",
   "metadata": {},
   "source": [
    "#### Save model"
   ]
  },
  {
   "cell_type": "code",
   "execution_count": 47,
   "metadata": {},
   "outputs": [],
   "source": [
    "def save_model(model, sentence_embedding_type=1, merge_type=1, dir='models'):\n",
    "    '''\n",
    "        Saves model naming it according to sentence embedding merge type and time stamp.\n",
    "    '''\n",
    "    now = datetime.now()\n",
    "    dt_string = now.strftime(\"%d_%m_%Y_%H:%M:%S\")\n",
    "    model_name = f'model_SE{sentence_embedding_type}_MT{merge_type}_{dt_string}'\n",
    "    path = f'{dir}/{model_name}'\n",
    "    model.save(path)"
   ]
  },
  {
   "cell_type": "markdown",
   "metadata": {},
   "source": [
    "#### Get predicitons"
   ]
  },
  {
   "cell_type": "code",
   "execution_count": null,
   "metadata": {},
   "outputs": [],
   "source": [
    "def prediction(model: keras.Model, x, predicting_info):\n",
    "    '''Call the models prediction function'''\n",
    "    predictions = model.predict(x, **predicting_info)\n",
    "    return predictions"
   ]
  },
  {
   "cell_type": "markdown",
   "metadata": {},
   "source": [
    "#### Plot accuracy and loss"
   ]
  },
  {
   "cell_type": "code",
   "execution_count": 48,
   "metadata": {},
   "outputs": [],
   "source": [
    "def plot_accuracy(model_callback):\n",
    "    plt.plot(model_callback.history['acc'])\n",
    "    plt.plot(model_callback.history['val_acc'])\n",
    "    plt.title('model accuracy')\n",
    "    plt.ylabel('accuracy')\n",
    "    plt.xlabel('epoch')\n",
    "    plt.legend(['train', 'val'], loc=\"lower right\")\n",
    "    plt.show()\n",
    "    \n",
    "def plot_loss(model_callback):\n",
    "    plt.plot(model_callback.history['loss'])\n",
    "    plt.plot(model_callback.history['val_loss'])\n",
    "    plt.title('model loss')\n",
    "    plt.ylabel('loss')\n",
    "    plt.xlabel('epoch')\n",
    "    plt.legend(['train', 'val'], loc=\"lower right\")\n",
    "    plt.show()\n",
    "    \n",
    "def plot_confusion_matrix(confusion_matrix):\n",
    "\n",
    "    ax = sns.heatmap(confusion_matrix, annot=True, cmap='Blues', fmt='d')\n",
    "\n",
    "    ax.set_title('Confusion Matrix\\n\\n')\n",
    "    ax.set_xlabel('\\nPredicted Values')\n",
    "    ax.set_ylabel('Actual Values ')\n",
    "\n",
    "    ## Ticket labels - List must be in alphabetical order\n",
    "    ax.xaxis.set_ticklabels(['False','True'])\n",
    "    ax.yaxis.set_ticklabels(['False','True'])\n",
    "\n",
    "    ## Display the visualization of the Confusion Matrix.\n",
    "    plt.show()"
   ]
  },
  {
   "cell_type": "markdown",
   "metadata": {},
   "source": [
    "#### Fucniton for multi-input classification evaluation"
   ]
  },
  {
   "cell_type": "code",
   "execution_count": 49,
   "metadata": {},
   "outputs": [],
   "source": [
    "def evaluation(predictions):\n",
    "    '''\n",
    "        Function for plotting the confusion_matrix\n",
    "        Inputs:\n",
    "            predicitons: Predicitons from a keras model\n",
    "    '''\n",
    "    print(classification_report(y_test, predictions))\n",
    "    print(accuracy_score(y_test, predictions))\n",
    "    cf_matrix = confusion_matrix(y_test, predictions)\n",
    "    plot_confusion_matrix(cf_matrix)"
   ]
  },
  {
   "cell_type": "markdown",
   "metadata": {},
   "source": [
    "#### Funcitons for claim verification evaluation"
   ]
  },
  {
   "cell_type": "code",
   "execution_count": 50,
   "metadata": {},
   "outputs": [],
   "source": [
    "def make_claims_dict():\n",
    "    \"\"\"\n",
    "    Makes a dictionary with claimID as key and \n",
    "    a list of the index for every evidence \n",
    "    corresponding to the claim as value\n",
    "    \"\"\"\n",
    "    claims = {}\n",
    "    t = test_df.groupby(\"claimID\")\n",
    "    for name, group in t:\n",
    "        claims[name] = list(group.index)\n",
    "    return claims"
   ]
  },
  {
   "cell_type": "code",
   "execution_count": 51,
   "metadata": {},
   "outputs": [],
   "source": [
    "def majority_pred(predictions):\n",
    "    \"\"\"\n",
    "    Find predictions based on majority voting\n",
    "    \"\"\"\n",
    "    majority = []\n",
    "\n",
    "    for i in range(len(claim_test)):\n",
    "        claim_id = np.array(test_df['claimID'])[i]\n",
    "        support = 0\n",
    "        defutes = 0\n",
    "        for evidence in claims_dict[claim_id]:\n",
    "            if predictions[evidence] == 1:\n",
    "                support += 1\n",
    "            else:\n",
    "                defutes += 1\n",
    "        if support > defutes:\n",
    "            majority.append(1.0)\n",
    "        else:\n",
    "            majority.append(0.0)\n",
    "    return majority"
   ]
  },
  {
   "cell_type": "markdown",
   "metadata": {},
   "source": [
    "## Running the models"
   ]
  },
  {
   "cell_type": "markdown",
   "metadata": {},
   "source": [
    "### Model using sentence embedding 1 and concatination merging\n",
    "Sentence embedding 1 = Encode token sequences via a RNN and take the last state as the sentence embedding"
   ]
  },
  {
   "cell_type": "markdown",
   "metadata": {},
   "source": [
    "#### Create model"
   ]
  },
  {
   "cell_type": "code",
   "execution_count": 54,
   "metadata": {},
   "outputs": [],
   "source": [
    "# Change vaiables in order to change sentence_embedding_type and merge_type\n",
    "sentence_embedding_type = 1\n",
    "merge_type = 1"
   ]
  },
  {
   "cell_type": "code",
   "execution_count": 41,
   "metadata": {
    "scrolled": false
   },
   "outputs": [
    {
     "name": "stdout",
     "output_type": "stream",
     "text": [
      "Model: \"model_3\"\n",
      "__________________________________________________________________________________________________\n",
      " Layer (type)                   Output Shape         Param #     Connected to                     \n",
      "==================================================================================================\n",
      " input_7 (InputLayer)           [(None, 96)]         0           []                               \n",
      "                                                                                                  \n",
      " input_8 (InputLayer)           [(None, 96)]         0           []                               \n",
      "                                                                                                  \n",
      " WordEmbedding_claims (Embeddin  (None, 96, 50)      1611700     ['input_7[0][0]']                \n",
      " g)                                                                                               \n",
      "                                                                                                  \n",
      " WordEmbedding_evidence (Embedd  (None, 96, 50)      1611700     ['input_8[0][0]']                \n",
      " ing)                                                                                             \n",
      "                                                                                                  \n",
      " SentenceEmbedding_claims (LSTM  (None, 50)          20200       ['WordEmbedding_claims[0][0]']   \n",
      " )                                                                                                \n",
      "                                                                                                  \n",
      " SentenceEmbedding_evidence (LS  (None, 50)          20200       ['WordEmbedding_evidence[0][0]'] \n",
      " TM)                                                                                              \n",
      "                                                                                                  \n",
      " tf.convert_to_tensor_7 (TFOpLa  (None, 50)          0           ['SentenceEmbedding_claims[0][0]'\n",
      " mbda)                                                           ]                                \n",
      "                                                                                                  \n",
      " tf.convert_to_tensor_6 (TFOpLa  (None, 50)          0           ['SentenceEmbedding_evidence[0][0\n",
      " mbda)                                                           ]']                              \n",
      "                                                                                                  \n",
      " tf.math.l2_normalize_6 (TFOpLa  (None, 50)          0           ['tf.convert_to_tensor_7[0][0]'] \n",
      " mbda)                                                                                            \n",
      "                                                                                                  \n",
      " tf.math.l2_normalize_7 (TFOpLa  (None, 50)          0           ['tf.convert_to_tensor_6[0][0]'] \n",
      " mbda)                                                                                            \n",
      "                                                                                                  \n",
      " tf.math.multiply_6 (TFOpLambda  (None, 50)          0           ['tf.math.l2_normalize_6[0][0]', \n",
      " )                                                                'tf.math.l2_normalize_7[0][0]'] \n",
      "                                                                                                  \n",
      " tf.math.reduce_sum_3 (TFOpLamb  (None,)             0           ['tf.math.multiply_6[0][0]']     \n",
      " da)                                                                                              \n",
      "                                                                                                  \n",
      " tf.math.negative_3 (TFOpLambda  (None,)             0           ['tf.math.reduce_sum_3[0][0]']   \n",
      " )                                                                                                \n",
      "                                                                                                  \n",
      " tf.cast_6 (TFOpLambda)         (None,)              0           ['tf.math.negative_3[0][0]']     \n",
      "                                                                                                  \n",
      " tf.math.multiply_7 (TFOpLambda  (None,)             0           ['tf.cast_6[0][0]']              \n",
      " )                                                                                                \n",
      "                                                                                                  \n",
      " tf.cast_7 (TFOpLambda)         (None,)              0           ['tf.math.multiply_7[0][0]']     \n",
      "                                                                                                  \n",
      " lambda_3 (Lambda)              (None, 1)            0           ['tf.cast_7[0][0]']              \n",
      "                                                                                                  \n",
      " concatenate_9 (Concatenate)    (None, 51)           0           ['SentenceEmbedding_claims[0][0]'\n",
      "                                                                 , 'lambda_3[0][0]']              \n",
      "                                                                                                  \n",
      " concatenate_10 (Concatenate)   (None, 51)           0           ['SentenceEmbedding_evidence[0][0\n",
      "                                                                 ]',                              \n",
      "                                                                  'lambda_3[0][0]']               \n",
      "                                                                                                  \n",
      " concatenate_11 (Concatenate)   (None, 102)          0           ['concatenate_9[0][0]',          \n",
      "                                                                  'concatenate_10[0][0]']         \n",
      "                                                                                                  \n",
      " dense_3 (Dense)                (None, 1)            103         ['concatenate_11[0][0]']         \n",
      "                                                                                                  \n",
      "==================================================================================================\n",
      "Total params: 3,263,903\n",
      "Trainable params: 40,503\n",
      "Non-trainable params: 3,223,400\n",
      "__________________________________________________________________________________________________\n"
     ]
    }
   ],
   "source": [
    "model = create_model(MAX_SEQ_LEN, VOCABULARY_SIZE, embedding_dimension, sentence_embedding_type=sentence_embedding_type, merge_type=merge_type)\n",
    "model.summary()"
   ]
  },
  {
   "cell_type": "markdown",
   "metadata": {},
   "source": [
    "##### Train model"
   ]
  },
  {
   "cell_type": "code",
   "execution_count": 42,
   "metadata": {},
   "outputs": [],
   "source": [
    "BATCH_SIZE = 256\n",
    "EPOCHS = 10"
   ]
  },
  {
   "cell_type": "code",
   "execution_count": 43,
   "metadata": {},
   "outputs": [
    {
     "name": "stdout",
     "output_type": "stream",
     "text": [
      "Epoch 1/10\n",
      "476/476 [==============================] - 107s 213ms/step - loss: 0.1845 - acc: 0.7414 - val_loss: 0.2791 - val_acc: 0.5498\n",
      "Epoch 2/10\n",
      "476/476 [==============================] - 95s 199ms/step - loss: 0.1685 - acc: 0.7671 - val_loss: 0.2538 - val_acc: 0.5867\n",
      "Epoch 3/10\n",
      "476/476 [==============================] - 107s 225ms/step - loss: 0.1597 - acc: 0.7808 - val_loss: 0.2549 - val_acc: 0.5972\n",
      "Epoch 4/10\n",
      "476/476 [==============================] - 105s 221ms/step - loss: 0.1532 - acc: 0.7905 - val_loss: 0.2460 - val_acc: 0.6133\n",
      "Epoch 5/10\n",
      "476/476 [==============================] - 90s 188ms/step - loss: 0.1482 - acc: 0.7986 - val_loss: 0.2516 - val_acc: 0.6131\n",
      "Epoch 6/10\n",
      "476/476 [==============================] - 106s 223ms/step - loss: 0.1440 - acc: 0.8043 - val_loss: 0.2332 - val_acc: 0.6420\n",
      "Epoch 7/10\n",
      "476/476 [==============================] - 110s 231ms/step - loss: 0.1399 - acc: 0.8105 - val_loss: 0.2452 - val_acc: 0.6332\n",
      "Epoch 8/10\n",
      "476/476 [==============================] - 106s 223ms/step - loss: 0.1363 - acc: 0.8163 - val_loss: 0.2342 - val_acc: 0.6448\n",
      "Epoch 9/10\n",
      "476/476 [==============================] - 115s 241ms/step - loss: 0.1329 - acc: 0.8207 - val_loss: 0.2409 - val_acc: 0.6413\n",
      "Epoch 10/10\n",
      "476/476 [==============================] - 112s 234ms/step - loss: 0.1297 - acc: 0.8261 - val_loss: 0.2256 - val_acc: 0.6631\n"
     ]
    }
   ],
   "source": [
    "model.compile(loss='mse',\n",
    "              optimizer='Adam',\n",
    "              metrics=['acc'])\n",
    "history = model.fit(x=[claim_train, evidence_train], y=y_train, batch_size=BATCH_SIZE, epochs=EPOCHS, validation_data=([claim_val, evidence_val], y_val))"
   ]
  },
  {
   "cell_type": "markdown",
   "metadata": {},
   "source": [
    "#### Plot accuracy and loss"
   ]
  },
  {
   "cell_type": "code",
   "execution_count": 55,
   "metadata": {},
   "outputs": [
    {
     "data": {
      "image/png": "[encoded data removed]",
      "text/plain": [
       "<Figure size 432x288 with 1 Axes>"
      ]
     },
     "metadata": {
      "needs_background": "light"
     },
     "output_type": "display_data"
    },
    {
     "data": {
      "image/png": "[encoded data removed]",
      "text/plain": [
       "<Figure size 432x288 with 1 Axes>"
      ]
     },
     "metadata": {
      "needs_background": "light"
     },
     "output_type": "display_data"
    }
   ],
   "source": [
    "plot_accuracy(history)\n",
    "plot_loss(history)"
   ]
  },
  {
   "cell_type": "markdown",
   "metadata": {},
   "source": [
    "#### Save model"
   ]
  },
  {
   "cell_type": "code",
   "execution_count": 45,
   "metadata": {},
   "outputs": [
    {
     "name": "stderr",
     "output_type": "stream",
     "text": [
      "WARNING:absl:Found untraced functions such as lstm_cell_4_layer_call_fn, lstm_cell_4_layer_call_and_return_conditional_losses, lstm_cell_5_layer_call_fn, lstm_cell_5_layer_call_and_return_conditional_losses, lstm_cell_4_layer_call_fn while saving (showing 5 of 10). These functions will not be directly callable after loading.\n"
     ]
    },
    {
     "name": "stdout",
     "output_type": "stream",
     "text": [
      "INFO:tensorflow:Assets written to: models/model_SE1_MT1_07_12_2021_11:40:04/assets\n"
     ]
    },
    {
     "name": "stderr",
     "output_type": "stream",
     "text": [
      "INFO:tensorflow:Assets written to: models/model_SE1_MT1_07_12_2021_11:40:04/assets\n",
      "WARNING:absl:<keras.layers.recurrent.LSTMCell object at 0x17bd96e20> has the same name 'LSTMCell' as a built-in Keras object. Consider renaming <class 'keras.layers.recurrent.LSTMCell'> to avoid naming conflicts when loading with `tf.keras.models.load_model`. If renaming is not possible, pass the object in the `custom_objects` parameter of the load function.\n",
      "WARNING:absl:<keras.layers.recurrent.LSTMCell object at 0x17bd9cf10> has the same name 'LSTMCell' as a built-in Keras object. Consider renaming <class 'keras.layers.recurrent.LSTMCell'> to avoid naming conflicts when loading with `tf.keras.models.load_model`. If renaming is not possible, pass the object in the `custom_objects` parameter of the load function.\n"
     ]
    }
   ],
   "source": [
    "save_model(model, sentence_embedding_type, merge_type)"
   ]
  },
  {
   "cell_type": "markdown",
   "metadata": {},
   "source": [
    "#### Prediction\n",
    "Calcualte the predictions for the test set"
   ]
  },
  {
   "cell_type": "code",
   "execution_count": 22,
   "metadata": {},
   "outputs": [],
   "source": [
    "predictions = prediction(model, [claim_test, evidence_test], {'batch_size': 100})\n",
    "predictions = np.rint(predictions)"
   ]
  },
  {
   "cell_type": "markdown",
   "metadata": {},
   "source": [
    "#### Evaluation"
   ]
  },
  {
   "cell_type": "markdown",
   "metadata": {},
   "source": [
    "##### Multi-input classification evaluation"
   ]
  },
  {
   "cell_type": "code",
   "execution_count": 56,
   "metadata": {},
   "outputs": [
    {
     "name": "stdout",
     "output_type": "stream",
     "text": [
      "              precision    recall  f1-score   support\n",
      "\n",
      "           0       0.82      0.32      0.46      3583\n",
      "           1       0.58      0.93      0.71      3606\n",
      "\n",
      "    accuracy                           0.63      7189\n",
      "   macro avg       0.70      0.63      0.59      7189\n",
      "weighted avg       0.70      0.63      0.59      7189\n",
      "\n",
      "0.6265127277785506\n"
     ]
    },
    {
     "data": {
      "image/png": "[encoded data removed]",
      "text/plain": [
       "<Figure size 432x288 with 2 Axes>"
      ]
     },
     "metadata": {
      "needs_background": "light"
     },
     "output_type": "display_data"
    }
   ],
   "source": [
    "evaluation(predictions)"
   ]
  },
  {
   "cell_type": "markdown",
   "metadata": {},
   "source": [
    "#### Claim verification evaluation"
   ]
  },
  {
   "cell_type": "code",
   "execution_count": 53,
   "metadata": {},
   "outputs": [
    {
     "name": "stdout",
     "output_type": "stream",
     "text": [
      "              precision    recall  f1-score   support\n",
      "\n",
      "           0       0.81      0.32      0.46      3583\n",
      "           1       0.58      0.93      0.71      3606\n",
      "\n",
      "    accuracy                           0.63      7189\n",
      "   macro avg       0.70      0.62      0.59      7189\n",
      "weighted avg       0.70      0.63      0.59      7189\n",
      "\n",
      "0.6251217137293087\n"
     ]
    },
    {
     "data": {
      "image/png": "[encoded data removed]",
      "text/plain": [
       "<Figure size 432x288 with 2 Axes>"
      ]
     },
     "metadata": {
      "needs_background": "light"
     },
     "output_type": "display_data"
    }
   ],
   "source": [
    "claims_dict = make_claims_dict()\n",
    "majority_predictions = majority_pred(predictions)\n",
    "evaluation(majority_predictions)"
   ]
  },
  {
   "cell_type": "markdown",
   "metadata": {},
   "source": [
    "### Model using sentence embedding 1 and sum merging\n",
    "Sentence embedding 1 = Encode token sequences via a RNN and take the last state as the sentence embedding"
   ]
  },
  {
   "cell_type": "markdown",
   "metadata": {},
   "source": [
    "#### Create model"
   ]
  },
  {
   "cell_type": "code",
   "execution_count": 65,
   "metadata": {},
   "outputs": [],
   "source": [
    "# Change vaiables in order to change sentence_embedding_type and merge_type\n",
    "sentence_embedding_type = 1\n",
    "merge_type = 2"
   ]
  },
  {
   "cell_type": "code",
   "execution_count": 66,
   "metadata": {
    "scrolled": false
   },
   "outputs": [
    {
     "name": "stdout",
     "output_type": "stream",
     "text": [
      "Model: \"model_4\"\n",
      "__________________________________________________________________________________________________\n",
      " Layer (type)                   Output Shape         Param #     Connected to                     \n",
      "==================================================================================================\n",
      " input_15 (InputLayer)          [(None, 96)]         0           []                               \n",
      "                                                                                                  \n",
      " input_16 (InputLayer)          [(None, 96)]         0           []                               \n",
      "                                                                                                  \n",
      " WordEmbedding_claims (Embeddin  (None, 96, 50)      1611700     ['input_15[0][0]']               \n",
      " g)                                                                                               \n",
      "                                                                                                  \n",
      " WordEmbedding_evidence (Embedd  (None, 96, 50)      1611700     ['input_16[0][0]']               \n",
      " ing)                                                                                             \n",
      "                                                                                                  \n",
      " SentenceEmbedding_claims (LSTM  (None, 50)          20200       ['WordEmbedding_claims[0][0]']   \n",
      " )                                                                                                \n",
      "                                                                                                  \n",
      " SentenceEmbedding_evidence (LS  (None, 50)          20200       ['WordEmbedding_evidence[0][0]'] \n",
      " TM)                                                                                              \n",
      "                                                                                                  \n",
      " tf.convert_to_tensor_15 (TFOpL  (None, 50)          0           ['SentenceEmbedding_claims[0][0]'\n",
      " ambda)                                                          ]                                \n",
      "                                                                                                  \n",
      " tf.convert_to_tensor_14 (TFOpL  (None, 50)          0           ['SentenceEmbedding_evidence[0][0\n",
      " ambda)                                                          ]']                              \n",
      "                                                                                                  \n",
      " tf.math.l2_normalize_14 (TFOpL  (None, 50)          0           ['tf.convert_to_tensor_15[0][0]']\n",
      " ambda)                                                                                           \n",
      "                                                                                                  \n",
      " tf.math.l2_normalize_15 (TFOpL  (None, 50)          0           ['tf.convert_to_tensor_14[0][0]']\n",
      " ambda)                                                                                           \n",
      "                                                                                                  \n",
      " tf.math.multiply_14 (TFOpLambd  (None, 50)          0           ['tf.math.l2_normalize_14[0][0]',\n",
      " a)                                                               'tf.math.l2_normalize_15[0][0]']\n",
      "                                                                                                  \n",
      " tf.math.reduce_sum_7 (TFOpLamb  (None,)             0           ['tf.math.multiply_14[0][0]']    \n",
      " da)                                                                                              \n",
      "                                                                                                  \n",
      " tf.math.negative_7 (TFOpLambda  (None,)             0           ['tf.math.reduce_sum_7[0][0]']   \n",
      " )                                                                                                \n",
      "                                                                                                  \n",
      " tf.cast_14 (TFOpLambda)        (None,)              0           ['tf.math.negative_7[0][0]']     \n",
      "                                                                                                  \n",
      " tf.math.multiply_15 (TFOpLambd  (None,)             0           ['tf.cast_14[0][0]']             \n",
      " a)                                                                                               \n",
      "                                                                                                  \n",
      " tf.cast_15 (TFOpLambda)        (None,)              0           ['tf.math.multiply_15[0][0]']    \n",
      "                                                                                                  \n",
      " lambda_7 (Lambda)              (None, 1)            0           ['tf.cast_15[0][0]']             \n",
      "                                                                                                  \n",
      " concatenate_18 (Concatenate)   (None, 51)           0           ['SentenceEmbedding_claims[0][0]'\n",
      "                                                                 , 'lambda_7[0][0]']              \n",
      "                                                                                                  \n",
      " concatenate_19 (Concatenate)   (None, 51)           0           ['SentenceEmbedding_evidence[0][0\n",
      "                                                                 ]',                              \n",
      "                                                                  'lambda_7[0][0]']               \n",
      "                                                                                                  \n",
      " add (Add)                      (None, 51)           0           ['concatenate_18[0][0]',         \n",
      "                                                                  'concatenate_19[0][0]']         \n",
      "                                                                                                  \n",
      " dense_4 (Dense)                (None, 1)            52          ['add[0][0]']                    \n",
      "                                                                                                  \n",
      "==================================================================================================\n",
      "Total params: 3,263,852\n",
      "Trainable params: 40,452\n",
      "Non-trainable params: 3,223,400\n",
      "__________________________________________________________________________________________________\n"
     ]
    }
   ],
   "source": [
    "model = create_model(MAX_SEQ_LEN, VOCABULARY_SIZE, embedding_dimension, sentence_embedding_type=sentence_embedding_type, merge_type=merge_type)\n",
    "model.summary()"
   ]
  },
  {
   "cell_type": "markdown",
   "metadata": {},
   "source": [
    "##### Train model"
   ]
  },
  {
   "cell_type": "code",
   "execution_count": 67,
   "metadata": {},
   "outputs": [],
   "source": [
    "BATCH_SIZE = 256\n",
    "EPOCHS = 10"
   ]
  },
  {
   "cell_type": "code",
   "execution_count": 68,
   "metadata": {},
   "outputs": [
    {
     "name": "stdout",
     "output_type": "stream",
     "text": [
      "Epoch 1/10\n",
      "476/476 [==============================] - 108s 215ms/step - loss: 0.1844 - acc: 0.7416 - val_loss: 0.2744 - val_acc: 0.5514\n",
      "Epoch 2/10\n",
      "476/476 [==============================] - 110s 231ms/step - loss: 0.1688 - acc: 0.7663 - val_loss: 0.2740 - val_acc: 0.5668\n",
      "Epoch 3/10\n",
      "476/476 [==============================] - 89s 187ms/step - loss: 0.1611 - acc: 0.7789 - val_loss: 0.2587 - val_acc: 0.5954\n",
      "Epoch 4/10\n",
      "476/476 [==============================] - 103s 217ms/step - loss: 0.1555 - acc: 0.7871 - val_loss: 0.2451 - val_acc: 0.6165\n",
      "Epoch 5/10\n",
      "476/476 [==============================] - 81s 171ms/step - loss: 0.1513 - acc: 0.7930 - val_loss: 0.2531 - val_acc: 0.6162\n",
      "Epoch 6/10\n",
      "476/476 [==============================] - 80s 167ms/step - loss: 0.1474 - acc: 0.7990 - val_loss: 0.2427 - val_acc: 0.6286\n",
      "Epoch 7/10\n",
      "476/476 [==============================] - 96s 201ms/step - loss: 0.1436 - acc: 0.8046 - val_loss: 0.2395 - val_acc: 0.6384\n",
      "Epoch 8/10\n",
      "476/476 [==============================] - 91s 191ms/step - loss: 0.1403 - acc: 0.8092 - val_loss: 0.2470 - val_acc: 0.6334\n",
      "Epoch 9/10\n",
      "476/476 [==============================] - 91s 191ms/step - loss: 0.1371 - acc: 0.8150 - val_loss: 0.2605 - val_acc: 0.6313\n",
      "Epoch 10/10\n",
      "476/476 [==============================] - 93s 195ms/step - loss: 0.1344 - acc: 0.8187 - val_loss: 0.2517 - val_acc: 0.6345\n"
     ]
    }
   ],
   "source": [
    "model.compile(loss='mse',\n",
    "              optimizer='Adam',\n",
    "              metrics=['acc'])\n",
    "history = model.fit(x=[claim_train, evidence_train], y=y_train, batch_size=BATCH_SIZE, epochs=EPOCHS, validation_data=([claim_val, evidence_val], y_val))"
   ]
  },
  {
   "cell_type": "markdown",
   "metadata": {},
   "source": [
    "#### Plot accuracy and loss"
   ]
  },
  {
   "cell_type": "code",
   "execution_count": null,
   "metadata": {},
   "outputs": [
    {
     "data": {
      "image/png": "[encoded data removed]",
      "text/plain": [
       "<Figure size 432x288 with 1 Axes>"
      ]
     },
     "metadata": {},
     "output_type": "display_data"
    },
    {
     "data": {
      "image/png": "[encoded data removed]",
      "text/plain": [
       "<Figure size 432x288 with 1 Axes>"
      ]
     },
     "metadata": {},
     "output_type": "display_data"
    }
   ],
   "source": [
    "plot_accuracy(history)\n",
    "plot_loss(history)"
   ]
  },
  {
   "cell_type": "markdown",
   "metadata": {},
   "source": [
    "#### Save model"
   ]
  },
  {
   "cell_type": "code",
   "execution_count": null,
   "metadata": {},
   "outputs": [
    {
     "name": "stderr",
     "output_type": "stream",
     "text": [
      "WARNING:absl:Found untraced functions such as lstm_cell_4_layer_call_fn, lstm_cell_4_layer_call_and_return_conditional_losses, lstm_cell_5_layer_call_fn, lstm_cell_5_layer_call_and_return_conditional_losses, lstm_cell_4_layer_call_fn while saving (showing 5 of 10). These functions will not be directly callable after loading.\n"
     ]
    },
    {
     "name": "stdout",
     "output_type": "stream",
     "text": [
      "INFO:tensorflow:Assets written to: models/model_SE1_MT1_07_12_2021_11:40:04/assets\n"
     ]
    },
    {
     "name": "stderr",
     "output_type": "stream",
     "text": [
      "INFO:tensorflow:Assets written to: models/model_SE1_MT1_07_12_2021_11:40:04/assets\n",
      "WARNING:absl:<keras.layers.recurrent.LSTMCell object at 0x17bd96e20> has the same name 'LSTMCell' as a built-in Keras object. Consider renaming <class 'keras.layers.recurrent.LSTMCell'> to avoid naming conflicts when loading with `tf.keras.models.load_model`. If renaming is not possible, pass the object in the `custom_objects` parameter of the load function.\n",
      "WARNING:absl:<keras.layers.recurrent.LSTMCell object at 0x17bd9cf10> has the same name 'LSTMCell' as a built-in Keras object. Consider renaming <class 'keras.layers.recurrent.LSTMCell'> to avoid naming conflicts when loading with `tf.keras.models.load_model`. If renaming is not possible, pass the object in the `custom_objects` parameter of the load function.\n"
     ]
    }
   ],
   "source": [
    "save_model(model, sentence_embedding_type, merge_type)"
   ]
  },
  {
   "cell_type": "markdown",
   "metadata": {},
   "source": [
    "#### Prediction\n",
    "Calcualte the predictions for the test set"
   ]
  },
  {
   "cell_type": "code",
   "execution_count": null,
   "metadata": {},
   "outputs": [],
   "source": [
    "predictions = prediction(model, [claim_test, evidence_test], {'batch_size': 100})\n",
    "predictions = np.rint(predictions)"
   ]
  },
  {
   "cell_type": "markdown",
   "metadata": {},
   "source": [
    "#### Evaluation"
   ]
  },
  {
   "cell_type": "markdown",
   "metadata": {},
   "source": [
    "##### Multi-input classification evaluation"
   ]
  },
  {
   "cell_type": "code",
   "execution_count": null,
   "metadata": {},
   "outputs": [
    {
     "name": "stdout",
     "output_type": "stream",
     "text": [
      "              precision    recall  f1-score   support\n",
      "\n",
      "           0       0.82      0.32      0.46      3583\n",
      "           1       0.58      0.93      0.71      3606\n",
      "\n",
      "    accuracy                           0.63      7189\n",
      "   macro avg       0.70      0.63      0.59      7189\n",
      "weighted avg       0.70      0.63      0.59      7189\n",
      "\n",
      "0.6265127277785506\n"
     ]
    },
    {
     "data": {
      "image/png": "[encoded data removed]",
      "text/plain": [
       "<Figure size 432x288 with 2 Axes>"
      ]
     },
     "metadata": {},
     "output_type": "display_data"
    }
   ],
   "source": [
    "evaluation(predictions)"
   ]
  },
  {
   "cell_type": "markdown",
   "metadata": {},
   "source": [
    "#### Claim verification evaluation"
   ]
  },
  {
   "cell_type": "code",
   "execution_count": null,
   "metadata": {},
   "outputs": [
    {
     "name": "stdout",
     "output_type": "stream",
     "text": [
      "              precision    recall  f1-score   support\n",
      "\n",
      "           0       0.81      0.32      0.46      3583\n",
      "           1       0.58      0.93      0.71      3606\n",
      "\n",
      "    accuracy                           0.63      7189\n",
      "   macro avg       0.70      0.62      0.59      7189\n",
      "weighted avg       0.70      0.63      0.59      7189\n",
      "\n",
      "0.6251217137293087\n"
     ]
    },
    {
     "data": {
      "image/png": "[encoded data removed]",
      "text/plain": [
       "<Figure size 432x288 with 2 Axes>"
      ]
     },
     "metadata": {},
     "output_type": "display_data"
    }
   ],
   "source": [
    "claims_dict = make_claims_dict()\n",
    "majority_predictions = majority_pred(predictions)\n",
    "evaluation(majority_predictions)"
   ]
  },
  {
   "cell_type": "markdown",
   "metadata": {},
   "source": [
    "### Model using sentence embedding 1 and mean merging\n",
    "Sentence embedding 1 = Encode token sequences via a RNN and take the last state as the sentence embedding"
   ]
  },
  {
   "cell_type": "markdown",
   "metadata": {},
   "source": [
    "#### Create model"
   ]
  },
  {
   "cell_type": "code",
   "execution_count": 70,
   "metadata": {},
   "outputs": [],
   "source": [
    "# Change vaiables in order to change sentence_embedding_type and merge_type\n",
    "sentence_embedding_type = 1\n",
    "merge_type = 3"
   ]
  },
  {
   "cell_type": "code",
   "execution_count": 71,
   "metadata": {
    "scrolled": false
   },
   "outputs": [
    {
     "name": "stdout",
     "output_type": "stream",
     "text": [
      "Model: \"model_5\"\n",
      "__________________________________________________________________________________________________\n",
      " Layer (type)                   Output Shape         Param #     Connected to                     \n",
      "==================================================================================================\n",
      " input_17 (InputLayer)          [(None, 96)]         0           []                               \n",
      "                                                                                                  \n",
      " input_18 (InputLayer)          [(None, 96)]         0           []                               \n",
      "                                                                                                  \n",
      " WordEmbedding_claims (Embeddin  (None, 96, 50)      1611700     ['input_17[0][0]']               \n",
      " g)                                                                                               \n",
      "                                                                                                  \n",
      " WordEmbedding_evidence (Embedd  (None, 96, 50)      1611700     ['input_18[0][0]']               \n",
      " ing)                                                                                             \n",
      "                                                                                                  \n",
      " SentenceEmbedding_claims (LSTM  (None, 50)          20200       ['WordEmbedding_claims[0][0]']   \n",
      " )                                                                                                \n",
      "                                                                                                  \n",
      " SentenceEmbedding_evidence (LS  (None, 50)          20200       ['WordEmbedding_evidence[0][0]'] \n",
      " TM)                                                                                              \n",
      "                                                                                                  \n",
      " tf.convert_to_tensor_17 (TFOpL  (None, 50)          0           ['SentenceEmbedding_claims[0][0]'\n",
      " ambda)                                                          ]                                \n",
      "                                                                                                  \n",
      " tf.convert_to_tensor_16 (TFOpL  (None, 50)          0           ['SentenceEmbedding_evidence[0][0\n",
      " ambda)                                                          ]']                              \n",
      "                                                                                                  \n",
      " tf.math.l2_normalize_16 (TFOpL  (None, 50)          0           ['tf.convert_to_tensor_17[0][0]']\n",
      " ambda)                                                                                           \n",
      "                                                                                                  \n",
      " tf.math.l2_normalize_17 (TFOpL  (None, 50)          0           ['tf.convert_to_tensor_16[0][0]']\n",
      " ambda)                                                                                           \n",
      "                                                                                                  \n",
      " tf.math.multiply_16 (TFOpLambd  (None, 50)          0           ['tf.math.l2_normalize_16[0][0]',\n",
      " a)                                                               'tf.math.l2_normalize_17[0][0]']\n",
      "                                                                                                  \n",
      " tf.math.reduce_sum_8 (TFOpLamb  (None,)             0           ['tf.math.multiply_16[0][0]']    \n",
      " da)                                                                                              \n",
      "                                                                                                  \n",
      " tf.math.negative_8 (TFOpLambda  (None,)             0           ['tf.math.reduce_sum_8[0][0]']   \n",
      " )                                                                                                \n",
      "                                                                                                  \n",
      " tf.cast_16 (TFOpLambda)        (None,)              0           ['tf.math.negative_8[0][0]']     \n",
      "                                                                                                  \n",
      " tf.math.multiply_17 (TFOpLambd  (None,)             0           ['tf.cast_16[0][0]']             \n",
      " a)                                                                                               \n",
      "                                                                                                  \n",
      " tf.cast_17 (TFOpLambda)        (None,)              0           ['tf.math.multiply_17[0][0]']    \n",
      "                                                                                                  \n",
      " lambda_8 (Lambda)              (None, 1)            0           ['tf.cast_17[0][0]']             \n",
      "                                                                                                  \n",
      " concatenate_20 (Concatenate)   (None, 51)           0           ['SentenceEmbedding_claims[0][0]'\n",
      "                                                                 , 'lambda_8[0][0]']              \n",
      "                                                                                                  \n",
      " concatenate_21 (Concatenate)   (None, 51)           0           ['SentenceEmbedding_evidence[0][0\n",
      "                                                                 ]',                              \n",
      "                                                                  'lambda_8[0][0]']               \n",
      "                                                                                                  \n",
      " average (Average)              (None, 51)           0           ['concatenate_20[0][0]',         \n",
      "                                                                  'concatenate_21[0][0]']         \n",
      "                                                                                                  \n",
      " dense_5 (Dense)                (None, 1)            52          ['average[0][0]']                \n",
      "                                                                                                  \n",
      "==================================================================================================\n",
      "Total params: 3,263,852\n",
      "Trainable params: 40,452\n",
      "Non-trainable params: 3,223,400\n",
      "__________________________________________________________________________________________________\n"
     ]
    }
   ],
   "source": [
    "model = create_model(MAX_SEQ_LEN, VOCABULARY_SIZE, embedding_dimension, sentence_embedding_type=sentence_embedding_type, merge_type=merge_type)\n",
    "model.summary()"
   ]
  },
  {
   "cell_type": "markdown",
   "metadata": {},
   "source": [
    "##### Train model"
   ]
  },
  {
   "cell_type": "code",
   "execution_count": 72,
   "metadata": {},
   "outputs": [],
   "source": [
    "BATCH_SIZE = 256\n",
    "EPOCHS = 10"
   ]
  },
  {
   "cell_type": "code",
   "execution_count": 73,
   "metadata": {},
   "outputs": [
    {
     "name": "stdout",
     "output_type": "stream",
     "text": [
      "Epoch 1/10\n",
      "476/476 [==============================] - 84s 171ms/step - loss: 0.1847 - acc: 0.7422 - val_loss: 0.2794 - val_acc: 0.5436\n",
      "Epoch 2/10\n",
      "476/476 [==============================] - 79s 167ms/step - loss: 0.1691 - acc: 0.7663 - val_loss: 0.2569 - val_acc: 0.5869\n",
      "Epoch 3/10\n",
      "476/476 [==============================] - 79s 166ms/step - loss: 0.1608 - acc: 0.7800 - val_loss: 0.2555 - val_acc: 0.5964\n",
      "Epoch 4/10\n",
      "476/476 [==============================] - 83s 173ms/step - loss: 0.1546 - acc: 0.7887 - val_loss: 0.2496 - val_acc: 0.6103\n",
      "Epoch 5/10\n",
      "476/476 [==============================] - 92s 194ms/step - loss: 0.1498 - acc: 0.7951 - val_loss: 0.2458 - val_acc: 0.6193\n",
      "Epoch 6/10\n",
      "476/476 [==============================] - 85s 179ms/step - loss: 0.1454 - acc: 0.8025 - val_loss: 0.2300 - val_acc: 0.6434\n",
      "Epoch 7/10\n",
      "476/476 [==============================] - 87s 183ms/step - loss: 0.1419 - acc: 0.8078 - val_loss: 0.2394 - val_acc: 0.6392\n",
      "Epoch 8/10\n",
      "476/476 [==============================] - 87s 182ms/step - loss: 0.1384 - acc: 0.8129 - val_loss: 0.2491 - val_acc: 0.6289\n",
      "Epoch 9/10\n",
      "476/476 [==============================] - 86s 182ms/step - loss: 0.1353 - acc: 0.8176 - val_loss: 0.2422 - val_acc: 0.6381\n",
      "Epoch 10/10\n",
      "476/476 [==============================] - 87s 183ms/step - loss: 0.1321 - acc: 0.8225 - val_loss: 0.2303 - val_acc: 0.6557\n"
     ]
    }
   ],
   "source": [
    "model.compile(loss='mse',\n",
    "              optimizer='Adam',\n",
    "              metrics=['acc'])\n",
    "history = model.fit(x=[claim_train, evidence_train], y=y_train, batch_size=BATCH_SIZE, epochs=EPOCHS, validation_data=([claim_val, evidence_val], y_val))"
   ]
  },
  {
   "cell_type": "markdown",
   "metadata": {},
   "source": [
    "#### Plot accuracy and loss"
   ]
  },
  {
   "cell_type": "code",
   "execution_count": 74,
   "metadata": {},
   "outputs": [
    {
     "data": {
      "image/png": "[encoded data removed]",
      "text/plain": [
       "<Figure size 432x288 with 1 Axes>"
      ]
     },
     "metadata": {
      "needs_background": "light"
     },
     "output_type": "display_data"
    },
    {
     "data": {
      "image/png": "[encoded data removed]",
      "text/plain": [
       "<Figure size 432x288 with 1 Axes>"
      ]
     },
     "metadata": {
      "needs_background": "light"
     },
     "output_type": "display_data"
    }
   ],
   "source": [
    "plot_accuracy(history)\n",
    "plot_loss(history)"
   ]
  },
  {
   "cell_type": "markdown",
   "metadata": {},
   "source": [
    "#### Save model"
   ]
  },
  {
   "cell_type": "code",
   "execution_count": 75,
   "metadata": {},
   "outputs": [
    {
     "name": "stderr",
     "output_type": "stream",
     "text": [
      "WARNING:absl:Found untraced functions such as lstm_cell_14_layer_call_fn, lstm_cell_14_layer_call_and_return_conditional_losses, lstm_cell_15_layer_call_fn, lstm_cell_15_layer_call_and_return_conditional_losses, lstm_cell_14_layer_call_fn while saving (showing 5 of 10). These functions will not be directly callable after loading.\n"
     ]
    },
    {
     "name": "stdout",
     "output_type": "stream",
     "text": [
      "INFO:tensorflow:Assets written to: models/model_SE1_MT3_07_12_2021_12:32:31/assets\n"
     ]
    },
    {
     "name": "stderr",
     "output_type": "stream",
     "text": [
      "INFO:tensorflow:Assets written to: models/model_SE1_MT3_07_12_2021_12:32:31/assets\n",
      "/usr/local/lib/python3.9/site-packages/keras/engine/functional.py:1410: CustomMaskWarning: Custom mask layers require a config and must override get_config. When loading, the custom mask layer must be passed to the custom_objects argument.\n",
      "  layer_config = serialize_layer_fn(layer)\n",
      "/usr/local/lib/python3.9/site-packages/keras/saving/saved_model/layer_serialization.py:112: CustomMaskWarning: Custom mask layers require a config and must override get_config. When loading, the custom mask layer must be passed to the custom_objects argument.\n",
      "  return generic_utils.serialize_keras_object(obj)\n",
      "WARNING:absl:<keras.layers.recurrent.LSTMCell object at 0x17bb3f130> has the same name 'LSTMCell' as a built-in Keras object. Consider renaming <class 'keras.layers.recurrent.LSTMCell'> to avoid naming conflicts when loading with `tf.keras.models.load_model`. If renaming is not possible, pass the object in the `custom_objects` parameter of the load function.\n",
      "WARNING:absl:<keras.layers.recurrent.LSTMCell object at 0x17aa7cd90> has the same name 'LSTMCell' as a built-in Keras object. Consider renaming <class 'keras.layers.recurrent.LSTMCell'> to avoid naming conflicts when loading with `tf.keras.models.load_model`. If renaming is not possible, pass the object in the `custom_objects` parameter of the load function.\n"
     ]
    }
   ],
   "source": [
    "save_model(model, sentence_embedding_type, merge_type)"
   ]
  },
  {
   "cell_type": "markdown",
   "metadata": {},
   "source": [
    "#### Prediction\n",
    "Calcualte the predictions for the test set"
   ]
  },
  {
   "cell_type": "code",
   "execution_count": 76,
   "metadata": {},
   "outputs": [],
   "source": [
    "predictions = prediction(model, [claim_test, evidence_test], {'batch_size': 100})\n",
    "predictions = np.rint(predictions)"
   ]
  },
  {
   "cell_type": "markdown",
   "metadata": {},
   "source": [
    "#### Evaluation"
   ]
  },
  {
   "cell_type": "markdown",
   "metadata": {},
   "source": [
    "##### Multi-input classification evaluation"
   ]
  },
  {
   "cell_type": "code",
   "execution_count": 77,
   "metadata": {},
   "outputs": [
    {
     "name": "stdout",
     "output_type": "stream",
     "text": [
      "              precision    recall  f1-score   support\n",
      "\n",
      "           0       0.80      0.38      0.51      3583\n",
      "           1       0.59      0.90      0.72      3606\n",
      "\n",
      "    accuracy                           0.64      7189\n",
      "   macro avg       0.70      0.64      0.62      7189\n",
      "weighted avg       0.70      0.64      0.62      7189\n",
      "\n",
      "0.6426484907497566\n"
     ]
    },
    {
     "data": {
      "image/png": "[encoded data removed]",
      "text/plain": [
       "<Figure size 432x288 with 2 Axes>"
      ]
     },
     "metadata": {
      "needs_background": "light"
     },
     "output_type": "display_data"
    }
   ],
   "source": [
    "evaluation(predictions)"
   ]
  },
  {
   "cell_type": "markdown",
   "metadata": {},
   "source": [
    "#### Claim verification evaluation"
   ]
  },
  {
   "cell_type": "code",
   "execution_count": 78,
   "metadata": {},
   "outputs": [
    {
     "name": "stdout",
     "output_type": "stream",
     "text": [
      "              precision    recall  f1-score   support\n",
      "\n",
      "           0       0.79      0.38      0.52      3583\n",
      "           1       0.60      0.90      0.72      3606\n",
      "\n",
      "    accuracy                           0.64      7189\n",
      "   macro avg       0.69      0.64      0.62      7189\n",
      "weighted avg       0.69      0.64      0.62      7189\n",
      "\n",
      "0.6432048963694533\n"
     ]
    },
    {
     "data": {
      "image/png": "[encoded data removed]",
      "text/plain": [
       "<Figure size 432x288 with 2 Axes>"
      ]
     },
     "metadata": {
      "needs_background": "light"
     },
     "output_type": "display_data"
    }
   ],
   "source": [
    "claims_dict = make_claims_dict()\n",
    "majority_predictions = majority_pred(predictions)\n",
    "evaluation(majority_predictions)"
   ]
  },
  {
   "cell_type": "code",
   "execution_count": null,
   "metadata": {},
   "outputs": [],
   "source": []
  }
 ],
 "metadata": {
  "interpreter": {
   "hash": "31f2aee4e71d21fbe5cf8b01ff0e069b9275f58929596ceb00d14d90e3e16cd6"
  },
  "kernelspec": {
   "display_name": "Python 3",
   "language": "python",
   "name": "python3"
  },
  "language_info": {
   "codemirror_mode": {
    "name": "ipython",
    "version": 3
   },
   "file_extension": ".py",
   "mimetype": "text/x-python",
   "name": "python",
   "nbconvert_exporter": "python",
   "pygments_lexer": "ipython3",
   "version": "3.9.4"
  }
 },
 "nbformat": 4,
 "nbformat_minor": 2
}
