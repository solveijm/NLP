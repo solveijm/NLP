{
 "cells": [
  {
   "cell_type": "markdown",
   "metadata": {},
   "source": [
    "!pip install sklearn"
   ]
  },
  {
   "cell_type": "markdown",
   "metadata": {},
   "source": [
    "# Part-of-speech tagging"
   ]
  },
  {
   "cell_type": "markdown",
   "metadata": {},
   "source": [
    "### Import libraries"
   ]
  },
  {
   "cell_type": "code",
   "execution_count": 1,
   "metadata": {},
   "outputs": [],
   "source": [
    "import os\n",
    "import pandas as pd\n",
    "import numpy as np\n",
    "from scipy import spatial\n",
    "import matplotlib.pyplot as plt\n",
    "from sklearn.manifold import TSNE\n",
    "import pickle\n",
    "from tensorflow import keras\n",
    "from tensorflow.keras import layers\n",
    "from keras.utils.np_utils import to_categorical\n",
    "from keras.preprocessing.sequence import pad_sequences\n",
    "from collections import OrderedDict\n",
    "from keras.preprocessing.text import Tokenizer\n",
    "\n",
    "\n"
   ]
  },
  {
   "cell_type": "markdown",
   "metadata": {},
   "source": [
    "### Define constant variables"
   ]
  },
  {
   "cell_type": "code",
   "execution_count": 2,
   "metadata": {},
   "outputs": [],
   "source": [
    "train_path = './Dataset/train/'# Should we use: os.path.join(os.getcwd(), \"OriginalDataset\")\n",
    "val_path = './Dataset/val/'\n",
    "test_path = './Dataset/test/'\n",
    "dataset_folder = os.path.join(os.getcwd(), \"OriginalDataset\")\n",
    "original_path = dataset_folder +'/dependency_treebank/'\n",
    "\n",
    "embedding_dimension = 50\n"
   ]
  },
  {
   "cell_type": "markdown",
   "metadata": {},
   "source": [
    "### Download dataste"
   ]
  },
  {
   "cell_type": "code",
   "execution_count": 3,
   "metadata": {},
   "outputs": [],
   "source": [
    "import urllib.request  #  download files\n",
    "import zipfile  #  unzip files\n",
    "\n",
    "def download_dataset():\n",
    "    dataset_folder = os.path.join(os.getcwd(), \"OriginalDataset\")\n",
    "\n",
    "    if not os.path.exists(dataset_folder):\n",
    "        os.makedirs(dataset_folder)\n",
    "\n",
    "    url = 'https://raw.githubusercontent.com/nltk/nltk_data/gh-pages/packages/corpora/dependency_treebank.zip'\n",
    "\n",
    "    dataset_path = os.path.join(dataset_folder, \"dependency_treebank.zip\")\n",
    "\n",
    "    if not os.path.exists(dataset_path):\n",
    "        urllib.request.urlretrieve(url, dataset_path)\n",
    "        print(\"Successful download\")\n",
    "\n",
    "    with zipfile.ZipFile(dataset_path,\"r\") as zip_ref:\n",
    "        zip_ref.extractall(dataset_folder)\n",
    "    print(\"Successful extraction\")"
   ]
  },
  {
   "cell_type": "code",
   "execution_count": 4,
   "metadata": {},
   "outputs": [
    {
     "name": "stdout",
     "output_type": "stream",
     "text": [
      "Successful extraction\n"
     ]
    }
   ],
   "source": [
    "download_dataset()"
   ]
  },
  {
   "cell_type": "markdown",
   "metadata": {},
   "source": [
    "### Split dataset"
   ]
  },
  {
   "cell_type": "code",
   "execution_count": 5,
   "metadata": {},
   "outputs": [],
   "source": [
    "def split_dataset(train_path, val_path, test_path, original_path):\n",
    "    if not os.path.exists(train_path):\n",
    "        print(\"making directory\")\n",
    "        os.makedirs(train_path)\n",
    "    if not os.path.exists(val_path):\n",
    "        os.makedirs(val_path)\n",
    "    if not os.path.exists(test_path):\n",
    "        os.makedirs(test_path)\n",
    "\n",
    "    original_dataset = os.listdir(original_path)\n",
    "    \n",
    "    original_dataset.sort()\n",
    "    org_train = original_dataset[0:100]\n",
    "    org_val = original_dataset[100:150]\n",
    "    org_test = original_dataset[150:]\n",
    "\n",
    "    for f in org_train:\n",
    "        os.rename(original_path+f, train_path+f)\n",
    "    for f in org_val:\n",
    "        os.rename(original_path+f, val_path+f)\n",
    "    for f in org_test:\n",
    "        os.rename(original_path+f, test_path+f)\n",
    "    print(\"Successful spilt\")\n",
    "        "
   ]
  },
  {
   "cell_type": "code",
   "execution_count": 6,
   "metadata": {},
   "outputs": [
    {
     "name": "stdout",
     "output_type": "stream",
     "text": [
      "Successful spilt\n"
     ]
    }
   ],
   "source": [
    "split_dataset(train_path, val_path, test_path, original_path)\n"
   ]
  },
  {
   "cell_type": "markdown",
   "metadata": {},
   "source": [
    "### Create dataframe"
   ]
  },
  {
   "cell_type": "code",
   "execution_count": 7,
   "metadata": {},
   "outputs": [],
   "source": [
    "def create_dataframe(dataset_path: str):\n",
    "    dataframe_rows = []\n",
    "    documents = os.listdir(dataset_path)\n",
    "    for document in documents:\n",
    "        path = os.path.join(dataset_path, document)\n",
    "        with open(path, 'r') as f:\n",
    "            a = [[x for x in ln.split()] for ln in f]\n",
    "        #---------------For splitting on sentence-------------------#\n",
    "        sentence = []\n",
    "        sentence_tag = []\n",
    "        for x in a:\n",
    "            if x!=[]:\n",
    "                sentence.append(x[0])\n",
    "                sentence_tag.append(x[1])\n",
    "            else:\n",
    "                dataframe_row = {\n",
    "                    \"text\": sentence,\n",
    "                    \"POS\": sentence_tag\n",
    "                }\n",
    "                sentence = []\n",
    "                sentence_tag = []\n",
    "                dataframe_rows.append(dataframe_row)\n",
    "        #----------------------------------------------------------#\n",
    "        #------------------To split on document--------------------#\n",
    "        \"\"\"\n",
    "        a2 = [x for x in a if x != []] # OBS! Removing all empty lines in file so we can make an array\n",
    "        arr = np.array(a2)\n",
    "        text = list(arr[:, 0])\n",
    "        tagg = list(arr[:, 1])\n",
    "        #POStuple =  [tagg[x] for x in range(len(text))] #[(text[x], tagg[x]) for x in range(len(text))]\n",
    "        document_id = int(document[4:8])\n",
    "        dataframe_row = {\n",
    "            \"document_id\": document_id,\n",
    "            \"text\": text,\n",
    "            \"POS\": tagg\n",
    "        }\n",
    "        dataframe_rows.append(dataframe_row)\"\"\"\n",
    "        #----------------------------------------------------------#\n",
    "    # transform the list of rows in a proper dataframe\n",
    "    df = pd.DataFrame(dataframe_rows)\n",
    "    df = df[[\"text\", \"POS\"]]\n",
    "\n",
    "    return df"
   ]
  },
  {
   "cell_type": "code",
   "execution_count": 8,
   "metadata": {},
   "outputs": [
    {
     "data": {
      "text/html": [
       "<div>\n",
       "<style scoped>\n",
       "    .dataframe tbody tr th:only-of-type {\n",
       "        vertical-align: middle;\n",
       "    }\n",
       "\n",
       "    .dataframe tbody tr th {\n",
       "        vertical-align: top;\n",
       "    }\n",
       "\n",
       "    .dataframe thead th {\n",
       "        text-align: right;\n",
       "    }\n",
       "</style>\n",
       "<table border=\"1\" class=\"dataframe\">\n",
       "  <thead>\n",
       "    <tr style=\"text-align: right;\">\n",
       "      <th></th>\n",
       "      <th>text</th>\n",
       "      <th>POS</th>\n",
       "    </tr>\n",
       "  </thead>\n",
       "  <tbody>\n",
       "    <tr>\n",
       "      <th>0</th>\n",
       "      <td>[In, reference, to, your, Oct., 9, page-one, a...</td>\n",
       "      <td>[IN, NN, TO, PRP$, NNP, CD, NN, NN, ``, NNP, N...</td>\n",
       "    </tr>\n",
       "    <tr>\n",
       "      <th>1</th>\n",
       "      <td>[In, part, ,, this, may, reflect, the, fact, t...</td>\n",
       "      <td>[IN, NN, ,, DT, MD, VB, DT, NN, IN, ``, PRP, V...</td>\n",
       "    </tr>\n",
       "    <tr>\n",
       "      <th>2</th>\n",
       "      <td>[Among, professionals, ,, 76, %, have, a, favo...</td>\n",
       "      <td>[IN, NNS, ,, CD, NN, VBP, DT, JJ, NN, IN, PRP$...</td>\n",
       "    </tr>\n",
       "    <tr>\n",
       "      <th>3</th>\n",
       "      <td>[While, a, quarter, of, black, voters, disappr...</td>\n",
       "      <td>[IN, DT, NN, IN, JJ, NNS, VBP, IN, NNP, NNP, P...</td>\n",
       "    </tr>\n",
       "    <tr>\n",
       "      <th>4</th>\n",
       "      <td>[The, statistics, imply, that, three-quarters,...</td>\n",
       "      <td>[DT, NNS, VBP, IN, NNS, IN, NNS, VBP, IN, NNP,...</td>\n",
       "    </tr>\n",
       "    <tr>\n",
       "      <th>...</th>\n",
       "      <td>...</td>\n",
       "      <td>...</td>\n",
       "    </tr>\n",
       "    <tr>\n",
       "      <th>1858</th>\n",
       "      <td>[He, said, authors, of, Scoring, High, ``, scr...</td>\n",
       "      <td>[PRP, VBD, NNS, IN, NNP, NNP, ``, RB, VBP, '',...</td>\n",
       "    </tr>\n",
       "    <tr>\n",
       "      <th>1859</th>\n",
       "      <td>[When, Scoring, High, first, came, out, in, 19...</td>\n",
       "      <td>[WRB, NNP, NNP, RB, VBD, RB, IN, CD, ,, PRP, V...</td>\n",
       "    </tr>\n",
       "    <tr>\n",
       "      <th>1860</th>\n",
       "      <td>[McGraw-Hill, was, outraged, .]</td>\n",
       "      <td>[NNP, VBD, JJ, .]</td>\n",
       "    </tr>\n",
       "    <tr>\n",
       "      <th>1861</th>\n",
       "      <td>[In, a, 1985, advisory, to, educators, ,, McGr...</td>\n",
       "      <td>[IN, DT, CD, NN, TO, NNS, ,, NNP, VBD, NNP, NN...</td>\n",
       "    </tr>\n",
       "    <tr>\n",
       "      <th>1862</th>\n",
       "      <td>[But, in, 1988, ,, McGraw-Hill, purchased, the...</td>\n",
       "      <td>[CC, IN, CD, ,, NNP, VBD, DT, NNP, NNP, NN, WD...</td>\n",
       "    </tr>\n",
       "  </tbody>\n",
       "</table>\n",
       "<p>1863 rows × 2 columns</p>\n",
       "</div>"
      ],
      "text/plain": [
       "                                                   text  \\\n",
       "0     [In, reference, to, your, Oct., 9, page-one, a...   \n",
       "1     [In, part, ,, this, may, reflect, the, fact, t...   \n",
       "2     [Among, professionals, ,, 76, %, have, a, favo...   \n",
       "3     [While, a, quarter, of, black, voters, disappr...   \n",
       "4     [The, statistics, imply, that, three-quarters,...   \n",
       "...                                                 ...   \n",
       "1858  [He, said, authors, of, Scoring, High, ``, scr...   \n",
       "1859  [When, Scoring, High, first, came, out, in, 19...   \n",
       "1860                    [McGraw-Hill, was, outraged, .]   \n",
       "1861  [In, a, 1985, advisory, to, educators, ,, McGr...   \n",
       "1862  [But, in, 1988, ,, McGraw-Hill, purchased, the...   \n",
       "\n",
       "                                                    POS  \n",
       "0     [IN, NN, TO, PRP$, NNP, CD, NN, NN, ``, NNP, N...  \n",
       "1     [IN, NN, ,, DT, MD, VB, DT, NN, IN, ``, PRP, V...  \n",
       "2     [IN, NNS, ,, CD, NN, VBP, DT, JJ, NN, IN, PRP$...  \n",
       "3     [IN, DT, NN, IN, JJ, NNS, VBP, IN, NNP, NNP, P...  \n",
       "4     [DT, NNS, VBP, IN, NNS, IN, NNS, VBP, IN, NNP,...  \n",
       "...                                                 ...  \n",
       "1858  [PRP, VBD, NNS, IN, NNP, NNP, ``, RB, VBP, '',...  \n",
       "1859  [WRB, NNP, NNP, RB, VBD, RB, IN, CD, ,, PRP, V...  \n",
       "1860                                  [NNP, VBD, JJ, .]  \n",
       "1861  [IN, DT, CD, NN, TO, NNS, ,, NNP, VBD, NNP, NN...  \n",
       "1862  [CC, IN, CD, ,, NNP, VBD, DT, NNP, NNP, NN, WD...  \n",
       "\n",
       "[1863 rows x 2 columns]"
      ]
     },
     "execution_count": 8,
     "metadata": {},
     "output_type": "execute_result"
    }
   ],
   "source": [
    "df_train = create_dataframe(train_path)\n",
    "df_val = create_dataframe(val_path)\n",
    "df_test = create_dataframe(test_path)\n",
    "\n",
    "df_train"
   ]
  },
  {
   "cell_type": "markdown",
   "metadata": {},
   "source": [
    "### Embed the words using GloVe embedding"
   ]
  },
  {
   "cell_type": "markdown",
   "metadata": {},
   "source": [
    "#### Load glove model"
   ]
  },
  {
   "cell_type": "code",
   "execution_count": 9,
   "metadata": {},
   "outputs": [],
   "source": [
    "import gensim\n",
    "import gensim.downloader as gloader\n",
    "\n",
    "def load_embedding_model(embedding_dimension: int = 50) -> gensim.models.keyedvectors.KeyedVectors:\n",
    "    download_path = \"glove-wiki-gigaword-{}\".format(embedding_dimension)\n",
    "    # Check download\n",
    "    try:\n",
    "        emb_model = gloader.load(download_path)\n",
    "    except ValueError as e:\n",
    "        print(\"Invalid embedding model name! Check the embedding dimension:\")\n",
    "        print(\"Word2Vec: 300\")\n",
    "        print(\"Glove: 50, 100, 200, 300\")\n",
    "        raise e\n",
    "\n",
    "    return emb_model"
   ]
  },
  {
   "cell_type": "code",
   "execution_count": 10,
   "metadata": {},
   "outputs": [],
   "source": [
    "embedding_model = load_embedding_model(embedding_dimension)"
   ]
  },
  {
   "cell_type": "markdown",
   "metadata": {},
   "source": [
    "### Make tokenizer REMOVE THIS PART"
   ]
  },
  {
   "cell_type": "code",
   "execution_count": 11,
   "metadata": {},
   "outputs": [
    {
     "data": {
      "text/plain": [
       "'# OBS: The tokenizer removes every word with a special character. Etc: 100,000, $, u.s.\\n# The tokenizer also handles OOV terms and when adding more words, it will just add the OOV words to the word to index dictionary. \\nword_tokenizer_train2 = Tokenizer()\\n\\n# UNCOMMENT IF WE WANT TO INCLUDE GOLVE vocabualry\\nword_tokenizer_train2.fit_on_texts(embedding_model.index_to_key) \\nword_tokenizer_train2.fit_on_texts(df_train[\"text\"])\\n\\nx_encoded_train = word_tokenizer_train2.texts_to_sequences(df_train[\"text\"])'"
      ]
     },
     "execution_count": 11,
     "metadata": {},
     "output_type": "execute_result"
    }
   ],
   "source": [
    "\"\"\"# OBS: The tokenizer removes every word with a special character. Etc: 100,000, $, u.s.\n",
    "# The tokenizer also handles OOV terms and when adding more words, it will just add the OOV words to the word to index dictionary. \n",
    "word_tokenizer_train2 = Tokenizer()\n",
    "\n",
    "# UNCOMMENT IF WE WANT TO INCLUDE GOLVE vocabualry\n",
    "word_tokenizer_train2.fit_on_texts(embedding_model.index_to_key) \n",
    "word_tokenizer_train2.fit_on_texts(df_train[\"text\"])\n",
    "\n",
    "x_encoded_train = word_tokenizer_train2.texts_to_sequences(df_train[\"text\"])\"\"\""
   ]
  },
  {
   "cell_type": "code",
   "execution_count": 12,
   "metadata": {},
   "outputs": [
    {
     "data": {
      "text/plain": [
       "'tag_tokenizer_train2 = Tokenizer()\\n\\ntag_tokenizer_train2.fit_on_texts(df_train[\"POS\"])\\ny_encoded_train = tag_tokenizer_train2.texts_to_sequences(df_train[\"POS\"])'"
      ]
     },
     "execution_count": 12,
     "metadata": {},
     "output_type": "execute_result"
    }
   ],
   "source": [
    "\"\"\"tag_tokenizer_train2 = Tokenizer()\n",
    "\n",
    "tag_tokenizer_train2.fit_on_texts(df_train[\"POS\"])\n",
    "y_encoded_train = tag_tokenizer_train2.texts_to_sequences(df_train[\"POS\"])\"\"\""
   ]
  },
  {
   "cell_type": "markdown",
   "metadata": {},
   "source": [
    "### NEW WAY TO Make tokenizer"
   ]
  },
  {
   "cell_type": "code",
   "execution_count": 13,
   "metadata": {},
   "outputs": [],
   "source": [
    "def make_tokenizer(*vocabulary):\n",
    "    # OBS: The tokenizer removes every word with a special character. Etc: 100,000, $, u.s.\n",
    "    # The tokenizer also handles OOV terms and when adding more words, it will just add the OOV words to the word to index dictionary. \n",
    "    tokenizer = Tokenizer()\n",
    "    \n",
    "    # UNCOMMENT IF WE WANT TO INCLUDE GOLVE vocabualry\n",
    "    for v in vocabulary:\n",
    "        tokenizer.fit_on_texts(v)\n",
    "    return tokenizer \n"
   ]
  },
  {
   "cell_type": "code",
   "execution_count": 14,
   "metadata": {},
   "outputs": [],
   "source": [
    "word_tokenizer = make_tokenizer(df_train[\"text\"], df_val[\"text\"], df_test[\"text\"])\n",
    "tag_tokenizer = make_tokenizer(df_train[\"POS\"])"
   ]
  },
  {
   "cell_type": "markdown",
   "metadata": {},
   "source": [
    "### Encode X and Y"
   ]
  },
  {
   "cell_type": "code",
   "execution_count": 15,
   "metadata": {},
   "outputs": [],
   "source": [
    "x_encoded_train = word_tokenizer.texts_to_sequences(df_train[\"text\"])\n",
    "y_encoded_train = tag_tokenizer.texts_to_sequences(df_train[\"POS\"])"
   ]
  },
  {
   "cell_type": "code",
   "execution_count": 16,
   "metadata": {},
   "outputs": [],
   "source": [
    "x_encoded_val = word_tokenizer.texts_to_sequences(df_val[\"text\"])\n",
    "y_encoded_val = tag_tokenizer.texts_to_sequences(df_val[\"POS\"])"
   ]
  },
  {
   "cell_type": "code",
   "execution_count": 17,
   "metadata": {},
   "outputs": [],
   "source": [
    "x_encoded_test = word_tokenizer.texts_to_sequences(df_test[\"text\"])\n",
    "y_encoded_test = tag_tokenizer.texts_to_sequences(df_test[\"POS\"])\n"
   ]
  },
  {
   "cell_type": "markdown",
   "metadata": {},
   "source": [
    "### Pad encoded sequences"
   ]
  },
  {
   "cell_type": "code",
   "execution_count": 18,
   "metadata": {},
   "outputs": [],
   "source": [
    "def pad_idx_seqs(idx_seqs, max_seq_len):\n",
    "    # Keras provides a convenient padding function; \n",
    "    padded_idxs = pad_sequences(sequences=idx_seqs, maxlen=max_seq_len)\n",
    "    return padded_idxs"
   ]
  },
  {
   "cell_type": "code",
   "execution_count": 19,
   "metadata": {},
   "outputs": [],
   "source": [
    "def find_max_length(seqs):\n",
    "    max_len = 0\n",
    "    for seq in seqs:\n",
    "        if len(seq) > max_len:\n",
    "            max_len = len(seq)\n",
    "    return max_len"
   ]
  },
  {
   "cell_type": "code",
   "execution_count": 20,
   "metadata": {},
   "outputs": [],
   "source": [
    "x_padded_train = pad_idx_seqs(x_encoded_train, find_max_length(x_encoded_train))\n",
    "y_padded_train = pad_idx_seqs(y_encoded_train, find_max_length(y_encoded_train))"
   ]
  },
  {
   "cell_type": "code",
   "execution_count": 21,
   "metadata": {},
   "outputs": [],
   "source": [
    "x_padded_val = pad_idx_seqs(x_encoded_val, find_max_length(x_encoded_train))\n",
    "y_padded_val = pad_idx_seqs(y_encoded_val, find_max_length(y_encoded_train))"
   ]
  },
  {
   "cell_type": "code",
   "execution_count": 110,
   "metadata": {},
   "outputs": [],
   "source": [
    "x_padded_test = pad_idx_seqs(x_encoded_test, find_max_length(x_encoded_train))\n",
    "y_padded_test = pad_idx_seqs(y_encoded_test, find_max_length(y_encoded_train))"
   ]
  },
  {
   "cell_type": "markdown",
   "metadata": {},
   "source": [
    "# NEW METHODE TO GET WORD TO INDX"
   ]
  },
  {
   "cell_type": "code",
   "execution_count": 111,
   "metadata": {},
   "outputs": [],
   "source": [
    "VOCABULARY_SIZE = len(word_tokenizer.word_index) + 1\n",
    "\n",
    "word2idx = word_tokenizer.word_index\n",
    "idx2word = word_tokenizer.index_word"
   ]
  },
  {
   "cell_type": "code",
   "execution_count": 112,
   "metadata": {},
   "outputs": [
    {
     "data": {
      "text/plain": [
       "45"
      ]
     },
     "execution_count": 112,
     "metadata": {},
     "output_type": "execute_result"
    }
   ],
   "source": [
    "tag2idx = tag_tokenizer.word_index\n",
    "idx2tag = tag_tokenizer.index_word\n",
    "len(tag2idx)"
   ]
  },
  {
   "cell_type": "code",
   "execution_count": 113,
   "metadata": {},
   "outputs": [],
   "source": [
    "TAG_VOCABULARY_SIZE = len(tag2idx) + 1"
   ]
  },
  {
   "cell_type": "markdown",
   "metadata": {},
   "source": [
    "### Create embedding matrix"
   ]
  },
  {
   "cell_type": "code",
   "execution_count": 26,
   "metadata": {},
   "outputs": [],
   "source": [
    "# OBS Computes the OOV with random embeddings\n",
    "def create_embedding_matrix(embedding_model, embedding_dimension, word_to_idx):\n",
    "    embedding_matrix = np.zeros((len(word_to_idx)+1, embedding_dimension), dtype=np.float32)\n",
    "    for word, idx in word_to_idx.items():\n",
    "        try:\n",
    "            embedding_vector = embedding_model[word]\n",
    "        except (KeyError, TypeError):\n",
    "            embedding_vector = np.random.uniform(low=-0.05, high=0.05, size=embedding_dimension)\n",
    "\n",
    "        embedding_matrix[idx] = embedding_vector\n",
    "                                \n",
    "    return embedding_matrix\n",
    "\n",
    "def expand_embedding_matrix(embedding_model, embedding_dimension, word_to_idx, old_embedding_matrix):\n",
    "    embedding_matrix = np.zeros((len(word_to_idx), embedding_dimension), dtype=np.float32)\n",
    "    embedding_matrix[0:len(old_embedding_matrix)] = old_embedding_matrix\n",
    "    \n",
    "    for word, idx in word_to_idx.items():\n",
    "        if idx >= len(old_embedding_matrix):\n",
    "            try:\n",
    "                embedding_vector = embedding_model[word]\n",
    "            except (KeyError, TypeError):\n",
    "                embedding_vector = np.random.uniform(low=-0.05, high=0.05, size=embedding_dimension)\n",
    "                \n",
    "            embedding_matrix[idx] = embedding_vector\n",
    "    \n",
    "    return embedding_matrix                                "
   ]
  },
  {
   "cell_type": "code",
   "execution_count": 27,
   "metadata": {},
   "outputs": [],
   "source": [
    "embedding_matrix = create_embedding_matrix(embedding_model, embedding_dimension, word2idx)"
   ]
  },
  {
   "cell_type": "code",
   "execution_count": 28,
   "metadata": {},
   "outputs": [
    {
     "data": {
      "text/plain": [
       "(10718, 50)"
      ]
     },
     "execution_count": 28,
     "metadata": {},
     "output_type": "execute_result"
    }
   ],
   "source": [
    "embedding_matrix.shape"
   ]
  },
  {
   "cell_type": "markdown",
   "metadata": {},
   "source": [
    "#### Define x train and y train"
   ]
  },
  {
   "cell_type": "code",
   "execution_count": 29,
   "metadata": {},
   "outputs": [],
   "source": [
    "x_train = x_padded_train\n",
    "y_train = to_categorical(y_padded_train)"
   ]
  },
  {
   "cell_type": "code",
   "execution_count": 61,
   "metadata": {},
   "outputs": [],
   "source": [
    "x_val = x_padded_val\n",
    "y_val = to_categorical(y_padded_val, num_classes=TAG_VOCABULARY_SIZE)"
   ]
  },
  {
   "cell_type": "code",
   "execution_count": 114,
   "metadata": {},
   "outputs": [],
   "source": [
    "x_test = x_padded_test\n",
    "y_test = to_categorical(y_padded_test)"
   ]
  },
  {
   "cell_type": "markdown",
   "metadata": {},
   "source": [
    "### Define plotting functions"
   ]
  },
  {
   "cell_type": "code",
   "execution_count": 83,
   "metadata": {},
   "outputs": [],
   "source": [
    "def plot_accuracy(model_callback):\n",
    "    plt.plot(model_callback.history['acc'])\n",
    "    plt.plot(model_callback.history['val_acc'])\n",
    "    plt.title('model accuracy')\n",
    "    plt.ylabel('accuracy')\n",
    "    plt.xlabel('epoch')\n",
    "    plt.legend(['train', 'val'], loc=\"lower right\")\n",
    "    plt.show()\n",
    "    \n",
    "def plot_loss(model_callback):\n",
    "    plt.plot(model_callback.history['loss'])\n",
    "    plt.plot(model_callback.history['val_loss'])\n",
    "    plt.title('model loss')\n",
    "    plt.ylabel('loss')\n",
    "    plt.xlabel('epoch')\n",
    "    plt.legend(['train', 'val'], loc=\"lower right\")\n",
    "    plt.show()"
   ]
  },
  {
   "cell_type": "markdown",
   "metadata": {},
   "source": [
    "### Create baseline model\n",
    "\n",
    "##### two layers architecture: a Bidirectional LSTM layer and a Dense/Fully-Connected layer on top"
   ]
  },
  {
   "cell_type": "markdown",
   "metadata": {},
   "source": [
    "\n",
    "https://www.kaggle.com/tanyadayanand/pos-tagging-using-rnn/notebook\n",
    "\n",
    "Not sure about the parameters etc.. but at least it works to train the model"
   ]
  },
  {
   "cell_type": "code",
   "execution_count": 64,
   "metadata": {},
   "outputs": [],
   "source": [
    "def create_baseline_model(units_LSTM, activation):\n",
    "    bidirect_model = keras.Sequential()\n",
    "    bidirect_model.add(layers.Embedding(input_dim = VOCABULARY_SIZE,\n",
    "                                 output_dim    = embedding_dimension,\n",
    "                                 input_length  = find_max_length(x_train),\n",
    "                                 weights       = [embedding_matrix],\n",
    "                                 trainable = True\n",
    "                                ))\n",
    "    bidirect_model.add(layers.Bidirectional(layers.LSTM(units_LSTM, return_sequences=True)))\n",
    "    #bidirect_model.add(layers.TimeDistributed(layers.Dense(len(tag_to_idx), activation='softmax')))\n",
    "    bidirect_model.add(layers.Dense(TAG_VOCABULARY_SIZE, activation=activation))\n",
    "    \n",
    "    return bidirect_model"
   ]
  },
  {
   "cell_type": "code",
   "execution_count": 65,
   "metadata": {},
   "outputs": [
    {
     "name": "stdout",
     "output_type": "stream",
     "text": [
      "Model: \"sequential_3\"\n",
      "_________________________________________________________________\n",
      " Layer (type)                Output Shape              Param #   \n",
      "=================================================================\n",
      " embedding_3 (Embedding)     (None, 249, 50)           535900    \n",
      "                                                                 \n",
      " bidirectional_3 (Bidirectio  (None, 249, 128)         58880     \n",
      " nal)                                                            \n",
      "                                                                 \n",
      " dense_3 (Dense)             (None, 249, 46)           5934      \n",
      "                                                                 \n",
      "=================================================================\n",
      "Total params: 600,714\n",
      "Trainable params: 600,714\n",
      "Non-trainable params: 0\n",
      "_________________________________________________________________\n"
     ]
    }
   ],
   "source": [
    "baseline_model = create_baseline_model(64, 'softmax')\n",
    "baseline_model.summary()"
   ]
  },
  {
   "cell_type": "code",
   "execution_count": 71,
   "metadata": {},
   "outputs": [
    {
     "name": "stdout",
     "output_type": "stream",
     "text": [
      "Epoch 1/10\n",
      "75/75 [==============================] - 19s 203ms/step - loss: 0.0081 - mae: 0.0172 - acc: 0.8999 - val_loss: 0.0021 - val_mae: 0.0046 - val_acc: 0.9147\n",
      "Epoch 2/10\n",
      "75/75 [==============================] - 12s 162ms/step - loss: 0.0020 - mae: 0.0045 - acc: 0.9181 - val_loss: 0.0020 - val_mae: 0.0043 - val_acc: 0.9235\n",
      "Epoch 3/10\n",
      "75/75 [==============================] - 14s 185ms/step - loss: 0.0019 - mae: 0.0042 - acc: 0.9287 - val_loss: 0.0018 - val_mae: 0.0040 - val_acc: 0.9337\n",
      "Epoch 4/10\n",
      "75/75 [==============================] - 12s 163ms/step - loss: 0.0017 - mae: 0.0038 - acc: 0.9389 - val_loss: 0.0016 - val_mae: 0.0035 - val_acc: 0.9460\n",
      "Epoch 5/10\n",
      "75/75 [==============================] - 14s 191ms/step - loss: 0.0014 - mae: 0.0032 - acc: 0.9503 - val_loss: 0.0013 - val_mae: 0.0030 - val_acc: 0.9510\n",
      "Epoch 6/10\n",
      "75/75 [==============================] - 14s 182ms/step - loss: 0.0012 - mae: 0.0028 - acc: 0.9547 - val_loss: 0.0012 - val_mae: 0.0027 - val_acc: 0.9568\n",
      "Epoch 7/10\n",
      "75/75 [==============================] - 15s 206ms/step - loss: 0.0011 - mae: 0.0026 - acc: 0.9606 - val_loss: 0.0011 - val_mae: 0.0025 - val_acc: 0.9629\n",
      "Epoch 8/10\n",
      "75/75 [==============================] - 12s 157ms/step - loss: 9.9350e-04 - mae: 0.0023 - acc: 0.9670 - val_loss: 9.6678e-04 - val_mae: 0.0023 - val_acc: 0.9676\n",
      "Epoch 9/10\n",
      "75/75 [==============================] - 12s 154ms/step - loss: 8.7278e-04 - mae: 0.0021 - acc: 0.9704 - val_loss: 8.5643e-04 - val_mae: 0.0020 - val_acc: 0.9713\n",
      "Epoch 10/10\n",
      "75/75 [==============================] - 12s 156ms/step - loss: 7.6882e-04 - mae: 0.0019 - acc: 0.9747 - val_loss: 7.6916e-04 - val_mae: 0.0018 - val_acc: 0.9750\n"
     ]
    }
   ],
   "source": [
    "baseline_model.compile(loss=\"mse\",\n",
    "              optimizer=\"Adam\",\n",
    "              metrics=['mae', \"acc\"])\n",
    "baseline_training = baseline_model.fit(x=x_train, y=y_train, validation_data=(x_val, y_val), batch_size=25,  epochs=10)"
   ]
  },
  {
   "cell_type": "code",
   "execution_count": 84,
   "metadata": {},
   "outputs": [
    {
     "data": {
      "image/png": "[encoded data removed]",
      "text/plain": [
       "<Figure size 432x288 with 1 Axes>"
      ]
     },
     "metadata": {
      "needs_background": "light"
     },
     "output_type": "display_data"
    }
   ],
   "source": [
    "plot_accuracy(baseline_training)"
   ]
  },
  {
   "cell_type": "code",
   "execution_count": 85,
   "metadata": {},
   "outputs": [
    {
     "data": {
      "image/png": "[encoded data removed]",
      "text/plain": [
       "<Figure size 432x288 with 1 Axes>"
      ]
     },
     "metadata": {
      "needs_background": "light"
     },
     "output_type": "display_data"
    }
   ],
   "source": [
    "plot_loss(baseline_training)"
   ]
  },
  {
   "cell_type": "code",
   "execution_count": 95,
   "metadata": {},
   "outputs": [],
   "source": [
    "baseline_model.save_weights('models/baseline_model_weights.h5') #Save model"
   ]
  },
  {
   "cell_type": "markdown",
   "metadata": {},
   "source": [
    "## Other models"
   ]
  },
  {
   "cell_type": "markdown",
   "metadata": {},
   "source": [
    "#### Gru"
   ]
  },
  {
   "cell_type": "code",
   "execution_count": 87,
   "metadata": {},
   "outputs": [],
   "source": [
    "def create_gru_model(units_gru, activation):\n",
    "    gru_model = keras.Sequential()\n",
    "    gru_model.add(layers.Embedding(input_dim = VOCABULARY_SIZE,\n",
    "                                 output_dim    = embedding_dimension,\n",
    "                                 input_length  = find_max_length(x_train),\n",
    "                                 weights       = [embedding_matrix],\n",
    "                                 trainable = True\n",
    "                                ))\n",
    "    gru_model.add(layers.Bidirectional(layers.GRU(units_gru, return_sequences=True)))\n",
    "    #bidirect_model.add(layers.TimeDistributed(layers.Dense(len(tag_to_idx), activation='softmax')))\n",
    "    gru_model.add(layers.Dense(TAG_VOCABULARY_SIZE, activation=activation))\n",
    "    \n",
    "    return gru_model"
   ]
  },
  {
   "cell_type": "code",
   "execution_count": 88,
   "metadata": {},
   "outputs": [
    {
     "name": "stdout",
     "output_type": "stream",
     "text": [
      "Model: \"sequential_4\"\n",
      "_________________________________________________________________\n",
      " Layer (type)                Output Shape              Param #   \n",
      "=================================================================\n",
      " embedding_4 (Embedding)     (None, 249, 50)           535900    \n",
      "                                                                 \n",
      " bidirectional_4 (Bidirectio  (None, 249, 128)         44544     \n",
      " nal)                                                            \n",
      "                                                                 \n",
      " dense_4 (Dense)             (None, 249, 46)           5934      \n",
      "                                                                 \n",
      "=================================================================\n",
      "Total params: 586,378\n",
      "Trainable params: 586,378\n",
      "Non-trainable params: 0\n",
      "_________________________________________________________________\n"
     ]
    }
   ],
   "source": [
    "gru_model = create_gru_model(64, 'softmax')\n",
    "gru_model.summary()"
   ]
  },
  {
   "cell_type": "code",
   "execution_count": 89,
   "metadata": {},
   "outputs": [
    {
     "name": "stdout",
     "output_type": "stream",
     "text": [
      "Epoch 1/10\n",
      "75/75 [==============================] - 22s 208ms/step - loss: 0.0097 - mae: 0.0202 - acc: 0.9098 - val_loss: 0.0020 - val_mae: 0.0041 - val_acc: 0.9230\n",
      "Epoch 2/10\n",
      "75/75 [==============================] - 13s 171ms/step - loss: 0.0019 - mae: 0.0039 - acc: 0.9279 - val_loss: 0.0018 - val_mae: 0.0037 - val_acc: 0.9376\n",
      "Epoch 3/10\n",
      "75/75 [==============================] - 13s 179ms/step - loss: 0.0016 - mae: 0.0034 - acc: 0.9412 - val_loss: 0.0015 - val_mae: 0.0031 - val_acc: 0.9465\n",
      "Epoch 4/10\n",
      "75/75 [==============================] - 18s 240ms/step - loss: 0.0013 - mae: 0.0029 - acc: 0.9525 - val_loss: 0.0012 - val_mae: 0.0027 - val_acc: 0.9556\n",
      "Epoch 5/10\n",
      "75/75 [==============================] - 14s 191ms/step - loss: 0.0011 - mae: 0.0025 - acc: 0.9601 - val_loss: 0.0011 - val_mae: 0.0024 - val_acc: 0.9626\n",
      "Epoch 6/10\n",
      "75/75 [==============================] - 12s 161ms/step - loss: 9.6343e-04 - mae: 0.0022 - acc: 0.9670 - val_loss: 9.2170e-04 - val_mae: 0.0020 - val_acc: 0.9695\n",
      "Epoch 7/10\n",
      "75/75 [==============================] - 13s 168ms/step - loss: 8.1559e-04 - mae: 0.0018 - acc: 0.9732 - val_loss: 7.9973e-04 - val_mae: 0.0018 - val_acc: 0.9739\n",
      "Epoch 8/10\n",
      "75/75 [==============================] - 16s 205ms/step - loss: 7.0243e-04 - mae: 0.0016 - acc: 0.9773 - val_loss: 7.1023e-04 - val_mae: 0.0016 - val_acc: 0.9764\n",
      "Epoch 9/10\n",
      "75/75 [==============================] - 13s 164ms/step - loss: 6.3049e-04 - mae: 0.0014 - acc: 0.9791 - val_loss: 6.6107e-04 - val_mae: 0.0014 - val_acc: 0.9777\n",
      "Epoch 10/10\n",
      "75/75 [==============================] - 12s 157ms/step - loss: 5.8033e-04 - mae: 0.0013 - acc: 0.9805 - val_loss: 6.2048e-04 - val_mae: 0.0014 - val_acc: 0.9790\n"
     ]
    }
   ],
   "source": [
    "gru_model.compile(loss=\"mse\",\n",
    "              optimizer=\"Adam\",\n",
    "              metrics=['mae', \"acc\"])\n",
    "gru_training = gru_model.fit(x=x_train, batch_size=25, y=y_train, epochs=10, validation_data=(x_val, y_val))"
   ]
  },
  {
   "cell_type": "code",
   "execution_count": 92,
   "metadata": {},
   "outputs": [
    {
     "data": {
      "image/png": "[encoded data removed]",
      "text/plain": [
       "<Figure size 432x288 with 1 Axes>"
      ]
     },
     "metadata": {
      "needs_background": "light"
     },
     "output_type": "display_data"
    }
   ],
   "source": [
    "plot_accuracy(gru_training)"
   ]
  },
  {
   "cell_type": "code",
   "execution_count": 93,
   "metadata": {},
   "outputs": [
    {
     "data": {
      "image/png": "[encoded data removed]",
      "text/plain": [
       "<Figure size 432x288 with 1 Axes>"
      ]
     },
     "metadata": {
      "needs_background": "light"
     },
     "output_type": "display_data"
    }
   ],
   "source": [
    "plot_loss(gru_training)"
   ]
  },
  {
   "cell_type": "code",
   "execution_count": 94,
   "metadata": {},
   "outputs": [],
   "source": [
    "gru_model.save_weights('models/gru_model_weights.h5') #Save model"
   ]
  },
  {
   "cell_type": "markdown",
   "metadata": {},
   "source": [
    "#### Two LSTM layers"
   ]
  },
  {
   "cell_type": "code",
   "execution_count": 96,
   "metadata": {},
   "outputs": [],
   "source": [
    "def create_doubleLSTM_model(units_LSTM1, units_LSTM2, activation):\n",
    "    doubleLSTM_model = keras.Sequential()\n",
    "    doubleLSTM_model.add(layers.Embedding(input_dim = VOCABULARY_SIZE,\n",
    "                                 output_dim    = embedding_dimension,\n",
    "                                 input_length  = find_max_length(x_train),\n",
    "                                 weights       = [embedding_matrix],\n",
    "                                 trainable = True\n",
    "                                ))\n",
    "    doubleLSTM_model.add(layers.Bidirectional(layers.LSTM(units_LSTM1, return_sequences=True)))\n",
    "    doubleLSTM_model.add(layers.Bidirectional(layers.LSTM(units_LSTM2, return_sequences=True)))\n",
    "    #bidirect_model.add(layers.TimeDistributed(layers.Dense(len(tag_to_idx), activation='softmax')))\n",
    "    doubleLSTM_model.add(layers.Dense(TAG_VOCABULARY_SIZE, activation=activation))\n",
    "    \n",
    "    return doubleLSTM_model"
   ]
  },
  {
   "cell_type": "code",
   "execution_count": 97,
   "metadata": {},
   "outputs": [
    {
     "name": "stdout",
     "output_type": "stream",
     "text": [
      "Model: \"sequential_5\"\n",
      "_________________________________________________________________\n",
      " Layer (type)                Output Shape              Param #   \n",
      "=================================================================\n",
      " embedding_5 (Embedding)     (None, 249, 50)           535900    \n",
      "                                                                 \n",
      " bidirectional_5 (Bidirectio  (None, 249, 128)         58880     \n",
      " nal)                                                            \n",
      "                                                                 \n",
      " bidirectional_6 (Bidirectio  (None, 249, 128)         98816     \n",
      " nal)                                                            \n",
      "                                                                 \n",
      " dense_5 (Dense)             (None, 249, 46)           5934      \n",
      "                                                                 \n",
      "=================================================================\n",
      "Total params: 699,530\n",
      "Trainable params: 699,530\n",
      "Non-trainable params: 0\n",
      "_________________________________________________________________\n"
     ]
    }
   ],
   "source": [
    "doubleLSTM_model = create_doubleLSTM_model(64, 64, 'softmax')\n",
    "doubleLSTM_model.summary()"
   ]
  },
  {
   "cell_type": "code",
   "execution_count": 98,
   "metadata": {},
   "outputs": [
    {
     "name": "stdout",
     "output_type": "stream",
     "text": [
      "Epoch 1/10\n",
      "75/75 [==============================] - 33s 346ms/step - loss: 0.0064 - mae: 0.0133 - acc: 0.9007 - val_loss: 0.0021 - val_mae: 0.0044 - val_acc: 0.9155\n",
      "Epoch 2/10\n",
      "75/75 [==============================] - 22s 293ms/step - loss: 0.0020 - mae: 0.0042 - acc: 0.9147 - val_loss: 0.0020 - val_mae: 0.0041 - val_acc: 0.9168\n",
      "Epoch 3/10\n",
      "75/75 [==============================] - 20s 266ms/step - loss: 0.0020 - mae: 0.0041 - acc: 0.9157 - val_loss: 0.0020 - val_mae: 0.0040 - val_acc: 0.9181\n",
      "Epoch 4/10\n",
      "75/75 [==============================] - 25s 335ms/step - loss: 0.0019 - mae: 0.0040 - acc: 0.9233 - val_loss: 0.0019 - val_mae: 0.0039 - val_acc: 0.9270\n",
      "Epoch 5/10\n",
      "75/75 [==============================] - 28s 375ms/step - loss: 0.0018 - mae: 0.0038 - acc: 0.9317 - val_loss: 0.0017 - val_mae: 0.0036 - val_acc: 0.9346\n",
      "Epoch 6/10\n",
      "75/75 [==============================] - 23s 301ms/step - loss: 0.0016 - mae: 0.0033 - acc: 0.9434 - val_loss: 0.0015 - val_mae: 0.0031 - val_acc: 0.9481\n",
      "Epoch 7/10\n",
      "75/75 [==============================] - 21s 281ms/step - loss: 0.0013 - mae: 0.0028 - acc: 0.9517 - val_loss: 0.0012 - val_mae: 0.0027 - val_acc: 0.9528\n",
      "Epoch 8/10\n",
      "75/75 [==============================] - 24s 317ms/step - loss: 0.0011 - mae: 0.0024 - acc: 0.9590 - val_loss: 0.0011 - val_mae: 0.0024 - val_acc: 0.9627\n",
      "Epoch 9/10\n",
      "75/75 [==============================] - 26s 343ms/step - loss: 9.7392e-04 - mae: 0.0021 - acc: 0.9675 - val_loss: 9.3775e-04 - val_mae: 0.0021 - val_acc: 0.9691\n",
      "Epoch 10/10\n",
      "75/75 [==============================] - 25s 341ms/step - loss: 8.2979e-04 - mae: 0.0018 - acc: 0.9730 - val_loss: 8.1243e-04 - val_mae: 0.0018 - val_acc: 0.9735\n"
     ]
    }
   ],
   "source": [
    "doubleLSTM_model.compile(loss=\"mse\",\n",
    "              optimizer=\"Adam\",\n",
    "              metrics=['mae', \"acc\"])\n",
    "doubleLSTM_training = doubleLSTM_model.fit(x=x_train, batch_size=25, y=y_train, epochs=10, validation_data=(x_val, y_val))"
   ]
  },
  {
   "cell_type": "code",
   "execution_count": 99,
   "metadata": {},
   "outputs": [
    {
     "data": {
      "image/png": "[encoded data removed]",
      "text/plain": [
       "<Figure size 432x288 with 1 Axes>"
      ]
     },
     "metadata": {
      "needs_background": "light"
     },
     "output_type": "display_data"
    }
   ],
   "source": [
    "plot_accuracy(doubleLSTM_training)"
   ]
  },
  {
   "cell_type": "code",
   "execution_count": 100,
   "metadata": {},
   "outputs": [
    {
     "data": {
      "image/png": "[encoded data removed]",
      "text/plain": [
       "<Figure size 432x288 with 1 Axes>"
      ]
     },
     "metadata": {
      "needs_background": "light"
     },
     "output_type": "display_data"
    }
   ],
   "source": [
    "plot_loss(doubleLSTM_training)"
   ]
  },
  {
   "cell_type": "code",
   "execution_count": 101,
   "metadata": {},
   "outputs": [],
   "source": [
    "doubleLSTM_model.save_weights('models/doubleLSTM_model_weights.h5') #Save model"
   ]
  },
  {
   "cell_type": "markdown",
   "metadata": {},
   "source": [
    "#### Two dense layers"
   ]
  },
  {
   "cell_type": "code",
   "execution_count": 102,
   "metadata": {},
   "outputs": [],
   "source": [
    "def create_doubledense_model(units_LSTM, units_dense, activation):\n",
    "    doubledense_model = keras.Sequential()\n",
    "    doubledense_model.add(layers.Embedding(input_dim = VOCABULARY_SIZE,\n",
    "                                 output_dim    = embedding_dimension,\n",
    "                                 input_length  = find_max_length(x_train),\n",
    "                                 weights       = [embedding_matrix],\n",
    "                                 trainable = True\n",
    "                                ))\n",
    "    doubledense_model.add(layers.Bidirectional(layers.LSTM(units_LSTM, return_sequences=True)))\n",
    "    doubledense_model.add(layers.Dense(units_dense))\n",
    "    #bidirect_model.add(layers.TimeDistributed(layers.Dense(len(tag_to_idx), activation='softmax')))\n",
    "    doubledense_model.add(layers.Dense(TAG_VOCABULARY_SIZE, activation=activation))\n",
    "    \n",
    "    return doubledense_model"
   ]
  },
  {
   "cell_type": "code",
   "execution_count": 103,
   "metadata": {},
   "outputs": [
    {
     "name": "stdout",
     "output_type": "stream",
     "text": [
      "Model: \"sequential_6\"\n",
      "_________________________________________________________________\n",
      " Layer (type)                Output Shape              Param #   \n",
      "=================================================================\n",
      " embedding_6 (Embedding)     (None, 249, 50)           535900    \n",
      "                                                                 \n",
      " bidirectional_7 (Bidirectio  (None, 249, 128)         58880     \n",
      " nal)                                                            \n",
      "                                                                 \n",
      " dense_6 (Dense)             (None, 249, 64)           8256      \n",
      "                                                                 \n",
      " dense_7 (Dense)             (None, 249, 46)           2990      \n",
      "                                                                 \n",
      "=================================================================\n",
      "Total params: 606,026\n",
      "Trainable params: 606,026\n",
      "Non-trainable params: 0\n",
      "_________________________________________________________________\n"
     ]
    }
   ],
   "source": [
    "doubleDense_model = create_doubledense_model(64, 64, 'softmax')\n",
    "doubleDense_model.summary()"
   ]
  },
  {
   "cell_type": "code",
   "execution_count": 104,
   "metadata": {},
   "outputs": [
    {
     "name": "stdout",
     "output_type": "stream",
     "text": [
      "Epoch 1/10\n",
      "75/75 [==============================] - 17s 186ms/step - loss: 0.0072 - mae: 0.0147 - acc: 0.9013 - val_loss: 0.0020 - val_mae: 0.0041 - val_acc: 0.9146\n",
      "Epoch 2/10\n",
      "75/75 [==============================] - 13s 170ms/step - loss: 0.0020 - mae: 0.0041 - acc: 0.9202 - val_loss: 0.0019 - val_mae: 0.0039 - val_acc: 0.9265\n",
      "Epoch 3/10\n",
      "75/75 [==============================] - 10s 134ms/step - loss: 0.0018 - mae: 0.0037 - acc: 0.9356 - val_loss: 0.0016 - val_mae: 0.0033 - val_acc: 0.9453\n",
      "Epoch 4/10\n",
      "75/75 [==============================] - 10s 127ms/step - loss: 0.0014 - mae: 0.0029 - acc: 0.9501 - val_loss: 0.0013 - val_mae: 0.0027 - val_acc: 0.9534\n",
      "Epoch 5/10\n",
      "75/75 [==============================] - 10s 138ms/step - loss: 0.0011 - mae: 0.0025 - acc: 0.9575 - val_loss: 0.0011 - val_mae: 0.0024 - val_acc: 0.9621\n",
      "Epoch 6/10\n",
      "75/75 [==============================] - 10s 129ms/step - loss: 0.0010 - mae: 0.0022 - acc: 0.9658 - val_loss: 9.5137e-04 - val_mae: 0.0021 - val_acc: 0.9676\n",
      "Epoch 7/10\n",
      "75/75 [==============================] - 10s 136ms/step - loss: 8.3845e-04 - mae: 0.0019 - acc: 0.9716 - val_loss: 8.1379e-04 - val_mae: 0.0018 - val_acc: 0.9729\n",
      "Epoch 8/10\n",
      "75/75 [==============================] - 13s 175ms/step - loss: 7.1306e-04 - mae: 0.0016 - acc: 0.9766 - val_loss: 7.1491e-04 - val_mae: 0.0015 - val_acc: 0.9764\n",
      "Epoch 9/10\n",
      "75/75 [==============================] - 11s 148ms/step - loss: 6.2012e-04 - mae: 0.0014 - acc: 0.9798 - val_loss: 6.4991e-04 - val_mae: 0.0014 - val_acc: 0.9783\n",
      "Epoch 10/10\n",
      "75/75 [==============================] - 11s 149ms/step - loss: 5.5487e-04 - mae: 0.0012 - acc: 0.9817 - val_loss: 6.0983e-04 - val_mae: 0.0013 - val_acc: 0.9795\n"
     ]
    }
   ],
   "source": [
    "doubleDense_model.compile(loss=\"mse\",\n",
    "              optimizer=\"Adam\",\n",
    "              metrics=['mae', \"acc\"])\n",
    "doubleDense_training = doubleDense_model.fit(x=x_train, batch_size=25, y=y_train, epochs=10, validation_data=(x_val, y_val))"
   ]
  },
  {
   "cell_type": "code",
   "execution_count": 105,
   "metadata": {},
   "outputs": [
    {
     "data": {
      "image/png": "[encoded data removed]",
      "text/plain": [
       "<Figure size 432x288 with 1 Axes>"
      ]
     },
     "metadata": {
      "needs_background": "light"
     },
     "output_type": "display_data"
    }
   ],
   "source": [
    "plot_accuracy(doubleDense_training)"
   ]
  },
  {
   "cell_type": "code",
   "execution_count": 106,
   "metadata": {},
   "outputs": [
    {
     "data": {
      "image/png": "[encoded data removed]",
      "text/plain": [
       "<Figure size 432x288 with 1 Axes>"
      ]
     },
     "metadata": {
      "needs_background": "light"
     },
     "output_type": "display_data"
    }
   ],
   "source": [
    "plot_loss(doubleDense_training)"
   ]
  },
  {
   "cell_type": "code",
   "execution_count": 107,
   "metadata": {},
   "outputs": [],
   "source": [
    "doubleDense_model.save_weights('models/doubleDense_model_weights.h5') #Save model"
   ]
  },
  {
   "cell_type": "markdown",
   "metadata": {},
   "source": [
    "## Predict"
   ]
  },
  {
   "cell_type": "code",
   "execution_count": 115,
   "metadata": {},
   "outputs": [],
   "source": [
    "def predict(model: keras.Model, x, predicting_info):\n",
    "    predictions = model.predict(x, **predicting_info)\n",
    "    return predictions"
   ]
  },
  {
   "cell_type": "code",
   "execution_count": 116,
   "metadata": {},
   "outputs": [],
   "source": [
    "predictions = predict(baseline_model, x_test, {'batch_size': 64})"
   ]
  },
  {
   "cell_type": "markdown",
   "metadata": {},
   "source": [
    "## Evaluate"
   ]
  },
  {
   "cell_type": "code",
   "execution_count": 118,
   "metadata": {},
   "outputs": [],
   "source": [
    "from sklearn.metrics import f1_score, accuracy_score\n",
    "\n",
    "def evaluate_pred(predictions, y_true):\n",
    "    metrics = {}\n",
    "    metrics[\"f1_score\"] = f1_score(y_pred=predictions, y_true=y_true)\n",
    "    metrics[\"accuracy_score\"] = accuracy_score(y_pred=predictions, y_true=y_true)\n",
    "    return metrics\n",
    "\n",
    "    \n"
   ]
  },
  {
   "cell_type": "code",
   "execution_count": 124,
   "metadata": {},
   "outputs": [
    {
     "data": {
      "text/plain": [
       "array([[[9.69195187e-01, 1.36923685e-04, 3.27087613e-03, ...,\n",
       "         2.91041099e-04, 7.74833839e-04, 3.90807691e-04],\n",
       "        [9.75689650e-01, 1.17607713e-04, 2.81692715e-03, ...,\n",
       "         2.24181102e-04, 6.11476193e-04, 3.02533823e-04],\n",
       "        [9.81272161e-01, 9.90108310e-05, 2.39146128e-03, ...,\n",
       "         1.67050748e-04, 4.67878272e-04, 2.26949705e-04],\n",
       "        ...,\n",
       "        [1.30040268e-03, 1.71621323e-01, 3.55444220e-03, ...,\n",
       "         1.46209248e-04, 1.48556035e-04, 5.71086275e-05],\n",
       "        [2.80177774e-04, 9.56305563e-01, 1.11225597e-03, ...,\n",
       "         8.23229566e-05, 6.77168209e-05, 3.04386194e-05],\n",
       "        [1.49546890e-04, 9.35693271e-03, 7.32943008e-04, ...,\n",
       "         8.54718819e-05, 1.30501445e-04, 1.32518107e-04]],\n",
       "\n",
       "       [[9.69195187e-01, 1.36923685e-04, 3.27087776e-03, ...,\n",
       "         2.91041099e-04, 7.74833839e-04, 3.90807691e-04],\n",
       "        [9.75689650e-01, 1.17607713e-04, 2.81692715e-03, ...,\n",
       "         2.24181102e-04, 6.11476193e-04, 3.02533823e-04],\n",
       "        [9.81272161e-01, 9.90108310e-05, 2.39146128e-03, ...,\n",
       "         1.67050748e-04, 4.67878504e-04, 2.26949705e-04],\n",
       "        ...,\n",
       "        [9.34653333e-04, 7.59362519e-01, 8.22517276e-03, ...,\n",
       "         1.38068062e-04, 1.49532963e-04, 4.25858925e-05],\n",
       "        [7.20327953e-04, 8.96354914e-01, 3.24142948e-02, ...,\n",
       "         1.92399646e-04, 1.45482612e-04, 6.60879523e-05],\n",
       "        [1.10983754e-04, 3.72063648e-03, 6.50032598e-04, ...,\n",
       "         5.80632986e-05, 9.82131314e-05, 1.11374051e-04]],\n",
       "\n",
       "       [[9.69195187e-01, 1.36923685e-04, 3.27087776e-03, ...,\n",
       "         2.91041099e-04, 7.74834189e-04, 3.90807691e-04],\n",
       "        [9.75689650e-01, 1.17607713e-04, 2.81692715e-03, ...,\n",
       "         2.24181102e-04, 6.11476193e-04, 3.02533823e-04],\n",
       "        [9.81272161e-01, 9.90108310e-05, 2.39146221e-03, ...,\n",
       "         1.67050748e-04, 4.67878504e-04, 2.26949705e-04],\n",
       "        ...,\n",
       "        [3.95620533e-04, 1.47880614e-01, 1.03519612e-03, ...,\n",
       "         1.39330295e-04, 1.19947217e-04, 4.83707045e-05],\n",
       "        [2.57966429e-04, 6.09730789e-03, 8.11317586e-04, ...,\n",
       "         9.30690803e-05, 1.51840213e-04, 1.74640722e-04],\n",
       "        [4.92937025e-03, 1.12525307e-01, 3.85632850e-02, ...,\n",
       "         2.98263738e-03, 3.02752340e-03, 2.87302304e-03]],\n",
       "\n",
       "       ...,\n",
       "\n",
       "       [[9.69195187e-01, 1.36923685e-04, 3.27087613e-03, ...,\n",
       "         2.91041099e-04, 7.74833839e-04, 3.90807691e-04],\n",
       "        [9.75689650e-01, 1.17607713e-04, 2.81692436e-03, ...,\n",
       "         2.24181102e-04, 6.11475902e-04, 3.02533823e-04],\n",
       "        [9.81272161e-01, 9.90107292e-05, 2.39146012e-03, ...,\n",
       "         1.67050748e-04, 4.67878272e-04, 2.26949705e-04],\n",
       "        ...,\n",
       "        [2.23925360e-03, 6.31005764e-01, 3.27611645e-03, ...,\n",
       "         3.45373905e-04, 4.92400024e-04, 2.65732611e-04],\n",
       "        [1.37617846e-03, 6.82289004e-01, 4.34008054e-02, ...,\n",
       "         4.33666719e-04, 2.54829385e-04, 1.72153275e-04],\n",
       "        [1.41021781e-04, 3.78896436e-03, 5.83694666e-04, ...,\n",
       "         7.90088670e-05, 1.17776879e-04, 1.49140440e-04]],\n",
       "\n",
       "       [[9.69195187e-01, 1.36923685e-04, 3.27087613e-03, ...,\n",
       "         2.91041099e-04, 7.74833839e-04, 3.90807691e-04],\n",
       "        [9.75689650e-01, 1.17607713e-04, 2.81692576e-03, ...,\n",
       "         2.24181102e-04, 6.11476193e-04, 3.02533823e-04],\n",
       "        [9.81272161e-01, 9.90108310e-05, 2.39146012e-03, ...,\n",
       "         1.67050748e-04, 4.67878504e-04, 2.26949705e-04],\n",
       "        ...,\n",
       "        [2.61119497e-03, 1.29405960e-01, 3.73437926e-02, ...,\n",
       "         1.22296216e-03, 2.41652830e-03, 1.13339059e-03],\n",
       "        [2.12458801e-03, 6.06971867e-02, 2.62820069e-02, ...,\n",
       "         1.16435357e-03, 1.37122627e-03, 8.96792393e-04],\n",
       "        [1.31958179e-04, 2.64885509e-03, 4.51556989e-04, ...,\n",
       "         8.20145142e-05, 1.57907663e-04, 1.72610875e-04]],\n",
       "\n",
       "       [[9.69195187e-01, 1.36923685e-04, 3.27087613e-03, ...,\n",
       "         2.91041099e-04, 7.74833839e-04, 3.90807691e-04],\n",
       "        [9.75689650e-01, 1.17607597e-04, 2.81692436e-03, ...,\n",
       "         2.24181102e-04, 6.11475902e-04, 3.02533823e-04],\n",
       "        [9.81272161e-01, 9.90107292e-05, 2.39146012e-03, ...,\n",
       "         1.67050748e-04, 4.67878272e-04, 2.26949705e-04],\n",
       "        ...,\n",
       "        [3.80425388e-03, 1.25629738e-01, 7.20240027e-02, ...,\n",
       "         1.04931381e-03, 1.85530190e-03, 8.69397947e-04],\n",
       "        [4.31586988e-03, 3.85046631e-01, 2.00574398e-01, ...,\n",
       "         1.22102536e-03, 1.08535122e-03, 6.86068670e-04],\n",
       "        [1.18712596e-04, 2.56515946e-03, 6.10968505e-04, ...,\n",
       "         6.47280904e-05, 1.19715463e-04, 1.28081228e-04]]], dtype=float32)"
      ]
     },
     "execution_count": 124,
     "metadata": {},
     "output_type": "execute_result"
    }
   ],
   "source": [
    "predictions"
   ]
  },
  {
   "cell_type": "code",
   "execution_count": 121,
   "metadata": {},
   "outputs": [
    {
     "ename": "ValueError",
     "evalue": "unknown is not supported",
     "output_type": "error",
     "traceback": [
      "\u001b[0;31m---------------------------------------------------------------------------\u001b[0m",
      "\u001b[0;31mValueError\u001b[0m                                Traceback (most recent call last)",
      "\u001b[0;32m/var/folders/t4/vnxj6kkj2n97knry5lnrscx00000gn/T/ipykernel_7959/3002179286.py\u001b[0m in \u001b[0;36m<module>\u001b[0;34m\u001b[0m\n\u001b[0;32m----> 1\u001b[0;31m \u001b[0mf1_score\u001b[0m\u001b[0;34m(\u001b[0m\u001b[0my_true\u001b[0m\u001b[0;34m=\u001b[0m\u001b[0my_test\u001b[0m\u001b[0;34m,\u001b[0m \u001b[0my_pred\u001b[0m\u001b[0;34m=\u001b[0m\u001b[0mpredictions\u001b[0m\u001b[0;34m)\u001b[0m\u001b[0;34m\u001b[0m\u001b[0;34m\u001b[0m\u001b[0m\n\u001b[0m",
      "\u001b[0;32m/usr/local/lib/python3.9/site-packages/sklearn/metrics/_classification.py\u001b[0m in \u001b[0;36mf1_score\u001b[0;34m(y_true, y_pred, labels, pos_label, average, sample_weight, zero_division)\u001b[0m\n\u001b[1;32m   1111\u001b[0m     \u001b[0mmodified\u001b[0m \u001b[0;32mwith\u001b[0m\u001b[0;31m \u001b[0m\u001b[0;31m`\u001b[0m\u001b[0;31m`\u001b[0m\u001b[0mzero_division\u001b[0m\u001b[0;31m`\u001b[0m\u001b[0;31m`\u001b[0m\u001b[0;34m.\u001b[0m\u001b[0;34m\u001b[0m\u001b[0;34m\u001b[0m\u001b[0m\n\u001b[1;32m   1112\u001b[0m     \"\"\"\n\u001b[0;32m-> 1113\u001b[0;31m     return fbeta_score(\n\u001b[0m\u001b[1;32m   1114\u001b[0m         \u001b[0my_true\u001b[0m\u001b[0;34m,\u001b[0m\u001b[0;34m\u001b[0m\u001b[0;34m\u001b[0m\u001b[0m\n\u001b[1;32m   1115\u001b[0m         \u001b[0my_pred\u001b[0m\u001b[0;34m,\u001b[0m\u001b[0;34m\u001b[0m\u001b[0;34m\u001b[0m\u001b[0m\n",
      "\u001b[0;32m/usr/local/lib/python3.9/site-packages/sklearn/metrics/_classification.py\u001b[0m in \u001b[0;36mfbeta_score\u001b[0;34m(y_true, y_pred, beta, labels, pos_label, average, sample_weight, zero_division)\u001b[0m\n\u001b[1;32m   1249\u001b[0m     \"\"\"\n\u001b[1;32m   1250\u001b[0m \u001b[0;34m\u001b[0m\u001b[0m\n\u001b[0;32m-> 1251\u001b[0;31m     _, _, f, _ = precision_recall_fscore_support(\n\u001b[0m\u001b[1;32m   1252\u001b[0m         \u001b[0my_true\u001b[0m\u001b[0;34m,\u001b[0m\u001b[0;34m\u001b[0m\u001b[0;34m\u001b[0m\u001b[0m\n\u001b[1;32m   1253\u001b[0m         \u001b[0my_pred\u001b[0m\u001b[0;34m,\u001b[0m\u001b[0;34m\u001b[0m\u001b[0;34m\u001b[0m\u001b[0m\n",
      "\u001b[0;32m/usr/local/lib/python3.9/site-packages/sklearn/metrics/_classification.py\u001b[0m in \u001b[0;36mprecision_recall_fscore_support\u001b[0;34m(y_true, y_pred, beta, labels, pos_label, average, warn_for, sample_weight, zero_division)\u001b[0m\n\u001b[1;32m   1532\u001b[0m     \u001b[0;32mif\u001b[0m \u001b[0mbeta\u001b[0m \u001b[0;34m<\u001b[0m \u001b[0;36m0\u001b[0m\u001b[0;34m:\u001b[0m\u001b[0;34m\u001b[0m\u001b[0;34m\u001b[0m\u001b[0m\n\u001b[1;32m   1533\u001b[0m         \u001b[0;32mraise\u001b[0m \u001b[0mValueError\u001b[0m\u001b[0;34m(\u001b[0m\u001b[0;34m\"beta should be >=0 in the F-beta score\"\u001b[0m\u001b[0;34m)\u001b[0m\u001b[0;34m\u001b[0m\u001b[0;34m\u001b[0m\u001b[0m\n\u001b[0;32m-> 1534\u001b[0;31m     \u001b[0mlabels\u001b[0m \u001b[0;34m=\u001b[0m \u001b[0m_check_set_wise_labels\u001b[0m\u001b[0;34m(\u001b[0m\u001b[0my_true\u001b[0m\u001b[0;34m,\u001b[0m \u001b[0my_pred\u001b[0m\u001b[0;34m,\u001b[0m \u001b[0maverage\u001b[0m\u001b[0;34m,\u001b[0m \u001b[0mlabels\u001b[0m\u001b[0;34m,\u001b[0m \u001b[0mpos_label\u001b[0m\u001b[0;34m)\u001b[0m\u001b[0;34m\u001b[0m\u001b[0;34m\u001b[0m\u001b[0m\n\u001b[0m\u001b[1;32m   1535\u001b[0m \u001b[0;34m\u001b[0m\u001b[0m\n\u001b[1;32m   1536\u001b[0m     \u001b[0;31m# Calculate tp_sum, pred_sum, true_sum ###\u001b[0m\u001b[0;34m\u001b[0m\u001b[0;34m\u001b[0m\u001b[0;34m\u001b[0m\u001b[0m\n",
      "\u001b[0;32m/usr/local/lib/python3.9/site-packages/sklearn/metrics/_classification.py\u001b[0m in \u001b[0;36m_check_set_wise_labels\u001b[0;34m(y_true, y_pred, average, labels, pos_label)\u001b[0m\n\u001b[1;32m   1336\u001b[0m         \u001b[0;32mraise\u001b[0m \u001b[0mValueError\u001b[0m\u001b[0;34m(\u001b[0m\u001b[0;34m\"average has to be one of \"\u001b[0m \u001b[0;34m+\u001b[0m \u001b[0mstr\u001b[0m\u001b[0;34m(\u001b[0m\u001b[0maverage_options\u001b[0m\u001b[0;34m)\u001b[0m\u001b[0;34m)\u001b[0m\u001b[0;34m\u001b[0m\u001b[0;34m\u001b[0m\u001b[0m\n\u001b[1;32m   1337\u001b[0m \u001b[0;34m\u001b[0m\u001b[0m\n\u001b[0;32m-> 1338\u001b[0;31m     \u001b[0my_type\u001b[0m\u001b[0;34m,\u001b[0m \u001b[0my_true\u001b[0m\u001b[0;34m,\u001b[0m \u001b[0my_pred\u001b[0m \u001b[0;34m=\u001b[0m \u001b[0m_check_targets\u001b[0m\u001b[0;34m(\u001b[0m\u001b[0my_true\u001b[0m\u001b[0;34m,\u001b[0m \u001b[0my_pred\u001b[0m\u001b[0;34m)\u001b[0m\u001b[0;34m\u001b[0m\u001b[0;34m\u001b[0m\u001b[0m\n\u001b[0m\u001b[1;32m   1339\u001b[0m     \u001b[0;31m# Convert to Python primitive type to avoid NumPy type / Python str\u001b[0m\u001b[0;34m\u001b[0m\u001b[0;34m\u001b[0m\u001b[0;34m\u001b[0m\u001b[0m\n\u001b[1;32m   1340\u001b[0m     \u001b[0;31m# comparison. See https://github.com/numpy/numpy/issues/6784\u001b[0m\u001b[0;34m\u001b[0m\u001b[0;34m\u001b[0m\u001b[0;34m\u001b[0m\u001b[0m\n",
      "\u001b[0;32m/usr/local/lib/python3.9/site-packages/sklearn/metrics/_classification.py\u001b[0m in \u001b[0;36m_check_targets\u001b[0;34m(y_true, y_pred)\u001b[0m\n\u001b[1;32m    102\u001b[0m     \u001b[0;31m# No metrics support \"multiclass-multioutput\" format\u001b[0m\u001b[0;34m\u001b[0m\u001b[0;34m\u001b[0m\u001b[0;34m\u001b[0m\u001b[0m\n\u001b[1;32m    103\u001b[0m     \u001b[0;32mif\u001b[0m \u001b[0my_type\u001b[0m \u001b[0;32mnot\u001b[0m \u001b[0;32min\u001b[0m \u001b[0;34m[\u001b[0m\u001b[0;34m\"binary\"\u001b[0m\u001b[0;34m,\u001b[0m \u001b[0;34m\"multiclass\"\u001b[0m\u001b[0;34m,\u001b[0m \u001b[0;34m\"multilabel-indicator\"\u001b[0m\u001b[0;34m]\u001b[0m\u001b[0;34m:\u001b[0m\u001b[0;34m\u001b[0m\u001b[0;34m\u001b[0m\u001b[0m\n\u001b[0;32m--> 104\u001b[0;31m         \u001b[0;32mraise\u001b[0m \u001b[0mValueError\u001b[0m\u001b[0;34m(\u001b[0m\u001b[0;34m\"{0} is not supported\"\u001b[0m\u001b[0;34m.\u001b[0m\u001b[0mformat\u001b[0m\u001b[0;34m(\u001b[0m\u001b[0my_type\u001b[0m\u001b[0;34m)\u001b[0m\u001b[0;34m)\u001b[0m\u001b[0;34m\u001b[0m\u001b[0;34m\u001b[0m\u001b[0m\n\u001b[0m\u001b[1;32m    105\u001b[0m \u001b[0;34m\u001b[0m\u001b[0m\n\u001b[1;32m    106\u001b[0m     \u001b[0;32mif\u001b[0m \u001b[0my_type\u001b[0m \u001b[0;32min\u001b[0m \u001b[0;34m[\u001b[0m\u001b[0;34m\"binary\"\u001b[0m\u001b[0;34m,\u001b[0m \u001b[0;34m\"multiclass\"\u001b[0m\u001b[0;34m]\u001b[0m\u001b[0;34m:\u001b[0m\u001b[0;34m\u001b[0m\u001b[0;34m\u001b[0m\u001b[0m\n",
      "\u001b[0;31mValueError\u001b[0m: unknown is not supported"
     ]
    }
   ],
   "source": [
    "f1_score(y_true=y_test, y_pred=predictions)"
   ]
  },
  {
   "cell_type": "code",
   "execution_count": 120,
   "metadata": {},
   "outputs": [
    {
     "ename": "ValueError",
     "evalue": "unknown is not supported",
     "output_type": "error",
     "traceback": [
      "\u001b[0;31m---------------------------------------------------------------------------\u001b[0m",
      "\u001b[0;31mValueError\u001b[0m                                Traceback (most recent call last)",
      "\u001b[0;32m/var/folders/t4/vnxj6kkj2n97knry5lnrscx00000gn/T/ipykernel_7959/2971887679.py\u001b[0m in \u001b[0;36m<module>\u001b[0;34m\u001b[0m\n\u001b[0;32m----> 1\u001b[0;31m \u001b[0mmetrics\u001b[0m \u001b[0;34m=\u001b[0m \u001b[0mevaluate_pred\u001b[0m\u001b[0;34m(\u001b[0m\u001b[0mpredictions\u001b[0m\u001b[0;34m,\u001b[0m \u001b[0my_test\u001b[0m\u001b[0;34m)\u001b[0m\u001b[0;34m\u001b[0m\u001b[0;34m\u001b[0m\u001b[0m\n\u001b[0m",
      "\u001b[0;32m/var/folders/t4/vnxj6kkj2n97knry5lnrscx00000gn/T/ipykernel_7959/3113509620.py\u001b[0m in \u001b[0;36mevaluate_pred\u001b[0;34m(predictions, y_true)\u001b[0m\n\u001b[1;32m      3\u001b[0m \u001b[0;32mdef\u001b[0m \u001b[0mevaluate_pred\u001b[0m\u001b[0;34m(\u001b[0m\u001b[0mpredictions\u001b[0m\u001b[0;34m,\u001b[0m \u001b[0my_true\u001b[0m\u001b[0;34m)\u001b[0m\u001b[0;34m:\u001b[0m\u001b[0;34m\u001b[0m\u001b[0;34m\u001b[0m\u001b[0m\n\u001b[1;32m      4\u001b[0m     \u001b[0mmetrics\u001b[0m \u001b[0;34m=\u001b[0m \u001b[0;34m{\u001b[0m\u001b[0;34m}\u001b[0m\u001b[0;34m\u001b[0m\u001b[0;34m\u001b[0m\u001b[0m\n\u001b[0;32m----> 5\u001b[0;31m     \u001b[0mmetrics\u001b[0m\u001b[0;34m[\u001b[0m\u001b[0;34m\"f1_score\"\u001b[0m\u001b[0;34m]\u001b[0m \u001b[0;34m=\u001b[0m \u001b[0mf1_score\u001b[0m\u001b[0;34m(\u001b[0m\u001b[0my_pred\u001b[0m\u001b[0;34m=\u001b[0m\u001b[0mpredictions\u001b[0m\u001b[0;34m,\u001b[0m \u001b[0my_true\u001b[0m\u001b[0;34m=\u001b[0m\u001b[0my_true\u001b[0m\u001b[0;34m)\u001b[0m\u001b[0;34m\u001b[0m\u001b[0;34m\u001b[0m\u001b[0m\n\u001b[0m\u001b[1;32m      6\u001b[0m     \u001b[0mmetrics\u001b[0m\u001b[0;34m[\u001b[0m\u001b[0;34m\"accuracy_score\"\u001b[0m\u001b[0;34m]\u001b[0m \u001b[0;34m=\u001b[0m \u001b[0maccuracy_score\u001b[0m\u001b[0;34m(\u001b[0m\u001b[0my_pred\u001b[0m\u001b[0;34m=\u001b[0m\u001b[0mpredictions\u001b[0m\u001b[0;34m,\u001b[0m \u001b[0my_true\u001b[0m\u001b[0;34m=\u001b[0m\u001b[0my_true\u001b[0m\u001b[0;34m)\u001b[0m\u001b[0;34m\u001b[0m\u001b[0;34m\u001b[0m\u001b[0m\n\u001b[1;32m      7\u001b[0m     \u001b[0;32mreturn\u001b[0m \u001b[0mmetrics\u001b[0m\u001b[0;34m\u001b[0m\u001b[0;34m\u001b[0m\u001b[0m\n",
      "\u001b[0;32m/usr/local/lib/python3.9/site-packages/sklearn/metrics/_classification.py\u001b[0m in \u001b[0;36mf1_score\u001b[0;34m(y_true, y_pred, labels, pos_label, average, sample_weight, zero_division)\u001b[0m\n\u001b[1;32m   1111\u001b[0m     \u001b[0mmodified\u001b[0m \u001b[0;32mwith\u001b[0m\u001b[0;31m \u001b[0m\u001b[0;31m`\u001b[0m\u001b[0;31m`\u001b[0m\u001b[0mzero_division\u001b[0m\u001b[0;31m`\u001b[0m\u001b[0;31m`\u001b[0m\u001b[0;34m.\u001b[0m\u001b[0;34m\u001b[0m\u001b[0;34m\u001b[0m\u001b[0m\n\u001b[1;32m   1112\u001b[0m     \"\"\"\n\u001b[0;32m-> 1113\u001b[0;31m     return fbeta_score(\n\u001b[0m\u001b[1;32m   1114\u001b[0m         \u001b[0my_true\u001b[0m\u001b[0;34m,\u001b[0m\u001b[0;34m\u001b[0m\u001b[0;34m\u001b[0m\u001b[0m\n\u001b[1;32m   1115\u001b[0m         \u001b[0my_pred\u001b[0m\u001b[0;34m,\u001b[0m\u001b[0;34m\u001b[0m\u001b[0;34m\u001b[0m\u001b[0m\n",
      "\u001b[0;32m/usr/local/lib/python3.9/site-packages/sklearn/metrics/_classification.py\u001b[0m in \u001b[0;36mfbeta_score\u001b[0;34m(y_true, y_pred, beta, labels, pos_label, average, sample_weight, zero_division)\u001b[0m\n\u001b[1;32m   1249\u001b[0m     \"\"\"\n\u001b[1;32m   1250\u001b[0m \u001b[0;34m\u001b[0m\u001b[0m\n\u001b[0;32m-> 1251\u001b[0;31m     _, _, f, _ = precision_recall_fscore_support(\n\u001b[0m\u001b[1;32m   1252\u001b[0m         \u001b[0my_true\u001b[0m\u001b[0;34m,\u001b[0m\u001b[0;34m\u001b[0m\u001b[0;34m\u001b[0m\u001b[0m\n\u001b[1;32m   1253\u001b[0m         \u001b[0my_pred\u001b[0m\u001b[0;34m,\u001b[0m\u001b[0;34m\u001b[0m\u001b[0;34m\u001b[0m\u001b[0m\n",
      "\u001b[0;32m/usr/local/lib/python3.9/site-packages/sklearn/metrics/_classification.py\u001b[0m in \u001b[0;36mprecision_recall_fscore_support\u001b[0;34m(y_true, y_pred, beta, labels, pos_label, average, warn_for, sample_weight, zero_division)\u001b[0m\n\u001b[1;32m   1532\u001b[0m     \u001b[0;32mif\u001b[0m \u001b[0mbeta\u001b[0m \u001b[0;34m<\u001b[0m \u001b[0;36m0\u001b[0m\u001b[0;34m:\u001b[0m\u001b[0;34m\u001b[0m\u001b[0;34m\u001b[0m\u001b[0m\n\u001b[1;32m   1533\u001b[0m         \u001b[0;32mraise\u001b[0m \u001b[0mValueError\u001b[0m\u001b[0;34m(\u001b[0m\u001b[0;34m\"beta should be >=0 in the F-beta score\"\u001b[0m\u001b[0;34m)\u001b[0m\u001b[0;34m\u001b[0m\u001b[0;34m\u001b[0m\u001b[0m\n\u001b[0;32m-> 1534\u001b[0;31m     \u001b[0mlabels\u001b[0m \u001b[0;34m=\u001b[0m \u001b[0m_check_set_wise_labels\u001b[0m\u001b[0;34m(\u001b[0m\u001b[0my_true\u001b[0m\u001b[0;34m,\u001b[0m \u001b[0my_pred\u001b[0m\u001b[0;34m,\u001b[0m \u001b[0maverage\u001b[0m\u001b[0;34m,\u001b[0m \u001b[0mlabels\u001b[0m\u001b[0;34m,\u001b[0m \u001b[0mpos_label\u001b[0m\u001b[0;34m)\u001b[0m\u001b[0;34m\u001b[0m\u001b[0;34m\u001b[0m\u001b[0m\n\u001b[0m\u001b[1;32m   1535\u001b[0m \u001b[0;34m\u001b[0m\u001b[0m\n\u001b[1;32m   1536\u001b[0m     \u001b[0;31m# Calculate tp_sum, pred_sum, true_sum ###\u001b[0m\u001b[0;34m\u001b[0m\u001b[0;34m\u001b[0m\u001b[0;34m\u001b[0m\u001b[0m\n",
      "\u001b[0;32m/usr/local/lib/python3.9/site-packages/sklearn/metrics/_classification.py\u001b[0m in \u001b[0;36m_check_set_wise_labels\u001b[0;34m(y_true, y_pred, average, labels, pos_label)\u001b[0m\n\u001b[1;32m   1336\u001b[0m         \u001b[0;32mraise\u001b[0m \u001b[0mValueError\u001b[0m\u001b[0;34m(\u001b[0m\u001b[0;34m\"average has to be one of \"\u001b[0m \u001b[0;34m+\u001b[0m \u001b[0mstr\u001b[0m\u001b[0;34m(\u001b[0m\u001b[0maverage_options\u001b[0m\u001b[0;34m)\u001b[0m\u001b[0;34m)\u001b[0m\u001b[0;34m\u001b[0m\u001b[0;34m\u001b[0m\u001b[0m\n\u001b[1;32m   1337\u001b[0m \u001b[0;34m\u001b[0m\u001b[0m\n\u001b[0;32m-> 1338\u001b[0;31m     \u001b[0my_type\u001b[0m\u001b[0;34m,\u001b[0m \u001b[0my_true\u001b[0m\u001b[0;34m,\u001b[0m \u001b[0my_pred\u001b[0m \u001b[0;34m=\u001b[0m \u001b[0m_check_targets\u001b[0m\u001b[0;34m(\u001b[0m\u001b[0my_true\u001b[0m\u001b[0;34m,\u001b[0m \u001b[0my_pred\u001b[0m\u001b[0;34m)\u001b[0m\u001b[0;34m\u001b[0m\u001b[0;34m\u001b[0m\u001b[0m\n\u001b[0m\u001b[1;32m   1339\u001b[0m     \u001b[0;31m# Convert to Python primitive type to avoid NumPy type / Python str\u001b[0m\u001b[0;34m\u001b[0m\u001b[0;34m\u001b[0m\u001b[0;34m\u001b[0m\u001b[0m\n\u001b[1;32m   1340\u001b[0m     \u001b[0;31m# comparison. See https://github.com/numpy/numpy/issues/6784\u001b[0m\u001b[0;34m\u001b[0m\u001b[0;34m\u001b[0m\u001b[0;34m\u001b[0m\u001b[0m\n",
      "\u001b[0;32m/usr/local/lib/python3.9/site-packages/sklearn/metrics/_classification.py\u001b[0m in \u001b[0;36m_check_targets\u001b[0;34m(y_true, y_pred)\u001b[0m\n\u001b[1;32m    102\u001b[0m     \u001b[0;31m# No metrics support \"multiclass-multioutput\" format\u001b[0m\u001b[0;34m\u001b[0m\u001b[0;34m\u001b[0m\u001b[0;34m\u001b[0m\u001b[0m\n\u001b[1;32m    103\u001b[0m     \u001b[0;32mif\u001b[0m \u001b[0my_type\u001b[0m \u001b[0;32mnot\u001b[0m \u001b[0;32min\u001b[0m \u001b[0;34m[\u001b[0m\u001b[0;34m\"binary\"\u001b[0m\u001b[0;34m,\u001b[0m \u001b[0;34m\"multiclass\"\u001b[0m\u001b[0;34m,\u001b[0m \u001b[0;34m\"multilabel-indicator\"\u001b[0m\u001b[0;34m]\u001b[0m\u001b[0;34m:\u001b[0m\u001b[0;34m\u001b[0m\u001b[0;34m\u001b[0m\u001b[0m\n\u001b[0;32m--> 104\u001b[0;31m         \u001b[0;32mraise\u001b[0m \u001b[0mValueError\u001b[0m\u001b[0;34m(\u001b[0m\u001b[0;34m\"{0} is not supported\"\u001b[0m\u001b[0;34m.\u001b[0m\u001b[0mformat\u001b[0m\u001b[0;34m(\u001b[0m\u001b[0my_type\u001b[0m\u001b[0;34m)\u001b[0m\u001b[0;34m)\u001b[0m\u001b[0;34m\u001b[0m\u001b[0;34m\u001b[0m\u001b[0m\n\u001b[0m\u001b[1;32m    105\u001b[0m \u001b[0;34m\u001b[0m\u001b[0m\n\u001b[1;32m    106\u001b[0m     \u001b[0;32mif\u001b[0m \u001b[0my_type\u001b[0m \u001b[0;32min\u001b[0m \u001b[0;34m[\u001b[0m\u001b[0;34m\"binary\"\u001b[0m\u001b[0;34m,\u001b[0m \u001b[0;34m\"multiclass\"\u001b[0m\u001b[0;34m]\u001b[0m\u001b[0;34m:\u001b[0m\u001b[0;34m\u001b[0m\u001b[0;34m\u001b[0m\u001b[0m\n",
      "\u001b[0;31mValueError\u001b[0m: unknown is not supported"
     ]
    }
   ],
   "source": [
    "metrics = evaluate_pred(predictions, y_test)"
   ]
  },
  {
   "cell_type": "markdown",
   "metadata": {},
   "source": []
  }
 ],
 "metadata": {
  "interpreter": {
   "hash": "aee8b7b246df8f9039afb4144a1f6fd8d2ca17a180786b69acc140d282b71a49"
  },
  "kernelspec": {
   "display_name": "Python 3",
   "language": "python",
   "name": "python3"
  },
  "language_info": {
   "codemirror_mode": {
    "name": "ipython",
    "version": 3
   },
   "file_extension": ".py",
   "mimetype": "text/x-python",
   "name": "python",
   "nbconvert_exporter": "python",
   "pygments_lexer": "ipython3",
   "version": "3.9.4"
  }
 },
 "nbformat": 4,
 "nbformat_minor": 2
}
