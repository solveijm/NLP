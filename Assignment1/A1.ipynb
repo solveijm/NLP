{
 "cells": [
  {
   "cell_type": "markdown",
   "metadata": {},
   "source": [
    "# Part-of-speech tagging"
   ]
  },
  {
   "cell_type": "markdown",
   "metadata": {},
   "source": [
    "#### Import libraries"
   ]
  },
  {
   "cell_type": "code",
   "execution_count": 13,
   "metadata": {},
   "outputs": [],
   "source": [
    "from datetime import datetime\n",
    "from functools import reduce\n",
    "from keras.preprocessing.sequence import pad_sequences\n",
    "from keras.preprocessing.text import Tokenizer\n",
    "from keras.utils.np_utils import to_categorical\n",
    "import matplotlib.pyplot as plt\n",
    "import numpy as np\n",
    "import os\n",
    "import pandas as pd\n",
    "import re\n",
    "import seaborn as sn\n",
    "from sklearn.metrics import accuracy_score, precision_score, recall_score, f1_score, confusion_matrix, classification_report\n",
    "from tensorflow import keras\n",
    "from tensorflow.keras import layers\n",
    "from typing import List, Callable, Dict\n",
    "import urllib.request  #  download files\n",
    "import zipfile  #  unzip files"
   ]
  },
  {
   "cell_type": "markdown",
   "metadata": {},
   "source": [
    "#### Define constant variables"
   ]
  },
  {
   "cell_type": "code",
   "execution_count": 14,
   "metadata": {},
   "outputs": [],
   "source": [
    "train_path = './Dataset/train/'\n",
    "val_path = './Dataset/val/'\n",
    "test_path = './Dataset/test/'\n",
    "dataset_folder = os.path.join(os.getcwd(), \"OriginalDataset\")\n",
    "original_path = dataset_folder +'/dependency_treebank/'\n",
    "\n",
    "embedding_dimension = 50\n"
   ]
  },
  {
   "cell_type": "markdown",
   "metadata": {},
   "source": [
    "## Data pipeline"
   ]
  },
  {
   "cell_type": "markdown",
   "metadata": {},
   "source": [
    "#### Download dataset"
   ]
  },
  {
   "cell_type": "code",
   "execution_count": 15,
   "metadata": {},
   "outputs": [],
   "source": [
    "def download_dataset():\n",
    "    dataset_folder = os.path.join(os.getcwd(), \"OriginalDataset\")\n",
    "\n",
    "    if not os.path.exists(dataset_folder):\n",
    "        os.makedirs(dataset_folder)\n",
    "\n",
    "    url = 'https://raw.githubusercontent.com/nltk/nltk_data/gh-pages/packages/corpora/dependency_treebank.zip'\n",
    "\n",
    "    dataset_path = os.path.join(dataset_folder, \"dependency_treebank.zip\")\n",
    "\n",
    "    if not os.path.exists(dataset_path):\n",
    "        urllib.request.urlretrieve(url, dataset_path)\n",
    "        print(\"Successful download\")\n",
    "\n",
    "    with zipfile.ZipFile(dataset_path,\"r\") as zip_ref:\n",
    "        zip_ref.extractall(dataset_folder)\n",
    "    print(\"Successful extraction\")"
   ]
  },
  {
   "cell_type": "code",
   "execution_count": 16,
   "metadata": {},
   "outputs": [
    {
     "name": "stdout",
     "output_type": "stream",
     "text": [
      "Successful extraction\n"
     ]
    }
   ],
   "source": [
    "# Uncomment to download dataset\n",
    "download_dataset()"
   ]
  },
  {
   "cell_type": "markdown",
   "metadata": {},
   "source": [
    "#### Split dataset"
   ]
  },
  {
   "cell_type": "code",
   "execution_count": 17,
   "metadata": {},
   "outputs": [],
   "source": [
    "def split_dataset(train_path, val_path, test_path, original_path):\n",
    "    if not os.path.exists(train_path):\n",
    "        print(\"making directory\")\n",
    "        os.makedirs(train_path)\n",
    "    if not os.path.exists(val_path):\n",
    "        os.makedirs(val_path)\n",
    "    if not os.path.exists(test_path):\n",
    "        os.makedirs(test_path)\n",
    "\n",
    "    original_dataset = os.listdir(original_path)\n",
    "    \n",
    "    original_dataset.sort()\n",
    "    org_train = original_dataset[0:100]\n",
    "    org_val = original_dataset[100:150]\n",
    "    org_test = original_dataset[150:]\n",
    "\n",
    "    for f in org_train:\n",
    "        os.rename(original_path+f, train_path+f)\n",
    "    for f in org_val:\n",
    "        os.rename(original_path+f, val_path+f)\n",
    "    for f in org_test:\n",
    "        os.rename(original_path+f, test_path+f)\n",
    "    print(\"Successful spilt\")\n",
    "        "
   ]
  },
  {
   "cell_type": "code",
   "execution_count": 18,
   "metadata": {},
   "outputs": [
    {
     "name": "stdout",
     "output_type": "stream",
     "text": [
      "Successful spilt\n"
     ]
    }
   ],
   "source": [
    "# Uncomment the following line to split the dataset\n",
    "split_dataset(train_path, val_path, test_path, original_path)\n"
   ]
  },
  {
   "cell_type": "markdown",
   "metadata": {},
   "source": [
    "#### Create dataframe"
   ]
  },
  {
   "cell_type": "code",
   "execution_count": 19,
   "metadata": {},
   "outputs": [],
   "source": [
    "def create_dataframe(dataset_path: str):\n",
    "    dataframe_rows = []\n",
    "    documents = os.listdir(dataset_path)\n",
    "    for document in documents:\n",
    "        path = os.path.join(dataset_path, document)\n",
    "        with open(path, 'r') as f:\n",
    "            a = [[x for x in ln.split()] for ln in f]\n",
    "        #---------------For splitting on sentence-------------------#\n",
    "        sentence = []\n",
    "        sentence_tag = []\n",
    "        for x in a:\n",
    "            if x!=[]:\n",
    "                sentence.append(x[0])\n",
    "                sentence_tag.append(x[1])\n",
    "            else:\n",
    "                dataframe_row = {\n",
    "                    \"text\": sentence,\n",
    "                    \"POS\": sentence_tag\n",
    "                }\n",
    "                sentence = []\n",
    "                sentence_tag = []\n",
    "                dataframe_rows.append(dataframe_row)\n",
    "        #----------------------------------------------------------#\n",
    "        #------------------To split on document--------------------#\n",
    "        \"\"\"\n",
    "        a2 = [x for x in a if x != []] # OBS! Removing all empty lines in file so we can make an array\n",
    "        arr = np.array(a2)\n",
    "        text = list(arr[:, 0])\n",
    "        tagg = list(arr[:, 1])\n",
    "        #POStuple =  [tagg[x] for x in range(len(text))] #[(text[x], tagg[x]) for x in range(len(text))]\n",
    "        document_id = int(document[4:8])\n",
    "        dataframe_row = {\n",
    "            \"document_id\": document_id,\n",
    "            \"text\": text,\n",
    "            \"POS\": tagg\n",
    "        }\n",
    "        dataframe_rows.append(dataframe_row)\"\"\"\n",
    "        #----------------------------------------------------------#\n",
    "    # transform the list of rows in a proper dataframe\n",
    "    df = pd.DataFrame(dataframe_rows)\n",
    "    df = df[[\"text\", \"POS\"]]\n",
    "\n",
    "    return df"
   ]
  },
  {
   "cell_type": "code",
   "execution_count": 20,
   "metadata": {},
   "outputs": [],
   "source": [
    "df_train = create_dataframe(train_path)\n",
    "df_val = create_dataframe(val_path)\n",
    "df_test = create_dataframe(test_path)"
   ]
  },
  {
   "cell_type": "markdown",
   "metadata": {},
   "source": [
    "## Clean and transform data"
   ]
  },
  {
   "cell_type": "markdown",
   "metadata": {},
   "source": [
    "#### Clean text in data frame\n",
    "We remove uncommon symbols and special characters and make all text to lower case."
   ]
  },
  {
   "cell_type": "code",
   "execution_count": null,
   "metadata": {},
   "outputs": [],
   "source": [
    "REPLACE_BY_SPACE_RE = re.compile(\"[/(){}\\[\\]\\|@,;]\")\n",
    "GOOD_SYMBOLS_RE = re.compile(\"[^0-9a-z #+_$]\")\n",
    "\n",
    "def lower(text: str) -> str:\n",
    "    \"\"\"\n",
    "    Transforms given text to lower case.\n",
    "    Example:\n",
    "    Input: 'I really like New York city'\n",
    "    Output: 'i really like new your city'\n",
    "    \"\"\"\n",
    "\n",
    "    return text.lower()\n",
    "\n",
    "def remove_special_characters(text: str) -> str:\n",
    "    \"\"\"\n",
    "    Replaces special characters, such as paranthesis,\n",
    "    with spacing character\n",
    "    \"\"\"\n",
    "\n",
    "    return REPLACE_BY_SPACE_RE.sub('', text)\n",
    "\n",
    "def filter_out_uncommon_symbols(text: str) -> str:\n",
    "    \"\"\"\n",
    "    Removes any special character that is not in the\n",
    "    good symbols list (check regular expression)\n",
    "    \"\"\"\n",
    "\n",
    "    return GOOD_SYMBOLS_RE.sub('', text)\n",
    "\n",
    "PREPROCESSING_PIPELINE = [\n",
    "                          lower,\n",
    "                          remove_special_characters,\n",
    "                          filter_out_uncommon_symbols,\n",
    "                          ]\n",
    "\n",
    "def text_prepare(text,\n",
    "                 filter_methods: List[Callable[[str], str]] = None) -> str:\n",
    "    \"\"\"\n",
    "    Applies a list of pre-processing functions in sequence (reduce).\n",
    "    Note that the order is important here!\n",
    "    \"\"\"\n",
    "\n",
    "    filter_methods = filter_methods if filter_methods is not None else PREPROCESSING_PIPELINE\n",
    "\n",
    "    new_row = [reduce(lambda txt, f: f(txt), filter_methods, x) for x in text]\n",
    "    return [x for x in new_row if x!='']\n",
    "\n",
    "\n",
    "# Replace each sentence with its pre-processed version\n",
    "df_train['text'] = df_train['text'].apply(lambda txt: text_prepare(txt))\n",
    "df_train['POS'] = df_train['POS'].apply(lambda txt: text_prepare(txt))\n",
    "df_val['text'] = df_val['text'].apply(lambda txt: text_prepare(txt))\n",
    "df_val['POS'] = df_val['POS'].apply(lambda txt: text_prepare(txt))\n",
    "df_test['text'] = df_test['text'].apply(lambda txt: text_prepare(txt))\n",
    "df_test['POS'] = df_test['POS'].apply(lambda txt: text_prepare(txt))"
   ]
  },
  {
   "cell_type": "markdown",
   "metadata": {},
   "source": [
    "### Embed the words using GloVe embedding"
   ]
  },
  {
   "cell_type": "markdown",
   "metadata": {},
   "source": [
    "#### Load glove model"
   ]
  },
  {
   "cell_type": "code",
   "execution_count": null,
   "metadata": {},
   "outputs": [],
   "source": [
    "import gensim\n",
    "import gensim.downloader as gloader\n",
    "\n",
    "def load_embedding_model(embedding_dimension: int = 50) -> gensim.models.keyedvectors.KeyedVectors:\n",
    "    download_path = \"glove-wiki-gigaword-{}\".format(embedding_dimension)\n",
    "    # Check download\n",
    "    try:\n",
    "        emb_model = gloader.load(download_path)\n",
    "    except ValueError as e:\n",
    "        print(\"Invalid embedding model name! Check the embedding dimension:\")\n",
    "        print(\"Word2Vec: 300\")\n",
    "        print(\"Glove: 50, 100, 200, 300\")\n",
    "        raise e\n",
    "\n",
    "    return emb_model"
   ]
  },
  {
   "cell_type": "code",
   "execution_count": null,
   "metadata": {},
   "outputs": [],
   "source": [
    "embedding_model = load_embedding_model(embedding_dimension)"
   ]
  },
  {
   "cell_type": "markdown",
   "metadata": {},
   "source": [
    "#### Tokenize data\n",
    "We tokenize the data by using the keras tokenizer"
   ]
  },
  {
   "cell_type": "code",
   "execution_count": null,
   "metadata": {},
   "outputs": [],
   "source": [
    "def make_tokenizer(*vocabulary):\n",
    "    # We do not want to remove the $ since this is part of some tags in POS tagging,\n",
    "    # so we define the filter to not include $\n",
    "    tokenizer = Tokenizer(filters='!\"#%&()*+,-./:;<=>?@[\\\\]^_`{|}~\\t\\n')\n",
    "\n",
    "    for v in vocabulary:\n",
    "        v2 = sum(v.to_numpy().flatten(), [])\n",
    "        tokenizer.fit_on_texts(v2)\n",
    "    return tokenizer \n"
   ]
  },
  {
   "cell_type": "code",
   "execution_count": null,
   "metadata": {},
   "outputs": [],
   "source": [
    "# Create tokenizer for all the words in the vocabulary\n",
    "# Since in this case, where we already have all the documents, \n",
    "# and we can make a word index for every word in the vocabulary.\n",
    "word_tokenizer = make_tokenizer(df_train[\"text\"], df_val[\"text\"], df_test[\"text\"])\n",
    "\n",
    "# Create tokenizer for all the tags\n",
    "tag_tokenizer = make_tokenizer(df_train[\"POS\"])"
   ]
  },
  {
   "cell_type": "code",
   "execution_count": null,
   "metadata": {},
   "outputs": [],
   "source": [
    "# Get size of word vocabulary and tag vocabulary\n",
    "VOCABULARY_SIZE = len(word_tokenizer.word_index) + 1\n",
    "TAG_VOCABULARY_SIZE = len(tag_tokenizer.word_index) + 1"
   ]
  },
  {
   "cell_type": "markdown",
   "metadata": {},
   "source": [
    "#### Encode text (x) and tags (y)\n",
    "We use the tokenizer to encode the text to the words their corresponding indices"
   ]
  },
  {
   "cell_type": "code",
   "execution_count": null,
   "metadata": {},
   "outputs": [],
   "source": [
    "# Encode train data\n",
    "x_encoded_train = word_tokenizer.texts_to_sequences(df_train[\"text\"])\n",
    "y_encoded_train = tag_tokenizer.texts_to_sequences(df_train[\"POS\"])\n",
    "\n",
    "# Encode validation data\n",
    "x_encoded_val = word_tokenizer.texts_to_sequences(df_val[\"text\"])\n",
    "y_encoded_val = tag_tokenizer.texts_to_sequences(df_val[\"POS\"])\n",
    "\n",
    "# Encode test data\n",
    "x_encoded_test = word_tokenizer.texts_to_sequences(df_test[\"text\"])\n",
    "y_encoded_test = tag_tokenizer.texts_to_sequences(df_test[\"POS\"])"
   ]
  },
  {
   "cell_type": "markdown",
   "metadata": {},
   "source": [
    "#### Pad encoded sequences\n",
    "The sequences needs to have the same length when they are sendt into the model. We therefore post-pad the sequences with zeros. "
   ]
  },
  {
   "cell_type": "code",
   "execution_count": null,
   "metadata": {},
   "outputs": [],
   "source": [
    "def find_max_length(seqs):\n",
    "    \"\"\"\n",
    "    Funciton for finding the maximum length of a sequence.\n",
    "    This is used for padding the sequences\n",
    "    \"\"\"\n",
    "    max_len = 0\n",
    "    for seq in seqs:\n",
    "        if len(seq) > max_len:\n",
    "            max_len = len(seq)\n",
    "    return max_len\n",
    "\n",
    "# Get max sequence length\n",
    "MAX_LENGTH = find_max_length(x_encoded_train)"
   ]
  },
  {
   "cell_type": "code",
   "execution_count": null,
   "metadata": {},
   "outputs": [],
   "source": [
    "def pad_idx_seqs(idx_seqs, max_seq_len):\n",
    "    # Keras provides a convenient padding function; \n",
    "    padded_idxs = pad_sequences(sequences=idx_seqs, maxlen=max_seq_len, padding=\"post\")\n",
    "    return padded_idxs"
   ]
  },
  {
   "cell_type": "code",
   "execution_count": null,
   "metadata": {},
   "outputs": [],
   "source": [
    "# Pad train data\n",
    "x_padded_train = pad_idx_seqs(x_encoded_train, MAX_LENGTH)\n",
    "y_padded_train = pad_idx_seqs(y_encoded_train, MAX_LENGTH)\n",
    "\n",
    "# Pad validation data\n",
    "x_padded_val = pad_idx_seqs(x_encoded_val, MAX_LENGTH)\n",
    "y_padded_val = pad_idx_seqs(y_encoded_val, MAX_LENGTH)\n",
    "\n",
    "# Pad test data\n",
    "x_padded_test = pad_idx_seqs(x_encoded_test, MAX_LENGTH)\n",
    "y_padded_test = pad_idx_seqs(y_encoded_test, MAX_LENGTH)"
   ]
  },
  {
   "cell_type": "markdown",
   "metadata": {},
   "source": [
    "#### Create embedding matrix\n",
    "We use the pretrained glove model to create the embedding matrix.\n",
    "If there are any OOV we create a random embedding vector. "
   ]
  },
  {
   "cell_type": "code",
   "execution_count": null,
   "metadata": {},
   "outputs": [],
   "source": [
    "def create_embedding_matrix(embedding_model, embedding_dimension, VOCABULARY_SIZE, word_to_idx):\n",
    "    embedding_matrix = np.zeros((VOCABULARY_SIZE, embedding_dimension), dtype=np.float32)\n",
    "    for word, idx in word_to_idx.items():\n",
    "        try:\n",
    "            embedding_vector = embedding_model[word]\n",
    "        except (KeyError, TypeError):\n",
    "            embedding_vector = np.random.uniform(low=-0.05, high=0.05, size=embedding_dimension)\n",
    "\n",
    "        embedding_matrix[idx] = embedding_vector\n",
    "                                \n",
    "    return embedding_matrix                             "
   ]
  },
  {
   "cell_type": "code",
   "execution_count": null,
   "metadata": {},
   "outputs": [],
   "source": [
    "embedding_matrix = create_embedding_matrix(embedding_model, embedding_dimension, VOCABULARY_SIZE, word_tokenizer.word_index)"
   ]
  },
  {
   "cell_type": "markdown",
   "metadata": {},
   "source": [
    "#### Define x and y parameters\n",
    "Y parameters must be converted from array of labeled data(from 0 to nb_classes - 1 ) to one-hot vector. \n",
    "This is done with the Keras to_categorical function"
   ]
  },
  {
   "cell_type": "code",
   "execution_count": null,
   "metadata": {},
   "outputs": [],
   "source": [
    "# Train data\n",
    "x_train = x_padded_train\n",
    "y_train = to_categorical(y_padded_train)\n",
    "\n",
    "# Validation data\n",
    "x_val = x_padded_val\n",
    "y_val = to_categorical(y_padded_val, num_classes=TAG_VOCABULARY_SIZE)\n",
    "\n",
    "# Test data\n",
    "x_test = x_padded_test\n",
    "# y_test is only used for predictions, and should therefore not be one hot encoded.\n",
    "y_test = y_padded_test  "
   ]
  },
  {
   "cell_type": "markdown",
   "metadata": {},
   "source": [
    "### Define functions for testing and evaluate the models"
   ]
  },
  {
   "cell_type": "markdown",
   "metadata": {},
   "source": [
    "#### Define plotting functions"
   ]
  },
  {
   "cell_type": "code",
   "execution_count": null,
   "metadata": {},
   "outputs": [],
   "source": [
    "def plot_accuracy(model_callback, model_name='baseline_model'):\n",
    "    plt.plot(model_callback.history['acc'])\n",
    "    plt.plot(model_callback.history['val_acc'])\n",
    "    plt.title(f'{model_name} accuracy')\n",
    "    plt.ylabel('accuracy')\n",
    "    plt.xlabel('epoch')\n",
    "    plt.legend(['train', 'val'], loc=\"lower right\")\n",
    "    plt.show()\n",
    "    \n",
    "def plot_loss(model_callback, model_name='baseline_model'):\n",
    "    plt.plot(model_callback.history['loss'])\n",
    "    plt.plot(model_callback.history['val_loss'])\n",
    "    plt.title(f'{model_name} loss')\n",
    "    plt.ylabel('loss')\n",
    "    plt.xlabel('epoch')\n",
    "    plt.legend(['train', 'val'], loc=\"lower right\")\n",
    "    plt.show()"
   ]
  },
  {
   "cell_type": "markdown",
   "metadata": {},
   "source": [
    "#### Functions for prediction"
   ]
  },
  {
   "cell_type": "code",
   "execution_count": null,
   "metadata": {},
   "outputs": [],
   "source": [
    "def predict(model: keras.Model, x, predicting_info):\n",
    "    predictions = model.predict(x, **predicting_info)\n",
    "    return predictions"
   ]
  },
  {
   "cell_type": "markdown",
   "metadata": {},
   "source": [
    "#### Funcions for evaluation "
   ]
  },
  {
   "cell_type": "code",
   "execution_count": null,
   "metadata": {},
   "outputs": [],
   "source": [
    "def remove_padding(y_test, y_pred_int):\n",
    "    # Remove the padding classifications\n",
    "    all_true_tags = [tag for sent_tags in y_test for tag in sent_tags]\n",
    "    all_pred_tags = [tag for sent_tags in y_pred_int for tag in sent_tags]\n",
    "    \n",
    "    new_true_tags = []\n",
    "    new_pred_tags = []\n",
    "    for i, x in enumerate(all_true_tags):\n",
    "        if x!= 0:\n",
    "            new_true_tags.append(x)\n",
    "            new_pred_tags.append(all_pred_tags[i])\n",
    "\n",
    "    return new_true_tags, new_pred_tags"
   ]
  },
  {
   "cell_type": "code",
   "execution_count": null,
   "metadata": {},
   "outputs": [],
   "source": [
    "def plot_confusion_matrix(confusion_m, tagIdxList):\n",
    "    # Plot the confusion matrix as a heat map\n",
    "    df_cm = pd.DataFrame(confusion_m, index = tagIdxList,\n",
    "                    columns = tagIdxList)\n",
    "    plt.figure(figsize = (10,7))\n",
    "    sn.heatmap(df_cm, annot=False)"
   ]
  },
  {
   "cell_type": "code",
   "execution_count": null,
   "metadata": {},
   "outputs": [],
   "source": [
    "def evaluate(y_test, predictions, idx2tag):\n",
    "    \"\"\"\n",
    "        Evaluates the model by computing accuracy, precission, recall and f1 score.\n",
    "        Prints classification report\n",
    "        Calculates and plots confusion_matrix\n",
    "        Inputs:\n",
    "            y_test: ground truth for test set\n",
    "            predicitons: perdicitons calculated by the model\n",
    "            idx2tag: Dicitonary of all tags and corresponding indexes. \n",
    "    \"\"\"\n",
    "    y_pred_int = np.argmax(predictions, axis=2)\n",
    "    new_true_tags, new_pred_tags = remove_padding(y_test, y_pred_int)\n",
    "\n",
    "    accuracy = accuracy_score(y_true=new_true_tags, y_pred=new_pred_tags)\n",
    "    precision = precision_score(y_true=new_true_tags, y_pred=new_pred_tags, average='weighted', zero_division=0)\n",
    "    recall = recall_score(y_true=new_true_tags, y_pred=new_pred_tags, average='weighted', zero_division=0)\n",
    "    f1 = f1_score(y_true=new_true_tags, y_pred=new_pred_tags, average='weighted', zero_division=0)\n",
    "\n",
    "    print(\"ACCURACY: {:.3f}\".format(accuracy))\n",
    "    print(\"PRECISION: {:.3f}\".format(precision))\n",
    "    print(\"RECALL: {:.3f}\".format(recall))\n",
    "    print(\"F1: {:.3f}\".format(f1))\n",
    "    \n",
    "    tags = list(idx2tag.values())\n",
    "    tagIdxList = list(idx2tag.keys())\n",
    "    report = classification_report(new_true_tags, new_pred_tags, labels=tagIdxList, zero_division=0)\n",
    "    print(report)\n",
    "\n",
    "    confusion_m = confusion_matrix(new_true_tags, new_pred_tags, labels=tagIdxList)\n",
    "    print(confusion_m)\n",
    "\n",
    "    plot_confusion_matrix(confusion_m, tags)"
   ]
  },
  {
   "cell_type": "markdown",
   "metadata": {},
   "source": [
    "#### Funciton for saving the models"
   ]
  },
  {
   "cell_type": "code",
   "execution_count": null,
   "metadata": {},
   "outputs": [],
   "source": [
    "def save_model(model, model_type, dir='models'):\n",
    "    '''\n",
    "        Saves model naming it according to sentence embedding merge type and time stamp.\n",
    "    '''\n",
    "    print('Saving model..')\n",
    "    now = datetime.now()\n",
    "    dt_string = now.strftime(\"%d_%m_%Y_%H:%M:%S\")\n",
    "    model_name = f'model_{model_type}_{dt_string}'\n",
    "    path = f'{dir}/{model_name}'\n",
    "    model.save(path)\n",
    "    print('Successfully saved')"
   ]
  },
  {
   "cell_type": "markdown",
   "metadata": {},
   "source": [
    "## Creating, running and testing the models"
   ]
  },
  {
   "cell_type": "code",
   "execution_count": null,
   "metadata": {},
   "outputs": [],
   "source": [
    "BATCH_SIZE = 32\n",
    "EPOCHS = 50\n",
    "ACTIVATION = 'softmax'"
   ]
  },
  {
   "cell_type": "markdown",
   "metadata": {},
   "source": [
    "### Baseline model\n",
    "\n",
    "two layers architecture: a Bidirectional LSTM layer and a Dense/Fully-Connected layer on top"
   ]
  },
  {
   "cell_type": "markdown",
   "metadata": {},
   "source": [
    "#### Create baseline model"
   ]
  },
  {
   "cell_type": "code",
   "execution_count": null,
   "metadata": {},
   "outputs": [],
   "source": [
    "def create_baseline_model(units_LSTM, activation):\n",
    "    bidirect_model = keras.Sequential()\n",
    "    bidirect_model.add(layers.Embedding(input_dim = VOCABULARY_SIZE,\n",
    "                                 output_dim    = embedding_dimension,\n",
    "                                 input_length  = find_max_length(x_train),\n",
    "                                 weights       = [embedding_matrix],\n",
    "                                 trainable = False,\n",
    "                                 mask_zero = True\n",
    "                                ))\n",
    "    bidirect_model.add(layers.Bidirectional(layers.LSTM(units_LSTM, return_sequences=True)))\n",
    "    bidirect_model.add(layers.Dense(TAG_VOCABULARY_SIZE, activation=activation))\n",
    "    \n",
    "    return bidirect_model"
   ]
  },
  {
   "cell_type": "code",
   "execution_count": null,
   "metadata": {},
   "outputs": [
    {
     "name": "stderr",
     "output_type": "stream",
     "text": [
      "2021-12-06 11:18:34.429188: I tensorflow/core/platform/cpu_feature_guard.cc:151] This TensorFlow binary is optimized with oneAPI Deep Neural Network Library (oneDNN) to use the following CPU instructions in performance-critical operations:  AVX2 FMA\n",
      "To enable them in other operations, rebuild TensorFlow with the appropriate compiler flags.\n"
     ]
    },
    {
     "name": "stdout",
     "output_type": "stream",
     "text": [
      "Model: \"sequential\"\n",
      "_________________________________________________________________\n",
      " Layer (type)                Output Shape              Param #   \n",
      "=================================================================\n",
      " embedding (Embedding)       (None, 186, 50)           526000    \n",
      "                                                                 \n",
      " bidirectional (Bidirectiona  (None, 186, 128)         58880     \n",
      " l)                                                              \n",
      "                                                                 \n",
      " dense (Dense)               (None, 186, 40)           5160      \n",
      "                                                                 \n",
      "=================================================================\n",
      "Total params: 590,040\n",
      "Trainable params: 64,040\n",
      "Non-trainable params: 526,000\n",
      "_________________________________________________________________\n"
     ]
    }
   ],
   "source": [
    "baseline_model = create_baseline_model(64, ACTIVATION)\n",
    "baseline_model.summary()"
   ]
  },
  {
   "cell_type": "markdown",
   "metadata": {},
   "source": [
    "#### Train baseline model"
   ]
  },
  {
   "cell_type": "code",
   "execution_count": null,
   "metadata": {},
   "outputs": [
    {
     "name": "stdout",
     "output_type": "stream",
     "text": [
      "Epoch 1/50\n",
      "59/59 [==============================] - 19s 184ms/step - loss: 0.0027 - mae: 0.0470 - acc: 0.1688 - val_loss: 0.0025 - val_mae: 0.0448 - val_acc: 0.3155\n",
      "Epoch 2/50\n",
      "59/59 [==============================] - 7s 127ms/step - loss: 0.0023 - mae: 0.0421 - acc: 0.3669 - val_loss: 0.0021 - val_mae: 0.0391 - val_acc: 0.4180\n",
      "Epoch 3/50\n",
      "59/59 [==============================] - 9s 159ms/step - loss: 0.0020 - mae: 0.0363 - acc: 0.4665 - val_loss: 0.0019 - val_mae: 0.0344 - val_acc: 0.4981\n",
      "Epoch 4/50\n",
      "59/59 [==============================] - 10s 171ms/step - loss: 0.0017 - mae: 0.0322 - acc: 0.5525 - val_loss: 0.0017 - val_mae: 0.0307 - val_acc: 0.5696\n",
      "Epoch 5/50\n",
      "59/59 [==============================] - 9s 155ms/step - loss: 0.0015 - mae: 0.0286 - acc: 0.6166 - val_loss: 0.0015 - val_mae: 0.0278 - val_acc: 0.6187\n",
      "Epoch 6/50\n",
      "59/59 [==============================] - 9s 145ms/step - loss: 0.0014 - mae: 0.0260 - acc: 0.6555 - val_loss: 0.0014 - val_mae: 0.0260 - val_acc: 0.6433\n",
      "Epoch 7/50\n",
      "59/59 [==============================] - 8s 135ms/step - loss: 0.0013 - mae: 0.0245 - acc: 0.6779 - val_loss: 0.0014 - val_mae: 0.0248 - val_acc: 0.6557\n",
      "Epoch 8/50\n",
      "59/59 [==============================] - 7s 123ms/step - loss: 0.0013 - mae: 0.0234 - acc: 0.6907 - val_loss: 0.0013 - val_mae: 0.0240 - val_acc: 0.6667\n",
      "Epoch 9/50\n",
      "59/59 [==============================] - 8s 136ms/step - loss: 0.0012 - mae: 0.0226 - acc: 0.7013 - val_loss: 0.0013 - val_mae: 0.0235 - val_acc: 0.6745\n",
      "Epoch 10/50\n",
      "59/59 [==============================] - 8s 134ms/step - loss: 0.0012 - mae: 0.0219 - acc: 0.7120 - val_loss: 0.0013 - val_mae: 0.0230 - val_acc: 0.6824\n",
      "Epoch 11/50\n",
      "59/59 [==============================] - 7s 124ms/step - loss: 0.0012 - mae: 0.0213 - acc: 0.7200 - val_loss: 0.0013 - val_mae: 0.0226 - val_acc: 0.6862\n",
      "Epoch 12/50\n",
      "59/59 [==============================] - 8s 128ms/step - loss: 0.0011 - mae: 0.0209 - acc: 0.7299 - val_loss: 0.0012 - val_mae: 0.0221 - val_acc: 0.7004\n",
      "Epoch 13/50\n",
      "59/59 [==============================] - 7s 124ms/step - loss: 0.0011 - mae: 0.0202 - acc: 0.7420 - val_loss: 0.0012 - val_mae: 0.0217 - val_acc: 0.7070\n",
      "Epoch 14/50\n",
      "59/59 [==============================] - 8s 129ms/step - loss: 0.0011 - mae: 0.0196 - acc: 0.7481 - val_loss: 0.0012 - val_mae: 0.0213 - val_acc: 0.7076\n",
      "Epoch 15/50\n",
      "59/59 [==============================] - 8s 130ms/step - loss: 0.0010 - mae: 0.0193 - acc: 0.7599 - val_loss: 0.0012 - val_mae: 0.0206 - val_acc: 0.7239\n",
      "Epoch 16/50\n",
      "59/59 [==============================] - 8s 136ms/step - loss: 0.0010 - mae: 0.0187 - acc: 0.7684 - val_loss: 0.0011 - val_mae: 0.0201 - val_acc: 0.7264\n",
      "Epoch 17/50\n",
      "59/59 [==============================] - 7s 125ms/step - loss: 9.7095e-04 - mae: 0.0181 - acc: 0.7786 - val_loss: 0.0011 - val_mae: 0.0198 - val_acc: 0.7383\n",
      "Epoch 18/50\n",
      "59/59 [==============================] - 7s 127ms/step - loss: 9.4147e-04 - mae: 0.0176 - acc: 0.7874 - val_loss: 0.0011 - val_mae: 0.0194 - val_acc: 0.7409\n",
      "Epoch 19/50\n",
      "59/59 [==============================] - 8s 130ms/step - loss: 9.2192e-04 - mae: 0.0172 - acc: 0.7922 - val_loss: 0.0011 - val_mae: 0.0191 - val_acc: 0.7447\n",
      "Epoch 20/50\n",
      "59/59 [==============================] - 7s 126ms/step - loss: 9.0250e-04 - mae: 0.0169 - acc: 0.7973 - val_loss: 0.0011 - val_mae: 0.0188 - val_acc: 0.7494\n",
      "Epoch 21/50\n",
      "59/59 [==============================] - 8s 131ms/step - loss: 8.8418e-04 - mae: 0.0165 - acc: 0.8025 - val_loss: 0.0011 - val_mae: 0.0186 - val_acc: 0.7512\n",
      "Epoch 22/50\n",
      "59/59 [==============================] - 8s 139ms/step - loss: 8.6912e-04 - mae: 0.0162 - acc: 0.8053 - val_loss: 0.0011 - val_mae: 0.0184 - val_acc: 0.7530\n",
      "Epoch 23/50\n",
      "59/59 [==============================] - 7s 127ms/step - loss: 8.5411e-04 - mae: 0.0159 - acc: 0.8108 - val_loss: 0.0010 - val_mae: 0.0181 - val_acc: 0.7562\n",
      "Epoch 24/50\n",
      "59/59 [==============================] - 9s 148ms/step - loss: 8.3730e-04 - mae: 0.0156 - acc: 0.8142 - val_loss: 0.0010 - val_mae: 0.0178 - val_acc: 0.7582\n",
      "Epoch 25/50\n",
      "59/59 [==============================] - 7s 127ms/step - loss: 8.2300e-04 - mae: 0.0153 - acc: 0.8184 - val_loss: 0.0010 - val_mae: 0.0178 - val_acc: 0.7596\n",
      "Epoch 26/50\n",
      "59/59 [==============================] - 8s 133ms/step - loss: 8.1028e-04 - mae: 0.0151 - acc: 0.8207 - val_loss: 0.0010 - val_mae: 0.0177 - val_acc: 0.7626\n",
      "Epoch 27/50\n",
      "59/59 [==============================] - 7s 127ms/step - loss: 7.9442e-04 - mae: 0.0150 - acc: 0.8251 - val_loss: 0.0010 - val_mae: 0.0176 - val_acc: 0.7673\n",
      "Epoch 28/50\n",
      "59/59 [==============================] - 7s 127ms/step - loss: 7.6655e-04 - mae: 0.0146 - acc: 0.8330 - val_loss: 9.8812e-04 - val_mae: 0.0174 - val_acc: 0.7719\n",
      "Epoch 29/50\n",
      "59/59 [==============================] - 8s 128ms/step - loss: 7.4748e-04 - mae: 0.0143 - acc: 0.8390 - val_loss: 9.7513e-04 - val_mae: 0.0168 - val_acc: 0.7741\n",
      "Epoch 30/50\n",
      "59/59 [==============================] - 7s 125ms/step - loss: 7.3142e-04 - mae: 0.0139 - acc: 0.8421 - val_loss: 9.7022e-04 - val_mae: 0.0168 - val_acc: 0.7769\n",
      "Epoch 31/50\n",
      "59/59 [==============================] - 7s 127ms/step - loss: 7.1617e-04 - mae: 0.0137 - acc: 0.8458 - val_loss: 9.6625e-04 - val_mae: 0.0165 - val_acc: 0.7778\n",
      "Epoch 32/50\n",
      "59/59 [==============================] - 9s 148ms/step - loss: 7.0395e-04 - mae: 0.0133 - acc: 0.8495 - val_loss: 9.5512e-04 - val_mae: 0.0164 - val_acc: 0.7819\n",
      "Epoch 33/50\n",
      "59/59 [==============================] - 7s 123ms/step - loss: 6.9174e-04 - mae: 0.0131 - acc: 0.8525 - val_loss: 9.4924e-04 - val_mae: 0.0162 - val_acc: 0.7825\n",
      "Epoch 34/50\n",
      "59/59 [==============================] - 8s 140ms/step - loss: 6.8144e-04 - mae: 0.0130 - acc: 0.8547 - val_loss: 9.4306e-04 - val_mae: 0.0159 - val_acc: 0.7834\n",
      "Epoch 35/50\n",
      "59/59 [==============================] - 7s 127ms/step - loss: 6.7316e-04 - mae: 0.0127 - acc: 0.8565 - val_loss: 9.4448e-04 - val_mae: 0.0159 - val_acc: 0.7822\n",
      "Epoch 36/50\n",
      "59/59 [==============================] - 7s 122ms/step - loss: 6.6127e-04 - mae: 0.0125 - acc: 0.8592 - val_loss: 9.3985e-04 - val_mae: 0.0159 - val_acc: 0.7841\n",
      "Epoch 37/50\n",
      "59/59 [==============================] - 7s 124ms/step - loss: 6.5165e-04 - mae: 0.0123 - acc: 0.8616 - val_loss: 9.3756e-04 - val_mae: 0.0157 - val_acc: 0.7852\n",
      "Epoch 38/50\n",
      "59/59 [==============================] - 7s 125ms/step - loss: 6.4302e-04 - mae: 0.0122 - acc: 0.8634 - val_loss: 9.3802e-04 - val_mae: 0.0157 - val_acc: 0.7844\n",
      "Epoch 39/50\n",
      "59/59 [==============================] - 7s 125ms/step - loss: 6.3410e-04 - mae: 0.0120 - acc: 0.8659 - val_loss: 9.3785e-04 - val_mae: 0.0157 - val_acc: 0.7840\n",
      "Epoch 40/50\n",
      "59/59 [==============================] - 8s 131ms/step - loss: 6.2548e-04 - mae: 0.0118 - acc: 0.8676 - val_loss: 9.3472e-04 - val_mae: 0.0155 - val_acc: 0.7849\n",
      "Epoch 41/50\n",
      "59/59 [==============================] - 8s 136ms/step - loss: 6.1832e-04 - mae: 0.0117 - acc: 0.8695 - val_loss: 9.3355e-04 - val_mae: 0.0152 - val_acc: 0.7853\n",
      "Epoch 42/50\n",
      "59/59 [==============================] - 8s 129ms/step - loss: 6.0898e-04 - mae: 0.0115 - acc: 0.8712 - val_loss: 9.3466e-04 - val_mae: 0.0154 - val_acc: 0.7850\n",
      "Epoch 43/50\n",
      "59/59 [==============================] - 8s 129ms/step - loss: 6.0087e-04 - mae: 0.0114 - acc: 0.8734 - val_loss: 9.3026e-04 - val_mae: 0.0151 - val_acc: 0.7862\n",
      "Epoch 44/50\n",
      "59/59 [==============================] - 8s 132ms/step - loss: 5.9411e-04 - mae: 0.0112 - acc: 0.8744 - val_loss: 9.2960e-04 - val_mae: 0.0151 - val_acc: 0.7863\n",
      "Epoch 45/50\n",
      "59/59 [==============================] - 9s 153ms/step - loss: 5.8529e-04 - mae: 0.0111 - acc: 0.8770 - val_loss: 9.3032e-04 - val_mae: 0.0151 - val_acc: 0.7867\n",
      "Epoch 46/50\n",
      "59/59 [==============================] - 8s 128ms/step - loss: 5.7825e-04 - mae: 0.0109 - acc: 0.8782 - val_loss: 9.2771e-04 - val_mae: 0.0149 - val_acc: 0.7874\n",
      "Epoch 47/50\n",
      "59/59 [==============================] - 7s 125ms/step - loss: 5.7044e-04 - mae: 0.0108 - acc: 0.8802 - val_loss: 9.3084e-04 - val_mae: 0.0150 - val_acc: 0.7854\n",
      "Epoch 48/50\n",
      "59/59 [==============================] - 7s 126ms/step - loss: 5.6451e-04 - mae: 0.0107 - acc: 0.8812 - val_loss: 9.3123e-04 - val_mae: 0.0148 - val_acc: 0.7859\n",
      "Epoch 49/50\n",
      "59/59 [==============================] - 8s 131ms/step - loss: 5.5674e-04 - mae: 0.0105 - acc: 0.8830 - val_loss: 9.3042e-04 - val_mae: 0.0149 - val_acc: 0.7853\n",
      "Epoch 50/50\n",
      "59/59 [==============================] - 7s 127ms/step - loss: 5.4953e-04 - mae: 0.0104 - acc: 0.8847 - val_loss: 9.2865e-04 - val_mae: 0.0147 - val_acc: 0.7864\n",
      "Saving model..\n"
     ]
    },
    {
     "name": "stderr",
     "output_type": "stream",
     "text": [
      "2021-12-06 11:25:22.910781: W tensorflow/python/util/util.cc:368] Sets are not currently considered sequences, but this may change in the future, so consider avoiding using them.\n",
      "WARNING:absl:Found untraced functions such as lstm_cell_1_layer_call_fn, lstm_cell_1_layer_call_and_return_conditional_losses, lstm_cell_2_layer_call_fn, lstm_cell_2_layer_call_and_return_conditional_losses, lstm_cell_1_layer_call_fn while saving (showing 5 of 10). These functions will not be directly callable after loading.\n"
     ]
    },
    {
     "name": "stdout",
     "output_type": "stream",
     "text": [
      "INFO:tensorflow:Assets written to: models/model_baseline_model_06_12_2021_11:25:17/assets\n"
     ]
    },
    {
     "name": "stderr",
     "output_type": "stream",
     "text": [
      "INFO:tensorflow:Assets written to: models/model_baseline_model_06_12_2021_11:25:17/assets\n",
      "WARNING:absl:<keras.layers.recurrent.LSTMCell object at 0x16a4a8970> has the same name 'LSTMCell' as a built-in Keras object. Consider renaming <class 'keras.layers.recurrent.LSTMCell'> to avoid naming conflicts when loading with `tf.keras.models.load_model`. If renaming is not possible, pass the object in the `custom_objects` parameter of the load function.\n",
      "WARNING:absl:<keras.layers.recurrent.LSTMCell object at 0x16a55c700> has the same name 'LSTMCell' as a built-in Keras object. Consider renaming <class 'keras.layers.recurrent.LSTMCell'> to avoid naming conflicts when loading with `tf.keras.models.load_model`. If renaming is not possible, pass the object in the `custom_objects` parameter of the load function.\n"
     ]
    },
    {
     "name": "stdout",
     "output_type": "stream",
     "text": [
      "Successfully saved\n"
     ]
    }
   ],
   "source": [
    "baseline_model.compile(loss=\"mse\",\n",
    "              optimizer=\"Adam\",\n",
    "              metrics=['mae', \"acc\"])\n",
    "baseline_training = baseline_model.fit(x=x_train, y=y_train, validation_data=(x_val, y_val), batch_size=BATCH_SIZE,  epochs=EPOCHS)\n",
    "\n",
    "# Save the model when training is finished\n",
    "save_model(baseline_model, 'baseline_model')"
   ]
  },
  {
   "cell_type": "markdown",
   "metadata": {},
   "source": [
    "#### Plot results"
   ]
  },
  {
   "cell_type": "code",
   "execution_count": null,
   "metadata": {},
   "outputs": [
    {
     "data": {
      "image/png": "[encoded data removed]",
      "text/plain": [
       "<Figure size 432x288 with 1 Axes>"
      ]
     },
     "metadata": {
      "needs_background": "light"
     },
     "output_type": "display_data"
    },
    {
     "data": {
      "image/png": "[encoded data removed]",
      "text/plain": [
       "<Figure size 432x288 with 1 Axes>"
      ]
     },
     "metadata": {
      "needs_background": "light"
     },
     "output_type": "display_data"
    }
   ],
   "source": [
    "plot_accuracy(baseline_training, 'baseline model')\n",
    "plot_loss(baseline_training, 'baseline model')"
   ]
  },
  {
   "cell_type": "markdown",
   "metadata": {},
   "source": [
    "## Other models\n",
    "Experiment doing small modifications to the baseline model"
   ]
  },
  {
   "cell_type": "markdown",
   "metadata": {},
   "source": [
    "### Gru model\n",
    "Uses a GRU instead of the LSTM layer"
   ]
  },
  {
   "cell_type": "markdown",
   "metadata": {},
   "source": [
    "#### Create GRU model"
   ]
  },
  {
   "cell_type": "code",
   "execution_count": null,
   "metadata": {},
   "outputs": [],
   "source": [
    "def create_gru_model(units_gru, activation):\n",
    "    gru_model = keras.Sequential()\n",
    "    gru_model.add(layers.Embedding(input_dim = VOCABULARY_SIZE,\n",
    "                                 output_dim    = embedding_dimension,\n",
    "                                 input_length  = find_max_length(x_train),\n",
    "                                 weights       = [embedding_matrix],\n",
    "                                 trainable = False,\n",
    "                                 mask_zero = True\n",
    "                                ))\n",
    "    gru_model.add(layers.Bidirectional(layers.GRU(units_gru, return_sequences=True)))\n",
    "    #bidirect_model.add(layers.TimeDistributed(layers.Dense(len(tag_to_idx), activation='softmax')))\n",
    "    gru_model.add(layers.Dense(TAG_VOCABULARY_SIZE, activation=activation))\n",
    "    \n",
    "    return gru_model"
   ]
  },
  {
   "cell_type": "code",
   "execution_count": null,
   "metadata": {},
   "outputs": [
    {
     "name": "stdout",
     "output_type": "stream",
     "text": [
      "Model: \"sequential_1\"\n",
      "_________________________________________________________________\n",
      " Layer (type)                Output Shape              Param #   \n",
      "=================================================================\n",
      " embedding_1 (Embedding)     (None, 186, 50)           526000    \n",
      "                                                                 \n",
      " bidirectional_1 (Bidirectio  (None, 186, 128)         44544     \n",
      " nal)                                                            \n",
      "                                                                 \n",
      " dense_1 (Dense)             (None, 186, 40)           5160      \n",
      "                                                                 \n",
      "=================================================================\n",
      "Total params: 575,704\n",
      "Trainable params: 49,704\n",
      "Non-trainable params: 526,000\n",
      "_________________________________________________________________\n"
     ]
    }
   ],
   "source": [
    "gru_model = create_gru_model(64, ACTIVATION)\n",
    "gru_model.summary()"
   ]
  },
  {
   "cell_type": "markdown",
   "metadata": {},
   "source": [
    "#### Train gru model"
   ]
  },
  {
   "cell_type": "code",
   "execution_count": null,
   "metadata": {},
   "outputs": [
    {
     "name": "stdout",
     "output_type": "stream",
     "text": [
      "Epoch 1/50\n",
      "59/59 [==============================] - 16s 150ms/step - loss: 0.0026 - mae: 0.0459 - acc: 0.2335 - val_loss: 0.0023 - val_mae: 0.0418 - val_acc: 0.3816\n",
      "Epoch 2/50\n",
      "59/59 [==============================] - 8s 130ms/step - loss: 0.0021 - mae: 0.0381 - acc: 0.4337 - val_loss: 0.0019 - val_mae: 0.0350 - val_acc: 0.4862\n",
      "Epoch 3/50\n",
      "59/59 [==============================] - 9s 145ms/step - loss: 0.0018 - mae: 0.0323 - acc: 0.5493 - val_loss: 0.0017 - val_mae: 0.0302 - val_acc: 0.5760\n",
      "Epoch 4/50\n",
      "59/59 [==============================] - 10s 176ms/step - loss: 0.0015 - mae: 0.0281 - acc: 0.6151 - val_loss: 0.0015 - val_mae: 0.0275 - val_acc: 0.6141\n",
      "Epoch 5/50\n",
      "59/59 [==============================] - 10s 163ms/step - loss: 0.0014 - mae: 0.0261 - acc: 0.6471 - val_loss: 0.0014 - val_mae: 0.0260 - val_acc: 0.6475\n",
      "Epoch 6/50\n",
      "59/59 [==============================] - 8s 131ms/step - loss: 0.0013 - mae: 0.0240 - acc: 0.6824 - val_loss: 0.0013 - val_mae: 0.0241 - val_acc: 0.6671\n",
      "Epoch 7/50\n",
      "59/59 [==============================] - 9s 152ms/step - loss: 0.0012 - mae: 0.0225 - acc: 0.7086 - val_loss: 0.0013 - val_mae: 0.0228 - val_acc: 0.6886\n",
      "Epoch 8/50\n",
      "59/59 [==============================] - 8s 134ms/step - loss: 0.0012 - mae: 0.0213 - acc: 0.7232 - val_loss: 0.0012 - val_mae: 0.0221 - val_acc: 0.6981\n",
      "Epoch 9/50\n",
      "59/59 [==============================] - 7s 123ms/step - loss: 0.0011 - mae: 0.0206 - acc: 0.7353 - val_loss: 0.0012 - val_mae: 0.0214 - val_acc: 0.7100\n",
      "Epoch 10/50\n",
      "59/59 [==============================] - 7s 111ms/step - loss: 0.0011 - mae: 0.0198 - acc: 0.7479 - val_loss: 0.0012 - val_mae: 0.0210 - val_acc: 0.7184\n",
      "Epoch 11/50\n",
      "59/59 [==============================] - 6s 108ms/step - loss: 0.0010 - mae: 0.0191 - acc: 0.7613 - val_loss: 0.0011 - val_mae: 0.0202 - val_acc: 0.7351\n",
      "Epoch 12/50\n",
      "59/59 [==============================] - 7s 124ms/step - loss: 9.8260e-04 - mae: 0.0183 - acc: 0.7752 - val_loss: 0.0011 - val_mae: 0.0195 - val_acc: 0.7398\n",
      "Epoch 13/50\n",
      "59/59 [==============================] - 8s 133ms/step - loss: 9.5261e-04 - mae: 0.0177 - acc: 0.7838 - val_loss: 0.0011 - val_mae: 0.0191 - val_acc: 0.7448\n",
      "Epoch 14/50\n",
      "59/59 [==============================] - 9s 155ms/step - loss: 9.2924e-04 - mae: 0.0172 - acc: 0.7884 - val_loss: 0.0011 - val_mae: 0.0187 - val_acc: 0.7476\n",
      "Epoch 15/50\n",
      "59/59 [==============================] - 7s 124ms/step - loss: 9.0545e-04 - mae: 0.0167 - acc: 0.7956 - val_loss: 0.0010 - val_mae: 0.0184 - val_acc: 0.7528\n",
      "Epoch 16/50\n",
      "59/59 [==============================] - 10s 169ms/step - loss: 8.8496e-04 - mae: 0.0163 - acc: 0.8014 - val_loss: 0.0010 - val_mae: 0.0182 - val_acc: 0.7570\n",
      "Epoch 17/50\n",
      "59/59 [==============================] - 11s 195ms/step - loss: 8.6429e-04 - mae: 0.0160 - acc: 0.8061 - val_loss: 0.0010 - val_mae: 0.0178 - val_acc: 0.7603\n",
      "Epoch 18/50\n",
      "59/59 [==============================] - 7s 121ms/step - loss: 8.4558e-04 - mae: 0.0156 - acc: 0.8108 - val_loss: 0.0010 - val_mae: 0.0176 - val_acc: 0.7651\n",
      "Epoch 19/50\n",
      "59/59 [==============================] - 7s 112ms/step - loss: 8.2525e-04 - mae: 0.0153 - acc: 0.8183 - val_loss: 0.0010 - val_mae: 0.0176 - val_acc: 0.7644\n",
      "Epoch 20/50\n",
      "59/59 [==============================] - 6s 109ms/step - loss: 8.0715e-04 - mae: 0.0150 - acc: 0.8221 - val_loss: 9.8720e-04 - val_mae: 0.0170 - val_acc: 0.7711\n",
      "Epoch 21/50\n",
      "59/59 [==============================] - 7s 111ms/step - loss: 7.8785e-04 - mae: 0.0146 - acc: 0.8273 - val_loss: 9.8167e-04 - val_mae: 0.0168 - val_acc: 0.7730\n",
      "Epoch 22/50\n",
      "59/59 [==============================] - 7s 114ms/step - loss: 7.7357e-04 - mae: 0.0143 - acc: 0.8309 - val_loss: 9.7148e-04 - val_mae: 0.0167 - val_acc: 0.7745\n",
      "Epoch 23/50\n",
      "59/59 [==============================] - 6s 106ms/step - loss: 7.5824e-04 - mae: 0.0141 - acc: 0.8353 - val_loss: 9.6852e-04 - val_mae: 0.0164 - val_acc: 0.7756\n",
      "Epoch 24/50\n",
      "59/59 [==============================] - 6s 106ms/step - loss: 7.4521e-04 - mae: 0.0137 - acc: 0.8380 - val_loss: 9.5861e-04 - val_mae: 0.0162 - val_acc: 0.7787\n",
      "Epoch 25/50\n",
      "59/59 [==============================] - 7s 112ms/step - loss: 7.2974e-04 - mae: 0.0135 - acc: 0.8420 - val_loss: 9.5408e-04 - val_mae: 0.0162 - val_acc: 0.7798\n",
      "Epoch 26/50\n",
      "59/59 [==============================] - 7s 122ms/step - loss: 7.1648e-04 - mae: 0.0133 - acc: 0.8462 - val_loss: 9.5065e-04 - val_mae: 0.0161 - val_acc: 0.7803\n",
      "Epoch 27/50\n",
      "59/59 [==============================] - 8s 144ms/step - loss: 7.0468e-04 - mae: 0.0130 - acc: 0.8495 - val_loss: 9.4433e-04 - val_mae: 0.0157 - val_acc: 0.7822\n",
      "Epoch 28/50\n",
      "59/59 [==============================] - 8s 130ms/step - loss: 6.9277e-04 - mae: 0.0128 - acc: 0.8518 - val_loss: 9.4288e-04 - val_mae: 0.0156 - val_acc: 0.7823\n",
      "Epoch 29/50\n",
      "59/59 [==============================] - 8s 128ms/step - loss: 6.8269e-04 - mae: 0.0126 - acc: 0.8547 - val_loss: 9.3959e-04 - val_mae: 0.0155 - val_acc: 0.7829\n",
      "Epoch 30/50\n",
      "59/59 [==============================] - 9s 152ms/step - loss: 6.7088e-04 - mae: 0.0123 - acc: 0.8571 - val_loss: 9.3126e-04 - val_mae: 0.0155 - val_acc: 0.7857\n",
      "Epoch 31/50\n",
      "59/59 [==============================] - 8s 139ms/step - loss: 6.5856e-04 - mae: 0.0122 - acc: 0.8604 - val_loss: 9.2702e-04 - val_mae: 0.0153 - val_acc: 0.7869\n",
      "Epoch 32/50\n",
      "59/59 [==============================] - 7s 118ms/step - loss: 6.4781e-04 - mae: 0.0120 - acc: 0.8630 - val_loss: 9.2311e-04 - val_mae: 0.0152 - val_acc: 0.7875\n",
      "Epoch 33/50\n",
      "59/59 [==============================] - 7s 127ms/step - loss: 6.3515e-04 - mae: 0.0118 - acc: 0.8667 - val_loss: 9.1210e-04 - val_mae: 0.0153 - val_acc: 0.7918\n",
      "Epoch 34/50\n",
      "59/59 [==============================] - 8s 129ms/step - loss: 6.1992e-04 - mae: 0.0116 - acc: 0.8710 - val_loss: 9.0942e-04 - val_mae: 0.0150 - val_acc: 0.7927\n",
      "Epoch 35/50\n",
      "59/59 [==============================] - 8s 134ms/step - loss: 6.0917e-04 - mae: 0.0113 - acc: 0.8733 - val_loss: 9.0584e-04 - val_mae: 0.0149 - val_acc: 0.7930\n",
      "Epoch 36/50\n",
      "59/59 [==============================] - 8s 130ms/step - loss: 5.9855e-04 - mae: 0.0112 - acc: 0.8757 - val_loss: 9.0459e-04 - val_mae: 0.0148 - val_acc: 0.7931\n",
      "Epoch 37/50\n",
      "59/59 [==============================] - 7s 126ms/step - loss: 5.8523e-04 - mae: 0.0110 - acc: 0.8794 - val_loss: 8.9548e-04 - val_mae: 0.0146 - val_acc: 0.7963\n",
      "Epoch 38/50\n",
      "59/59 [==============================] - 7s 125ms/step - loss: 5.6846e-04 - mae: 0.0107 - acc: 0.8830 - val_loss: 8.9675e-04 - val_mae: 0.0146 - val_acc: 0.7953\n",
      "Epoch 39/50\n",
      "59/59 [==============================] - 8s 127ms/step - loss: 5.5757e-04 - mae: 0.0105 - acc: 0.8859 - val_loss: 8.9289e-04 - val_mae: 0.0144 - val_acc: 0.7978\n",
      "Epoch 40/50\n",
      "59/59 [==============================] - 9s 162ms/step - loss: 5.4678e-04 - mae: 0.0103 - acc: 0.8890 - val_loss: 8.9093e-04 - val_mae: 0.0143 - val_acc: 0.7976\n",
      "Epoch 41/50\n",
      "59/59 [==============================] - 8s 142ms/step - loss: 5.3773e-04 - mae: 0.0101 - acc: 0.8904 - val_loss: 8.9085e-04 - val_mae: 0.0142 - val_acc: 0.7975\n",
      "Epoch 42/50\n",
      "59/59 [==============================] - 7s 122ms/step - loss: 5.2855e-04 - mae: 0.0099 - acc: 0.8924 - val_loss: 8.9061e-04 - val_mae: 0.0141 - val_acc: 0.7978\n",
      "Epoch 43/50\n",
      "59/59 [==============================] - 7s 125ms/step - loss: 5.2001e-04 - mae: 0.0098 - acc: 0.8941 - val_loss: 8.9562e-04 - val_mae: 0.0143 - val_acc: 0.7967\n",
      "Epoch 44/50\n",
      "59/59 [==============================] - 7s 125ms/step - loss: 5.1350e-04 - mae: 0.0097 - acc: 0.8953 - val_loss: 8.9219e-04 - val_mae: 0.0140 - val_acc: 0.7978\n",
      "Epoch 45/50\n",
      "59/59 [==============================] - 7s 125ms/step - loss: 5.0512e-04 - mae: 0.0095 - acc: 0.8967 - val_loss: 8.9461e-04 - val_mae: 0.0140 - val_acc: 0.7969\n",
      "Epoch 46/50\n",
      "59/59 [==============================] - 9s 152ms/step - loss: 4.9789e-04 - mae: 0.0094 - acc: 0.8981 - val_loss: 8.9345e-04 - val_mae: 0.0139 - val_acc: 0.7966\n",
      "Epoch 47/50\n",
      "59/59 [==============================] - 7s 115ms/step - loss: 4.9017e-04 - mae: 0.0092 - acc: 0.8997 - val_loss: 8.9416e-04 - val_mae: 0.0139 - val_acc: 0.7979\n",
      "Epoch 48/50\n",
      "59/59 [==============================] - 8s 130ms/step - loss: 4.8323e-04 - mae: 0.0091 - acc: 0.9013 - val_loss: 8.9648e-04 - val_mae: 0.0138 - val_acc: 0.7967\n",
      "Epoch 49/50\n",
      "59/59 [==============================] - 8s 135ms/step - loss: 4.7713e-04 - mae: 0.0089 - acc: 0.9031 - val_loss: 9.0161e-04 - val_mae: 0.0139 - val_acc: 0.7962\n",
      "Epoch 50/50\n",
      "59/59 [==============================] - 7s 122ms/step - loss: 4.6972e-04 - mae: 0.0088 - acc: 0.9041 - val_loss: 8.9915e-04 - val_mae: 0.0137 - val_acc: 0.7952\n",
      "Saving model..\n"
     ]
    },
    {
     "name": "stderr",
     "output_type": "stream",
     "text": [
      "WARNING:absl:Found untraced functions such as gru_cell_1_layer_call_fn, gru_cell_1_layer_call_and_return_conditional_losses, gru_cell_2_layer_call_fn, gru_cell_2_layer_call_and_return_conditional_losses, gru_cell_1_layer_call_fn while saving (showing 5 of 10). These functions will not be directly callable after loading.\n"
     ]
    },
    {
     "name": "stdout",
     "output_type": "stream",
     "text": [
      "INFO:tensorflow:Assets written to: models/model_gru_model_06_12_2021_11:32:18/assets\n"
     ]
    },
    {
     "name": "stderr",
     "output_type": "stream",
     "text": [
      "INFO:tensorflow:Assets written to: models/model_gru_model_06_12_2021_11:32:18/assets\n",
      "WARNING:absl:<keras.layers.recurrent.GRUCell object at 0x16fdf9d60> has the same name 'GRUCell' as a built-in Keras object. Consider renaming <class 'keras.layers.recurrent.GRUCell'> to avoid naming conflicts when loading with `tf.keras.models.load_model`. If renaming is not possible, pass the object in the `custom_objects` parameter of the load function.\n",
      "WARNING:absl:<keras.layers.recurrent.GRUCell object at 0x16ffff4f0> has the same name 'GRUCell' as a built-in Keras object. Consider renaming <class 'keras.layers.recurrent.GRUCell'> to avoid naming conflicts when loading with `tf.keras.models.load_model`. If renaming is not possible, pass the object in the `custom_objects` parameter of the load function.\n"
     ]
    },
    {
     "name": "stdout",
     "output_type": "stream",
     "text": [
      "Successfully saved\n"
     ]
    }
   ],
   "source": [
    "gru_model.compile(loss=\"mse\",\n",
    "              optimizer=\"Adam\",\n",
    "              metrics=['mae', \"acc\"])\n",
    "gru_training = gru_model.fit(x=x_train, y=y_train, validation_data=(x_val, y_val), batch_size=BATCH_SIZE,  epochs=EPOCHS)\n",
    "\n",
    "# Save the model when training is finished\n",
    "save_model(gru_model, 'gru_model')"
   ]
  },
  {
   "cell_type": "markdown",
   "metadata": {},
   "source": [
    "#### Plot results"
   ]
  },
  {
   "cell_type": "code",
   "execution_count": null,
   "metadata": {},
   "outputs": [
    {
     "data": {
      "image/png": "[encoded data removed]",
      "text/plain": [
       "<Figure size 432x288 with 1 Axes>"
      ]
     },
     "metadata": {
      "needs_background": "light"
     },
     "output_type": "display_data"
    },
    {
     "data": {
      "image/png": "[encoded data removed]",
      "text/plain": [
       "<Figure size 432x288 with 1 Axes>"
      ]
     },
     "metadata": {
      "needs_background": "light"
     },
     "output_type": "display_data"
    }
   ],
   "source": [
    "plot_accuracy(gru_training, 'gru model')\n",
    "plot_loss(gru_training, 'gru model')"
   ]
  },
  {
   "cell_type": "markdown",
   "metadata": {},
   "source": [
    "### Two LSTM layers\n",
    "Adding an additional LSTM layer to the baseline model."
   ]
  },
  {
   "cell_type": "markdown",
   "metadata": {},
   "source": [
    "#### Create model"
   ]
  },
  {
   "cell_type": "code",
   "execution_count": null,
   "metadata": {},
   "outputs": [],
   "source": [
    "def create_doubleLSTM_model(units_LSTM1, units_LSTM2, activation):\n",
    "    doubleLSTM_model = keras.Sequential()\n",
    "    doubleLSTM_model.add(layers.Embedding(input_dim = VOCABULARY_SIZE,\n",
    "                                 output_dim    = embedding_dimension,\n",
    "                                 input_length  = find_max_length(x_train),\n",
    "                                 weights       = [embedding_matrix],\n",
    "                                 trainable     = False,\n",
    "                                 mask_zero = True\n",
    "                                ))\n",
    "    doubleLSTM_model.add(layers.Bidirectional(layers.LSTM(units_LSTM1, return_sequences=True)))\n",
    "    doubleLSTM_model.add(layers.Bidirectional(layers.LSTM(units_LSTM2, return_sequences=True)))\n",
    "    #bidirect_model.add(layers.TimeDistributed(layers.Dense(len(tag_to_idx), activation='softmax')))\n",
    "    doubleLSTM_model.add(layers.Dense(TAG_VOCABULARY_SIZE, activation=activation))\n",
    "    \n",
    "    return doubleLSTM_model"
   ]
  },
  {
   "cell_type": "code",
   "execution_count": null,
   "metadata": {},
   "outputs": [
    {
     "name": "stdout",
     "output_type": "stream",
     "text": [
      "Model: \"sequential_2\"\n",
      "_________________________________________________________________\n",
      " Layer (type)                Output Shape              Param #   \n",
      "=================================================================\n",
      " embedding_2 (Embedding)     (None, 186, 50)           526000    \n",
      "                                                                 \n",
      " bidirectional_2 (Bidirectio  (None, 186, 128)         58880     \n",
      " nal)                                                            \n",
      "                                                                 \n",
      " bidirectional_3 (Bidirectio  (None, 186, 128)         98816     \n",
      " nal)                                                            \n",
      "                                                                 \n",
      " dense_2 (Dense)             (None, 186, 40)           5160      \n",
      "                                                                 \n",
      "=================================================================\n",
      "Total params: 688,856\n",
      "Trainable params: 162,856\n",
      "Non-trainable params: 526,000\n",
      "_________________________________________________________________\n"
     ]
    }
   ],
   "source": [
    "doubleLSTM_model = create_doubleLSTM_model(64, 64, ACTIVATION)\n",
    "doubleLSTM_model.summary()"
   ]
  },
  {
   "cell_type": "markdown",
   "metadata": {},
   "source": [
    "#### Train model "
   ]
  },
  {
   "cell_type": "code",
   "execution_count": null,
   "metadata": {},
   "outputs": [
    {
     "name": "stdout",
     "output_type": "stream",
     "text": [
      "Epoch 1/50\n",
      "59/59 [==============================] - 36s 399ms/step - loss: 0.0027 - mae: 0.0470 - acc: 0.1584 - val_loss: 0.0026 - val_mae: 0.0454 - val_acc: 0.1915\n",
      "Epoch 2/50\n",
      "59/59 [==============================] - 19s 314ms/step - loss: 0.0025 - mae: 0.0444 - acc: 0.2459 - val_loss: 0.0025 - val_mae: 0.0436 - val_acc: 0.2872\n",
      "Epoch 3/50\n",
      "59/59 [==============================] - 19s 323ms/step - loss: 0.0023 - mae: 0.0406 - acc: 0.3600 - val_loss: 0.0021 - val_mae: 0.0376 - val_acc: 0.4383\n",
      "Epoch 4/50\n",
      "59/59 [==============================] - 18s 303ms/step - loss: 0.0019 - mae: 0.0344 - acc: 0.4832 - val_loss: 0.0018 - val_mae: 0.0328 - val_acc: 0.5267\n",
      "Epoch 5/50\n",
      "59/59 [==============================] - 20s 344ms/step - loss: 0.0016 - mae: 0.0302 - acc: 0.5813 - val_loss: 0.0016 - val_mae: 0.0286 - val_acc: 0.6033\n",
      "Epoch 6/50\n",
      "59/59 [==============================] - 21s 362ms/step - loss: 0.0014 - mae: 0.0264 - acc: 0.6402 - val_loss: 0.0014 - val_mae: 0.0261 - val_acc: 0.6345\n",
      "Epoch 7/50\n",
      "59/59 [==============================] - 23s 398ms/step - loss: 0.0013 - mae: 0.0242 - acc: 0.6725 - val_loss: 0.0014 - val_mae: 0.0242 - val_acc: 0.6566\n",
      "Epoch 8/50\n",
      "59/59 [==============================] - 21s 363ms/step - loss: 0.0013 - mae: 0.0227 - acc: 0.6968 - val_loss: 0.0013 - val_mae: 0.0234 - val_acc: 0.6732\n",
      "Epoch 9/50\n",
      "59/59 [==============================] - 18s 300ms/step - loss: 0.0012 - mae: 0.0215 - acc: 0.7140 - val_loss: 0.0013 - val_mae: 0.0226 - val_acc: 0.6858\n",
      "Epoch 10/50\n",
      "59/59 [==============================] - 18s 306ms/step - loss: 0.0011 - mae: 0.0206 - acc: 0.7273 - val_loss: 0.0012 - val_mae: 0.0216 - val_acc: 0.6954\n",
      "Epoch 11/50\n",
      "59/59 [==============================] - 19s 321ms/step - loss: 0.0011 - mae: 0.0199 - acc: 0.7361 - val_loss: 0.0012 - val_mae: 0.0212 - val_acc: 0.7047\n",
      "Epoch 12/50\n",
      "59/59 [==============================] - 18s 313ms/step - loss: 0.0011 - mae: 0.0193 - acc: 0.7510 - val_loss: 0.0012 - val_mae: 0.0206 - val_acc: 0.7099\n",
      "Epoch 13/50\n",
      "59/59 [==============================] - 21s 355ms/step - loss: 0.0010 - mae: 0.0185 - acc: 0.7657 - val_loss: 0.0011 - val_mae: 0.0201 - val_acc: 0.7289\n",
      "Epoch 14/50\n",
      "59/59 [==============================] - 19s 325ms/step - loss: 9.5135e-04 - mae: 0.0176 - acc: 0.7790 - val_loss: 0.0011 - val_mae: 0.0191 - val_acc: 0.7392\n",
      "Epoch 15/50\n",
      "59/59 [==============================] - 20s 332ms/step - loss: 9.1711e-04 - mae: 0.0169 - acc: 0.7884 - val_loss: 0.0011 - val_mae: 0.0188 - val_acc: 0.7447\n",
      "Epoch 16/50\n",
      "59/59 [==============================] - 24s 413ms/step - loss: 8.8411e-04 - mae: 0.0162 - acc: 0.7970 - val_loss: 0.0010 - val_mae: 0.0183 - val_acc: 0.7492\n",
      "Epoch 17/50\n",
      "59/59 [==============================] - 18s 305ms/step - loss: 8.4796e-04 - mae: 0.0158 - acc: 0.8068 - val_loss: 0.0010 - val_mae: 0.0180 - val_acc: 0.7652\n",
      "Epoch 18/50\n",
      "59/59 [==============================] - 19s 330ms/step - loss: 7.9315e-04 - mae: 0.0148 - acc: 0.8247 - val_loss: 9.7892e-04 - val_mae: 0.0173 - val_acc: 0.7692\n",
      "Epoch 19/50\n",
      "59/59 [==============================] - 19s 324ms/step - loss: 7.6575e-04 - mae: 0.0142 - acc: 0.8305 - val_loss: 9.6638e-04 - val_mae: 0.0169 - val_acc: 0.7724\n",
      "Epoch 20/50\n",
      "59/59 [==============================] - 20s 340ms/step - loss: 7.4310e-04 - mae: 0.0138 - acc: 0.8351 - val_loss: 9.5135e-04 - val_mae: 0.0162 - val_acc: 0.7770\n",
      "Epoch 21/50\n",
      "59/59 [==============================] - 22s 366ms/step - loss: 7.2339e-04 - mae: 0.0133 - acc: 0.8404 - val_loss: 9.4208e-04 - val_mae: 0.0163 - val_acc: 0.7792\n",
      "Epoch 22/50\n",
      "59/59 [==============================] - 22s 381ms/step - loss: 7.0495e-04 - mae: 0.0130 - acc: 0.8434 - val_loss: 9.2703e-04 - val_mae: 0.0158 - val_acc: 0.7824\n",
      "Epoch 23/50\n",
      "59/59 [==============================] - 20s 336ms/step - loss: 6.8124e-04 - mae: 0.0126 - acc: 0.8486 - val_loss: 9.3013e-04 - val_mae: 0.0156 - val_acc: 0.7824\n",
      "Epoch 24/50\n",
      "59/59 [==============================] - 21s 341ms/step - loss: 6.6548e-04 - mae: 0.0123 - acc: 0.8527 - val_loss: 9.1206e-04 - val_mae: 0.0155 - val_acc: 0.7856\n",
      "Epoch 25/50\n",
      "59/59 [==============================] - 20s 344ms/step - loss: 6.4978e-04 - mae: 0.0122 - acc: 0.8572 - val_loss: 9.0677e-04 - val_mae: 0.0153 - val_acc: 0.7870\n",
      "Epoch 26/50\n",
      "59/59 [==============================] - 20s 337ms/step - loss: 6.2698e-04 - mae: 0.0117 - acc: 0.8623 - val_loss: 9.0071e-04 - val_mae: 0.0150 - val_acc: 0.7861\n",
      "Epoch 27/50\n",
      "59/59 [==============================] - 18s 311ms/step - loss: 6.1180e-04 - mae: 0.0114 - acc: 0.8650 - val_loss: 8.9256e-04 - val_mae: 0.0149 - val_acc: 0.7903\n",
      "Epoch 28/50\n",
      "59/59 [==============================] - 18s 304ms/step - loss: 5.9146e-04 - mae: 0.0112 - acc: 0.8710 - val_loss: 8.9196e-04 - val_mae: 0.0152 - val_acc: 0.7918\n",
      "Epoch 29/50\n",
      "59/59 [==============================] - 18s 314ms/step - loss: 5.7197e-04 - mae: 0.0110 - acc: 0.8770 - val_loss: 8.7881e-04 - val_mae: 0.0142 - val_acc: 0.7974\n",
      "Epoch 30/50\n",
      "59/59 [==============================] - 19s 320ms/step - loss: 5.6059e-04 - mae: 0.0106 - acc: 0.8801 - val_loss: 8.8205e-04 - val_mae: 0.0148 - val_acc: 0.7925\n",
      "Epoch 31/50\n",
      "59/59 [==============================] - 22s 376ms/step - loss: 5.4079e-04 - mae: 0.0103 - acc: 0.8828 - val_loss: 8.8323e-04 - val_mae: 0.0148 - val_acc: 0.7919\n",
      "Epoch 32/50\n",
      "59/59 [==============================] - 20s 339ms/step - loss: 5.2388e-04 - mae: 0.0100 - acc: 0.8870 - val_loss: 8.6115e-04 - val_mae: 0.0141 - val_acc: 0.7987\n",
      "Epoch 33/50\n",
      "59/59 [==============================] - 20s 340ms/step - loss: 5.0889e-04 - mae: 0.0097 - acc: 0.8904 - val_loss: 8.6807e-04 - val_mae: 0.0141 - val_acc: 0.7949\n",
      "Epoch 34/50\n",
      "59/59 [==============================] - 19s 324ms/step - loss: 5.1701e-04 - mae: 0.0097 - acc: 0.8891 - val_loss: 8.6695e-04 - val_mae: 0.0137 - val_acc: 0.8004\n",
      "Epoch 35/50\n",
      "59/59 [==============================] - 18s 310ms/step - loss: 4.9154e-04 - mae: 0.0093 - acc: 0.8948 - val_loss: 8.5928e-04 - val_mae: 0.0136 - val_acc: 0.7996\n",
      "Epoch 36/50\n",
      "59/59 [==============================] - 20s 333ms/step - loss: 4.7448e-04 - mae: 0.0090 - acc: 0.8986 - val_loss: 8.7003e-04 - val_mae: 0.0139 - val_acc: 0.7952\n",
      "Epoch 37/50\n",
      "59/59 [==============================] - 20s 341ms/step - loss: 4.6443e-04 - mae: 0.0089 - acc: 0.8999 - val_loss: 8.5991e-04 - val_mae: 0.0134 - val_acc: 0.7987\n",
      "Epoch 38/50\n",
      "59/59 [==============================] - 20s 340ms/step - loss: 4.5411e-04 - mae: 0.0087 - acc: 0.9020 - val_loss: 8.6315e-04 - val_mae: 0.0135 - val_acc: 0.7976\n",
      "Epoch 39/50\n",
      "59/59 [==============================] - 19s 326ms/step - loss: 4.4223e-04 - mae: 0.0085 - acc: 0.9052 - val_loss: 8.6619e-04 - val_mae: 0.0135 - val_acc: 0.7969\n",
      "Epoch 40/50\n",
      "59/59 [==============================] - 18s 310ms/step - loss: 4.3394e-04 - mae: 0.0083 - acc: 0.9071 - val_loss: 8.6586e-04 - val_mae: 0.0134 - val_acc: 0.7960\n",
      "Epoch 41/50\n",
      "59/59 [==============================] - 19s 316ms/step - loss: 4.2511e-04 - mae: 0.0082 - acc: 0.9095 - val_loss: 8.6734e-04 - val_mae: 0.0133 - val_acc: 0.7967\n",
      "Epoch 42/50\n",
      "59/59 [==============================] - 18s 308ms/step - loss: 4.1251e-04 - mae: 0.0079 - acc: 0.9120 - val_loss: 8.6131e-04 - val_mae: 0.0131 - val_acc: 0.7980\n",
      "Epoch 43/50\n",
      "59/59 [==============================] - 19s 328ms/step - loss: 4.0555e-04 - mae: 0.0078 - acc: 0.9140 - val_loss: 8.6540e-04 - val_mae: 0.0131 - val_acc: 0.7986\n",
      "Epoch 44/50\n",
      "59/59 [==============================] - 20s 343ms/step - loss: 3.9607e-04 - mae: 0.0076 - acc: 0.9152 - val_loss: 8.7640e-04 - val_mae: 0.0133 - val_acc: 0.7946\n",
      "Epoch 45/50\n",
      "59/59 [==============================] - 18s 307ms/step - loss: 3.8960e-04 - mae: 0.0075 - acc: 0.9169 - val_loss: 8.7631e-04 - val_mae: 0.0132 - val_acc: 0.7965\n",
      "Epoch 46/50\n",
      "59/59 [==============================] - 19s 326ms/step - loss: 3.7867e-04 - mae: 0.0073 - acc: 0.9197 - val_loss: 8.7247e-04 - val_mae: 0.0130 - val_acc: 0.7965\n",
      "Epoch 47/50\n",
      "59/59 [==============================] - 21s 355ms/step - loss: 3.7016e-04 - mae: 0.0071 - acc: 0.9212 - val_loss: 8.7068e-04 - val_mae: 0.0128 - val_acc: 0.7997\n",
      "Epoch 48/50\n",
      "59/59 [==============================] - 19s 328ms/step - loss: 3.6029e-04 - mae: 0.0070 - acc: 0.9233 - val_loss: 8.8221e-04 - val_mae: 0.0131 - val_acc: 0.7950\n",
      "Epoch 49/50\n",
      "59/59 [==============================] - 18s 298ms/step - loss: 3.5280e-04 - mae: 0.0069 - acc: 0.9248 - val_loss: 8.7243e-04 - val_mae: 0.0128 - val_acc: 0.7981\n",
      "Epoch 50/50\n",
      "59/59 [==============================] - 17s 295ms/step - loss: 3.6843e-04 - mae: 0.0070 - acc: 0.9215 - val_loss: 8.8452e-04 - val_mae: 0.0131 - val_acc: 0.7972\n",
      "Saving model..\n"
     ]
    },
    {
     "name": "stderr",
     "output_type": "stream",
     "text": [
      "WARNING:absl:Found untraced functions such as lstm_cell_4_layer_call_fn, lstm_cell_4_layer_call_and_return_conditional_losses, lstm_cell_5_layer_call_fn, lstm_cell_5_layer_call_and_return_conditional_losses, lstm_cell_7_layer_call_fn while saving (showing 5 of 20). These functions will not be directly callable after loading.\n"
     ]
    },
    {
     "name": "stdout",
     "output_type": "stream",
     "text": [
      "INFO:tensorflow:Assets written to: models/model_doubleLSTM_model_06_12_2021_11:49:21/assets\n"
     ]
    },
    {
     "name": "stderr",
     "output_type": "stream",
     "text": [
      "INFO:tensorflow:Assets written to: models/model_doubleLSTM_model_06_12_2021_11:49:21/assets\n",
      "WARNING:absl:<keras.layers.recurrent.LSTMCell object at 0x1717e7430> has the same name 'LSTMCell' as a built-in Keras object. Consider renaming <class 'keras.layers.recurrent.LSTMCell'> to avoid naming conflicts when loading with `tf.keras.models.load_model`. If renaming is not possible, pass the object in the `custom_objects` parameter of the load function.\n",
      "WARNING:absl:<keras.layers.recurrent.LSTMCell object at 0x171a16730> has the same name 'LSTMCell' as a built-in Keras object. Consider renaming <class 'keras.layers.recurrent.LSTMCell'> to avoid naming conflicts when loading with `tf.keras.models.load_model`. If renaming is not possible, pass the object in the `custom_objects` parameter of the load function.\n",
      "WARNING:absl:<keras.layers.recurrent.LSTMCell object at 0x16df7a700> has the same name 'LSTMCell' as a built-in Keras object. Consider renaming <class 'keras.layers.recurrent.LSTMCell'> to avoid naming conflicts when loading with `tf.keras.models.load_model`. If renaming is not possible, pass the object in the `custom_objects` parameter of the load function.\n",
      "WARNING:absl:<keras.layers.recurrent.LSTMCell object at 0x170d09be0> has the same name 'LSTMCell' as a built-in Keras object. Consider renaming <class 'keras.layers.recurrent.LSTMCell'> to avoid naming conflicts when loading with `tf.keras.models.load_model`. If renaming is not possible, pass the object in the `custom_objects` parameter of the load function.\n"
     ]
    },
    {
     "name": "stdout",
     "output_type": "stream",
     "text": [
      "Successfully saved\n"
     ]
    }
   ],
   "source": [
    "doubleLSTM_model.compile(loss=\"mse\",\n",
    "              optimizer=\"Adam\",\n",
    "              metrics=['mae', \"acc\"])\n",
    "doubleLSTM_training = doubleLSTM_model.fit(x=x_train, batch_size=BATCH_SIZE, y=y_train, epochs=EPOCHS, validation_data=(x_val, y_val))\n",
    "\n",
    "# Save the model when training is finished\n",
    "save_model(doubleLSTM_model, 'doubleLSTM_model')"
   ]
  },
  {
   "cell_type": "markdown",
   "metadata": {},
   "source": [
    "#### Plot results"
   ]
  },
  {
   "cell_type": "code",
   "execution_count": null,
   "metadata": {},
   "outputs": [
    {
     "data": {
      "image/png": "[encoded data removed]",
      "text/plain": [
       "<Figure size 432x288 with 1 Axes>"
      ]
     },
     "metadata": {
      "needs_background": "light"
     },
     "output_type": "display_data"
    },
    {
     "data": {
      "image/png": "[encoded data removed]",
      "text/plain": [
       "<Figure size 432x288 with 1 Axes>"
      ]
     },
     "metadata": {
      "needs_background": "light"
     },
     "output_type": "display_data"
    }
   ],
   "source": [
    "plot_accuracy(doubleLSTM_training, 'double LSTM model')\n",
    "plot_loss(doubleLSTM_training, 'double LSTM model')"
   ]
  },
  {
   "cell_type": "markdown",
   "metadata": {},
   "source": [
    "### Two dense layers\n",
    "Add an additional dense layer to the baseline model."
   ]
  },
  {
   "cell_type": "markdown",
   "metadata": {},
   "source": [
    "#### Create model"
   ]
  },
  {
   "cell_type": "code",
   "execution_count": null,
   "metadata": {},
   "outputs": [],
   "source": [
    "def create_doubledense_model(units_LSTM, units_dense, activation):\n",
    "    doubledense_model = keras.Sequential()\n",
    "    doubledense_model.add(layers.Embedding(input_dim = VOCABULARY_SIZE,\n",
    "                                 output_dim    = embedding_dimension,\n",
    "                                 input_length  = find_max_length(x_train),\n",
    "                                 weights       = [embedding_matrix],\n",
    "                                 trainable = False, \n",
    "                                 mask_zero = True\n",
    "                                ))\n",
    "    doubledense_model.add(layers.Bidirectional(layers.LSTM(units_LSTM, return_sequences=True)))\n",
    "    doubledense_model.add(layers.Dense(units_dense))\n",
    "    #bidirect_model.add(layers.TimeDistributed(layers.Dense(len(tag_to_idx), activation='softmax')))\n",
    "    doubledense_model.add(layers.Dense(TAG_VOCABULARY_SIZE, activation=activation))\n",
    "    \n",
    "    return doubledense_model"
   ]
  },
  {
   "cell_type": "code",
   "execution_count": null,
   "metadata": {},
   "outputs": [
    {
     "name": "stdout",
     "output_type": "stream",
     "text": [
      "Model: \"sequential_3\"\n",
      "_________________________________________________________________\n",
      " Layer (type)                Output Shape              Param #   \n",
      "=================================================================\n",
      " embedding_3 (Embedding)     (None, 186, 50)           526000    \n",
      "                                                                 \n",
      " bidirectional_4 (Bidirectio  (None, 186, 128)         58880     \n",
      " nal)                                                            \n",
      "                                                                 \n",
      " dense_3 (Dense)             (None, 186, 64)           8256      \n",
      "                                                                 \n",
      " dense_4 (Dense)             (None, 186, 40)           2600      \n",
      "                                                                 \n",
      "=================================================================\n",
      "Total params: 595,736\n",
      "Trainable params: 69,736\n",
      "Non-trainable params: 526,000\n",
      "_________________________________________________________________\n"
     ]
    }
   ],
   "source": [
    "doubleDense_model = create_doubledense_model(64, 64, ACTIVATION)\n",
    "doubleDense_model.summary()"
   ]
  },
  {
   "cell_type": "markdown",
   "metadata": {},
   "source": [
    "#### Train model"
   ]
  },
  {
   "cell_type": "code",
   "execution_count": null,
   "metadata": {},
   "outputs": [
    {
     "name": "stdout",
     "output_type": "stream",
     "text": [
      "Epoch 1/50\n",
      "59/59 [==============================] - 21s 191ms/step - loss: 0.0026 - mae: 0.0463 - acc: 0.2068 - val_loss: 0.0024 - val_mae: 0.0433 - val_acc: 0.3318\n",
      "Epoch 2/50\n",
      "59/59 [==============================] - 9s 155ms/step - loss: 0.0022 - mae: 0.0392 - acc: 0.4004 - val_loss: 0.0020 - val_mae: 0.0357 - val_acc: 0.4663\n",
      "Epoch 3/50\n",
      "59/59 [==============================] - 9s 147ms/step - loss: 0.0018 - mae: 0.0323 - acc: 0.5313 - val_loss: 0.0017 - val_mae: 0.0301 - val_acc: 0.5677\n",
      "Epoch 4/50\n",
      "59/59 [==============================] - 9s 159ms/step - loss: 0.0015 - mae: 0.0274 - acc: 0.6179 - val_loss: 0.0015 - val_mae: 0.0266 - val_acc: 0.6219\n",
      "Epoch 5/50\n",
      "59/59 [==============================] - 8s 136ms/step - loss: 0.0014 - mae: 0.0246 - acc: 0.6607 - val_loss: 0.0014 - val_mae: 0.0244 - val_acc: 0.6539\n",
      "Epoch 6/50\n",
      "59/59 [==============================] - 9s 149ms/step - loss: 0.0013 - mae: 0.0226 - acc: 0.6954 - val_loss: 0.0013 - val_mae: 0.0229 - val_acc: 0.6810\n",
      "Epoch 7/50\n",
      "59/59 [==============================] - 8s 143ms/step - loss: 0.0012 - mae: 0.0212 - acc: 0.7146 - val_loss: 0.0013 - val_mae: 0.0219 - val_acc: 0.6967\n",
      "Epoch 8/50\n",
      "59/59 [==============================] - 8s 132ms/step - loss: 0.0011 - mae: 0.0202 - acc: 0.7288 - val_loss: 0.0012 - val_mae: 0.0210 - val_acc: 0.7067\n",
      "Epoch 9/50\n",
      "59/59 [==============================] - 9s 147ms/step - loss: 0.0011 - mae: 0.0193 - acc: 0.7424 - val_loss: 0.0012 - val_mae: 0.0204 - val_acc: 0.7172\n",
      "Epoch 10/50\n",
      "59/59 [==============================] - 9s 146ms/step - loss: 0.0010 - mae: 0.0186 - acc: 0.7535 - val_loss: 0.0011 - val_mae: 0.0196 - val_acc: 0.7271\n",
      "Epoch 11/50\n",
      "59/59 [==============================] - 9s 146ms/step - loss: 9.9675e-04 - mae: 0.0179 - acc: 0.7704 - val_loss: 0.0011 - val_mae: 0.0192 - val_acc: 0.7369\n",
      "Epoch 12/50\n",
      "59/59 [==============================] - 8s 142ms/step - loss: 9.5052e-04 - mae: 0.0171 - acc: 0.7832 - val_loss: 0.0011 - val_mae: 0.0183 - val_acc: 0.7449\n",
      "Epoch 13/50\n",
      "59/59 [==============================] - 9s 147ms/step - loss: 9.1497e-04 - mae: 0.0163 - acc: 0.7921 - val_loss: 0.0011 - val_mae: 0.0179 - val_acc: 0.7536\n",
      "Epoch 14/50\n",
      "59/59 [==============================] - 9s 152ms/step - loss: 8.8255e-04 - mae: 0.0157 - acc: 0.8011 - val_loss: 0.0010 - val_mae: 0.0175 - val_acc: 0.7584\n",
      "Epoch 15/50\n",
      "59/59 [==============================] - 8s 142ms/step - loss: 8.4099e-04 - mae: 0.0151 - acc: 0.8134 - val_loss: 0.0010 - val_mae: 0.0167 - val_acc: 0.7678\n",
      "Epoch 16/50\n",
      "59/59 [==============================] - 9s 155ms/step - loss: 8.0806e-04 - mae: 0.0144 - acc: 0.8209 - val_loss: 9.9164e-04 - val_mae: 0.0163 - val_acc: 0.7708\n",
      "Epoch 17/50\n",
      "59/59 [==============================] - 9s 150ms/step - loss: 7.8550e-04 - mae: 0.0139 - acc: 0.8262 - val_loss: 9.7560e-04 - val_mae: 0.0161 - val_acc: 0.7745\n",
      "Epoch 18/50\n",
      "59/59 [==============================] - 9s 153ms/step - loss: 7.6240e-04 - mae: 0.0134 - acc: 0.8325 - val_loss: 9.5650e-04 - val_mae: 0.0158 - val_acc: 0.7810\n",
      "Epoch 19/50\n",
      "59/59 [==============================] - 10s 168ms/step - loss: 7.4107e-04 - mae: 0.0131 - acc: 0.8376 - val_loss: 9.4814e-04 - val_mae: 0.0157 - val_acc: 0.7834\n",
      "Epoch 20/50\n",
      "59/59 [==============================] - 8s 144ms/step - loss: 7.1994e-04 - mae: 0.0128 - acc: 0.8434 - val_loss: 9.4040e-04 - val_mae: 0.0153 - val_acc: 0.7850\n",
      "Epoch 21/50\n",
      "59/59 [==============================] - 8s 144ms/step - loss: 7.0133e-04 - mae: 0.0125 - acc: 0.8477 - val_loss: 9.2314e-04 - val_mae: 0.0149 - val_acc: 0.7893\n",
      "Epoch 22/50\n",
      "59/59 [==============================] - 9s 150ms/step - loss: 6.7981e-04 - mae: 0.0121 - acc: 0.8533 - val_loss: 9.2383e-04 - val_mae: 0.0149 - val_acc: 0.7894\n",
      "Epoch 23/50\n",
      "59/59 [==============================] - 9s 150ms/step - loss: 6.5857e-04 - mae: 0.0117 - acc: 0.8591 - val_loss: 9.1056e-04 - val_mae: 0.0146 - val_acc: 0.7924\n",
      "Epoch 24/50\n",
      "59/59 [==============================] - 10s 174ms/step - loss: 6.4282e-04 - mae: 0.0114 - acc: 0.8630 - val_loss: 9.0779e-04 - val_mae: 0.0141 - val_acc: 0.7938\n",
      "Epoch 25/50\n",
      "59/59 [==============================] - 8s 140ms/step - loss: 6.2665e-04 - mae: 0.0110 - acc: 0.8661 - val_loss: 9.0849e-04 - val_mae: 0.0144 - val_acc: 0.7953\n",
      "Epoch 26/50\n",
      "59/59 [==============================] - 9s 151ms/step - loss: 6.1217e-04 - mae: 0.0107 - acc: 0.8703 - val_loss: 8.9840e-04 - val_mae: 0.0140 - val_acc: 0.7976\n",
      "Epoch 27/50\n",
      "59/59 [==============================] - 8s 140ms/step - loss: 5.9937e-04 - mae: 0.0105 - acc: 0.8728 - val_loss: 8.9490e-04 - val_mae: 0.0137 - val_acc: 0.7979\n",
      "Epoch 28/50\n",
      "59/59 [==============================] - 9s 147ms/step - loss: 5.8328e-04 - mae: 0.0101 - acc: 0.8765 - val_loss: 8.9228e-04 - val_mae: 0.0135 - val_acc: 0.7993\n",
      "Epoch 29/50\n",
      "59/59 [==============================] - 9s 153ms/step - loss: 5.7168e-04 - mae: 0.0099 - acc: 0.8796 - val_loss: 8.9610e-04 - val_mae: 0.0136 - val_acc: 0.7968\n",
      "Epoch 30/50\n",
      "59/59 [==============================] - 8s 144ms/step - loss: 5.5774e-04 - mae: 0.0097 - acc: 0.8827 - val_loss: 8.8471e-04 - val_mae: 0.0135 - val_acc: 0.8004\n",
      "Epoch 31/50\n",
      "59/59 [==============================] - 9s 145ms/step - loss: 5.4823e-04 - mae: 0.0095 - acc: 0.8847 - val_loss: 8.8787e-04 - val_mae: 0.0133 - val_acc: 0.8005\n",
      "Epoch 32/50\n",
      "59/59 [==============================] - 9s 149ms/step - loss: 5.3349e-04 - mae: 0.0092 - acc: 0.8878 - val_loss: 8.8821e-04 - val_mae: 0.0132 - val_acc: 0.7993\n",
      "Epoch 33/50\n",
      "59/59 [==============================] - 8s 140ms/step - loss: 5.2331e-04 - mae: 0.0090 - acc: 0.8903 - val_loss: 8.9049e-04 - val_mae: 0.0131 - val_acc: 0.7988\n",
      "Epoch 34/50\n",
      "59/59 [==============================] - 10s 174ms/step - loss: 5.1339e-04 - mae: 0.0089 - acc: 0.8925 - val_loss: 8.9068e-04 - val_mae: 0.0130 - val_acc: 0.7999\n",
      "Epoch 35/50\n",
      "59/59 [==============================] - 11s 192ms/step - loss: 5.0084e-04 - mae: 0.0086 - acc: 0.8952 - val_loss: 8.8854e-04 - val_mae: 0.0131 - val_acc: 0.7996\n",
      "Epoch 36/50\n",
      "59/59 [==============================] - 8s 131ms/step - loss: 4.9338e-04 - mae: 0.0085 - acc: 0.8971 - val_loss: 8.9284e-04 - val_mae: 0.0129 - val_acc: 0.7984\n",
      "Epoch 37/50\n",
      "59/59 [==============================] - 9s 154ms/step - loss: 4.8527e-04 - mae: 0.0083 - acc: 0.8984 - val_loss: 8.8503e-04 - val_mae: 0.0127 - val_acc: 0.8016\n",
      "Epoch 38/50\n",
      "59/59 [==============================] - 8s 136ms/step - loss: 4.7661e-04 - mae: 0.0081 - acc: 0.9002 - val_loss: 8.9281e-04 - val_mae: 0.0126 - val_acc: 0.7986\n",
      "Epoch 39/50\n",
      "59/59 [==============================] - 9s 145ms/step - loss: 4.6364e-04 - mae: 0.0079 - acc: 0.9034 - val_loss: 8.9427e-04 - val_mae: 0.0128 - val_acc: 0.7987\n",
      "Epoch 40/50\n",
      "59/59 [==============================] - 8s 143ms/step - loss: 4.5422e-04 - mae: 0.0077 - acc: 0.9056 - val_loss: 8.9148e-04 - val_mae: 0.0127 - val_acc: 0.7994\n",
      "Epoch 41/50\n",
      "59/59 [==============================] - 9s 148ms/step - loss: 4.4749e-04 - mae: 0.0076 - acc: 0.9069 - val_loss: 8.8979e-04 - val_mae: 0.0124 - val_acc: 0.8021\n",
      "Epoch 42/50\n",
      "59/59 [==============================] - 9s 148ms/step - loss: 4.4105e-04 - mae: 0.0075 - acc: 0.9084 - val_loss: 8.9804e-04 - val_mae: 0.0126 - val_acc: 0.7983\n",
      "Epoch 43/50\n",
      "59/59 [==============================] - 9s 148ms/step - loss: 4.3081e-04 - mae: 0.0073 - acc: 0.9102 - val_loss: 8.9847e-04 - val_mae: 0.0125 - val_acc: 0.7986\n",
      "Epoch 44/50\n",
      "59/59 [==============================] - 8s 138ms/step - loss: 4.2359e-04 - mae: 0.0072 - acc: 0.9116 - val_loss: 9.0004e-04 - val_mae: 0.0125 - val_acc: 0.7979\n",
      "Epoch 45/50\n",
      "59/59 [==============================] - 8s 138ms/step - loss: 4.1531e-04 - mae: 0.0070 - acc: 0.9127 - val_loss: 8.9426e-04 - val_mae: 0.0122 - val_acc: 0.8001\n",
      "Epoch 46/50\n",
      "59/59 [==============================] - 8s 136ms/step - loss: 4.0924e-04 - mae: 0.0069 - acc: 0.9144 - val_loss: 8.9846e-04 - val_mae: 0.0124 - val_acc: 0.7999\n",
      "Epoch 47/50\n",
      "59/59 [==============================] - 8s 142ms/step - loss: 4.0123e-04 - mae: 0.0068 - acc: 0.9156 - val_loss: 9.0663e-04 - val_mae: 0.0124 - val_acc: 0.7967\n",
      "Epoch 48/50\n",
      "59/59 [==============================] - 8s 141ms/step - loss: 4.0146e-04 - mae: 0.0067 - acc: 0.9156 - val_loss: 9.1878e-04 - val_mae: 0.0127 - val_acc: 0.7937\n",
      "Epoch 49/50\n",
      "59/59 [==============================] - 8s 137ms/step - loss: 3.8992e-04 - mae: 0.0066 - acc: 0.9179 - val_loss: 9.0435e-04 - val_mae: 0.0122 - val_acc: 0.7981\n",
      "Epoch 50/50\n",
      "59/59 [==============================] - 9s 153ms/step - loss: 3.8288e-04 - mae: 0.0065 - acc: 0.9189 - val_loss: 9.0339e-04 - val_mae: 0.0121 - val_acc: 0.7989\n",
      "Saving model..\n"
     ]
    },
    {
     "name": "stderr",
     "output_type": "stream",
     "text": [
      "WARNING:absl:Found untraced functions such as lstm_cell_10_layer_call_fn, lstm_cell_10_layer_call_and_return_conditional_losses, lstm_cell_11_layer_call_fn, lstm_cell_11_layer_call_and_return_conditional_losses, lstm_cell_10_layer_call_fn while saving (showing 5 of 10). These functions will not be directly callable after loading.\n"
     ]
    },
    {
     "name": "stdout",
     "output_type": "stream",
     "text": [
      "INFO:tensorflow:Assets written to: models/model_doubleDense_model_06_12_2021_11:57:39/assets\n"
     ]
    },
    {
     "name": "stderr",
     "output_type": "stream",
     "text": [
      "INFO:tensorflow:Assets written to: models/model_doubleDense_model_06_12_2021_11:57:39/assets\n",
      "WARNING:absl:<keras.layers.recurrent.LSTMCell object at 0x177fff790> has the same name 'LSTMCell' as a built-in Keras object. Consider renaming <class 'keras.layers.recurrent.LSTMCell'> to avoid naming conflicts when loading with `tf.keras.models.load_model`. If renaming is not possible, pass the object in the `custom_objects` parameter of the load function.\n",
      "WARNING:absl:<keras.layers.recurrent.LSTMCell object at 0x177e25970> has the same name 'LSTMCell' as a built-in Keras object. Consider renaming <class 'keras.layers.recurrent.LSTMCell'> to avoid naming conflicts when loading with `tf.keras.models.load_model`. If renaming is not possible, pass the object in the `custom_objects` parameter of the load function.\n"
     ]
    },
    {
     "name": "stdout",
     "output_type": "stream",
     "text": [
      "Successfully saved\n"
     ]
    }
   ],
   "source": [
    "doubleDense_model.compile(loss=\"mse\",\n",
    "              optimizer=\"Adam\",\n",
    "              metrics=['mae', \"acc\"])\n",
    "doubleDense_training = doubleDense_model.fit(x=x_train, batch_size=BATCH_SIZE, y=y_train, epochs=EPOCHS, validation_data=(x_val, y_val))\n",
    "\n",
    "# Save the model when training is finished\n",
    "save_model(doubleDense_model, 'doubleDense_model')"
   ]
  },
  {
   "cell_type": "markdown",
   "metadata": {},
   "source": [
    "#### Plot results"
   ]
  },
  {
   "cell_type": "code",
   "execution_count": null,
   "metadata": {},
   "outputs": [
    {
     "data": {
      "image/png": "[encoded data removed]",
      "text/plain": [
       "<Figure size 432x288 with 1 Axes>"
      ]
     },
     "metadata": {
      "needs_background": "light"
     },
     "output_type": "display_data"
    },
    {
     "data": {
      "image/png": "[encoded data removed]",
      "text/plain": [
       "<Figure size 432x288 with 1 Axes>"
      ]
     },
     "metadata": {
      "needs_background": "light"
     },
     "output_type": "display_data"
    }
   ],
   "source": [
    "plot_accuracy(doubleDense_training, 'double Dense model')\n",
    "plot_loss(doubleDense_training , 'double Dense model')"
   ]
  },
  {
   "cell_type": "markdown",
   "metadata": {},
   "source": [
    "## Evaluation of the two best models\n",
    "The models with the best validation accuracy is the double dense layered model and the double LSTM layered model"
   ]
  },
  {
   "cell_type": "markdown",
   "metadata": {},
   "source": [
    "### Double LSTM model"
   ]
  },
  {
   "cell_type": "markdown",
   "metadata": {},
   "source": [
    "#### Load model"
   ]
  },
  {
   "cell_type": "code",
   "execution_count": null,
   "metadata": {},
   "outputs": [
    {
     "name": "stderr",
     "output_type": "stream",
     "text": [
      "2021-12-07 13:34:43.352725: W tensorflow/core/common_runtime/graph_constructor.cc:803] Node 'cond/while' has 14 outputs but the _output_shapes attribute specifies shapes for 48 outputs. Output shapes may be inaccurate.\n",
      "2021-12-07 13:34:44.512803: W tensorflow/core/common_runtime/graph_constructor.cc:803] Node 'cond/while' has 14 outputs but the _output_shapes attribute specifies shapes for 48 outputs. Output shapes may be inaccurate.\n",
      "2021-12-07 13:34:44.528796: W tensorflow/core/common_runtime/graph_constructor.cc:803] Node 'cond' has 5 outputs but the _output_shapes attribute specifies shapes for 48 outputs. Output shapes may be inaccurate.\n",
      "2021-12-07 13:34:47.158121: W tensorflow/core/common_runtime/graph_constructor.cc:803] Node 'cond/while' has 14 outputs but the _output_shapes attribute specifies shapes for 48 outputs. Output shapes may be inaccurate.\n",
      "2021-12-07 13:34:47.173290: W tensorflow/core/common_runtime/graph_constructor.cc:803] Node 'cond' has 5 outputs but the _output_shapes attribute specifies shapes for 48 outputs. Output shapes may be inaccurate.\n",
      "2021-12-07 13:34:47.473434: W tensorflow/core/common_runtime/graph_constructor.cc:803] Node 'cond/while' has 14 outputs but the _output_shapes attribute specifies shapes for 48 outputs. Output shapes may be inaccurate.\n",
      "2021-12-07 13:34:47.497577: W tensorflow/core/common_runtime/graph_constructor.cc:803] Node 'cond' has 5 outputs but the _output_shapes attribute specifies shapes for 48 outputs. Output shapes may be inaccurate.\n",
      "2021-12-07 13:34:48.025559: W tensorflow/core/common_runtime/graph_constructor.cc:803] Node 'cond/while' has 14 outputs but the _output_shapes attribute specifies shapes for 48 outputs. Output shapes may be inaccurate.\n",
      "2021-12-07 13:34:48.055865: W tensorflow/core/common_runtime/graph_constructor.cc:803] Node 'cond' has 5 outputs but the _output_shapes attribute specifies shapes for 48 outputs. Output shapes may be inaccurate.\n",
      "2021-12-07 13:34:48.184926: W tensorflow/core/common_runtime/graph_constructor.cc:803] Node 'cond/while' has 14 outputs but the _output_shapes attribute specifies shapes for 48 outputs. Output shapes may be inaccurate.\n",
      "2021-12-07 13:34:48.215989: W tensorflow/core/common_runtime/graph_constructor.cc:803] Node 'cond' has 5 outputs but the _output_shapes attribute specifies shapes for 48 outputs. Output shapes may be inaccurate.\n",
      "2021-12-07 13:34:48.279533: W tensorflow/core/common_runtime/graph_constructor.cc:803] Node 'cond/while' has 14 outputs but the _output_shapes attribute specifies shapes for 48 outputs. Output shapes may be inaccurate.\n",
      "2021-12-07 13:34:48.324097: W tensorflow/core/common_runtime/graph_constructor.cc:803] Node 'cond' has 5 outputs but the _output_shapes attribute specifies shapes for 48 outputs. Output shapes may be inaccurate.\n",
      "2021-12-07 13:34:48.546308: W tensorflow/core/common_runtime/graph_constructor.cc:803] Node 'cond/while' has 14 outputs but the _output_shapes attribute specifies shapes for 48 outputs. Output shapes may be inaccurate.\n",
      "2021-12-07 13:34:49.837446: W tensorflow/core/common_runtime/graph_constructor.cc:803] Node 'cond/while' has 14 outputs but the _output_shapes attribute specifies shapes for 48 outputs. Output shapes may be inaccurate.\n",
      "2021-12-07 13:34:49.863060: W tensorflow/core/common_runtime/graph_constructor.cc:803] Node 'cond' has 5 outputs but the _output_shapes attribute specifies shapes for 48 outputs. Output shapes may be inaccurate.\n",
      "2021-12-07 13:34:49.977557: W tensorflow/core/common_runtime/graph_constructor.cc:803] Node 'cond/while' has 14 outputs but the _output_shapes attribute specifies shapes for 48 outputs. Output shapes may be inaccurate.\n",
      "2021-12-07 13:34:50.971358: W tensorflow/core/common_runtime/graph_constructor.cc:803] Node 'cond/while' has 14 outputs but the _output_shapes attribute specifies shapes for 48 outputs. Output shapes may be inaccurate.\n",
      "2021-12-07 13:34:50.999603: W tensorflow/core/common_runtime/graph_constructor.cc:803] Node 'cond/while' has 14 outputs but the _output_shapes attribute specifies shapes for 48 outputs. Output shapes may be inaccurate.\n",
      "2021-12-07 13:34:51.023762: W tensorflow/core/common_runtime/graph_constructor.cc:803] Node 'cond' has 5 outputs but the _output_shapes attribute specifies shapes for 48 outputs. Output shapes may be inaccurate.\n",
      "2021-12-07 13:34:51.455211: W tensorflow/core/common_runtime/graph_constructor.cc:803] Node 'cond/while' has 14 outputs but the _output_shapes attribute specifies shapes for 48 outputs. Output shapes may be inaccurate.\n",
      "2021-12-07 13:34:53.950571: W tensorflow/core/common_runtime/graph_constructor.cc:803] Node 'cond/while' has 14 outputs but the _output_shapes attribute specifies shapes for 48 outputs. Output shapes may be inaccurate.\n",
      "2021-12-07 13:34:54.916930: W tensorflow/core/common_runtime/graph_constructor.cc:803] Node 'cond/while' has 14 outputs but the _output_shapes attribute specifies shapes for 48 outputs. Output shapes may be inaccurate.\n",
      "2021-12-07 13:34:54.935343: W tensorflow/core/common_runtime/graph_constructor.cc:803] Node 'cond' has 5 outputs but the _output_shapes attribute specifies shapes for 48 outputs. Output shapes may be inaccurate.\n",
      "2021-12-07 13:34:55.367334: W tensorflow/core/common_runtime/graph_constructor.cc:803] Node 'cond/while' has 14 outputs but the _output_shapes attribute specifies shapes for 48 outputs. Output shapes may be inaccurate.\n",
      "2021-12-07 13:34:55.386663: W tensorflow/core/common_runtime/graph_constructor.cc:803] Node 'cond' has 5 outputs but the _output_shapes attribute specifies shapes for 48 outputs. Output shapes may be inaccurate.\n",
      "2021-12-07 13:34:56.035366: W tensorflow/core/common_runtime/graph_constructor.cc:803] Node 'cond/while' has 14 outputs but the _output_shapes attribute specifies shapes for 48 outputs. Output shapes may be inaccurate.\n",
      "2021-12-07 13:34:56.057718: W tensorflow/core/common_runtime/graph_constructor.cc:803] Node 'cond' has 5 outputs but the _output_shapes attribute specifies shapes for 48 outputs. Output shapes may be inaccurate.\n",
      "2021-12-07 13:34:56.154311: W tensorflow/core/common_runtime/graph_constructor.cc:803] Node 'cond/while' has 14 outputs but the _output_shapes attribute specifies shapes for 48 outputs. Output shapes may be inaccurate.\n",
      "2021-12-07 13:34:56.173748: W tensorflow/core/common_runtime/graph_constructor.cc:803] Node 'cond' has 5 outputs but the _output_shapes attribute specifies shapes for 48 outputs. Output shapes may be inaccurate.\n",
      "2021-12-07 13:34:56.997981: W tensorflow/core/common_runtime/graph_constructor.cc:803] Node 'cond' has 5 outputs but the _output_shapes attribute specifies shapes for 48 outputs. Output shapes may be inaccurate.\n",
      "2021-12-07 13:34:57.385630: W tensorflow/core/common_runtime/graph_constructor.cc:803] Node 'cond/while' has 14 outputs but the _output_shapes attribute specifies shapes for 48 outputs. Output shapes may be inaccurate.\n",
      "2021-12-07 13:34:57.408018: W tensorflow/core/common_runtime/graph_constructor.cc:803] Node 'cond' has 5 outputs but the _output_shapes attribute specifies shapes for 48 outputs. Output shapes may be inaccurate.\n",
      "2021-12-07 13:34:57.439198: W tensorflow/core/common_runtime/graph_constructor.cc:803] Node 'cond' has 5 outputs but the _output_shapes attribute specifies shapes for 48 outputs. Output shapes may be inaccurate.\n",
      "2021-12-07 13:34:57.849210: W tensorflow/core/common_runtime/graph_constructor.cc:803] Node 'cond' has 5 outputs but the _output_shapes attribute specifies shapes for 48 outputs. Output shapes may be inaccurate.\n",
      "2021-12-07 13:34:57.880024: W tensorflow/core/common_runtime/graph_constructor.cc:803] Node 'cond/while' has 14 outputs but the _output_shapes attribute specifies shapes for 48 outputs. Output shapes may be inaccurate.\n",
      "2021-12-07 13:34:57.898237: W tensorflow/core/common_runtime/graph_constructor.cc:803] Node 'cond' has 5 outputs but the _output_shapes attribute specifies shapes for 48 outputs. Output shapes may be inaccurate.\n",
      "2021-12-07 13:34:57.947599: W tensorflow/core/common_runtime/graph_constructor.cc:803] Node 'cond' has 5 outputs but the _output_shapes attribute specifies shapes for 48 outputs. Output shapes may be inaccurate.\n",
      "2021-12-07 13:34:57.978933: W tensorflow/core/common_runtime/graph_constructor.cc:803] Node 'cond/while' has 14 outputs but the _output_shapes attribute specifies shapes for 48 outputs. Output shapes may be inaccurate.\n",
      "2021-12-07 13:34:57.996922: W tensorflow/core/common_runtime/graph_constructor.cc:803] Node 'cond' has 5 outputs but the _output_shapes attribute specifies shapes for 48 outputs. Output shapes may be inaccurate.\n",
      "2021-12-07 13:34:58.016127: W tensorflow/core/common_runtime/graph_constructor.cc:803] Node 'cond/while' has 14 outputs but the _output_shapes attribute specifies shapes for 48 outputs. Output shapes may be inaccurate.\n",
      "2021-12-07 13:34:58.034394: W tensorflow/core/common_runtime/graph_constructor.cc:803] Node 'cond' has 5 outputs but the _output_shapes attribute specifies shapes for 48 outputs. Output shapes may be inaccurate.\n",
      "2021-12-07 13:34:58.152479: W tensorflow/core/common_runtime/graph_constructor.cc:803] Node 'cond' has 5 outputs but the _output_shapes attribute specifies shapes for 48 outputs. Output shapes may be inaccurate.\n",
      "2021-12-07 13:35:00.017626: W tensorflow/core/common_runtime/graph_constructor.cc:803] Node 'cond/while' has 14 outputs but the _output_shapes attribute specifies shapes for 48 outputs. Output shapes may be inaccurate.\n",
      "2021-12-07 13:35:00.042074: W tensorflow/core/common_runtime/graph_constructor.cc:803] Node 'cond' has 5 outputs but the _output_shapes attribute specifies shapes for 48 outputs. Output shapes may be inaccurate.\n",
      "2021-12-07 13:35:00.220210: W tensorflow/core/common_runtime/graph_constructor.cc:803] Node 'cond/while' has 14 outputs but the _output_shapes attribute specifies shapes for 48 outputs. Output shapes may be inaccurate.\n",
      "2021-12-07 13:35:00.242904: W tensorflow/core/common_runtime/graph_constructor.cc:803] Node 'cond' has 5 outputs but the _output_shapes attribute specifies shapes for 48 outputs. Output shapes may be inaccurate.\n",
      "2021-12-07 13:35:00.535311: W tensorflow/core/common_runtime/graph_constructor.cc:803] Node 'cond/while' has 14 outputs but the _output_shapes attribute specifies shapes for 48 outputs. Output shapes may be inaccurate.\n",
      "2021-12-07 13:35:00.551939: W tensorflow/core/common_runtime/graph_constructor.cc:803] Node 'cond' has 5 outputs but the _output_shapes attribute specifies shapes for 48 outputs. Output shapes may be inaccurate.\n",
      "2021-12-07 13:35:00.741865: W tensorflow/core/common_runtime/graph_constructor.cc:803] Node 'cond/while' has 14 outputs but the _output_shapes attribute specifies shapes for 48 outputs. Output shapes may be inaccurate.\n",
      "2021-12-07 13:35:00.761360: W tensorflow/core/common_runtime/graph_constructor.cc:803] Node 'cond' has 5 outputs but the _output_shapes attribute specifies shapes for 48 outputs. Output shapes may be inaccurate.\n",
      "2021-12-07 13:35:00.795835: W tensorflow/core/common_runtime/graph_constructor.cc:803] Node 'cond/while' has 14 outputs but the _output_shapes attribute specifies shapes for 48 outputs. Output shapes may be inaccurate.\n",
      "2021-12-07 13:35:00.812752: W tensorflow/core/common_runtime/graph_constructor.cc:803] Node 'cond' has 5 outputs but the _output_shapes attribute specifies shapes for 48 outputs. Output shapes may be inaccurate.\n",
      "2021-12-07 13:35:00.845415: W tensorflow/core/common_runtime/graph_constructor.cc:803] Node 'cond' has 5 outputs but the _output_shapes attribute specifies shapes for 48 outputs. Output shapes may be inaccurate.\n",
      "2021-12-07 13:35:00.873676: W tensorflow/core/common_runtime/graph_constructor.cc:803] Node 'cond/while' has 14 outputs but the _output_shapes attribute specifies shapes for 48 outputs. Output shapes may be inaccurate.\n",
      "2021-12-07 13:35:00.890293: W tensorflow/core/common_runtime/graph_constructor.cc:803] Node 'cond' has 5 outputs but the _output_shapes attribute specifies shapes for 48 outputs. Output shapes may be inaccurate.\n"
     ]
    }
   ],
   "source": [
    "doubleLSTM_model = keras.models.load_model('models/model_doubleLSTM_model_06_12_2021_11:49:21')"
   ]
  },
  {
   "cell_type": "markdown",
   "metadata": {},
   "source": [
    "#### Calculate predicitons for test set"
   ]
  },
  {
   "cell_type": "code",
   "execution_count": null,
   "metadata": {},
   "outputs": [],
   "source": [
    "predictions_doubleLSTM = predict(doubleLSTM_model, x_test, {'batch_size': BATCH_SIZE})"
   ]
  },
  {
   "cell_type": "markdown",
   "metadata": {},
   "source": [
    "#### Evaluate model\n",
    "Evaluate how well the models predicitons for the test set where"
   ]
  },
  {
   "cell_type": "code",
   "execution_count": null,
   "metadata": {},
   "outputs": [
    {
     "name": "stdout",
     "output_type": "stream",
     "text": [
      "ACCURACY: 0.792\n",
      "PRECISION: 0.785\n",
      "RECALL: 0.792\n",
      "F1: 0.787\n",
      "              precision    recall  f1-score   support\n",
      "\n",
      "           1       0.75      0.77      0.76      2207\n",
      "           2       0.74      0.83      0.78      1368\n",
      "           3       0.87      0.86      0.86      1521\n",
      "           4       0.94      0.90      0.92      1260\n",
      "           5       0.77      0.77      0.77       886\n",
      "           6       0.63      0.65      0.64       859\n",
      "           7       0.79      0.81      0.80       600\n",
      "           8       0.69      0.73      0.71       357\n",
      "           9       0.81      0.86      0.83       791\n",
      "          10       0.85      0.87      0.86       383\n",
      "          11       0.91      0.84      0.88       334\n",
      "          12       0.87      0.82      0.84       258\n",
      "          13       0.67      0.54      0.60       331\n",
      "          14       0.93      0.89      0.91       361\n",
      "          15       0.95      0.92      0.94       181\n",
      "          16       0.53      0.44      0.48       209\n",
      "          17       0.81      0.72      0.76       123\n",
      "          18       0.90      0.86      0.88        96\n",
      "          19       0.92      0.92      0.92       156\n",
      "          20       0.87      0.85      0.86       143\n",
      "          21       0.79      0.81      0.80       191\n",
      "          22       0.75      0.90      0.82        81\n",
      "          23       0.55      0.48      0.51        54\n",
      "          24       0.87      0.72      0.79        18\n",
      "          25       0.46      0.64      0.53        33\n",
      "          26       0.00      0.00      0.00        44\n",
      "          27       0.50      0.25      0.33        24\n",
      "          28       0.00      0.00      0.00        30\n",
      "          29       0.00      0.00      0.00        15\n",
      "          30       0.00      0.00      0.00        18\n",
      "          31       0.00      0.00      0.00        18\n",
      "          32       0.00      0.00      0.00         5\n",
      "          33       0.00      0.00      0.00         3\n",
      "          34       0.00      0.00      0.00         0\n",
      "          35       0.00      0.00      0.00         4\n",
      "          36       0.00      0.00      0.00         4\n",
      "          37       0.00      0.00      0.00         0\n",
      "          38       0.00      0.00      0.00         0\n",
      "          39       0.00      0.00      0.00         0\n",
      "\n",
      "   micro avg       0.79      0.79      0.79     12966\n",
      "   macro avg       0.52      0.50      0.51     12966\n",
      "weighted avg       0.78      0.79      0.79     12966\n",
      "\n",
      "[[1699  152   50 ...    0    0    0]\n",
      " [ 124 1138    9 ...    0    0    0]\n",
      " [  42   21 1304 ...    0    0    0]\n",
      " ...\n",
      " [   0    0    0 ...    0    0    0]\n",
      " [   0    0    0 ...    0    0    0]\n",
      " [   0    0    0 ...    0    0    0]]\n"
     ]
    },
    {
     "data": {
      "image/png": "[encoded data removed]",
      "text/plain": [
       "<Figure size 720x504 with 2 Axes>"
      ]
     },
     "metadata": {
      "needs_background": "light"
     },
     "output_type": "display_data"
    }
   ],
   "source": [
    "evaluate(y_test, predictions_doubleLSTM, tag_tokenizer.index_word)"
   ]
  },
  {
   "cell_type": "markdown",
   "metadata": {},
   "source": [
    "### Double dense model"
   ]
  },
  {
   "cell_type": "markdown",
   "metadata": {},
   "source": [
    "#### Load model"
   ]
  },
  {
   "cell_type": "code",
   "execution_count": null,
   "metadata": {},
   "outputs": [
    {
     "name": "stderr",
     "output_type": "stream",
     "text": [
      "2021-12-07 13:34:10.913255: W tensorflow/core/common_runtime/graph_constructor.cc:803] Node 'cond/while' has 14 outputs but the _output_shapes attribute specifies shapes for 48 outputs. Output shapes may be inaccurate.\n",
      "2021-12-07 13:34:11.019533: W tensorflow/core/common_runtime/graph_constructor.cc:803] Node 'cond/while' has 14 outputs but the _output_shapes attribute specifies shapes for 48 outputs. Output shapes may be inaccurate.\n",
      "2021-12-07 13:34:11.075631: W tensorflow/core/common_runtime/graph_constructor.cc:803] Node 'cond' has 5 outputs but the _output_shapes attribute specifies shapes for 48 outputs. Output shapes may be inaccurate.\n",
      "2021-12-07 13:34:11.651194: W tensorflow/core/common_runtime/graph_constructor.cc:803] Node 'cond/while' has 14 outputs but the _output_shapes attribute specifies shapes for 48 outputs. Output shapes may be inaccurate.\n",
      "2021-12-07 13:34:12.782891: W tensorflow/core/common_runtime/graph_constructor.cc:803] Node 'cond/while' has 14 outputs but the _output_shapes attribute specifies shapes for 48 outputs. Output shapes may be inaccurate.\n",
      "2021-12-07 13:34:12.870910: W tensorflow/core/common_runtime/graph_constructor.cc:803] Node 'cond' has 5 outputs but the _output_shapes attribute specifies shapes for 48 outputs. Output shapes may be inaccurate.\n",
      "2021-12-07 13:34:14.107181: W tensorflow/core/common_runtime/graph_constructor.cc:803] Node 'cond' has 5 outputs but the _output_shapes attribute specifies shapes for 48 outputs. Output shapes may be inaccurate.\n",
      "2021-12-07 13:34:14.887098: W tensorflow/core/common_runtime/graph_constructor.cc:803] Node 'cond/while' has 14 outputs but the _output_shapes attribute specifies shapes for 48 outputs. Output shapes may be inaccurate.\n",
      "2021-12-07 13:34:14.906990: W tensorflow/core/common_runtime/graph_constructor.cc:803] Node 'cond' has 5 outputs but the _output_shapes attribute specifies shapes for 48 outputs. Output shapes may be inaccurate.\n",
      "2021-12-07 13:34:15.123462: W tensorflow/core/common_runtime/graph_constructor.cc:803] Node 'cond/while' has 14 outputs but the _output_shapes attribute specifies shapes for 48 outputs. Output shapes may be inaccurate.\n",
      "2021-12-07 13:34:15.153735: W tensorflow/core/common_runtime/graph_constructor.cc:803] Node 'cond' has 5 outputs but the _output_shapes attribute specifies shapes for 48 outputs. Output shapes may be inaccurate.\n",
      "2021-12-07 13:34:15.183342: W tensorflow/core/common_runtime/graph_constructor.cc:803] Node 'cond/while' has 14 outputs but the _output_shapes attribute specifies shapes for 48 outputs. Output shapes may be inaccurate.\n",
      "2021-12-07 13:34:15.200213: W tensorflow/core/common_runtime/graph_constructor.cc:803] Node 'cond' has 5 outputs but the _output_shapes attribute specifies shapes for 48 outputs. Output shapes may be inaccurate.\n",
      "2021-12-07 13:34:15.350240: W tensorflow/core/common_runtime/graph_constructor.cc:803] Node 'cond/while' has 14 outputs but the _output_shapes attribute specifies shapes for 48 outputs. Output shapes may be inaccurate.\n",
      "2021-12-07 13:34:15.366466: W tensorflow/core/common_runtime/graph_constructor.cc:803] Node 'cond' has 5 outputs but the _output_shapes attribute specifies shapes for 48 outputs. Output shapes may be inaccurate.\n",
      "2021-12-07 13:34:15.384816: W tensorflow/core/common_runtime/graph_constructor.cc:803] Node 'cond/while' has 14 outputs but the _output_shapes attribute specifies shapes for 48 outputs. Output shapes may be inaccurate.\n",
      "2021-12-07 13:34:15.400588: W tensorflow/core/common_runtime/graph_constructor.cc:803] Node 'cond' has 5 outputs but the _output_shapes attribute specifies shapes for 48 outputs. Output shapes may be inaccurate.\n",
      "2021-12-07 13:34:16.502617: W tensorflow/core/common_runtime/graph_constructor.cc:803] Node 'cond' has 5 outputs but the _output_shapes attribute specifies shapes for 48 outputs. Output shapes may be inaccurate.\n",
      "2021-12-07 13:34:19.102699: W tensorflow/core/common_runtime/graph_constructor.cc:803] Node 'cond/while' has 14 outputs but the _output_shapes attribute specifies shapes for 48 outputs. Output shapes may be inaccurate.\n",
      "2021-12-07 13:34:19.129111: W tensorflow/core/common_runtime/graph_constructor.cc:803] Node 'cond' has 5 outputs but the _output_shapes attribute specifies shapes for 48 outputs. Output shapes may be inaccurate.\n",
      "2021-12-07 13:34:19.790558: W tensorflow/core/common_runtime/graph_constructor.cc:803] Node 'cond/while' has 14 outputs but the _output_shapes attribute specifies shapes for 48 outputs. Output shapes may be inaccurate.\n",
      "2021-12-07 13:34:19.834153: W tensorflow/core/common_runtime/graph_constructor.cc:803] Node 'cond' has 5 outputs but the _output_shapes attribute specifies shapes for 48 outputs. Output shapes may be inaccurate.\n",
      "2021-12-07 13:34:20.908057: W tensorflow/core/common_runtime/graph_constructor.cc:803] Node 'cond/while' has 14 outputs but the _output_shapes attribute specifies shapes for 48 outputs. Output shapes may be inaccurate.\n",
      "2021-12-07 13:34:20.942342: W tensorflow/core/common_runtime/graph_constructor.cc:803] Node 'cond' has 5 outputs but the _output_shapes attribute specifies shapes for 48 outputs. Output shapes may be inaccurate.\n",
      "2021-12-07 13:34:21.147109: W tensorflow/core/common_runtime/graph_constructor.cc:803] Node 'cond/while' has 14 outputs but the _output_shapes attribute specifies shapes for 48 outputs. Output shapes may be inaccurate.\n",
      "2021-12-07 13:34:21.190003: W tensorflow/core/common_runtime/graph_constructor.cc:803] Node 'cond' has 5 outputs but the _output_shapes attribute specifies shapes for 48 outputs. Output shapes may be inaccurate.\n",
      "2021-12-07 13:34:21.582385: W tensorflow/core/common_runtime/graph_constructor.cc:803] Node 'cond/while' has 14 outputs but the _output_shapes attribute specifies shapes for 48 outputs. Output shapes may be inaccurate.\n",
      "2021-12-07 13:34:21.616720: W tensorflow/core/common_runtime/graph_constructor.cc:803] Node 'cond' has 5 outputs but the _output_shapes attribute specifies shapes for 48 outputs. Output shapes may be inaccurate.\n"
     ]
    }
   ],
   "source": [
    "doubleDense_model = keras.models.load_model('models/model_doubleDense_model_06_12_2021_11:57:39')"
   ]
  },
  {
   "cell_type": "markdown",
   "metadata": {},
   "source": [
    "#### Calculate predicitons for test set"
   ]
  },
  {
   "cell_type": "code",
   "execution_count": null,
   "metadata": {},
   "outputs": [],
   "source": [
    "predictions_doubleDense = predict(doubleDense_model, x_test, {'batch_size': BATCH_SIZE})"
   ]
  },
  {
   "cell_type": "markdown",
   "metadata": {},
   "source": [
    "#### Evaluate model\n",
    "Evaluate how well the models predicitons for the test set where"
   ]
  },
  {
   "cell_type": "code",
   "execution_count": null,
   "metadata": {},
   "outputs": [
    {
     "name": "stdout",
     "output_type": "stream",
     "text": [
      "ACCURACY: 0.791\n",
      "PRECISION: 0.788\n",
      "RECALL: 0.791\n",
      "F1: 0.789\n",
      "              precision    recall  f1-score   support\n",
      "\n",
      "           1       0.76      0.76      0.76      2207\n",
      "           2       0.74      0.80      0.77      1368\n",
      "           3       0.89      0.85      0.87      1521\n",
      "           4       0.94      0.91      0.92      1260\n",
      "           5       0.81      0.79      0.80       886\n",
      "           6       0.62      0.64      0.63       859\n",
      "           7       0.80      0.81      0.80       600\n",
      "           8       0.63      0.77      0.69       357\n",
      "           9       0.81      0.86      0.83       791\n",
      "          10       0.81      0.87      0.84       383\n",
      "          11       0.91      0.82      0.86       334\n",
      "          12       0.83      0.84      0.84       258\n",
      "          13       0.68      0.59      0.63       331\n",
      "          14       0.94      0.90      0.92       361\n",
      "          15       0.93      0.93      0.93       181\n",
      "          16       0.47      0.39      0.43       209\n",
      "          17       0.76      0.77      0.77       123\n",
      "          18       0.88      0.88      0.88        96\n",
      "          19       0.90      0.91      0.90       156\n",
      "          20       0.83      0.83      0.83       143\n",
      "          21       0.84      0.73      0.78       191\n",
      "          22       0.87      0.91      0.89        81\n",
      "          23       0.42      0.41      0.41        54\n",
      "          24       0.60      0.83      0.70        18\n",
      "          25       0.47      0.64      0.54        33\n",
      "          26       0.00      0.00      0.00        44\n",
      "          27       0.00      0.00      0.00        24\n",
      "          28       0.00      0.00      0.00        30\n",
      "          29       0.36      0.27      0.31        15\n",
      "          30       0.61      0.78      0.68        18\n",
      "          31       0.35      0.78      0.48        18\n",
      "          32       0.56      1.00      0.71         5\n",
      "          33       0.00      0.00      0.00         3\n",
      "          34       0.00      0.00      0.00         0\n",
      "          35       0.00      0.00      0.00         4\n",
      "          36       0.00      0.00      0.00         4\n",
      "          37       0.00      0.00      0.00         0\n",
      "          38       0.00      0.00      0.00         0\n",
      "          39       0.00      0.00      0.00         0\n",
      "\n",
      "   micro avg       0.79      0.79      0.79     12966\n",
      "   macro avg       0.54      0.57      0.55     12966\n",
      "weighted avg       0.79      0.79      0.79     12966\n",
      "\n",
      "[[1688  141   57 ...    0    0    0]\n",
      " [ 125 1101    6 ...    0    0    0]\n",
      " [  35   23 1297 ...    0    0    0]\n",
      " ...\n",
      " [   0    0    0 ...    0    0    0]\n",
      " [   0    0    0 ...    0    0    0]\n",
      " [   0    0    0 ...    0    0    0]]\n"
     ]
    },
    {
     "data": {
      "image/png": "[encoded data removed]",
      "text/plain": [
       "<Figure size 720x504 with 2 Axes>"
      ]
     },
     "metadata": {
      "needs_background": "light"
     },
     "output_type": "display_data"
    }
   ],
   "source": [
    "evaluate(y_test, predictions_doubleDense, tag_tokenizer.index_word)"
   ]
  },
  {
   "cell_type": "code",
   "execution_count": null,
   "metadata": {},
   "outputs": [],
   "source": []
  }
 ],
 "metadata": {
  "interpreter": {
   "hash": "31f2aee4e71d21fbe5cf8b01ff0e069b9275f58929596ceb00d14d90e3e16cd6"
  },
  "kernelspec": {
   "display_name": "Python 3.8.2 64-bit",
   "name": "python3"
  },
  "language_info": {
   "codemirror_mode": {
    "name": "ipython",
    "version": 3
   },
   "file_extension": ".py",
   "mimetype": "text/x-python",
   "name": "python",
   "nbconvert_exporter": "python",
   "pygments_lexer": "ipython3",
   "version": "3.8.2"
  }
 },
 "nbformat": 4,
 "nbformat_minor": 2
}
