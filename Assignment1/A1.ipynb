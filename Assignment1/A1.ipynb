{
 "cells": [
  {
   "cell_type": "markdown",
   "metadata": {},
   "source": [
    "# Part-of-speech tagging"
   ]
  },
  {
   "cell_type": "markdown",
   "metadata": {},
   "source": [
    "### Import libraries"
   ]
  },
  {
   "cell_type": "code",
   "execution_count": 47,
   "metadata": {},
   "outputs": [],
   "source": [
    "import os\n"
   ]
  },
  {
   "cell_type": "markdown",
   "metadata": {},
   "source": [
    "### Download dataste"
   ]
  },
  {
   "cell_type": "code",
   "execution_count": 48,
   "metadata": {},
   "outputs": [
    {
     "name": "stdout",
     "output_type": "stream",
     "text": [
      "Successful extraction\n"
     ]
    }
   ],
   "source": [
    "import urllib.request  #  download files\n",
    "import zipfile  #  unzip files\n",
    "\n",
    "dataset_folder = os.path.join(os.getcwd(), \"OriginalDataset\")\n",
    "\n",
    "if not os.path.exists(dataset_folder):\n",
    "    os.makedirs(dataset_folder)\n",
    "\n",
    "url = 'https://raw.githubusercontent.com/nltk/nltk_data/gh-pages/packages/corpora/dependency_treebank.zip'\n",
    "\n",
    "dataset_path = os.path.join(dataset_folder, \"dependency_treebank.zip\")\n",
    "\n",
    "if not os.path.exists(dataset_path):\n",
    "    urllib.request.urlretrieve(url, dataset_path)\n",
    "    print(\"Successful download\")\n",
    "\n",
    "with zipfile.ZipFile(dataset_path,\"r\") as zip_ref:\n",
    "    zip_ref.extractall(dataset_folder)\n",
    "print(\"Successful extraction\")"
   ]
  },
  {
   "cell_type": "markdown",
   "metadata": {},
   "source": [
    "### Split dataset"
   ]
  },
  {
   "cell_type": "code",
   "execution_count": 49,
   "metadata": {},
   "outputs": [],
   "source": [
    "train_path = './Dataset/train/'# Should we use: os.path.join(os.getcwd(), \"OriginalDataset\")\n",
    "val_path = './Dataset/val/'\n",
    "test_path = './Dataset/test/'\n",
    "original_path = dataset_folder +'/dependency_treebank/'"
   ]
  },
  {
   "cell_type": "code",
   "execution_count": 50,
   "metadata": {},
   "outputs": [
    {
     "name": "stdout",
     "output_type": "stream",
     "text": [
      "making directory\n"
     ]
    }
   ],
   "source": [
    "if not os.path.exists(train_path):\n",
    "    print(\"making directory\")\n",
    "    os.makedirs(train_path)\n",
    "if not os.path.exists(val_path):\n",
    "    os.makedirs(val_path)\n",
    "if not os.path.exists(test_path):\n",
    "    os.makedirs(test_path)"
   ]
  },
  {
   "cell_type": "code",
   "execution_count": 51,
   "metadata": {},
   "outputs": [
    {
     "name": "stdout",
     "output_type": "stream",
     "text": [
      "['wsj_0095.dp', 'wsj_0184.dp', 'wsj_0177.dp', 'wsj_0037.dp', 'wsj_0126.dp', 'wsj_0066.dp', 'wsj_0052.dp', 'wsj_0112.dp', 'wsj_0003.dp', 'wsj_0143.dp', 'wsj_0153.dp', 'wsj_0013.dp', 'wsj_0102.dp', 'wsj_0042.dp', 'wsj_0076.dp', 'wsj_0136.dp', 'wsj_0027.dp', 'wsj_0167.dp', 'wsj_0194.dp', 'wsj_0085.dp', 'wsj_0007.dp', 'wsj_0147.dp', 'wsj_0056.dp', 'wsj_0116.dp', 'wsj_0180.dp', 'wsj_0091.dp', 'wsj_0122.dp', 'wsj_0062.dp', 'wsj_0173.dp', 'wsj_0033.dp', 'wsj_0023.dp', 'wsj_0163.dp', 'wsj_0072.dp', 'wsj_0132.dp', 'wsj_0081.dp', 'wsj_0190.dp', 'wsj_0106.dp', 'wsj_0046.dp', 'wsj_0157.dp', 'wsj_0017.dp', 'wsj_0006.dp', 'wsj_0146.dp', 'wsj_0057.dp', 'wsj_0117.dp', 'wsj_0181.dp', 'wsj_0090.dp', 'wsj_0123.dp', 'wsj_0063.dp', 'wsj_0172.dp', 'wsj_0032.dp', 'wsj_0022.dp', 'wsj_0162.dp', 'wsj_0073.dp', 'wsj_0133.dp', 'wsj_0080.dp', 'wsj_0191.dp', 'wsj_0107.dp', 'wsj_0047.dp', 'wsj_0156.dp', 'wsj_0016.dp', 'wsj_0094.dp', 'wsj_0185.dp', 'wsj_0176.dp', 'wsj_0036.dp', 'wsj_0127.dp', 'wsj_0067.dp', 'wsj_0053.dp', 'wsj_0113.dp', 'wsj_0002.dp', 'wsj_0142.dp', 'wsj_0152.dp', 'wsj_0012.dp', 'wsj_0103.dp', 'wsj_0043.dp', 'wsj_0077.dp', 'wsj_0137.dp', 'wsj_0026.dp', 'wsj_0166.dp', 'wsj_0195.dp', 'wsj_0084.dp', 'wsj_0058.dp', 'wsj_0118.dp', 'wsj_0009.dp', 'wsj_0149.dp', 'wsj_0159.dp', 'wsj_0019.dp', 'wsj_0108.dp', 'wsj_0048.dp', 'wsj_0128.dp', 'wsj_0068.dp', 'wsj_0179.dp', 'wsj_0039.dp', 'wsj_0029.dp', 'wsj_0169.dp', 'wsj_0078.dp', 'wsj_0138.dp', 'wsj_0129.dp', 'wsj_0069.dp', 'wsj_0178.dp', 'wsj_0038.dp', 'wsj_0028.dp', 'wsj_0168.dp', 'wsj_0079.dp', 'wsj_0139.dp', 'wsj_0059.dp', 'wsj_0119.dp', 'wsj_0008.dp', 'wsj_0148.dp', 'wsj_0158.dp', 'wsj_0018.dp', 'wsj_0109.dp', 'wsj_0049.dp', 'wsj_0099.dp', 'wsj_0188.dp', 'wsj_0198.dp', 'wsj_0089.dp', 'wsj_0098.dp', 'wsj_0189.dp', 'wsj_0199.dp', 'wsj_0088.dp', 'wsj_0054.dp', 'wsj_0114.dp', 'wsj_0005.dp', 'wsj_0145.dp', 'wsj_0171.dp', 'wsj_0031.dp', 'wsj_0120.dp', 'wsj_0060.dp', 'wsj_0093.dp', 'wsj_0182.dp', 'wsj_0192.dp', 'wsj_0083.dp', 'wsj_0070.dp', 'wsj_0130.dp', 'wsj_0021.dp', 'wsj_0161.dp', 'wsj_0155.dp', 'wsj_0015.dp', 'wsj_0104.dp', 'wsj_0044.dp', 'wsj_0124.dp', 'wsj_0064.dp', 'wsj_0175.dp', 'wsj_0035.dp', 'wsj_0186.dp', 'wsj_0097.dp', 'wsj_0001.dp', 'wsj_0141.dp', 'wsj_0050.dp', 'wsj_0110.dp', 'wsj_0100.dp', 'wsj_0040.dp', 'wsj_0151.dp', 'wsj_0011.dp', 'wsj_0087.dp', 'wsj_0196.dp', 'wsj_0025.dp', 'wsj_0165.dp', 'wsj_0074.dp', 'wsj_0134.dp', 'wsj_0125.dp', 'wsj_0065.dp', 'wsj_0174.dp', 'wsj_0034.dp', 'wsj_0187.dp', 'wsj_0096.dp', 'wsj_0140.dp', 'wsj_0051.dp', 'wsj_0111.dp', 'wsj_0101.dp', 'wsj_0041.dp', 'wsj_0150.dp', 'wsj_0010.dp', 'wsj_0086.dp', 'wsj_0197.dp', 'wsj_0024.dp', 'wsj_0164.dp', 'wsj_0075.dp', 'wsj_0135.dp', 'wsj_0055.dp', 'wsj_0115.dp', 'wsj_0004.dp', 'wsj_0144.dp', 'wsj_0170.dp', 'wsj_0030.dp', 'wsj_0121.dp', 'wsj_0061.dp', 'wsj_0092.dp', 'wsj_0183.dp', 'wsj_0193.dp', 'wsj_0082.dp', 'wsj_0071.dp', 'wsj_0131.dp', 'wsj_0020.dp', 'wsj_0160.dp', 'wsj_0154.dp', 'wsj_0014.dp', 'wsj_0105.dp', 'wsj_0045.dp']\n"
     ]
    }
   ],
   "source": [
    "original_dataset = os.listdir(original_path)\n",
    "print(original_dataset)"
   ]
  },
  {
   "cell_type": "code",
   "execution_count": 52,
   "metadata": {},
   "outputs": [
    {
     "name": "stdout",
     "output_type": "stream",
     "text": [
      "['wsj_0001.dp', 'wsj_0002.dp', 'wsj_0003.dp', 'wsj_0004.dp', 'wsj_0005.dp', 'wsj_0006.dp', 'wsj_0007.dp', 'wsj_0008.dp', 'wsj_0009.dp', 'wsj_0010.dp', 'wsj_0011.dp', 'wsj_0012.dp', 'wsj_0013.dp', 'wsj_0014.dp', 'wsj_0015.dp', 'wsj_0016.dp', 'wsj_0017.dp', 'wsj_0018.dp', 'wsj_0019.dp', 'wsj_0020.dp', 'wsj_0021.dp', 'wsj_0022.dp', 'wsj_0023.dp', 'wsj_0024.dp', 'wsj_0025.dp', 'wsj_0026.dp', 'wsj_0027.dp', 'wsj_0028.dp', 'wsj_0029.dp', 'wsj_0030.dp', 'wsj_0031.dp', 'wsj_0032.dp', 'wsj_0033.dp', 'wsj_0034.dp', 'wsj_0035.dp', 'wsj_0036.dp', 'wsj_0037.dp', 'wsj_0038.dp', 'wsj_0039.dp', 'wsj_0040.dp', 'wsj_0041.dp', 'wsj_0042.dp', 'wsj_0043.dp', 'wsj_0044.dp', 'wsj_0045.dp', 'wsj_0046.dp', 'wsj_0047.dp', 'wsj_0048.dp', 'wsj_0049.dp', 'wsj_0050.dp', 'wsj_0051.dp', 'wsj_0052.dp', 'wsj_0053.dp', 'wsj_0054.dp', 'wsj_0055.dp', 'wsj_0056.dp', 'wsj_0057.dp', 'wsj_0058.dp', 'wsj_0059.dp', 'wsj_0060.dp', 'wsj_0061.dp', 'wsj_0062.dp', 'wsj_0063.dp', 'wsj_0064.dp', 'wsj_0065.dp', 'wsj_0066.dp', 'wsj_0067.dp', 'wsj_0068.dp', 'wsj_0069.dp', 'wsj_0070.dp', 'wsj_0071.dp', 'wsj_0072.dp', 'wsj_0073.dp', 'wsj_0074.dp', 'wsj_0075.dp', 'wsj_0076.dp', 'wsj_0077.dp', 'wsj_0078.dp', 'wsj_0079.dp', 'wsj_0080.dp', 'wsj_0081.dp', 'wsj_0082.dp', 'wsj_0083.dp', 'wsj_0084.dp', 'wsj_0085.dp', 'wsj_0086.dp', 'wsj_0087.dp', 'wsj_0088.dp', 'wsj_0089.dp', 'wsj_0090.dp', 'wsj_0091.dp', 'wsj_0092.dp', 'wsj_0093.dp', 'wsj_0094.dp', 'wsj_0095.dp', 'wsj_0096.dp', 'wsj_0097.dp', 'wsj_0098.dp', 'wsj_0099.dp', 'wsj_0100.dp']\n",
      "['wsj_0101.dp', 'wsj_0102.dp', 'wsj_0103.dp', 'wsj_0104.dp', 'wsj_0105.dp', 'wsj_0106.dp', 'wsj_0107.dp', 'wsj_0108.dp', 'wsj_0109.dp', 'wsj_0110.dp', 'wsj_0111.dp', 'wsj_0112.dp', 'wsj_0113.dp', 'wsj_0114.dp', 'wsj_0115.dp', 'wsj_0116.dp', 'wsj_0117.dp', 'wsj_0118.dp', 'wsj_0119.dp', 'wsj_0120.dp', 'wsj_0121.dp', 'wsj_0122.dp', 'wsj_0123.dp', 'wsj_0124.dp', 'wsj_0125.dp', 'wsj_0126.dp', 'wsj_0127.dp', 'wsj_0128.dp', 'wsj_0129.dp', 'wsj_0130.dp', 'wsj_0131.dp', 'wsj_0132.dp', 'wsj_0133.dp', 'wsj_0134.dp', 'wsj_0135.dp', 'wsj_0136.dp', 'wsj_0137.dp', 'wsj_0138.dp', 'wsj_0139.dp', 'wsj_0140.dp', 'wsj_0141.dp', 'wsj_0142.dp', 'wsj_0143.dp', 'wsj_0144.dp', 'wsj_0145.dp', 'wsj_0146.dp', 'wsj_0147.dp', 'wsj_0148.dp', 'wsj_0149.dp', 'wsj_0150.dp']\n",
      "['wsj_0151.dp', 'wsj_0152.dp', 'wsj_0153.dp', 'wsj_0154.dp', 'wsj_0155.dp', 'wsj_0156.dp', 'wsj_0157.dp', 'wsj_0158.dp', 'wsj_0159.dp', 'wsj_0160.dp', 'wsj_0161.dp', 'wsj_0162.dp', 'wsj_0163.dp', 'wsj_0164.dp', 'wsj_0165.dp', 'wsj_0166.dp', 'wsj_0167.dp', 'wsj_0168.dp', 'wsj_0169.dp', 'wsj_0170.dp', 'wsj_0171.dp', 'wsj_0172.dp', 'wsj_0173.dp', 'wsj_0174.dp', 'wsj_0175.dp', 'wsj_0176.dp', 'wsj_0177.dp', 'wsj_0178.dp', 'wsj_0179.dp', 'wsj_0180.dp', 'wsj_0181.dp', 'wsj_0182.dp', 'wsj_0183.dp', 'wsj_0184.dp', 'wsj_0185.dp', 'wsj_0186.dp', 'wsj_0187.dp', 'wsj_0188.dp', 'wsj_0189.dp', 'wsj_0190.dp', 'wsj_0191.dp', 'wsj_0192.dp', 'wsj_0193.dp', 'wsj_0194.dp', 'wsj_0195.dp', 'wsj_0196.dp', 'wsj_0197.dp', 'wsj_0198.dp', 'wsj_0199.dp']\n"
     ]
    }
   ],
   "source": [
    "original_dataset.sort()\n",
    "org_train = original_dataset[0:100]\n",
    "org_val = original_dataset[100:150]\n",
    "org_test = original_dataset[150:]\n",
    "\n",
    "print(org_train)\n",
    "print(org_val)\n",
    "print(org_test)\n"
   ]
  },
  {
   "cell_type": "code",
   "execution_count": 53,
   "metadata": {},
   "outputs": [],
   "source": [
    "for f in org_train:\n",
    "    os.rename(original_path+f, train_path+f)\n",
    "for f in org_val:\n",
    "    os.rename(original_path+f, val_path+f)\n",
    "for f in org_test:\n",
    "    os.rename(original_path+f, test_path+f)\n"
   ]
  },
  {
   "cell_type": "code",
   "execution_count": null,
   "metadata": {},
   "outputs": [],
   "source": []
  }
 ],
 "metadata": {
  "interpreter": {
   "hash": "aee8b7b246df8f9039afb4144a1f6fd8d2ca17a180786b69acc140d282b71a49"
  },
  "kernelspec": {
   "display_name": "Python 3.9.4 64-bit",
   "language": "python",
   "name": "python3"
  },
  "language_info": {
   "codemirror_mode": {
    "name": "ipython",
    "version": 3
   },
   "file_extension": ".py",
   "mimetype": "text/x-python",
   "name": "python",
   "nbconvert_exporter": "python",
   "pygments_lexer": "ipython3",
   "version": "3.9.4"
  },
  "orig_nbformat": 4
 },
 "nbformat": 4,
 "nbformat_minor": 2
}
