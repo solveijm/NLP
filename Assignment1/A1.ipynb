{
 "cells": [
  {
   "cell_type": "markdown",
   "metadata": {},
   "source": [
    "# Part-of-speech tagging"
   ]
  },
  {
   "cell_type": "markdown",
   "metadata": {},
   "source": [
    "#### Import libraries"
   ]
  },
  {
   "cell_type": "code",
   "execution_count": 3,
   "metadata": {},
   "outputs": [],
   "source": [
    "from datetime import datetime\n",
    "from functools import reduce\n",
    "from keras.preprocessing.sequence import pad_sequences\n",
    "from keras.preprocessing.text import Tokenizer\n",
    "from keras.utils.np_utils import to_categorical\n",
    "import matplotlib.pyplot as plt\n",
    "import numpy as np\n",
    "import os\n",
    "import pandas as pd\n",
    "import re\n",
    "import seaborn as sn\n",
    "from sklearn.metrics import accuracy_score, precision_score, recall_score, f1_score, confusion_matrix, classification_report\n",
    "from tensorflow import keras\n",
    "from tensorflow.keras import layers\n",
    "from typing import List, Callable, Dict\n",
    "import urllib.request  #  download files\n",
    "import zipfile  #  unzip files"
   ]
  },
  {
   "cell_type": "markdown",
   "metadata": {},
   "source": [
    "#### Define constant variables"
   ]
  },
  {
   "cell_type": "code",
   "execution_count": 4,
   "metadata": {},
   "outputs": [],
   "source": [
    "train_path = './Dataset/train/'\n",
    "val_path = './Dataset/val/'\n",
    "test_path = './Dataset/test/'\n",
    "dataset_folder = os.path.join(os.getcwd(), \"OriginalDataset\")\n",
    "original_path = dataset_folder +'/dependency_treebank/'\n",
    "\n",
    "embedding_dimension = 50\n"
   ]
  },
  {
   "cell_type": "markdown",
   "metadata": {},
   "source": [
    "## Data pipeline"
   ]
  },
  {
   "cell_type": "markdown",
   "metadata": {},
   "source": [
    "#### Download dataset"
   ]
  },
  {
   "cell_type": "code",
   "execution_count": 5,
   "metadata": {},
   "outputs": [],
   "source": [
    "def download_dataset():\n",
    "    dataset_folder = os.path.join(os.getcwd(), \"OriginalDataset\")\n",
    "\n",
    "    if not os.path.exists(dataset_folder):\n",
    "        os.makedirs(dataset_folder)\n",
    "\n",
    "    url = 'https://raw.githubusercontent.com/nltk/nltk_data/gh-pages/packages/corpora/dependency_treebank.zip'\n",
    "\n",
    "    dataset_path = os.path.join(dataset_folder, \"dependency_treebank.zip\")\n",
    "\n",
    "    if not os.path.exists(dataset_path):\n",
    "        urllib.request.urlretrieve(url, dataset_path)\n",
    "        print(\"Successful download\")\n",
    "\n",
    "    with zipfile.ZipFile(dataset_path,\"r\") as zip_ref:\n",
    "        zip_ref.extractall(dataset_folder)\n",
    "    print(\"Successful extraction\")"
   ]
  },
  {
   "cell_type": "code",
   "execution_count": 6,
   "metadata": {},
   "outputs": [],
   "source": [
    "# Uncomment to download dataset\n",
    "# download_dataset()"
   ]
  },
  {
   "cell_type": "markdown",
   "metadata": {},
   "source": [
    "#### Split dataset"
   ]
  },
  {
   "cell_type": "code",
   "execution_count": 7,
   "metadata": {},
   "outputs": [],
   "source": [
    "def split_dataset(train_path, val_path, test_path, original_path):\n",
    "    if not os.path.exists(train_path):\n",
    "        print(\"making directory\")\n",
    "        os.makedirs(train_path)\n",
    "    if not os.path.exists(val_path):\n",
    "        os.makedirs(val_path)\n",
    "    if not os.path.exists(test_path):\n",
    "        os.makedirs(test_path)\n",
    "\n",
    "    original_dataset = os.listdir(original_path)\n",
    "    \n",
    "    original_dataset.sort()\n",
    "    org_train = original_dataset[0:100]\n",
    "    org_val = original_dataset[100:150]\n",
    "    org_test = original_dataset[150:]\n",
    "\n",
    "    for f in org_train:\n",
    "        os.rename(original_path+f, train_path+f)\n",
    "    for f in org_val:\n",
    "        os.rename(original_path+f, val_path+f)\n",
    "    for f in org_test:\n",
    "        os.rename(original_path+f, test_path+f)\n",
    "    print(\"Successful spilt\")\n",
    "        "
   ]
  },
  {
   "cell_type": "code",
   "execution_count": 8,
   "metadata": {},
   "outputs": [],
   "source": [
    "# Uncomment the following line to split the dataset\n",
    "# split_dataset(train_path, val_path, test_path, original_path)\n"
   ]
  },
  {
   "cell_type": "markdown",
   "metadata": {},
   "source": [
    "#### Create dataframe"
   ]
  },
  {
   "cell_type": "code",
   "execution_count": 9,
   "metadata": {},
   "outputs": [],
   "source": [
    "def create_dataframe(dataset_path: str):\n",
    "    dataframe_rows = []\n",
    "    documents = os.listdir(dataset_path)\n",
    "    for document in documents:\n",
    "        path = os.path.join(dataset_path, document)\n",
    "        with open(path, 'r') as f:\n",
    "            a = [[x for x in ln.split()] for ln in f]\n",
    "        #---------------For splitting on sentence-------------------#\n",
    "        sentence = []\n",
    "        sentence_tag = []\n",
    "        for x in a:\n",
    "            if x!=[]:\n",
    "                sentence.append(x[0])\n",
    "                sentence_tag.append(x[1])\n",
    "            else:\n",
    "                dataframe_row = {\n",
    "                    \"text\": sentence,\n",
    "                    \"POS\": sentence_tag\n",
    "                }\n",
    "                sentence = []\n",
    "                sentence_tag = []\n",
    "                dataframe_rows.append(dataframe_row)\n",
    "        #----------------------------------------------------------#\n",
    "        #------------------To split on document--------------------#\n",
    "        \"\"\"\n",
    "        a2 = [x for x in a if x != []] # OBS! Removing all empty lines in file so we can make an array\n",
    "        arr = np.array(a2)\n",
    "        text = list(arr[:, 0])\n",
    "        tagg = list(arr[:, 1])\n",
    "        #POStuple =  [tagg[x] for x in range(len(text))] #[(text[x], tagg[x]) for x in range(len(text))]\n",
    "        document_id = int(document[4:8])\n",
    "        dataframe_row = {\n",
    "            \"document_id\": document_id,\n",
    "            \"text\": text,\n",
    "            \"POS\": tagg\n",
    "        }\n",
    "        dataframe_rows.append(dataframe_row)\"\"\"\n",
    "        #----------------------------------------------------------#\n",
    "    # transform the list of rows in a proper dataframe\n",
    "    df = pd.DataFrame(dataframe_rows)\n",
    "    df = df[[\"text\", \"POS\"]]\n",
    "\n",
    "    return df"
   ]
  },
  {
   "cell_type": "code",
   "execution_count": 10,
   "metadata": {},
   "outputs": [],
   "source": [
    "df_train = create_dataframe(train_path)\n",
    "df_val = create_dataframe(val_path)\n",
    "df_test = create_dataframe(test_path)"
   ]
  },
  {
   "cell_type": "markdown",
   "metadata": {},
   "source": [
    "## Clean and transform data"
   ]
  },
  {
   "cell_type": "markdown",
   "metadata": {},
   "source": [
    "#### Clean text in data frame\n",
    "We remove uncommon symbols and special characters and make all text to lower case."
   ]
  },
  {
   "cell_type": "code",
   "execution_count": 11,
   "metadata": {},
   "outputs": [],
   "source": [
    "REPLACE_BY_SPACE_RE = re.compile(\"[/(){}\\[\\]\\|@,;]\")\n",
    "GOOD_SYMBOLS_RE = re.compile(\"[^0-9a-z #+_$]\")\n",
    "\n",
    "def lower(text: str) -> str:\n",
    "    \"\"\"\n",
    "    Transforms given text to lower case.\n",
    "    Example:\n",
    "    Input: 'I really like New York city'\n",
    "    Output: 'i really like new your city'\n",
    "    \"\"\"\n",
    "\n",
    "    return text.lower()\n",
    "\n",
    "def remove_special_characters(text: str) -> str:\n",
    "    \"\"\"\n",
    "    Replaces special characters, such as paranthesis,\n",
    "    with spacing character\n",
    "    \"\"\"\n",
    "\n",
    "    return REPLACE_BY_SPACE_RE.sub('', text)\n",
    "\n",
    "def filter_out_uncommon_symbols(text: str) -> str:\n",
    "    \"\"\"\n",
    "    Removes any special character that is not in the\n",
    "    good symbols list (check regular expression)\n",
    "    \"\"\"\n",
    "\n",
    "    return GOOD_SYMBOLS_RE.sub('', text)\n",
    "\n",
    "PREPROCESSING_PIPELINE = [\n",
    "                          lower,\n",
    "                          remove_special_characters,\n",
    "                          filter_out_uncommon_symbols,\n",
    "                          ]\n",
    "\n",
    "def text_prepare(text,\n",
    "                 filter_methods: List[Callable[[str], str]] = None) -> str:\n",
    "    \"\"\"\n",
    "    Applies a list of pre-processing functions in sequence (reduce).\n",
    "    Note that the order is important here!\n",
    "    \"\"\"\n",
    "\n",
    "    filter_methods = filter_methods if filter_methods is not None else PREPROCESSING_PIPELINE\n",
    "\n",
    "    new_row = [reduce(lambda txt, f: f(txt), filter_methods, x) for x in text]\n",
    "    return [x for x in new_row if x!='']\n",
    "\n",
    "\n",
    "# Replace each sentence with its pre-processed version\n",
    "df_train['text'] = df_train['text'].apply(lambda txt: text_prepare(txt))\n",
    "df_train['POS'] = df_train['POS'].apply(lambda txt: text_prepare(txt))\n",
    "df_val['text'] = df_val['text'].apply(lambda txt: text_prepare(txt))\n",
    "df_val['POS'] = df_val['POS'].apply(lambda txt: text_prepare(txt))\n",
    "df_test['text'] = df_test['text'].apply(lambda txt: text_prepare(txt))\n",
    "df_test['POS'] = df_test['POS'].apply(lambda txt: text_prepare(txt))"
   ]
  },
  {
   "cell_type": "markdown",
   "metadata": {},
   "source": [
    "### Embed the words using GloVe embedding"
   ]
  },
  {
   "cell_type": "markdown",
   "metadata": {},
   "source": [
    "#### Load glove model"
   ]
  },
  {
   "cell_type": "code",
   "execution_count": 12,
   "metadata": {},
   "outputs": [],
   "source": [
    "import gensim\n",
    "import gensim.downloader as gloader\n",
    "\n",
    "def load_embedding_model(embedding_dimension: int = 50) -> gensim.models.keyedvectors.KeyedVectors:\n",
    "    download_path = \"glove-wiki-gigaword-{}\".format(embedding_dimension)\n",
    "    # Check download\n",
    "    try:\n",
    "        emb_model = gloader.load(download_path)\n",
    "    except ValueError as e:\n",
    "        print(\"Invalid embedding model name! Check the embedding dimension:\")\n",
    "        print(\"Word2Vec: 300\")\n",
    "        print(\"Glove: 50, 100, 200, 300\")\n",
    "        raise e\n",
    "\n",
    "    return emb_model"
   ]
  },
  {
   "cell_type": "code",
   "execution_count": 13,
   "metadata": {},
   "outputs": [],
   "source": [
    "embedding_model = load_embedding_model(embedding_dimension)"
   ]
  },
  {
   "cell_type": "markdown",
   "metadata": {},
   "source": [
    "#### Tokenize data\n",
    "We tokenize the data by using the keras tokenizer"
   ]
  },
  {
   "cell_type": "code",
   "execution_count": 14,
   "metadata": {},
   "outputs": [],
   "source": [
    "def make_tokenizer(*vocabulary):\n",
    "    # We do not want to remove the $ since this is part of some tags in POS tagging,\n",
    "    # so we define the filter to not include $\n",
    "    tokenizer = Tokenizer(filters='!\"#%&()*+,-./:;<=>?@[\\\\]^_`{|}~\\t\\n')\n",
    "\n",
    "    for v in vocabulary:\n",
    "        v2 = sum(v.to_numpy().flatten(), [])\n",
    "        tokenizer.fit_on_texts(v2)\n",
    "    return tokenizer \n"
   ]
  },
  {
   "cell_type": "code",
   "execution_count": 15,
   "metadata": {},
   "outputs": [],
   "source": [
    "# Create tokenizer for all the words in the vocabulary\n",
    "# Since in this case, where we already have all the documents, \n",
    "# and we can make a word index for every word in the vocabulary.\n",
    "word_tokenizer = make_tokenizer(df_train[\"text\"], df_val[\"text\"], df_test[\"text\"])\n",
    "\n",
    "# Create tokenizer for all the tags\n",
    "tag_tokenizer = make_tokenizer(df_train[\"POS\"])"
   ]
  },
  {
   "cell_type": "code",
   "execution_count": 16,
   "metadata": {},
   "outputs": [],
   "source": [
    "# Get size of word vocabulary and tag vocabulary\n",
    "VOCABULARY_SIZE = len(word_tokenizer.word_index) + 1\n",
    "TAG_VOCABULARY_SIZE = len(tag_tokenizer.word_index) + 1"
   ]
  },
  {
   "cell_type": "markdown",
   "metadata": {},
   "source": [
    "#### Encode text (x) and tags (y)\n",
    "We use the tokenizer to encode the text to the words their corresponding indices"
   ]
  },
  {
   "cell_type": "code",
   "execution_count": 17,
   "metadata": {},
   "outputs": [],
   "source": [
    "# Encode train data\n",
    "x_encoded_train = word_tokenizer.texts_to_sequences(df_train[\"text\"])\n",
    "y_encoded_train = tag_tokenizer.texts_to_sequences(df_train[\"POS\"])\n",
    "\n",
    "# Encode validation data\n",
    "x_encoded_val = word_tokenizer.texts_to_sequences(df_val[\"text\"])\n",
    "y_encoded_val = tag_tokenizer.texts_to_sequences(df_val[\"POS\"])\n",
    "\n",
    "# Encode test data\n",
    "x_encoded_test = word_tokenizer.texts_to_sequences(df_test[\"text\"])\n",
    "y_encoded_test = tag_tokenizer.texts_to_sequences(df_test[\"POS\"])"
   ]
  },
  {
   "cell_type": "markdown",
   "metadata": {},
   "source": [
    "#### Pad encoded sequences\n",
    "The sequences needs to have the same length when they are sendt into the model. We therefore post-pad the sequences with zeros. "
   ]
  },
  {
   "cell_type": "code",
   "execution_count": 18,
   "metadata": {},
   "outputs": [],
   "source": [
    "def find_max_length(seqs):\n",
    "    \"\"\"\n",
    "    Funciton for finding the maximum length of a sequence.\n",
    "    This is used for padding the sequences\n",
    "    \"\"\"\n",
    "    max_len = 0\n",
    "    for seq in seqs:\n",
    "        if len(seq) > max_len:\n",
    "            max_len = len(seq)\n",
    "    return max_len\n",
    "\n",
    "# Get max sequence length\n",
    "MAX_LENGTH = find_max_length(x_encoded_train)"
   ]
  },
  {
   "cell_type": "code",
   "execution_count": 19,
   "metadata": {},
   "outputs": [],
   "source": [
    "def pad_idx_seqs(idx_seqs, max_seq_len):\n",
    "    # Keras provides a convenient padding function; \n",
    "    padded_idxs = pad_sequences(sequences=idx_seqs, maxlen=max_seq_len, padding=\"post\")\n",
    "    return padded_idxs"
   ]
  },
  {
   "cell_type": "code",
   "execution_count": 20,
   "metadata": {},
   "outputs": [],
   "source": [
    "# Pad train data\n",
    "x_padded_train = pad_idx_seqs(x_encoded_train, MAX_LENGTH)\n",
    "y_padded_train = pad_idx_seqs(y_encoded_train, MAX_LENGTH)\n",
    "\n",
    "# Pad validation data\n",
    "x_padded_val = pad_idx_seqs(x_encoded_val, MAX_LENGTH)\n",
    "y_padded_val = pad_idx_seqs(y_encoded_val, MAX_LENGTH)\n",
    "\n",
    "# Pad test data\n",
    "x_padded_test = pad_idx_seqs(x_encoded_test, MAX_LENGTH)\n",
    "y_padded_test = pad_idx_seqs(y_encoded_test, MAX_LENGTH)"
   ]
  },
  {
   "cell_type": "markdown",
   "metadata": {},
   "source": [
    "#### Create embedding matrix\n",
    "We use the pretrained glove model to create the embedding matrix.\n",
    "If there are any OOV we create a random embedding vector. "
   ]
  },
  {
   "cell_type": "code",
   "execution_count": 21,
   "metadata": {},
   "outputs": [],
   "source": [
    "def create_embedding_matrix(embedding_model, embedding_dimension, VOCABULARY_SIZE, word_to_idx):\n",
    "    embedding_matrix = np.zeros((VOCABULARY_SIZE, embedding_dimension), dtype=np.float32)\n",
    "    for word, idx in word_to_idx.items():\n",
    "        try:\n",
    "            embedding_vector = embedding_model[word]\n",
    "        except (KeyError, TypeError):\n",
    "            embedding_vector = np.random.uniform(low=-0.05, high=0.05, size=embedding_dimension)\n",
    "\n",
    "        embedding_matrix[idx] = embedding_vector\n",
    "                                \n",
    "    return embedding_matrix                             "
   ]
  },
  {
   "cell_type": "code",
   "execution_count": 22,
   "metadata": {},
   "outputs": [],
   "source": [
    "embedding_matrix = create_embedding_matrix(embedding_model, embedding_dimension, VOCABULARY_SIZE, word_tokenizer.word_index)"
   ]
  },
  {
   "cell_type": "markdown",
   "metadata": {},
   "source": [
    "#### Define x and y parameters\n",
    "Y parameters must be converted from array of labeled data(from 0 to nb_classes - 1 ) to one-hot vector. \n",
    "This is done with the Keras to_categorical function"
   ]
  },
  {
   "cell_type": "code",
   "execution_count": 23,
   "metadata": {},
   "outputs": [],
   "source": [
    "# Train data\n",
    "x_train = x_padded_train\n",
    "y_train = to_categorical(y_padded_train)\n",
    "\n",
    "# Validation data\n",
    "x_val = x_padded_val\n",
    "y_val = to_categorical(y_padded_val, num_classes=TAG_VOCABULARY_SIZE)\n",
    "\n",
    "# Test data\n",
    "x_test = x_padded_test\n",
    "# y_test is only used for predictions, and should therefore not be one hot encoded.\n",
    "y_test = y_padded_test  "
   ]
  },
  {
   "cell_type": "markdown",
   "metadata": {},
   "source": [
    "### Define functions for testing and evaluate the models"
   ]
  },
  {
   "cell_type": "markdown",
   "metadata": {},
   "source": [
    "#### Define plotting functions"
   ]
  },
  {
   "cell_type": "code",
   "execution_count": 34,
   "metadata": {},
   "outputs": [],
   "source": [
    "def plot_accuracy(model_callback, model_name='baseline_model'):\n",
    "    plt.plot(model_callback.history['acc'])\n",
    "    plt.plot(model_callback.history['val_acc'])\n",
    "    plt.title(f'{model_name} accuracy')\n",
    "    plt.ylabel('accuracy')\n",
    "    plt.xlabel('epoch')\n",
    "    plt.legend(['train', 'val'], loc=\"lower right\")\n",
    "    plt.show()\n",
    "    \n",
    "def plot_loss(model_callback, model_name='baseline_model'):\n",
    "    plt.plot(model_callback.history['loss'])\n",
    "    plt.plot(model_callback.history['val_loss'])\n",
    "    plt.title(f'{model_name} loss')\n",
    "    plt.ylabel('loss')\n",
    "    plt.xlabel('epoch')\n",
    "    plt.legend(['train', 'val'], loc=\"lower right\")\n",
    "    plt.show()"
   ]
  },
  {
   "cell_type": "markdown",
   "metadata": {},
   "source": [
    "#### Functions for prediction"
   ]
  },
  {
   "cell_type": "code",
   "execution_count": 25,
   "metadata": {},
   "outputs": [],
   "source": [
    "def predict(model: keras.Model, x, predicting_info):\n",
    "    predictions = model.predict(x, **predicting_info)\n",
    "    return predictions"
   ]
  },
  {
   "cell_type": "markdown",
   "metadata": {},
   "source": [
    "#### Funcions for evaluation "
   ]
  },
  {
   "cell_type": "code",
   "execution_count": 26,
   "metadata": {},
   "outputs": [],
   "source": [
    "def remove_padding(y_test, y_pred_int):\n",
    "    # Remove the padding classifications\n",
    "    all_true_tags = [tag for sent_tags in y_test for tag in sent_tags]\n",
    "    all_pred_tags = [tag for sent_tags in y_pred_int for tag in sent_tags]\n",
    "    \n",
    "    new_true_tags = []\n",
    "    new_pred_tags = []\n",
    "    for i, x in enumerate(all_true_tags):\n",
    "        if x!= 0:\n",
    "            new_true_tags.append(x)\n",
    "            new_pred_tags.append(all_pred_tags[i])\n",
    "\n",
    "    return new_true_tags, new_pred_tags"
   ]
  },
  {
   "cell_type": "code",
   "execution_count": 27,
   "metadata": {},
   "outputs": [],
   "source": [
    "def plot_confusion_matrix(confusion_m, tagIdxList):\n",
    "    # Plot the confusion matrix as a heat map\n",
    "    df_cm = pd.DataFrame(confusion_m, index = tagIdxList,\n",
    "                    columns = tagIdxList)\n",
    "    plt.figure(figsize = (10,7))\n",
    "    sn.heatmap(df_cm, annot=False)"
   ]
  },
  {
   "cell_type": "code",
   "execution_count": 87,
   "metadata": {},
   "outputs": [],
   "source": [
    "def evaluate(y_test, predictions, idx2tag):\n",
    "    \"\"\"\n",
    "        Evaluates the model by computing accuracy, precission, recall and f1 score.\n",
    "        Prints classification report\n",
    "        Calculates and plots confusion_matrix\n",
    "        Inputs:\n",
    "            y_test: ground truth for test set\n",
    "            predicitons: perdicitons calculated by the model\n",
    "            idx2tag: Dicitonary of all tags and corresponding indexes. \n",
    "    \"\"\"\n",
    "    y_pred_int = np.argmax(predictions, axis=2)\n",
    "    new_true_tags, new_pred_tags = remove_padding(y_test, y_pred_int)\n",
    "\n",
    "    accuracy = accuracy_score(y_true=new_true_tags, y_pred=new_pred_tags)\n",
    "    precision = precision_score(y_true=new_true_tags, y_pred=new_pred_tags, average='weighted', zero_division=0)\n",
    "    recall = recall_score(y_true=new_true_tags, y_pred=new_pred_tags, average='weighted', zero_division=0)\n",
    "    f1 = f1_score(y_true=new_true_tags, y_pred=new_pred_tags, average='weighted', zero_division=0)\n",
    "\n",
    "    print(\"ACCURACY: {:.3f}\".format(accuracy))\n",
    "    print(\"PRECISION: {:.3f}\".format(precision))\n",
    "    print(\"RECALL: {:.3f}\".format(recall))\n",
    "    print(\"F1: {:.3f}\".format(f1))\n",
    "    \n",
    "    tags = list(idx2tag.values())\n",
    "    tagIdxList = list(idx2tag.keys())\n",
    "    report = classification_report(new_true_tags, new_pred_tags, labels=tagIdxList, zero_division=0)\n",
    "    print(report)\n",
    "\n",
    "    confusion_m = confusion_matrix(new_true_tags, new_pred_tags, labels=tagIdxList)\n",
    "    print(confusion_m)\n",
    "\n",
    "    plot_confusion_matrix(confusion_m, tags)"
   ]
  },
  {
   "cell_type": "markdown",
   "metadata": {},
   "source": [
    "#### Funciton for saving the models"
   ]
  },
  {
   "cell_type": "code",
   "execution_count": 29,
   "metadata": {},
   "outputs": [],
   "source": [
    "def save_model(model, model_type, dir='models'):\n",
    "    '''\n",
    "        Saves model naming it according to sentence embedding merge type and time stamp.\n",
    "    '''\n",
    "    print('Saving model..')\n",
    "    now = datetime.now()\n",
    "    dt_string = now.strftime(\"%d_%m_%Y_%H:%M:%S\")\n",
    "    model_name = f'model_{model_type}_{dt_string}'\n",
    "    path = f'{dir}/{model_name}'\n",
    "    model.save(path)\n",
    "    print('Successfully saved')"
   ]
  },
  {
   "cell_type": "markdown",
   "metadata": {},
   "source": [
    "## Creating, running and testing the models"
   ]
  },
  {
   "cell_type": "code",
   "execution_count": 38,
   "metadata": {},
   "outputs": [],
   "source": [
    "BATCH_SIZE = 32\n",
    "EPOCHS = 50\n",
    "ACTIVATION = 'softmax'"
   ]
  },
  {
   "cell_type": "markdown",
   "metadata": {},
   "source": [
    "### Baseline model\n",
    "\n",
    "##### two layers architecture: a Bidirectional LSTM layer and a Dense/Fully-Connected layer on top"
   ]
  },
  {
   "cell_type": "markdown",
   "metadata": {},
   "source": [
    "#### Create baseline model"
   ]
  },
  {
   "cell_type": "code",
   "execution_count": 92,
   "metadata": {},
   "outputs": [],
   "source": [
    "def create_baseline_model(units_LSTM, activation):\n",
    "    bidirect_model = keras.Sequential()\n",
    "    bidirect_model.add(layers.Embedding(input_dim = VOCABULARY_SIZE,\n",
    "                                 output_dim    = embedding_dimension,\n",
    "                                 input_length  = find_max_length(x_train),\n",
    "                                 weights       = [embedding_matrix],\n",
    "                                 trainable = False,\n",
    "                                 mask_zero = True\n",
    "                                ))\n",
    "    bidirect_model.add(layers.Bidirectional(layers.LSTM(units_LSTM, return_sequences=True)))\n",
    "    bidirect_model.add(layers.Dense(TAG_VOCABULARY_SIZE, activation=activation))\n",
    "    \n",
    "    return bidirect_model"
   ]
  },
  {
   "cell_type": "code",
   "execution_count": 93,
   "metadata": {},
   "outputs": [
    {
     "name": "stdout",
     "output_type": "stream",
     "text": [
      "Model: \"sequential_7\"\n",
      "_________________________________________________________________\n",
      " Layer (type)                Output Shape              Param #   \n",
      "=================================================================\n",
      " Embedding (Embedding)       (None, 186, 50)           526000    \n",
      "                                                                 \n",
      " bidirectional_8 (Bidirectio  (None, 186, 128)         58880     \n",
      " nal)                                                            \n",
      "                                                                 \n",
      " Dense (Dense)               (None, 186, 40)           5160      \n",
      "                                                                 \n",
      "=================================================================\n",
      "Total params: 590,040\n",
      "Trainable params: 64,040\n",
      "Non-trainable params: 526,000\n",
      "_________________________________________________________________\n"
     ]
    }
   ],
   "source": [
    "baseline_model = create_baseline_model(64, ACTIVATION)\n",
    "baseline_model.summary()"
   ]
  },
  {
   "cell_type": "markdown",
   "metadata": {},
   "source": [
    "#### Train baseline model"
   ]
  },
  {
   "cell_type": "code",
   "execution_count": 94,
   "metadata": {},
   "outputs": [
    {
     "name": "stdout",
     "output_type": "stream",
     "text": [
      "Epoch 1/10\n",
      "59/59 [==============================] - 20s 205ms/step - loss: 0.0027 - mae: 0.0469 - acc: 0.1854 - val_loss: 0.0025 - val_mae: 0.0446 - val_acc: 0.3088\n",
      "Epoch 2/10\n",
      "59/59 [==============================] - 9s 156ms/step - loss: 0.0023 - mae: 0.0419 - acc: 0.3691 - val_loss: 0.0022 - val_mae: 0.0393 - val_acc: 0.4060\n",
      "Epoch 3/10\n",
      "59/59 [==============================] - 10s 163ms/step - loss: 0.0020 - mae: 0.0363 - acc: 0.4645 - val_loss: 0.0019 - val_mae: 0.0342 - val_acc: 0.5011\n",
      "Epoch 4/10\n",
      "59/59 [==============================] - 9s 157ms/step - loss: 0.0017 - mae: 0.0322 - acc: 0.5519 - val_loss: 0.0017 - val_mae: 0.0310 - val_acc: 0.5771\n",
      "Epoch 5/10\n",
      "59/59 [==============================] - 11s 188ms/step - loss: 0.0015 - mae: 0.0288 - acc: 0.6170 - val_loss: 0.0015 - val_mae: 0.0282 - val_acc: 0.6241\n",
      "Epoch 6/10\n",
      "59/59 [==============================] - 11s 191ms/step - loss: 0.0014 - mae: 0.0261 - acc: 0.6591 - val_loss: 0.0014 - val_mae: 0.0258 - val_acc: 0.6466\n",
      "Epoch 7/10\n",
      "59/59 [==============================] - 12s 204ms/step - loss: 0.0013 - mae: 0.0244 - acc: 0.6793 - val_loss: 0.0014 - val_mae: 0.0248 - val_acc: 0.6599\n",
      "Epoch 8/10\n",
      "59/59 [==============================] - 10s 168ms/step - loss: 0.0013 - mae: 0.0233 - acc: 0.6940 - val_loss: 0.0013 - val_mae: 0.0239 - val_acc: 0.6698\n",
      "Epoch 9/10\n",
      "59/59 [==============================] - 10s 169ms/step - loss: 0.0012 - mae: 0.0225 - acc: 0.7064 - val_loss: 0.0013 - val_mae: 0.0233 - val_acc: 0.6785\n",
      "Epoch 10/10\n",
      "59/59 [==============================] - 10s 167ms/step - loss: 0.0012 - mae: 0.0217 - acc: 0.7138 - val_loss: 0.0013 - val_mae: 0.0229 - val_acc: 0.6846\n"
     ]
    },
    {
     "name": "stderr",
     "output_type": "stream",
     "text": [
      "WARNING:absl:Function `_wrapped_model` contains input name(s) Embedding_input with unsupported characters which will be renamed to embedding_input in the SavedModel.\n",
      "WARNING:absl:Found untraced functions such as lstm_cell_16_layer_call_fn, lstm_cell_16_layer_call_and_return_conditional_losses, lstm_cell_17_layer_call_fn, lstm_cell_17_layer_call_and_return_conditional_losses, lstm_cell_16_layer_call_fn while saving (showing 5 of 10). These functions will not be directly callable after loading.\n"
     ]
    },
    {
     "name": "stdout",
     "output_type": "stream",
     "text": [
      "INFO:tensorflow:Assets written to: models/model_baseline_model_02_12_2021_14:55:10/assets\n"
     ]
    },
    {
     "name": "stderr",
     "output_type": "stream",
     "text": [
      "INFO:tensorflow:Assets written to: models/model_baseline_model_02_12_2021_14:55:10/assets\n",
      "WARNING:absl:<keras.layers.recurrent.LSTMCell object at 0x17685fa00> has the same name 'LSTMCell' as a built-in Keras object. Consider renaming <class 'keras.layers.recurrent.LSTMCell'> to avoid naming conflicts when loading with `tf.keras.models.load_model`. If renaming is not possible, pass the object in the `custom_objects` parameter of the load function.\n",
      "WARNING:absl:<keras.layers.recurrent.LSTMCell object at 0x175802040> has the same name 'LSTMCell' as a built-in Keras object. Consider renaming <class 'keras.layers.recurrent.LSTMCell'> to avoid naming conflicts when loading with `tf.keras.models.load_model`. If renaming is not possible, pass the object in the `custom_objects` parameter of the load function.\n"
     ]
    }
   ],
   "source": [
    "baseline_model.compile(loss=\"mse\",\n",
    "              optimizer=\"Adam\",\n",
    "              metrics=['mae', \"acc\"])\n",
    "baseline_training = baseline_model.fit(x=x_train, y=y_train, validation_data=(x_val, y_val), batch_size=BATCH_SIZE,  epochs=EPOCHS)\n",
    "\n",
    "# Save the model when training is finished\n",
    "save_model(baseline_model, 'baseline_model')"
   ]
  },
  {
   "cell_type": "markdown",
   "metadata": {},
   "source": [
    "#### Plot results"
   ]
  },
  {
   "cell_type": "code",
   "execution_count": 95,
   "metadata": {},
   "outputs": [
    {
     "data": {
      "image/png": "[encoded data removed]",
      "text/plain": [
       "<Figure size 432x288 with 1 Axes>"
      ]
     },
     "metadata": {
      "needs_background": "light"
     },
     "output_type": "display_data"
    },
    {
     "data": {
      "image/png": "[encoded data removed]",
      "text/plain": [
       "<Figure size 432x288 with 1 Axes>"
      ]
     },
     "metadata": {
      "needs_background": "light"
     },
     "output_type": "display_data"
    }
   ],
   "source": [
    "plot_accuracy(baseline_training, 'baseline_model')\n",
    "plot_loss(baseline_training, 'baseline_model')"
   ]
  },
  {
   "cell_type": "markdown",
   "metadata": {},
   "source": [
    "#### Calculate predicitons for test set"
   ]
  },
  {
   "cell_type": "code",
   "execution_count": 44,
   "metadata": {},
   "outputs": [],
   "source": [
    "predictions = predict(baseline_model, x_test, {'batch_size': BATCH_SIZE})"
   ]
  },
  {
   "cell_type": "markdown",
   "metadata": {},
   "source": [
    "#### Evaluate model\n",
    "Evaluate how well the models predicitons for the test set where"
   ]
  },
  {
   "cell_type": "code",
   "execution_count": 88,
   "metadata": {},
   "outputs": [
    {
     "name": "stdout",
     "output_type": "stream",
     "text": [
      "ACCURACY: 0.681\n",
      "PRECISION: 0.620\n",
      "RECALL: 0.681\n",
      "F1: 0.648\n",
      "              precision    recall  f1-score   support\n",
      "\n",
      "           1       0.64      0.74      0.69      2207\n",
      "           2       0.67      0.79      0.73      1368\n",
      "           3       0.73      0.85      0.79      1521\n",
      "           4       0.86      0.89      0.88      1260\n",
      "           5       0.65      0.69      0.67       886\n",
      "           6       0.47      0.48      0.48       859\n",
      "           7       0.70      0.63      0.66       600\n",
      "           8       0.47      0.46      0.47       357\n",
      "           9       0.78      0.81      0.79       791\n",
      "          10       0.65      0.86      0.74       383\n",
      "          11       0.76      0.76      0.76       334\n",
      "          12       0.67      0.72      0.70       258\n",
      "          13       0.49      0.48      0.49       331\n",
      "          14       0.78      0.92      0.84       361\n",
      "          15       0.77      0.93      0.84       181\n",
      "          16       0.00      0.00      0.00       209\n",
      "          17       0.51      0.63      0.57       123\n",
      "          18       0.00      0.00      0.00        96\n",
      "          19       0.00      0.00      0.00       156\n",
      "          20       0.00      0.00      0.00       143\n",
      "          21       0.00      0.00      0.00       191\n",
      "          22       0.00      0.00      0.00        81\n",
      "          23       0.00      0.00      0.00        54\n",
      "          24       0.00      0.00      0.00        18\n",
      "          25       0.00      0.00      0.00        33\n",
      "          26       0.00      0.00      0.00        44\n",
      "          27       0.00      0.00      0.00        24\n",
      "          28       0.00      0.00      0.00        30\n",
      "          29       0.00      0.00      0.00        15\n",
      "          30       0.00      0.00      0.00        18\n",
      "          31       0.00      0.00      0.00        18\n",
      "          32       0.00      0.00      0.00         5\n",
      "          33       0.00      0.00      0.00         3\n",
      "          34       0.00      0.00      0.00         0\n",
      "          35       0.00      0.00      0.00         4\n",
      "          36       0.00      0.00      0.00         4\n",
      "          37       0.00      0.00      0.00         0\n",
      "          38       0.00      0.00      0.00         0\n",
      "          39       0.00      0.00      0.00         0\n",
      "\n",
      "   micro avg       0.68      0.68      0.68     12966\n",
      "   macro avg       0.27      0.30      0.28     12966\n",
      "weighted avg       0.62      0.68      0.65     12966\n",
      "\n",
      "[[1624  154   90 ...    0    0    0]\n",
      " [ 156 1077   12 ...    0    0    0]\n",
      " [  38   24 1293 ...    0    0    0]\n",
      " ...\n",
      " [   0    0    0 ...    0    0    0]\n",
      " [   0    0    0 ...    0    0    0]\n",
      " [   0    0    0 ...    0    0    0]]\n"
     ]
    },
    {
     "data": {
      "image/png": "[encoded data removed]",
      "text/plain": [
       "<Figure size 720x504 with 2 Axes>"
      ]
     },
     "metadata": {
      "needs_background": "light"
     },
     "output_type": "display_data"
    }
   ],
   "source": [
    "evaluate(y_test, predictions, tag_tokenizer.index_word)"
   ]
  },
  {
   "cell_type": "markdown",
   "metadata": {},
   "source": [
    "## Other models\n",
    "Experiment doing small modifications to the baseline model"
   ]
  },
  {
   "cell_type": "markdown",
   "metadata": {},
   "source": [
    "### Gru model\n",
    "Uses a GRU instead of the LSTM layer"
   ]
  },
  {
   "cell_type": "markdown",
   "metadata": {},
   "source": [
    "#### Create GRU model"
   ]
  },
  {
   "cell_type": "code",
   "execution_count": 56,
   "metadata": {},
   "outputs": [],
   "source": [
    "def create_gru_model(units_gru, activation):\n",
    "    gru_model = keras.Sequential()\n",
    "    gru_model.add(layers.Embedding(input_dim = VOCABULARY_SIZE,\n",
    "                                 output_dim    = embedding_dimension,\n",
    "                                 input_length  = find_max_length(x_train),\n",
    "                                 weights       = [embedding_matrix],\n",
    "                                 trainable = False,\n",
    "                                 mask_zero = True\n",
    "                                ))\n",
    "    gru_model.add(layers.Bidirectional(layers.GRU(units_gru, return_sequences=True)))\n",
    "    #bidirect_model.add(layers.TimeDistributed(layers.Dense(len(tag_to_idx), activation='softmax')))\n",
    "    gru_model.add(layers.Dense(TAG_VOCABULARY_SIZE, activation=activation))\n",
    "    \n",
    "    return gru_model"
   ]
  },
  {
   "cell_type": "code",
   "execution_count": 57,
   "metadata": {},
   "outputs": [
    {
     "name": "stdout",
     "output_type": "stream",
     "text": [
      "Model: \"sequential_4\"\n",
      "_________________________________________________________________\n",
      " Layer (type)                Output Shape              Param #   \n",
      "=================================================================\n",
      " embedding_4 (Embedding)     (None, 186, 50)           526000    \n",
      "                                                                 \n",
      " bidirectional_4 (Bidirectio  (None, 186, 128)         44544     \n",
      " nal)                                                            \n",
      "                                                                 \n",
      " dense_4 (Dense)             (None, 186, 40)           5160      \n",
      "                                                                 \n",
      "=================================================================\n",
      "Total params: 575,704\n",
      "Trainable params: 49,704\n",
      "Non-trainable params: 526,000\n",
      "_________________________________________________________________\n"
     ]
    }
   ],
   "source": [
    "gru_model = create_gru_model(64, ACTIVATION)\n",
    "gru_model.summary()"
   ]
  },
  {
   "cell_type": "markdown",
   "metadata": {},
   "source": [
    "#### Train gru model"
   ]
  },
  {
   "cell_type": "code",
   "execution_count": 58,
   "metadata": {},
   "outputs": [
    {
     "name": "stdout",
     "output_type": "stream",
     "text": [
      "Epoch 1/10\n",
      "59/59 [==============================] - 22s 239ms/step - loss: 0.0026 - mae: 0.0460 - acc: 0.2121 - val_loss: 0.0023 - val_mae: 0.0421 - val_acc: 0.3586\n",
      "Epoch 2/10\n",
      "59/59 [==============================] - 9s 153ms/step - loss: 0.0021 - mae: 0.0382 - acc: 0.4343 - val_loss: 0.0019 - val_mae: 0.0351 - val_acc: 0.4943\n",
      "Epoch 3/10\n",
      "59/59 [==============================] - 9s 146ms/step - loss: 0.0018 - mae: 0.0322 - acc: 0.5472 - val_loss: 0.0017 - val_mae: 0.0303 - val_acc: 0.5811\n",
      "Epoch 4/10\n",
      "59/59 [==============================] - 10s 166ms/step - loss: 0.0015 - mae: 0.0278 - acc: 0.6235 - val_loss: 0.0015 - val_mae: 0.0270 - val_acc: 0.6264\n",
      "Epoch 5/10\n",
      "59/59 [==============================] - 10s 171ms/step - loss: 0.0014 - mae: 0.0252 - acc: 0.6637 - val_loss: 0.0014 - val_mae: 0.0252 - val_acc: 0.6664\n",
      "Epoch 6/10\n",
      "59/59 [==============================] - 11s 189ms/step - loss: 0.0013 - mae: 0.0233 - acc: 0.6953 - val_loss: 0.0013 - val_mae: 0.0236 - val_acc: 0.6827\n",
      "Epoch 7/10\n",
      "59/59 [==============================] - 8s 140ms/step - loss: 0.0012 - mae: 0.0222 - acc: 0.7092 - val_loss: 0.0013 - val_mae: 0.0227 - val_acc: 0.6915\n",
      "Epoch 8/10\n",
      "59/59 [==============================] - 9s 156ms/step - loss: 0.0012 - mae: 0.0213 - acc: 0.7209 - val_loss: 0.0012 - val_mae: 0.0221 - val_acc: 0.6979\n",
      "Epoch 9/10\n",
      "59/59 [==============================] - 12s 200ms/step - loss: 0.0011 - mae: 0.0206 - acc: 0.7311 - val_loss: 0.0012 - val_mae: 0.0216 - val_acc: 0.7080\n",
      "Epoch 10/10\n",
      "59/59 [==============================] - 11s 190ms/step - loss: 0.0011 - mae: 0.0200 - acc: 0.7412 - val_loss: 0.0012 - val_mae: 0.0210 - val_acc: 0.7177\n"
     ]
    },
    {
     "name": "stderr",
     "output_type": "stream",
     "text": [
      "WARNING:absl:Found untraced functions such as gru_cell_7_layer_call_fn, gru_cell_7_layer_call_and_return_conditional_losses, gru_cell_8_layer_call_fn, gru_cell_8_layer_call_and_return_conditional_losses, gru_cell_7_layer_call_fn while saving (showing 5 of 10). These functions will not be directly callable after loading.\n"
     ]
    },
    {
     "name": "stdout",
     "output_type": "stream",
     "text": [
      "INFO:tensorflow:Assets written to: models/model_gru_model_02_12_2021_14:33:15/assets\n"
     ]
    },
    {
     "name": "stderr",
     "output_type": "stream",
     "text": [
      "INFO:tensorflow:Assets written to: models/model_gru_model_02_12_2021_14:33:15/assets\n",
      "WARNING:absl:<keras.layers.recurrent.GRUCell object at 0x16ef647c0> has the same name 'GRUCell' as a built-in Keras object. Consider renaming <class 'keras.layers.recurrent.GRUCell'> to avoid naming conflicts when loading with `tf.keras.models.load_model`. If renaming is not possible, pass the object in the `custom_objects` parameter of the load function.\n",
      "WARNING:absl:<keras.layers.recurrent.GRUCell object at 0x1714cbe80> has the same name 'GRUCell' as a built-in Keras object. Consider renaming <class 'keras.layers.recurrent.GRUCell'> to avoid naming conflicts when loading with `tf.keras.models.load_model`. If renaming is not possible, pass the object in the `custom_objects` parameter of the load function.\n"
     ]
    }
   ],
   "source": [
    "gru_model.compile(loss=\"mse\",\n",
    "              optimizer=\"Adam\",\n",
    "              metrics=['mae', \"acc\"])\n",
    "gru_training = gru_model.fit(x=x_train, y=y_train, validation_data=(x_val, y_val), batch_size=BATCH_SIZE,  epochs=EPOCHS)\n",
    "\n",
    "# Save the model when training is finished\n",
    "save_model(gru_model, 'gru_model')"
   ]
  },
  {
   "cell_type": "markdown",
   "metadata": {},
   "source": [
    "#### Plot results"
   ]
  },
  {
   "cell_type": "code",
   "execution_count": 59,
   "metadata": {},
   "outputs": [
    {
     "data": {
      "image/png": "[encoded data removed]",
      "text/plain": [
       "<Figure size 432x288 with 1 Axes>"
      ]
     },
     "metadata": {
      "needs_background": "light"
     },
     "output_type": "display_data"
    },
    {
     "data": {
      "image/png": "[encoded data removed]",
      "text/plain": [
       "<Figure size 432x288 with 1 Axes>"
      ]
     },
     "metadata": {
      "needs_background": "light"
     },
     "output_type": "display_data"
    }
   ],
   "source": [
    "plot_accuracy(gru_training)\n",
    "plot_loss(gru_training)"
   ]
  },
  {
   "cell_type": "markdown",
   "metadata": {},
   "source": [
    "#### Calculate predicitons for test set"
   ]
  },
  {
   "cell_type": "code",
   "execution_count": 60,
   "metadata": {},
   "outputs": [],
   "source": [
    "predictions_gru = predict(gru_model, x_test, {'batch_size': BATCH_SIZE})"
   ]
  },
  {
   "cell_type": "markdown",
   "metadata": {},
   "source": [
    "#### Evaluate model\n",
    "Evaluate how well the models predicitons for the test set where"
   ]
  },
  {
   "cell_type": "code",
   "execution_count": 89,
   "metadata": {},
   "outputs": [
    {
     "name": "stdout",
     "output_type": "stream",
     "text": [
      "ACCURACY: 0.724\n",
      "PRECISION: 0.697\n",
      "RECALL: 0.724\n",
      "F1: 0.709\n",
      "              precision    recall  f1-score   support\n",
      "\n",
      "           1       0.69      0.71      0.70      2207\n",
      "           2       0.68      0.81      0.74      1368\n",
      "           3       0.77      0.84      0.80      1521\n",
      "           4       0.88      0.89      0.89      1260\n",
      "           5       0.65      0.75      0.70       886\n",
      "           6       0.53      0.50      0.51       859\n",
      "           7       0.71      0.67      0.69       600\n",
      "           8       0.50      0.52      0.51       357\n",
      "           9       0.84      0.83      0.83       791\n",
      "          10       0.73      0.87      0.79       383\n",
      "          11       0.77      0.76      0.77       334\n",
      "          12       0.83      0.75      0.79       258\n",
      "          13       0.66      0.50      0.57       331\n",
      "          14       0.91      0.92      0.91       361\n",
      "          15       0.78      0.94      0.85       181\n",
      "          16       0.45      0.25      0.32       209\n",
      "          17       0.66      0.63      0.64       123\n",
      "          18       0.00      0.00      0.00        96\n",
      "          19       0.79      0.92      0.85       156\n",
      "          20       0.88      0.86      0.87       143\n",
      "          21       0.79      0.74      0.76       191\n",
      "          22       0.00      0.00      0.00        81\n",
      "          23       0.00      0.00      0.00        54\n",
      "          24       0.00      0.00      0.00        18\n",
      "          25       0.00      0.00      0.00        33\n",
      "          26       0.00      0.00      0.00        44\n",
      "          27       0.00      0.00      0.00        24\n",
      "          28       0.00      0.00      0.00        30\n",
      "          29       0.00      0.00      0.00        15\n",
      "          30       0.00      0.00      0.00        18\n",
      "          31       0.00      0.00      0.00        18\n",
      "          32       0.00      0.00      0.00         5\n",
      "          33       0.00      0.00      0.00         3\n",
      "          34       0.00      0.00      0.00         0\n",
      "          35       0.00      0.00      0.00         4\n",
      "          36       0.00      0.00      0.00         4\n",
      "          37       0.00      0.00      0.00         0\n",
      "          38       0.00      0.00      0.00         0\n",
      "          39       0.00      0.00      0.00         0\n",
      "\n",
      "   micro avg       0.72      0.72      0.72     12966\n",
      "   macro avg       0.37      0.38      0.37     12966\n",
      "weighted avg       0.70      0.72      0.71     12966\n",
      "\n",
      "[[1578  189   85 ...    0    0    0]\n",
      " [ 135 1107   11 ...    0    0    0]\n",
      " [  26   23 1276 ...    0    0    0]\n",
      " ...\n",
      " [   0    0    0 ...    0    0    0]\n",
      " [   0    0    0 ...    0    0    0]\n",
      " [   0    0    0 ...    0    0    0]]\n"
     ]
    },
    {
     "data": {
      "image/png": "[encoded data removed]",
      "text/plain": [
       "<Figure size 720x504 with 2 Axes>"
      ]
     },
     "metadata": {
      "needs_background": "light"
     },
     "output_type": "display_data"
    }
   ],
   "source": [
    "evaluate(y_test, predictions_gru, tag_tokenizer.index_word)"
   ]
  },
  {
   "cell_type": "markdown",
   "metadata": {},
   "source": [
    "### Two LSTM layers\n",
    "Adding an additional LSTM layer to the baseline model."
   ]
  },
  {
   "cell_type": "markdown",
   "metadata": {},
   "source": [
    "#### Create model"
   ]
  },
  {
   "cell_type": "code",
   "execution_count": 62,
   "metadata": {},
   "outputs": [],
   "source": [
    "def create_doubleLSTM_model(units_LSTM1, units_LSTM2, activation):\n",
    "    doubleLSTM_model = keras.Sequential()\n",
    "    doubleLSTM_model.add(layers.Embedding(input_dim = VOCABULARY_SIZE,\n",
    "                                 output_dim    = embedding_dimension,\n",
    "                                 input_length  = find_max_length(x_train),\n",
    "                                 weights       = [embedding_matrix],\n",
    "                                 trainable     = False,\n",
    "                                 mask_zero = True\n",
    "                                ))\n",
    "    doubleLSTM_model.add(layers.Bidirectional(layers.LSTM(units_LSTM1, return_sequences=True)))\n",
    "    doubleLSTM_model.add(layers.Bidirectional(layers.LSTM(units_LSTM2, return_sequences=True)))\n",
    "    #bidirect_model.add(layers.TimeDistributed(layers.Dense(len(tag_to_idx), activation='softmax')))\n",
    "    doubleLSTM_model.add(layers.Dense(TAG_VOCABULARY_SIZE, activation=activation))\n",
    "    \n",
    "    return doubleLSTM_model"
   ]
  },
  {
   "cell_type": "code",
   "execution_count": 63,
   "metadata": {},
   "outputs": [
    {
     "name": "stdout",
     "output_type": "stream",
     "text": [
      "Model: \"sequential_5\"\n",
      "_________________________________________________________________\n",
      " Layer (type)                Output Shape              Param #   \n",
      "=================================================================\n",
      " embedding_5 (Embedding)     (None, 186, 50)           526000    \n",
      "                                                                 \n",
      " bidirectional_5 (Bidirectio  (None, 186, 128)         58880     \n",
      " nal)                                                            \n",
      "                                                                 \n",
      " bidirectional_6 (Bidirectio  (None, 186, 128)         98816     \n",
      " nal)                                                            \n",
      "                                                                 \n",
      " dense_5 (Dense)             (None, 186, 40)           5160      \n",
      "                                                                 \n",
      "=================================================================\n",
      "Total params: 688,856\n",
      "Trainable params: 162,856\n",
      "Non-trainable params: 526,000\n",
      "_________________________________________________________________\n"
     ]
    }
   ],
   "source": [
    "doubleLSTM_model = create_doubleLSTM_model(64, 64, ACTIVATION)\n",
    "doubleLSTM_model.summary()"
   ]
  },
  {
   "cell_type": "markdown",
   "metadata": {},
   "source": [
    "#### Train model "
   ]
  },
  {
   "cell_type": "code",
   "execution_count": 64,
   "metadata": {},
   "outputs": [
    {
     "name": "stdout",
     "output_type": "stream",
     "text": [
      "Epoch 1/10\n",
      "59/59 [==============================] - 55s 645ms/step - loss: 0.0027 - mae: 0.0470 - acc: 0.1522 - val_loss: 0.0026 - val_mae: 0.0458 - val_acc: 0.1903\n",
      "Epoch 2/10\n",
      "59/59 [==============================] - 26s 446ms/step - loss: 0.0025 - mae: 0.0445 - acc: 0.2461 - val_loss: 0.0025 - val_mae: 0.0433 - val_acc: 0.2888\n",
      "Epoch 3/10\n",
      "59/59 [==============================] - 28s 467ms/step - loss: 0.0023 - mae: 0.0403 - acc: 0.3700 - val_loss: 0.0021 - val_mae: 0.0369 - val_acc: 0.4320\n",
      "Epoch 4/10\n",
      "59/59 [==============================] - 28s 471ms/step - loss: 0.0019 - mae: 0.0345 - acc: 0.4755 - val_loss: 0.0018 - val_mae: 0.0334 - val_acc: 0.5167\n",
      "Epoch 5/10\n",
      "59/59 [==============================] - 28s 482ms/step - loss: 0.0017 - mae: 0.0308 - acc: 0.5674 - val_loss: 0.0016 - val_mae: 0.0292 - val_acc: 0.5882\n",
      "Epoch 6/10\n",
      "59/59 [==============================] - 32s 537ms/step - loss: 0.0015 - mae: 0.0270 - acc: 0.6309 - val_loss: 0.0015 - val_mae: 0.0265 - val_acc: 0.6239\n",
      "Epoch 7/10\n",
      "59/59 [==============================] - 21s 352ms/step - loss: 0.0014 - mae: 0.0247 - acc: 0.6663 - val_loss: 0.0014 - val_mae: 0.0250 - val_acc: 0.6522\n",
      "Epoch 8/10\n",
      "59/59 [==============================] - 21s 354ms/step - loss: 0.0013 - mae: 0.0230 - acc: 0.6970 - val_loss: 0.0013 - val_mae: 0.0237 - val_acc: 0.6802\n",
      "Epoch 9/10\n",
      "59/59 [==============================] - 23s 383ms/step - loss: 0.0012 - mae: 0.0216 - acc: 0.7180 - val_loss: 0.0013 - val_mae: 0.0226 - val_acc: 0.6920\n",
      "Epoch 10/10\n",
      "59/59 [==============================] - 21s 357ms/step - loss: 0.0011 - mae: 0.0204 - acc: 0.7318 - val_loss: 0.0012 - val_mae: 0.0219 - val_acc: 0.6993\n"
     ]
    },
    {
     "name": "stderr",
     "output_type": "stream",
     "text": [
      "WARNING:absl:Found untraced functions such as lstm_cell_7_layer_call_fn, lstm_cell_7_layer_call_and_return_conditional_losses, lstm_cell_8_layer_call_fn, lstm_cell_8_layer_call_and_return_conditional_losses, lstm_cell_10_layer_call_fn while saving (showing 5 of 20). These functions will not be directly callable after loading.\n"
     ]
    },
    {
     "name": "stdout",
     "output_type": "stream",
     "text": [
      "INFO:tensorflow:Assets written to: models/model_doubleLSTM_model_02_12_2021_14:38:29/assets\n"
     ]
    },
    {
     "name": "stderr",
     "output_type": "stream",
     "text": [
      "INFO:tensorflow:Assets written to: models/model_doubleLSTM_model_02_12_2021_14:38:29/assets\n",
      "WARNING:absl:<keras.layers.recurrent.LSTMCell object at 0x1704d9bb0> has the same name 'LSTMCell' as a built-in Keras object. Consider renaming <class 'keras.layers.recurrent.LSTMCell'> to avoid naming conflicts when loading with `tf.keras.models.load_model`. If renaming is not possible, pass the object in the `custom_objects` parameter of the load function.\n",
      "WARNING:absl:<keras.layers.recurrent.LSTMCell object at 0x170862f10> has the same name 'LSTMCell' as a built-in Keras object. Consider renaming <class 'keras.layers.recurrent.LSTMCell'> to avoid naming conflicts when loading with `tf.keras.models.load_model`. If renaming is not possible, pass the object in the `custom_objects` parameter of the load function.\n",
      "WARNING:absl:<keras.layers.recurrent.LSTMCell object at 0x170624370> has the same name 'LSTMCell' as a built-in Keras object. Consider renaming <class 'keras.layers.recurrent.LSTMCell'> to avoid naming conflicts when loading with `tf.keras.models.load_model`. If renaming is not possible, pass the object in the `custom_objects` parameter of the load function.\n",
      "WARNING:absl:<keras.layers.recurrent.LSTMCell object at 0x1711fa9d0> has the same name 'LSTMCell' as a built-in Keras object. Consider renaming <class 'keras.layers.recurrent.LSTMCell'> to avoid naming conflicts when loading with `tf.keras.models.load_model`. If renaming is not possible, pass the object in the `custom_objects` parameter of the load function.\n"
     ]
    }
   ],
   "source": [
    "doubleLSTM_model.compile(loss=\"mse\",\n",
    "              optimizer=\"Adam\",\n",
    "              metrics=['mae', \"acc\"])\n",
    "doubleLSTM_training = doubleLSTM_model.fit(x=x_train, batch_size=BATCH_SIZE, y=y_train, epochs=EPOCHS, validation_data=(x_val, y_val))\n",
    "\n",
    "# Save the model when training is finished\n",
    "save_model(doubleLSTM_model, 'doubleLSTM_model')"
   ]
  },
  {
   "cell_type": "markdown",
   "metadata": {},
   "source": [
    "#### Plot results"
   ]
  },
  {
   "cell_type": "code",
   "execution_count": 65,
   "metadata": {},
   "outputs": [
    {
     "data": {
      "image/png": "[encoded data removed]",
      "text/plain": [
       "<Figure size 432x288 with 1 Axes>"
      ]
     },
     "metadata": {
      "needs_background": "light"
     },
     "output_type": "display_data"
    },
    {
     "data": {
      "image/png": "[encoded data removed]",
      "text/plain": [
       "<Figure size 432x288 with 1 Axes>"
      ]
     },
     "metadata": {
      "needs_background": "light"
     },
     "output_type": "display_data"
    }
   ],
   "source": [
    "plot_accuracy(doubleLSTM_training)\n",
    "plot_loss(doubleLSTM_training)"
   ]
  },
  {
   "cell_type": "markdown",
   "metadata": {},
   "source": [
    "#### Calculate predicitons for test set"
   ]
  },
  {
   "cell_type": "code",
   "execution_count": 66,
   "metadata": {},
   "outputs": [],
   "source": [
    "predictions_doubleLSTM = predict(doubleLSTM_model, x_test, {'batch_size': BATCH_SIZE})"
   ]
  },
  {
   "cell_type": "markdown",
   "metadata": {},
   "source": [
    "#### Evaluate model\n",
    "Evaluate how well the models predicitons for the test set where"
   ]
  },
  {
   "cell_type": "code",
   "execution_count": 90,
   "metadata": {},
   "outputs": [
    {
     "name": "stdout",
     "output_type": "stream",
     "text": [
      "ACCURACY: 0.700\n",
      "PRECISION: 0.660\n",
      "RECALL: 0.700\n",
      "F1: 0.676\n",
      "              precision    recall  f1-score   support\n",
      "\n",
      "           1       0.73      0.67      0.70      2207\n",
      "           2       0.70      0.82      0.76      1368\n",
      "           3       0.78      0.84      0.81      1521\n",
      "           4       0.89      0.89      0.89      1260\n",
      "           5       0.66      0.72      0.69       886\n",
      "           6       0.48      0.58      0.53       859\n",
      "           7       0.72      0.67      0.69       600\n",
      "           8       0.43      0.55      0.48       357\n",
      "           9       0.71      0.83      0.76       791\n",
      "          10       0.67      0.87      0.76       383\n",
      "          11       0.78      0.75      0.77       334\n",
      "          12       0.65      0.71      0.68       258\n",
      "          13       0.45      0.57      0.50       331\n",
      "          14       0.78      0.94      0.85       361\n",
      "          15       0.74      0.92      0.82       181\n",
      "          16       0.39      0.09      0.14       209\n",
      "          17       0.69      0.60      0.64       123\n",
      "          18       0.00      0.00      0.00        96\n",
      "          19       0.80      0.92      0.86       156\n",
      "          20       0.00      0.00      0.00       143\n",
      "          21       0.00      0.00      0.00       191\n",
      "          22       0.00      0.00      0.00        81\n",
      "          23       0.00      0.00      0.00        54\n",
      "          24       0.00      0.00      0.00        18\n",
      "          25       0.00      0.00      0.00        33\n",
      "          26       0.00      0.00      0.00        44\n",
      "          27       0.00      0.00      0.00        24\n",
      "          28       0.00      0.00      0.00        30\n",
      "          29       0.00      0.00      0.00        15\n",
      "          30       0.00      0.00      0.00        18\n",
      "          31       0.00      0.00      0.00        18\n",
      "          32       0.00      0.00      0.00         5\n",
      "          33       0.00      0.00      0.00         3\n",
      "          34       0.00      0.00      0.00         0\n",
      "          35       0.00      0.00      0.00         4\n",
      "          36       0.00      0.00      0.00         4\n",
      "          37       0.00      0.00      0.00         0\n",
      "          38       0.00      0.00      0.00         0\n",
      "          39       0.00      0.00      0.00         0\n",
      "\n",
      "   micro avg       0.70      0.70      0.70     12966\n",
      "   macro avg       0.31      0.33      0.32     12966\n",
      "weighted avg       0.66      0.70      0.68     12966\n",
      "\n",
      "[[1472  178   79 ...    0    0    0]\n",
      " [ 116 1118   13 ...    0    0    0]\n",
      " [  20   19 1273 ...    0    0    0]\n",
      " ...\n",
      " [   0    0    0 ...    0    0    0]\n",
      " [   0    0    0 ...    0    0    0]\n",
      " [   0    0    0 ...    0    0    0]]\n"
     ]
    },
    {
     "data": {
      "image/png": "[encoded data removed]",
      "text/plain": [
       "<Figure size 720x504 with 2 Axes>"
      ]
     },
     "metadata": {
      "needs_background": "light"
     },
     "output_type": "display_data"
    }
   ],
   "source": [
    "evaluate(y_test, predictions_doubleLSTM, tag_tokenizer.index_word)"
   ]
  },
  {
   "cell_type": "markdown",
   "metadata": {},
   "source": [
    "### Two dense layers\n",
    "Add an additional dense layer to the baseline model."
   ]
  },
  {
   "cell_type": "markdown",
   "metadata": {},
   "source": [
    "#### Create model"
   ]
  },
  {
   "cell_type": "code",
   "execution_count": 68,
   "metadata": {},
   "outputs": [],
   "source": [
    "def create_doubledense_model(units_LSTM, units_dense, activation):\n",
    "    doubledense_model = keras.Sequential()\n",
    "    doubledense_model.add(layers.Embedding(input_dim = VOCABULARY_SIZE,\n",
    "                                 output_dim    = embedding_dimension,\n",
    "                                 input_length  = find_max_length(x_train),\n",
    "                                 weights       = [embedding_matrix],\n",
    "                                 trainable = False, \n",
    "                                 mask_zero = True\n",
    "                                ))\n",
    "    doubledense_model.add(layers.Bidirectional(layers.LSTM(units_LSTM, return_sequences=True)))\n",
    "    doubledense_model.add(layers.Dense(units_dense))\n",
    "    #bidirect_model.add(layers.TimeDistributed(layers.Dense(len(tag_to_idx), activation='softmax')))\n",
    "    doubledense_model.add(layers.Dense(TAG_VOCABULARY_SIZE, activation=activation))\n",
    "    \n",
    "    return doubledense_model"
   ]
  },
  {
   "cell_type": "code",
   "execution_count": 69,
   "metadata": {},
   "outputs": [
    {
     "name": "stdout",
     "output_type": "stream",
     "text": [
      "Model: \"sequential_6\"\n",
      "_________________________________________________________________\n",
      " Layer (type)                Output Shape              Param #   \n",
      "=================================================================\n",
      " embedding_6 (Embedding)     (None, 186, 50)           526000    \n",
      "                                                                 \n",
      " bidirectional_7 (Bidirectio  (None, 186, 128)         58880     \n",
      " nal)                                                            \n",
      "                                                                 \n",
      " dense_6 (Dense)             (None, 186, 64)           8256      \n",
      "                                                                 \n",
      " dense_7 (Dense)             (None, 186, 40)           2600      \n",
      "                                                                 \n",
      "=================================================================\n",
      "Total params: 595,736\n",
      "Trainable params: 69,736\n",
      "Non-trainable params: 526,000\n",
      "_________________________________________________________________\n"
     ]
    }
   ],
   "source": [
    "doubleDense_model = create_doubledense_model(64, 64, ACTIVATION)\n",
    "doubleDense_model.summary()"
   ]
  },
  {
   "cell_type": "markdown",
   "metadata": {},
   "source": [
    "#### Train model"
   ]
  },
  {
   "cell_type": "code",
   "execution_count": 70,
   "metadata": {},
   "outputs": [
    {
     "name": "stdout",
     "output_type": "stream",
     "text": [
      "Epoch 1/10\n",
      "59/59 [==============================] - 22s 210ms/step - loss: 0.0026 - mae: 0.0460 - acc: 0.2123 - val_loss: 0.0024 - val_mae: 0.0429 - val_acc: 0.3402\n",
      "Epoch 2/10\n",
      "59/59 [==============================] - 10s 161ms/step - loss: 0.0022 - mae: 0.0387 - acc: 0.4098 - val_loss: 0.0019 - val_mae: 0.0356 - val_acc: 0.4667\n",
      "Epoch 3/10\n",
      "59/59 [==============================] - 9s 155ms/step - loss: 0.0018 - mae: 0.0324 - acc: 0.5249 - val_loss: 0.0017 - val_mae: 0.0304 - val_acc: 0.5605\n",
      "Epoch 4/10\n",
      "59/59 [==============================] - 10s 171ms/step - loss: 0.0015 - mae: 0.0277 - acc: 0.6149 - val_loss: 0.0015 - val_mae: 0.0264 - val_acc: 0.6182\n",
      "Epoch 5/10\n",
      "59/59 [==============================] - 9s 157ms/step - loss: 0.0014 - mae: 0.0246 - acc: 0.6567 - val_loss: 0.0014 - val_mae: 0.0245 - val_acc: 0.6427\n",
      "Epoch 6/10\n",
      "59/59 [==============================] - 9s 157ms/step - loss: 0.0013 - mae: 0.0230 - acc: 0.6810 - val_loss: 0.0014 - val_mae: 0.0236 - val_acc: 0.6664\n",
      "Epoch 7/10\n",
      "59/59 [==============================] - 11s 183ms/step - loss: 0.0012 - mae: 0.0216 - acc: 0.7084 - val_loss: 0.0013 - val_mae: 0.0223 - val_acc: 0.6878\n",
      "Epoch 8/10\n",
      "59/59 [==============================] - 9s 151ms/step - loss: 0.0011 - mae: 0.0203 - acc: 0.7273 - val_loss: 0.0012 - val_mae: 0.0214 - val_acc: 0.6989\n",
      "Epoch 9/10\n",
      "59/59 [==============================] - 9s 150ms/step - loss: 0.0011 - mae: 0.0194 - acc: 0.7411 - val_loss: 0.0012 - val_mae: 0.0205 - val_acc: 0.7098\n",
      "Epoch 10/10\n",
      "59/59 [==============================] - 10s 165ms/step - loss: 0.0011 - mae: 0.0186 - acc: 0.7536 - val_loss: 0.0012 - val_mae: 0.0199 - val_acc: 0.7192\n"
     ]
    },
    {
     "name": "stderr",
     "output_type": "stream",
     "text": [
      "WARNING:absl:Found untraced functions such as lstm_cell_13_layer_call_fn, lstm_cell_13_layer_call_and_return_conditional_losses, lstm_cell_14_layer_call_fn, lstm_cell_14_layer_call_and_return_conditional_losses, lstm_cell_13_layer_call_fn while saving (showing 5 of 10). These functions will not be directly callable after loading.\n"
     ]
    },
    {
     "name": "stdout",
     "output_type": "stream",
     "text": [
      "INFO:tensorflow:Assets written to: models/model_doubleDense_model_02_12_2021_14:41:44/assets\n"
     ]
    },
    {
     "name": "stderr",
     "output_type": "stream",
     "text": [
      "INFO:tensorflow:Assets written to: models/model_doubleDense_model_02_12_2021_14:41:44/assets\n",
      "WARNING:absl:<keras.layers.recurrent.LSTMCell object at 0x178e41c10> has the same name 'LSTMCell' as a built-in Keras object. Consider renaming <class 'keras.layers.recurrent.LSTMCell'> to avoid naming conflicts when loading with `tf.keras.models.load_model`. If renaming is not possible, pass the object in the `custom_objects` parameter of the load function.\n",
      "WARNING:absl:<keras.layers.recurrent.LSTMCell object at 0x1789c97c0> has the same name 'LSTMCell' as a built-in Keras object. Consider renaming <class 'keras.layers.recurrent.LSTMCell'> to avoid naming conflicts when loading with `tf.keras.models.load_model`. If renaming is not possible, pass the object in the `custom_objects` parameter of the load function.\n"
     ]
    }
   ],
   "source": [
    "doubleDense_model.compile(loss=\"mse\",\n",
    "              optimizer=\"Adam\",\n",
    "              metrics=['mae', \"acc\"])\n",
    "doubleDense_training = doubleDense_model.fit(x=x_train, batch_size=BATCH_SIZE, y=y_train, epochs=EPOCHS, validation_data=(x_val, y_val))\n",
    "\n",
    "# Save the model when training is finished\n",
    "save_model(doubleDense_model, 'doubleDense_model')"
   ]
  },
  {
   "cell_type": "markdown",
   "metadata": {},
   "source": [
    "#### Plot results"
   ]
  },
  {
   "cell_type": "code",
   "execution_count": 71,
   "metadata": {},
   "outputs": [
    {
     "data": {
      "image/png": "[encoded data removed]",
      "text/plain": [
       "<Figure size 432x288 with 1 Axes>"
      ]
     },
     "metadata": {
      "needs_background": "light"
     },
     "output_type": "display_data"
    },
    {
     "data": {
      "image/png": "[encoded data removed]",
      "text/plain": [
       "<Figure size 432x288 with 1 Axes>"
      ]
     },
     "metadata": {
      "needs_background": "light"
     },
     "output_type": "display_data"
    }
   ],
   "source": [
    "plot_accuracy(doubleDense_training)\n",
    "plot_loss(doubleDense_training)"
   ]
  },
  {
   "cell_type": "markdown",
   "metadata": {},
   "source": [
    "#### Calculate predicitons for test set"
   ]
  },
  {
   "cell_type": "code",
   "execution_count": 72,
   "metadata": {},
   "outputs": [],
   "source": [
    "predictions_doubleDense = predict(doubleDense_model, x_test, {'batch_size': BATCH_SIZE})"
   ]
  },
  {
   "cell_type": "markdown",
   "metadata": {},
   "source": [
    "#### Evaluate model\n",
    "Evaluate how well the models predicitons for the test set where"
   ]
  },
  {
   "cell_type": "code",
   "execution_count": 91,
   "metadata": {},
   "outputs": [
    {
     "name": "stdout",
     "output_type": "stream",
     "text": [
      "ACCURACY: 0.727\n",
      "PRECISION: 0.693\n",
      "RECALL: 0.727\n",
      "F1: 0.708\n",
      "              precision    recall  f1-score   support\n",
      "\n",
      "           1       0.69      0.75      0.72      2207\n",
      "           2       0.72      0.80      0.76      1368\n",
      "           3       0.79      0.84      0.82      1521\n",
      "           4       0.91      0.90      0.91      1260\n",
      "           5       0.72      0.76      0.74       886\n",
      "           6       0.52      0.56      0.54       859\n",
      "           7       0.74      0.68      0.71       600\n",
      "           8       0.51      0.55      0.53       357\n",
      "           9       0.83      0.83      0.83       791\n",
      "          10       0.66      0.88      0.76       383\n",
      "          11       0.77      0.76      0.76       334\n",
      "          12       0.61      0.76      0.68       258\n",
      "          13       0.53      0.44      0.49       331\n",
      "          14       0.90      0.92      0.91       361\n",
      "          15       0.77      0.94      0.85       181\n",
      "          16       0.45      0.20      0.27       209\n",
      "          17       0.68      0.59      0.63       123\n",
      "          18       0.00      0.00      0.00        96\n",
      "          19       0.83      0.88      0.86       156\n",
      "          20       0.00      0.00      0.00       143\n",
      "          21       0.79      0.80      0.79       191\n",
      "          22       0.00      0.00      0.00        81\n",
      "          23       0.00      0.00      0.00        54\n",
      "          24       0.00      0.00      0.00        18\n",
      "          25       0.00      0.00      0.00        33\n",
      "          26       0.00      0.00      0.00        44\n",
      "          27       0.00      0.00      0.00        24\n",
      "          28       0.00      0.00      0.00        30\n",
      "          29       0.00      0.00      0.00        15\n",
      "          30       0.00      0.00      0.00        18\n",
      "          31       0.00      0.00      0.00        18\n",
      "          32       0.00      0.00      0.00         5\n",
      "          33       0.00      0.00      0.00         3\n",
      "          34       0.00      0.00      0.00         0\n",
      "          35       0.00      0.00      0.00         4\n",
      "          36       0.00      0.00      0.00         4\n",
      "          37       0.00      0.00      0.00         0\n",
      "          38       0.00      0.00      0.00         0\n",
      "          39       0.00      0.00      0.00         0\n",
      "\n",
      "   micro avg       0.73      0.73      0.73     12966\n",
      "   macro avg       0.34      0.36      0.35     12966\n",
      "weighted avg       0.69      0.73      0.71     12966\n",
      "\n",
      "[[1654  145   74 ...    0    0    0]\n",
      " [ 141 1092    9 ...    0    0    0]\n",
      " [  33   18 1283 ...    0    0    0]\n",
      " ...\n",
      " [   0    0    0 ...    0    0    0]\n",
      " [   0    0    0 ...    0    0    0]\n",
      " [   0    0    0 ...    0    0    0]]\n"
     ]
    },
    {
     "data": {
      "image/png": "[encoded data removed]",
      "text/plain": [
       "<Figure size 720x504 with 2 Axes>"
      ]
     },
     "metadata": {
      "needs_background": "light"
     },
     "output_type": "display_data"
    }
   ],
   "source": [
    "evaluate(y_test, predictions_doubleDense, tag_tokenizer.index_word)"
   ]
  },
  {
   "cell_type": "code",
   "execution_count": 53,
   "metadata": {},
   "outputs": [],
   "source": [
    "def grid_search():\n",
    "    batch_size = [32, 64, 128]\n",
    "    epochs = [10, 50, 100]\n",
    "    batch_size_results = {}\n",
    "    epoch_results = {}\n",
    "    e = 10\n",
    "    for b in batch_size:\n",
    "        print(b, 'Batch')\n",
    "        baseline_model = create_baseline_model(64, ACTIVATION)\n",
    "        baseline_model.compile(loss=\"mse\", optimizer=\"Adam\", metrics=['mae', \"acc\"])\n",
    "        baseline_training = baseline_model.fit(x=x_train, y=y_train, validation_data=(x_val, y_val), batch_size=b,  epochs=e)\n",
    "        batch_size_results[b] = baseline_training.history['val_acc']\n",
    "    b = max(batch_size_results, key=batch_size_results.get)\n",
    "    for e in epochs:\n",
    "        print(e, 'epoch')\n",
    "        baseline_model = create_baseline_model(64, ACTIVATION)\n",
    "        baseline_model.compile(loss=\"mse\", optimizer=\"Adam\", metrics=['mae', \"acc\"])\n",
    "        baseline_training = baseline_model.fit(x=x_train, y=y_train, validation_data=(x_val, y_val), batch_size=b,  epochs=e)\n",
    "        epoch_results[e] = baseline_training.history['val_acc']\n",
    "    return batch_size_results, epoch_results"
   ]
  },
  {
   "cell_type": "code",
   "execution_count": 54,
   "metadata": {},
   "outputs": [
    {
     "name": "stdout",
     "output_type": "stream",
     "text": [
      "32 Batch\n",
      "Epoch 1/10\n",
      "59/59 [==============================] - 30s 358ms/step - loss: 0.0027 - mae: 0.0469 - acc: 0.1748 - val_loss: 0.0025 - val_mae: 0.0447 - val_acc: 0.3239\n",
      "Epoch 2/10\n",
      "59/59 [==============================] - 13s 214ms/step - loss: 0.0023 - mae: 0.0421 - acc: 0.3667 - val_loss: 0.0021 - val_mae: 0.0392 - val_acc: 0.4157\n",
      "Epoch 3/10\n",
      "59/59 [==============================] - 13s 217ms/step - loss: 0.0020 - mae: 0.0363 - acc: 0.4663 - val_loss: 0.0019 - val_mae: 0.0341 - val_acc: 0.5068\n",
      "Epoch 4/10\n",
      "59/59 [==============================] - 12s 204ms/step - loss: 0.0017 - mae: 0.0320 - acc: 0.5588 - val_loss: 0.0017 - val_mae: 0.0306 - val_acc: 0.5797\n",
      "Epoch 5/10\n",
      "59/59 [==============================] - 13s 215ms/step - loss: 0.0015 - mae: 0.0285 - acc: 0.6210 - val_loss: 0.0015 - val_mae: 0.0279 - val_acc: 0.6188\n",
      "Epoch 6/10\n",
      "59/59 [==============================] - 12s 195ms/step - loss: 0.0014 - mae: 0.0262 - acc: 0.6535 - val_loss: 0.0015 - val_mae: 0.0263 - val_acc: 0.6401\n",
      "Epoch 7/10\n",
      "59/59 [==============================] - 11s 178ms/step - loss: 0.0013 - mae: 0.0246 - acc: 0.6755 - val_loss: 0.0014 - val_mae: 0.0249 - val_acc: 0.6551\n",
      "Epoch 8/10\n",
      "59/59 [==============================] - 12s 197ms/step - loss: 0.0013 - mae: 0.0235 - acc: 0.6906 - val_loss: 0.0014 - val_mae: 0.0242 - val_acc: 0.6645\n",
      "Epoch 9/10\n",
      "59/59 [==============================] - 15s 251ms/step - loss: 0.0012 - mae: 0.0226 - acc: 0.7014 - val_loss: 0.0013 - val_mae: 0.0234 - val_acc: 0.6743\n",
      "Epoch 10/10\n",
      "59/59 [==============================] - 11s 188ms/step - loss: 0.0012 - mae: 0.0219 - acc: 0.7117 - val_loss: 0.0013 - val_mae: 0.0231 - val_acc: 0.6819\n",
      "64 Batch\n",
      "Epoch 1/10\n",
      "30/30 [==============================] - 19s 399ms/step - loss: 0.0027 - mae: 0.0480 - acc: 0.0920 - val_loss: 0.0026 - val_mae: 0.0465 - val_acc: 0.1729\n",
      "Epoch 2/10\n",
      "30/30 [==============================] - 9s 312ms/step - loss: 0.0026 - mae: 0.0457 - acc: 0.2702 - val_loss: 0.0025 - val_mae: 0.0445 - val_acc: 0.3334\n",
      "Epoch 3/10\n",
      "30/30 [==============================] - 10s 322ms/step - loss: 0.0024 - mae: 0.0430 - acc: 0.3469 - val_loss: 0.0023 - val_mae: 0.0416 - val_acc: 0.3687\n",
      "Epoch 4/10\n",
      "30/30 [==============================] - 8s 262ms/step - loss: 0.0022 - mae: 0.0398 - acc: 0.4026 - val_loss: 0.0021 - val_mae: 0.0385 - val_acc: 0.4282\n",
      "Epoch 5/10\n",
      "30/30 [==============================] - 8s 278ms/step - loss: 0.0020 - mae: 0.0369 - acc: 0.4513 - val_loss: 0.0020 - val_mae: 0.0358 - val_acc: 0.4655\n",
      "Epoch 6/10\n",
      "30/30 [==============================] - 9s 304ms/step - loss: 0.0019 - mae: 0.0346 - acc: 0.4921 - val_loss: 0.0019 - val_mae: 0.0339 - val_acc: 0.4978\n",
      "Epoch 7/10\n",
      "30/30 [==============================] - 8s 263ms/step - loss: 0.0018 - mae: 0.0328 - acc: 0.5382 - val_loss: 0.0018 - val_mae: 0.0322 - val_acc: 0.5557\n",
      "Epoch 8/10\n",
      "30/30 [==============================] - 8s 275ms/step - loss: 0.0017 - mae: 0.0308 - acc: 0.5847 - val_loss: 0.0017 - val_mae: 0.0305 - val_acc: 0.5816\n",
      "Epoch 9/10\n",
      "30/30 [==============================] - 8s 275ms/step - loss: 0.0016 - mae: 0.0289 - acc: 0.6152 - val_loss: 0.0016 - val_mae: 0.0287 - val_acc: 0.6114\n",
      "Epoch 10/10\n",
      "30/30 [==============================] - 8s 264ms/step - loss: 0.0015 - mae: 0.0273 - acc: 0.6390 - val_loss: 0.0015 - val_mae: 0.0274 - val_acc: 0.6253\n",
      "128 Batch\n",
      "Epoch 1/10\n",
      "15/15 [==============================] - 43s 2s/step - loss: 0.0028 - mae: 0.0483 - acc: 0.1065 - val_loss: 0.0027 - val_mae: 0.0478 - val_acc: 0.1295\n",
      "Epoch 2/10\n",
      "15/15 [==============================] - 11s 730ms/step - loss: 0.0027 - mae: 0.0471 - acc: 0.1594 - val_loss: 0.0026 - val_mae: 0.0461 - val_acc: 0.1986\n",
      "Epoch 3/10\n",
      "15/15 [==============================] - 11s 732ms/step - loss: 0.0026 - mae: 0.0457 - acc: 0.2501 - val_loss: 0.0026 - val_mae: 0.0452 - val_acc: 0.2924\n",
      "Epoch 4/10\n",
      "15/15 [==============================] - 12s 783ms/step - loss: 0.0025 - mae: 0.0446 - acc: 0.3166 - val_loss: 0.0025 - val_mae: 0.0442 - val_acc: 0.3157\n",
      "Epoch 5/10\n",
      "15/15 [==============================] - 10s 691ms/step - loss: 0.0024 - mae: 0.0433 - acc: 0.3363 - val_loss: 0.0024 - val_mae: 0.0428 - val_acc: 0.3342\n",
      "Epoch 6/10\n",
      "15/15 [==============================] - 12s 816ms/step - loss: 0.0023 - mae: 0.0419 - acc: 0.3563 - val_loss: 0.0023 - val_mae: 0.0414 - val_acc: 0.3618\n",
      "Epoch 7/10\n",
      "15/15 [==============================] - 12s 798ms/step - loss: 0.0022 - mae: 0.0404 - acc: 0.3873 - val_loss: 0.0022 - val_mae: 0.0397 - val_acc: 0.4048\n",
      "Epoch 8/10\n",
      "15/15 [==============================] - 11s 754ms/step - loss: 0.0021 - mae: 0.0386 - acc: 0.4235 - val_loss: 0.0021 - val_mae: 0.0378 - val_acc: 0.4310\n",
      "Epoch 9/10\n",
      "15/15 [==============================] - 10s 697ms/step - loss: 0.0020 - mae: 0.0369 - acc: 0.4506 - val_loss: 0.0020 - val_mae: 0.0362 - val_acc: 0.4579\n",
      "Epoch 10/10\n",
      "15/15 [==============================] - 10s 680ms/step - loss: 0.0019 - mae: 0.0354 - acc: 0.4789 - val_loss: 0.0019 - val_mae: 0.0348 - val_acc: 0.4812\n",
      "10 epoch\n",
      "Epoch 1/10\n",
      "59/59 [==============================] - 51s 436ms/step - loss: 0.0027 - mae: 0.0470 - acc: 0.1821 - val_loss: 0.0025 - val_mae: 0.0445 - val_acc: 0.3017\n",
      "Epoch 2/10\n",
      "59/59 [==============================] - 19s 319ms/step - loss: 0.0023 - mae: 0.0419 - acc: 0.3684 - val_loss: 0.0022 - val_mae: 0.0390 - val_acc: 0.4176\n",
      "Epoch 3/10\n",
      "59/59 [==============================] - 19s 318ms/step - loss: 0.0020 - mae: 0.0364 - acc: 0.4627 - val_loss: 0.0019 - val_mae: 0.0345 - val_acc: 0.5042\n",
      "Epoch 4/10\n",
      "59/59 [==============================] - 19s 330ms/step - loss: 0.0017 - mae: 0.0321 - acc: 0.5541 - val_loss: 0.0017 - val_mae: 0.0304 - val_acc: 0.5811\n",
      "Epoch 5/10\n",
      "59/59 [==============================] - 19s 327ms/step - loss: 0.0015 - mae: 0.0283 - acc: 0.6210 - val_loss: 0.0015 - val_mae: 0.0274 - val_acc: 0.6201\n",
      "Epoch 6/10\n",
      "59/59 [==============================] - 18s 309ms/step - loss: 0.0014 - mae: 0.0259 - acc: 0.6554 - val_loss: 0.0014 - val_mae: 0.0257 - val_acc: 0.6408\n",
      "Epoch 7/10\n",
      "59/59 [==============================] - 18s 302ms/step - loss: 0.0013 - mae: 0.0243 - acc: 0.6747 - val_loss: 0.0014 - val_mae: 0.0249 - val_acc: 0.6556\n",
      "Epoch 8/10\n",
      "59/59 [==============================] - 17s 293ms/step - loss: 0.0013 - mae: 0.0234 - acc: 0.6891 - val_loss: 0.0014 - val_mae: 0.0242 - val_acc: 0.6673\n",
      "Epoch 9/10\n",
      "59/59 [==============================] - 17s 295ms/step - loss: 0.0012 - mae: 0.0226 - acc: 0.7001 - val_loss: 0.0013 - val_mae: 0.0236 - val_acc: 0.6721\n",
      "Epoch 10/10\n",
      "59/59 [==============================] - 16s 275ms/step - loss: 0.0012 - mae: 0.0219 - acc: 0.7115 - val_loss: 0.0013 - val_mae: 0.0231 - val_acc: 0.6863\n",
      "50 epoch\n",
      "Epoch 1/50\n",
      "59/59 [==============================] - 53s 471ms/step - loss: 0.0027 - mae: 0.0469 - acc: 0.1855 - val_loss: 0.0025 - val_mae: 0.0446 - val_acc: 0.3211\n",
      "Epoch 2/50\n",
      "59/59 [==============================] - 18s 304ms/step - loss: 0.0023 - mae: 0.0417 - acc: 0.3657 - val_loss: 0.0021 - val_mae: 0.0391 - val_acc: 0.4244\n",
      "Epoch 3/50\n",
      "59/59 [==============================] - 17s 296ms/step - loss: 0.0020 - mae: 0.0360 - acc: 0.4683 - val_loss: 0.0019 - val_mae: 0.0345 - val_acc: 0.5164\n",
      "Epoch 4/50\n",
      "59/59 [==============================] - 18s 302ms/step - loss: 0.0017 - mae: 0.0318 - acc: 0.5721 - val_loss: 0.0016 - val_mae: 0.0300 - val_acc: 0.5890\n",
      "Epoch 5/50\n",
      "59/59 [==============================] - 18s 303ms/step - loss: 0.0015 - mae: 0.0280 - acc: 0.6262 - val_loss: 0.0015 - val_mae: 0.0277 - val_acc: 0.6231\n",
      "Epoch 6/50\n",
      "59/59 [==============================] - 18s 304ms/step - loss: 0.0014 - mae: 0.0258 - acc: 0.6566 - val_loss: 0.0014 - val_mae: 0.0259 - val_acc: 0.6441\n",
      "Epoch 7/50\n",
      "59/59 [==============================] - 18s 299ms/step - loss: 0.0013 - mae: 0.0243 - acc: 0.6771 - val_loss: 0.0014 - val_mae: 0.0248 - val_acc: 0.6578\n",
      "Epoch 8/50\n",
      "59/59 [==============================] - 17s 297ms/step - loss: 0.0013 - mae: 0.0232 - acc: 0.6913 - val_loss: 0.0013 - val_mae: 0.0240 - val_acc: 0.6665\n",
      "Epoch 9/50\n",
      "59/59 [==============================] - 19s 316ms/step - loss: 0.0012 - mae: 0.0226 - acc: 0.7024 - val_loss: 0.0013 - val_mae: 0.0235 - val_acc: 0.6719\n",
      "Epoch 10/50\n",
      "59/59 [==============================] - 18s 303ms/step - loss: 0.0012 - mae: 0.0219 - acc: 0.7107 - val_loss: 0.0013 - val_mae: 0.0230 - val_acc: 0.6810\n",
      "Epoch 11/50\n",
      "59/59 [==============================] - 18s 300ms/step - loss: 0.0012 - mae: 0.0213 - acc: 0.7197 - val_loss: 0.0013 - val_mae: 0.0225 - val_acc: 0.6876\n",
      "Epoch 12/50\n",
      "59/59 [==============================] - 18s 303ms/step - loss: 0.0011 - mae: 0.0208 - acc: 0.7333 - val_loss: 0.0012 - val_mae: 0.0221 - val_acc: 0.7033\n",
      "Epoch 13/50\n",
      "59/59 [==============================] - 17s 297ms/step - loss: 0.0011 - mae: 0.0201 - acc: 0.7433 - val_loss: 0.0012 - val_mae: 0.0214 - val_acc: 0.7107\n",
      "Epoch 14/50\n",
      "59/59 [==============================] - 18s 305ms/step - loss: 0.0011 - mae: 0.0196 - acc: 0.7515 - val_loss: 0.0012 - val_mae: 0.0210 - val_acc: 0.7141\n",
      "Epoch 15/50\n",
      "59/59 [==============================] - 18s 307ms/step - loss: 0.0010 - mae: 0.0190 - acc: 0.7586 - val_loss: 0.0012 - val_mae: 0.0207 - val_acc: 0.7189\n",
      "Epoch 16/50\n",
      "59/59 [==============================] - 18s 302ms/step - loss: 0.0010 - mae: 0.0187 - acc: 0.7633 - val_loss: 0.0012 - val_mae: 0.0204 - val_acc: 0.7251\n",
      "Epoch 17/50\n",
      "59/59 [==============================] - 18s 306ms/step - loss: 9.9327e-04 - mae: 0.0182 - acc: 0.7684 - val_loss: 0.0011 - val_mae: 0.0202 - val_acc: 0.7259\n",
      "Epoch 18/50\n",
      "59/59 [==============================] - 19s 325ms/step - loss: 9.7122e-04 - mae: 0.0180 - acc: 0.7756 - val_loss: 0.0011 - val_mae: 0.0198 - val_acc: 0.7351\n",
      "Epoch 19/50\n",
      "59/59 [==============================] - 21s 355ms/step - loss: 9.3998e-04 - mae: 0.0174 - acc: 0.7840 - val_loss: 0.0011 - val_mae: 0.0194 - val_acc: 0.7378\n",
      "Epoch 20/50\n",
      "59/59 [==============================] - 19s 323ms/step - loss: 9.2017e-04 - mae: 0.0172 - acc: 0.7895 - val_loss: 0.0011 - val_mae: 0.0193 - val_acc: 0.7450\n",
      "Epoch 21/50\n",
      "59/59 [==============================] - 19s 329ms/step - loss: 8.9499e-04 - mae: 0.0168 - acc: 0.7964 - val_loss: 0.0011 - val_mae: 0.0189 - val_acc: 0.7466\n",
      "Epoch 22/50\n",
      "59/59 [==============================] - 18s 300ms/step - loss: 8.7316e-04 - mae: 0.0164 - acc: 0.8033 - val_loss: 0.0011 - val_mae: 0.0185 - val_acc: 0.7522\n",
      "Epoch 23/50\n",
      "59/59 [==============================] - 19s 327ms/step - loss: 8.5434e-04 - mae: 0.0160 - acc: 0.8082 - val_loss: 0.0010 - val_mae: 0.0182 - val_acc: 0.7535\n",
      "Epoch 24/50\n",
      "59/59 [==============================] - 20s 345ms/step - loss: 8.3929e-04 - mae: 0.0157 - acc: 0.8116 - val_loss: 0.0010 - val_mae: 0.0181 - val_acc: 0.7553\n",
      "Epoch 25/50\n",
      "59/59 [==============================] - 18s 307ms/step - loss: 8.2430e-04 - mae: 0.0154 - acc: 0.8153 - val_loss: 0.0010 - val_mae: 0.0180 - val_acc: 0.7557\n",
      "Epoch 26/50\n",
      "59/59 [==============================] - 18s 310ms/step - loss: 8.1125e-04 - mae: 0.0152 - acc: 0.8197 - val_loss: 0.0010 - val_mae: 0.0177 - val_acc: 0.7583\n",
      "Epoch 27/50\n",
      "59/59 [==============================] - 18s 300ms/step - loss: 7.9618e-04 - mae: 0.0149 - acc: 0.8232 - val_loss: 0.0010 - val_mae: 0.0176 - val_acc: 0.7615\n",
      "Epoch 28/50\n",
      "59/59 [==============================] - 18s 304ms/step - loss: 7.8279e-04 - mae: 0.0147 - acc: 0.8274 - val_loss: 0.0010 - val_mae: 0.0174 - val_acc: 0.7612\n",
      "Epoch 29/50\n",
      "59/59 [==============================] - 18s 304ms/step - loss: 7.7046e-04 - mae: 0.0144 - acc: 0.8299 - val_loss: 0.0010 - val_mae: 0.0173 - val_acc: 0.7647\n",
      "Epoch 30/50\n",
      "59/59 [==============================] - 18s 304ms/step - loss: 7.5838e-04 - mae: 0.0142 - acc: 0.8323 - val_loss: 0.0010 - val_mae: 0.0171 - val_acc: 0.7645\n",
      "Epoch 31/50\n",
      "59/59 [==============================] - 18s 302ms/step - loss: 7.4735e-04 - mae: 0.0140 - acc: 0.8357 - val_loss: 9.9649e-04 - val_mae: 0.0169 - val_acc: 0.7669\n",
      "Epoch 32/50\n",
      "59/59 [==============================] - 18s 300ms/step - loss: 7.3688e-04 - mae: 0.0138 - acc: 0.8373 - val_loss: 9.9312e-04 - val_mae: 0.0169 - val_acc: 0.7661\n",
      "Epoch 33/50\n",
      "59/59 [==============================] - 18s 302ms/step - loss: 7.2590e-04 - mae: 0.0136 - acc: 0.8403 - val_loss: 9.9221e-04 - val_mae: 0.0169 - val_acc: 0.7664\n",
      "Epoch 34/50\n",
      "59/59 [==============================] - 18s 308ms/step - loss: 7.1619e-04 - mae: 0.0135 - acc: 0.8420 - val_loss: 9.8949e-04 - val_mae: 0.0167 - val_acc: 0.7658\n",
      "Epoch 35/50\n",
      "59/59 [==============================] - 19s 325ms/step - loss: 7.0583e-04 - mae: 0.0132 - acc: 0.8440 - val_loss: 9.8625e-04 - val_mae: 0.0167 - val_acc: 0.7678\n",
      "Epoch 36/50\n",
      "59/59 [==============================] - 20s 332ms/step - loss: 6.8749e-04 - mae: 0.0131 - acc: 0.8494 - val_loss: 9.5930e-04 - val_mae: 0.0162 - val_acc: 0.7765\n",
      "Epoch 37/50\n",
      "59/59 [==============================] - 18s 297ms/step - loss: 6.6666e-04 - mae: 0.0127 - acc: 0.8549 - val_loss: 9.5762e-04 - val_mae: 0.0162 - val_acc: 0.7768\n",
      "Epoch 38/50\n",
      "59/59 [==============================] - 20s 333ms/step - loss: 6.5362e-04 - mae: 0.0125 - acc: 0.8581 - val_loss: 9.4749e-04 - val_mae: 0.0162 - val_acc: 0.7800\n",
      "Epoch 39/50\n",
      "59/59 [==============================] - 19s 322ms/step - loss: 6.4051e-04 - mae: 0.0124 - acc: 0.8624 - val_loss: 9.4183e-04 - val_mae: 0.0158 - val_acc: 0.7824\n",
      "Epoch 40/50\n",
      "59/59 [==============================] - 19s 328ms/step - loss: 6.2774e-04 - mae: 0.0121 - acc: 0.8649 - val_loss: 9.4036e-04 - val_mae: 0.0157 - val_acc: 0.7810\n",
      "Epoch 41/50\n",
      "59/59 [==============================] - 18s 308ms/step - loss: 6.1847e-04 - mae: 0.0119 - acc: 0.8671 - val_loss: 9.3530e-04 - val_mae: 0.0155 - val_acc: 0.7831\n",
      "Epoch 42/50\n",
      "59/59 [==============================] - 19s 321ms/step - loss: 6.0631e-04 - mae: 0.0117 - acc: 0.8699 - val_loss: 9.3540e-04 - val_mae: 0.0158 - val_acc: 0.7838\n",
      "Epoch 43/50\n",
      "59/59 [==============================] - 18s 314ms/step - loss: 5.9741e-04 - mae: 0.0115 - acc: 0.8722 - val_loss: 9.3369e-04 - val_mae: 0.0154 - val_acc: 0.7836\n",
      "Epoch 44/50\n",
      "59/59 [==============================] - 18s 304ms/step - loss: 5.8916e-04 - mae: 0.0113 - acc: 0.8738 - val_loss: 9.3310e-04 - val_mae: 0.0153 - val_acc: 0.7832\n",
      "Epoch 45/50\n",
      "59/59 [==============================] - 18s 308ms/step - loss: 5.7993e-04 - mae: 0.0112 - acc: 0.8758 - val_loss: 9.2930e-04 - val_mae: 0.0152 - val_acc: 0.7838\n",
      "Epoch 46/50\n",
      "59/59 [==============================] - 18s 312ms/step - loss: 5.7165e-04 - mae: 0.0110 - acc: 0.8773 - val_loss: 9.3557e-04 - val_mae: 0.0153 - val_acc: 0.7814\n",
      "Epoch 47/50\n",
      "59/59 [==============================] - 18s 307ms/step - loss: 5.6479e-04 - mae: 0.0109 - acc: 0.8799 - val_loss: 9.3212e-04 - val_mae: 0.0151 - val_acc: 0.7829\n",
      "Epoch 48/50\n",
      "59/59 [==============================] - 18s 309ms/step - loss: 5.5578e-04 - mae: 0.0107 - acc: 0.8819 - val_loss: 9.2821e-04 - val_mae: 0.0150 - val_acc: 0.7837\n",
      "Epoch 49/50\n",
      "59/59 [==============================] - 18s 310ms/step - loss: 5.5156e-04 - mae: 0.0106 - acc: 0.8829 - val_loss: 9.2989e-04 - val_mae: 0.0151 - val_acc: 0.7830\n",
      "Epoch 50/50\n",
      "59/59 [==============================] - 18s 309ms/step - loss: 5.3808e-04 - mae: 0.0104 - acc: 0.8854 - val_loss: 9.2349e-04 - val_mae: 0.0148 - val_acc: 0.7859\n",
      "100 epoch\n",
      "Epoch 1/100\n",
      "59/59 [==============================] - 63s 492ms/step - loss: 0.0027 - mae: 0.0470 - acc: 0.1711 - val_loss: 0.0025 - val_mae: 0.0447 - val_acc: 0.3014\n",
      "Epoch 2/100\n",
      "59/59 [==============================] - 19s 321ms/step - loss: 0.0023 - mae: 0.0421 - acc: 0.3589 - val_loss: 0.0022 - val_mae: 0.0393 - val_acc: 0.4186\n",
      "Epoch 3/100\n",
      "59/59 [==============================] - 19s 315ms/step - loss: 0.0020 - mae: 0.0362 - acc: 0.4716 - val_loss: 0.0019 - val_mae: 0.0339 - val_acc: 0.5068\n",
      "Epoch 4/100\n",
      "59/59 [==============================] - 18s 306ms/step - loss: 0.0017 - mae: 0.0316 - acc: 0.5671 - val_loss: 0.0016 - val_mae: 0.0301 - val_acc: 0.5865\n",
      "Epoch 5/100\n",
      "59/59 [==============================] - 29s 492ms/step - loss: 0.0015 - mae: 0.0281 - acc: 0.6234 - val_loss: 0.0015 - val_mae: 0.0275 - val_acc: 0.6256\n",
      "Epoch 6/100\n",
      "59/59 [==============================] - 29s 486ms/step - loss: 0.0014 - mae: 0.0258 - acc: 0.6590 - val_loss: 0.0014 - val_mae: 0.0258 - val_acc: 0.6471\n",
      "Epoch 7/100\n",
      "59/59 [==============================] - 26s 435ms/step - loss: 0.0013 - mae: 0.0242 - acc: 0.6792 - val_loss: 0.0014 - val_mae: 0.0246 - val_acc: 0.6595\n",
      "Epoch 8/100\n",
      "59/59 [==============================] - 19s 325ms/step - loss: 0.0013 - mae: 0.0233 - acc: 0.6920 - val_loss: 0.0013 - val_mae: 0.0241 - val_acc: 0.6694\n",
      "Epoch 9/100\n",
      "59/59 [==============================] - 19s 317ms/step - loss: 0.0012 - mae: 0.0226 - acc: 0.7082 - val_loss: 0.0013 - val_mae: 0.0231 - val_acc: 0.6864\n",
      "Epoch 10/100\n",
      "59/59 [==============================] - 19s 330ms/step - loss: 0.0012 - mae: 0.0215 - acc: 0.7229 - val_loss: 0.0013 - val_mae: 0.0226 - val_acc: 0.6961\n",
      "Epoch 11/100\n",
      "59/59 [==============================] - 19s 321ms/step - loss: 0.0011 - mae: 0.0209 - acc: 0.7325 - val_loss: 0.0012 - val_mae: 0.0220 - val_acc: 0.7089\n",
      "Epoch 12/100\n",
      "59/59 [==============================] - 18s 310ms/step - loss: 0.0011 - mae: 0.0201 - acc: 0.7460 - val_loss: 0.0012 - val_mae: 0.0214 - val_acc: 0.7118\n",
      "Epoch 13/100\n",
      "59/59 [==============================] - 19s 318ms/step - loss: 0.0011 - mae: 0.0196 - acc: 0.7542 - val_loss: 0.0012 - val_mae: 0.0210 - val_acc: 0.7200\n",
      "Epoch 14/100\n",
      "59/59 [==============================] - 19s 323ms/step - loss: 0.0010 - mae: 0.0190 - acc: 0.7644 - val_loss: 0.0011 - val_mae: 0.0203 - val_acc: 0.7269\n",
      "Epoch 15/100\n",
      "59/59 [==============================] - 21s 365ms/step - loss: 9.9374e-04 - mae: 0.0185 - acc: 0.7716 - val_loss: 0.0011 - val_mae: 0.0200 - val_acc: 0.7326\n",
      "Epoch 16/100\n",
      "59/59 [==============================] - 20s 338ms/step - loss: 9.6945e-04 - mae: 0.0180 - acc: 0.7780 - val_loss: 0.0011 - val_mae: 0.0196 - val_acc: 0.7388\n",
      "Epoch 17/100\n",
      "59/59 [==============================] - 20s 343ms/step - loss: 9.4493e-04 - mae: 0.0176 - acc: 0.7856 - val_loss: 0.0011 - val_mae: 0.0193 - val_acc: 0.7396\n",
      "Epoch 18/100\n",
      "59/59 [==============================] - 19s 327ms/step - loss: 9.2566e-04 - mae: 0.0172 - acc: 0.7910 - val_loss: 0.0011 - val_mae: 0.0190 - val_acc: 0.7434\n",
      "Epoch 19/100\n",
      "59/59 [==============================] - 20s 337ms/step - loss: 9.0786e-04 - mae: 0.0168 - acc: 0.7943 - val_loss: 0.0011 - val_mae: 0.0188 - val_acc: 0.7470\n",
      "Epoch 20/100\n",
      "59/59 [==============================] - 20s 341ms/step - loss: 8.9066e-04 - mae: 0.0165 - acc: 0.7981 - val_loss: 0.0011 - val_mae: 0.0186 - val_acc: 0.7504\n",
      "Epoch 21/100\n",
      "59/59 [==============================] - 19s 321ms/step - loss: 8.7449e-04 - mae: 0.0162 - acc: 0.8031 - val_loss: 0.0011 - val_mae: 0.0184 - val_acc: 0.7515\n",
      "Epoch 22/100\n",
      "59/59 [==============================] - 20s 341ms/step - loss: 8.5942e-04 - mae: 0.0159 - acc: 0.8065 - val_loss: 0.0010 - val_mae: 0.0181 - val_acc: 0.7539\n",
      "Epoch 23/100\n",
      "59/59 [==============================] - 19s 317ms/step - loss: 8.4485e-04 - mae: 0.0157 - acc: 0.8102 - val_loss: 0.0010 - val_mae: 0.0180 - val_acc: 0.7568\n",
      "Epoch 24/100\n",
      "59/59 [==============================] - 19s 322ms/step - loss: 8.3075e-04 - mae: 0.0154 - acc: 0.8143 - val_loss: 0.0010 - val_mae: 0.0178 - val_acc: 0.7574\n",
      "Epoch 25/100\n",
      "59/59 [==============================] - 19s 324ms/step - loss: 8.1680e-04 - mae: 0.0152 - acc: 0.8170 - val_loss: 0.0010 - val_mae: 0.0175 - val_acc: 0.7595\n",
      "Epoch 26/100\n",
      "59/59 [==============================] - 19s 326ms/step - loss: 7.8364e-04 - mae: 0.0148 - acc: 0.8277 - val_loss: 9.9015e-04 - val_mae: 0.0173 - val_acc: 0.7711\n",
      "Epoch 27/100\n",
      "59/59 [==============================] - 19s 324ms/step - loss: 7.6611e-04 - mae: 0.0145 - acc: 0.8321 - val_loss: 9.8509e-04 - val_mae: 0.0170 - val_acc: 0.7715\n",
      "Epoch 28/100\n",
      "59/59 [==============================] - 19s 327ms/step - loss: 7.4612e-04 - mae: 0.0142 - acc: 0.8384 - val_loss: 9.7097e-04 - val_mae: 0.0168 - val_acc: 0.7755\n",
      "Epoch 29/100\n",
      "59/59 [==============================] - 19s 324ms/step - loss: 7.2896e-04 - mae: 0.0138 - acc: 0.8423 - val_loss: 9.7253e-04 - val_mae: 0.0168 - val_acc: 0.7765\n",
      "Epoch 30/100\n",
      "59/59 [==============================] - 19s 326ms/step - loss: 7.1762e-04 - mae: 0.0136 - acc: 0.8439 - val_loss: 9.6062e-04 - val_mae: 0.0164 - val_acc: 0.7782\n",
      "Epoch 31/100\n",
      "59/59 [==============================] - 21s 365ms/step - loss: 7.0504e-04 - mae: 0.0134 - acc: 0.8472 - val_loss: 9.5577e-04 - val_mae: 0.0163 - val_acc: 0.7799\n",
      "Epoch 32/100\n",
      "59/59 [==============================] - 20s 339ms/step - loss: 6.9345e-04 - mae: 0.0132 - acc: 0.8509 - val_loss: 9.5418e-04 - val_mae: 0.0161 - val_acc: 0.7805\n",
      "Epoch 33/100\n",
      "59/59 [==============================] - 19s 326ms/step - loss: 6.8250e-04 - mae: 0.0129 - acc: 0.8527 - val_loss: 9.5241e-04 - val_mae: 0.0161 - val_acc: 0.7804\n",
      "Epoch 34/100\n",
      "59/59 [==============================] - 20s 336ms/step - loss: 6.7195e-04 - mae: 0.0128 - acc: 0.8557 - val_loss: 9.4786e-04 - val_mae: 0.0160 - val_acc: 0.7815\n",
      "Epoch 35/100\n",
      "59/59 [==============================] - 20s 338ms/step - loss: 6.5797e-04 - mae: 0.0126 - acc: 0.8597 - val_loss: 9.4336e-04 - val_mae: 0.0158 - val_acc: 0.7820\n",
      "Epoch 36/100\n",
      "59/59 [==============================] - 19s 329ms/step - loss: 6.4697e-04 - mae: 0.0124 - acc: 0.8624 - val_loss: 9.4289e-04 - val_mae: 0.0159 - val_acc: 0.7825\n",
      "Epoch 37/100\n",
      "59/59 [==============================] - 19s 327ms/step - loss: 6.3559e-04 - mae: 0.0121 - acc: 0.8646 - val_loss: 9.3977e-04 - val_mae: 0.0157 - val_acc: 0.7830\n",
      "Epoch 38/100\n",
      "59/59 [==============================] - 19s 329ms/step - loss: 6.2593e-04 - mae: 0.0119 - acc: 0.8667 - val_loss: 9.3898e-04 - val_mae: 0.0157 - val_acc: 0.7825\n",
      "Epoch 39/100\n",
      "59/59 [==============================] - 19s 324ms/step - loss: 6.1637e-04 - mae: 0.0118 - acc: 0.8692 - val_loss: 9.3238e-04 - val_mae: 0.0154 - val_acc: 0.7840\n",
      "Epoch 40/100\n",
      "59/59 [==============================] - 21s 353ms/step - loss: 6.0600e-04 - mae: 0.0116 - acc: 0.8721 - val_loss: 9.3428e-04 - val_mae: 0.0154 - val_acc: 0.7835\n",
      "Epoch 41/100\n",
      "59/59 [==============================] - 59s 1s/step - loss: 5.9697e-04 - mae: 0.0114 - acc: 0.8741 - val_loss: 9.3218e-04 - val_mae: 0.0154 - val_acc: 0.7833\n",
      "Epoch 42/100\n",
      "59/59 [==============================] - 17s 287ms/step - loss: 5.8979e-04 - mae: 0.0113 - acc: 0.8750 - val_loss: 9.3660e-04 - val_mae: 0.0154 - val_acc: 0.7831\n",
      "Epoch 43/100\n",
      "59/59 [==============================] - 17s 290ms/step - loss: 5.8246e-04 - mae: 0.0112 - acc: 0.8767 - val_loss: 9.3199e-04 - val_mae: 0.0153 - val_acc: 0.7839\n",
      "Epoch 44/100\n",
      "59/59 [==============================] - 427s 7s/step - loss: 5.7127e-04 - mae: 0.0110 - acc: 0.8787 - val_loss: 9.2941e-04 - val_mae: 0.0152 - val_acc: 0.7838\n",
      "Epoch 45/100\n",
      "59/59 [==============================] - 18s 307ms/step - loss: 5.6205e-04 - mae: 0.0108 - acc: 0.8820 - val_loss: 9.2976e-04 - val_mae: 0.0150 - val_acc: 0.7834\n",
      "Epoch 46/100\n",
      "59/59 [==============================] - 20s 337ms/step - loss: 5.5467e-04 - mae: 0.0107 - acc: 0.8830 - val_loss: 9.2829e-04 - val_mae: 0.0149 - val_acc: 0.7848\n",
      "Epoch 47/100\n",
      "59/59 [==============================] - 106s 2s/step - loss: 5.5053e-04 - mae: 0.0106 - acc: 0.8844 - val_loss: 9.2627e-04 - val_mae: 0.0149 - val_acc: 0.7843\n",
      "Epoch 48/100\n",
      "59/59 [==============================] - 17s 292ms/step - loss: 5.3841e-04 - mae: 0.0104 - acc: 0.8873 - val_loss: 9.2624e-04 - val_mae: 0.0149 - val_acc: 0.7849\n",
      "Epoch 49/100\n",
      "59/59 [==============================] - 21s 351ms/step - loss: 5.3086e-04 - mae: 0.0103 - acc: 0.8882 - val_loss: 9.2716e-04 - val_mae: 0.0149 - val_acc: 0.7833\n",
      "Epoch 50/100\n",
      "59/59 [==============================] - 609s 10s/step - loss: 5.2360e-04 - mae: 0.0101 - acc: 0.8899 - val_loss: 9.3086e-04 - val_mae: 0.0149 - val_acc: 0.7829\n",
      "Epoch 51/100\n",
      "59/59 [==============================] - 21s 359ms/step - loss: 5.1318e-04 - mae: 0.0100 - acc: 0.8921 - val_loss: 9.2119e-04 - val_mae: 0.0147 - val_acc: 0.7853\n",
      "Epoch 52/100\n",
      "59/59 [==============================] - 19s 320ms/step - loss: 5.0917e-04 - mae: 0.0099 - acc: 0.8933 - val_loss: 9.1724e-04 - val_mae: 0.0145 - val_acc: 0.7873\n",
      "Epoch 53/100\n",
      "59/59 [==============================] - 19s 330ms/step - loss: 4.9735e-04 - mae: 0.0097 - acc: 0.8950 - val_loss: 9.1661e-04 - val_mae: 0.0145 - val_acc: 0.7880\n",
      "Epoch 54/100\n",
      "59/59 [==============================] - 17s 293ms/step - loss: 4.9032e-04 - mae: 0.0096 - acc: 0.8965 - val_loss: 9.2006e-04 - val_mae: 0.0146 - val_acc: 0.7869\n",
      "Epoch 55/100\n",
      "59/59 [==============================] - 17s 287ms/step - loss: 4.8456e-04 - mae: 0.0095 - acc: 0.8976 - val_loss: 9.2059e-04 - val_mae: 0.0146 - val_acc: 0.7855\n",
      "Epoch 56/100\n",
      "59/59 [==============================] - 17s 282ms/step - loss: 4.7912e-04 - mae: 0.0094 - acc: 0.8990 - val_loss: 9.1584e-04 - val_mae: 0.0147 - val_acc: 0.7868\n",
      "Epoch 57/100\n",
      "59/59 [==============================] - 17s 288ms/step - loss: 4.8179e-04 - mae: 0.0095 - acc: 0.8991 - val_loss: 9.2399e-04 - val_mae: 0.0144 - val_acc: 0.7872\n",
      "Epoch 58/100\n",
      "59/59 [==============================] - 17s 293ms/step - loss: 4.6759e-04 - mae: 0.0092 - acc: 0.9031 - val_loss: 9.1156e-04 - val_mae: 0.0145 - val_acc: 0.7883\n",
      "Epoch 59/100\n",
      "59/59 [==============================] - 16s 275ms/step - loss: 4.5248e-04 - mae: 0.0090 - acc: 0.9062 - val_loss: 9.1072e-04 - val_mae: 0.0143 - val_acc: 0.7886\n",
      "Epoch 60/100\n",
      "59/59 [==============================] - 16s 281ms/step - loss: 4.4279e-04 - mae: 0.0088 - acc: 0.9076 - val_loss: 9.0789e-04 - val_mae: 0.0141 - val_acc: 0.7901\n",
      "Epoch 61/100\n",
      "59/59 [==============================] - 17s 288ms/step - loss: 4.3563e-04 - mae: 0.0087 - acc: 0.9094 - val_loss: 9.1002e-04 - val_mae: 0.0141 - val_acc: 0.7893\n",
      "Epoch 62/100\n",
      "59/59 [==============================] - 17s 288ms/step - loss: 4.3642e-04 - mae: 0.0086 - acc: 0.9091 - val_loss: 9.2631e-04 - val_mae: 0.0144 - val_acc: 0.7847\n",
      "Epoch 63/100\n",
      "59/59 [==============================] - 17s 284ms/step - loss: 4.2892e-04 - mae: 0.0085 - acc: 0.9107 - val_loss: 9.1461e-04 - val_mae: 0.0142 - val_acc: 0.7868\n",
      "Epoch 64/100\n",
      "59/59 [==============================] - 17s 290ms/step - loss: 4.2005e-04 - mae: 0.0084 - acc: 0.9121 - val_loss: 9.1359e-04 - val_mae: 0.0140 - val_acc: 0.7896\n",
      "Epoch 65/100\n",
      "59/59 [==============================] - 17s 295ms/step - loss: 4.1278e-04 - mae: 0.0083 - acc: 0.9135 - val_loss: 9.1263e-04 - val_mae: 0.0139 - val_acc: 0.7888\n",
      "Epoch 66/100\n",
      "59/59 [==============================] - 17s 286ms/step - loss: 4.0721e-04 - mae: 0.0081 - acc: 0.9146 - val_loss: 9.1402e-04 - val_mae: 0.0139 - val_acc: 0.7893\n",
      "Epoch 67/100\n",
      "59/59 [==============================] - 17s 284ms/step - loss: 4.0140e-04 - mae: 0.0081 - acc: 0.9155 - val_loss: 9.1702e-04 - val_mae: 0.0140 - val_acc: 0.7882\n",
      "Epoch 68/100\n",
      "59/59 [==============================] - 19s 321ms/step - loss: 3.9528e-04 - mae: 0.0080 - acc: 0.9169 - val_loss: 9.1723e-04 - val_mae: 0.0140 - val_acc: 0.7859\n",
      "Epoch 69/100\n",
      "59/59 [==============================] - 18s 300ms/step - loss: 3.9592e-04 - mae: 0.0080 - acc: 0.9173 - val_loss: 9.1229e-04 - val_mae: 0.0140 - val_acc: 0.7892\n",
      "Epoch 70/100\n",
      "59/59 [==============================] - 17s 285ms/step - loss: 4.5767e-04 - mae: 0.0086 - acc: 0.9061 - val_loss: 9.2971e-04 - val_mae: 0.0139 - val_acc: 0.7882\n",
      "Epoch 71/100\n",
      "59/59 [==============================] - 17s 290ms/step - loss: 4.3545e-04 - mae: 0.0083 - acc: 0.9118 - val_loss: 9.1916e-04 - val_mae: 0.0140 - val_acc: 0.7899\n",
      "Epoch 72/100\n",
      "59/59 [==============================] - 19s 315ms/step - loss: 4.0444e-04 - mae: 0.0080 - acc: 0.9172 - val_loss: 9.1635e-04 - val_mae: 0.0138 - val_acc: 0.7897\n",
      "Epoch 73/100\n",
      "59/59 [==============================] - 17s 288ms/step - loss: 3.8425e-04 - mae: 0.0077 - acc: 0.9201 - val_loss: 9.2067e-04 - val_mae: 0.0139 - val_acc: 0.7868\n",
      "Epoch 74/100\n",
      "59/59 [==============================] - 17s 283ms/step - loss: 3.7485e-04 - mae: 0.0075 - acc: 0.9218 - val_loss: 9.1784e-04 - val_mae: 0.0138 - val_acc: 0.7881\n",
      "Epoch 75/100\n",
      "59/59 [==============================] - 17s 289ms/step - loss: 3.7016e-04 - mae: 0.0075 - acc: 0.9222 - val_loss: 9.1635e-04 - val_mae: 0.0136 - val_acc: 0.7907\n",
      "Epoch 76/100\n",
      "59/59 [==============================] - 17s 287ms/step - loss: 3.6304e-04 - mae: 0.0073 - acc: 0.9235 - val_loss: 9.1929e-04 - val_mae: 0.0137 - val_acc: 0.7887\n",
      "Epoch 77/100\n",
      "59/59 [==============================] - 17s 286ms/step - loss: 3.5656e-04 - mae: 0.0072 - acc: 0.9248 - val_loss: 9.2370e-04 - val_mae: 0.0138 - val_acc: 0.7871\n",
      "Epoch 78/100\n",
      "59/59 [==============================] - 17s 288ms/step - loss: 3.5366e-04 - mae: 0.0071 - acc: 0.9256 - val_loss: 9.2356e-04 - val_mae: 0.0137 - val_acc: 0.7875\n",
      "Epoch 79/100\n",
      "59/59 [==============================] - 17s 291ms/step - loss: 3.4865e-04 - mae: 0.0071 - acc: 0.9264 - val_loss: 9.2514e-04 - val_mae: 0.0136 - val_acc: 0.7871\n",
      "Epoch 80/100\n",
      "59/59 [==============================] - 16s 281ms/step - loss: 3.4405e-04 - mae: 0.0069 - acc: 0.9271 - val_loss: 9.2540e-04 - val_mae: 0.0136 - val_acc: 0.7863\n",
      "Epoch 81/100\n",
      "59/59 [==============================] - 17s 296ms/step - loss: 3.4150e-04 - mae: 0.0069 - acc: 0.9275 - val_loss: 9.2887e-04 - val_mae: 0.0137 - val_acc: 0.7851\n",
      "Epoch 82/100\n",
      "59/59 [==============================] - 17s 295ms/step - loss: 3.3653e-04 - mae: 0.0068 - acc: 0.9284 - val_loss: 9.3369e-04 - val_mae: 0.0136 - val_acc: 0.7847\n",
      "Epoch 83/100\n",
      "59/59 [==============================] - 17s 291ms/step - loss: 3.3331e-04 - mae: 0.0067 - acc: 0.9290 - val_loss: 9.3138e-04 - val_mae: 0.0136 - val_acc: 0.7854\n",
      "Epoch 84/100\n",
      "59/59 [==============================] - 17s 294ms/step - loss: 3.2837e-04 - mae: 0.0067 - acc: 0.9301 - val_loss: 9.3572e-04 - val_mae: 0.0136 - val_acc: 0.7839\n",
      "Epoch 85/100\n",
      "59/59 [==============================] - 17s 288ms/step - loss: 3.2437e-04 - mae: 0.0066 - acc: 0.9306 - val_loss: 9.2933e-04 - val_mae: 0.0135 - val_acc: 0.7867\n",
      "Epoch 86/100\n",
      "59/59 [==============================] - 18s 308ms/step - loss: 3.2093e-04 - mae: 0.0065 - acc: 0.9312 - val_loss: 9.3780e-04 - val_mae: 0.0136 - val_acc: 0.7833\n",
      "Epoch 87/100\n",
      "59/59 [==============================] - 20s 338ms/step - loss: 3.1897e-04 - mae: 0.0065 - acc: 0.9317 - val_loss: 9.3748e-04 - val_mae: 0.0135 - val_acc: 0.7833\n",
      "Epoch 88/100\n",
      "59/59 [==============================] - 17s 297ms/step - loss: 3.1489e-04 - mae: 0.0064 - acc: 0.9323 - val_loss: 9.3797e-04 - val_mae: 0.0135 - val_acc: 0.7838\n",
      "Epoch 89/100\n",
      "59/59 [==============================] - 19s 318ms/step - loss: 3.1080e-04 - mae: 0.0063 - acc: 0.9332 - val_loss: 9.4737e-04 - val_mae: 0.0136 - val_acc: 0.7812\n",
      "Epoch 90/100\n",
      "59/59 [==============================] - 18s 308ms/step - loss: 3.0751e-04 - mae: 0.0062 - acc: 0.9338 - val_loss: 9.4764e-04 - val_mae: 0.0136 - val_acc: 0.7806\n",
      "Epoch 91/100\n",
      "59/59 [==============================] - 17s 292ms/step - loss: 3.0474e-04 - mae: 0.0062 - acc: 0.9343 - val_loss: 9.4333e-04 - val_mae: 0.0134 - val_acc: 0.7828\n",
      "Epoch 92/100\n",
      "59/59 [==============================] - 18s 302ms/step - loss: 3.0128e-04 - mae: 0.0061 - acc: 0.9347 - val_loss: 9.5442e-04 - val_mae: 0.0136 - val_acc: 0.7790\n",
      "Epoch 93/100\n",
      "59/59 [==============================] - 37s 638ms/step - loss: 2.9824e-04 - mae: 0.0060 - acc: 0.9353 - val_loss: 9.4703e-04 - val_mae: 0.0134 - val_acc: 0.7818\n",
      "Epoch 94/100\n",
      "59/59 [==============================] - 18s 300ms/step - loss: 2.9550e-04 - mae: 0.0060 - acc: 0.9356 - val_loss: 9.5910e-04 - val_mae: 0.0136 - val_acc: 0.7790\n",
      "Epoch 95/100\n",
      "59/59 [==============================] - 18s 298ms/step - loss: 2.9315e-04 - mae: 0.0059 - acc: 0.9359 - val_loss: 9.5974e-04 - val_mae: 0.0135 - val_acc: 0.7784\n",
      "Epoch 96/100\n",
      "59/59 [==============================] - 404s 7s/step - loss: 2.9015e-04 - mae: 0.0059 - acc: 0.9365 - val_loss: 9.5696e-04 - val_mae: 0.0134 - val_acc: 0.7809\n",
      "Epoch 97/100\n",
      "59/59 [==============================] - 21s 350ms/step - loss: 2.8673e-04 - mae: 0.0058 - acc: 0.9368 - val_loss: 9.5572e-04 - val_mae: 0.0134 - val_acc: 0.7801\n",
      "Epoch 98/100\n",
      "59/59 [==============================] - 18s 301ms/step - loss: 2.8377e-04 - mae: 0.0057 - acc: 0.9375 - val_loss: 9.6150e-04 - val_mae: 0.0135 - val_acc: 0.7783\n",
      "Epoch 99/100\n",
      "59/59 [==============================] - 17s 292ms/step - loss: 2.8281e-04 - mae: 0.0057 - acc: 0.9376 - val_loss: 9.8689e-04 - val_mae: 0.0138 - val_acc: 0.7737\n",
      "Epoch 100/100\n",
      "59/59 [==============================] - 18s 300ms/step - loss: 2.9081e-04 - mae: 0.0058 - acc: 0.9371 - val_loss: 9.5489e-04 - val_mae: 0.0132 - val_acc: 0.7813\n"
     ]
    }
   ],
   "source": [
    "# batch_size_results, epoch_results = grid_search()"
   ]
  }
 ],
 "metadata": {
  "interpreter": {
   "hash": "aee8b7b246df8f9039afb4144a1f6fd8d2ca17a180786b69acc140d282b71a49"
  },
  "kernelspec": {
   "display_name": "Python 3",
   "language": "python",
   "name": "python3"
  },
  "language_info": {
   "codemirror_mode": {
    "name": "ipython",
    "version": 3
   },
   "file_extension": ".py",
   "mimetype": "text/x-python",
   "name": "python",
   "nbconvert_exporter": "python",
   "pygments_lexer": "ipython3",
   "version": "3.9.4"
  }
 },
 "nbformat": 4,
 "nbformat_minor": 2
}
