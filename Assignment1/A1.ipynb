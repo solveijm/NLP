{
 "cells": [
  {
   "cell_type": "markdown",
   "metadata": {},
   "source": [
    "!pip install sklearn"
   ]
  },
  {
   "cell_type": "markdown",
   "metadata": {},
   "source": [
    "# Part-of-speech tagging"
   ]
  },
  {
   "cell_type": "markdown",
   "metadata": {},
   "source": [
    "### Import libraries"
   ]
  },
  {
   "cell_type": "code",
   "execution_count": 1,
   "metadata": {},
   "outputs": [],
   "source": [
    "import os\n",
    "import pandas as pd\n",
    "import numpy as np\n",
    "from scipy import spatial\n",
    "import matplotlib.pyplot as plt\n",
    "from sklearn.manifold import TSNE\n",
    "import pickle\n",
    "from tensorflow import keras\n",
    "from tensorflow.keras import layers\n",
    "from keras.utils.np_utils import to_categorical\n",
    "from keras.preprocessing.sequence import pad_sequences\n",
    "from collections import OrderedDict\n",
    "from keras.preprocessing.text import Tokenizer\n",
    "\n",
    "\n"
   ]
  },
  {
   "cell_type": "markdown",
   "metadata": {},
   "source": [
    "### Define constant variables"
   ]
  },
  {
   "cell_type": "code",
   "execution_count": 2,
   "metadata": {},
   "outputs": [],
   "source": [
    "train_path = './Dataset/train/'# Should we use: os.path.join(os.getcwd(), \"OriginalDataset\")\n",
    "val_path = './Dataset/val/'\n",
    "test_path = './Dataset/test/'\n",
    "dataset_folder = os.path.join(os.getcwd(), \"OriginalDataset\")\n",
    "original_path = dataset_folder +'/dependency_treebank/'\n",
    "\n",
    "embedding_dimension = 50\n"
   ]
  },
  {
   "cell_type": "markdown",
   "metadata": {},
   "source": [
    "### Download dataste"
   ]
  },
  {
   "cell_type": "code",
   "execution_count": 3,
   "metadata": {},
   "outputs": [],
   "source": [
    "import urllib.request  #  download files\n",
    "import zipfile  #  unzip files\n",
    "\n",
    "def download_dataset():\n",
    "    dataset_folder = os.path.join(os.getcwd(), \"OriginalDataset\")\n",
    "\n",
    "    if not os.path.exists(dataset_folder):\n",
    "        os.makedirs(dataset_folder)\n",
    "\n",
    "    url = 'https://raw.githubusercontent.com/nltk/nltk_data/gh-pages/packages/corpora/dependency_treebank.zip'\n",
    "\n",
    "    dataset_path = os.path.join(dataset_folder, \"dependency_treebank.zip\")\n",
    "\n",
    "    if not os.path.exists(dataset_path):\n",
    "        urllib.request.urlretrieve(url, dataset_path)\n",
    "        print(\"Successful download\")\n",
    "\n",
    "    with zipfile.ZipFile(dataset_path,\"r\") as zip_ref:\n",
    "        zip_ref.extractall(dataset_folder)\n",
    "    print(\"Successful extraction\")"
   ]
  },
  {
   "cell_type": "code",
   "execution_count": 4,
   "metadata": {},
   "outputs": [
    {
     "name": "stdout",
     "output_type": "stream",
     "text": [
      "Successful extraction\n"
     ]
    }
   ],
   "source": [
    "download_dataset()"
   ]
  },
  {
   "cell_type": "markdown",
   "metadata": {},
   "source": [
    "### Split dataset"
   ]
  },
  {
   "cell_type": "code",
   "execution_count": 5,
   "metadata": {},
   "outputs": [],
   "source": [
    "def split_dataset(train_path, val_path, test_path, original_path):\n",
    "    if not os.path.exists(train_path):\n",
    "        print(\"making directory\")\n",
    "        os.makedirs(train_path)\n",
    "    if not os.path.exists(val_path):\n",
    "        os.makedirs(val_path)\n",
    "    if not os.path.exists(test_path):\n",
    "        os.makedirs(test_path)\n",
    "\n",
    "    original_dataset = os.listdir(original_path)\n",
    "    \n",
    "    original_dataset.sort()\n",
    "    org_train = original_dataset[0:100]\n",
    "    org_val = original_dataset[100:150]\n",
    "    org_test = original_dataset[150:]\n",
    "\n",
    "    for f in org_train:\n",
    "        os.rename(original_path+f, train_path+f)\n",
    "    for f in org_val:\n",
    "        os.rename(original_path+f, val_path+f)\n",
    "    for f in org_test:\n",
    "        os.rename(original_path+f, test_path+f)\n",
    "    print(\"Successful spilt\")\n",
    "        "
   ]
  },
  {
   "cell_type": "code",
   "execution_count": 6,
   "metadata": {},
   "outputs": [
    {
     "name": "stdout",
     "output_type": "stream",
     "text": [
      "Successful spilt\n"
     ]
    }
   ],
   "source": [
    "split_dataset(train_path, val_path, test_path, original_path)\n"
   ]
  },
  {
   "cell_type": "markdown",
   "metadata": {},
   "source": [
    "### Create dataframe"
   ]
  },
  {
   "cell_type": "code",
   "execution_count": 7,
   "metadata": {},
   "outputs": [],
   "source": [
    "def create_dataframe(dataset_path: str):\n",
    "    dataframe_rows = []\n",
    "    documents = os.listdir(dataset_path)\n",
    "    for document in documents:\n",
    "        path = os.path.join(dataset_path, document)\n",
    "        with open(path, 'r') as f:\n",
    "            a = [[x for x in ln.split()] for ln in f]\n",
    "        #---------------For splitting on sentence-------------------#\n",
    "        sentence = []\n",
    "        sentence_tag = []\n",
    "        for x in a:\n",
    "            if x!=[]:\n",
    "                sentence.append(x[0])\n",
    "                sentence_tag.append(x[1])\n",
    "            else:\n",
    "                dataframe_row = {\n",
    "                    \"text\": sentence,\n",
    "                    \"POS\": sentence_tag\n",
    "                }\n",
    "                sentence = []\n",
    "                sentence_tag = []\n",
    "                dataframe_rows.append(dataframe_row)\n",
    "        #----------------------------------------------------------#\n",
    "        #------------------To split on document--------------------#\n",
    "        \"\"\"\n",
    "        a2 = [x for x in a if x != []] # OBS! Removing all empty lines in file so we can make an array\n",
    "        arr = np.array(a2)\n",
    "        text = list(arr[:, 0])\n",
    "        tagg = list(arr[:, 1])\n",
    "        #POStuple =  [tagg[x] for x in range(len(text))] #[(text[x], tagg[x]) for x in range(len(text))]\n",
    "        document_id = int(document[4:8])\n",
    "        dataframe_row = {\n",
    "            \"document_id\": document_id,\n",
    "            \"text\": text,\n",
    "            \"POS\": tagg\n",
    "        }\n",
    "        dataframe_rows.append(dataframe_row)\"\"\"\n",
    "        #----------------------------------------------------------#\n",
    "    # transform the list of rows in a proper dataframe\n",
    "    df = pd.DataFrame(dataframe_rows)\n",
    "    df = df[[\"text\", \"POS\"]]\n",
    "\n",
    "    return df"
   ]
  },
  {
   "cell_type": "code",
   "execution_count": 8,
   "metadata": {},
   "outputs": [
    {
     "data": {
      "text/html": [
       "<div>\n",
       "<style scoped>\n",
       "    .dataframe tbody tr th:only-of-type {\n",
       "        vertical-align: middle;\n",
       "    }\n",
       "\n",
       "    .dataframe tbody tr th {\n",
       "        vertical-align: top;\n",
       "    }\n",
       "\n",
       "    .dataframe thead th {\n",
       "        text-align: right;\n",
       "    }\n",
       "</style>\n",
       "<table border=\"1\" class=\"dataframe\">\n",
       "  <thead>\n",
       "    <tr style=\"text-align: right;\">\n",
       "      <th></th>\n",
       "      <th>text</th>\n",
       "      <th>POS</th>\n",
       "    </tr>\n",
       "  </thead>\n",
       "  <tbody>\n",
       "    <tr>\n",
       "      <th>0</th>\n",
       "      <td>[In, reference, to, your, Oct., 9, page-one, a...</td>\n",
       "      <td>[IN, NN, TO, PRP$, NNP, CD, NN, NN, ``, NNP, N...</td>\n",
       "    </tr>\n",
       "    <tr>\n",
       "      <th>1</th>\n",
       "      <td>[In, part, ,, this, may, reflect, the, fact, t...</td>\n",
       "      <td>[IN, NN, ,, DT, MD, VB, DT, NN, IN, ``, PRP, V...</td>\n",
       "    </tr>\n",
       "    <tr>\n",
       "      <th>2</th>\n",
       "      <td>[Among, professionals, ,, 76, %, have, a, favo...</td>\n",
       "      <td>[IN, NNS, ,, CD, NN, VBP, DT, JJ, NN, IN, PRP$...</td>\n",
       "    </tr>\n",
       "    <tr>\n",
       "      <th>3</th>\n",
       "      <td>[While, a, quarter, of, black, voters, disappr...</td>\n",
       "      <td>[IN, DT, NN, IN, JJ, NNS, VBP, IN, NNP, NNP, P...</td>\n",
       "    </tr>\n",
       "    <tr>\n",
       "      <th>4</th>\n",
       "      <td>[The, statistics, imply, that, three-quarters,...</td>\n",
       "      <td>[DT, NNS, VBP, IN, NNS, IN, NNS, VBP, IN, NNP,...</td>\n",
       "    </tr>\n",
       "    <tr>\n",
       "      <th>...</th>\n",
       "      <td>...</td>\n",
       "      <td>...</td>\n",
       "    </tr>\n",
       "    <tr>\n",
       "      <th>1858</th>\n",
       "      <td>[He, said, authors, of, Scoring, High, ``, scr...</td>\n",
       "      <td>[PRP, VBD, NNS, IN, NNP, NNP, ``, RB, VBP, '',...</td>\n",
       "    </tr>\n",
       "    <tr>\n",
       "      <th>1859</th>\n",
       "      <td>[When, Scoring, High, first, came, out, in, 19...</td>\n",
       "      <td>[WRB, NNP, NNP, RB, VBD, RB, IN, CD, ,, PRP, V...</td>\n",
       "    </tr>\n",
       "    <tr>\n",
       "      <th>1860</th>\n",
       "      <td>[McGraw-Hill, was, outraged, .]</td>\n",
       "      <td>[NNP, VBD, JJ, .]</td>\n",
       "    </tr>\n",
       "    <tr>\n",
       "      <th>1861</th>\n",
       "      <td>[In, a, 1985, advisory, to, educators, ,, McGr...</td>\n",
       "      <td>[IN, DT, CD, NN, TO, NNS, ,, NNP, VBD, NNP, NN...</td>\n",
       "    </tr>\n",
       "    <tr>\n",
       "      <th>1862</th>\n",
       "      <td>[But, in, 1988, ,, McGraw-Hill, purchased, the...</td>\n",
       "      <td>[CC, IN, CD, ,, NNP, VBD, DT, NNP, NNP, NN, WD...</td>\n",
       "    </tr>\n",
       "  </tbody>\n",
       "</table>\n",
       "<p>1863 rows × 2 columns</p>\n",
       "</div>"
      ],
      "text/plain": [
       "                                                   text  \\\n",
       "0     [In, reference, to, your, Oct., 9, page-one, a...   \n",
       "1     [In, part, ,, this, may, reflect, the, fact, t...   \n",
       "2     [Among, professionals, ,, 76, %, have, a, favo...   \n",
       "3     [While, a, quarter, of, black, voters, disappr...   \n",
       "4     [The, statistics, imply, that, three-quarters,...   \n",
       "...                                                 ...   \n",
       "1858  [He, said, authors, of, Scoring, High, ``, scr...   \n",
       "1859  [When, Scoring, High, first, came, out, in, 19...   \n",
       "1860                    [McGraw-Hill, was, outraged, .]   \n",
       "1861  [In, a, 1985, advisory, to, educators, ,, McGr...   \n",
       "1862  [But, in, 1988, ,, McGraw-Hill, purchased, the...   \n",
       "\n",
       "                                                    POS  \n",
       "0     [IN, NN, TO, PRP$, NNP, CD, NN, NN, ``, NNP, N...  \n",
       "1     [IN, NN, ,, DT, MD, VB, DT, NN, IN, ``, PRP, V...  \n",
       "2     [IN, NNS, ,, CD, NN, VBP, DT, JJ, NN, IN, PRP$...  \n",
       "3     [IN, DT, NN, IN, JJ, NNS, VBP, IN, NNP, NNP, P...  \n",
       "4     [DT, NNS, VBP, IN, NNS, IN, NNS, VBP, IN, NNP,...  \n",
       "...                                                 ...  \n",
       "1858  [PRP, VBD, NNS, IN, NNP, NNP, ``, RB, VBP, '',...  \n",
       "1859  [WRB, NNP, NNP, RB, VBD, RB, IN, CD, ,, PRP, V...  \n",
       "1860                                  [NNP, VBD, JJ, .]  \n",
       "1861  [IN, DT, CD, NN, TO, NNS, ,, NNP, VBD, NNP, NN...  \n",
       "1862  [CC, IN, CD, ,, NNP, VBD, DT, NNP, NNP, NN, WD...  \n",
       "\n",
       "[1863 rows x 2 columns]"
      ]
     },
     "execution_count": 8,
     "metadata": {},
     "output_type": "execute_result"
    }
   ],
   "source": [
    "df_train = create_dataframe(train_path)\n",
    "df_val = create_dataframe(val_path)\n",
    "df_test = create_dataframe(test_path)\n",
    "\n",
    "df_train"
   ]
  },
  {
   "cell_type": "markdown",
   "metadata": {},
   "source": [
    "### Embed the words using GloVe embedding"
   ]
  },
  {
   "cell_type": "markdown",
   "metadata": {},
   "source": [
    "#### Load glove model"
   ]
  },
  {
   "cell_type": "code",
   "execution_count": 9,
   "metadata": {},
   "outputs": [],
   "source": [
    "import gensim\n",
    "import gensim.downloader as gloader\n",
    "\n",
    "def load_embedding_model(embedding_dimension: int = 50) -> gensim.models.keyedvectors.KeyedVectors:\n",
    "    download_path = \"glove-wiki-gigaword-{}\".format(embedding_dimension)\n",
    "    # Check download\n",
    "    try:\n",
    "        emb_model = gloader.load(download_path)\n",
    "    except ValueError as e:\n",
    "        print(\"Invalid embedding model name! Check the embedding dimension:\")\n",
    "        print(\"Word2Vec: 300\")\n",
    "        print(\"Glove: 50, 100, 200, 300\")\n",
    "        raise e\n",
    "\n",
    "    return emb_model"
   ]
  },
  {
   "cell_type": "code",
   "execution_count": 10,
   "metadata": {},
   "outputs": [],
   "source": [
    "embedding_model = load_embedding_model(embedding_dimension)"
   ]
  },
  {
   "cell_type": "markdown",
   "metadata": {},
   "source": [
    "### Make tokenizer REMOVE THIS PART"
   ]
  },
  {
   "cell_type": "code",
   "execution_count": 11,
   "metadata": {},
   "outputs": [
    {
     "data": {
      "text/plain": [
       "'# OBS: The tokenizer removes every word with a special character. Etc: 100,000, $, u.s.\\n# The tokenizer also handles OOV terms and when adding more words, it will just add the OOV words to the word to index dictionary. \\nword_tokenizer_train2 = Tokenizer()\\n\\n# UNCOMMENT IF WE WANT TO INCLUDE GOLVE vocabualry\\nword_tokenizer_train2.fit_on_texts(embedding_model.index_to_key) \\nword_tokenizer_train2.fit_on_texts(df_train[\"text\"])\\n\\nx_encoded_train = word_tokenizer_train2.texts_to_sequences(df_train[\"text\"])'"
      ]
     },
     "execution_count": 11,
     "metadata": {},
     "output_type": "execute_result"
    }
   ],
   "source": [
    "\"\"\"# OBS: The tokenizer removes every word with a special character. Etc: 100,000, $, u.s.\n",
    "# The tokenizer also handles OOV terms and when adding more words, it will just add the OOV words to the word to index dictionary. \n",
    "word_tokenizer_train2 = Tokenizer()\n",
    "\n",
    "# UNCOMMENT IF WE WANT TO INCLUDE GOLVE vocabualry\n",
    "word_tokenizer_train2.fit_on_texts(embedding_model.index_to_key) \n",
    "word_tokenizer_train2.fit_on_texts(df_train[\"text\"])\n",
    "\n",
    "x_encoded_train = word_tokenizer_train2.texts_to_sequences(df_train[\"text\"])\"\"\""
   ]
  },
  {
   "cell_type": "code",
   "execution_count": 12,
   "metadata": {},
   "outputs": [
    {
     "data": {
      "text/plain": [
       "'tag_tokenizer_train2 = Tokenizer()\\n\\ntag_tokenizer_train2.fit_on_texts(df_train[\"POS\"])\\ny_encoded_train = tag_tokenizer_train2.texts_to_sequences(df_train[\"POS\"])'"
      ]
     },
     "execution_count": 12,
     "metadata": {},
     "output_type": "execute_result"
    }
   ],
   "source": [
    "\"\"\"tag_tokenizer_train2 = Tokenizer()\n",
    "\n",
    "tag_tokenizer_train2.fit_on_texts(df_train[\"POS\"])\n",
    "y_encoded_train = tag_tokenizer_train2.texts_to_sequences(df_train[\"POS\"])\"\"\""
   ]
  },
  {
   "cell_type": "markdown",
   "metadata": {},
   "source": [
    "### NEW WAY TO Make tokenizer"
   ]
  },
  {
   "cell_type": "code",
   "execution_count": 13,
   "metadata": {},
   "outputs": [],
   "source": [
    "def make_tokenizer(*vocabulary):\n",
    "    # OBS: The tokenizer removes every word with a special character. Etc: 100,000, $, u.s.\n",
    "    # The tokenizer also handles OOV terms and when adding more words, it will just add the OOV words to the word to index dictionary. \n",
    "    tokenizer = Tokenizer()\n",
    "    \n",
    "    # UNCOMMENT IF WE WANT TO INCLUDE GOLVE vocabualry\n",
    "    for v in vocabulary:\n",
    "        tokenizer.fit_on_texts(v)\n",
    "    return tokenizer \n"
   ]
  },
  {
   "cell_type": "code",
   "execution_count": 14,
   "metadata": {},
   "outputs": [],
   "source": [
    "word_tokenizer = make_tokenizer(df_train[\"text\"], df_val[\"text\"], df_test[\"text\"])\n",
    "tag_tokenizer = make_tokenizer(df_train[\"POS\"])"
   ]
  },
  {
   "cell_type": "markdown",
   "metadata": {},
   "source": [
    "### Encode X and Y"
   ]
  },
  {
   "cell_type": "code",
   "execution_count": 15,
   "metadata": {},
   "outputs": [],
   "source": [
    "x_encoded_train = word_tokenizer.texts_to_sequences(df_train[\"text\"])\n",
    "y_encoded_train = tag_tokenizer.texts_to_sequences(df_train[\"POS\"])"
   ]
  },
  {
   "cell_type": "code",
   "execution_count": 16,
   "metadata": {},
   "outputs": [],
   "source": [
    "x_encoded_val = word_tokenizer.texts_to_sequences(df_val[\"text\"])\n",
    "y_encoded_val = tag_tokenizer.texts_to_sequences(df_val[\"POS\"])"
   ]
  },
  {
   "cell_type": "code",
   "execution_count": 17,
   "metadata": {},
   "outputs": [],
   "source": [
    "x_encoded_test = word_tokenizer.texts_to_sequences(df_test[\"text\"])\n",
    "y_encoded_test = tag_tokenizer.texts_to_sequences(df_test[\"POS\"])\n"
   ]
  },
  {
   "cell_type": "markdown",
   "metadata": {},
   "source": [
    "### Pad encoded sequences"
   ]
  },
  {
   "cell_type": "code",
   "execution_count": 18,
   "metadata": {},
   "outputs": [],
   "source": [
    "def pad_idx_seqs(idx_seqs, max_seq_len):\n",
    "    # Keras provides a convenient padding function; \n",
    "    padded_idxs = pad_sequences(sequences=idx_seqs, maxlen=max_seq_len)\n",
    "    return padded_idxs"
   ]
  },
  {
   "cell_type": "code",
   "execution_count": 19,
   "metadata": {},
   "outputs": [],
   "source": [
    "def find_max_length(seqs):\n",
    "    max_len = 0\n",
    "    for seq in seqs:\n",
    "        if len(seq) > max_len:\n",
    "            max_len = len(seq)\n",
    "    return max_len"
   ]
  },
  {
   "cell_type": "code",
   "execution_count": 20,
   "metadata": {},
   "outputs": [],
   "source": [
    "x_padded_train = pad_idx_seqs(x_encoded_train, find_max_length(x_encoded_train))\n",
    "y_padded_train = pad_idx_seqs(y_encoded_train, find_max_length(y_encoded_train))"
   ]
  },
  {
   "cell_type": "code",
   "execution_count": 21,
   "metadata": {},
   "outputs": [],
   "source": [
    "x_padded_val = pad_idx_seqs(x_encoded_val, find_max_length(x_encoded_train))\n",
    "y_padded_val = pad_idx_seqs(y_encoded_val, find_max_length(y_encoded_train))"
   ]
  },
  {
   "cell_type": "code",
   "execution_count": 110,
   "metadata": {},
   "outputs": [],
   "source": [
    "x_padded_test = pad_idx_seqs(x_encoded_test, find_max_length(x_encoded_train))\n",
    "y_padded_test = pad_idx_seqs(y_encoded_test, find_max_length(y_encoded_train))"
   ]
  },
  {
   "cell_type": "markdown",
   "metadata": {},
   "source": [
    "# NEW METHODE TO GET WORD TO INDX"
   ]
  },
  {
   "cell_type": "code",
   "execution_count": 111,
   "metadata": {},
   "outputs": [],
   "source": [
    "VOCABULARY_SIZE = len(word_tokenizer.word_index) + 1\n",
    "\n",
    "word2idx = word_tokenizer.word_index\n",
    "idx2word = word_tokenizer.index_word"
   ]
  },
  {
   "cell_type": "code",
   "execution_count": 112,
   "metadata": {},
   "outputs": [
    {
     "data": {
      "text/plain": [
       "45"
      ]
     },
     "execution_count": 112,
     "metadata": {},
     "output_type": "execute_result"
    }
   ],
   "source": [
    "tag2idx = tag_tokenizer.word_index\n",
    "idx2tag = tag_tokenizer.index_word\n",
    "len(tag2idx)"
   ]
  },
  {
   "cell_type": "code",
   "execution_count": 113,
   "metadata": {},
   "outputs": [],
   "source": [
    "TAG_VOCABULARY_SIZE = len(tag2idx) + 1"
   ]
  },
  {
   "cell_type": "markdown",
   "metadata": {},
   "source": [
    "### Create embedding matrix"
   ]
  },
  {
   "cell_type": "code",
   "execution_count": 26,
   "metadata": {},
   "outputs": [],
   "source": [
    "# OBS Computes the OOV with random embeddings\n",
    "def create_embedding_matrix(embedding_model, embedding_dimension, word_to_idx):\n",
    "    embedding_matrix = np.zeros((len(word_to_idx)+1, embedding_dimension), dtype=np.float32)\n",
    "    for word, idx in word_to_idx.items():\n",
    "        try:\n",
    "            embedding_vector = embedding_model[word]\n",
    "        except (KeyError, TypeError):\n",
    "            embedding_vector = np.random.uniform(low=-0.05, high=0.05, size=embedding_dimension)\n",
    "\n",
    "        embedding_matrix[idx] = embedding_vector\n",
    "                                \n",
    "    return embedding_matrix\n",
    "\n",
    "def expand_embedding_matrix(embedding_model, embedding_dimension, word_to_idx, old_embedding_matrix):\n",
    "    embedding_matrix = np.zeros((len(word_to_idx), embedding_dimension), dtype=np.float32)\n",
    "    embedding_matrix[0:len(old_embedding_matrix)] = old_embedding_matrix\n",
    "    \n",
    "    for word, idx in word_to_idx.items():\n",
    "        if idx >= len(old_embedding_matrix):\n",
    "            try:\n",
    "                embedding_vector = embedding_model[word]\n",
    "            except (KeyError, TypeError):\n",
    "                embedding_vector = np.random.uniform(low=-0.05, high=0.05, size=embedding_dimension)\n",
    "                \n",
    "            embedding_matrix[idx] = embedding_vector\n",
    "    \n",
    "    return embedding_matrix                                "
   ]
  },
  {
   "cell_type": "code",
   "execution_count": 27,
   "metadata": {},
   "outputs": [],
   "source": [
    "embedding_matrix = create_embedding_matrix(embedding_model, embedding_dimension, word2idx)"
   ]
  },
  {
   "cell_type": "code",
   "execution_count": 28,
   "metadata": {},
   "outputs": [
    {
     "data": {
      "text/plain": [
       "(10718, 50)"
      ]
     },
     "execution_count": 28,
     "metadata": {},
     "output_type": "execute_result"
    }
   ],
   "source": [
    "embedding_matrix.shape"
   ]
  },
  {
   "cell_type": "markdown",
   "metadata": {},
   "source": [
    "#### Define x train and y train"
   ]
  },
  {
   "cell_type": "code",
   "execution_count": 29,
   "metadata": {},
   "outputs": [],
   "source": [
    "x_train = x_padded_train\n",
    "y_train = to_categorical(y_padded_train)"
   ]
  },
  {
   "cell_type": "code",
   "execution_count": 61,
   "metadata": {},
   "outputs": [],
   "source": [
    "x_val = x_padded_val\n",
    "y_val = to_categorical(y_padded_val, num_classes=TAG_VOCABULARY_SIZE)"
   ]
  },
  {
   "cell_type": "code",
   "execution_count": 133,
   "metadata": {},
   "outputs": [],
   "source": [
    "x_test = x_padded_test\n",
    "y_test = y_padded_test"
   ]
  },
  {
   "cell_type": "markdown",
   "metadata": {},
   "source": [
    "### Define plotting functions"
   ]
  },
  {
   "cell_type": "code",
   "execution_count": 83,
   "metadata": {},
   "outputs": [],
   "source": [
    "def plot_accuracy(model_callback):\n",
    "    plt.plot(model_callback.history['acc'])\n",
    "    plt.plot(model_callback.history['val_acc'])\n",
    "    plt.title('model accuracy')\n",
    "    plt.ylabel('accuracy')\n",
    "    plt.xlabel('epoch')\n",
    "    plt.legend(['train', 'val'], loc=\"lower right\")\n",
    "    plt.show()\n",
    "    \n",
    "def plot_loss(model_callback):\n",
    "    plt.plot(model_callback.history['loss'])\n",
    "    plt.plot(model_callback.history['val_loss'])\n",
    "    plt.title('model loss')\n",
    "    plt.ylabel('loss')\n",
    "    plt.xlabel('epoch')\n",
    "    plt.legend(['train', 'val'], loc=\"lower right\")\n",
    "    plt.show()"
   ]
  },
  {
   "cell_type": "markdown",
   "metadata": {},
   "source": [
    "### Create baseline model\n",
    "\n",
    "##### two layers architecture: a Bidirectional LSTM layer and a Dense/Fully-Connected layer on top"
   ]
  },
  {
   "cell_type": "markdown",
   "metadata": {},
   "source": [
    "\n",
    "https://www.kaggle.com/tanyadayanand/pos-tagging-using-rnn/notebook\n",
    "\n",
    "Not sure about the parameters etc.. but at least it works to train the model"
   ]
  },
  {
   "cell_type": "code",
   "execution_count": 225,
   "metadata": {},
   "outputs": [],
   "source": [
    "def create_baseline_model(units_LSTM, activation):\n",
    "    bidirect_model = keras.Sequential()\n",
    "    bidirect_model.add(layers.Embedding(input_dim = VOCABULARY_SIZE,\n",
    "                                 output_dim    = embedding_dimension,\n",
    "                                 input_length  = find_max_length(x_train),\n",
    "                                 weights       = [embedding_matrix],\n",
    "                                 trainable = False\n",
    "                                ))\n",
    "    bidirect_model.add(layers.Bidirectional(layers.LSTM(units_LSTM, return_sequences=True)))\n",
    "    #bidirect_model.add(layers.TimeDistributed(layers.Dense(len(tag_to_idx), activation='softmax')))\n",
    "    bidirect_model.add(layers.Dense(TAG_VOCABULARY_SIZE, activation=activation))\n",
    "    \n",
    "    return bidirect_model"
   ]
  },
  {
   "cell_type": "code",
   "execution_count": 226,
   "metadata": {},
   "outputs": [
    {
     "name": "stdout",
     "output_type": "stream",
     "text": [
      "Model: \"sequential_7\"\n",
      "_________________________________________________________________\n",
      " Layer (type)                Output Shape              Param #   \n",
      "=================================================================\n",
      " embedding_7 (Embedding)     (None, 249, 50)           535900    \n",
      "                                                                 \n",
      " bidirectional_8 (Bidirectio  (None, 249, 128)         58880     \n",
      " nal)                                                            \n",
      "                                                                 \n",
      " dense_8 (Dense)             (None, 249, 46)           5934      \n",
      "                                                                 \n",
      "=================================================================\n",
      "Total params: 600,714\n",
      "Trainable params: 64,814\n",
      "Non-trainable params: 535,900\n",
      "_________________________________________________________________\n"
     ]
    }
   ],
   "source": [
    "baseline_model = create_baseline_model(64, 'softmax')\n",
    "baseline_model.summary()"
   ]
  },
  {
   "cell_type": "code",
   "execution_count": 227,
   "metadata": {},
   "outputs": [
    {
     "name": "stdout",
     "output_type": "stream",
     "text": [
      "Epoch 1/10\n",
      "75/75 [==============================] - 17s 176ms/step - loss: 0.0088 - mae: 0.0183 - acc: 0.8998 - val_loss: 0.0020 - val_mae: 0.0048 - val_acc: 0.9169\n",
      "Epoch 2/10\n",
      "75/75 [==============================] - 15s 205ms/step - loss: 0.0020 - mae: 0.0045 - acc: 0.9229 - val_loss: 0.0019 - val_mae: 0.0043 - val_acc: 0.9306\n",
      "Epoch 3/10\n",
      "75/75 [==============================] - 11s 146ms/step - loss: 0.0018 - mae: 0.0041 - acc: 0.9340 - val_loss: 0.0017 - val_mae: 0.0039 - val_acc: 0.9414\n",
      "Epoch 4/10\n",
      "75/75 [==============================] - 16s 209ms/step - loss: 0.0016 - mae: 0.0036 - acc: 0.9448 - val_loss: 0.0015 - val_mae: 0.0034 - val_acc: 0.9476\n",
      "Epoch 5/10\n",
      "75/75 [==============================] - 17s 223ms/step - loss: 0.0014 - mae: 0.0032 - acc: 0.9510 - val_loss: 0.0013 - val_mae: 0.0031 - val_acc: 0.9521\n",
      "Epoch 6/10\n",
      "75/75 [==============================] - 14s 182ms/step - loss: 0.0013 - mae: 0.0029 - acc: 0.9552 - val_loss: 0.0012 - val_mae: 0.0028 - val_acc: 0.9569\n",
      "Epoch 7/10\n",
      "75/75 [==============================] - 13s 180ms/step - loss: 0.0012 - mae: 0.0027 - acc: 0.9601 - val_loss: 0.0011 - val_mae: 0.0026 - val_acc: 0.9616\n",
      "Epoch 8/10\n",
      "75/75 [==============================] - 10s 132ms/step - loss: 0.0011 - mae: 0.0025 - acc: 0.9642 - val_loss: 0.0010 - val_mae: 0.0024 - val_acc: 0.9646\n",
      "Epoch 9/10\n",
      "75/75 [==============================] - 10s 131ms/step - loss: 9.8728e-04 - mae: 0.0023 - acc: 0.9668 - val_loss: 9.8307e-04 - val_mae: 0.0022 - val_acc: 0.9666\n",
      "Epoch 10/10\n",
      "75/75 [==============================] - 13s 168ms/step - loss: 9.2541e-04 - mae: 0.0022 - acc: 0.9693 - val_loss: 9.3015e-04 - val_mae: 0.0022 - val_acc: 0.9691\n"
     ]
    }
   ],
   "source": [
    "baseline_model.compile(loss=\"mse\",\n",
    "              optimizer=\"Adam\",\n",
    "              metrics=['mae', \"acc\"])\n",
    "baseline_training = baseline_model.fit(x=x_train, y=y_train, validation_data=(x_val, y_val), batch_size=25,  epochs=10)"
   ]
  },
  {
   "cell_type": "code",
   "execution_count": 228,
   "metadata": {},
   "outputs": [
    {
     "data": {
      "image/png": "[encoded data removed]",
      "text/plain": [
       "<Figure size 432x288 with 1 Axes>"
      ]
     },
     "metadata": {
      "needs_background": "light"
     },
     "output_type": "display_data"
    }
   ],
   "source": [
    "plot_accuracy(baseline_training)"
   ]
  },
  {
   "cell_type": "code",
   "execution_count": 229,
   "metadata": {},
   "outputs": [
    {
     "data": {
      "image/png": "[encoded data removed]",
      "text/plain": [
       "<Figure size 432x288 with 1 Axes>"
      ]
     },
     "metadata": {
      "needs_background": "light"
     },
     "output_type": "display_data"
    }
   ],
   "source": [
    "plot_loss(baseline_training)"
   ]
  },
  {
   "cell_type": "code",
   "execution_count": 230,
   "metadata": {},
   "outputs": [],
   "source": [
    "baseline_model.save_weights('models/baseline_model_weights.h5') #Save model"
   ]
  },
  {
   "cell_type": "markdown",
   "metadata": {},
   "source": [
    "## Other models"
   ]
  },
  {
   "cell_type": "markdown",
   "metadata": {},
   "source": [
    "#### Gru"
   ]
  },
  {
   "cell_type": "code",
   "execution_count": 231,
   "metadata": {},
   "outputs": [],
   "source": [
    "def create_gru_model(units_gru, activation):\n",
    "    gru_model = keras.Sequential()\n",
    "    gru_model.add(layers.Embedding(input_dim = VOCABULARY_SIZE,\n",
    "                                 output_dim    = embedding_dimension,\n",
    "                                 input_length  = find_max_length(x_train),\n",
    "                                 weights       = [embedding_matrix],\n",
    "                                 trainable = False\n",
    "                                ))\n",
    "    gru_model.add(layers.Bidirectional(layers.GRU(units_gru, return_sequences=True)))\n",
    "    #bidirect_model.add(layers.TimeDistributed(layers.Dense(len(tag_to_idx), activation='softmax')))\n",
    "    gru_model.add(layers.Dense(TAG_VOCABULARY_SIZE, activation=activation))\n",
    "    \n",
    "    return gru_model"
   ]
  },
  {
   "cell_type": "code",
   "execution_count": 232,
   "metadata": {},
   "outputs": [
    {
     "name": "stdout",
     "output_type": "stream",
     "text": [
      "Model: \"sequential_8\"\n",
      "_________________________________________________________________\n",
      " Layer (type)                Output Shape              Param #   \n",
      "=================================================================\n",
      " embedding_8 (Embedding)     (None, 249, 50)           535900    \n",
      "                                                                 \n",
      " bidirectional_9 (Bidirectio  (None, 249, 128)         44544     \n",
      " nal)                                                            \n",
      "                                                                 \n",
      " dense_9 (Dense)             (None, 249, 46)           5934      \n",
      "                                                                 \n",
      "=================================================================\n",
      "Total params: 586,378\n",
      "Trainable params: 50,478\n",
      "Non-trainable params: 535,900\n",
      "_________________________________________________________________\n"
     ]
    }
   ],
   "source": [
    "gru_model = create_gru_model(64, 'softmax')\n",
    "gru_model.summary()"
   ]
  },
  {
   "cell_type": "code",
   "execution_count": 233,
   "metadata": {},
   "outputs": [
    {
     "name": "stdout",
     "output_type": "stream",
     "text": [
      "Epoch 1/10\n",
      "75/75 [==============================] - 17s 173ms/step - loss: 0.0102 - mae: 0.0212 - acc: 0.9133 - val_loss: 0.0019 - val_mae: 0.0040 - val_acc: 0.9273\n",
      "Epoch 2/10\n",
      "75/75 [==============================] - 9s 115ms/step - loss: 0.0018 - mae: 0.0037 - acc: 0.9338 - val_loss: 0.0016 - val_mae: 0.0034 - val_acc: 0.9420\n",
      "Epoch 3/10\n",
      "75/75 [==============================] - 10s 135ms/step - loss: 0.0015 - mae: 0.0032 - acc: 0.9476 - val_loss: 0.0014 - val_mae: 0.0030 - val_acc: 0.9514\n",
      "Epoch 4/10\n",
      "75/75 [==============================] - 10s 136ms/step - loss: 0.0013 - mae: 0.0028 - acc: 0.9558 - val_loss: 0.0012 - val_mae: 0.0026 - val_acc: 0.9587\n",
      "Epoch 5/10\n",
      "75/75 [==============================] - 15s 202ms/step - loss: 0.0011 - mae: 0.0025 - acc: 0.9625 - val_loss: 0.0011 - val_mae: 0.0024 - val_acc: 0.9639\n",
      "Epoch 6/10\n",
      "75/75 [==============================] - 10s 128ms/step - loss: 9.9317e-04 - mae: 0.0022 - acc: 0.9674 - val_loss: 9.8567e-04 - val_mae: 0.0021 - val_acc: 0.9673\n",
      "Epoch 7/10\n",
      "75/75 [==============================] - 9s 124ms/step - loss: 9.1702e-04 - mae: 0.0020 - acc: 0.9697 - val_loss: 9.2333e-04 - val_mae: 0.0020 - val_acc: 0.9693\n",
      "Epoch 8/10\n",
      "75/75 [==============================] - 9s 117ms/step - loss: 8.5055e-04 - mae: 0.0019 - acc: 0.9724 - val_loss: 8.7534e-04 - val_mae: 0.0019 - val_acc: 0.9711\n",
      "Epoch 9/10\n",
      "75/75 [==============================] - 9s 118ms/step - loss: 8.0559e-04 - mae: 0.0018 - acc: 0.9740 - val_loss: 8.3105e-04 - val_mae: 0.0018 - val_acc: 0.9723\n",
      "Epoch 10/10\n",
      "75/75 [==============================] - 9s 117ms/step - loss: 7.4945e-04 - mae: 0.0017 - acc: 0.9764 - val_loss: 7.7732e-04 - val_mae: 0.0017 - val_acc: 0.9748\n"
     ]
    }
   ],
   "source": [
    "gru_model.compile(loss=\"mse\",\n",
    "              optimizer=\"Adam\",\n",
    "              metrics=['mae', \"acc\"])\n",
    "gru_training = gru_model.fit(x=x_train, batch_size=25, y=y_train, epochs=10, validation_data=(x_val, y_val))"
   ]
  },
  {
   "cell_type": "code",
   "execution_count": 234,
   "metadata": {},
   "outputs": [
    {
     "data": {
      "image/png": "[encoded data removed]",
      "text/plain": [
       "<Figure size 432x288 with 1 Axes>"
      ]
     },
     "metadata": {
      "needs_background": "light"
     },
     "output_type": "display_data"
    }
   ],
   "source": [
    "plot_accuracy(gru_training)"
   ]
  },
  {
   "cell_type": "code",
   "execution_count": 235,
   "metadata": {},
   "outputs": [
    {
     "data": {
      "image/png": "[encoded data removed]",
      "text/plain": [
       "<Figure size 432x288 with 1 Axes>"
      ]
     },
     "metadata": {
      "needs_background": "light"
     },
     "output_type": "display_data"
    }
   ],
   "source": [
    "plot_loss(gru_training)"
   ]
  },
  {
   "cell_type": "code",
   "execution_count": 236,
   "metadata": {},
   "outputs": [],
   "source": [
    "gru_model.save_weights('models/gru_model_weights.h5') #Save model"
   ]
  },
  {
   "cell_type": "markdown",
   "metadata": {},
   "source": [
    "#### Two LSTM layers"
   ]
  },
  {
   "cell_type": "code",
   "execution_count": 237,
   "metadata": {},
   "outputs": [],
   "source": [
    "def create_doubleLSTM_model(units_LSTM1, units_LSTM2, activation):\n",
    "    doubleLSTM_model = keras.Sequential()\n",
    "    doubleLSTM_model.add(layers.Embedding(input_dim = VOCABULARY_SIZE,\n",
    "                                 output_dim    = embedding_dimension,\n",
    "                                 input_length  = find_max_length(x_train),\n",
    "                                 weights       = [embedding_matrix],\n",
    "                                 trainable = False\n",
    "                                ))\n",
    "    doubleLSTM_model.add(layers.Bidirectional(layers.LSTM(units_LSTM1, return_sequences=True)))\n",
    "    doubleLSTM_model.add(layers.Bidirectional(layers.LSTM(units_LSTM2, return_sequences=True)))\n",
    "    #bidirect_model.add(layers.TimeDistributed(layers.Dense(len(tag_to_idx), activation='softmax')))\n",
    "    doubleLSTM_model.add(layers.Dense(TAG_VOCABULARY_SIZE, activation=activation))\n",
    "    \n",
    "    return doubleLSTM_model"
   ]
  },
  {
   "cell_type": "code",
   "execution_count": 238,
   "metadata": {},
   "outputs": [
    {
     "name": "stdout",
     "output_type": "stream",
     "text": [
      "Model: \"sequential_9\"\n",
      "_________________________________________________________________\n",
      " Layer (type)                Output Shape              Param #   \n",
      "=================================================================\n",
      " embedding_9 (Embedding)     (None, 249, 50)           535900    \n",
      "                                                                 \n",
      " bidirectional_10 (Bidirecti  (None, 249, 128)         58880     \n",
      " onal)                                                           \n",
      "                                                                 \n",
      " bidirectional_11 (Bidirecti  (None, 249, 128)         98816     \n",
      " onal)                                                           \n",
      "                                                                 \n",
      " dense_10 (Dense)            (None, 249, 46)           5934      \n",
      "                                                                 \n",
      "=================================================================\n",
      "Total params: 699,530\n",
      "Trainable params: 163,630\n",
      "Non-trainable params: 535,900\n",
      "_________________________________________________________________\n"
     ]
    }
   ],
   "source": [
    "doubleLSTM_model = create_doubleLSTM_model(64, 64, 'softmax')\n",
    "doubleLSTM_model.summary()"
   ]
  },
  {
   "cell_type": "code",
   "execution_count": 239,
   "metadata": {},
   "outputs": [
    {
     "name": "stdout",
     "output_type": "stream",
     "text": [
      "Epoch 1/10\n",
      "75/75 [==============================] - 30s 337ms/step - loss: 0.0067 - mae: 0.0141 - acc: 0.9020 - val_loss: 0.0020 - val_mae: 0.0043 - val_acc: 0.9158\n",
      "Epoch 2/10\n",
      "75/75 [==============================] - 22s 299ms/step - loss: 0.0020 - mae: 0.0042 - acc: 0.9143 - val_loss: 0.0020 - val_mae: 0.0041 - val_acc: 0.9162\n",
      "Epoch 3/10\n",
      "75/75 [==============================] - 27s 357ms/step - loss: 0.0020 - mae: 0.0041 - acc: 0.9179 - val_loss: 0.0019 - val_mae: 0.0040 - val_acc: 0.9201\n",
      "Epoch 4/10\n",
      "75/75 [==============================] - 24s 322ms/step - loss: 0.0019 - mae: 0.0039 - acc: 0.9254 - val_loss: 0.0019 - val_mae: 0.0038 - val_acc: 0.9282\n",
      "Epoch 5/10\n",
      "75/75 [==============================] - 29s 394ms/step - loss: 0.0017 - mae: 0.0036 - acc: 0.9370 - val_loss: 0.0016 - val_mae: 0.0034 - val_acc: 0.9443\n",
      "Epoch 6/10\n",
      "75/75 [==============================] - 22s 291ms/step - loss: 0.0014 - mae: 0.0031 - acc: 0.9489 - val_loss: 0.0014 - val_mae: 0.0029 - val_acc: 0.9496\n",
      "Epoch 7/10\n",
      "75/75 [==============================] - 18s 242ms/step - loss: 0.0013 - mae: 0.0028 - acc: 0.9534 - val_loss: 0.0013 - val_mae: 0.0027 - val_acc: 0.9539\n",
      "Epoch 8/10\n",
      "75/75 [==============================] - 22s 301ms/step - loss: 0.0012 - mae: 0.0025 - acc: 0.9587 - val_loss: 0.0011 - val_mae: 0.0025 - val_acc: 0.9596\n",
      "Epoch 9/10\n",
      "75/75 [==============================] - 20s 273ms/step - loss: 0.0010 - mae: 0.0023 - acc: 0.9643 - val_loss: 0.0010 - val_mae: 0.0023 - val_acc: 0.9653\n",
      "Epoch 10/10\n",
      "75/75 [==============================] - 24s 321ms/step - loss: 9.5403e-04 - mae: 0.0021 - acc: 0.9685 - val_loss: 9.6522e-04 - val_mae: 0.0021 - val_acc: 0.9675\n"
     ]
    }
   ],
   "source": [
    "doubleLSTM_model.compile(loss=\"mse\",\n",
    "              optimizer=\"Adam\",\n",
    "              metrics=['mae', \"acc\"])\n",
    "doubleLSTM_training = doubleLSTM_model.fit(x=x_train, batch_size=25, y=y_train, epochs=10, validation_data=(x_val, y_val))"
   ]
  },
  {
   "cell_type": "code",
   "execution_count": 240,
   "metadata": {},
   "outputs": [
    {
     "data": {
      "image/png": "[encoded data removed]",
      "text/plain": [
       "<Figure size 432x288 with 1 Axes>"
      ]
     },
     "metadata": {
      "needs_background": "light"
     },
     "output_type": "display_data"
    }
   ],
   "source": [
    "plot_accuracy(doubleLSTM_training)"
   ]
  },
  {
   "cell_type": "code",
   "execution_count": 241,
   "metadata": {},
   "outputs": [
    {
     "data": {
      "image/png": "[encoded data removed]",
      "text/plain": [
       "<Figure size 432x288 with 1 Axes>"
      ]
     },
     "metadata": {
      "needs_background": "light"
     },
     "output_type": "display_data"
    }
   ],
   "source": [
    "plot_loss(doubleLSTM_training)"
   ]
  },
  {
   "cell_type": "code",
   "execution_count": 242,
   "metadata": {},
   "outputs": [],
   "source": [
    "doubleLSTM_model.save_weights('models/doubleLSTM_model_weights.h5') #Save model"
   ]
  },
  {
   "cell_type": "markdown",
   "metadata": {},
   "source": [
    "#### Two dense layers"
   ]
  },
  {
   "cell_type": "code",
   "execution_count": 243,
   "metadata": {},
   "outputs": [],
   "source": [
    "def create_doubledense_model(units_LSTM, units_dense, activation):\n",
    "    doubledense_model = keras.Sequential()\n",
    "    doubledense_model.add(layers.Embedding(input_dim = VOCABULARY_SIZE,\n",
    "                                 output_dim    = embedding_dimension,\n",
    "                                 input_length  = find_max_length(x_train),\n",
    "                                 weights       = [embedding_matrix],\n",
    "                                 trainable = False\n",
    "                                ))\n",
    "    doubledense_model.add(layers.Bidirectional(layers.LSTM(units_LSTM, return_sequences=True)))\n",
    "    doubledense_model.add(layers.Dense(units_dense))\n",
    "    #bidirect_model.add(layers.TimeDistributed(layers.Dense(len(tag_to_idx), activation='softmax')))\n",
    "    doubledense_model.add(layers.Dense(TAG_VOCABULARY_SIZE, activation=activation))\n",
    "    \n",
    "    return doubledense_model"
   ]
  },
  {
   "cell_type": "code",
   "execution_count": 244,
   "metadata": {},
   "outputs": [
    {
     "name": "stdout",
     "output_type": "stream",
     "text": [
      "Model: \"sequential_10\"\n",
      "_________________________________________________________________\n",
      " Layer (type)                Output Shape              Param #   \n",
      "=================================================================\n",
      " embedding_10 (Embedding)    (None, 249, 50)           535900    \n",
      "                                                                 \n",
      " bidirectional_12 (Bidirecti  (None, 249, 128)         58880     \n",
      " onal)                                                           \n",
      "                                                                 \n",
      " dense_11 (Dense)            (None, 249, 64)           8256      \n",
      "                                                                 \n",
      " dense_12 (Dense)            (None, 249, 46)           2990      \n",
      "                                                                 \n",
      "=================================================================\n",
      "Total params: 606,026\n",
      "Trainable params: 70,126\n",
      "Non-trainable params: 535,900\n",
      "_________________________________________________________________\n"
     ]
    }
   ],
   "source": [
    "doubleDense_model = create_doubledense_model(64, 64, 'softmax')\n",
    "doubleDense_model.summary()"
   ]
  },
  {
   "cell_type": "code",
   "execution_count": 245,
   "metadata": {},
   "outputs": [
    {
     "name": "stdout",
     "output_type": "stream",
     "text": [
      "Epoch 1/10\n",
      "75/75 [==============================] - 18s 178ms/step - loss: 0.0075 - mae: 0.0154 - acc: 0.9052 - val_loss: 0.0020 - val_mae: 0.0040 - val_acc: 0.9206\n",
      "Epoch 2/10\n",
      "75/75 [==============================] - 12s 161ms/step - loss: 0.0019 - mae: 0.0040 - acc: 0.9243 - val_loss: 0.0018 - val_mae: 0.0038 - val_acc: 0.9334\n",
      "Epoch 3/10\n",
      "75/75 [==============================] - 10s 135ms/step - loss: 0.0017 - mae: 0.0035 - acc: 0.9414 - val_loss: 0.0015 - val_mae: 0.0031 - val_acc: 0.9470\n",
      "Epoch 4/10\n",
      "75/75 [==============================] - 9s 117ms/step - loss: 0.0013 - mae: 0.0029 - acc: 0.9522 - val_loss: 0.0013 - val_mae: 0.0027 - val_acc: 0.9544\n",
      "Epoch 5/10\n",
      "75/75 [==============================] - 9s 115ms/step - loss: 0.0012 - mae: 0.0025 - acc: 0.9590 - val_loss: 0.0011 - val_mae: 0.0024 - val_acc: 0.9609\n",
      "Epoch 6/10\n",
      "75/75 [==============================] - 9s 116ms/step - loss: 0.0010 - mae: 0.0023 - acc: 0.9650 - val_loss: 0.0010 - val_mae: 0.0022 - val_acc: 0.9658\n",
      "Epoch 7/10\n",
      "75/75 [==============================] - 12s 157ms/step - loss: 9.4132e-04 - mae: 0.0020 - acc: 0.9684 - val_loss: 9.3860e-04 - val_mae: 0.0020 - val_acc: 0.9684\n",
      "Epoch 8/10\n",
      "75/75 [==============================] - 11s 151ms/step - loss: 8.7446e-04 - mae: 0.0019 - acc: 0.9705 - val_loss: 8.7908e-04 - val_mae: 0.0019 - val_acc: 0.9701\n",
      "Epoch 9/10\n",
      "75/75 [==============================] - 9s 118ms/step - loss: 8.1732e-04 - mae: 0.0018 - acc: 0.9728 - val_loss: 8.2839e-04 - val_mae: 0.0018 - val_acc: 0.9725\n",
      "Epoch 10/10\n",
      "75/75 [==============================] - 9s 126ms/step - loss: 7.6024e-04 - mae: 0.0017 - acc: 0.9753 - val_loss: 7.8199e-04 - val_mae: 0.0017 - val_acc: 0.9744\n"
     ]
    }
   ],
   "source": [
    "doubleDense_model.compile(loss=\"mse\",\n",
    "              optimizer=\"Adam\",\n",
    "              metrics=['mae', \"acc\"])\n",
    "doubleDense_training = doubleDense_model.fit(x=x_train, batch_size=25, y=y_train, epochs=10, validation_data=(x_val, y_val))"
   ]
  },
  {
   "cell_type": "code",
   "execution_count": 246,
   "metadata": {},
   "outputs": [
    {
     "data": {
      "image/png": "[encoded data removed]",
      "text/plain": [
       "<Figure size 432x288 with 1 Axes>"
      ]
     },
     "metadata": {
      "needs_background": "light"
     },
     "output_type": "display_data"
    }
   ],
   "source": [
    "plot_accuracy(doubleDense_training)"
   ]
  },
  {
   "cell_type": "code",
   "execution_count": 247,
   "metadata": {},
   "outputs": [
    {
     "data": {
      "image/png": "[encoded data removed]",
      "text/plain": [
       "<Figure size 432x288 with 1 Axes>"
      ]
     },
     "metadata": {
      "needs_background": "light"
     },
     "output_type": "display_data"
    }
   ],
   "source": [
    "plot_loss(doubleDense_training)"
   ]
  },
  {
   "cell_type": "code",
   "execution_count": 248,
   "metadata": {},
   "outputs": [],
   "source": [
    "doubleDense_model.save_weights('models/doubleDense_model_weights.h5') #Save model"
   ]
  },
  {
   "cell_type": "markdown",
   "metadata": {},
   "source": [
    "## Predict"
   ]
  },
  {
   "cell_type": "code",
   "execution_count": 249,
   "metadata": {},
   "outputs": [],
   "source": [
    "def predict(model: keras.Model, x, predicting_info):\n",
    "    predictions = model.predict(x, **predicting_info)\n",
    "    return predictions"
   ]
  },
  {
   "cell_type": "code",
   "execution_count": 250,
   "metadata": {},
   "outputs": [],
   "source": [
    "predictions = predict(baseline_model, x_test, {'batch_size': 64})"
   ]
  },
  {
   "cell_type": "markdown",
   "metadata": {},
   "source": [
    "## Evaluate"
   ]
  },
  {
   "cell_type": "code",
   "execution_count": 251,
   "metadata": {},
   "outputs": [],
   "source": [
    "y_pred_bool = np.argmax(predictions, axis=2)"
   ]
  },
  {
   "cell_type": "code",
   "execution_count": 217,
   "metadata": {},
   "outputs": [],
   "source": [
    "ct = to_categorical(y_test, num_classes=TAG_VOCABULARY_SIZE)\n",
    "cp = to_categorical(y_pred_bool, num_classes=TAG_VOCABULARY_SIZE)"
   ]
  },
  {
   "cell_type": "code",
   "execution_count": 224,
   "metadata": {},
   "outputs": [
    {
     "name": "stdout",
     "output_type": "stream",
     "text": [
      "tf.Tensor(0.9759369, shape=(), dtype=float32)\n",
      "tf.Tensor(0.97593683, shape=(), dtype=float32)\n",
      "tf.Tensor(0.9759369, shape=(), dtype=float32)\n"
     ]
    }
   ],
   "source": [
    "from keras import backend as K\n",
    "\n",
    "def recall_m(y_true, y_pred):\n",
    "    true_positives = K.sum(K.round(K.clip(y_true * y_pred, 0, 1)))\n",
    "    possible_positives = K.sum(K.round(K.clip(y_true, 0, 1)))\n",
    "    recall = true_positives / (possible_positives + K.epsilon())\n",
    "    return recall\n",
    "\n",
    "def precision_m(y_true, y_pred):\n",
    "    true_positives = K.sum(K.round(K.clip(y_true * y_pred, 0, 1)))\n",
    "    predicted_positives = K.sum(K.round(K.clip(y_pred, 0, 1)))\n",
    "    precision = true_positives / (predicted_positives + K.epsilon())\n",
    "    return precision\n",
    "\n",
    "def f1_m(y_true, y_pred):\n",
    "    precision = precision_m(y_true, y_pred)\n",
    "    recall = recall_m(y_true, y_pred)\n",
    "    return 2*((precision*recall)/(precision+recall+K.epsilon()))\n",
    "\n",
    "# compile the model\n",
    "print(precision_m(ct, cp))\n",
    "print(f1_m(ct, cp))\n",
    "print(recall_m(ct, cp))\n"
   ]
  },
  {
   "cell_type": "markdown",
   "metadata": {},
   "source": []
  }
 ],
 "metadata": {
  "interpreter": {
   "hash": "aee8b7b246df8f9039afb4144a1f6fd8d2ca17a180786b69acc140d282b71a49"
  },
  "kernelspec": {
   "display_name": "Python 3",
   "language": "python",
   "name": "python3"
  },
  "language_info": {
   "codemirror_mode": {
    "name": "ipython",
    "version": 3
   },
   "file_extension": ".py",
   "mimetype": "text/x-python",
   "name": "python",
   "nbconvert_exporter": "python",
   "pygments_lexer": "ipython3",
   "version": "3.9.4"
  }
 },
 "nbformat": 4,
 "nbformat_minor": 2
}
