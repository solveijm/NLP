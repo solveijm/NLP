{
 "cells": [
  {
   "cell_type": "markdown",
   "id": "538e1dc1",
   "metadata": {},
   "source": [
    "## Questing Answering on SQuAD dataset"
   ]
  },
  {
   "cell_type": "markdown",
   "id": "b75a0f04",
   "metadata": {},
   "source": [
    "### Import libraries"
   ]
  },
  {
   "cell_type": "code",
   "execution_count": 84,
   "id": "60f4b439",
   "metadata": {},
   "outputs": [],
   "source": [
    "import json\n",
    "import pandas as pd\n",
    "import os\n",
    "import random\n",
    "\n",
    "import re\n",
    "from functools import reduce\n",
    "import nltk\n",
    "from nltk.corpus import stopwords\n",
    "from typing import List, Callable, Dict\n",
    "from nltk.stem import WordNetLemmatizer\n",
    "\n",
    "from datetime import datetime\n",
    "import keras\n",
    "from keras import backend as K\n",
    "from keras.layers import Concatenate, Lambda, LSTM, Reshape, Dense, Embedding, Average, Reshape, Flatten, Input, Add, Bidirectional, TimeDistributed, Softmax\n",
    "from keras.models import Model \n",
    "from keras.preprocessing.sequence import pad_sequences\n",
    "from keras.preprocessing.text import Tokenizer\n",
    "import numpy as np\n",
    "import matplotlib.pyplot as plt\n",
    "import os\n",
    "import pandas as pd\n",
    "import requests\n",
    "import seaborn as sns\n",
    "from sklearn.metrics import accuracy_score, classification_report, confusion_matrix\n",
    "import tensorflow as tf\n",
    "import zipfile\n",
    "from keras.utils.np_utils import to_categorical\n",
    "from tensorflow.keras.optimizers import Adadelta\n",
    "#from keras.layers.advanced_activations import Softmax\n"
   ]
  },
  {
   "cell_type": "markdown",
   "id": "281664e0",
   "metadata": {},
   "source": [
    "## Data pipeline"
   ]
  },
  {
   "cell_type": "markdown",
   "id": "bac96bfb",
   "metadata": {},
   "source": [
    "#### Load dataset"
   ]
  },
  {
   "cell_type": "code",
   "execution_count": 2,
   "id": "b0f4a366",
   "metadata": {},
   "outputs": [],
   "source": [
    "# Uncomment for google collab\n",
    "#from google.colab import drive\n",
    "#drive.mount('/content/drive')"
   ]
  },
  {
   "cell_type": "code",
   "execution_count": 3,
   "id": "0828ab57",
   "metadata": {},
   "outputs": [],
   "source": [
    "folder = \"SQUAD MATERIAL\"\n",
    "#folder = \"drive/MyDrive/NLP_data/SQUAD MATERIAL\""
   ]
  },
  {
   "cell_type": "code",
   "execution_count": 4,
   "id": "2c7bf748",
   "metadata": {},
   "outputs": [],
   "source": [
    "def load_json(filename=\"training_set.json\", folder=folder):    \n",
    "    dataset_folder = os.path.join(os.getcwd(), folder)\n",
    "    dataset_path = os.path.join(dataset_folder, filename)\n",
    "    with open(dataset_path) as f:\n",
    "        raw_json = json.load(f)\n",
    "\n",
    "    return raw_json['data']"
   ]
  },
  {
   "cell_type": "code",
   "execution_count": 5,
   "id": "8817a293",
   "metadata": {},
   "outputs": [],
   "source": [
    "data = load_json()"
   ]
  },
  {
   "cell_type": "markdown",
   "id": "28b42106",
   "metadata": {},
   "source": [
    "#### Split dataset into train, val and test sets.\n",
    "Splitting on title, so that all answers and questions in one title are in the same dataset"
   ]
  },
  {
   "cell_type": "code",
   "execution_count": 6,
   "id": "03796a88",
   "metadata": {},
   "outputs": [],
   "source": [
    "def split_dataset(data):\n",
    "    random.shuffle(data)\n",
    "    length_of_dataset = len(data)\n",
    "    train_split = round(0.8*length_of_dataset)\n",
    "    val_split = train_split + round(0.1*length_of_dataset)\n",
    "    train_data = data[:train_split]\n",
    "    val_data = data[train_split:val_split]\n",
    "    test_data = data[val_split:]\n",
    "    return train_data, val_data, test_data"
   ]
  },
  {
   "cell_type": "code",
   "execution_count": 7,
   "id": "1b9e36b2",
   "metadata": {},
   "outputs": [],
   "source": [
    "train_data, val_data, test_data = split_dataset(data)"
   ]
  },
  {
   "cell_type": "markdown",
   "id": "2b38edc2",
   "metadata": {},
   "source": [
    "#### Create dataframe"
   ]
  },
  {
   "cell_type": "code",
   "execution_count": 8,
   "id": "ae626891",
   "metadata": {},
   "outputs": [],
   "source": [
    "def find_word_index(char_idx, context):\n",
    "    return context[0:char_idx].count(' ')"
   ]
  },
  {
   "cell_type": "code",
   "execution_count": 9,
   "id": "d350502e",
   "metadata": {},
   "outputs": [],
   "source": [
    "def create_dataframe(data):\n",
    "    contexts = []\n",
    "    questions = []\n",
    "    answers_text = []\n",
    "    answers_start = []\n",
    "    answers_end = []\n",
    "    question_ids = []\n",
    "    answers_word_start = []\n",
    "    answers_word_end = []\n",
    "    for i in range(len(data)):\n",
    "        paragraphs = data[i]['paragraphs']\n",
    "        for sub_para in paragraphs:\n",
    "            for q_a in sub_para['qas']:\n",
    "                questions.append(q_a['question'])\n",
    "                q_a_answer_starts = []\n",
    "                q_a_answer_ends = []\n",
    "                q_a_answers = []\n",
    "                q_a_ans_word_idx_start = []\n",
    "                q_a_ans_word_idx_end = []\n",
    "\n",
    "                for answer in q_a['answers']:\n",
    "                    answer_end = answer['answer_start'] + len(answer['text'])\n",
    "                    q_a_answer_starts.append(answer['answer_start'])\n",
    "                    q_a_answer_ends.append(answer_end)\n",
    "                    q_a_answers.append(answer['text'])\n",
    "                    q_a_ans_word_idx_start.append(find_word_index(answer['answer_start'], sub_para['context']))\n",
    "                    q_a_ans_word_idx_end.append(find_word_index(answer_end, sub_para['context']))\n",
    "                    \n",
    "                answers_start.append(q_a_answer_starts)\n",
    "                answers_end.append(q_a_answer_ends)\n",
    "                answers_word_start.append(q_a_ans_word_idx_start)                \n",
    "                answers_word_end.append(q_a_ans_word_idx_end)\n",
    "                answers_text.append(q_a_answers)\n",
    "                question_ids.append(q_a['id'])\n",
    "                contexts.append(sub_para['context'])   \n",
    "    df = pd.DataFrame({\"questionID\":question_ids, \"context\":contexts, \"question\": questions, \"answer_start\": answers_start, \"answer_word_start\": answers_word_start, \"answer_end\": answers_end, \"answer_word_end\": answers_word_end, \"answer_text\": answers_text})\n",
    "    return df"
   ]
  },
  {
   "cell_type": "code",
   "execution_count": 10,
   "id": "cbf2971f",
   "metadata": {},
   "outputs": [],
   "source": [
    "train_df = create_dataframe(train_data)\n",
    "val_df = create_dataframe(val_data)\n",
    "test_df = create_dataframe(test_data)"
   ]
  },
  {
   "cell_type": "code",
   "execution_count": 11,
   "id": "fd2d926d",
   "metadata": {},
   "outputs": [
    {
     "data": {
      "text/html": [
       "<div>\n",
       "<style scoped>\n",
       "    .dataframe tbody tr th:only-of-type {\n",
       "        vertical-align: middle;\n",
       "    }\n",
       "\n",
       "    .dataframe tbody tr th {\n",
       "        vertical-align: top;\n",
       "    }\n",
       "\n",
       "    .dataframe thead th {\n",
       "        text-align: right;\n",
       "    }\n",
       "</style>\n",
       "<table border=\"1\" class=\"dataframe\">\n",
       "  <thead>\n",
       "    <tr style=\"text-align: right;\">\n",
       "      <th></th>\n",
       "      <th>questionID</th>\n",
       "      <th>context</th>\n",
       "      <th>question</th>\n",
       "      <th>answer_start</th>\n",
       "      <th>answer_word_start</th>\n",
       "      <th>answer_end</th>\n",
       "      <th>answer_word_end</th>\n",
       "      <th>answer_text</th>\n",
       "    </tr>\n",
       "  </thead>\n",
       "  <tbody>\n",
       "    <tr>\n",
       "      <th>0</th>\n",
       "      <td>56f8d6b49b226e1400dd10c2</td>\n",
       "      <td>Near East (French: Proche-Orient) is a geograp...</td>\n",
       "      <td>What is a geographical term that roughly encom...</td>\n",
       "      <td>[0]</td>\n",
       "      <td>[0]</td>\n",
       "      <td>[33]</td>\n",
       "      <td>[3]</td>\n",
       "      <td>[Near East (French: Proche-Orient)]</td>\n",
       "    </tr>\n",
       "    <tr>\n",
       "      <th>1</th>\n",
       "      <td>56f8d6b49b226e1400dd10c3</td>\n",
       "      <td>Near East (French: Proche-Orient) is a geograp...</td>\n",
       "      <td>The term near east was originally applies to t...</td>\n",
       "      <td>[227]</td>\n",
       "      <td>[32]</td>\n",
       "      <td>[241]</td>\n",
       "      <td>[33]</td>\n",
       "      <td>[Ottoman Empire]</td>\n",
       "    </tr>\n",
       "    <tr>\n",
       "      <th>2</th>\n",
       "      <td>56f8d6b49b226e1400dd10c4</td>\n",
       "      <td>Near East (French: Proche-Orient) is a geograp...</td>\n",
       "      <td>The term Near East has fallen into disuses in ...</td>\n",
       "      <td>[278]</td>\n",
       "      <td>[41]</td>\n",
       "      <td>[285]</td>\n",
       "      <td>[41]</td>\n",
       "      <td>[English]</td>\n",
       "    </tr>\n",
       "    <tr>\n",
       "      <th>3</th>\n",
       "      <td>56f8d6b49b226e1400dd10c5</td>\n",
       "      <td>Near East (French: Proche-Orient) is a geograp...</td>\n",
       "      <td>What has replaced the term Near East?</td>\n",
       "      <td>[321]</td>\n",
       "      <td>[49]</td>\n",
       "      <td>[332]</td>\n",
       "      <td>[50]</td>\n",
       "      <td>[Middle East]</td>\n",
       "    </tr>\n",
       "    <tr>\n",
       "      <th>4</th>\n",
       "      <td>56f8d86f9b226e1400dd10d4</td>\n",
       "      <td>The Encyclopædia Britannica defines the Near E...</td>\n",
       "      <td>Who defines the Near East as including Armenia...</td>\n",
       "      <td>[0]</td>\n",
       "      <td>[0]</td>\n",
       "      <td>[27]</td>\n",
       "      <td>[2]</td>\n",
       "      <td>[The Encyclopædia Britannica]</td>\n",
       "    </tr>\n",
       "    <tr>\n",
       "      <th>...</th>\n",
       "      <td>...</td>\n",
       "      <td>...</td>\n",
       "      <td>...</td>\n",
       "      <td>...</td>\n",
       "      <td>...</td>\n",
       "      <td>...</td>\n",
       "      <td>...</td>\n",
       "      <td>...</td>\n",
       "    </tr>\n",
       "    <tr>\n",
       "      <th>69926</th>\n",
       "      <td>56dc7e6714d3a41400c26921</td>\n",
       "      <td>Scotland has a very different educational syst...</td>\n",
       "      <td>All public primary and secondary schools in Sc...</td>\n",
       "      <td>[94]</td>\n",
       "      <td>[15]</td>\n",
       "      <td>[107]</td>\n",
       "      <td>[15]</td>\n",
       "      <td>[comprehensive]</td>\n",
       "    </tr>\n",
       "    <tr>\n",
       "      <th>69927</th>\n",
       "      <td>56dc7e6714d3a41400c26922</td>\n",
       "      <td>Scotland has a very different educational syst...</td>\n",
       "      <td>What has Scotland refused to adopt?</td>\n",
       "      <td>[345]</td>\n",
       "      <td>[49]</td>\n",
       "      <td>[363]</td>\n",
       "      <td>[50]</td>\n",
       "      <td>[specialist schools]</td>\n",
       "    </tr>\n",
       "    <tr>\n",
       "      <th>69928</th>\n",
       "      <td>56dc7e6714d3a41400c26923</td>\n",
       "      <td>Scotland has a very different educational syst...</td>\n",
       "      <td>When was Scotland's latest rejection of the sp...</td>\n",
       "      <td>[370]</td>\n",
       "      <td>[53]</td>\n",
       "      <td>[374]</td>\n",
       "      <td>[53]</td>\n",
       "      <td>[2005]</td>\n",
       "    </tr>\n",
       "    <tr>\n",
       "      <th>69929</th>\n",
       "      <td>56dc7e9a14d3a41400c26927</td>\n",
       "      <td>Education in Northern Ireland differs slightly...</td>\n",
       "      <td>Which country is Northern England's school sys...</td>\n",
       "      <td>[169]</td>\n",
       "      <td>[30]</td>\n",
       "      <td>[177]</td>\n",
       "      <td>[30]</td>\n",
       "      <td>[Scotland]</td>\n",
       "    </tr>\n",
       "    <tr>\n",
       "      <th>69930</th>\n",
       "      <td>56dc7e9a14d3a41400c26928</td>\n",
       "      <td>Education in Northern Ireland differs slightly...</td>\n",
       "      <td>Which countries have school systems somewhat s...</td>\n",
       "      <td>[137]</td>\n",
       "      <td>[23]</td>\n",
       "      <td>[154]</td>\n",
       "      <td>[25]</td>\n",
       "      <td>[England and Wales]</td>\n",
       "    </tr>\n",
       "  </tbody>\n",
       "</table>\n",
       "<p>69931 rows × 8 columns</p>\n",
       "</div>"
      ],
      "text/plain": [
       "                     questionID  \\\n",
       "0      56f8d6b49b226e1400dd10c2   \n",
       "1      56f8d6b49b226e1400dd10c3   \n",
       "2      56f8d6b49b226e1400dd10c4   \n",
       "3      56f8d6b49b226e1400dd10c5   \n",
       "4      56f8d86f9b226e1400dd10d4   \n",
       "...                         ...   \n",
       "69926  56dc7e6714d3a41400c26921   \n",
       "69927  56dc7e6714d3a41400c26922   \n",
       "69928  56dc7e6714d3a41400c26923   \n",
       "69929  56dc7e9a14d3a41400c26927   \n",
       "69930  56dc7e9a14d3a41400c26928   \n",
       "\n",
       "                                                 context  \\\n",
       "0      Near East (French: Proche-Orient) is a geograp...   \n",
       "1      Near East (French: Proche-Orient) is a geograp...   \n",
       "2      Near East (French: Proche-Orient) is a geograp...   \n",
       "3      Near East (French: Proche-Orient) is a geograp...   \n",
       "4      The Encyclopædia Britannica defines the Near E...   \n",
       "...                                                  ...   \n",
       "69926  Scotland has a very different educational syst...   \n",
       "69927  Scotland has a very different educational syst...   \n",
       "69928  Scotland has a very different educational syst...   \n",
       "69929  Education in Northern Ireland differs slightly...   \n",
       "69930  Education in Northern Ireland differs slightly...   \n",
       "\n",
       "                                                question answer_start  \\\n",
       "0      What is a geographical term that roughly encom...          [0]   \n",
       "1      The term near east was originally applies to t...        [227]   \n",
       "2      The term Near East has fallen into disuses in ...        [278]   \n",
       "3                  What has replaced the term Near East?        [321]   \n",
       "4      Who defines the Near East as including Armenia...          [0]   \n",
       "...                                                  ...          ...   \n",
       "69926  All public primary and secondary schools in Sc...         [94]   \n",
       "69927                What has Scotland refused to adopt?        [345]   \n",
       "69928  When was Scotland's latest rejection of the sp...        [370]   \n",
       "69929  Which country is Northern England's school sys...        [169]   \n",
       "69930  Which countries have school systems somewhat s...        [137]   \n",
       "\n",
       "      answer_word_start answer_end answer_word_end  \\\n",
       "0                   [0]       [33]             [3]   \n",
       "1                  [32]      [241]            [33]   \n",
       "2                  [41]      [285]            [41]   \n",
       "3                  [49]      [332]            [50]   \n",
       "4                   [0]       [27]             [2]   \n",
       "...                 ...        ...             ...   \n",
       "69926              [15]      [107]            [15]   \n",
       "69927              [49]      [363]            [50]   \n",
       "69928              [53]      [374]            [53]   \n",
       "69929              [30]      [177]            [30]   \n",
       "69930              [23]      [154]            [25]   \n",
       "\n",
       "                               answer_text  \n",
       "0      [Near East (French: Proche-Orient)]  \n",
       "1                         [Ottoman Empire]  \n",
       "2                                [English]  \n",
       "3                            [Middle East]  \n",
       "4            [The Encyclopædia Britannica]  \n",
       "...                                    ...  \n",
       "69926                      [comprehensive]  \n",
       "69927                 [specialist schools]  \n",
       "69928                               [2005]  \n",
       "69929                           [Scotland]  \n",
       "69930                  [England and Wales]  \n",
       "\n",
       "[69931 rows x 8 columns]"
      ]
     },
     "execution_count": 11,
     "metadata": {},
     "output_type": "execute_result"
    }
   ],
   "source": [
    "train_df"
   ]
  },
  {
   "cell_type": "markdown",
   "id": "4e7bcbc5",
   "metadata": {},
   "source": [
    "## Clean and transform data"
   ]
  },
  {
   "cell_type": "markdown",
   "id": "f21fd72d",
   "metadata": {},
   "source": [
    "#### Clean text\n",
    "What should we do? just lowering everyhting? remove stopwords? how will that work with the answer start number???"
   ]
  },
  {
   "cell_type": "code",
   "execution_count": 12,
   "id": "eae2f69a",
   "metadata": {},
   "outputs": [
    {
     "name": "stderr",
     "output_type": "stream",
     "text": [
      "[nltk_data] Downloading package wordnet to\n",
      "[nltk_data]     /Users/solveig.mohr/nltk_data...\n",
      "[nltk_data]   Package wordnet is already up-to-date!\n"
     ]
    }
   ],
   "source": [
    "lemmatizer = WordNetLemmatizer()\n",
    "nltk.download('wordnet')\n",
    "\n",
    "REPLACE_BY_SPACE_RE = re.compile('[/(){}\\[\\]\\|@,;]')\n",
    "GOOD_SYMBOLS_RE = re.compile('[^0-9a-z #+_]')\n",
    "try:\n",
    "    STOPWORDS = set(stopwords.words('english'))\n",
    "except LookupError:\n",
    "    nltk.download('stopwords')\n",
    "    STOPWORDS = set(stopwords.words('english'))\n",
    "\n",
    "\n",
    "\n",
    "def lower(text: str) -> str:\n",
    "    \"\"\"\n",
    "    Transforms given text to lower case.\n",
    "    Example:\n",
    "    Input: 'I really like New York city'\n",
    "    Output: 'i really like new your city'\n",
    "    \"\"\"\n",
    "\n",
    "    return text.lower()\n",
    "\n",
    "def replace_special_characters(text: str) -> str:\n",
    "    \"\"\"\n",
    "    Replaces special characters, such as paranthesis,\n",
    "    with spacing character\n",
    "    \"\"\"\n",
    "\n",
    "    return REPLACE_BY_SPACE_RE.sub(' ', text)\n",
    "\n",
    "def filter_out_uncommon_symbols(text: str) -> str:\n",
    "    \"\"\"\n",
    "    Removes any special character that is not in the\n",
    "    good symbols list (check regular expression)\n",
    "    \"\"\"\n",
    "\n",
    "    return GOOD_SYMBOLS_RE.sub('', text)\n",
    "\n",
    "def remove_stopwords(text: str) -> str:\n",
    "    return ' '.join([x for x in text.split() if x and x not in STOPWORDS])\n",
    "\n",
    "def strip_text(text: str) -> str:\n",
    "    \"\"\"\n",
    "    Removes any left or right spacing (including carriage return) from text.\n",
    "    Example:\n",
    "    Input: '  This assignment is cool\\n'\n",
    "    Output: 'This assignment is cool'\n",
    "    \"\"\"\n",
    "\n",
    "    return text.strip()    \n",
    "\n",
    "def lemmatize_words(text: str ) -> str:\n",
    "    return \" \".join([lemmatizer.lemmatize(word) for word in text.split()])\n",
    "\n",
    "PREPROCESSING_PIPELINE = [\n",
    "                          lower,\n",
    "                          strip_text\n",
    "                          ]\n",
    "\n",
    "def text_prepare(text: str,\n",
    "                 filter_methods: List[Callable[[str], str]] = None) -> str:\n",
    "    \"\"\"\n",
    "    Applies a list of pre-processing functions in sequence (reduce).\n",
    "    Note that the order is important here!\n",
    "    \"\"\"\n",
    "\n",
    "    filter_methods = filter_methods if filter_methods is not None else PREPROCESSING_PIPELINE\n",
    "    if type(text) == list:\n",
    "        new_row = [reduce(lambda txt, f: f(txt), filter_methods, x) for x in text]\n",
    "    else:\n",
    "        new_row = reduce(lambda txt, f: f(txt), filter_methods, text)\n",
    "    return new_row"
   ]
  },
  {
   "cell_type": "code",
   "execution_count": 13,
   "id": "7f8f8fcc",
   "metadata": {},
   "outputs": [],
   "source": [
    "to_be_cleaned = [\"context\", \"question\", \"answer_text\"]\n",
    "for key in to_be_cleaned:\n",
    "    train_df[key] = train_df[key].apply(lambda txt: text_prepare(txt))\n",
    "    val_df[key] = val_df[key].apply(lambda txt: text_prepare(txt))\n",
    "    test_df[key] = test_df[key].apply(lambda txt: text_prepare(txt))\n",
    "    "
   ]
  },
  {
   "cell_type": "markdown",
   "id": "cd709782",
   "metadata": {},
   "source": [
    "#### Make tokenixer"
   ]
  },
  {
   "cell_type": "markdown",
   "id": "7806c773",
   "metadata": {},
   "source": [
    "### THINGS TO THINK ABOUT\n",
    "- Now its the padding is exstream! The questions has to be 3706 caracters long!\n",
    "- We are only fitting on text the train context and questions. Should this also be done for val/train?\n",
    "- Preprocessing is only lowering the words. Should we do more, like removing stopwords? In that case we need to consider the answer_start index. This has to be corrected after removal of carachters\n",
    "- OOV are handeled with index 1 and will all have weights 0 in the beginning. is this correct?\n"
   ]
  },
  {
   "cell_type": "code",
   "execution_count": 14,
   "id": "bbb6c3bd",
   "metadata": {},
   "outputs": [],
   "source": [
    "# The tokenizer will have an index 1 for OOV words. A lot of words in test and val will be 1.\n",
    "tokenizer = Tokenizer(oov_token=1)\n",
    "\n",
    "tokenizer.fit_on_texts(train_df[\"context\"])\n",
    "tokenizer.fit_on_texts(train_df[\"question\"])"
   ]
  },
  {
   "cell_type": "code",
   "execution_count": 15,
   "id": "6bc851ee",
   "metadata": {},
   "outputs": [],
   "source": [
    "# Find max sentence lenght for the context\n",
    "MAX_SEQ_LEN = np.max([len(row.split(' ')) for row in train_df[\"context\"]])"
   ]
  },
  {
   "cell_type": "code",
   "execution_count": 16,
   "id": "6d428503",
   "metadata": {},
   "outputs": [
    {
     "data": {
      "text/plain": [
       "653"
      ]
     },
     "execution_count": 16,
     "metadata": {},
     "output_type": "execute_result"
    }
   ],
   "source": [
    "MAX_SEQ_LEN"
   ]
  },
  {
   "cell_type": "code",
   "execution_count": 17,
   "id": "175d5732",
   "metadata": {},
   "outputs": [],
   "source": [
    "def textToTensor(tokenizer, max_len, text):\n",
    "    '''\n",
    "        Converts text to tensors by converting the words into the correct indexes. \n",
    "        Then padds the tensors with 0 vlaues\n",
    "    '''\n",
    "    seq = tokenizer.texts_to_sequences(text)\n",
    "    padded = pad_sequences(sequences=seq, maxlen=max_len, padding='post')\n",
    "    return padded"
   ]
  },
  {
   "cell_type": "code",
   "execution_count": 18,
   "id": "abf2d75d",
   "metadata": {},
   "outputs": [],
   "source": [
    "context_train = textToTensor(tokenizer, MAX_SEQ_LEN, train_df[\"context\"])\n",
    "question_train = textToTensor(tokenizer, MAX_SEQ_LEN, train_df[\"question\"])\n",
    "\n",
    "context_val = textToTensor(tokenizer, MAX_SEQ_LEN, val_df[\"context\"])\n",
    "question_val = textToTensor(tokenizer, MAX_SEQ_LEN, val_df[\"question\"])\n",
    "\n",
    "context_test = textToTensor(tokenizer, MAX_SEQ_LEN, test_df[\"context\"])\n",
    "question_test = textToTensor(tokenizer, MAX_SEQ_LEN, test_df[\"question\"])"
   ]
  },
  {
   "cell_type": "code",
   "execution_count": 19,
   "id": "002a7459",
   "metadata": {},
   "outputs": [
    {
     "data": {
      "text/plain": [
       "array([[1., 0., 0., ..., 0., 0., 0.],\n",
       "       [0., 0., 0., ..., 0., 0., 0.],\n",
       "       [0., 0., 0., ..., 0., 0., 0.],\n",
       "       ...,\n",
       "       [0., 0., 0., ..., 0., 0., 0.],\n",
       "       [0., 0., 0., ..., 0., 0., 0.],\n",
       "       [0., 0., 0., ..., 0., 0., 0.]], dtype=float32)"
      ]
     },
     "execution_count": 19,
     "metadata": {},
     "output_type": "execute_result"
    }
   ],
   "source": [
    "# Takes only the first answer: simplification\n",
    "# Can do this because we know there are only one answer for each question in our dataset\n",
    "# Might need to change this\n",
    "index_start_train = to_categorical(np.array(train_df[\"answer_word_start\"].str[0]), num_classes=MAX_SEQ_LEN)\n",
    "index_end_train = to_categorical(np.array(train_df[\"answer_word_end\"].str[0]), num_classes=MAX_SEQ_LEN)\n",
    "\n",
    "index_start_val = to_categorical(np.array(val_df[\"answer_word_start\"].str[0]), num_classes=MAX_SEQ_LEN)\n",
    "index_end_val = to_categorical(np.array(val_df[\"answer_word_end\"].str[0]), num_classes=MAX_SEQ_LEN)\n",
    "\n",
    "index_start_test = np.array(train_df[\"answer_word_start\"].str[0])\n",
    "index_end_test = np.array(train_df[\"answer_word_end\"].str[0])\n",
    "\n",
    "index_start_train"
   ]
  },
  {
   "cell_type": "code",
   "execution_count": 20,
   "id": "97970acb",
   "metadata": {},
   "outputs": [],
   "source": [
    "# Find size of vocabulary\n",
    "VOCABULARY_SIZE = len(tokenizer.word_index) + 1"
   ]
  },
  {
   "cell_type": "markdown",
   "id": "d14113eb",
   "metadata": {},
   "source": [
    "### Applying glove"
   ]
  },
  {
   "cell_type": "code",
   "execution_count": 21,
   "id": "5ade4fe3",
   "metadata": {},
   "outputs": [],
   "source": [
    "import gensim \n",
    "import gensim.downloader as gloader\n",
    "\n",
    "def load_embedding_model(embedding_dimension: int = 50) -> gensim.models.keyedvectors.KeyedVectors:\n",
    "    download_path = \"glove-wiki-gigaword-{}\".format(embedding_dimension)\n",
    "    # Check download\n",
    "    try:\n",
    "        emb_model = gloader.load(download_path)\n",
    "    except ValueError as e:\n",
    "        print(\"Invalid embedding model name! Check the embedding dimension:\")\n",
    "        print(\"Word2Vec: 300\")\n",
    "        print(\"Glove: 50, 100, 200, 300\")\n",
    "        raise e\n",
    "\n",
    "    return emb_model\n",
    "    \n",
    "def create_embedding_matrix(embedding_model, embedding_dimension, word_to_idx):\n",
    "    embedding_matrix = np.zeros((len(word_to_idx)+1, embedding_dimension), dtype=np.float32)\n",
    "    for word, idx in word_to_idx.items():\n",
    "        try:\n",
    "            embedding_vector = embedding_model[word]\n",
    "        except (KeyError, TypeError):\n",
    "            embedding_vector = np.random.uniform(low=-0.05, high=0.05, size=embedding_dimension)\n",
    "\n",
    "        embedding_matrix[idx] = embedding_vector\n",
    "                                \n",
    "    return embedding_matrix\n"
   ]
  },
  {
   "cell_type": "code",
   "execution_count": 22,
   "id": "5c6a3717",
   "metadata": {},
   "outputs": [
    {
     "data": {
      "text/plain": [
       "(79767, 50)"
      ]
     },
     "execution_count": 22,
     "metadata": {},
     "output_type": "execute_result"
    }
   ],
   "source": [
    "embedding_dimension = 50\n",
    "\n",
    "embedding_model = load_embedding_model(embedding_dimension)\n",
    "embedding_matrix = create_embedding_matrix(embedding_model, embedding_dimension, tokenizer.word_index)\n",
    "embedding_matrix.shape"
   ]
  },
  {
   "cell_type": "markdown",
   "id": "35d1d9ba",
   "metadata": {},
   "source": [
    "### Create model"
   ]
  },
  {
   "cell_type": "markdown",
   "id": "52146b3f",
   "metadata": {},
   "source": [
    "##### Similarity matrix"
   ]
  },
  {
   "cell_type": "code",
   "execution_count": 23,
   "id": "e4a3266a",
   "metadata": {},
   "outputs": [],
   "source": [
    "from tensorflow.keras.layers import Layer\n",
    "class Similarity(Layer):\n",
    "\n",
    "    def __init__(self, **kwargs):\n",
    "        super(Similarity, self).__init__(**kwargs)\n",
    "    \n",
    "    def build(self, input_shape):\n",
    "        shape = input_shape[0][-1]*3\n",
    "        self.kernel = self.add_weight(name='similarity_weight',\n",
    "                                        shape=(shape, 1),\n",
    "                                        initializer='uniform',\n",
    "                                        trainable=True)\n",
    "        super(Similarity, self).build(input_shape)\n",
    "    def get_kernel(self):\n",
    "        return self.kernel\n",
    "    \n",
    "    def call(self, inputs):\n",
    "        A, B = inputs\n",
    "        A_dim_repeat = K.concatenate([[1, 1], [A.shape[1]], [1]], 0)\n",
    "        B_dim_repeat = K.concatenate([[1], [B.shape[1]], [1, 1]], 0)\n",
    "        A_repeated = K.tile(K.expand_dims(A, axis=2), A_dim_repeat)\n",
    "        B_repeated = K.tile(K.expand_dims(B, axis=1), B_dim_repeat)\n",
    "        element_wise_multiplication = A_repeated * B_repeated\n",
    "        concated = K.concatenate([A_repeated, B_repeated, element_wise_multiplication], axis=-1)\n",
    "        dot= K.dot(concated, self.kernel)\n",
    "        dot_product = K.squeeze(dot, axis=-1)\n",
    "        return dot_product\n",
    "\n",
    "    def compute_output_shape(self, input_shape):\n",
    "        batch_size = input_shape[0][0]\n",
    "        num_context_words = input_shape[0][1]\n",
    "        num_query_words = input_shape[1][1]\n",
    "        return (batch_size, num_context_words, num_query_words)"
   ]
  },
  {
   "cell_type": "markdown",
   "id": "f4b91594",
   "metadata": {},
   "source": [
    "##### C2q"
   ]
  },
  {
   "cell_type": "code",
   "execution_count": 25,
   "id": "db4b9e58",
   "metadata": {},
   "outputs": [],
   "source": [
    "class Context2QuestionAttention(Layer):\n",
    "    '''\n",
    "    A = Take row-wise softmax of the similarity matrix\n",
    "    Û = For every row in A (softmaxed similarity matrix), A_t:\n",
    "        Multiply every element in A_t calculate the weighted sum of the question matrix. \n",
    "        (The weigths will be the elements in A_t)\n",
    "    Input: Question matrix and similarity matrix\n",
    "    '''\n",
    "    def __init__(self, **kwargs):\n",
    "        super(Context2QuestionAttention, self).__init__(**kwargs)\n",
    "    \n",
    "    def build(self, input_shape):\n",
    "        super(Context2QuestionAttention, self).build(input_shape)\n",
    "\n",
    "\n",
    "    \n",
    "    def call(self, inputs):\n",
    "        question_encoding, similarity_matrix = inputs\n",
    "        # Take only soft max on non padded values\n",
    "        masked_inp = tf.where(similarity_matrix!=0, similarity_matrix, tf.float64.min)\n",
    "        softmax_similarity_matrix = Softmax(axis=-1)(masked_inp)\n",
    "        question_encoding_expand = K.expand_dims(question_encoding, axis=1)\n",
    "        softmax_similarity_matrix_expand = K.expand_dims(softmax_similarity_matrix, axis=-1)\n",
    "        product = softmax_similarity_matrix_expand*question_encoding_expand\n",
    "        summ = K.sum(product, axis=-2)\n",
    "        return summ\n",
    "\n",
    "    def compute_output_shape(self, input_shape):\n",
    "        question_encoding_shape, _ = input_shape\n",
    "        batch_size = question_encoding_shape[0]\n",
    "        max_seq_len = question_encoding_shape[1]\n",
    "        embedding_dim = question_encoding_shape[2]\n",
    "        return (batch_size,max_seq_len, embedding_dim)"
   ]
  },
  {
   "cell_type": "markdown",
   "id": "3cc5871f",
   "metadata": {},
   "source": [
    "##### q2c"
   ]
  },
  {
   "cell_type": "code",
   "execution_count": 26,
   "id": "5acee72e",
   "metadata": {},
   "outputs": [],
   "source": [
    "class Question2ContextAttention(Layer):\n",
    "    '''\n",
    "    Similraity matrix [max_seq_len, max_seq_len]\n",
    "    Z = maximum across each row of the similarity matrix [max_seq_len, 1]\n",
    "    b = softmax on Z to get attention distribution (max_seq_len, 1)\n",
    "    ^h = Use b to take a weigthed sum of the contex matrix H (max_seq_len, 1)\n",
    "    ^H = ^h dubplicated max_seq_len times (max_seq_len, max_seq_len)\n",
    "    '''\n",
    "    \n",
    "    def __init__(self, **kwargs):\n",
    "        super(Question2ContextAttention, self).__init__(**kwargs)\n",
    "    \n",
    "    def build(self, input_shape):\n",
    "        super(Question2ContextAttention, self).build(input_shape)\n",
    "    \n",
    "    def call(self, inputs):\n",
    "        context_encoding, similarity_matrix = inputs\n",
    "        max_sim_matrix = K.max(similarity_matrix, axis=-1) # K.max also squeezes\n",
    "        # Take only softmax on non padded vlaues\n",
    "        masked_inp = tf.where(max_sim_matrix!=0, max_sim_matrix, tf.float64.min)\n",
    "        softmax_similarity_matrix = Softmax(axis=-1)(masked_inp)\n",
    "        softmax_similarity_matrix_expand = K.expand_dims(softmax_similarity_matrix, axis=-1)\n",
    "        product = softmax_similarity_matrix_expand*context_encoding\n",
    "        weighted_sum = K.sum(product, axis=-2)\n",
    "        # Expand dimensions, so that vector can be repeated\n",
    "        expanded_weighted_sum = K.expand_dims(weighted_sum, 1)\n",
    "        # get max_seq_len\n",
    "        max_seq_len = K.shape(context_encoding)[1]\n",
    "        # repeat vector for max seq length to make matrix\n",
    "        question2context_attention = K.tile(expanded_weighted_sum, [1, max_seq_len, 1])\n",
    "        return question2context_attention\n",
    "\n",
    "    def compute_output_shape(self, input_shape):\n",
    "        batch_size = input_shape[0][0]\n",
    "        num_context_words = input_shape[0][1]\n",
    "        num_query_words = input_shape[1][1]\n",
    "        return (batch_size, num_context_words, num_query_words)"
   ]
  },
  {
   "cell_type": "markdown",
   "id": "005817f6",
   "metadata": {},
   "source": [
    "##### Mega merge"
   ]
  },
  {
   "cell_type": "code",
   "execution_count": 27,
   "id": "26586890",
   "metadata": {},
   "outputs": [],
   "source": [
    "class MegaMerge(Layer):\n",
    "    '''\n",
    "    For each word in max_seqence_length (T):\n",
    "        cu = context elementwise multiply with Û (c2q) (2d, T)\n",
    "        ch = context elementwise multiply with ^H (q2c) (2d, T)\n",
    "        Stack for each column context, Û, cu, ch. [8*embedding_dim, 1]\n",
    "    Output:\n",
    "    mega_merge (8d, T)\n",
    "\n",
    "    '''\n",
    "    \n",
    "    def __init__(self, **kwargs):\n",
    "        super(MegaMerge, self).__init__(**kwargs)\n",
    "    \n",
    "    def build(self, input_shape):\n",
    "        super(MegaMerge, self).build(input_shape)\n",
    "    \n",
    "    def call(self, inputs):\n",
    "        context_encoding, context2question_attention, question2context_attention = inputs\n",
    "\n",
    "        element_wise_multiply1 = context_encoding * context2question_attention\n",
    "        element_wise_multiply2 = context_encoding * question2context_attention\n",
    "\n",
    "        mega_merge = K.concatenate([context_encoding, context2question_attention, element_wise_multiply1, element_wise_multiply2], axis=-1)\n",
    "        return mega_merge\n",
    "\n",
    "    def compute_output_shape(self, input_shape):\n",
    "        context_encoding_shape , _, _ = input_shape\n",
    "        batch_size = context_encoding_shape[0]\n",
    "        max_seq_len = context_encoding_shape[1]\n",
    "        embedding_dim2 = context_encoding_shape[2]\n",
    "        return (batch_size, max_seq_len, embedding_dim2*4)"
   ]
  },
  {
   "cell_type": "markdown",
   "id": "fe85d948",
   "metadata": {},
   "source": [
    "##### Output layer start"
   ]
  },
  {
   "cell_type": "code",
   "execution_count": 28,
   "id": "024311f9",
   "metadata": {},
   "outputs": [],
   "source": [
    "class StartOutput(Layer):\n",
    "    '''\n",
    "    1. super merge = Concatenate first hidden_layer(T,2d) with Mega merge(T,8d)\n",
    "    Make trainable weigths (10d, 1)\n",
    "    2. dotted = Dotproduct with trainable weigths and super merge (T,1)\n",
    "    3. out = Softmax the dotted vector (T,1)\n",
    "    Output:\n",
    "    out (T,1)\n",
    "\n",
    "    '''\n",
    "    \n",
    "    def __init__(self, **kwargs):\n",
    "        super(StartOutput, self).__init__(**kwargs)\n",
    "    \n",
    "    def build(self, input_shape):\n",
    "        shape = input_shape[0][-1]*5 # want 10*embedding dimention\n",
    "        self.kernel = self.add_weight(name='startOutput_weight',\n",
    "                                        shape=(shape, 1),\n",
    "                                        initializer='uniform',\n",
    "                                        trainable=True)\n",
    "        super(StartOutput, self).build(input_shape)\n",
    "    \n",
    "    def call(self, inputs):\n",
    "        hidden_layer, mega_merge, mask = inputs\n",
    "        super_merge = K.concatenate([mega_merge, hidden_layer])\n",
    "\n",
    "        dotted = K.squeeze(K.dot(super_merge, self.kernel), axis=-1)\n",
    "        print('start, before softmax:', dotted[0][:33])\n",
    "        print('mask', mask)\n",
    "        print('shape mask', mask.shape)\n",
    "        masked_inp = tf.where(mask!=False, dotted, tf.float64.min)\n",
    "        # OBS try without mask stuff. With mask change dotted to be masked_inp\n",
    "        soft_max_dotted = Softmax(axis=-1)(dotted)\n",
    "        return soft_max_dotted\n",
    "\n",
    "    def compute_output_shape(self, input_shape):\n",
    "        hidden_layer , _, _ = input_shape\n",
    "        batch_size = hidden_layer[0]\n",
    "        max_seq_len = hidden_layer[1]\n",
    "        return (batch_size, max_seq_len, 1)"
   ]
  },
  {
   "cell_type": "code",
   "execution_count": 29,
   "id": "a4585190",
   "metadata": {},
   "outputs": [],
   "source": [
    "class EndOutput(Layer):\n",
    "    '''\n",
    "    1. super merge = Concatenate second hidden layer with Mega merge\n",
    "    Make trainable weigths (10d, 1)\n",
    "    2. dotted = Dotproduct with trainable weigths and super merge (T,1)\n",
    "    3. out = Softmax the dotted vector (T,1)\n",
    "    Output:\n",
    "    out (T,1)\n",
    "\n",
    "    '''\n",
    "    \n",
    "    def __init__(self, **kwargs):\n",
    "        super(EndOutput, self).__init__(**kwargs)\n",
    "    \n",
    "    def build(self, input_shape):\n",
    "        shape = input_shape[0][-1]*5 # want 10*embedding dimention\n",
    "        self.kernel = self.add_weight(name='startOutput_weight',\n",
    "                                        shape=(shape, 1),\n",
    "                                        initializer='uniform',\n",
    "                                        trainable=True)\n",
    "        super(EndOutput, self).build(input_shape)\n",
    "    \n",
    "    def call(self, inputs):\n",
    "        hidden_layer, mega_merge, mask = inputs\n",
    "        super_merge = K.concatenate([mega_merge, hidden_layer])\n",
    "\n",
    "        dotted = K.dot(super_merge, self.kernel)\n",
    "        masked_inp = tf.where(mask!=False, dotted, tf.float64.min)\n",
    "        # OBS try without mask stuff. With mask change dotted to be masked_inp\n",
    "        soft_max_dotted = Softmax(axis=-1)(dotted)\n",
    "        return soft_max_dotted\n",
    "\n",
    "    def compute_output_shape(self, input_shape):\n",
    "        hidden_layer , _, _ = input_shape\n",
    "        batch_size = hidden_layer[0]\n",
    "        max_seq_len = hidden_layer[1]\n",
    "        return (batch_size, max_seq_len, 1)"
   ]
  },
  {
   "cell_type": "markdown",
   "id": "4d13737a",
   "metadata": {},
   "source": [
    "##### Create model"
   ]
  },
  {
   "cell_type": "code",
   "execution_count": 30,
   "id": "69cb3a49",
   "metadata": {},
   "outputs": [],
   "source": [
    "def create_model(max_tokens, vocab_size, embedding_dimension):\n",
    "    '''\n",
    "        Creates keras model for classification.\n",
    "        Inputs: \n",
    "            max_tokens (int): Max length of a text sequence\n",
    "            vocab_size (int): Size of the vocabulary\n",
    "            embedding_dimension (int): The dimension of the embedding vectors\n",
    "    '''   \n",
    "\n",
    "    #-------------------------- Input layer ------------------------------------------------------------\n",
    "    question_input = Input(shape=(max_tokens, ))\n",
    "    context_input = Input(shape=(max_tokens, ))\n",
    "    #-----------------------------------------------------------------------------------------------------\n",
    "\n",
    "    #-------------------------- Word embedding ------------------------------------------------------------\n",
    "    question_embedding = Embedding(vocab_size, embedding_dimension, weights = [embedding_matrix], name='WordEmbedding_question', trainable = False, mask_zero = True)(question_input)\n",
    "    context_embedding = Embedding(vocab_size, embedding_dimension, weights = [embedding_matrix], name='WordEmbedding_context', trainable = False, mask_zero = True)(context_input)\n",
    "    #-----------------------------------------------------------------------------------------------------\n",
    "\n",
    "    #-------------------------- Encoding/sentence embedding -------------------------------------------------------\n",
    "    # Encode token sequences with bi-directional LSTM and concatenate the series of hidden vectors (done by default)\n",
    "    question_encoding = Bidirectional(LSTM(embedding_dimension, return_sequences=True, name='SentenceEmbedding_claims'))(question_embedding)\n",
    "    context_encoding = Bidirectional(LSTM(embedding_dimension, return_sequences=True, name='SentenceEmbedding_evidence'))(context_embedding)\n",
    "    #-----------------------------------------------------------------------------------------------------\n",
    "    \n",
    "    #-------------------------- Similarity ------------------------------------------------------------\n",
    "    similarity_layer = Similarity()\n",
    "    similarity_matrix = similarity_layer([question_encoding, context_encoding])\n",
    "    #-------------------------- Attention ------------------------------------------------------------\n",
    "    c2q = Context2QuestionAttention()\n",
    "    context2question_attention = c2q([question_encoding, similarity_matrix])\n",
    "\n",
    "    q2c = Question2ContextAttention()\n",
    "    question2context_attention = q2c([context_encoding, similarity_matrix])\n",
    "    #-----------------------------------------------------------------------------------------------------\n",
    "\n",
    "    #-------------------------- Megamerge --------------------------------------------------------------\n",
    "    mm = MegaMerge()\n",
    "    mega_merge = mm([context_encoding, context2question_attention, question2context_attention])\n",
    "    #-------------------------- Model layer --------------------------------------------------------------\n",
    "\n",
    "    hidden_layer = Bidirectional(LSTM(embedding_dimension, return_sequences=True))(mega_merge)\n",
    "    hidden_layer2 = Bidirectional(LSTM(embedding_dimension, return_sequences=True))(hidden_layer)\n",
    "\n",
    "    #-----------------------------------------------------------------------------------------------------\n",
    "\n",
    "    #-------------------------- Output layer -------------------------------------------------------------\n",
    "    # OBS addef the mask to remove padding\n",
    "    emb = Embedding(vocab_size, embedding_dimension, weights = [embedding_matrix], name='WordEmbedding_context', trainable = False, mask_zero = True)\n",
    "    mask = emb.compute_mask(context_input)\n",
    "    start_out_model = StartOutput()\n",
    "    start_probabilities = start_out_model([hidden_layer, mega_merge, mask])\n",
    "\n",
    "    end_out_model = EndOutput()\n",
    "    end_probabilities = end_out_model([hidden_layer2, mega_merge, mask])\n",
    "\n",
    "    return Model(inputs=[question_input, context_input], outputs=[start_probabilities, end_probabilities])\n",
    "\n"
   ]
  },
  {
   "cell_type": "code",
   "execution_count": 31,
   "id": "7c1467a3",
   "metadata": {},
   "outputs": [
    {
     "name": "stderr",
     "output_type": "stream",
     "text": [
      "2021-12-18 18:20:01.576859: I tensorflow/core/platform/cpu_feature_guard.cc:151] This TensorFlow binary is optimized with oneAPI Deep Neural Network Library (oneDNN) to use the following CPU instructions in performance-critical operations:  AVX2 FMA\n",
      "To enable them in other operations, rebuild TensorFlow with the appropriate compiler flags.\n"
     ]
    },
    {
     "name": "stdout",
     "output_type": "stream",
     "text": [
      "start, before softmax: Tensor(\"start_output/strided_slice_1:0\", shape=(33,), dtype=float32)\n",
      "mask Tensor(\"Placeholder_2:0\", shape=(None, 653), dtype=bool)\n",
      "shape mask (None, 653)\n",
      "Model: \"model\"\n",
      "__________________________________________________________________________________________________\n",
      " Layer (type)                   Output Shape         Param #     Connected to                     \n",
      "==================================================================================================\n",
      " input_2 (InputLayer)           [(None, 653)]        0           []                               \n",
      "                                                                                                  \n",
      " input_1 (InputLayer)           [(None, 653)]        0           []                               \n",
      "                                                                                                  \n",
      " WordEmbedding_context (Embeddi  (None, 653, 50)     3988350     ['input_2[0][0]']                \n",
      " ng)                                                                                              \n",
      "                                                                                                  \n",
      " WordEmbedding_question (Embedd  (None, 653, 50)     3988350     ['input_1[0][0]']                \n",
      " ing)                                                                                             \n",
      "                                                                                                  \n",
      " bidirectional_1 (Bidirectional  (None, 653, 100)    40400       ['WordEmbedding_context[0][0]']  \n",
      " )                                                                                                \n",
      "                                                                                                  \n",
      " bidirectional (Bidirectional)  (None, 653, 100)     40400       ['WordEmbedding_question[0][0]'] \n",
      "                                                                                                  \n",
      " similarity (Similarity)        (None, 653, 653)     300         ['bidirectional[0][0]',          \n",
      "                                                                  'bidirectional_1[0][0]']        \n",
      "                                                                                                  \n",
      " context2_question_attention (C  (None, 653, 100)    0           ['bidirectional[0][0]',          \n",
      " ontext2QuestionAttention)                                        'similarity[0][0]']             \n",
      "                                                                                                  \n",
      " question2_context_attention (Q  (None, 653, 100)    0           ['bidirectional_1[0][0]',        \n",
      " uestion2ContextAttention)                                        'similarity[0][0]']             \n",
      "                                                                                                  \n",
      " mega_merge (MegaMerge)         (None, 653, 400)     0           ['bidirectional_1[0][0]',        \n",
      "                                                                  'context2_question_attention[0][\n",
      "                                                                 0]',                             \n",
      "                                                                  'question2_context_attention[0][\n",
      "                                                                 0]']                             \n",
      "                                                                                                  \n",
      " bidirectional_2 (Bidirectional  (None, 653, 100)    180400      ['mega_merge[0][0]']             \n",
      " )                                                                                                \n",
      "                                                                                                  \n",
      " tf.math.not_equal (TFOpLambda)  (None, 653)         0           ['input_2[0][0]']                \n",
      "                                                                                                  \n",
      " bidirectional_3 (Bidirectional  (None, 653, 100)    60400       ['bidirectional_2[0][0]']        \n",
      " )                                                                                                \n",
      "                                                                                                  \n",
      " start_output (StartOutput)     (None, 653)          500         ['bidirectional_2[0][0]',        \n",
      "                                                                  'mega_merge[0][0]',             \n",
      "                                                                  'tf.math.not_equal[0][0]']      \n",
      "                                                                                                  \n",
      " end_output (EndOutput)         (None, 653, 1)       500         ['bidirectional_3[0][0]',        \n",
      "                                                                  'mega_merge[0][0]',             \n",
      "                                                                  'tf.math.not_equal[0][0]']      \n",
      "                                                                                                  \n",
      "==================================================================================================\n",
      "Total params: 8,299,600\n",
      "Trainable params: 322,900\n",
      "Non-trainable params: 7,976,700\n",
      "__________________________________________________________________________________________________\n"
     ]
    }
   ],
   "source": [
    "model = create_model(MAX_SEQ_LEN, VOCABULARY_SIZE, 50)\n",
    "model.summary()"
   ]
  },
  {
   "cell_type": "markdown",
   "id": "636d7b10",
   "metadata": {},
   "source": [
    "##### Train"
   ]
  },
  {
   "cell_type": "code",
   "execution_count": 80,
   "id": "cf765654",
   "metadata": {},
   "outputs": [],
   "source": [
    "def joint_loss(y_true, y_pred):\n",
    "    loss_start = tf.keras.losses.CategoricalCrossentropy()(y_true[0], y_pred[0])\n",
    "    loss_end = tf.keras.losses.CategoricalCrossentropy()(y_true[1], y_pred[1])\n",
    "    return loss_start + loss_end"
   ]
  },
  {
   "cell_type": "code",
   "execution_count": null,
   "id": "862b4b4a",
   "metadata": {},
   "outputs": [],
   "source": [
    "def accuracy(y_true, y_pred):\n",
    "\n",
    "    def calculate_accuracy(true_and_pred):\n",
    "        y_true, y_pred_start, y_pred_end = true_and_pred\n",
    "\n",
    "        start_probability = y_pred_start[K.cast(y_true[0], dtype='int32')]\n",
    "        end_probability = y_pred_end[K.cast(y_true[1], dtype='int32')]\n",
    "        return (start_probability + end_probability) / 2.0\n",
    "\n",
    "    y_true = K.squeeze(y_true, axis=1)\n",
    "    y_pred_start = y_pred[:, 0, :]\n",
    "    y_pred_end = y_pred[:, 1, :]\n",
    "    accuracy = K.map_fn(calculate_accuracy, (y_true, y_pred_start, y_pred_end), dtype='float32')\n",
    "    return K.mean(accuracy, axis=0)"
   ]
  },
  {
   "cell_type": "code",
   "execution_count": 85,
   "id": "d764db15",
   "metadata": {},
   "outputs": [
    {
     "name": "stderr",
     "output_type": "stream",
     "text": [
      "/usr/local/lib/python3.9/site-packages/keras/optimizer_v2/adadelta.py:74: UserWarning: The `lr` argument is deprecated, use `learning_rate` instead.\n",
      "  super(Adadelta, self).__init__(name, **kwargs)\n"
     ]
    }
   ],
   "source": [
    "adadelta = Adadelta(lr=0.01)"
   ]
  },
  {
   "cell_type": "code",
   "execution_count": 87,
   "id": "2439b43a",
   "metadata": {},
   "outputs": [
    {
     "name": "stdout",
     "output_type": "stream",
     "text": [
      "Epoch 1/2\n",
      "start, before softmax: Tensor(\"model/start_output/strided_slice_1:0\", shape=(33,), dtype=float32)\n",
      "mask Tensor(\"model/tf.math.not_equal/NotEqual:0\", shape=(None, 653), dtype=bool)\n",
      "shape mask (None, 653)\n",
      "start, before softmax: Tensor(\"model/start_output/strided_slice_1:0\", shape=(33,), dtype=float32)\n",
      "mask Tensor(\"model/tf.math.not_equal/NotEqual:0\", shape=(None, 653), dtype=bool)\n",
      "shape mask (None, 653)\n",
      "   43/13987 [..............................] - ETA: 1375:34:37 - loss: 22.6518 - start_output_loss: 9.6887 - end_output_loss: 12.9632 - start_output_acc: 0.0093 - end_output_acc: 0.0015"
     ]
    },
    {
     "ename": "KeyboardInterrupt",
     "evalue": "",
     "output_type": "error",
     "traceback": [
      "\u001b[0;31m---------------------------------------------------------------------------\u001b[0m",
      "\u001b[0;31mKeyboardInterrupt\u001b[0m                         Traceback (most recent call last)",
      "\u001b[0;32m/var/folders/t4/vnxj6kkj2n97knry5lnrscx00000gn/T/ipykernel_43696/3722210095.py\u001b[0m in \u001b[0;36m<module>\u001b[0;34m\u001b[0m\n\u001b[1;32m      2\u001b[0m               \u001b[0moptimizer\u001b[0m\u001b[0;34m=\u001b[0m\u001b[0madadelta\u001b[0m\u001b[0;34m,\u001b[0m\u001b[0;34m\u001b[0m\u001b[0;34m\u001b[0m\u001b[0m\n\u001b[1;32m      3\u001b[0m               metrics=['acc'])\n\u001b[0;32m----> 4\u001b[0;31m \u001b[0mhistory\u001b[0m \u001b[0;34m=\u001b[0m \u001b[0mmodel\u001b[0m\u001b[0;34m.\u001b[0m\u001b[0mfit\u001b[0m\u001b[0;34m(\u001b[0m\u001b[0mx\u001b[0m\u001b[0;34m=\u001b[0m\u001b[0;34m[\u001b[0m\u001b[0mcontext_train\u001b[0m\u001b[0;34m,\u001b[0m \u001b[0mquestion_train\u001b[0m\u001b[0;34m]\u001b[0m\u001b[0;34m,\u001b[0m \u001b[0my\u001b[0m\u001b[0;34m=\u001b[0m\u001b[0;34m[\u001b[0m\u001b[0mindex_start_train\u001b[0m\u001b[0;34m,\u001b[0m \u001b[0mindex_end_train\u001b[0m\u001b[0;34m]\u001b[0m\u001b[0;34m,\u001b[0m \u001b[0mbatch_size\u001b[0m\u001b[0;34m=\u001b[0m\u001b[0;36m5\u001b[0m\u001b[0;34m,\u001b[0m \u001b[0mepochs\u001b[0m\u001b[0;34m=\u001b[0m\u001b[0;36m2\u001b[0m\u001b[0;34m,\u001b[0m \u001b[0mvalidation_data\u001b[0m\u001b[0;34m=\u001b[0m\u001b[0;34m(\u001b[0m\u001b[0;34m[\u001b[0m\u001b[0mcontext_val\u001b[0m\u001b[0;34m,\u001b[0m \u001b[0mquestion_val\u001b[0m\u001b[0;34m]\u001b[0m\u001b[0;34m,\u001b[0m \u001b[0;34m[\u001b[0m\u001b[0mindex_start_val\u001b[0m\u001b[0;34m,\u001b[0m \u001b[0mindex_end_val\u001b[0m\u001b[0;34m]\u001b[0m\u001b[0;34m)\u001b[0m\u001b[0;34m)\u001b[0m\u001b[0;34m\u001b[0m\u001b[0;34m\u001b[0m\u001b[0m\n\u001b[0m",
      "\u001b[0;32m/usr/local/lib/python3.9/site-packages/keras/utils/traceback_utils.py\u001b[0m in \u001b[0;36merror_handler\u001b[0;34m(*args, **kwargs)\u001b[0m\n\u001b[1;32m     62\u001b[0m     \u001b[0mfiltered_tb\u001b[0m \u001b[0;34m=\u001b[0m \u001b[0;32mNone\u001b[0m\u001b[0;34m\u001b[0m\u001b[0;34m\u001b[0m\u001b[0m\n\u001b[1;32m     63\u001b[0m     \u001b[0;32mtry\u001b[0m\u001b[0;34m:\u001b[0m\u001b[0;34m\u001b[0m\u001b[0;34m\u001b[0m\u001b[0m\n\u001b[0;32m---> 64\u001b[0;31m       \u001b[0;32mreturn\u001b[0m \u001b[0mfn\u001b[0m\u001b[0;34m(\u001b[0m\u001b[0;34m*\u001b[0m\u001b[0margs\u001b[0m\u001b[0;34m,\u001b[0m \u001b[0;34m**\u001b[0m\u001b[0mkwargs\u001b[0m\u001b[0;34m)\u001b[0m\u001b[0;34m\u001b[0m\u001b[0;34m\u001b[0m\u001b[0m\n\u001b[0m\u001b[1;32m     65\u001b[0m     \u001b[0;32mexcept\u001b[0m \u001b[0mException\u001b[0m \u001b[0;32mas\u001b[0m \u001b[0me\u001b[0m\u001b[0;34m:\u001b[0m  \u001b[0;31m# pylint: disable=broad-except\u001b[0m\u001b[0;34m\u001b[0m\u001b[0;34m\u001b[0m\u001b[0m\n\u001b[1;32m     66\u001b[0m       \u001b[0mfiltered_tb\u001b[0m \u001b[0;34m=\u001b[0m \u001b[0m_process_traceback_frames\u001b[0m\u001b[0;34m(\u001b[0m\u001b[0me\u001b[0m\u001b[0;34m.\u001b[0m\u001b[0m__traceback__\u001b[0m\u001b[0;34m)\u001b[0m\u001b[0;34m\u001b[0m\u001b[0;34m\u001b[0m\u001b[0m\n",
      "\u001b[0;32m/usr/local/lib/python3.9/site-packages/keras/engine/training.py\u001b[0m in \u001b[0;36mfit\u001b[0;34m(self, x, y, batch_size, epochs, verbose, callbacks, validation_split, validation_data, shuffle, class_weight, sample_weight, initial_epoch, steps_per_epoch, validation_steps, validation_batch_size, validation_freq, max_queue_size, workers, use_multiprocessing)\u001b[0m\n\u001b[1;32m   1214\u001b[0m                 _r=1):\n\u001b[1;32m   1215\u001b[0m               \u001b[0mcallbacks\u001b[0m\u001b[0;34m.\u001b[0m\u001b[0mon_train_batch_begin\u001b[0m\u001b[0;34m(\u001b[0m\u001b[0mstep\u001b[0m\u001b[0;34m)\u001b[0m\u001b[0;34m\u001b[0m\u001b[0;34m\u001b[0m\u001b[0m\n\u001b[0;32m-> 1216\u001b[0;31m               \u001b[0mtmp_logs\u001b[0m \u001b[0;34m=\u001b[0m \u001b[0mself\u001b[0m\u001b[0;34m.\u001b[0m\u001b[0mtrain_function\u001b[0m\u001b[0;34m(\u001b[0m\u001b[0miterator\u001b[0m\u001b[0;34m)\u001b[0m\u001b[0;34m\u001b[0m\u001b[0;34m\u001b[0m\u001b[0m\n\u001b[0m\u001b[1;32m   1217\u001b[0m               \u001b[0;32mif\u001b[0m \u001b[0mdata_handler\u001b[0m\u001b[0;34m.\u001b[0m\u001b[0mshould_sync\u001b[0m\u001b[0;34m:\u001b[0m\u001b[0;34m\u001b[0m\u001b[0;34m\u001b[0m\u001b[0m\n\u001b[1;32m   1218\u001b[0m                 \u001b[0mcontext\u001b[0m\u001b[0;34m.\u001b[0m\u001b[0masync_wait\u001b[0m\u001b[0;34m(\u001b[0m\u001b[0;34m)\u001b[0m\u001b[0;34m\u001b[0m\u001b[0;34m\u001b[0m\u001b[0m\n",
      "\u001b[0;32m/usr/local/lib/python3.9/site-packages/tensorflow/python/util/traceback_utils.py\u001b[0m in \u001b[0;36merror_handler\u001b[0;34m(*args, **kwargs)\u001b[0m\n\u001b[1;32m    148\u001b[0m     \u001b[0mfiltered_tb\u001b[0m \u001b[0;34m=\u001b[0m \u001b[0;32mNone\u001b[0m\u001b[0;34m\u001b[0m\u001b[0;34m\u001b[0m\u001b[0m\n\u001b[1;32m    149\u001b[0m     \u001b[0;32mtry\u001b[0m\u001b[0;34m:\u001b[0m\u001b[0;34m\u001b[0m\u001b[0;34m\u001b[0m\u001b[0m\n\u001b[0;32m--> 150\u001b[0;31m       \u001b[0;32mreturn\u001b[0m \u001b[0mfn\u001b[0m\u001b[0;34m(\u001b[0m\u001b[0;34m*\u001b[0m\u001b[0margs\u001b[0m\u001b[0;34m,\u001b[0m \u001b[0;34m**\u001b[0m\u001b[0mkwargs\u001b[0m\u001b[0;34m)\u001b[0m\u001b[0;34m\u001b[0m\u001b[0;34m\u001b[0m\u001b[0m\n\u001b[0m\u001b[1;32m    151\u001b[0m     \u001b[0;32mexcept\u001b[0m \u001b[0mException\u001b[0m \u001b[0;32mas\u001b[0m \u001b[0me\u001b[0m\u001b[0;34m:\u001b[0m\u001b[0;34m\u001b[0m\u001b[0;34m\u001b[0m\u001b[0m\n\u001b[1;32m    152\u001b[0m       \u001b[0mfiltered_tb\u001b[0m \u001b[0;34m=\u001b[0m \u001b[0m_process_traceback_frames\u001b[0m\u001b[0;34m(\u001b[0m\u001b[0me\u001b[0m\u001b[0;34m.\u001b[0m\u001b[0m__traceback__\u001b[0m\u001b[0;34m)\u001b[0m\u001b[0;34m\u001b[0m\u001b[0;34m\u001b[0m\u001b[0m\n",
      "\u001b[0;32m/usr/local/lib/python3.9/site-packages/tensorflow/python/eager/def_function.py\u001b[0m in \u001b[0;36m__call__\u001b[0;34m(self, *args, **kwds)\u001b[0m\n\u001b[1;32m    908\u001b[0m \u001b[0;34m\u001b[0m\u001b[0m\n\u001b[1;32m    909\u001b[0m       \u001b[0;32mwith\u001b[0m \u001b[0mOptionalXlaContext\u001b[0m\u001b[0;34m(\u001b[0m\u001b[0mself\u001b[0m\u001b[0;34m.\u001b[0m\u001b[0m_jit_compile\u001b[0m\u001b[0;34m)\u001b[0m\u001b[0;34m:\u001b[0m\u001b[0;34m\u001b[0m\u001b[0;34m\u001b[0m\u001b[0m\n\u001b[0;32m--> 910\u001b[0;31m         \u001b[0mresult\u001b[0m \u001b[0;34m=\u001b[0m \u001b[0mself\u001b[0m\u001b[0;34m.\u001b[0m\u001b[0m_call\u001b[0m\u001b[0;34m(\u001b[0m\u001b[0;34m*\u001b[0m\u001b[0margs\u001b[0m\u001b[0;34m,\u001b[0m \u001b[0;34m**\u001b[0m\u001b[0mkwds\u001b[0m\u001b[0;34m)\u001b[0m\u001b[0;34m\u001b[0m\u001b[0;34m\u001b[0m\u001b[0m\n\u001b[0m\u001b[1;32m    911\u001b[0m \u001b[0;34m\u001b[0m\u001b[0m\n\u001b[1;32m    912\u001b[0m       \u001b[0mnew_tracing_count\u001b[0m \u001b[0;34m=\u001b[0m \u001b[0mself\u001b[0m\u001b[0;34m.\u001b[0m\u001b[0mexperimental_get_tracing_count\u001b[0m\u001b[0;34m(\u001b[0m\u001b[0;34m)\u001b[0m\u001b[0;34m\u001b[0m\u001b[0;34m\u001b[0m\u001b[0m\n",
      "\u001b[0;32m/usr/local/lib/python3.9/site-packages/tensorflow/python/eager/def_function.py\u001b[0m in \u001b[0;36m_call\u001b[0;34m(self, *args, **kwds)\u001b[0m\n\u001b[1;32m    940\u001b[0m       \u001b[0;31m# In this case we have created variables on the first call, so we run the\u001b[0m\u001b[0;34m\u001b[0m\u001b[0;34m\u001b[0m\u001b[0;34m\u001b[0m\u001b[0m\n\u001b[1;32m    941\u001b[0m       \u001b[0;31m# defunned version which is guaranteed to never create variables.\u001b[0m\u001b[0;34m\u001b[0m\u001b[0;34m\u001b[0m\u001b[0;34m\u001b[0m\u001b[0m\n\u001b[0;32m--> 942\u001b[0;31m       \u001b[0;32mreturn\u001b[0m \u001b[0mself\u001b[0m\u001b[0;34m.\u001b[0m\u001b[0m_stateless_fn\u001b[0m\u001b[0;34m(\u001b[0m\u001b[0;34m*\u001b[0m\u001b[0margs\u001b[0m\u001b[0;34m,\u001b[0m \u001b[0;34m**\u001b[0m\u001b[0mkwds\u001b[0m\u001b[0;34m)\u001b[0m  \u001b[0;31m# pylint: disable=not-callable\u001b[0m\u001b[0;34m\u001b[0m\u001b[0;34m\u001b[0m\u001b[0m\n\u001b[0m\u001b[1;32m    943\u001b[0m     \u001b[0;32melif\u001b[0m \u001b[0mself\u001b[0m\u001b[0;34m.\u001b[0m\u001b[0m_stateful_fn\u001b[0m \u001b[0;32mis\u001b[0m \u001b[0;32mnot\u001b[0m \u001b[0;32mNone\u001b[0m\u001b[0;34m:\u001b[0m\u001b[0;34m\u001b[0m\u001b[0;34m\u001b[0m\u001b[0m\n\u001b[1;32m    944\u001b[0m       \u001b[0;31m# Release the lock early so that multiple threads can perform the call\u001b[0m\u001b[0;34m\u001b[0m\u001b[0;34m\u001b[0m\u001b[0;34m\u001b[0m\u001b[0m\n",
      "\u001b[0;32m/usr/local/lib/python3.9/site-packages/tensorflow/python/eager/function.py\u001b[0m in \u001b[0;36m__call__\u001b[0;34m(self, *args, **kwargs)\u001b[0m\n\u001b[1;32m   3128\u001b[0m       (graph_function,\n\u001b[1;32m   3129\u001b[0m        filtered_flat_args) = self._maybe_define_function(args, kwargs)\n\u001b[0;32m-> 3130\u001b[0;31m     return graph_function._call_flat(\n\u001b[0m\u001b[1;32m   3131\u001b[0m         filtered_flat_args, captured_inputs=graph_function.captured_inputs)  # pylint: disable=protected-access\n\u001b[1;32m   3132\u001b[0m \u001b[0;34m\u001b[0m\u001b[0m\n",
      "\u001b[0;32m/usr/local/lib/python3.9/site-packages/tensorflow/python/eager/function.py\u001b[0m in \u001b[0;36m_call_flat\u001b[0;34m(self, args, captured_inputs, cancellation_manager)\u001b[0m\n\u001b[1;32m   1957\u001b[0m         and executing_eagerly):\n\u001b[1;32m   1958\u001b[0m       \u001b[0;31m# No tape is watching; skip to running the function.\u001b[0m\u001b[0;34m\u001b[0m\u001b[0;34m\u001b[0m\u001b[0;34m\u001b[0m\u001b[0m\n\u001b[0;32m-> 1959\u001b[0;31m       return self._build_call_outputs(self._inference_function.call(\n\u001b[0m\u001b[1;32m   1960\u001b[0m           ctx, args, cancellation_manager=cancellation_manager))\n\u001b[1;32m   1961\u001b[0m     forward_backward = self._select_forward_and_backward_functions(\n",
      "\u001b[0;32m/usr/local/lib/python3.9/site-packages/tensorflow/python/eager/function.py\u001b[0m in \u001b[0;36mcall\u001b[0;34m(self, ctx, args, cancellation_manager)\u001b[0m\n\u001b[1;32m    596\u001b[0m       \u001b[0;32mwith\u001b[0m \u001b[0m_InterpolateFunctionError\u001b[0m\u001b[0;34m(\u001b[0m\u001b[0mself\u001b[0m\u001b[0;34m)\u001b[0m\u001b[0;34m:\u001b[0m\u001b[0;34m\u001b[0m\u001b[0;34m\u001b[0m\u001b[0m\n\u001b[1;32m    597\u001b[0m         \u001b[0;32mif\u001b[0m \u001b[0mcancellation_manager\u001b[0m \u001b[0;32mis\u001b[0m \u001b[0;32mNone\u001b[0m\u001b[0;34m:\u001b[0m\u001b[0;34m\u001b[0m\u001b[0;34m\u001b[0m\u001b[0m\n\u001b[0;32m--> 598\u001b[0;31m           outputs = execute.execute(\n\u001b[0m\u001b[1;32m    599\u001b[0m               \u001b[0mstr\u001b[0m\u001b[0;34m(\u001b[0m\u001b[0mself\u001b[0m\u001b[0;34m.\u001b[0m\u001b[0msignature\u001b[0m\u001b[0;34m.\u001b[0m\u001b[0mname\u001b[0m\u001b[0;34m)\u001b[0m\u001b[0;34m,\u001b[0m\u001b[0;34m\u001b[0m\u001b[0;34m\u001b[0m\u001b[0m\n\u001b[1;32m    600\u001b[0m               \u001b[0mnum_outputs\u001b[0m\u001b[0;34m=\u001b[0m\u001b[0mself\u001b[0m\u001b[0;34m.\u001b[0m\u001b[0m_num_outputs\u001b[0m\u001b[0;34m,\u001b[0m\u001b[0;34m\u001b[0m\u001b[0;34m\u001b[0m\u001b[0m\n",
      "\u001b[0;32m/usr/local/lib/python3.9/site-packages/tensorflow/python/eager/execute.py\u001b[0m in \u001b[0;36mquick_execute\u001b[0;34m(op_name, num_outputs, inputs, attrs, ctx, name)\u001b[0m\n\u001b[1;32m     56\u001b[0m   \u001b[0;32mtry\u001b[0m\u001b[0;34m:\u001b[0m\u001b[0;34m\u001b[0m\u001b[0;34m\u001b[0m\u001b[0m\n\u001b[1;32m     57\u001b[0m     \u001b[0mctx\u001b[0m\u001b[0;34m.\u001b[0m\u001b[0mensure_initialized\u001b[0m\u001b[0;34m(\u001b[0m\u001b[0;34m)\u001b[0m\u001b[0;34m\u001b[0m\u001b[0;34m\u001b[0m\u001b[0m\n\u001b[0;32m---> 58\u001b[0;31m     tensors = pywrap_tfe.TFE_Py_Execute(ctx._handle, device_name, op_name,\n\u001b[0m\u001b[1;32m     59\u001b[0m                                         inputs, attrs, num_outputs)\n\u001b[1;32m     60\u001b[0m   \u001b[0;32mexcept\u001b[0m \u001b[0mcore\u001b[0m\u001b[0;34m.\u001b[0m\u001b[0m_NotOkStatusException\u001b[0m \u001b[0;32mas\u001b[0m \u001b[0me\u001b[0m\u001b[0;34m:\u001b[0m\u001b[0;34m\u001b[0m\u001b[0;34m\u001b[0m\u001b[0m\n",
      "\u001b[0;31mKeyboardInterrupt\u001b[0m: "
     ]
    }
   ],
   "source": [
    "model.compile(loss=joint_loss,\n",
    "              optimizer=adadelta,\n",
    "              metrics=['acc'])\n",
    "history = model.fit(x=[context_train, question_train], y=[index_start_train, index_end_train], batch_size=5, epochs=2, validation_data=([context_val, question_val], [index_start_val, index_end_val]))"
   ]
  },
  {
   "cell_type": "code",
   "execution_count": null,
   "id": "d07a69f8",
   "metadata": {},
   "outputs": [
    {
     "data": {
      "image/png": "[encoded data removed]",
      "text/plain": [
       "<IPython.core.display.Image object>"
      ]
     },
     "execution_count": 34,
     "metadata": {},
     "output_type": "execute_result"
    }
   ],
   "source": [
    "tf.keras.utils.plot_model(model, show_shapes=True)"
   ]
  },
  {
   "cell_type": "markdown",
   "id": "fec4e7ff",
   "metadata": {},
   "source": [
    "# TESTING"
   ]
  },
  {
   "cell_type": "markdown",
   "id": "8211760f",
   "metadata": {},
   "source": [
    "##### Lots of mess and testing"
   ]
  },
  {
   "cell_type": "code",
   "execution_count": 35,
   "id": "c2197068",
   "metadata": {},
   "outputs": [],
   "source": [
    "def create_model_mock(max_tokens, vocab_size, embedding_dimension, q_input, c_input):\n",
    "    '''\n",
    "        Creates keras model for classification.\n",
    "        Inputs: \n",
    "            max_tokens (int): Max length of a text sequence\n",
    "            vocab_size (int): Size of the vocabulary\n",
    "            embedding_dimension (int): The dimension of the embedding vectors\n",
    "    '''   \n",
    "\n",
    "    #-------------------------- Input layer ------------------------------------------------------------\n",
    "    question_input = q_input\n",
    "    context_input = c_input\n",
    "    #-----------------------------------------------------------------------------------------------------\n",
    "    print('q_input:', question_input)\n",
    "    print('c_input:', context_input)\n",
    "    #-------------------------- Word embedding ------------------------------------------------------------\n",
    "    question_embedding = Embedding(vocab_size, embedding_dimension, weights = [embedding_matrix], name='WordEmbedding_question', trainable = False, mask_zero = True)(question_input)\n",
    "    context_embedding = Embedding(vocab_size, embedding_dimension, weights = [embedding_matrix], name='WordEmbedding_context', trainable = False, mask_zero = True)(context_input)\n",
    "    #-----------------------------------------------------------------------------------------------------\n",
    "    print('q_embedding: ', question_embedding)\n",
    "    print('c_embedding: ', context_embedding)\n",
    "\n",
    "    #-------------------------- Encoding/sentence embedding -------------------------------------------------------\n",
    "    # Encode token sequences with bi-directional LSTM and concatenate the series of hidden vectors (done by default)\n",
    "    question_encoding = Bidirectional(LSTM(embedding_dimension, return_sequences=True, name='SentenceEmbedding_claims'))(question_embedding)\n",
    "    context_encoding = Bidirectional(LSTM(embedding_dimension, return_sequences=True, name='SentenceEmbedding_evidence'))(context_embedding)\n",
    "    #-----------------------------------------------------------------------------------------------------\n",
    "    print('q_encoding: ', question_encoding)\n",
    "    print('c_encoding: ', context_encoding)\n",
    "    #-------------------------- Similarity ------------------------------------------------------------\n",
    "    similarity_layer = Similarity()\n",
    "    similarity_matrix = similarity_layer([question_encoding, context_encoding])\n",
    "\n",
    "    print('Similarity: ', similarity_matrix)\n",
    "    #-------------------------- Attention ------------------------------------------------------------\n",
    "    c2q = Context2QuestionAttention()\n",
    "    context2question_attention = c2q([question_encoding, similarity_matrix])\n",
    "\n",
    "    q2c = Question2ContextAttention()\n",
    "    question2context_attention = q2c([context_encoding, similarity_matrix])\n",
    "\n",
    "    print('c2q_attention: ', context2question_attention)\n",
    "    print('question2context_attention: ', question2context_attention)\n",
    "    #-----------------------------------------------------------------------------------------------------\n",
    "\n",
    "    #-------------------------- Megamerge --------------------------------------------------------------\n",
    "    mm = MegaMerge()\n",
    "    mega_merge = mm([context_encoding, context2question_attention, question2context_attention])\n",
    "    print('mega_merge: ', mega_merge)\n",
    "    #-------------------------- Model layer --------------------------------------------------------------\n",
    "\n",
    "    hidden_layer = Bidirectional(LSTM(embedding_dimension, return_sequences=True))(mega_merge)\n",
    "    hidden_layer2 = Bidirectional(LSTM(embedding_dimension, return_sequences=True))(hidden_layer)\n",
    "    print('hidden_layer: \\n', hidden_layer)\n",
    "    print('hidden_layer2: \\n', hidden_layer2)\n",
    "\n",
    "    #-----------------------------------------------------------------------------------------------------\n",
    "\n",
    "    #-------------------------- Output layer -------------------------------------------------------------\n",
    "    #OBS ADDED THIS:\n",
    "    emb = Embedding(vocab_size, embedding_dimension, weights = [embedding_matrix], name='WordEmbedding_context', trainable = False, mask_zero = True)\n",
    "    mask = emb.compute_mask(context_input)\n",
    "    start_out_model = StartOutput()\n",
    "    start_probabilities = start_out_model([hidden_layer, mega_merge, mask])\n",
    "\n",
    "    end_out_model = EndOutput()\n",
    "    end_probabilities = end_out_model([hidden_layer2, mega_merge, mask])\n",
    "\n",
    "    print('start: ', start_probabilities, '\\nend: \\n', end_probabilities)"
   ]
  },
  {
   "cell_type": "code",
   "execution_count": 36,
   "id": "c867dd5c",
   "metadata": {},
   "outputs": [
    {
     "data": {
      "text/plain": [
       "(1, 653)"
      ]
     },
     "execution_count": 36,
     "metadata": {},
     "output_type": "execute_result"
    }
   ],
   "source": [
    "question_train[0:1].shape"
   ]
  },
  {
   "cell_type": "code",
   "execution_count": 37,
   "id": "78a19351",
   "metadata": {},
   "outputs": [
    {
     "name": "stdout",
     "output_type": "stream",
     "text": [
      "q_input: [[  563    32 77732    18    17   190   219  6676  6706     3  8458  8967\n",
      "      0     0     0     0     0     0     0     0     0     0     0     0\n",
      "      0     0     0     0     0     0     0     0     0     0     0     0\n",
      "      0     0     0     0     0     0     0     0     0     0     0     0\n",
      "      0     0     0     0     0     0     0     0     0     0     0     0\n",
      "      0     0     0     0     0     0     0     0     0     0     0     0\n",
      "      0     0     0     0     0     0     0     0     0     0     0     0\n",
      "      0     0     0     0     0     0     0     0     0     0     0     0\n",
      "      0     0     0     0     0     0     0     0     0     0     0     0\n",
      "      0     0     0     0     0     0     0     0     0     0     0     0\n",
      "      0     0     0     0     0     0     0     0     0     0     0     0\n",
      "      0     0     0     0     0     0     0     0     0     0     0     0\n",
      "      0     0     0     0     0     0     0     0     0     0     0     0\n",
      "      0     0     0     0     0     0     0     0     0     0     0     0\n",
      "      0     0     0     0     0     0     0     0     0     0     0     0\n",
      "      0     0     0     0     0     0     0     0     0     0     0     0\n",
      "      0     0     0     0     0     0     0     0     0     0     0     0\n",
      "      0     0     0     0     0     0     0     0     0     0     0     0\n",
      "      0     0     0     0     0     0     0     0     0     0     0     0\n",
      "      0     0     0     0     0     0     0     0     0     0     0     0\n",
      "      0     0     0     0     0     0     0     0     0     0     0     0\n",
      "      0     0     0     0     0     0     0     0     0     0     0     0\n",
      "      0     0     0     0     0     0     0     0     0     0     0     0\n",
      "      0     0     0     0     0     0     0     0     0     0     0     0\n",
      "      0     0     0     0     0     0     0     0     0     0     0     0\n",
      "      0     0     0     0     0     0     0     0     0     0     0     0\n",
      "      0     0     0     0     0     0     0     0     0     0     0     0\n",
      "      0     0     0     0     0     0     0     0     0     0     0     0\n",
      "      0     0     0     0     0     0     0     0     0     0     0     0\n",
      "      0     0     0     0     0     0     0     0     0     0     0     0\n",
      "      0     0     0     0     0     0     0     0     0     0     0     0\n",
      "      0     0     0     0     0     0     0     0     0     0     0     0\n",
      "      0     0     0     0     0     0     0     0     0     0     0     0\n",
      "      0     0     0     0     0     0     0     0     0     0     0     0\n",
      "      0     0     0     0     0     0     0     0     0     0     0     0\n",
      "      0     0     0     0     0     0     0     0     0     0     0     0\n",
      "      0     0     0     0     0     0     0     0     0     0     0     0\n",
      "      0     0     0     0     0     0     0     0     0     0     0     0\n",
      "      0     0     0     0     0     0     0     0     0     0     0     0\n",
      "      0     0     0     0     0     0     0     0     0     0     0     0\n",
      "      0     0     0     0     0     0     0     0     0     0     0     0\n",
      "      0     0     0     0     0     0     0     0     0     0     0     0\n",
      "      0     0     0     0     0     0     0     0     0     0     0     0\n",
      "      0     0     0     0     0     0     0     0     0     0     0     0\n",
      "      0     0     0     0     0     0     0     0     0     0     0     0\n",
      "      0     0     0     0     0     0     0     0     0     0     0     0\n",
      "      0     0     0     0     0     0     0     0     0     0     0     0\n",
      "      0     0     0     0     0     0     0     0     0     0     0     0\n",
      "      0     0     0     0     0     0     0     0     0     0     0     0\n",
      "      0     0     0     0     0     0     0     0     0     0     0     0\n",
      "      0     0     0     0     0     0     0     0     0     0     0     0\n",
      "      0     0     0     0     0     0     0     0     0     0     0     0\n",
      "      0     0     0     0     0     0     0     0     0     0     0     0\n",
      "      0     0     0     0     0     0     0     0     0     0     0     0\n",
      "      0     0     0     0     0]]\n",
      "c_input: [[    2  3959  8650  4168     3  8458  8967     8  1168    22     8   343\n",
      "   1542    14 14727 26304 29092  8415     3  3809 17652  2439    14    12\n",
      "    141   297     3 18009     4 11547  1312  1144     6 37279  2700    61\n",
      "     75     5   983    25    53  5592     3  2700    19   166    33    25\n",
      "  16291    16   121     4  2778    14  8458  8967   166   722  2039    32\n",
      "   4969    90 23820   166    33    28   919     6    27  4887   303  1661\n",
      "      4 18403   490     5    27   327  8458 37280  4168   912    25   661\n",
      "      9    32  1206   399     5 37281     2  3917     3  6457    32   261\n",
      "   1022  2527    41  1219    27  2456 23081  4168     2   490  7981   167\n",
      "   3951  3538     4  3893   220  2977    59  3538  8774     4  4635     0\n",
      "      0     0     0     0     0     0     0     0     0     0     0     0\n",
      "      0     0     0     0     0     0     0     0     0     0     0     0\n",
      "      0     0     0     0     0     0     0     0     0     0     0     0\n",
      "      0     0     0     0     0     0     0     0     0     0     0     0\n",
      "      0     0     0     0     0     0     0     0     0     0     0     0\n",
      "      0     0     0     0     0     0     0     0     0     0     0     0\n",
      "      0     0     0     0     0     0     0     0     0     0     0     0\n",
      "      0     0     0     0     0     0     0     0     0     0     0     0\n",
      "      0     0     0     0     0     0     0     0     0     0     0     0\n",
      "      0     0     0     0     0     0     0     0     0     0     0     0\n",
      "      0     0     0     0     0     0     0     0     0     0     0     0\n",
      "      0     0     0     0     0     0     0     0     0     0     0     0\n",
      "      0     0     0     0     0     0     0     0     0     0     0     0\n",
      "      0     0     0     0     0     0     0     0     0     0     0     0\n",
      "      0     0     0     0     0     0     0     0     0     0     0     0\n",
      "      0     0     0     0     0     0     0     0     0     0     0     0\n",
      "      0     0     0     0     0     0     0     0     0     0     0     0\n",
      "      0     0     0     0     0     0     0     0     0     0     0     0\n",
      "      0     0     0     0     0     0     0     0     0     0     0     0\n",
      "      0     0     0     0     0     0     0     0     0     0     0     0\n",
      "      0     0     0     0     0     0     0     0     0     0     0     0\n",
      "      0     0     0     0     0     0     0     0     0     0     0     0\n",
      "      0     0     0     0     0     0     0     0     0     0     0     0\n",
      "      0     0     0     0     0     0     0     0     0     0     0     0\n",
      "      0     0     0     0     0     0     0     0     0     0     0     0\n",
      "      0     0     0     0     0     0     0     0     0     0     0     0\n",
      "      0     0     0     0     0     0     0     0     0     0     0     0\n",
      "      0     0     0     0     0     0     0     0     0     0     0     0\n",
      "      0     0     0     0     0     0     0     0     0     0     0     0\n",
      "      0     0     0     0     0     0     0     0     0     0     0     0\n",
      "      0     0     0     0     0     0     0     0     0     0     0     0\n",
      "      0     0     0     0     0     0     0     0     0     0     0     0\n",
      "      0     0     0     0     0     0     0     0     0     0     0     0\n",
      "      0     0     0     0     0     0     0     0     0     0     0     0\n",
      "      0     0     0     0     0     0     0     0     0     0     0     0\n",
      "      0     0     0     0     0     0     0     0     0     0     0     0\n",
      "      0     0     0     0     0     0     0     0     0     0     0     0\n",
      "      0     0     0     0     0     0     0     0     0     0     0     0\n",
      "      0     0     0     0     0     0     0     0     0     0     0     0\n",
      "      0     0     0     0     0     0     0     0     0     0     0     0\n",
      "      0     0     0     0     0     0     0     0     0     0     0     0\n",
      "      0     0     0     0     0     0     0     0     0     0     0     0\n",
      "      0     0     0     0     0     0     0     0     0     0     0     0\n",
      "      0     0     0     0     0     0     0     0     0     0     0     0\n",
      "      0     0     0     0     0]]\n",
      "q_embedding:  tf.Tensor(\n",
      "[[[-0.032352  0.03639  -0.15678  ...  0.6786   -0.069295 -0.56524 ]\n",
      "  [ 0.76719   0.1239   -0.11119  ...  0.4893   -0.26152  -0.46886 ]\n",
      "  [-0.10571  -0.046627 -1.0089   ...  0.773     0.46501  -0.47438 ]\n",
      "  ...\n",
      "  [ 0.        0.        0.       ...  0.        0.        0.      ]\n",
      "  [ 0.        0.        0.       ...  0.        0.        0.      ]\n",
      "  [ 0.        0.        0.       ...  0.        0.        0.      ]]], shape=(1, 653, 50), dtype=float32)\n",
      "c_embedding:  tf.Tensor(\n",
      "[[[ 0.418     0.24968  -0.41242  ... -0.18411  -0.11514  -0.78581 ]\n",
      "  [-0.20987   0.77961  -0.15211  ...  0.318     0.19747   0.25593 ]\n",
      "  [-0.044643  0.42242  -1.1624   ...  1.669    -0.14418   0.51551 ]\n",
      "  ...\n",
      "  [ 0.        0.        0.       ...  0.        0.        0.      ]\n",
      "  [ 0.        0.        0.       ...  0.        0.        0.      ]\n",
      "  [ 0.        0.        0.       ...  0.        0.        0.      ]]], shape=(1, 653, 50), dtype=float32)\n",
      "q_encoding:  tf.Tensor(\n",
      "[[[ 0.02245523 -0.10346784  0.07575195 ...  0.01847461  0.04008212\n",
      "   -0.17433256]\n",
      "  [-0.00068105 -0.18620554  0.12339043 ...  0.02466279  0.06988444\n",
      "   -0.11495482]\n",
      "  [-0.03914595 -0.19298919  0.07042539 ...  0.02245469  0.12185701\n",
      "   -0.08709616]\n",
      "  ...\n",
      "  [ 0.          0.          0.         ...  0.          0.\n",
      "    0.        ]\n",
      "  [ 0.          0.          0.         ...  0.          0.\n",
      "    0.        ]\n",
      "  [ 0.          0.          0.         ...  0.          0.\n",
      "    0.        ]]], shape=(1, 653, 100), dtype=float32)\n",
      "c_encoding:  tf.Tensor(\n",
      "[[[ 0.02778198 -0.07187387 -0.03116407 ... -0.15321489  0.06556244\n",
      "    0.309359  ]\n",
      "  [ 0.06605409 -0.08432021 -0.02462003 ... -0.2040591   0.15237428\n",
      "    0.28088215]\n",
      "  [ 0.03674694 -0.10148953 -0.07064249 ... -0.22946948  0.17690057\n",
      "    0.29013318]\n",
      "  ...\n",
      "  [ 0.          0.          0.         ...  0.          0.\n",
      "    0.        ]\n",
      "  [ 0.          0.          0.         ...  0.          0.\n",
      "    0.        ]\n",
      "  [ 0.          0.          0.         ...  0.          0.\n",
      "    0.        ]]], shape=(1, 653, 100), dtype=float32)\n",
      "Similarity:  tf.Tensor(\n",
      "[[[-0.05743704 -0.05548846 -0.07308962 ... -0.06915699 -0.06915699\n",
      "   -0.06915699]\n",
      "  [-0.08620766 -0.08608422 -0.10316074 ... -0.09994476 -0.09994476\n",
      "   -0.09994476]\n",
      "  [-0.03682619 -0.0361952  -0.05299585 ... -0.05091003 -0.05091003\n",
      "   -0.05091003]\n",
      "  ...\n",
      "  [ 0.01752166  0.01294538 -0.00255819 ...  0.          0.\n",
      "    0.        ]\n",
      "  [ 0.01752166  0.01294538 -0.00255819 ...  0.          0.\n",
      "    0.        ]\n",
      "  [ 0.01752166  0.01294538 -0.00255819 ...  0.          0.\n",
      "    0.        ]]], shape=(1, 653, 653), dtype=float32)\n",
      "sim_matrix tf.Tensor(\n",
      "[[[-0.05743704 -0.05548846 -0.07308962 ... -0.06915699 -0.06915699\n",
      "   -0.06915699]\n",
      "  [-0.08620766 -0.08608422 -0.10316074 ... -0.09994476 -0.09994476\n",
      "   -0.09994476]\n",
      "  [-0.03682619 -0.0361952  -0.05299585 ... -0.05091003 -0.05091003\n",
      "   -0.05091003]\n",
      "  ...\n",
      "  [ 0.01752166  0.01294538 -0.00255819 ...  0.          0.\n",
      "    0.        ]\n",
      "  [ 0.01752166  0.01294538 -0.00255819 ...  0.          0.\n",
      "    0.        ]\n",
      "  [ 0.01752166  0.01294538 -0.00255819 ...  0.          0.\n",
      "    0.        ]]], shape=(1, 653, 653), dtype=float32)\n",
      "max_sim_matrix tf.Tensor(\n",
      "[[-0.02867211 -0.05825134 -0.01488696 -0.05919687 -0.06405163 -0.05829867\n",
      "  -0.04693326 -0.0119992  -0.0031446  -0.04355515  0.03384078  0.04503354\n",
      "   0.0416671   0.0416671   0.0416671   0.0416671   0.0416671   0.0416671\n",
      "   0.0416671   0.0416671   0.0416671   0.0416671   0.0416671   0.0416671\n",
      "   0.0416671   0.0416671   0.0416671   0.0416671   0.0416671   0.0416671\n",
      "   0.0416671   0.0416671   0.0416671   0.0416671   0.0416671   0.0416671\n",
      "   0.0416671   0.0416671   0.0416671   0.0416671   0.0416671   0.0416671\n",
      "   0.0416671   0.0416671   0.0416671   0.0416671   0.0416671   0.0416671\n",
      "   0.0416671   0.0416671   0.0416671   0.0416671   0.0416671   0.0416671\n",
      "   0.0416671   0.0416671   0.0416671   0.0416671   0.0416671   0.0416671\n",
      "   0.0416671   0.0416671   0.0416671   0.0416671   0.0416671   0.0416671\n",
      "   0.0416671   0.0416671   0.0416671   0.0416671   0.0416671   0.0416671\n",
      "   0.0416671   0.0416671   0.0416671   0.0416671   0.0416671   0.0416671\n",
      "   0.0416671   0.0416671   0.0416671   0.0416671   0.0416671   0.0416671\n",
      "   0.0416671   0.0416671   0.0416671   0.0416671   0.0416671   0.0416671\n",
      "   0.0416671   0.0416671   0.0416671   0.0416671   0.0416671   0.0416671\n",
      "   0.0416671   0.0416671   0.0416671   0.0416671   0.0416671   0.0416671\n",
      "   0.0416671   0.0416671   0.0416671   0.0416671   0.0416671   0.0416671\n",
      "   0.0416671   0.0416671   0.0416671   0.0416671   0.0416671   0.0416671\n",
      "   0.0416671   0.0416671   0.0416671   0.0416671   0.0416671   0.0416671\n",
      "   0.0416671   0.0416671   0.0416671   0.0416671   0.0416671   0.0416671\n",
      "   0.0416671   0.0416671   0.0416671   0.0416671   0.0416671   0.0416671\n",
      "   0.0416671   0.0416671   0.0416671   0.0416671   0.0416671   0.0416671\n",
      "   0.0416671   0.0416671   0.0416671   0.0416671   0.0416671   0.0416671\n",
      "   0.0416671   0.0416671   0.0416671   0.0416671   0.0416671   0.0416671\n",
      "   0.0416671   0.0416671   0.0416671   0.0416671   0.0416671   0.0416671\n",
      "   0.0416671   0.0416671   0.0416671   0.0416671   0.0416671   0.0416671\n",
      "   0.0416671   0.0416671   0.0416671   0.0416671   0.0416671   0.0416671\n",
      "   0.0416671   0.0416671   0.0416671   0.0416671   0.0416671   0.0416671\n",
      "   0.0416671   0.0416671   0.0416671   0.0416671   0.0416671   0.0416671\n",
      "   0.0416671   0.0416671   0.0416671   0.0416671   0.0416671   0.0416671\n",
      "   0.0416671   0.0416671   0.0416671   0.0416671   0.0416671   0.0416671\n",
      "   0.0416671   0.0416671   0.0416671   0.0416671   0.0416671   0.0416671\n",
      "   0.0416671   0.0416671   0.0416671   0.0416671   0.0416671   0.0416671\n",
      "   0.0416671   0.0416671   0.0416671   0.0416671   0.0416671   0.0416671\n",
      "   0.0416671   0.0416671   0.0416671   0.0416671   0.0416671   0.0416671\n",
      "   0.0416671   0.0416671   0.0416671   0.0416671   0.0416671   0.0416671\n",
      "   0.0416671   0.0416671   0.0416671   0.0416671   0.0416671   0.0416671\n",
      "   0.0416671   0.0416671   0.0416671   0.0416671   0.0416671   0.0416671\n",
      "   0.0416671   0.0416671   0.0416671   0.0416671   0.0416671   0.0416671\n",
      "   0.0416671   0.0416671   0.0416671   0.0416671   0.0416671   0.0416671\n",
      "   0.0416671   0.0416671   0.0416671   0.0416671   0.0416671   0.0416671\n",
      "   0.0416671   0.0416671   0.0416671   0.0416671   0.0416671   0.0416671\n",
      "   0.0416671   0.0416671   0.0416671   0.0416671   0.0416671   0.0416671\n",
      "   0.0416671   0.0416671   0.0416671   0.0416671   0.0416671   0.0416671\n",
      "   0.0416671   0.0416671   0.0416671   0.0416671   0.0416671   0.0416671\n",
      "   0.0416671   0.0416671   0.0416671   0.0416671   0.0416671   0.0416671\n",
      "   0.0416671   0.0416671   0.0416671   0.0416671   0.0416671   0.0416671\n",
      "   0.0416671   0.0416671   0.0416671   0.0416671   0.0416671   0.0416671\n",
      "   0.0416671   0.0416671   0.0416671   0.0416671   0.0416671   0.0416671\n",
      "   0.0416671   0.0416671   0.0416671   0.0416671   0.0416671   0.0416671\n",
      "   0.0416671   0.0416671   0.0416671   0.0416671   0.0416671   0.0416671\n",
      "   0.0416671   0.0416671   0.0416671   0.0416671   0.0416671   0.0416671\n",
      "   0.0416671   0.0416671   0.0416671   0.0416671   0.0416671   0.0416671\n",
      "   0.0416671   0.0416671   0.0416671   0.0416671   0.0416671   0.0416671\n",
      "   0.0416671   0.0416671   0.0416671   0.0416671   0.0416671   0.0416671\n",
      "   0.0416671   0.0416671   0.0416671   0.0416671   0.0416671   0.0416671\n",
      "   0.0416671   0.0416671   0.0416671   0.0416671   0.0416671   0.0416671\n",
      "   0.0416671   0.0416671   0.0416671   0.0416671   0.0416671   0.0416671\n",
      "   0.0416671   0.0416671   0.0416671   0.0416671   0.0416671   0.0416671\n",
      "   0.0416671   0.0416671   0.0416671   0.0416671   0.0416671   0.0416671\n",
      "   0.0416671   0.0416671   0.0416671   0.0416671   0.0416671   0.0416671\n",
      "   0.0416671   0.0416671   0.0416671   0.0416671   0.0416671   0.0416671\n",
      "   0.0416671   0.0416671   0.0416671   0.0416671   0.0416671   0.0416671\n",
      "   0.0416671   0.0416671   0.0416671   0.0416671   0.0416671   0.0416671\n",
      "   0.0416671   0.0416671   0.0416671   0.0416671   0.0416671   0.0416671\n",
      "   0.0416671   0.0416671   0.0416671   0.0416671   0.0416671   0.0416671\n",
      "   0.0416671   0.0416671   0.0416671   0.0416671   0.0416671   0.0416671\n",
      "   0.0416671   0.0416671   0.0416671   0.0416671   0.0416671   0.0416671\n",
      "   0.0416671   0.0416671   0.0416671   0.0416671   0.0416671   0.0416671\n",
      "   0.0416671   0.0416671   0.0416671   0.0416671   0.0416671   0.0416671\n",
      "   0.0416671   0.0416671   0.0416671   0.0416671   0.0416671   0.0416671\n",
      "   0.0416671   0.0416671   0.0416671   0.0416671   0.0416671   0.0416671\n",
      "   0.0416671   0.0416671   0.0416671   0.0416671   0.0416671   0.0416671\n",
      "   0.0416671   0.0416671   0.0416671   0.0416671   0.0416671   0.0416671\n",
      "   0.0416671   0.0416671   0.0416671   0.0416671   0.0416671   0.0416671\n",
      "   0.0416671   0.0416671   0.0416671   0.0416671   0.0416671   0.0416671\n",
      "   0.0416671   0.0416671   0.0416671   0.0416671   0.0416671   0.0416671\n",
      "   0.0416671   0.0416671   0.0416671   0.0416671   0.0416671   0.0416671\n",
      "   0.0416671   0.0416671   0.0416671   0.0416671   0.0416671   0.0416671\n",
      "   0.0416671   0.0416671   0.0416671   0.0416671   0.0416671   0.0416671\n",
      "   0.0416671   0.0416671   0.0416671   0.0416671   0.0416671   0.0416671\n",
      "   0.0416671   0.0416671   0.0416671   0.0416671   0.0416671   0.0416671\n",
      "   0.0416671   0.0416671   0.0416671   0.0416671   0.0416671   0.0416671\n",
      "   0.0416671   0.0416671   0.0416671   0.0416671   0.0416671   0.0416671\n",
      "   0.0416671   0.0416671   0.0416671   0.0416671   0.0416671   0.0416671\n",
      "   0.0416671   0.0416671   0.0416671   0.0416671   0.0416671   0.0416671\n",
      "   0.0416671   0.0416671   0.0416671   0.0416671   0.0416671   0.0416671\n",
      "   0.0416671   0.0416671   0.0416671   0.0416671   0.0416671   0.0416671\n",
      "   0.0416671   0.0416671   0.0416671   0.0416671   0.0416671   0.0416671\n",
      "   0.0416671   0.0416671   0.0416671   0.0416671   0.0416671   0.0416671\n",
      "   0.0416671   0.0416671   0.0416671   0.0416671   0.0416671   0.0416671\n",
      "   0.0416671   0.0416671   0.0416671   0.0416671   0.0416671   0.0416671\n",
      "   0.0416671   0.0416671   0.0416671   0.0416671   0.0416671   0.0416671\n",
      "   0.0416671   0.0416671   0.0416671   0.0416671   0.0416671   0.0416671\n",
      "   0.0416671   0.0416671   0.0416671   0.0416671   0.0416671   0.0416671\n",
      "   0.0416671   0.0416671   0.0416671   0.0416671   0.0416671   0.0416671\n",
      "   0.0416671   0.0416671   0.0416671   0.0416671   0.0416671   0.0416671\n",
      "   0.0416671   0.0416671   0.0416671   0.0416671   0.0416671   0.0416671\n",
      "   0.0416671   0.0416671   0.0416671   0.0416671   0.0416671   0.0416671\n",
      "   0.0416671   0.0416671   0.0416671   0.0416671   0.0416671   0.0416671\n",
      "   0.0416671   0.0416671   0.0416671   0.0416671   0.0416671   0.0416671\n",
      "   0.0416671   0.0416671   0.0416671   0.0416671   0.0416671   0.0416671\n",
      "   0.0416671   0.0416671   0.0416671   0.0416671   0.0416671   0.0416671\n",
      "   0.0416671   0.0416671   0.0416671   0.0416671   0.0416671   0.0416671\n",
      "   0.0416671   0.0416671   0.0416671   0.0416671   0.0416671   0.0416671\n",
      "   0.0416671   0.0416671   0.0416671   0.0416671   0.0416671   0.0416671\n",
      "   0.0416671   0.0416671   0.0416671   0.0416671   0.0416671   0.0416671\n",
      "   0.0416671   0.0416671   0.0416671   0.0416671   0.0416671 ]], shape=(1, 653), dtype=float32)\n",
      "c2q_attention:  tf.Tensor(\n",
      "[[[ 0.00114473 -0.00297705  0.00426653 ... -0.0015448   0.0011699\n",
      "   -0.00071121]\n",
      "  [ 0.00114448 -0.00297586  0.00426565 ... -0.00154125  0.00117089\n",
      "   -0.00071556]\n",
      "  [ 0.00114514 -0.00297817  0.00426879 ... -0.00154179  0.00117219\n",
      "   -0.00071556]\n",
      "  ...\n",
      "  [ 0.00643235 -0.01668417  0.02393544 ... -0.00868993  0.0065472\n",
      "   -0.00394567]\n",
      "  [ 0.00643235 -0.01668417  0.02393544 ... -0.00868993  0.0065472\n",
      "   -0.00394567]\n",
      "  [ 0.00643235 -0.01668417  0.02393544 ... -0.00868993  0.0065472\n",
      "   -0.00394567]]], shape=(1, 653, 100), dtype=float32)\n",
      "question2context_attention:  tf.Tensor(\n",
      "[[[ 3.8810160e-02 -2.6400106e-02  6.3121246e-05 ... -3.4847762e-02\n",
      "    2.8202990e-02  5.5308498e-02]\n",
      "  [ 3.8810160e-02 -2.6400106e-02  6.3121246e-05 ... -3.4847762e-02\n",
      "    2.8202990e-02  5.5308498e-02]\n",
      "  [ 3.8810160e-02 -2.6400106e-02  6.3121246e-05 ... -3.4847762e-02\n",
      "    2.8202990e-02  5.5308498e-02]\n",
      "  ...\n",
      "  [ 3.8810160e-02 -2.6400106e-02  6.3121246e-05 ... -3.4847762e-02\n",
      "    2.8202990e-02  5.5308498e-02]\n",
      "  [ 3.8810160e-02 -2.6400106e-02  6.3121246e-05 ... -3.4847762e-02\n",
      "    2.8202990e-02  5.5308498e-02]\n",
      "  [ 3.8810160e-02 -2.6400106e-02  6.3121246e-05 ... -3.4847762e-02\n",
      "    2.8202990e-02  5.5308498e-02]]], shape=(1, 653, 100), dtype=float32)\n",
      "mega_merge:  tf.Tensor(\n",
      "[[[ 0.02778198 -0.07187387 -0.03116407 ...  0.0053392   0.00184906\n",
      "    0.01711018]\n",
      "  [ 0.06605409 -0.08432021 -0.02462003 ...  0.007111    0.00429741\n",
      "    0.01553517]\n",
      "  [ 0.03674694 -0.10148953 -0.07064249 ...  0.0079965   0.00498912\n",
      "    0.01604683]\n",
      "  ...\n",
      "  [ 0.          0.          0.         ... -0.          0.\n",
      "    0.        ]\n",
      "  [ 0.          0.          0.         ... -0.          0.\n",
      "    0.        ]\n",
      "  [ 0.          0.          0.         ... -0.          0.\n",
      "    0.        ]]], shape=(1, 653, 400), dtype=float32)\n",
      "hidden_layer: \n",
      " tf.Tensor(\n",
      "[[[ 0.01684769 -0.02217907  0.04791229 ...  0.12206847 -0.00239236\n",
      "    0.04058499]\n",
      "  [ 0.02897553 -0.01831362  0.08319928 ...  0.11470601 -0.01559559\n",
      "    0.05964777]\n",
      "  [ 0.04114119 -0.01326278  0.11130168 ...  0.13012531 -0.02712052\n",
      "    0.05331891]\n",
      "  ...\n",
      "  [-0.00456233 -0.00325694 -0.00545201 ...  0.00488384  0.00239741\n",
      "   -0.00116099]\n",
      "  [-0.00456233 -0.00325694 -0.00545201 ...  0.00382121  0.00214885\n",
      "   -0.00083658]\n",
      "  [-0.00456233 -0.00325694 -0.00545201 ...  0.00225003  0.00143601\n",
      "   -0.00045991]]], shape=(1, 653, 100), dtype=float32)\n",
      "hidden_layer2: \n",
      " tf.Tensor(\n",
      "[[[ 3.9097399e-02  7.7472697e-03 -4.9442984e-03 ...  5.5233355e-05\n",
      "   -2.3513289e-02 -4.5833047e-02]\n",
      "  [ 6.8420202e-02  1.5589437e-02 -5.3377221e-03 ...  1.1847962e-02\n",
      "   -2.4167737e-02 -5.1895078e-02]\n",
      "  [ 8.8498570e-02  2.3686120e-02 -3.0930100e-03 ...  2.2922188e-02\n",
      "   -2.7608631e-02 -5.6097843e-02]\n",
      "  ...\n",
      "  [ 4.9926955e-03  5.1411719e-04  7.7071427e-03 ... -7.2603225e-04\n",
      "   -1.6498686e-03  1.4511303e-03]\n",
      "  [ 4.7371043e-03 -4.8738366e-05  7.6277172e-03 ... -1.7196308e-04\n",
      "   -9.8504708e-04  6.8308873e-04]\n",
      "  [ 4.4452590e-03 -7.9290749e-04  7.6082400e-03 ...  1.4936246e-04\n",
      "   -4.0114304e-04  1.5514277e-04]]], shape=(1, 653, 100), dtype=float32)\n",
      "start, before softmax: tf.Tensor(\n",
      "[-0.03612779 -0.03339026 -0.04678967 -0.039212   -0.0694959  -0.05137534\n",
      " -0.00795772  0.02310378  0.01885708 -0.00915571 -0.00937531 -0.02546378\n",
      " -0.04414228 -0.0688902  -0.08013569 -0.07388394 -0.05214839 -0.03541332\n",
      " -0.02558271  0.00052658 -0.05324675 -0.04994129 -0.06853133 -0.08143548\n",
      " -0.10306337 -0.09825934 -0.0754494  -0.05238601 -0.02517262 -0.03052557\n",
      " -0.04414168 -0.04021247 -0.05182135], shape=(33,), dtype=float32)\n",
      "mask tf.Tensor(\n",
      "[[ True  True  True  True  True  True  True  True  True  True  True  True\n",
      "   True  True  True  True  True  True  True  True  True  True  True  True\n",
      "   True  True  True  True  True  True  True  True  True  True  True  True\n",
      "   True  True  True  True  True  True  True  True  True  True  True  True\n",
      "   True  True  True  True  True  True  True  True  True  True  True  True\n",
      "   True  True  True  True  True  True  True  True  True  True  True  True\n",
      "   True  True  True  True  True  True  True  True  True  True  True  True\n",
      "   True  True  True  True  True  True  True  True  True  True  True  True\n",
      "   True  True  True  True  True  True  True  True  True  True  True  True\n",
      "   True  True  True  True  True  True  True  True  True  True  True False\n",
      "  False False False False False False False False False False False False\n",
      "  False False False False False False False False False False False False\n",
      "  False False False False False False False False False False False False\n",
      "  False False False False False False False False False False False False\n",
      "  False False False False False False False False False False False False\n",
      "  False False False False False False False False False False False False\n",
      "  False False False False False False False False False False False False\n",
      "  False False False False False False False False False False False False\n",
      "  False False False False False False False False False False False False\n",
      "  False False False False False False False False False False False False\n",
      "  False False False False False False False False False False False False\n",
      "  False False False False False False False False False False False False\n",
      "  False False False False False False False False False False False False\n",
      "  False False False False False False False False False False False False\n",
      "  False False False False False False False False False False False False\n",
      "  False False False False False False False False False False False False\n",
      "  False False False False False False False False False False False False\n",
      "  False False False False False False False False False False False False\n",
      "  False False False False False False False False False False False False\n",
      "  False False False False False False False False False False False False\n",
      "  False False False False False False False False False False False False\n",
      "  False False False False False False False False False False False False\n",
      "  False False False False False False False False False False False False\n",
      "  False False False False False False False False False False False False\n",
      "  False False False False False False False False False False False False\n",
      "  False False False False False False False False False False False False\n",
      "  False False False False False False False False False False False False\n",
      "  False False False False False False False False False False False False\n",
      "  False False False False False False False False False False False False\n",
      "  False False False False False False False False False False False False\n",
      "  False False False False False False False False False False False False\n",
      "  False False False False False False False False False False False False\n",
      "  False False False False False False False False False False False False\n",
      "  False False False False False False False False False False False False\n",
      "  False False False False False False False False False False False False\n",
      "  False False False False False False False False False False False False\n",
      "  False False False False False False False False False False False False\n",
      "  False False False False False False False False False False False False\n",
      "  False False False False False False False False False False False False\n",
      "  False False False False False False False False False False False False\n",
      "  False False False False False False False False False False False False\n",
      "  False False False False False False False False False False False False\n",
      "  False False False False False False False False False False False False\n",
      "  False False False False False False False False False False False False\n",
      "  False False False False False]], shape=(1, 653), dtype=bool)\n",
      "shape mask (1, 653)\n",
      "start:  tf.Tensor(\n",
      "[[0.00844583 0.00846898 0.00835626 0.00841982 0.00816866 0.00831803\n",
      "  0.00868713 0.0089612  0.00892323 0.00867673 0.00867483 0.00853638\n",
      "  0.00837841 0.00817361 0.00808221 0.00813289 0.0083116  0.00845187\n",
      "  0.00853536 0.00876115 0.00830248 0.00832997 0.00817654 0.00807171\n",
      "  0.00789901 0.00793705 0.00812017 0.00830963 0.00853887 0.00849328\n",
      "  0.00837842 0.0084114  0.00831432 0.00841639 0.00876615 0.00862094\n",
      "  0.00834822 0.00849494 0.00850591 0.00832954 0.00820833 0.00859687\n",
      "  0.00853245 0.00880978 0.00846796 0.00821976 0.00823963 0.00817483\n",
      "  0.0083541  0.00836087 0.0081065  0.00811363 0.00800785 0.0077639\n",
      "  0.00789266 0.00823351 0.00824244 0.00825945 0.00814288 0.00796092\n",
      "  0.00784428 0.00791083 0.00799398 0.00794342 0.00807223 0.0080068\n",
      "  0.00811032 0.00806148 0.00831761 0.00835536 0.00832164 0.00849586\n",
      "  0.00851383 0.0085063  0.0087361  0.00837736 0.0083386  0.00816383\n",
      "  0.00835428 0.00869704 0.00877791 0.00848336 0.00846697 0.00878323\n",
      "  0.00848521 0.00816656 0.00805628 0.00817346 0.00804964 0.00822609\n",
      "  0.0081822  0.00815759 0.0083187  0.00844312 0.00829892 0.00825285\n",
      "  0.00825423 0.00816443 0.00819172 0.0083085  0.00851304 0.00865565\n",
      "  0.00872356 0.00885178 0.00845947 0.0090239  0.00894059 0.0088643\n",
      "  0.0089666  0.00898086 0.0087877  0.00868226 0.00880096 0.00874547\n",
      "  0.00856168 0.00880431 0.00925587 0.00892929 0.00917313 0.\n",
      "  0.         0.         0.         0.         0.         0.\n",
      "  0.         0.         0.         0.         0.         0.\n",
      "  0.         0.         0.         0.         0.         0.\n",
      "  0.         0.         0.         0.         0.         0.\n",
      "  0.         0.         0.         0.         0.         0.\n",
      "  0.         0.         0.         0.         0.         0.\n",
      "  0.         0.         0.         0.         0.         0.\n",
      "  0.         0.         0.         0.         0.         0.\n",
      "  0.         0.         0.         0.         0.         0.\n",
      "  0.         0.         0.         0.         0.         0.\n",
      "  0.         0.         0.         0.         0.         0.\n",
      "  0.         0.         0.         0.         0.         0.\n",
      "  0.         0.         0.         0.         0.         0.\n",
      "  0.         0.         0.         0.         0.         0.\n",
      "  0.         0.         0.         0.         0.         0.\n",
      "  0.         0.         0.         0.         0.         0.\n",
      "  0.         0.         0.         0.         0.         0.\n",
      "  0.         0.         0.         0.         0.         0.\n",
      "  0.         0.         0.         0.         0.         0.\n",
      "  0.         0.         0.         0.         0.         0.\n",
      "  0.         0.         0.         0.         0.         0.\n",
      "  0.         0.         0.         0.         0.         0.\n",
      "  0.         0.         0.         0.         0.         0.\n",
      "  0.         0.         0.         0.         0.         0.\n",
      "  0.         0.         0.         0.         0.         0.\n",
      "  0.         0.         0.         0.         0.         0.\n",
      "  0.         0.         0.         0.         0.         0.\n",
      "  0.         0.         0.         0.         0.         0.\n",
      "  0.         0.         0.         0.         0.         0.\n",
      "  0.         0.         0.         0.         0.         0.\n",
      "  0.         0.         0.         0.         0.         0.\n",
      "  0.         0.         0.         0.         0.         0.\n",
      "  0.         0.         0.         0.         0.         0.\n",
      "  0.         0.         0.         0.         0.         0.\n",
      "  0.         0.         0.         0.         0.         0.\n",
      "  0.         0.         0.         0.         0.         0.\n",
      "  0.         0.         0.         0.         0.         0.\n",
      "  0.         0.         0.         0.         0.         0.\n",
      "  0.         0.         0.         0.         0.         0.\n",
      "  0.         0.         0.         0.         0.         0.\n",
      "  0.         0.         0.         0.         0.         0.\n",
      "  0.         0.         0.         0.         0.         0.\n",
      "  0.         0.         0.         0.         0.         0.\n",
      "  0.         0.         0.         0.         0.         0.\n",
      "  0.         0.         0.         0.         0.         0.\n",
      "  0.         0.         0.         0.         0.         0.\n",
      "  0.         0.         0.         0.         0.         0.\n",
      "  0.         0.         0.         0.         0.         0.\n",
      "  0.         0.         0.         0.         0.         0.\n",
      "  0.         0.         0.         0.         0.         0.\n",
      "  0.         0.         0.         0.         0.         0.\n",
      "  0.         0.         0.         0.         0.         0.\n",
      "  0.         0.         0.         0.         0.         0.\n",
      "  0.         0.         0.         0.         0.         0.\n",
      "  0.         0.         0.         0.         0.         0.\n",
      "  0.         0.         0.         0.         0.         0.\n",
      "  0.         0.         0.         0.         0.         0.\n",
      "  0.         0.         0.         0.         0.         0.\n",
      "  0.         0.         0.         0.         0.         0.\n",
      "  0.         0.         0.         0.         0.         0.\n",
      "  0.         0.         0.         0.         0.         0.\n",
      "  0.         0.         0.         0.         0.         0.\n",
      "  0.         0.         0.         0.         0.         0.\n",
      "  0.         0.         0.         0.         0.         0.\n",
      "  0.         0.         0.         0.         0.         0.\n",
      "  0.         0.         0.         0.         0.         0.\n",
      "  0.         0.         0.         0.         0.         0.\n",
      "  0.         0.         0.         0.         0.         0.\n",
      "  0.         0.         0.         0.         0.         0.\n",
      "  0.         0.         0.         0.         0.         0.\n",
      "  0.         0.         0.         0.         0.         0.\n",
      "  0.         0.         0.         0.         0.         0.\n",
      "  0.         0.         0.         0.         0.         0.\n",
      "  0.         0.         0.         0.         0.         0.\n",
      "  0.         0.         0.         0.         0.         0.\n",
      "  0.         0.         0.         0.         0.         0.\n",
      "  0.         0.         0.         0.         0.         0.\n",
      "  0.         0.         0.         0.         0.         0.\n",
      "  0.         0.         0.         0.         0.         0.\n",
      "  0.         0.         0.         0.         0.         0.\n",
      "  0.         0.         0.         0.         0.         0.\n",
      "  0.         0.         0.         0.         0.         0.\n",
      "  0.         0.         0.         0.         0.         0.\n",
      "  0.         0.         0.         0.         0.         0.\n",
      "  0.         0.         0.         0.         0.         0.\n",
      "  0.         0.         0.         0.         0.         0.\n",
      "  0.         0.         0.         0.         0.         0.\n",
      "  0.         0.         0.         0.         0.         0.\n",
      "  0.         0.         0.         0.         0.        ]], shape=(1, 653), dtype=float32) \n",
      "end: \n",
      " tf.Tensor(\n",
      "[[[0.00840336 0.00840336 0.00840336 ... 0.         0.         0.        ]\n",
      "  [0.00840336 0.00840336 0.00840336 ... 0.         0.         0.        ]\n",
      "  [0.00840336 0.00840336 0.00840336 ... 0.         0.         0.        ]\n",
      "  ...\n",
      "  [0.00840336 0.00840336 0.00840336 ... 0.         0.         0.        ]\n",
      "  [0.00840336 0.00840336 0.00840336 ... 0.         0.         0.        ]\n",
      "  [0.00840336 0.00840336 0.00840336 ... 0.         0.         0.        ]]], shape=(1, 653, 653), dtype=float32)\n"
     ]
    }
   ],
   "source": [
    "create_model_mock(MAX_SEQ_LEN, VOCABULARY_SIZE, 50, question_train[0:1], context_train[0:1])"
   ]
  },
  {
   "cell_type": "markdown",
   "id": "934435ed",
   "metadata": {},
   "source": [
    "##### testing"
   ]
  },
  {
   "cell_type": "code",
   "execution_count": 38,
   "id": "d3d712aa",
   "metadata": {},
   "outputs": [],
   "source": [
    "sim = Similarity()"
   ]
  },
  {
   "cell_type": "code",
   "execution_count": 39,
   "id": "97177c5a",
   "metadata": {},
   "outputs": [],
   "source": [
    "#sim([A, B])"
   ]
  },
  {
   "cell_type": "code",
   "execution_count": 40,
   "id": "56f68734",
   "metadata": {},
   "outputs": [
    {
     "ename": "AttributeError",
     "evalue": "'Similarity' object has no attribute 'kernel'",
     "output_type": "error",
     "traceback": [
      "\u001b[0;31m---------------------------------------------------------------------------\u001b[0m",
      "\u001b[0;31mAttributeError\u001b[0m                            Traceback (most recent call last)",
      "\u001b[0;32m/var/folders/t4/vnxj6kkj2n97knry5lnrscx00000gn/T/ipykernel_73919/2154677840.py\u001b[0m in \u001b[0;36m<module>\u001b[0;34m\u001b[0m\n\u001b[0;32m----> 1\u001b[0;31m \u001b[0msim\u001b[0m\u001b[0;34m.\u001b[0m\u001b[0mget_kernel\u001b[0m\u001b[0;34m(\u001b[0m\u001b[0;34m)\u001b[0m\u001b[0;34m\u001b[0m\u001b[0;34m\u001b[0m\u001b[0m\n\u001b[0m",
      "\u001b[0;32m/var/folders/t4/vnxj6kkj2n97knry5lnrscx00000gn/T/ipykernel_73919/3426309565.py\u001b[0m in \u001b[0;36mget_kernel\u001b[0;34m(self)\u001b[0m\n\u001b[1;32m     13\u001b[0m         \u001b[0msuper\u001b[0m\u001b[0;34m(\u001b[0m\u001b[0mSimilarity\u001b[0m\u001b[0;34m,\u001b[0m \u001b[0mself\u001b[0m\u001b[0;34m)\u001b[0m\u001b[0;34m.\u001b[0m\u001b[0mbuild\u001b[0m\u001b[0;34m(\u001b[0m\u001b[0minput_shape\u001b[0m\u001b[0;34m)\u001b[0m\u001b[0;34m\u001b[0m\u001b[0;34m\u001b[0m\u001b[0m\n\u001b[1;32m     14\u001b[0m     \u001b[0;32mdef\u001b[0m \u001b[0mget_kernel\u001b[0m\u001b[0;34m(\u001b[0m\u001b[0mself\u001b[0m\u001b[0;34m)\u001b[0m\u001b[0;34m:\u001b[0m\u001b[0;34m\u001b[0m\u001b[0;34m\u001b[0m\u001b[0m\n\u001b[0;32m---> 15\u001b[0;31m         \u001b[0;32mreturn\u001b[0m \u001b[0mself\u001b[0m\u001b[0;34m.\u001b[0m\u001b[0mkernel\u001b[0m\u001b[0;34m\u001b[0m\u001b[0;34m\u001b[0m\u001b[0m\n\u001b[0m\u001b[1;32m     16\u001b[0m \u001b[0;34m\u001b[0m\u001b[0m\n\u001b[1;32m     17\u001b[0m     \u001b[0;32mdef\u001b[0m \u001b[0mcall\u001b[0m\u001b[0;34m(\u001b[0m\u001b[0mself\u001b[0m\u001b[0;34m,\u001b[0m \u001b[0minputs\u001b[0m\u001b[0;34m)\u001b[0m\u001b[0;34m:\u001b[0m\u001b[0;34m\u001b[0m\u001b[0;34m\u001b[0m\u001b[0m\n",
      "\u001b[0;31mAttributeError\u001b[0m: 'Similarity' object has no attribute 'kernel'"
     ]
    }
   ],
   "source": [
    "sim.get_kernel()"
   ]
  },
  {
   "cell_type": "code",
   "execution_count": null,
   "id": "24c05236",
   "metadata": {},
   "outputs": [
    {
     "name": "stdout",
     "output_type": "stream",
     "text": [
      "(2, 4, 3)\n",
      "(2, 4, 3)\n"
     ]
    }
   ],
   "source": [
    "A = K.constant([[[1,1,1], [2,2,2], [3,3,3], [8,8,8]],[[1,1,1], [2,2,2], [3,3,3],[8,8,8]]])\n",
    "B = K.constant([[[4,4,4], [5,5,5], [6,6,6], [7,7,7]],[[4,4,4], [5,5,5], [6,6,6], [7,7,7]]])\n",
    "print(A.shape)\n",
    "print(B.shape)"
   ]
  },
  {
   "cell_type": "code",
   "execution_count": null,
   "id": "ed169071",
   "metadata": {},
   "outputs": [
    {
     "name": "stdout",
     "output_type": "stream",
     "text": [
      "(9, 1)\n",
      "(2, 4, 4, 9)\n"
     ]
    }
   ],
   "source": [
    "\n",
    "\n",
    "A_dim_repeat = K.concatenate([[1, 1], [A.shape[1]], [1]], 0)\n",
    "B_dim_repeat = K.concatenate([[1], [B.shape[1]], [1, 1]], 0)\n",
    "A_repeated = K.tile(K.expand_dims(A, axis=2), A_dim_repeat)\n",
    "B_repeated = K.tile(K.expand_dims(B, axis=1), B_dim_repeat)\n",
    "kernel = K.constant([[1], [1], [1], [1], [1], [1], [1], [1], [1]])\n",
    "print(kernel.shape)\n",
    "element_wise_multiplication = A_repeated * B_repeated\n",
    "concated = K.concatenate([A_repeated, B_repeated, element_wise_multiplication], axis=-1)\n",
    "print(concated.shape)\n",
    "dot= K.dot(concated, kernel)\n",
    "dot_product = K.squeeze(dot, axis=-1)"
   ]
  },
  {
   "cell_type": "code",
   "execution_count": null,
   "id": "ad420e32",
   "metadata": {},
   "outputs": [
    {
     "data": {
      "text/plain": [
       "<tf.Tensor: shape=(2, 4, 4), dtype=float32, numpy=\n",
       "array([[[ 27.,  33.,  39.,  45.],\n",
       "        [ 42.,  51.,  60.,  69.],\n",
       "        [ 57.,  69.,  81.,  93.],\n",
       "        [132., 159., 186., 213.]],\n",
       "\n",
       "       [[ 27.,  33.,  39.,  45.],\n",
       "        [ 42.,  51.,  60.,  69.],\n",
       "        [ 57.,  69.,  81.,  93.],\n",
       "        [132., 159., 186., 213.]]], dtype=float32)>"
      ]
     },
     "metadata": {},
     "output_type": "display_data"
    }
   ],
   "source": [
    "dot_product"
   ]
  },
  {
   "cell_type": "code",
   "execution_count": null,
   "id": "734f2def",
   "metadata": {},
   "outputs": [
    {
     "data": {
      "text/plain": [
       "<tf.Tensor: shape=(2, 4, 4), dtype=float32, numpy=\n",
       "array([[[1.5192230e-08, 6.1289825e-06, 2.4726081e-03, 9.9752122e-01],\n",
       "        [1.8792968e-12, 1.5228101e-08, 1.2339458e-04, 9.9987662e-01],\n",
       "        [2.3195084e-16, 3.7751115e-11, 6.1441742e-06, 9.9999380e-01],\n",
       "        [6.6396770e-36, 3.5326288e-24, 1.8795287e-12, 1.0000000e+00]],\n",
       "\n",
       "       [[1.5192230e-08, 6.1289825e-06, 2.4726081e-03, 9.9752122e-01],\n",
       "        [1.8792968e-12, 1.5228101e-08, 1.2339458e-04, 9.9987662e-01],\n",
       "        [2.3195084e-16, 3.7751115e-11, 6.1441742e-06, 9.9999380e-01],\n",
       "        [6.6396770e-36, 3.5326288e-24, 1.8795287e-12, 1.0000000e+00]]],\n",
       "      dtype=float32)>"
      ]
     },
     "metadata": {},
     "output_type": "display_data"
    }
   ],
   "source": [
    "Softmax(axis=-1)(dot_product)"
   ]
  },
  {
   "cell_type": "code",
   "execution_count": null,
   "id": "9117ec29",
   "metadata": {},
   "outputs": [
    {
     "data": {
      "text/plain": [
       "<tf.Tensor: shape=(2, 4, 4), dtype=float32, numpy=\n",
       "array([[[1.0000000e+00, 2.0097726e-10, 2.7750147e-31, 1.4798254e-26],\n",
       "        [1.0000000e+00, 1.6577712e-15, 0.0000000e+00, 0.0000000e+00],\n",
       "        [1.0000000e+00, 1.3674291e-20, 0.0000000e+00, 0.0000000e+00],\n",
       "        [1.0000000e+00, 0.0000000e+00, 0.0000000e+00, 0.0000000e+00]],\n",
       "\n",
       "       [[1.0000000e+00, 2.0097726e-10, 2.7750147e-31, 1.4798254e-26],\n",
       "        [1.0000000e+00, 1.6577712e-15, 0.0000000e+00, 0.0000000e+00],\n",
       "        [1.0000000e+00, 1.3674186e-20, 0.0000000e+00, 0.0000000e+00],\n",
       "        [1.0000000e+00, 0.0000000e+00, 0.0000000e+00, 0.0000000e+00]]],\n",
       "      dtype=float32)>"
      ]
     },
     "metadata": {},
     "output_type": "display_data"
    }
   ],
   "source": [
    "Dense(units=4, activation='softmax')(dot_product)"
   ]
  },
  {
   "cell_type": "code",
   "execution_count": null,
   "id": "056585cd",
   "metadata": {},
   "outputs": [
    {
     "name": "stdout",
     "output_type": "stream",
     "text": [
      "(2, 4, 3)\n",
      "(2, 4, 4)\n"
     ]
    }
   ],
   "source": [
    "c =K.constant([[[1,1,1], [2,2,2], [3,3,3], [8,8,8]],[[1,1,1], [2,2,2], [3,3,3],[8,8,8]]])\n",
    "d = K.constant([[[2,3,4,5], [1,1,1,1], [1,1,1,1], [1,1,1,1]], [[1,1,1,1], [1,1,1,1], [1,1,1,1], [1,1,1,1]]])\n",
    "print(c.shape)\n",
    "print(d.shape)"
   ]
  },
  {
   "cell_type": "code",
   "execution_count": null,
   "id": "a8a77fe7",
   "metadata": {},
   "outputs": [
    {
     "data": {
      "text/plain": [
       "<tf.Tensor: shape=(2, 4, 3), dtype=float32, numpy=\n",
       "array([[[1., 1., 1.],\n",
       "        [2., 2., 2.],\n",
       "        [3., 3., 3.],\n",
       "        [8., 8., 8.]],\n",
       "\n",
       "       [[1., 1., 1.],\n",
       "        [2., 2., 2.],\n",
       "        [3., 3., 3.],\n",
       "        [8., 8., 8.]]], dtype=float32)>"
      ]
     },
     "metadata": {},
     "output_type": "display_data"
    }
   ],
   "source": [
    "c"
   ]
  },
  {
   "cell_type": "code",
   "execution_count": null,
   "id": "be66e92d",
   "metadata": {},
   "outputs": [
    {
     "data": {
      "text/plain": [
       "TensorShape([2, 4, 4, 1])"
      ]
     },
     "metadata": {},
     "output_type": "display_data"
    }
   ],
   "source": [
    "d2 = K.expand_dims(d, axis=-1)\n",
    "d2.shape"
   ]
  },
  {
   "cell_type": "code",
   "execution_count": null,
   "id": "cafec3ac",
   "metadata": {},
   "outputs": [
    {
     "data": {
      "text/plain": [
       "TensorShape([2, 1, 4, 3])"
      ]
     },
     "metadata": {},
     "output_type": "display_data"
    }
   ],
   "source": [
    "c2 = K.expand_dims(c, axis=1)\n",
    "c2.shape"
   ]
  },
  {
   "cell_type": "code",
   "execution_count": null,
   "id": "c354b06b",
   "metadata": {},
   "outputs": [
    {
     "data": {
      "text/plain": [
       "<tf.Tensor: shape=(2, 4, 3), dtype=float32, numpy=\n",
       "array([[[60., 60., 60.],\n",
       "        [14., 14., 14.],\n",
       "        [14., 14., 14.],\n",
       "        [14., 14., 14.]],\n",
       "\n",
       "       [[14., 14., 14.],\n",
       "        [14., 14., 14.],\n",
       "        [14., 14., 14.],\n",
       "        [14., 14., 14.]]], dtype=float32)>"
      ]
     },
     "metadata": {},
     "output_type": "display_data"
    }
   ],
   "source": [
    "K.sum(d2*c2, axis=-2)"
   ]
  },
  {
   "cell_type": "code",
   "execution_count": null,
   "id": "e24c3cc5",
   "metadata": {},
   "outputs": [],
   "source": [
    "max_sim_matrix = K.max(d, axis=-1)\n",
    "softmax_similarity_matrix = Softmax(axis=-1)(max_sim_matrix)"
   ]
  },
  {
   "cell_type": "code",
   "execution_count": null,
   "id": "8b7fa20a",
   "metadata": {},
   "outputs": [
    {
     "data": {
      "text/plain": [
       "<tf.Tensor: shape=(2, 4, 4), dtype=float32, numpy=\n",
       "array([[[2., 3., 4., 5.],\n",
       "        [1., 1., 1., 1.],\n",
       "        [1., 1., 1., 1.],\n",
       "        [1., 1., 1., 1.]],\n",
       "\n",
       "       [[1., 1., 1., 1.],\n",
       "        [1., 1., 1., 1.],\n",
       "        [1., 1., 1., 1.],\n",
       "        [1., 1., 1., 1.]]], dtype=float32)>"
      ]
     },
     "metadata": {},
     "output_type": "display_data"
    }
   ],
   "source": [
    "d"
   ]
  },
  {
   "cell_type": "code",
   "execution_count": null,
   "id": "83aa20de",
   "metadata": {},
   "outputs": [
    {
     "data": {
      "text/plain": [
       "<tf.Tensor: shape=(2, 4), dtype=float32, numpy=\n",
       "array([[5., 1., 1., 1.],\n",
       "       [1., 1., 1., 1.]], dtype=float32)>"
      ]
     },
     "metadata": {},
     "output_type": "display_data"
    }
   ],
   "source": [
    "max_sim_matrix"
   ]
  },
  {
   "cell_type": "code",
   "execution_count": null,
   "id": "99146728",
   "metadata": {},
   "outputs": [
    {
     "data": {
      "text/plain": [
       "<tf.Tensor: shape=(2, 4), dtype=float32, numpy=\n",
       "array([[0.9479149 , 0.01736167, 0.01736167, 0.01736167],\n",
       "       [0.25      , 0.25      , 0.25      , 0.25      ]], dtype=float32)>"
      ]
     },
     "metadata": {},
     "output_type": "display_data"
    }
   ],
   "source": [
    "softmax_similarity_matrix"
   ]
  },
  {
   "cell_type": "code",
   "execution_count": null,
   "id": "c73b83bd",
   "metadata": {},
   "outputs": [],
   "source": [
    "history"
   ]
  },
  {
   "cell_type": "code",
   "execution_count": null,
   "id": "0d56075d",
   "metadata": {},
   "outputs": [
    {
     "data": {
      "text/plain": [
       "<tf.Tensor: shape=(), dtype=int32, numpy=2>"
      ]
     },
     "execution_count": 34,
     "metadata": {},
     "output_type": "execute_result"
    }
   ],
   "source": [
    "q = np.array([[[1,2, 3], [1,2, 3]], [[1,2, 3], [1,2, 3]]])\n",
    "K.shape(q)[1]"
   ]
  },
  {
   "cell_type": "code",
   "execution_count": null,
   "id": "51a996b1",
   "metadata": {},
   "outputs": [],
   "source": [
    "q = np.array([1,2,3])"
   ]
  },
  {
   "cell_type": "code",
   "execution_count": null,
   "id": "03015165",
   "metadata": {},
   "outputs": [],
   "source": [
    "ex = K.expand_dims(q, axis=0)"
   ]
  },
  {
   "cell_type": "code",
   "execution_count": null,
   "id": "486b672e",
   "metadata": {},
   "outputs": [
    {
     "data": {
      "text/plain": [
       "<tf.Tensor: shape=(1, 2, 2, 3), dtype=int64, numpy=\n",
       "array([[[[1, 2, 3],\n",
       "         [1, 2, 3]],\n",
       "\n",
       "        [[1, 2, 3],\n",
       "         [1, 2, 3]]]])>"
      ]
     },
     "execution_count": 38,
     "metadata": {},
     "output_type": "execute_result"
    }
   ],
   "source": [
    "ex"
   ]
  },
  {
   "cell_type": "code",
   "execution_count": null,
   "id": "1258bb18",
   "metadata": {},
   "outputs": [
    {
     "data": {
      "text/plain": [
       "<tf.Tensor: shape=(1, 2, 12, 3), dtype=int64, numpy=\n",
       "array([[[[1, 2, 3],\n",
       "         [1, 2, 3],\n",
       "         [1, 2, 3],\n",
       "         [1, 2, 3],\n",
       "         [1, 2, 3],\n",
       "         [1, 2, 3],\n",
       "         [1, 2, 3],\n",
       "         [1, 2, 3],\n",
       "         [1, 2, 3],\n",
       "         [1, 2, 3],\n",
       "         [1, 2, 3],\n",
       "         [1, 2, 3]],\n",
       "\n",
       "        [[1, 2, 3],\n",
       "         [1, 2, 3],\n",
       "         [1, 2, 3],\n",
       "         [1, 2, 3],\n",
       "         [1, 2, 3],\n",
       "         [1, 2, 3],\n",
       "         [1, 2, 3],\n",
       "         [1, 2, 3],\n",
       "         [1, 2, 3],\n",
       "         [1, 2, 3],\n",
       "         [1, 2, 3],\n",
       "         [1, 2, 3]]]])>"
      ]
     },
     "execution_count": 43,
     "metadata": {},
     "output_type": "execute_result"
    }
   ],
   "source": [
    "K.tile(ex, context_dim_repeat)"
   ]
  },
  {
   "cell_type": "code",
   "execution_count": null,
   "id": "f7245e8f",
   "metadata": {},
   "outputs": [],
   "source": [
    "context_dim_repeat = K.concatenate([[1, 1], [6], [1]], 0)"
   ]
  },
  {
   "cell_type": "code",
   "execution_count": null,
   "id": "1537eb28",
   "metadata": {},
   "outputs": [
    {
     "data": {
      "text/plain": [
       "<tf.Tensor: shape=(4,), dtype=int32, numpy=array([1, 1, 5, 1], dtype=int32)>"
      ]
     },
     "execution_count": 40,
     "metadata": {},
     "output_type": "execute_result"
    }
   ],
   "source": [
    "context_dim_repeat"
   ]
  },
  {
   "cell_type": "code",
   "execution_count": null,
   "id": "26e429db",
   "metadata": {},
   "outputs": [
    {
     "ename": "TypeError",
     "evalue": "_to_tensor() missing 1 required positional argument: 'dtype'",
     "output_type": "error",
     "traceback": [
      "\u001b[0;31m---------------------------------------------------------------------------\u001b[0m",
      "\u001b[0;31mTypeError\u001b[0m                                 Traceback (most recent call last)",
      "\u001b[0;32m/var/folders/t4/vnxj6kkj2n97knry5lnrscx00000gn/T/ipykernel_60641/3669352544.py\u001b[0m in \u001b[0;36m<module>\u001b[0;34m\u001b[0m\n\u001b[0;32m----> 1\u001b[0;31m \u001b[0mn1\u001b[0m \u001b[0;34m=\u001b[0m \u001b[0mK\u001b[0m\u001b[0;34m.\u001b[0m\u001b[0m_to_tensor\u001b[0m\u001b[0;34m(\u001b[0m\u001b[0mnp\u001b[0m\u001b[0;34m.\u001b[0m\u001b[0mrandom\u001b[0m\u001b[0;34m.\u001b[0m\u001b[0mrand\u001b[0m\u001b[0;34m(\u001b[0m\u001b[0;36m10\u001b[0m\u001b[0;34m,\u001b[0m\u001b[0;36m653\u001b[0m\u001b[0;34m,\u001b[0m \u001b[0;36m653\u001b[0m\u001b[0;34m,\u001b[0m \u001b[0;36m100\u001b[0m\u001b[0;34m)\u001b[0m\u001b[0;34m)\u001b[0m\u001b[0;34m\u001b[0m\u001b[0;34m\u001b[0m\u001b[0m\n\u001b[0m\u001b[1;32m      2\u001b[0m \u001b[0mn2\u001b[0m \u001b[0;34m=\u001b[0m \u001b[0mnp\u001b[0m\u001b[0;34m.\u001b[0m\u001b[0mrandom\u001b[0m\u001b[0;34m.\u001b[0m\u001b[0mrand\u001b[0m\u001b[0;34m(\u001b[0m\u001b[0;36m10\u001b[0m\u001b[0;34m,\u001b[0m\u001b[0;36m653\u001b[0m\u001b[0;34m,\u001b[0m \u001b[0;36m653\u001b[0m\u001b[0;34m,\u001b[0m \u001b[0;36m100\u001b[0m\u001b[0;34m)\u001b[0m\u001b[0;34m\u001b[0m\u001b[0;34m\u001b[0m\u001b[0m\n\u001b[1;32m      3\u001b[0m \u001b[0mn3\u001b[0m \u001b[0;34m=\u001b[0m \u001b[0mnp\u001b[0m\u001b[0;34m.\u001b[0m\u001b[0mrandom\u001b[0m\u001b[0;34m.\u001b[0m\u001b[0mrand\u001b[0m\u001b[0;34m(\u001b[0m\u001b[0;36m10\u001b[0m\u001b[0;34m,\u001b[0m\u001b[0;36m653\u001b[0m\u001b[0;34m,\u001b[0m \u001b[0;36m653\u001b[0m\u001b[0;34m,\u001b[0m \u001b[0;36m100\u001b[0m\u001b[0;34m)\u001b[0m\u001b[0;34m\u001b[0m\u001b[0;34m\u001b[0m\u001b[0m\n",
      "\u001b[0;31mTypeError\u001b[0m: _to_tensor() missing 1 required positional argument: 'dtype'"
     ]
    }
   ],
   "source": [
    "n1 = np.random.rand(10,653, 653, 100))\n",
    "n2 = np.random.rand(10,653, 653, 100)\n",
    "n3 = np.random.rand(10,653, 653, 100)"
   ]
  },
  {
   "cell_type": "code",
   "execution_count": null,
   "id": "bcafd95c",
   "metadata": {},
   "outputs": [],
   "source": [
    "n1 = tf.convert_to_tensor(n1)\n",
    "n2 = tf.convert_to_tensor(n2)\n",
    "n3 = tf.convert_to_tensor(n3)\n"
   ]
  },
  {
   "cell_type": "code",
   "execution_count": null,
   "id": "a8e4d5f0",
   "metadata": {},
   "outputs": [],
   "source": [
    "concatenated_tensor = K.concatenate([n1, n2, n3], axis=-1)"
   ]
  },
  {
   "cell_type": "code",
   "execution_count": null,
   "id": "7fd213d6",
   "metadata": {},
   "outputs": [],
   "source": []
  },
  {
   "cell_type": "markdown",
   "id": "9c869b93",
   "metadata": {},
   "source": [
    "### Funcitons for saving, predicting, plotting and evaluating the models\n"
   ]
  },
  {
   "cell_type": "markdown",
   "id": "260bdc41",
   "metadata": {},
   "source": [
    "#### Save model"
   ]
  },
  {
   "cell_type": "code",
   "execution_count": null,
   "id": "d4b23d04",
   "metadata": {},
   "outputs": [],
   "source": [
    "def save_model(model, loss='CategoricalCrossentropy', dir='models'):\n",
    "    '''\n",
    "        Saves model naming it according to sentence embedding merge type and time stamp.\n",
    "    '''\n",
    "    now = datetime.now()\n",
    "    dt_string = now.strftime(\"%d_%m_%Y_%H:%M:%S\")\n",
    "    model_name = f'model_{dt_string}'\n",
    "    path = f'{dir}/{model_name}'\n",
    "    model.save(path)"
   ]
  },
  {
   "cell_type": "code",
   "execution_count": null,
   "id": "97d116c4",
   "metadata": {},
   "outputs": [],
   "source": [
    "save_model(model)"
   ]
  },
  {
   "cell_type": "markdown",
   "id": "a86eea9a",
   "metadata": {},
   "source": [
    "#### Get predicitons"
   ]
  },
  {
   "cell_type": "code",
   "execution_count": null,
   "id": "9f467f2e",
   "metadata": {},
   "outputs": [],
   "source": [
    "def prediction(model: keras.Model, x, predicting_info):\n",
    "    '''Call the models prediction function'''\n",
    "    predictions = model.predict(x, **predicting_info)\n",
    "    return predictions"
   ]
  },
  {
   "cell_type": "markdown",
   "id": "1d25a8f4",
   "metadata": {},
   "source": [
    "#### Plot accuracy and loss"
   ]
  },
  {
   "cell_type": "code",
   "execution_count": null,
   "id": "aac54c0a",
   "metadata": {},
   "outputs": [],
   "source": [
    "def plot_accuracy(model_callback):\n",
    "    plt.plot(model_callback.history['acc'])\n",
    "    plt.plot(model_callback.history['val_acc'])\n",
    "    plt.title('model accuracy')\n",
    "    plt.ylabel('accuracy')\n",
    "    plt.xlabel('epoch')\n",
    "    plt.legend(['train', 'val'], loc=\"lower right\")\n",
    "    plt.show()\n",
    "    \n",
    "def plot_loss(model_callback):\n",
    "    plt.plot(model_callback.history['loss'])\n",
    "    plt.plot(model_callback.history['val_loss'])\n",
    "    plt.title('model loss')\n",
    "    plt.ylabel('loss')\n",
    "    plt.xlabel('epoch')\n",
    "    plt.legend(['train', 'val'], loc=\"lower right\")\n",
    "    plt.show()\n",
    "    \n",
    "def plot_confusion_matrix(confusion_matrix):\n",
    "\n",
    "    ax = sns.heatmap(confusion_matrix, annot=True, cmap='Blues', fmt='d')\n",
    "\n",
    "    ax.set_title('Confusion Matrix\\n\\n')\n",
    "    ax.set_xlabel('\\nPredicted Values')\n",
    "    ax.set_ylabel('Actual Values ')\n",
    "\n",
    "    ## Ticket labels - List must be in alphabetical order\n",
    "    ax.xaxis.set_ticklabels(['False','True'])\n",
    "    ax.yaxis.set_ticklabels(['False','True'])\n",
    "\n",
    "    ## Display the visualization of the Confusion Matrix.\n",
    "    plt.show()"
   ]
  },
  {
   "cell_type": "markdown",
   "id": "6005619e",
   "metadata": {},
   "source": [
    "#### Fucniton for multi-input classification evaluation"
   ]
  },
  {
   "cell_type": "code",
   "execution_count": null,
   "id": "c0b0d1a4",
   "metadata": {},
   "outputs": [],
   "source": [
    "def evaluation(predictions):\n",
    "    '''\n",
    "        Function for plotting the confusion_matrix\n",
    "        Inputs:\n",
    "            predicitons: Predicitons from a keras model\n",
    "    '''\n",
    "    print(classification_report(y_test, predictions))\n",
    "    print(accuracy_score(y_test, predictions))\n",
    "    cf_matrix = confusion_matrix(y_test, predictions)\n",
    "    plot_confusion_matrix(cf_matrix)"
   ]
  },
  {
   "cell_type": "markdown",
   "id": "f49b76c8",
   "metadata": {},
   "source": [
    "#### Funcitons for claim verification evaluation"
   ]
  },
  {
   "cell_type": "code",
   "execution_count": null,
   "id": "fa297b40",
   "metadata": {},
   "outputs": [],
   "source": [
    "def make_claims_dict():\n",
    "    \"\"\"\n",
    "    Makes a dictionary with claimID as key and \n",
    "    a list of the index for every evidence \n",
    "    corresponding to the claim as value\n",
    "    \"\"\"\n",
    "    claims = {}\n",
    "    t = test_df.groupby(\"claimID\")\n",
    "    for name, group in t:\n",
    "        claims[name] = list(group.index)\n",
    "    return claims"
   ]
  },
  {
   "cell_type": "code",
   "execution_count": null,
   "id": "e9ff77d1",
   "metadata": {},
   "outputs": [],
   "source": [
    "def majority_pred(predictions):\n",
    "    \"\"\"\n",
    "    Find predictions based on majority voting\n",
    "    \"\"\"\n",
    "    majority = []\n",
    "\n",
    "    for i in range(len(claim_test)):\n",
    "        claim_id = np.array(test_df['claimID'])[i]\n",
    "        support = 0\n",
    "        defutes = 0\n",
    "        for evidence in claims_dict[claim_id]:\n",
    "            if predictions[evidence] == 1:\n",
    "                support += 1\n",
    "            else:\n",
    "                defutes += 1\n",
    "        if support > defutes:\n",
    "            majority.append(1.0)\n",
    "        else:\n",
    "            majority.append(0.0)\n",
    "    return majority"
   ]
  },
  {
   "cell_type": "code",
   "execution_count": null,
   "id": "7f9cf4ea",
   "metadata": {},
   "outputs": [
    {
     "name": "stderr",
     "output_type": "stream",
     "text": [
      "2021-12-10 20:01:24.769048: W tensorflow/python/util/util.cc:368] Sets are not currently considered sequences, but this may change in the future, so consider avoiding using them.\n",
      "WARNING:absl:Found untraced functions such as softmax_21_layer_call_fn, softmax_21_layer_call_and_return_conditional_losses, softmax_22_layer_call_fn, softmax_22_layer_call_and_return_conditional_losses, lstm_cell_37_layer_call_fn while saving (showing 5 of 30). These functions will not be directly callable after loading.\n"
     ]
    },
    {
     "name": "stdout",
     "output_type": "stream",
     "text": [
      "INFO:tensorflow:Assets written to: models/model_SE1_MT1_10_12_2021_20:00:59/assets\n"
     ]
    },
    {
     "name": "stderr",
     "output_type": "stream",
     "text": [
      "INFO:tensorflow:Assets written to: models/model_SE1_MT1_10_12_2021_20:00:59/assets\n",
      "WARNING:absl:<keras.layers.recurrent.LSTMCell object at 0x181dbf580> has the same name 'LSTMCell' as a built-in Keras object. Consider renaming <class 'keras.layers.recurrent.LSTMCell'> to avoid naming conflicts when loading with `tf.keras.models.load_model`. If renaming is not possible, pass the object in the `custom_objects` parameter of the load function.\n",
      "WARNING:absl:<keras.layers.recurrent.LSTMCell object at 0x1820280d0> has the same name 'LSTMCell' as a built-in Keras object. Consider renaming <class 'keras.layers.recurrent.LSTMCell'> to avoid naming conflicts when loading with `tf.keras.models.load_model`. If renaming is not possible, pass the object in the `custom_objects` parameter of the load function.\n",
      "WARNING:absl:<keras.layers.recurrent.LSTMCell object at 0x181b51070> has the same name 'LSTMCell' as a built-in Keras object. Consider renaming <class 'keras.layers.recurrent.LSTMCell'> to avoid naming conflicts when loading with `tf.keras.models.load_model`. If renaming is not possible, pass the object in the `custom_objects` parameter of the load function.\n",
      "WARNING:absl:<keras.layers.recurrent.LSTMCell object at 0x181b51970> has the same name 'LSTMCell' as a built-in Keras object. Consider renaming <class 'keras.layers.recurrent.LSTMCell'> to avoid naming conflicts when loading with `tf.keras.models.load_model`. If renaming is not possible, pass the object in the `custom_objects` parameter of the load function.\n"
     ]
    }
   ],
   "source": [
    "save_model(model)"
   ]
  },
  {
   "cell_type": "code",
   "execution_count": null,
   "id": "f990c16d",
   "metadata": {},
   "outputs": [
    {
     "data": {
      "image/png": "[encoded data removed]",
      "text/plain": [
       "<Figure size 432x288 with 1 Axes>"
      ]
     },
     "metadata": {
      "needs_background": "light"
     },
     "output_type": "display_data"
    },
    {
     "ename": "KeyError",
     "evalue": "'acc'",
     "output_type": "error",
     "traceback": [
      "\u001b[0;31m---------------------------------------------------------------------------\u001b[0m",
      "\u001b[0;31mKeyError\u001b[0m                                  Traceback (most recent call last)",
      "\u001b[0;32m/var/folders/t4/vnxj6kkj2n97knry5lnrscx00000gn/T/ipykernel_52353/2189927672.py\u001b[0m in \u001b[0;36m<module>\u001b[0;34m\u001b[0m\n\u001b[1;32m      1\u001b[0m \u001b[0mplot_loss\u001b[0m\u001b[0;34m(\u001b[0m\u001b[0mhistory\u001b[0m\u001b[0;34m)\u001b[0m\u001b[0;34m\u001b[0m\u001b[0;34m\u001b[0m\u001b[0m\n\u001b[0;32m----> 2\u001b[0;31m \u001b[0mplot_accuracy\u001b[0m\u001b[0;34m(\u001b[0m\u001b[0mhistory\u001b[0m\u001b[0;34m)\u001b[0m\u001b[0;34m\u001b[0m\u001b[0;34m\u001b[0m\u001b[0m\n\u001b[0m",
      "\u001b[0;32m/var/folders/t4/vnxj6kkj2n97knry5lnrscx00000gn/T/ipykernel_52353/3317561991.py\u001b[0m in \u001b[0;36mplot_accuracy\u001b[0;34m(model_callback)\u001b[0m\n\u001b[1;32m      1\u001b[0m \u001b[0;32mdef\u001b[0m \u001b[0mplot_accuracy\u001b[0m\u001b[0;34m(\u001b[0m\u001b[0mmodel_callback\u001b[0m\u001b[0;34m)\u001b[0m\u001b[0;34m:\u001b[0m\u001b[0;34m\u001b[0m\u001b[0;34m\u001b[0m\u001b[0m\n\u001b[0;32m----> 2\u001b[0;31m     \u001b[0mplt\u001b[0m\u001b[0;34m.\u001b[0m\u001b[0mplot\u001b[0m\u001b[0;34m(\u001b[0m\u001b[0mmodel_callback\u001b[0m\u001b[0;34m.\u001b[0m\u001b[0mhistory\u001b[0m\u001b[0;34m[\u001b[0m\u001b[0;34m'acc'\u001b[0m\u001b[0;34m]\u001b[0m\u001b[0;34m)\u001b[0m\u001b[0;34m\u001b[0m\u001b[0;34m\u001b[0m\u001b[0m\n\u001b[0m\u001b[1;32m      3\u001b[0m     \u001b[0mplt\u001b[0m\u001b[0;34m.\u001b[0m\u001b[0mplot\u001b[0m\u001b[0;34m(\u001b[0m\u001b[0mmodel_callback\u001b[0m\u001b[0;34m.\u001b[0m\u001b[0mhistory\u001b[0m\u001b[0;34m[\u001b[0m\u001b[0;34m'val_acc'\u001b[0m\u001b[0;34m]\u001b[0m\u001b[0;34m)\u001b[0m\u001b[0;34m\u001b[0m\u001b[0;34m\u001b[0m\u001b[0m\n\u001b[1;32m      4\u001b[0m     \u001b[0mplt\u001b[0m\u001b[0;34m.\u001b[0m\u001b[0mtitle\u001b[0m\u001b[0;34m(\u001b[0m\u001b[0;34m'model accuracy'\u001b[0m\u001b[0;34m)\u001b[0m\u001b[0;34m\u001b[0m\u001b[0;34m\u001b[0m\u001b[0m\n\u001b[1;32m      5\u001b[0m     \u001b[0mplt\u001b[0m\u001b[0;34m.\u001b[0m\u001b[0mylabel\u001b[0m\u001b[0;34m(\u001b[0m\u001b[0;34m'accuracy'\u001b[0m\u001b[0;34m)\u001b[0m\u001b[0;34m\u001b[0m\u001b[0;34m\u001b[0m\u001b[0m\n",
      "\u001b[0;31mKeyError\u001b[0m: 'acc'"
     ]
    }
   ],
   "source": [
    "plot_loss(history)\n",
    "plot_accuracy(history)"
   ]
  },
  {
   "cell_type": "code",
   "execution_count": null,
   "id": "0b62b0a7",
   "metadata": {},
   "outputs": [],
   "source": []
  }
 ],
 "metadata": {
  "kernelspec": {
   "display_name": "Python 3",
   "language": "python",
   "name": "python3"
  },
  "language_info": {
   "codemirror_mode": {
    "name": "ipython",
    "version": 3
   },
   "file_extension": ".py",
   "mimetype": "text/x-python",
   "name": "python",
   "nbconvert_exporter": "python",
   "pygments_lexer": "ipython3",
   "version": "3.9.4"
  }
 },
 "nbformat": 4,
 "nbformat_minor": 5
}
