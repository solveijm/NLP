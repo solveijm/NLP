{
 "cells": [
  {
   "cell_type": "markdown",
   "id": "538e1dc1",
   "metadata": {},
   "source": [
    "# Questing Answering on SQuAD dataset"
   ]
  },
  {
   "cell_type": "markdown",
   "id": "b75a0f04",
   "metadata": {},
   "source": [
    "## Import libraries"
   ]
  },
  {
   "cell_type": "code",
   "execution_count": 1,
   "id": "60f4b439",
   "metadata": {},
   "outputs": [],
   "source": [
    "import json\n",
    "import pandas as pd\n",
    "import os\n",
    "import random\n",
    "\n",
    "import re\n",
    "from functools import reduce\n",
    "import nltk\n",
    "from nltk.corpus import stopwords\n",
    "from typing import List, Callable, Dict\n",
    "from nltk.stem import WordNetLemmatizer\n",
    "\n",
    "from datetime import datetime\n",
    "import keras\n",
    "from keras import backend as K\n",
    "from keras.layers import Concatenate, Lambda, LSTM, Reshape, Dense, Embedding, Average, Reshape, Flatten, Input, Add, Bidirectional, TimeDistributed, Softmax\n",
    "from keras.models import Model \n",
    "from keras.preprocessing.sequence import pad_sequences\n",
    "from keras.preprocessing.text import Tokenizer\n",
    "import numpy as np\n",
    "import matplotlib.pyplot as plt\n",
    "import os\n",
    "import pandas as pd\n",
    "import requests\n",
    "import seaborn as sns\n",
    "from sklearn.metrics import accuracy_score, classification_report, confusion_matrix\n",
    "import tensorflow as tf\n",
    "import zipfile\n",
    "from keras.utils.np_utils import to_categorical\n",
    "from tensorflow.keras.layers import Layer"
   ]
  },
  {
   "cell_type": "markdown",
   "id": "281664e0",
   "metadata": {},
   "source": [
    "## Data pipeline"
   ]
  },
  {
   "cell_type": "markdown",
   "id": "bac96bfb",
   "metadata": {},
   "source": [
    "#### Load dataset"
   ]
  },
  {
   "cell_type": "code",
   "execution_count": 2,
   "id": "b0f4a366",
   "metadata": {},
   "outputs": [],
   "source": [
    "# Uncomment for google collab\n",
    "#from google.colab import drive\n",
    "#drive.mount('/content/drive')"
   ]
  },
  {
   "cell_type": "code",
   "execution_count": 3,
   "id": "0828ab57",
   "metadata": {},
   "outputs": [],
   "source": [
    "folder = \"SQUAD MATERIAL\"\n",
    "#folder = \"drive/MyDrive/NLP_data/SQUAD MATERIAL\""
   ]
  },
  {
   "cell_type": "code",
   "execution_count": null,
   "id": "4900cb62",
   "metadata": {},
   "outputs": [],
   "source": [
    "#dataset_folder = \"drive/MyDrive/NLP_data/dataset/\"\n",
    "dataset_folder = './dataset'"
   ]
  },
  {
   "cell_type": "code",
   "execution_count": 4,
   "id": "2c7bf748",
   "metadata": {},
   "outputs": [],
   "source": [
    "def load_json(filename=\"training_set.json\", folder=folder):    \n",
    "    dataset_folder = os.path.join(os.getcwd(), folder)\n",
    "    dataset_path = os.path.join(dataset_folder, filename)\n",
    "    with open(dataset_path) as f:\n",
    "        raw_json = json.load(f)\n",
    "\n",
    "    return raw_json['data']"
   ]
  },
  {
   "cell_type": "code",
   "execution_count": 5,
   "id": "8817a293",
   "metadata": {},
   "outputs": [],
   "source": [
    "#data = load_json()"
   ]
  },
  {
   "cell_type": "markdown",
   "id": "28b42106",
   "metadata": {},
   "source": [
    "#### Split dataset into train, val and test sets.\n",
    "Splitting on title, so that all answers and questions in one title are in the same dataset"
   ]
  },
  {
   "cell_type": "code",
   "execution_count": 6,
   "id": "03796a88",
   "metadata": {},
   "outputs": [],
   "source": [
    "def split_dataset(data):\n",
    "    random.shuffle(data)\n",
    "    length_of_dataset = len(data)\n",
    "    train_split = round(0.8*length_of_dataset)\n",
    "    val_split = train_split + round(0.1*length_of_dataset)\n",
    "    train_data = data[:train_split]\n",
    "    val_data = data[train_split:val_split]\n",
    "    test_data = data[val_split:]\n",
    "    return train_data, val_data, test_data"
   ]
  },
  {
   "cell_type": "code",
   "execution_count": 7,
   "id": "1b9e36b2",
   "metadata": {},
   "outputs": [],
   "source": [
    "#train_data, val_data, test_data = split_dataset(data)"
   ]
  },
  {
   "cell_type": "code",
   "execution_count": null,
   "id": "97f1d239",
   "metadata": {},
   "outputs": [],
   "source": [
    "def save_splits():\n",
    "    with open(f\"{dataset_folder}train.json\", 'w') as f:\n",
    "        d = {'data': train_data}\n",
    "        json.dump(d,f)\n",
    "    \n",
    "    with open(f\"{dataset_folder}val.json\", 'w') as f:\n",
    "        d = {'data': val_data}\n",
    "        json.dump(d,f)\n",
    "\n",
    "    with open(f\"{dataset_folder}test.json\", 'w') as f:\n",
    "        d = {'data': test_data}\n",
    "        json.dump(d,f)"
   ]
  },
  {
   "cell_type": "code",
   "execution_count": null,
   "id": "1163956b",
   "metadata": {},
   "outputs": [],
   "source": [
    "def get_data():\n",
    "    train_data = load_json(filename=\"train.json\", folder=dataset_folder)\n",
    "    val_data = load_json(filename=\"val.json\", folder=dataset_folder)    \n",
    "    test_data = load_json(filename=\"test.json\", folder=dataset_folder) \n",
    "    return train_data, val_data, test_data"
   ]
  },
  {
   "cell_type": "code",
   "execution_count": null,
   "id": "394adcd0",
   "metadata": {},
   "outputs": [],
   "source": [
    "train_data, val_data, test_data = get_data()"
   ]
  },
  {
   "cell_type": "markdown",
   "id": "2b38edc2",
   "metadata": {},
   "source": [
    "#### Create dataframe"
   ]
  },
  {
   "cell_type": "code",
   "execution_count": 8,
   "id": "ae626891",
   "metadata": {},
   "outputs": [],
   "source": [
    "def find_word_index(char_idx, context):\n",
    "    return context[0:char_idx].count(' ')"
   ]
  },
  {
   "cell_type": "code",
   "execution_count": 9,
   "id": "d350502e",
   "metadata": {},
   "outputs": [],
   "source": [
    "def create_dataframe(data):\n",
    "    contexts = []\n",
    "    questions = []\n",
    "    answers_text = []\n",
    "    answers_start = []\n",
    "    answers_end = []\n",
    "    question_ids = []\n",
    "    answers_word_start = []\n",
    "    answers_word_end = []\n",
    "    for i in range(len(data)):\n",
    "        paragraphs = data[i]['paragraphs']\n",
    "        for sub_para in paragraphs:\n",
    "            for q_a in sub_para['qas']:\n",
    "                questions.append(q_a['question'])\n",
    "                q_a_answer_starts = []\n",
    "                q_a_answer_ends = []\n",
    "                q_a_answers = []\n",
    "                q_a_ans_word_idx_start = []\n",
    "                q_a_ans_word_idx_end = []\n",
    "\n",
    "                for answer in q_a['answers']:\n",
    "                    answer_end = answer['answer_start'] + len(answer['text'])\n",
    "                    q_a_answer_starts.append(answer['answer_start'])\n",
    "                    q_a_answer_ends.append(answer_end)\n",
    "                    q_a_answers.append(answer['text'])\n",
    "                    q_a_ans_word_idx_start.append(find_word_index(answer['answer_start'], sub_para['context']))\n",
    "                    q_a_ans_word_idx_end.append(find_word_index(answer_end, sub_para['context']))\n",
    "                    \n",
    "                answers_start.append(q_a_answer_starts)\n",
    "                answers_end.append(q_a_answer_ends)\n",
    "                answers_word_start.append(q_a_ans_word_idx_start)                \n",
    "                answers_word_end.append(q_a_ans_word_idx_end)\n",
    "                answers_text.append(q_a_answers)\n",
    "                question_ids.append(q_a['id'])\n",
    "                contexts.append(sub_para['context'])   \n",
    "    df = pd.DataFrame({\"questionID\":question_ids, \"context\":contexts, \"question\": questions, \"answer_start\": answers_start, \"answer_word_start\": answers_word_start, \"answer_end\": answers_end, \"answer_word_end\": answers_word_end, \"answer_text\": answers_text})\n",
    "    return df"
   ]
  },
  {
   "cell_type": "code",
   "execution_count": 10,
   "id": "cbf2971f",
   "metadata": {},
   "outputs": [],
   "source": [
    "train_df = create_dataframe(train_data)\n",
    "val_df = create_dataframe(val_data)\n",
    "test_df = create_dataframe(test_data)"
   ]
  },
  {
   "cell_type": "code",
   "execution_count": 11,
   "id": "fd2d926d",
   "metadata": {},
   "outputs": [
    {
     "data": {
      "text/html": [
       "<div>\n",
       "<style scoped>\n",
       "    .dataframe tbody tr th:only-of-type {\n",
       "        vertical-align: middle;\n",
       "    }\n",
       "\n",
       "    .dataframe tbody tr th {\n",
       "        vertical-align: top;\n",
       "    }\n",
       "\n",
       "    .dataframe thead th {\n",
       "        text-align: right;\n",
       "    }\n",
       "</style>\n",
       "<table border=\"1\" class=\"dataframe\">\n",
       "  <thead>\n",
       "    <tr style=\"text-align: right;\">\n",
       "      <th></th>\n",
       "      <th>questionID</th>\n",
       "      <th>context</th>\n",
       "      <th>question</th>\n",
       "      <th>answer_start</th>\n",
       "      <th>answer_word_start</th>\n",
       "      <th>answer_end</th>\n",
       "      <th>answer_word_end</th>\n",
       "      <th>answer_text</th>\n",
       "    </tr>\n",
       "  </thead>\n",
       "  <tbody>\n",
       "    <tr>\n",
       "      <th>0</th>\n",
       "      <td>5732977f0342181400a20283</td>\n",
       "      <td>A police force is a constituted body of person...</td>\n",
       "      <td>What does the state want a police force to do?</td>\n",
       "      <td>[74]</td>\n",
       "      <td>[14]</td>\n",
       "      <td>[133]</td>\n",
       "      <td>[22]</td>\n",
       "      <td>[enforce the law, protect property, and limit ...</td>\n",
       "    </tr>\n",
       "    <tr>\n",
       "      <th>1</th>\n",
       "      <td>5732977f0342181400a20284</td>\n",
       "      <td>A police force is a constituted body of person...</td>\n",
       "      <td>What are gendarmerie?</td>\n",
       "      <td>[567]</td>\n",
       "      <td>[90]</td>\n",
       "      <td>[609]</td>\n",
       "      <td>[95]</td>\n",
       "      <td>[military units charged with civil policing]</td>\n",
       "    </tr>\n",
       "    <tr>\n",
       "      <th>2</th>\n",
       "      <td>5732977f0342181400a20285</td>\n",
       "      <td>A police force is a constituted body of person...</td>\n",
       "      <td>What are police usually separate from?</td>\n",
       "      <td>[445]</td>\n",
       "      <td>[73]</td>\n",
       "      <td>[540]</td>\n",
       "      <td>[86]</td>\n",
       "      <td>[military or other organizations involved in t...</td>\n",
       "    </tr>\n",
       "    <tr>\n",
       "      <th>3</th>\n",
       "      <td>573297e560535514009162f8</td>\n",
       "      <td>Law enforcement, however, constitutes only par...</td>\n",
       "      <td>How are police usually paid?</td>\n",
       "      <td>[535]</td>\n",
       "      <td>[83]</td>\n",
       "      <td>[548]</td>\n",
       "      <td>[84]</td>\n",
       "      <td>[through taxes]</td>\n",
       "    </tr>\n",
       "    <tr>\n",
       "      <th>4</th>\n",
       "      <td>573297e560535514009162fa</td>\n",
       "      <td>Law enforcement, however, constitutes only par...</td>\n",
       "      <td>When were police used to protect the class sys...</td>\n",
       "      <td>[237]</td>\n",
       "      <td>[35]</td>\n",
       "      <td>[271]</td>\n",
       "      <td>[40]</td>\n",
       "      <td>[late 18th and early 19th centuries]</td>\n",
       "    </tr>\n",
       "    <tr>\n",
       "      <th>...</th>\n",
       "      <td>...</td>\n",
       "      <td>...</td>\n",
       "      <td>...</td>\n",
       "      <td>...</td>\n",
       "      <td>...</td>\n",
       "      <td>...</td>\n",
       "      <td>...</td>\n",
       "      <td>...</td>\n",
       "    </tr>\n",
       "    <tr>\n",
       "      <th>70838</th>\n",
       "      <td>57279954708984140094e1e7</td>\n",
       "      <td>Instead of being defined by \"non\" words, some ...</td>\n",
       "      <td>What type of language has it been suggested th...</td>\n",
       "      <td>[28]</td>\n",
       "      <td>[5]</td>\n",
       "      <td>[39]</td>\n",
       "      <td>[6]</td>\n",
       "      <td>[\"non\" words]</td>\n",
       "    </tr>\n",
       "    <tr>\n",
       "      <th>70839</th>\n",
       "      <td>57279954708984140094e1e8</td>\n",
       "      <td>Instead of being defined by \"non\" words, some ...</td>\n",
       "      <td>What type of language are organizations being ...</td>\n",
       "      <td>[75]</td>\n",
       "      <td>[11]</td>\n",
       "      <td>[109]</td>\n",
       "      <td>[13]</td>\n",
       "      <td>[new, positive-sounding terminology]</td>\n",
       "    </tr>\n",
       "    <tr>\n",
       "      <th>70840</th>\n",
       "      <td>57279954708984140094e1e9</td>\n",
       "      <td>Instead of being defined by \"non\" words, some ...</td>\n",
       "      <td>What is a new term for NPOs that has started t...</td>\n",
       "      <td>[144]</td>\n",
       "      <td>[20]</td>\n",
       "      <td>[170]</td>\n",
       "      <td>[22]</td>\n",
       "      <td>[civil society organization]</td>\n",
       "    </tr>\n",
       "    <tr>\n",
       "      <th>70841</th>\n",
       "      <td>57279954708984140094e1ea</td>\n",
       "      <td>Instead of being defined by \"non\" words, some ...</td>\n",
       "      <td>What is a term being used for organizations th...</td>\n",
       "      <td>[295]</td>\n",
       "      <td>[45]</td>\n",
       "      <td>[322]</td>\n",
       "      <td>[47]</td>\n",
       "      <td>[citizen sector organization]</td>\n",
       "    </tr>\n",
       "    <tr>\n",
       "      <th>70842</th>\n",
       "      <td>57279954708984140094e1eb</td>\n",
       "      <td>Instead of being defined by \"non\" words, some ...</td>\n",
       "      <td>What would a group like Crowdfund, GoFundMe or...</td>\n",
       "      <td>[507]</td>\n",
       "      <td>[79]</td>\n",
       "      <td>[534]</td>\n",
       "      <td>[81]</td>\n",
       "      <td>[Social Benefit Organization]</td>\n",
       "    </tr>\n",
       "  </tbody>\n",
       "</table>\n",
       "<p>70843 rows × 8 columns</p>\n",
       "</div>"
      ],
      "text/plain": [
       "                     questionID  \\\n",
       "0      5732977f0342181400a20283   \n",
       "1      5732977f0342181400a20284   \n",
       "2      5732977f0342181400a20285   \n",
       "3      573297e560535514009162f8   \n",
       "4      573297e560535514009162fa   \n",
       "...                         ...   \n",
       "70838  57279954708984140094e1e7   \n",
       "70839  57279954708984140094e1e8   \n",
       "70840  57279954708984140094e1e9   \n",
       "70841  57279954708984140094e1ea   \n",
       "70842  57279954708984140094e1eb   \n",
       "\n",
       "                                                 context  \\\n",
       "0      A police force is a constituted body of person...   \n",
       "1      A police force is a constituted body of person...   \n",
       "2      A police force is a constituted body of person...   \n",
       "3      Law enforcement, however, constitutes only par...   \n",
       "4      Law enforcement, however, constitutes only par...   \n",
       "...                                                  ...   \n",
       "70838  Instead of being defined by \"non\" words, some ...   \n",
       "70839  Instead of being defined by \"non\" words, some ...   \n",
       "70840  Instead of being defined by \"non\" words, some ...   \n",
       "70841  Instead of being defined by \"non\" words, some ...   \n",
       "70842  Instead of being defined by \"non\" words, some ...   \n",
       "\n",
       "                                                question answer_start  \\\n",
       "0         What does the state want a police force to do?         [74]   \n",
       "1                                  What are gendarmerie?        [567]   \n",
       "2                 What are police usually separate from?        [445]   \n",
       "3                           How are police usually paid?        [535]   \n",
       "4      When were police used to protect the class sys...        [237]   \n",
       "...                                                  ...          ...   \n",
       "70838  What type of language has it been suggested th...         [28]   \n",
       "70839  What type of language are organizations being ...         [75]   \n",
       "70840  What is a new term for NPOs that has started t...        [144]   \n",
       "70841  What is a term being used for organizations th...        [295]   \n",
       "70842  What would a group like Crowdfund, GoFundMe or...        [507]   \n",
       "\n",
       "      answer_word_start answer_end answer_word_end  \\\n",
       "0                  [14]      [133]            [22]   \n",
       "1                  [90]      [609]            [95]   \n",
       "2                  [73]      [540]            [86]   \n",
       "3                  [83]      [548]            [84]   \n",
       "4                  [35]      [271]            [40]   \n",
       "...                 ...        ...             ...   \n",
       "70838               [5]       [39]             [6]   \n",
       "70839              [11]      [109]            [13]   \n",
       "70840              [20]      [170]            [22]   \n",
       "70841              [45]      [322]            [47]   \n",
       "70842              [79]      [534]            [81]   \n",
       "\n",
       "                                             answer_text  \n",
       "0      [enforce the law, protect property, and limit ...  \n",
       "1           [military units charged with civil policing]  \n",
       "2      [military or other organizations involved in t...  \n",
       "3                                        [through taxes]  \n",
       "4                   [late 18th and early 19th centuries]  \n",
       "...                                                  ...  \n",
       "70838                                      [\"non\" words]  \n",
       "70839               [new, positive-sounding terminology]  \n",
       "70840                       [civil society organization]  \n",
       "70841                      [citizen sector organization]  \n",
       "70842                      [Social Benefit Organization]  \n",
       "\n",
       "[70843 rows x 8 columns]"
      ]
     },
     "execution_count": 11,
     "metadata": {},
     "output_type": "execute_result"
    }
   ],
   "source": [
    "train_df"
   ]
  },
  {
   "cell_type": "markdown",
   "id": "4e7bcbc5",
   "metadata": {},
   "source": [
    "### Clean and transform data"
   ]
  },
  {
   "cell_type": "markdown",
   "id": "f21fd72d",
   "metadata": {},
   "source": [
    "#### Clean text"
   ]
  },
  {
   "cell_type": "code",
   "execution_count": 12,
   "id": "eae2f69a",
   "metadata": {},
   "outputs": [
    {
     "name": "stderr",
     "output_type": "stream",
     "text": [
      "[nltk_data] Downloading package wordnet to\n",
      "[nltk_data]     /Users/andreastettejessen/nltk_data...\n",
      "[nltk_data]   Package wordnet is already up-to-date!\n"
     ]
    }
   ],
   "source": [
    "lemmatizer = WordNetLemmatizer()\n",
    "nltk.download('wordnet')\n",
    "\n",
    "REPLACE_BY_SPACE_RE = re.compile('[/(){}\\[\\]\\|@,;]')\n",
    "GOOD_SYMBOLS_RE = re.compile('[^0-9a-z #+_]')\n",
    "try:\n",
    "    STOPWORDS = set(stopwords.words('english'))\n",
    "except LookupError:\n",
    "    nltk.download('stopwords')\n",
    "    STOPWORDS = set(stopwords.words('english'))\n",
    "\n",
    "\n",
    "\n",
    "def lower(text: str) -> str:\n",
    "    \"\"\"\n",
    "    Transforms given text to lower case.\n",
    "    Example:\n",
    "    Input: 'I really like New York city'\n",
    "    Output: 'i really like new your city'\n",
    "    \"\"\"\n",
    "\n",
    "    return text.lower()\n",
    "\n",
    "def replace_special_characters(text: str) -> str:\n",
    "    \"\"\"\n",
    "    Replaces special characters, such as paranthesis,\n",
    "    with spacing character\n",
    "    \"\"\"\n",
    "\n",
    "    return REPLACE_BY_SPACE_RE.sub(' ', text)\n",
    "\n",
    "def filter_out_uncommon_symbols(text: str) -> str:\n",
    "    \"\"\"\n",
    "    Removes any special character that is not in the\n",
    "    good symbols list (check regular expression)\n",
    "    \"\"\"\n",
    "\n",
    "    return GOOD_SYMBOLS_RE.sub('', text)\n",
    "\n",
    "def remove_stopwords(text: str) -> str:\n",
    "    return ' '.join([x for x in text.split() if x and x not in STOPWORDS])\n",
    "\n",
    "def strip_text(text: str) -> str:\n",
    "    \"\"\"\n",
    "    Removes any left or right spacing (including carriage return) from text.\n",
    "    Example:\n",
    "    Input: '  This assignment is cool\\n'\n",
    "    Output: 'This assignment is cool'\n",
    "    \"\"\"\n",
    "\n",
    "    return text.strip()    \n",
    "\n",
    "def lemmatize_words(text: str ) -> str:\n",
    "    return \" \".join([lemmatizer.lemmatize(word) for word in text.split()])\n",
    "\n",
    "PREPROCESSING_PIPELINE = [\n",
    "                          lower,\n",
    "                          strip_text\n",
    "                          ]\n",
    "\n",
    "def text_prepare(text: str,\n",
    "                 filter_methods: List[Callable[[str], str]] = None) -> str:\n",
    "    \"\"\"\n",
    "    Applies a list of pre-processing functions in sequence (reduce).\n",
    "    Note that the order is important here!\n",
    "    \"\"\"\n",
    "\n",
    "    filter_methods = filter_methods if filter_methods is not None else PREPROCESSING_PIPELINE\n",
    "    if type(text) == list:\n",
    "        new_row = [reduce(lambda txt, f: f(txt), filter_methods, x) for x in text]\n",
    "    else:\n",
    "        new_row = reduce(lambda txt, f: f(txt), filter_methods, text)\n",
    "    return new_row"
   ]
  },
  {
   "cell_type": "code",
   "execution_count": 13,
   "id": "7f8f8fcc",
   "metadata": {},
   "outputs": [],
   "source": [
    "to_be_cleaned = [\"context\", \"question\", \"answer_text\"]\n",
    "for key in to_be_cleaned:\n",
    "    train_df[key] = train_df[key].apply(lambda txt: text_prepare(txt))\n",
    "    val_df[key] = val_df[key].apply(lambda txt: text_prepare(txt))\n",
    "    test_df[key] = test_df[key].apply(lambda txt: text_prepare(txt))\n",
    "    "
   ]
  },
  {
   "cell_type": "markdown",
   "id": "cd709782",
   "metadata": {},
   "source": [
    "#### Make tokenixer"
   ]
  },
  {
   "cell_type": "markdown",
   "id": "7806c773",
   "metadata": {},
   "source": [
    "###### THINGS TO THINK ABOUT\n",
    "- Now its the padding is exstream! The questions has to be 3706 caracters long!\n",
    "- We are only fitting on text the train context and questions. Should this also be done for val/train?\n",
    "- Preprocessing is only lowering the words. Should we do more, like removing stopwords? In that case we need to consider the answer_start index. This has to be corrected after removal of carachters\n",
    "- OOV are handeled with index 1 and will all have weights 0 in the beginning. is this correct?\n"
   ]
  },
  {
   "cell_type": "code",
   "execution_count": 14,
   "id": "bbb6c3bd",
   "metadata": {},
   "outputs": [],
   "source": [
    "# The tokenizer will have an index 1 for OOV words. A lot of words in test and val will be 1.\n",
    "tokenizer = Tokenizer(oov_token=1)\n",
    "\n",
    "tokenizer.fit_on_texts(train_df[\"context\"])\n",
    "tokenizer.fit_on_texts(train_df[\"question\"])"
   ]
  },
  {
   "cell_type": "code",
   "execution_count": 15,
   "id": "6bc851ee",
   "metadata": {},
   "outputs": [],
   "source": [
    "# Find max sentence lenght for the context\n",
    "MAX_SEQ_LEN = np.max([len(row.split(' ')) for row in train_df[\"context\"]])"
   ]
  },
  {
   "cell_type": "code",
   "execution_count": 16,
   "id": "6d428503",
   "metadata": {},
   "outputs": [
    {
     "data": {
      "text/plain": [
       "562"
      ]
     },
     "execution_count": 16,
     "metadata": {},
     "output_type": "execute_result"
    }
   ],
   "source": [
    "MAX_SEQ_LEN"
   ]
  },
  {
   "cell_type": "code",
   "execution_count": 17,
   "id": "175d5732",
   "metadata": {},
   "outputs": [],
   "source": [
    "def textToTensor(tokenizer, max_len, text):\n",
    "    '''\n",
    "        Converts text to tensors by converting the words into the correct indexes. \n",
    "        Then padds the tensors with 0 vlaues\n",
    "    '''\n",
    "    seq = tokenizer.texts_to_sequences(text)\n",
    "    padded = pad_sequences(sequences=seq, maxlen=max_len, padding='post')\n",
    "    return padded"
   ]
  },
  {
   "cell_type": "code",
   "execution_count": 18,
   "id": "abf2d75d",
   "metadata": {},
   "outputs": [],
   "source": [
    "context_train = textToTensor(tokenizer, MAX_SEQ_LEN, train_df[\"context\"])\n",
    "question_train = textToTensor(tokenizer, MAX_SEQ_LEN, train_df[\"question\"])\n",
    "\n",
    "context_val = textToTensor(tokenizer, MAX_SEQ_LEN, val_df[\"context\"])\n",
    "question_val = textToTensor(tokenizer, MAX_SEQ_LEN, val_df[\"question\"])\n",
    "\n",
    "context_test = textToTensor(tokenizer, MAX_SEQ_LEN, test_df[\"context\"])\n",
    "question_test = textToTensor(tokenizer, MAX_SEQ_LEN, test_df[\"question\"])"
   ]
  },
  {
   "cell_type": "code",
   "execution_count": 19,
   "id": "002a7459",
   "metadata": {},
   "outputs": [],
   "source": [
    "# Takes only the first answer: simplification\n",
    "# Can do this because we know there are only one answer for each question in our dataset\n",
    "# Might need to change this\n",
    "index_start_train = to_categorical(np.array(train_df[\"answer_word_start\"].str[0]), num_classes=MAX_SEQ_LEN)\n",
    "index_end_train = to_categorical(np.array(train_df[\"answer_word_end\"].str[0]), num_classes=MAX_SEQ_LEN)\n",
    "\n",
    "index_start_val = to_categorical(np.array(val_df[\"answer_word_start\"].str[0]), num_classes=MAX_SEQ_LEN)\n",
    "index_end_val = to_categorical(np.array(val_df[\"answer_word_end\"].str[0]), num_classes=MAX_SEQ_LEN)\n",
    "\n",
    "index_start_test = np.array(train_df[\"answer_word_start\"].str[0])\n",
    "index_end_test = np.array(train_df[\"answer_word_end\"].str[0])"
   ]
  },
  {
   "cell_type": "code",
   "execution_count": 20,
   "id": "97970acb",
   "metadata": {},
   "outputs": [],
   "source": [
    "# Find size of vocabulary\n",
    "VOCABULARY_SIZE = len(tokenizer.word_index) + 1"
   ]
  },
  {
   "cell_type": "markdown",
   "id": "d14113eb",
   "metadata": {},
   "source": [
    "#### Applying glove"
   ]
  },
  {
   "cell_type": "code",
   "execution_count": 21,
   "id": "5ade4fe3",
   "metadata": {},
   "outputs": [],
   "source": [
    "import gensim \n",
    "import gensim.downloader as gloader\n",
    "\n",
    "def load_embedding_model(embedding_dimension: int = 50) -> gensim.models.keyedvectors.KeyedVectors:\n",
    "    download_path = \"glove-wiki-gigaword-{}\".format(embedding_dimension)\n",
    "    # Check download\n",
    "    try:\n",
    "        emb_model = gloader.load(download_path)\n",
    "    except ValueError as e:\n",
    "        print(\"Invalid embedding model name! Check the embedding dimension:\")\n",
    "        print(\"Word2Vec: 300\")\n",
    "        print(\"Glove: 50, 100, 200, 300\")\n",
    "        raise e\n",
    "\n",
    "    return emb_model\n",
    "    \n",
    "def create_embedding_matrix(embedding_model, embedding_dimension, word_to_idx):\n",
    "    embedding_matrix = np.zeros((len(word_to_idx)+1, embedding_dimension), dtype=np.float32)\n",
    "    for word, idx in word_to_idx.items():\n",
    "        try:\n",
    "            embedding_vector = embedding_model[word]\n",
    "        except (KeyError, TypeError):\n",
    "            embedding_vector = np.random.uniform(low=-0.05, high=0.05, size=embedding_dimension)\n",
    "\n",
    "        embedding_matrix[idx] = embedding_vector\n",
    "                                \n",
    "    return embedding_matrix\n"
   ]
  },
  {
   "cell_type": "code",
   "execution_count": 22,
   "id": "5c6a3717",
   "metadata": {},
   "outputs": [
    {
     "data": {
      "text/plain": [
       "(81463, 50)"
      ]
     },
     "execution_count": 22,
     "metadata": {},
     "output_type": "execute_result"
    }
   ],
   "source": [
    "embedding_dimension = 50\n",
    "\n",
    "embedding_model = load_embedding_model(embedding_dimension)\n",
    "embedding_matrix = create_embedding_matrix(embedding_model, embedding_dimension, tokenizer.word_index)\n",
    "embedding_matrix.shape"
   ]
  },
  {
   "cell_type": "markdown",
   "id": "35d1d9ba",
   "metadata": {},
   "source": [
    "## Create model"
   ]
  },
  {
   "cell_type": "markdown",
   "id": "72e0fcee",
   "metadata": {},
   "source": [
    "### Define layers"
   ]
  },
  {
   "cell_type": "markdown",
   "id": "52146b3f",
   "metadata": {},
   "source": [
    "##### Similarity matrix"
   ]
  },
  {
   "cell_type": "code",
   "execution_count": 23,
   "id": "e4a3266a",
   "metadata": {},
   "outputs": [],
   "source": [
    "class Similarity(Layer):\n",
    "\n",
    "    def __init__(self, **kwargs):\n",
    "        super(Similarity, self).__init__(**kwargs)\n",
    "    \n",
    "    def build(self, input_shape):\n",
    "        shape = input_shape[0][-1]*3\n",
    "        self.kernel = self.add_weight(name='similarity_weight',\n",
    "                                        shape=(shape, 1),\n",
    "                                        initializer='uniform',\n",
    "                                        trainable=True)\n",
    "        super(Similarity, self).build(input_shape)\n",
    "    def get_kernel(self):\n",
    "        return self.kernel\n",
    "    \n",
    "    def call(self, inputs):\n",
    "        A, B = inputs\n",
    "        A_dim_repeat = K.concatenate([[1, 1], [A.shape[1]], [1]], 0)\n",
    "        B_dim_repeat = K.concatenate([[1], [B.shape[1]], [1, 1]], 0)\n",
    "        A_repeated = K.tile(K.expand_dims(A, axis=2), A_dim_repeat)\n",
    "        B_repeated = K.tile(K.expand_dims(B, axis=1), B_dim_repeat)\n",
    "        element_wise_multiplication = A_repeated * B_repeated\n",
    "        concated = K.concatenate([A_repeated, B_repeated, element_wise_multiplication], axis=-1)\n",
    "        dot= K.dot(concated, self.kernel)\n",
    "        dot_product = K.squeeze(dot, axis=-1)\n",
    "        return dot_product\n",
    "\n",
    "    def compute_output_shape(self, input_shape):\n",
    "        batch_size = input_shape[0][0]\n",
    "        num_context_words = input_shape[0][1]\n",
    "        num_query_words = input_shape[1][1]\n",
    "        return (batch_size, num_context_words, num_query_words)"
   ]
  },
  {
   "cell_type": "markdown",
   "id": "f4b91594",
   "metadata": {},
   "source": [
    "##### C2q"
   ]
  },
  {
   "cell_type": "code",
   "execution_count": 24,
   "id": "db4b9e58",
   "metadata": {},
   "outputs": [],
   "source": [
    "class Context2QuestionAttention(Layer):\n",
    "    '''\n",
    "    A = Take row-wise softmax of the similarity matrix\n",
    "    Û = For every row in A (softmaxed similarity matrix), A_t:\n",
    "        Multiply every element in A_t calculate the weighted sum of the question matrix. \n",
    "        (The weigths will be the elements in A_t)\n",
    "    Input: Question matrix and similarity matrix\n",
    "    '''\n",
    "    def __init__(self, **kwargs):\n",
    "        super(Context2QuestionAttention, self).__init__(**kwargs)\n",
    "    \n",
    "    def build(self, input_shape):\n",
    "        super(Context2QuestionAttention, self).build(input_shape)\n",
    "    \n",
    "    def call(self, inputs):\n",
    "        question_encoding, similarity_matrix, mask = inputs\n",
    "\n",
    "        masked_inp = tf.where(mask>0, similarity_matrix, tf.float64.min)\n",
    "        # Take only soft max on non padded values\n",
    "        softmax_similarity_matrix1 = Softmax(axis=-1)(masked_inp)\n",
    "        softmax_similarity_matrix = tf.where(tf.math.is_nan(softmax_similarity_matrix1)!=True, softmax_similarity_matrix1, 0)\n",
    "\n",
    "        question_encoding_expand = K.expand_dims(question_encoding, axis=1)\n",
    "        softmax_similarity_matrix_expand = K.expand_dims(softmax_similarity_matrix, axis=-1)\n",
    "        product = softmax_similarity_matrix_expand*question_encoding_expand\n",
    "        summ = K.sum(product, axis=-2)\n",
    "        \n",
    "        return summ\n",
    "\n",
    "    def compute_output_shape(self, input_shape):\n",
    "        question_encoding_shape, _ = input_shape\n",
    "        batch_size = question_encoding_shape[0]\n",
    "        max_seq_len = question_encoding_shape[1]\n",
    "        embedding_dim = question_encoding_shape[2]\n",
    "        return (batch_size,max_seq_len, embedding_dim)"
   ]
  },
  {
   "cell_type": "markdown",
   "id": "3cc5871f",
   "metadata": {},
   "source": [
    "##### q2c"
   ]
  },
  {
   "cell_type": "code",
   "execution_count": 25,
   "id": "5acee72e",
   "metadata": {},
   "outputs": [],
   "source": [
    "class Question2ContextAttention(Layer):\n",
    "    '''\n",
    "    Similraity matrix [max_seq_len, max_seq_len]\n",
    "    Z = maximum across each row of the similarity matrix [max_seq_len, 1]\n",
    "    b = softmax on Z to get attention distribution (max_seq_len, 1)\n",
    "    ^h = Use b to take a weigthed sum of the contex matrix H (max_seq_len, 1)\n",
    "    ^H = ^h dubplicated max_seq_len times (max_seq_len, max_seq_len)\n",
    "    '''\n",
    "    \n",
    "    def __init__(self, **kwargs):\n",
    "        super(Question2ContextAttention, self).__init__(**kwargs)\n",
    "    \n",
    "    def build(self, input_shape):\n",
    "        super(Question2ContextAttention, self).build(input_shape)\n",
    "    \n",
    "    def call(self, inputs):\n",
    "        context_encoding, similarity_matrix, mask = inputs\n",
    "\n",
    "        masked_inp = tf.where(mask>0, similarity_matrix, 0)\n",
    "        max_sim_matrix = K.max(masked_inp, axis=-1) # K.max also squeezes\n",
    "        # Take only softmax on non padded vlaues\n",
    "        masked_inp2 = tf.where(max_sim_matrix!=0, max_sim_matrix, tf.float64.min)\n",
    "        softmax_similarity_matrix = Softmax(axis=-1)(masked_inp2)\n",
    "        softmax_similarity_matrix = tf.where(tf.math.is_nan(softmax_similarity_matrix)!=True, softmax_similarity_matrix, 0)\n",
    "\n",
    "        softmax_similarity_matrix_expand = K.expand_dims(softmax_similarity_matrix, axis=-1)\n",
    "        product = softmax_similarity_matrix_expand*context_encoding\n",
    "        weighted_sum = K.sum(product, axis=-2)\n",
    "        # Expand dimensions, so that vector can be repeated\n",
    "        expanded_weighted_sum = K.expand_dims(weighted_sum, 1)\n",
    "        # get max_seq_len\n",
    "        max_seq_len = K.shape(context_encoding)[1]\n",
    "        # repeat vector for max seq length to make matrix\n",
    "        question2context_attention = K.tile(expanded_weighted_sum, [1, max_seq_len, 1])\n",
    "        return question2context_attention\n",
    "\n",
    "    def compute_output_shape(self, input_shape):\n",
    "        batch_size = input_shape[0][0]\n",
    "        num_context_words = input_shape[0][1]\n",
    "        num_query_words = input_shape[1][1]\n",
    "        return (batch_size, num_context_words, num_query_words)"
   ]
  },
  {
   "cell_type": "markdown",
   "id": "005817f6",
   "metadata": {},
   "source": [
    "##### Mega merge"
   ]
  },
  {
   "cell_type": "code",
   "execution_count": 26,
   "id": "26586890",
   "metadata": {},
   "outputs": [],
   "source": [
    "class MegaMerge(Layer):\n",
    "    '''\n",
    "    For each word in max_seqence_length (T):\n",
    "        cu = context elementwise multiply with Û (c2q) (2d, T)\n",
    "        ch = context elementwise multiply with ^H (q2c) (2d, T)\n",
    "        Stack for each column context, Û, cu, ch. [8*embedding_dim, 1]\n",
    "    Output:\n",
    "    mega_merge (8d, T)\n",
    "\n",
    "    '''\n",
    "    \n",
    "    def __init__(self, **kwargs):\n",
    "        super(MegaMerge, self).__init__(**kwargs)\n",
    "    \n",
    "    def build(self, input_shape):\n",
    "        super(MegaMerge, self).build(input_shape)\n",
    "    \n",
    "    def call(self, inputs):\n",
    "        context_encoding, context2question_attention, question2context_attention = inputs\n",
    "\n",
    "        element_wise_multiply1 = context_encoding * context2question_attention\n",
    "        element_wise_multiply2 = context_encoding * question2context_attention\n",
    "\n",
    "        mega_merge = K.concatenate([context_encoding, context2question_attention, element_wise_multiply1, element_wise_multiply2], axis=-1)\n",
    "        return mega_merge\n",
    "\n",
    "    def compute_output_shape(self, input_shape):\n",
    "        context_encoding_shape , _, _ = input_shape\n",
    "        batch_size = context_encoding_shape[0]\n",
    "        max_seq_len = context_encoding_shape[1]\n",
    "        embedding_dim2 = context_encoding_shape[2]\n",
    "        return (batch_size, max_seq_len, embedding_dim2*4)"
   ]
  },
  {
   "cell_type": "markdown",
   "id": "fe85d948",
   "metadata": {},
   "source": [
    "##### Output layer start"
   ]
  },
  {
   "cell_type": "code",
   "execution_count": 27,
   "id": "024311f9",
   "metadata": {},
   "outputs": [],
   "source": [
    "class StartOutput(Layer):\n",
    "    '''\n",
    "    1. super merge = Concatenate first hidden_layer(T,2d) with Mega merge(T,8d)\n",
    "    Make trainable weigths (10d, 1)\n",
    "    2. dotted = Dotproduct with trainable weigths and super merge (T,1)\n",
    "    3. out = Softmax the dotted vector (T,1)\n",
    "    Output:\n",
    "    out (T,1)\n",
    "\n",
    "    '''\n",
    "    \n",
    "    def __init__(self, **kwargs):\n",
    "        super(StartOutput, self).__init__(**kwargs)\n",
    "    \n",
    "    def build(self, input_shape):\n",
    "        shape = input_shape[0][-1]*5 # want 10*embedding dimention\n",
    "        self.kernel = self.add_weight(name='startOutput_weight',\n",
    "                                        shape=(shape, 1),\n",
    "                                        initializer='uniform',\n",
    "                                        trainable=True)\n",
    "        super(StartOutput, self).build(input_shape)\n",
    "    \n",
    "    def call(self, inputs):\n",
    "        hidden_layer, mega_merge, mask = inputs\n",
    "\n",
    "        super_merge = K.concatenate([mega_merge, hidden_layer])\n",
    "        dotted = K.squeeze(K.dot(super_merge, self.kernel), axis=-1)\n",
    "        masked_inp = tf.where(mask!=False, dotted, tf.float64.min)\n",
    "        # OBS try without mask stuff. With mask change dotted to be masked_inp\n",
    "        soft_max_dotted = Softmax(axis=-1)(masked_inp)\n",
    "        return soft_max_dotted\n",
    "\n",
    "    def compute_output_shape(self, input_shape):\n",
    "        hidden_layer , _, _ = input_shape\n",
    "        batch_size = hidden_layer[0]\n",
    "        max_seq_len = hidden_layer[1]\n",
    "        return (batch_size, max_seq_len, 1)"
   ]
  },
  {
   "cell_type": "code",
   "execution_count": 28,
   "id": "a4585190",
   "metadata": {},
   "outputs": [],
   "source": [
    "class EndOutput(Layer):\n",
    "    '''\n",
    "    1. super merge = Concatenate second hidden layer with Mega merge\n",
    "    Make trainable weigths (10d, 1)\n",
    "    2. dotted = Dotproduct with trainable weigths and super merge (T,1)\n",
    "    3. out = Softmax the dotted vector (T,1)\n",
    "    Output:\n",
    "    out (T,1)\n",
    "\n",
    "    '''\n",
    "    \n",
    "    def __init__(self, **kwargs):\n",
    "        super(EndOutput, self).__init__(**kwargs)\n",
    "    \n",
    "    def build(self, input_shape):\n",
    "        shape = input_shape[0][-1]*5 # want 10*embedding dimention\n",
    "        self.kernel = self.add_weight(name='endOutput_weight',\n",
    "                                        shape=(shape, 1),\n",
    "                                        initializer='uniform',\n",
    "                                        trainable=True)\n",
    "        super(EndOutput, self).build(input_shape)\n",
    "    \n",
    "    def call(self, inputs):\n",
    "        hidden_layer, mega_merge, mask = inputs\n",
    "        super_merge = K.concatenate([mega_merge, hidden_layer])\n",
    "\n",
    "        dotted = K.squeeze(K.dot(super_merge, self.kernel), axis=-1)\n",
    "        masked_inp = tf.where(mask!=False, dotted, tf.float64.min)\n",
    "        # OBS try without mask stuff. With mask change dotted to be masked_inp\n",
    "        soft_max_dotted = Softmax(axis=-1)(masked_inp)\n",
    "        return soft_max_dotted\n",
    "\n",
    "    def compute_output_shape(self, input_shape):\n",
    "        hidden_layer , _, _ = input_shape\n",
    "        batch_size = hidden_layer[0]\n",
    "        max_seq_len = hidden_layer[1]\n",
    "        return (batch_size, max_seq_len, 1)"
   ]
  },
  {
   "cell_type": "markdown",
   "id": "4d13737a",
   "metadata": {},
   "source": [
    "### Create model"
   ]
  },
  {
   "cell_type": "code",
   "execution_count": 29,
   "id": "69cb3a49",
   "metadata": {},
   "outputs": [],
   "source": [
    "def create_model(max_tokens, vocab_size, embedding_dimension):\n",
    "    '''\n",
    "        Creates keras model for classification.\n",
    "        Inputs: \n",
    "            max_tokens (int): Max length of a text sequence\n",
    "            vocab_size (int): Size of the vocabulary\n",
    "            embedding_dimension (int): The dimension of the embedding vectors\n",
    "    '''   \n",
    "\n",
    "    #-------------------------- Input layer ------------------------------------------------------------\n",
    "    question_input = Input(shape=(max_tokens, ))\n",
    "    context_input = Input(shape=(max_tokens, ))\n",
    "    #-----------------------------------------------------------------------------------------------------\n",
    "\n",
    "    #-------------------------- Word embedding ------------------------------------------------------------\n",
    "    question_embedding = Embedding(vocab_size, embedding_dimension, weights = [embedding_matrix], name='WordEmbedding_question', trainable = False, mask_zero = True)(question_input)\n",
    "    context_embedding = Embedding(vocab_size, embedding_dimension, weights = [embedding_matrix], name='WordEmbedding_context', trainable = False, mask_zero = True)(context_input)\n",
    "    #-----------------------------------------------------------------------------------------------------\n",
    "\n",
    "    #-------------------------- Encoding/sentence embedding -------------------------------------------------------\n",
    "    # Encode token sequences with bi-directional LSTM and concatenate the series of hidden vectors (done by default)\n",
    "    question_encoding = Bidirectional(LSTM(embedding_dimension, return_sequences=True, name='SentenceEmbedding_claims'))(question_embedding)\n",
    "    context_encoding = Bidirectional(LSTM(embedding_dimension, return_sequences=True, name='SentenceEmbedding_evidence'))(context_embedding)\n",
    "    #-----------------------------------------------------------------------------------------------------\n",
    "    \n",
    "    # OBS addef the mask to remove padding\n",
    "    emb = Embedding(vocab_size, embedding_dimension, weights = [embedding_matrix], name='WordEmbedding_context', trainable = False, mask_zero = True)\n",
    "    \n",
    "    mask_question = emb.compute_mask(question_input)\n",
    "    mask_context = emb.compute_mask(context_input)\n",
    "\n",
    "    mask_question_int = tf.cast(mask_question, tf.float32)\n",
    "    mask_context_int = tf.cast(mask_context, tf.float32)\n",
    "\n",
    "    mask_question_expand = tf.expand_dims(mask_question_int, 1)\n",
    "    mask_context_expand = tf.expand_dims(mask_context_int, 2)\n",
    "\n",
    "    combined_mask = mask_context_expand * mask_question_expand\n",
    "\n",
    "    #-------------------------- Similarity ------------------------------------------------------------\n",
    "    similarity_layer = Similarity()\n",
    "    similarity_matrix = similarity_layer([question_encoding, context_encoding])\n",
    "\n",
    "    # Replacing values in similarity matrix where context is padding \n",
    "    masked_similarity_matrix = tf.where(combined_mask>0, similarity_matrix, 0)\n",
    "    #-------------------------- Attention ------------------------------------------------------------\n",
    "    c2q = Context2QuestionAttention()\n",
    "    context2question_attention = c2q([question_encoding, masked_similarity_matrix, combined_mask])\n",
    "\n",
    "    q2c = Question2ContextAttention()\n",
    "    question2context_attention = q2c([context_encoding, masked_similarity_matrix, combined_mask])\n",
    "    #-----------------------------------------------------------------------------------------------------\n",
    "\n",
    "    #-------------------------- Megamerge --------------------------------------------------------------\n",
    "    mm = MegaMerge()\n",
    "    mega_merge = mm([context_encoding, context2question_attention, question2context_attention])\n",
    "\n",
    "    #-------------------------- Model layer --------------------------------------------------------------\n",
    "    hidden_layer = Bidirectional(LSTM(embedding_dimension, return_sequences=True))(mega_merge)\n",
    "    hidden_layer2 = Bidirectional(LSTM(embedding_dimension, return_sequences=True))(hidden_layer)\n",
    "    #-----------------------------------------------------------------------------------------------------\n",
    "\n",
    "    #-------------------------- Output layer -------------------------------------------------------------\n",
    "    start_out_model = StartOutput(name=\"start_output\")\n",
    "    start_probabilities = start_out_model([hidden_layer, mega_merge, mask_context])\n",
    "\n",
    "    end_out_model = EndOutput(name=\"end_output\")\n",
    "    end_probabilities = end_out_model([hidden_layer2, mega_merge, mask_context])\n",
    "\n",
    "    return Model(inputs=[question_input, context_input], outputs=[start_probabilities, end_probabilities])\n"
   ]
  },
  {
   "cell_type": "code",
   "execution_count": 30,
   "id": "7c1467a3",
   "metadata": {},
   "outputs": [
    {
     "name": "stdout",
     "output_type": "stream",
     "text": [
      "Model: \"model\"\n",
      "__________________________________________________________________________________________________\n",
      " Layer (type)                   Output Shape         Param #     Connected to                     \n",
      "==================================================================================================\n",
      " input_2 (InputLayer)           [(None, 562)]        0           []                               \n",
      "                                                                                                  \n",
      " input_1 (InputLayer)           [(None, 562)]        0           []                               \n",
      "                                                                                                  \n",
      " tf.math.not_equal_1 (TFOpLambd  (None, 562)         0           ['input_2[0][0]']                \n",
      " a)                                                                                               \n",
      "                                                                                                  \n",
      " tf.math.not_equal (TFOpLambda)  (None, 562)         0           ['input_1[0][0]']                \n",
      "                                                                                                  \n",
      " tf.cast_1 (TFOpLambda)         (None, 562)          0           ['tf.math.not_equal_1[0][0]']    \n",
      "                                                                                                  \n",
      " tf.cast (TFOpLambda)           (None, 562)          0           ['tf.math.not_equal[0][0]']      \n",
      "                                                                                                  \n",
      " WordEmbedding_context (Embeddi  (None, 562, 50)     4073150     ['input_2[0][0]']                \n",
      " ng)                                                                                              \n",
      "                                                                                                  \n",
      " WordEmbedding_question (Embedd  (None, 562, 50)     4073150     ['input_1[0][0]']                \n",
      " ing)                                                                                             \n",
      "                                                                                                  \n",
      " tf.expand_dims_1 (TFOpLambda)  (None, 562, 1)       0           ['tf.cast_1[0][0]']              \n",
      "                                                                                                  \n",
      " tf.expand_dims (TFOpLambda)    (None, 1, 562)       0           ['tf.cast[0][0]']                \n",
      "                                                                                                  \n",
      " bidirectional_1 (Bidirectional  (None, 562, 100)    40400       ['WordEmbedding_context[0][0]']  \n",
      " )                                                                                                \n",
      "                                                                                                  \n",
      " bidirectional (Bidirectional)  (None, 562, 100)     40400       ['WordEmbedding_question[0][0]'] \n",
      "                                                                                                  \n",
      " tf.math.multiply (TFOpLambda)  (None, 562, 562)     0           ['tf.expand_dims_1[0][0]',       \n",
      "                                                                  'tf.expand_dims[0][0]']         \n",
      "                                                                                                  \n",
      " tf.math.greater (TFOpLambda)   (None, 562, 562)     0           ['tf.math.multiply[0][0]']       \n",
      "                                                                                                  \n",
      " similarity (Similarity)        (None, 562, 562)     300         ['bidirectional[0][0]',          \n",
      "                                                                  'bidirectional_1[0][0]']        \n",
      "                                                                                                  \n",
      " tf.where (TFOpLambda)          (None, 562, 562)     0           ['tf.math.greater[0][0]',        \n",
      "                                                                  'similarity[0][0]']             \n",
      "                                                                                                  \n",
      " context2_question_attention (C  (None, 562, 100)    0           ['bidirectional[0][0]',          \n",
      " ontext2QuestionAttention)                                        'tf.where[0][0]',               \n",
      "                                                                  'tf.math.multiply[0][0]']       \n",
      "                                                                                                  \n",
      " question2_context_attention (Q  (None, 562, 100)    0           ['bidirectional_1[0][0]',        \n",
      " uestion2ContextAttention)                                        'tf.where[0][0]',               \n",
      "                                                                  'tf.math.multiply[0][0]']       \n",
      "                                                                                                  \n",
      " mega_merge (MegaMerge)         (None, 562, 400)     0           ['bidirectional_1[0][0]',        \n",
      "                                                                  'context2_question_attention[0][\n",
      "                                                                 0]',                             \n",
      "                                                                  'question2_context_attention[0][\n",
      "                                                                 0]']                             \n",
      "                                                                                                  \n",
      " bidirectional_2 (Bidirectional  (None, 562, 100)    180400      ['mega_merge[0][0]']             \n",
      " )                                                                                                \n",
      "                                                                                                  \n",
      " bidirectional_3 (Bidirectional  (None, 562, 100)    60400       ['bidirectional_2[0][0]']        \n",
      " )                                                                                                \n",
      "                                                                                                  \n",
      " start_output (StartOutput)     (None, 562)          500         ['bidirectional_2[0][0]',        \n",
      "                                                                  'mega_merge[0][0]',             \n",
      "                                                                  'tf.math.not_equal_1[0][0]']    \n",
      "                                                                                                  \n",
      " end_output (EndOutput)         (None, 562)          500         ['bidirectional_3[0][0]',        \n",
      "                                                                  'mega_merge[0][0]',             \n",
      "                                                                  'tf.math.not_equal_1[0][0]']    \n",
      "                                                                                                  \n",
      "==================================================================================================\n",
      "Total params: 8,469,200\n",
      "Trainable params: 322,900\n",
      "Non-trainable params: 8,146,300\n",
      "__________________________________________________________________________________________________\n"
     ]
    }
   ],
   "source": [
    "model = create_model(MAX_SEQ_LEN, VOCABULARY_SIZE, 50)\n",
    "model.summary()"
   ]
  },
  {
   "cell_type": "markdown",
   "id": "636d7b10",
   "metadata": {},
   "source": [
    "## Train"
   ]
  },
  {
   "cell_type": "code",
   "execution_count": 31,
   "id": "cf765654",
   "metadata": {},
   "outputs": [],
   "source": [
    "_EPSILON = 1e-7\n",
    "def categorical_cross_entropy_loss(target, output):\n",
    "    output /= tf.reduce_sum(output, -1, True)\n",
    "    # manual computation of crossentropy\n",
    "    epsilon = K.constant(_EPSILON, output.dtype.base_dtype)\n",
    "    output = tf.clip_by_value(output, epsilon, 1. - epsilon)\n",
    "    return - tf.reduce_sum(target * tf.math.log(output), -1)"
   ]
  },
  {
   "cell_type": "code",
   "execution_count": 32,
   "id": "862b4b4a",
   "metadata": {},
   "outputs": [],
   "source": [
    "losses = {\"start_output\": categorical_cross_entropy_loss, \"end_output\": categorical_cross_entropy_loss}\n",
    "\n",
    "lossWeights = {\"start_output\": 1.0, \"end_output\": 1.0}"
   ]
  },
  {
   "cell_type": "code",
   "execution_count": 33,
   "id": "d764db15",
   "metadata": {},
   "outputs": [],
   "source": [
    "adam = tf.keras.optimizers.Adam(learning_rate=0.001)"
   ]
  },
  {
   "cell_type": "code",
   "execution_count": null,
   "id": "2439b43a",
   "metadata": {},
   "outputs": [
    {
     "name": "stdout",
     "output_type": "stream",
     "text": [
      "Epoch 1/2\n",
      " 101/8856 [..............................] - ETA: 68:40:14 - loss: 9.2665 - start_output_loss: 4.6652 - end_output_loss: 4.6013 - start_output_categorical_accuracy: 0.0371 - end_output_categorical_accuracy: 0.0384"
     ]
    }
   ],
   "source": [
    "model.compile(loss=losses,\n",
    "              loss_weights=lossWeights, \n",
    "              optimizer=adam,\n",
    "              metrics=['categorical_accuracy'])\n",
    "history = model.fit(x=[question_train, context_train], y= {\"start_output\": index_start_train, \"end_output\": index_end_train}, batch_size=8, epochs=2, validation_data=([question_val, context_val], {\"start_output\": index_start_val, \"end_output\": index_end_val}))"
   ]
  },
  {
   "cell_type": "code",
   "execution_count": null,
   "id": "d07a69f8",
   "metadata": {},
   "outputs": [],
   "source": [
    "tf.keras.utils.plot_model(model, show_shapes=True)"
   ]
  },
  {
   "cell_type": "markdown",
   "id": "260bdc41",
   "metadata": {},
   "source": [
    "### Save model"
   ]
  },
  {
   "cell_type": "code",
   "execution_count": null,
   "id": "d4b23d04",
   "metadata": {},
   "outputs": [],
   "source": [
    "def save_history(dir, model_name, history):\n",
    "    path = f'{dir}/{model_name}/history.txt'\n",
    "    print(f'Saving history to {path}')\n",
    "    with open(path, 'w') as file:\n",
    "     file.write(json.dumps(history.history))\n",
    "\n",
    "def save_tokenizer(dir, model_name, tokenizer):\n",
    "    path = f'{dir}/{model_name}/tokenizer.txt'\n",
    "    print(f'Saving tokenizer to {path}')\n",
    "    with open(path, 'w') as file:\n",
    "     file.write(json.dumps(tokenizer.word_index))\n",
    "\n",
    "def save_max_seq_len(dir, model_name, MAX_SEQ_LEN):\n",
    "    path = f'{dir}/{model_name}/MAX_SEQ_LEN.txt'\n",
    "    print(f'Saving max seq len to {path}')\n",
    "    with open(path, 'w') as file:\n",
    "     file.write(json.dumps(MAX_SEQ_LEN))\n",
    "\n",
    "def save_model(model, tokenizer, MAX_SEQ_LEN, history, dir='models'):\n",
    "    '''\n",
    "        Saves model naming it according to sentence embedding merge type and time stamp.\n",
    "    '''\n",
    "    now = datetime.now()\n",
    "    dt_string = now.strftime(\"%d_%m_%Y_%H:%M:%S\")\n",
    "    model_name = f'model_{dt_string}'\n",
    "    path = f'{dir}/{model_name}/model/'\n",
    "    model.save(path)\n",
    "    save_history(dir, model_name, history)\n",
    "    save_tokenizer(dir, model_name, tokenizer)\n",
    "    save_max_seq_len(dir, model_name, MAX_SEQ_LEN)"
   ]
  },
  {
   "cell_type": "code",
   "execution_count": null,
   "id": "97d116c4",
   "metadata": {},
   "outputs": [],
   "source": [
    "save_model(model, tokenizer, MAX_SEQ_LEN, history)"
   ]
  },
  {
   "cell_type": "markdown",
   "id": "1d25a8f4",
   "metadata": {},
   "source": [
    "## Plot accuracy and loss"
   ]
  },
  {
   "cell_type": "markdown",
   "id": "c2be2245",
   "metadata": {},
   "source": [
    "#### Load model history"
   ]
  },
  {
   "cell_type": "code",
   "execution_count": 7,
   "id": "5e1973f5",
   "metadata": {},
   "outputs": [],
   "source": [
    "model_dir = './models/model_23_12_2021_14_08_49'"
   ]
  },
  {
   "cell_type": "code",
   "execution_count": 39,
   "id": "98e18c7d",
   "metadata": {},
   "outputs": [],
   "source": [
    "def load_history(model_dir):\n",
    "    with open(f'{model_dir}/history.txt') as f:\n",
    "        history = json.load(f)\n",
    "    return history\n",
    "\n",
    "history = load_history(model_dir)"
   ]
  },
  {
   "cell_type": "markdown",
   "id": "036a215f",
   "metadata": {},
   "source": [
    "#### Plotting"
   ]
  },
  {
   "cell_type": "code",
   "execution_count": 43,
   "id": "aac54c0a",
   "metadata": {},
   "outputs": [],
   "source": [
    "def plot_accuracy(history):\n",
    "    plt.plot(history['categorical_accuracy'])\n",
    "    plt.plot(history['val_categorical_accuracy'])\n",
    "    plt.title('model accuracy')\n",
    "    plt.ylabel('accuracy')\n",
    "    plt.xlabel('epoch')\n",
    "    plt.legend(['train', 'val'], loc=\"lower right\")\n",
    "    plt.show()\n",
    "    \n",
    "def plot_loss(history):\n",
    "    plt.plot(history['start_output_loss'])\n",
    "    plt.plot(history['end_output_loss'])\n",
    "    plt.plot(history['val_start_output_loss'])\n",
    "    plt.plot(history['val_end_output_loss'])\n",
    "    plt.title('model loss')\n",
    "    plt.ylabel('loss')\n",
    "    plt.xlabel('epoch')\n",
    "    plt.legend(['train_start_output_loss', 'train_end_output_loss', 'val_start_output_loss', 'val_end_output_loss'], loc=\"lower right\")\n",
    "    plt.show()"
   ]
  },
  {
   "cell_type": "code",
   "execution_count": 44,
   "id": "f990c16d",
   "metadata": {},
   "outputs": [
    {
     "data": {
      "image/png": "[encoded data removed]",
      "text/plain": [
       "<Figure size 432x288 with 1 Axes>"
      ]
     },
     "metadata": {
      "needs_background": "light"
     },
     "output_type": "display_data"
    },
    {
     "data": {
      "image/png": "[encoded data removed]",
      "text/plain": [
       "<Figure size 432x288 with 1 Axes>"
      ]
     },
     "metadata": {
      "needs_background": "light"
     },
     "output_type": "display_data"
    }
   ],
   "source": [
    "plot_loss(history)\n",
    "plot_accuracy(history)"
   ]
  }
 ],
 "metadata": {
  "kernelspec": {
   "display_name": "Python 3",
   "language": "python",
   "name": "python3"
  },
  "language_info": {
   "codemirror_mode": {
    "name": "ipython",
    "version": 3
   },
   "file_extension": ".py",
   "mimetype": "text/x-python",
   "name": "python",
   "nbconvert_exporter": "python",
   "pygments_lexer": "ipython3",
   "version": "3.9.4"
  }
 },
 "nbformat": 4,
 "nbformat_minor": 5
}
