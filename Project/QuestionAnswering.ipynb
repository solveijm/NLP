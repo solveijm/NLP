{
 "cells": [
  {
   "cell_type": "markdown",
   "id": "538e1dc1",
   "metadata": {},
   "source": [
    "## Questing Answering on SQuAD dataset"
   ]
  },
  {
   "cell_type": "markdown",
   "id": "b75a0f04",
   "metadata": {},
   "source": [
    "### Import libraries"
   ]
  },
  {
   "cell_type": "code",
   "execution_count": 1,
   "id": "60f4b439",
   "metadata": {},
   "outputs": [],
   "source": [
    "import json\n",
    "import pandas as pd\n",
    "import os\n",
    "import random\n",
    "\n",
    "import re\n",
    "from functools import reduce\n",
    "import nltk\n",
    "from nltk.corpus import stopwords\n",
    "from typing import List, Callable, Dict\n",
    "from nltk.stem import WordNetLemmatizer\n",
    "\n",
    "from datetime import datetime\n",
    "import keras\n",
    "from keras import backend as K\n",
    "from keras.layers import Concatenate, Lambda, LSTM, Reshape, Dense, Embedding, Average, Reshape, Flatten, Input, Add, Bidirectional, TimeDistributed, Softmax\n",
    "from keras.models import Model \n",
    "from keras.preprocessing.sequence import pad_sequences\n",
    "from keras.preprocessing.text import Tokenizer\n",
    "import numpy as np\n",
    "import matplotlib.pyplot as plt\n",
    "import os\n",
    "import pandas as pd\n",
    "import requests\n",
    "import seaborn as sns\n",
    "from sklearn.metrics import accuracy_score, classification_report, confusion_matrix\n",
    "import tensorflow as tf\n",
    "import zipfile\n",
    "from keras.utils.np_utils import to_categorical\n",
    "#from keras.layers.advanced_activations import Softmax\n"
   ]
  },
  {
   "cell_type": "markdown",
   "id": "281664e0",
   "metadata": {},
   "source": [
    "## Data pipeline"
   ]
  },
  {
   "cell_type": "markdown",
   "id": "bac96bfb",
   "metadata": {},
   "source": [
    "#### Load dataset"
   ]
  },
  {
   "cell_type": "code",
   "execution_count": 2,
   "id": "2c7bf748",
   "metadata": {},
   "outputs": [],
   "source": [
    "def load_json(filename=\"training_set.json\", folder=\"SQUAD MATERIAL\"):    \n",
    "    dataset_folder = os.path.join(os.getcwd(), folder)\n",
    "    dataset_path = os.path.join(dataset_folder, filename)\n",
    "    with open(dataset_path) as f:\n",
    "        raw_json = json.load(f)\n",
    "\n",
    "    return raw_json['data']"
   ]
  },
  {
   "cell_type": "code",
   "execution_count": 3,
   "id": "8817a293",
   "metadata": {},
   "outputs": [],
   "source": [
    "data = load_json()"
   ]
  },
  {
   "cell_type": "markdown",
   "id": "28b42106",
   "metadata": {},
   "source": [
    "#### Split dataset into train, val and test sets.\n",
    "Splitting on title, so that all answers and questions in one title are in the same dataset"
   ]
  },
  {
   "cell_type": "code",
   "execution_count": 4,
   "id": "03796a88",
   "metadata": {},
   "outputs": [],
   "source": [
    "def split_dataset(data):\n",
    "    random.shuffle(data)\n",
    "    length_of_dataset = len(data)\n",
    "    train_split = round(0.8*length_of_dataset)\n",
    "    val_split = train_split + round(0.1*length_of_dataset)\n",
    "    train_data = data[:train_split]\n",
    "    val_data = data[train_split:val_split]\n",
    "    test_data = data[val_split:]\n",
    "    return train_data, val_data, test_data"
   ]
  },
  {
   "cell_type": "code",
   "execution_count": 5,
   "id": "1b9e36b2",
   "metadata": {},
   "outputs": [],
   "source": [
    "train_data, val_data, test_data = split_dataset(data)"
   ]
  },
  {
   "cell_type": "markdown",
   "id": "2b38edc2",
   "metadata": {},
   "source": [
    "#### Create dataframe"
   ]
  },
  {
   "cell_type": "code",
   "execution_count": 6,
   "id": "ae626891",
   "metadata": {},
   "outputs": [],
   "source": [
    "def find_word_index(char_idx, context):\n",
    "    return context[0:char_idx].count(' ')"
   ]
  },
  {
   "cell_type": "code",
   "execution_count": 7,
   "id": "d350502e",
   "metadata": {},
   "outputs": [],
   "source": [
    "def create_dataframe(data):\n",
    "    contexts = []\n",
    "    questions = []\n",
    "    answers_text = []\n",
    "    answers_start = []\n",
    "    answers_end = []\n",
    "    question_ids = []\n",
    "    answers_word_start = []\n",
    "    answers_word_end = []\n",
    "    for i in range(len(data)):\n",
    "        paragraphs = data[i]['paragraphs']\n",
    "        for sub_para in paragraphs:\n",
    "            for q_a in sub_para['qas']:\n",
    "                questions.append(q_a['question'])\n",
    "                q_a_answer_starts = []\n",
    "                q_a_answer_ends = []\n",
    "                q_a_answers = []\n",
    "                q_a_ans_word_idx_start = []\n",
    "                q_a_ans_word_idx_end = []\n",
    "\n",
    "                for answer in q_a['answers']:\n",
    "                    answer_end = answer['answer_start'] + len(answer['text'])\n",
    "                    q_a_answer_starts.append(answer['answer_start'])\n",
    "                    q_a_answer_ends.append(answer_end)\n",
    "                    q_a_answers.append(answer['text'])\n",
    "                    q_a_ans_word_idx_start.append(find_word_index(answer['answer_start'], sub_para['context']))\n",
    "                    q_a_ans_word_idx_end.append(find_word_index(answer_end, sub_para['context']))\n",
    "                    \n",
    "                answers_start.append(q_a_answer_starts)\n",
    "                answers_end.append(q_a_answer_ends)\n",
    "                answers_word_start.append(q_a_ans_word_idx_start)                \n",
    "                answers_word_end.append(q_a_ans_word_idx_end)\n",
    "                answers_text.append(q_a_answers)\n",
    "                question_ids.append(q_a['id'])\n",
    "                contexts.append(sub_para['context'])   \n",
    "    df = pd.DataFrame({\"questionID\":question_ids, \"context\":contexts, \"question\": questions, \"answer_start\": answers_start, \"answer_word_start\": answers_word_start, \"answer_end\": answers_end, \"answer_word_end\": answers_word_end, \"answer_text\": answers_text})\n",
    "    return df"
   ]
  },
  {
   "cell_type": "code",
   "execution_count": 8,
   "id": "cbf2971f",
   "metadata": {},
   "outputs": [],
   "source": [
    "train_df = create_dataframe(train_data)\n",
    "val_df = create_dataframe(val_data)\n",
    "test_df = create_dataframe(test_data)"
   ]
  },
  {
   "cell_type": "code",
   "execution_count": 9,
   "id": "fd2d926d",
   "metadata": {},
   "outputs": [
    {
     "data": {
      "text/html": [
       "<div>\n",
       "<style scoped>\n",
       "    .dataframe tbody tr th:only-of-type {\n",
       "        vertical-align: middle;\n",
       "    }\n",
       "\n",
       "    .dataframe tbody tr th {\n",
       "        vertical-align: top;\n",
       "    }\n",
       "\n",
       "    .dataframe thead th {\n",
       "        text-align: right;\n",
       "    }\n",
       "</style>\n",
       "<table border=\"1\" class=\"dataframe\">\n",
       "  <thead>\n",
       "    <tr style=\"text-align: right;\">\n",
       "      <th></th>\n",
       "      <th>questionID</th>\n",
       "      <th>context</th>\n",
       "      <th>question</th>\n",
       "      <th>answer_start</th>\n",
       "      <th>answer_word_start</th>\n",
       "      <th>answer_end</th>\n",
       "      <th>answer_word_end</th>\n",
       "      <th>answer_text</th>\n",
       "    </tr>\n",
       "  </thead>\n",
       "  <tbody>\n",
       "    <tr>\n",
       "      <th>0</th>\n",
       "      <td>56dfb9227aa994140058e079</td>\n",
       "      <td>An Internet service provider (ISP) is an organ...</td>\n",
       "      <td>What does ISP stand for?</td>\n",
       "      <td>[3]</td>\n",
       "      <td>[1]</td>\n",
       "      <td>[28]</td>\n",
       "      <td>[3]</td>\n",
       "      <td>[Internet service provider]</td>\n",
       "    </tr>\n",
       "    <tr>\n",
       "      <th>1</th>\n",
       "      <td>56dfb9227aa994140058e07a</td>\n",
       "      <td>An Internet service provider (ISP) is an organ...</td>\n",
       "      <td>what does an isp do?</td>\n",
       "      <td>[59]</td>\n",
       "      <td>[9]</td>\n",
       "      <td>[111]</td>\n",
       "      <td>[15]</td>\n",
       "      <td>[provides services for accessing, using, the I...</td>\n",
       "    </tr>\n",
       "    <tr>\n",
       "      <th>2</th>\n",
       "      <td>56dfb9227aa994140058e07b</td>\n",
       "      <td>An Internet service provider (ISP) is an organ...</td>\n",
       "      <td>What forms can an isp be organized in?</td>\n",
       "      <td>[183]</td>\n",
       "      <td>[27]</td>\n",
       "      <td>[252]</td>\n",
       "      <td>[33]</td>\n",
       "      <td>[commercial, community-owned, non-profit, or o...</td>\n",
       "    </tr>\n",
       "    <tr>\n",
       "      <th>3</th>\n",
       "      <td>56dfb9837aa994140058e083</td>\n",
       "      <td>Internet services typically provided by ISPs i...</td>\n",
       "      <td>What type of organization provides internet ac...</td>\n",
       "      <td>[40]</td>\n",
       "      <td>[5]</td>\n",
       "      <td>[44]</td>\n",
       "      <td>[5]</td>\n",
       "      <td>[ISPs]</td>\n",
       "    </tr>\n",
       "    <tr>\n",
       "      <th>4</th>\n",
       "      <td>56dfb9837aa994140058e084</td>\n",
       "      <td>Internet services typically provided by ISPs i...</td>\n",
       "      <td>What are some services provided by an isp?</td>\n",
       "      <td>[53]</td>\n",
       "      <td>[7]</td>\n",
       "      <td>[157]</td>\n",
       "      <td>[19]</td>\n",
       "      <td>[Internet access, Internet transit, domain nam...</td>\n",
       "    </tr>\n",
       "    <tr>\n",
       "      <th>...</th>\n",
       "      <td>...</td>\n",
       "      <td>...</td>\n",
       "      <td>...</td>\n",
       "      <td>...</td>\n",
       "      <td>...</td>\n",
       "      <td>...</td>\n",
       "      <td>...</td>\n",
       "      <td>...</td>\n",
       "    </tr>\n",
       "    <tr>\n",
       "      <th>72025</th>\n",
       "      <td>570feb3480d9841400ab372b</td>\n",
       "      <td>In 2006, Dell acknowledged that it had problem...</td>\n",
       "      <td>What amount did Dell increase its customer ser...</td>\n",
       "      <td>[375]</td>\n",
       "      <td>[66]</td>\n",
       "      <td>[387]</td>\n",
       "      <td>[67]</td>\n",
       "      <td>[$150 million]</td>\n",
       "    </tr>\n",
       "    <tr>\n",
       "      <th>72026</th>\n",
       "      <td>570feb9480d9841400ab372f</td>\n",
       "      <td>The company aims to reduce its external enviro...</td>\n",
       "      <td>What does Dell aim to reduce by creating energ...</td>\n",
       "      <td>[31]</td>\n",
       "      <td>[6]</td>\n",
       "      <td>[60]</td>\n",
       "      <td>[8]</td>\n",
       "      <td>[external environmental impact]</td>\n",
       "    </tr>\n",
       "    <tr>\n",
       "      <th>72027</th>\n",
       "      <td>570feb9480d9841400ab3730</td>\n",
       "      <td>The company aims to reduce its external enviro...</td>\n",
       "      <td>How much does energy efficiency save Dell per ...</td>\n",
       "      <td>[265]</td>\n",
       "      <td>[33]</td>\n",
       "      <td>[275]</td>\n",
       "      <td>[34]</td>\n",
       "      <td>[$3 million]</td>\n",
       "    </tr>\n",
       "    <tr>\n",
       "      <th>72028</th>\n",
       "      <td>570feb9480d9841400ab3731</td>\n",
       "      <td>The company aims to reduce its external enviro...</td>\n",
       "      <td>What is the largest contributor to Dell's ener...</td>\n",
       "      <td>[397]</td>\n",
       "      <td>[50]</td>\n",
       "      <td>[416]</td>\n",
       "      <td>[52]</td>\n",
       "      <td>[PC power management]</td>\n",
       "    </tr>\n",
       "    <tr>\n",
       "      <th>72029</th>\n",
       "      <td>570feb9480d9841400ab3732</td>\n",
       "      <td>The company aims to reduce its external enviro...</td>\n",
       "      <td>How many PCs does Dell employ energy managemen...</td>\n",
       "      <td>[544]</td>\n",
       "      <td>[72]</td>\n",
       "      <td>[550]</td>\n",
       "      <td>[72]</td>\n",
       "      <td>[50,000]</td>\n",
       "    </tr>\n",
       "  </tbody>\n",
       "</table>\n",
       "<p>72030 rows × 8 columns</p>\n",
       "</div>"
      ],
      "text/plain": [
       "                     questionID  \\\n",
       "0      56dfb9227aa994140058e079   \n",
       "1      56dfb9227aa994140058e07a   \n",
       "2      56dfb9227aa994140058e07b   \n",
       "3      56dfb9837aa994140058e083   \n",
       "4      56dfb9837aa994140058e084   \n",
       "...                         ...   \n",
       "72025  570feb3480d9841400ab372b   \n",
       "72026  570feb9480d9841400ab372f   \n",
       "72027  570feb9480d9841400ab3730   \n",
       "72028  570feb9480d9841400ab3731   \n",
       "72029  570feb9480d9841400ab3732   \n",
       "\n",
       "                                                 context  \\\n",
       "0      An Internet service provider (ISP) is an organ...   \n",
       "1      An Internet service provider (ISP) is an organ...   \n",
       "2      An Internet service provider (ISP) is an organ...   \n",
       "3      Internet services typically provided by ISPs i...   \n",
       "4      Internet services typically provided by ISPs i...   \n",
       "...                                                  ...   \n",
       "72025  In 2006, Dell acknowledged that it had problem...   \n",
       "72026  The company aims to reduce its external enviro...   \n",
       "72027  The company aims to reduce its external enviro...   \n",
       "72028  The company aims to reduce its external enviro...   \n",
       "72029  The company aims to reduce its external enviro...   \n",
       "\n",
       "                                                question answer_start  \\\n",
       "0                               What does ISP stand for?          [3]   \n",
       "1                                   what does an isp do?         [59]   \n",
       "2                 What forms can an isp be organized in?        [183]   \n",
       "3      What type of organization provides internet ac...         [40]   \n",
       "4             What are some services provided by an isp?         [53]   \n",
       "...                                                  ...          ...   \n",
       "72025  What amount did Dell increase its customer ser...        [375]   \n",
       "72026  What does Dell aim to reduce by creating energ...         [31]   \n",
       "72027  How much does energy efficiency save Dell per ...        [265]   \n",
       "72028  What is the largest contributor to Dell's ener...        [397]   \n",
       "72029  How many PCs does Dell employ energy managemen...        [544]   \n",
       "\n",
       "      answer_word_start answer_end answer_word_end  \\\n",
       "0                   [1]       [28]             [3]   \n",
       "1                   [9]      [111]            [15]   \n",
       "2                  [27]      [252]            [33]   \n",
       "3                   [5]       [44]             [5]   \n",
       "4                   [7]      [157]            [19]   \n",
       "...                 ...        ...             ...   \n",
       "72025              [66]      [387]            [67]   \n",
       "72026               [6]       [60]             [8]   \n",
       "72027              [33]      [275]            [34]   \n",
       "72028              [50]      [416]            [52]   \n",
       "72029              [72]      [550]            [72]   \n",
       "\n",
       "                                             answer_text  \n",
       "0                            [Internet service provider]  \n",
       "1      [provides services for accessing, using, the I...  \n",
       "2      [commercial, community-owned, non-profit, or o...  \n",
       "3                                                 [ISPs]  \n",
       "4      [Internet access, Internet transit, domain nam...  \n",
       "...                                                  ...  \n",
       "72025                                     [$150 million]  \n",
       "72026                    [external environmental impact]  \n",
       "72027                                       [$3 million]  \n",
       "72028                              [PC power management]  \n",
       "72029                                           [50,000]  \n",
       "\n",
       "[72030 rows x 8 columns]"
      ]
     },
     "execution_count": 9,
     "metadata": {},
     "output_type": "execute_result"
    }
   ],
   "source": [
    "train_df"
   ]
  },
  {
   "cell_type": "markdown",
   "id": "4e7bcbc5",
   "metadata": {},
   "source": [
    "## Clean and transform data"
   ]
  },
  {
   "cell_type": "markdown",
   "id": "f21fd72d",
   "metadata": {},
   "source": [
    "#### Clean text\n",
    "What should we do? just lowering everyhting? remove stopwords? how will that work with the answer start number???"
   ]
  },
  {
   "cell_type": "code",
   "execution_count": 10,
   "id": "eae2f69a",
   "metadata": {},
   "outputs": [
    {
     "name": "stderr",
     "output_type": "stream",
     "text": [
      "[nltk_data] Downloading package wordnet to\n",
      "[nltk_data]     /Users/solveig.mohr/nltk_data...\n",
      "[nltk_data]   Package wordnet is already up-to-date!\n"
     ]
    }
   ],
   "source": [
    "lemmatizer = WordNetLemmatizer()\n",
    "nltk.download('wordnet')\n",
    "\n",
    "REPLACE_BY_SPACE_RE = re.compile('[/(){}\\[\\]\\|@,;]')\n",
    "GOOD_SYMBOLS_RE = re.compile('[^0-9a-z #+_]')\n",
    "try:\n",
    "    STOPWORDS = set(stopwords.words('english'))\n",
    "except LookupError:\n",
    "    nltk.download('stopwords')\n",
    "    STOPWORDS = set(stopwords.words('english'))\n",
    "\n",
    "\n",
    "\n",
    "def lower(text: str) -> str:\n",
    "    \"\"\"\n",
    "    Transforms given text to lower case.\n",
    "    Example:\n",
    "    Input: 'I really like New York city'\n",
    "    Output: 'i really like new your city'\n",
    "    \"\"\"\n",
    "\n",
    "    return text.lower()\n",
    "\n",
    "def replace_special_characters(text: str) -> str:\n",
    "    \"\"\"\n",
    "    Replaces special characters, such as paranthesis,\n",
    "    with spacing character\n",
    "    \"\"\"\n",
    "\n",
    "    return REPLACE_BY_SPACE_RE.sub(' ', text)\n",
    "\n",
    "def filter_out_uncommon_symbols(text: str) -> str:\n",
    "    \"\"\"\n",
    "    Removes any special character that is not in the\n",
    "    good symbols list (check regular expression)\n",
    "    \"\"\"\n",
    "\n",
    "    return GOOD_SYMBOLS_RE.sub('', text)\n",
    "\n",
    "def remove_stopwords(text: str) -> str:\n",
    "    return ' '.join([x for x in text.split() if x and x not in STOPWORDS])\n",
    "\n",
    "def strip_text(text: str) -> str:\n",
    "    \"\"\"\n",
    "    Removes any left or right spacing (including carriage return) from text.\n",
    "    Example:\n",
    "    Input: '  This assignment is cool\\n'\n",
    "    Output: 'This assignment is cool'\n",
    "    \"\"\"\n",
    "\n",
    "    return text.strip()    \n",
    "\n",
    "def lemmatize_words(text: str ) -> str:\n",
    "    return \" \".join([lemmatizer.lemmatize(word) for word in text.split()])\n",
    "\n",
    "PREPROCESSING_PIPELINE = [\n",
    "                          lower,\n",
    "                          strip_text\n",
    "                          ]\n",
    "\n",
    "def text_prepare(text: str,\n",
    "                 filter_methods: List[Callable[[str], str]] = None) -> str:\n",
    "    \"\"\"\n",
    "    Applies a list of pre-processing functions in sequence (reduce).\n",
    "    Note that the order is important here!\n",
    "    \"\"\"\n",
    "\n",
    "    filter_methods = filter_methods if filter_methods is not None else PREPROCESSING_PIPELINE\n",
    "    if type(text) == list:\n",
    "        new_row = [reduce(lambda txt, f: f(txt), filter_methods, x) for x in text]\n",
    "    else:\n",
    "        new_row = reduce(lambda txt, f: f(txt), filter_methods, text)\n",
    "    return new_row"
   ]
  },
  {
   "cell_type": "code",
   "execution_count": 11,
   "id": "7f8f8fcc",
   "metadata": {},
   "outputs": [],
   "source": [
    "to_be_cleaned = [\"context\", \"question\", \"answer_text\"]\n",
    "for key in to_be_cleaned:\n",
    "    train_df[key] = train_df[key].apply(lambda txt: text_prepare(txt))\n",
    "    val_df[key] = val_df[key].apply(lambda txt: text_prepare(txt))\n",
    "    test_df[key] = test_df[key].apply(lambda txt: text_prepare(txt))\n",
    "    "
   ]
  },
  {
   "cell_type": "markdown",
   "id": "cd709782",
   "metadata": {},
   "source": [
    "#### Make tokenixer"
   ]
  },
  {
   "cell_type": "markdown",
   "id": "7806c773",
   "metadata": {},
   "source": [
    "### THINGS TO THINK ABOUT\n",
    "- Now its the padding is exstream! The questions has to be 3706 caracters long!\n",
    "- We are only fitting on text the train context and questions. Should this also be done for val/train?\n",
    "- Preprocessing is only lowering the words. Should we do more, like removing stopwords? In that case we need to consider the answer_start index. This has to be corrected after removal of carachters\n",
    "- OOV are handeled with index 1 and will all have weights 0 in the beginning. is this correct?\n"
   ]
  },
  {
   "cell_type": "code",
   "execution_count": 12,
   "id": "bbb6c3bd",
   "metadata": {},
   "outputs": [],
   "source": [
    "# The tokenizer will have an index 1 for OOV words. A lot of words in test and val will be 1.\n",
    "tokenizer = Tokenizer(oov_token=1)\n",
    "\n",
    "tokenizer.fit_on_texts(train_df[\"context\"])\n",
    "tokenizer.fit_on_texts(train_df[\"question\"])"
   ]
  },
  {
   "cell_type": "code",
   "execution_count": 13,
   "id": "6bc851ee",
   "metadata": {},
   "outputs": [],
   "source": [
    "# Find max sentence lenght for the context\n",
    "MAX_SEQ_LEN = np.max([len(row.split(' ')) for row in train_df[\"context\"]])"
   ]
  },
  {
   "cell_type": "code",
   "execution_count": 14,
   "id": "6d428503",
   "metadata": {},
   "outputs": [
    {
     "data": {
      "text/plain": [
       "653"
      ]
     },
     "execution_count": 14,
     "metadata": {},
     "output_type": "execute_result"
    }
   ],
   "source": [
    "MAX_SEQ_LEN"
   ]
  },
  {
   "cell_type": "code",
   "execution_count": 15,
   "id": "175d5732",
   "metadata": {},
   "outputs": [],
   "source": [
    "def textToTensor(tokenizer, max_len, text):\n",
    "    '''\n",
    "        Converts text to tensors by converting the words into the correct indexes. \n",
    "        Then padds the tensors with 0 vlaues\n",
    "    '''\n",
    "    seq = tokenizer.texts_to_sequences(text)\n",
    "    padded = pad_sequences(sequences=seq, maxlen=max_len, padding='post')\n",
    "    return padded"
   ]
  },
  {
   "cell_type": "code",
   "execution_count": 16,
   "id": "abf2d75d",
   "metadata": {},
   "outputs": [],
   "source": [
    "context_train = textToTensor(tokenizer, MAX_SEQ_LEN, train_df[\"context\"])\n",
    "question_train = textToTensor(tokenizer, MAX_SEQ_LEN, train_df[\"question\"])\n",
    "\n",
    "context_val = textToTensor(tokenizer, MAX_SEQ_LEN, val_df[\"context\"])\n",
    "question_val = textToTensor(tokenizer, MAX_SEQ_LEN, val_df[\"question\"])\n",
    "\n",
    "context_test = textToTensor(tokenizer, MAX_SEQ_LEN, test_df[\"context\"])\n",
    "question_test = textToTensor(tokenizer, MAX_SEQ_LEN, test_df[\"question\"])"
   ]
  },
  {
   "cell_type": "code",
   "execution_count": 17,
   "id": "002a7459",
   "metadata": {},
   "outputs": [
    {
     "data": {
      "text/plain": [
       "array([[0., 1., 0., ..., 0., 0., 0.],\n",
       "       [0., 0., 0., ..., 0., 0., 0.],\n",
       "       [0., 0., 0., ..., 0., 0., 0.],\n",
       "       ...,\n",
       "       [0., 0., 0., ..., 0., 0., 0.],\n",
       "       [0., 0., 0., ..., 0., 0., 0.],\n",
       "       [0., 0., 0., ..., 0., 0., 0.]], dtype=float32)"
      ]
     },
     "execution_count": 17,
     "metadata": {},
     "output_type": "execute_result"
    }
   ],
   "source": [
    "# Takes only the first answer: simplification\n",
    "# Can do this because we know there are only one answer for each question in our dataset\n",
    "# Might need to change this\n",
    "index_start_train = to_categorical(np.array(train_df[\"answer_word_start\"].str[0]), num_classes=MAX_SEQ_LEN)\n",
    "index_end_train = to_categorical(np.array(train_df[\"answer_word_end\"].str[0]), num_classes=MAX_SEQ_LEN)\n",
    "\n",
    "index_start_val = to_categorical(np.array(val_df[\"answer_word_start\"].str[0]), num_classes=MAX_SEQ_LEN)\n",
    "index_end_val = to_categorical(np.array(val_df[\"answer_word_end\"].str[0]), num_classes=MAX_SEQ_LEN)\n",
    "\n",
    "index_start_test = np.array(train_df[\"answer_word_start\"].str[0])\n",
    "index_end_test = np.array(train_df[\"answer_word_end\"].str[0])\n",
    "\n",
    "index_start_train"
   ]
  },
  {
   "cell_type": "code",
   "execution_count": 18,
   "id": "97970acb",
   "metadata": {},
   "outputs": [],
   "source": [
    "# Find size of vocabulary\n",
    "VOCABULARY_SIZE = len(tokenizer.word_index) + 1"
   ]
  },
  {
   "cell_type": "markdown",
   "id": "d14113eb",
   "metadata": {},
   "source": [
    "### Applying glove"
   ]
  },
  {
   "cell_type": "code",
   "execution_count": 19,
   "id": "5ade4fe3",
   "metadata": {},
   "outputs": [],
   "source": [
    "import gensim\n",
    "import gensim.downloader as gloader\n",
    "\n",
    "def load_embedding_model(embedding_dimension: int = 50) -> gensim.models.keyedvectors.KeyedVectors:\n",
    "    download_path = \"glove-wiki-gigaword-{}\".format(embedding_dimension)\n",
    "    # Check download\n",
    "    try:\n",
    "        emb_model = gloader.load(download_path)\n",
    "    except ValueError as e:\n",
    "        print(\"Invalid embedding model name! Check the embedding dimension:\")\n",
    "        print(\"Word2Vec: 300\")\n",
    "        print(\"Glove: 50, 100, 200, 300\")\n",
    "        raise e\n",
    "\n",
    "    return emb_model\n",
    "    \n",
    "def create_embedding_matrix(embedding_model, embedding_dimension, word_to_idx):\n",
    "    embedding_matrix = np.zeros((len(word_to_idx)+1, embedding_dimension), dtype=np.float32)\n",
    "    for word, idx in word_to_idx.items():\n",
    "        try:\n",
    "            embedding_vector = embedding_model[word]\n",
    "        except (KeyError, TypeError):\n",
    "            embedding_vector = np.random.uniform(low=-0.05, high=0.05, size=embedding_dimension)\n",
    "\n",
    "        embedding_matrix[idx] = embedding_vector\n",
    "                                \n",
    "    return embedding_matrix\n"
   ]
  },
  {
   "cell_type": "code",
   "execution_count": 20,
   "id": "5c6a3717",
   "metadata": {},
   "outputs": [
    {
     "data": {
      "text/plain": [
       "(81045, 50)"
      ]
     },
     "execution_count": 20,
     "metadata": {},
     "output_type": "execute_result"
    }
   ],
   "source": [
    "embedding_dimension = 50\n",
    "\n",
    "embedding_model = load_embedding_model(embedding_dimension)\n",
    "embedding_matrix = create_embedding_matrix(embedding_model, embedding_dimension, tokenizer.word_index)\n",
    "embedding_matrix.shape"
   ]
  },
  {
   "cell_type": "markdown",
   "id": "35d1d9ba",
   "metadata": {},
   "source": [
    "### Create model"
   ]
  },
  {
   "cell_type": "code",
   "execution_count": 21,
   "id": "6b403025",
   "metadata": {},
   "outputs": [],
   "source": [
    "# convenience l2_norm function\n",
    "def l2_norm(x, axis=None):\n",
    "    \"\"\"\n",
    "    takes an input tensor and returns the l2 norm along specified axis\n",
    "    \"\"\"\n",
    "\n",
    "    square_sum = K.sum(K.square(x), axis=axis, keepdims=True)\n",
    "    norm = K.sqrt(K.maximum(square_sum, K.epsilon()))\n",
    "\n",
    "    return norm\n",
    "\n",
    "def pairwise_cosine_sim(A_B):\n",
    "    \"\"\"\n",
    "    A [batch x n x d] tensor of n rows with d dimensions\n",
    "    B [batch x m x d] tensor of n rows with d dimensions\n",
    "\n",
    "    returns:\n",
    "    D [batch x n x m] tensor of cosine similarity scores between each point i<n, j<m\n",
    "    \"\"\"\n",
    "\n",
    "    A, B = A_B\n",
    "    A_mag = l2_norm(A, axis=2)\n",
    "    B_mag = l2_norm(B, axis=2)\n",
    "    num = K.batch_dot(A, K.permute_dimensions(B, (0,2,1)))\n",
    "    den = (A_mag * K.permute_dimensions(B_mag, (0,2,1)))\n",
    "    dist_mat =  num / den\n",
    "\n",
    "    return dist_mat"
   ]
  },
  {
   "cell_type": "code",
   "execution_count": 22,
   "id": "893c2039",
   "metadata": {},
   "outputs": [],
   "source": [
    "def similarity(A_B):\n",
    "    \"\"\"\n",
    "    A [batch x n x d] tensor of n rows with d dimensions\n",
    "    B [batch x m x d] tensor of n rows with d dimensions\n",
    "\n",
    "    returns:\n",
    "    D [batch x n x m] tensor of cosine similarity scores between each point i<n, j<m\n",
    "    \"\"\"\n",
    "    A, B = A_B\n",
    "    element_wise_multiplication = A * B\n",
    "    concated = K.concatenate([A, B, element_wise_multiplication], axis=-1)\n",
    "    kernel = tf.keras.layers.Layer.add_weigths(name='similarity_weight',\n",
    "                                        shape=(concated.shape[-1], 1),\n",
    "                                        initializer='uniform',\n",
    "                                        trainable=True)\n",
    "    \n",
    "    dot_product = K.squeeze(K.dot(concated, kernel), axis=-1)\n",
    "    return dot_product"
   ]
  },
  {
   "cell_type": "markdown",
   "id": "52146b3f",
   "metadata": {},
   "source": [
    "##### Similarity matrix"
   ]
  },
  {
   "cell_type": "code",
   "execution_count": 81,
   "id": "e4a3266a",
   "metadata": {},
   "outputs": [],
   "source": [
    "from tensorflow.keras.layers import Layer\n",
    "class Similarity(Layer):\n",
    "\n",
    "    def __init__(self, **kwargs):\n",
    "        super(Similarity, self).__init__(**kwargs)\n",
    "    \n",
    "    def build(self, input_shape):\n",
    "        shape = input_shape[0][-1]*3\n",
    "        self.kernel = self.add_weight(name='similarity_weight',\n",
    "                                        shape=(shape, 1),\n",
    "                                        initializer='uniform',\n",
    "                                        trainable=True)\n",
    "        super(Similarity, self).build(input_shape)\n",
    "    def get_kernel(self):\n",
    "        return self.kernel\n",
    "    \n",
    "    def call(self, inputs):\n",
    "        A, B = inputs\n",
    "        A_dim_repeat = K.concatenate([[1, 1], [A.shape[1]], [1]], 0)\n",
    "        B_dim_repeat = K.concatenate([[1], [B.shape[1]], [1, 1]], 0)\n",
    "        A_repeated = K.tile(K.expand_dims(A, axis=2), A_dim_repeat)\n",
    "        B_repeated = K.tile(K.expand_dims(B, axis=1), B_dim_repeat)\n",
    "        element_wise_multiplication = A_repeated * B_repeated\n",
    "        concated = K.concatenate([A_repeated, B_repeated, element_wise_multiplication], axis=-1)\n",
    "        dot= K.dot(concated, self.kernel)\n",
    "        dot_product = K.squeeze(dot, axis=-1)\n",
    "        return dot_product\n",
    "\n",
    "    def compute_output_shape(self, input_shape):\n",
    "        batch_size = input_shape[0][0]\n",
    "        num_context_words = input_shape[0][1]\n",
    "        num_query_words = input_shape[1][1]\n",
    "        return (batch_size, num_context_words, num_query_words)"
   ]
  },
  {
   "cell_type": "markdown",
   "id": "934435ed",
   "metadata": {},
   "source": [
    "##### testing"
   ]
  },
  {
   "cell_type": "code",
   "execution_count": 82,
   "id": "d3d712aa",
   "metadata": {},
   "outputs": [],
   "source": [
    "sim = Similarity()"
   ]
  },
  {
   "cell_type": "code",
   "execution_count": 26,
   "id": "97177c5a",
   "metadata": {},
   "outputs": [
    {
     "ename": "NameError",
     "evalue": "name 'A' is not defined",
     "output_type": "error",
     "traceback": [
      "\u001b[0;31m---------------------------------------------------------------------------\u001b[0m",
      "\u001b[0;31mNameError\u001b[0m                                 Traceback (most recent call last)",
      "\u001b[0;32m/var/folders/t4/vnxj6kkj2n97knry5lnrscx00000gn/T/ipykernel_69621/4086055242.py\u001b[0m in \u001b[0;36m<module>\u001b[0;34m\u001b[0m\n\u001b[0;32m----> 1\u001b[0;31m \u001b[0msim\u001b[0m\u001b[0;34m(\u001b[0m\u001b[0;34m[\u001b[0m\u001b[0mA\u001b[0m\u001b[0;34m,\u001b[0m \u001b[0mB\u001b[0m\u001b[0;34m]\u001b[0m\u001b[0;34m)\u001b[0m\u001b[0;34m\u001b[0m\u001b[0;34m\u001b[0m\u001b[0m\n\u001b[0m",
      "\u001b[0;31mNameError\u001b[0m: name 'A' is not defined"
     ]
    }
   ],
   "source": [
    "#sim([A, B])"
   ]
  },
  {
   "cell_type": "code",
   "execution_count": null,
   "id": "56f68734",
   "metadata": {},
   "outputs": [
    {
     "data": {
      "text/plain": [
       "<tf.Variable 'similarity_1/similarity_weight:0' shape=(9, 1) dtype=float32, numpy=\n",
       "array([[ 0.0150565 ],\n",
       "       [-0.00643172],\n",
       "       [ 0.03498759],\n",
       "       [-0.02662505],\n",
       "       [-0.03315787],\n",
       "       [-0.02331753],\n",
       "       [ 0.00396756],\n",
       "       [-0.04221762],\n",
       "       [-0.03750741]], dtype=float32)>"
      ]
     },
     "execution_count": 28,
     "metadata": {},
     "output_type": "execute_result"
    }
   ],
   "source": [
    "sim.get_kernel()"
   ]
  },
  {
   "cell_type": "code",
   "execution_count": null,
   "id": "24c05236",
   "metadata": {},
   "outputs": [
    {
     "name": "stdout",
     "output_type": "stream",
     "text": [
      "(2, 4, 3)\n",
      "(2, 4, 3)\n"
     ]
    }
   ],
   "source": [
    "A = K.constant([[[1,1,1], [2,2,2], [3,3,3], [8,8,8]],[[1,1,1], [2,2,2], [3,3,3],[8,8,8]]])\n",
    "B = K.constant([[[4,4,4], [5,5,5], [6,6,6], [7,7,7]],[[4,4,4], [5,5,5], [6,6,6], [7,7,7]]])\n",
    "print(A.shape)\n",
    "print(B.shape)"
   ]
  },
  {
   "cell_type": "code",
   "execution_count": null,
   "id": "ed169071",
   "metadata": {},
   "outputs": [
    {
     "name": "stdout",
     "output_type": "stream",
     "text": [
      "(9, 1)\n",
      "(2, 4, 4, 9)\n"
     ]
    }
   ],
   "source": [
    "\n",
    "\n",
    "A_dim_repeat = K.concatenate([[1, 1], [A.shape[1]], [1]], 0)\n",
    "B_dim_repeat = K.concatenate([[1], [B.shape[1]], [1, 1]], 0)\n",
    "A_repeated = K.tile(K.expand_dims(A, axis=2), A_dim_repeat)\n",
    "B_repeated = K.tile(K.expand_dims(B, axis=1), B_dim_repeat)\n",
    "kernel = K.constant([[1], [1], [1], [1], [1], [1], [1], [1], [1]])\n",
    "print(kernel.shape)\n",
    "element_wise_multiplication = A_repeated * B_repeated\n",
    "concated = K.concatenate([A_repeated, B_repeated, element_wise_multiplication], axis=-1)\n",
    "print(concated.shape)\n",
    "dot= K.dot(concated, kernel)\n",
    "dot_product = K.squeeze(dot, axis=-1)"
   ]
  },
  {
   "cell_type": "code",
   "execution_count": null,
   "id": "ad420e32",
   "metadata": {},
   "outputs": [
    {
     "data": {
      "text/plain": [
       "<tf.Tensor: shape=(2, 4, 4), dtype=float32, numpy=\n",
       "array([[[ 27.,  33.,  39.,  45.],\n",
       "        [ 42.,  51.,  60.,  69.],\n",
       "        [ 57.,  69.,  81.,  93.],\n",
       "        [132., 159., 186., 213.]],\n",
       "\n",
       "       [[ 27.,  33.,  39.,  45.],\n",
       "        [ 42.,  51.,  60.,  69.],\n",
       "        [ 57.,  69.,  81.,  93.],\n",
       "        [132., 159., 186., 213.]]], dtype=float32)>"
      ]
     },
     "execution_count": 31,
     "metadata": {},
     "output_type": "execute_result"
    }
   ],
   "source": [
    "dot_product"
   ]
  },
  {
   "cell_type": "code",
   "execution_count": null,
   "id": "734f2def",
   "metadata": {},
   "outputs": [
    {
     "data": {
      "text/plain": [
       "<tf.Tensor: shape=(2, 4, 4), dtype=float32, numpy=\n",
       "array([[[1.5192230e-08, 6.1289825e-06, 2.4726081e-03, 9.9752122e-01],\n",
       "        [1.8792968e-12, 1.5228101e-08, 1.2339458e-04, 9.9987662e-01],\n",
       "        [2.3195084e-16, 3.7751115e-11, 6.1441742e-06, 9.9999380e-01],\n",
       "        [6.6396770e-36, 3.5326288e-24, 1.8795287e-12, 1.0000000e+00]],\n",
       "\n",
       "       [[1.5192230e-08, 6.1289825e-06, 2.4726081e-03, 9.9752122e-01],\n",
       "        [1.8792968e-12, 1.5228101e-08, 1.2339458e-04, 9.9987662e-01],\n",
       "        [2.3195084e-16, 3.7751115e-11, 6.1441742e-06, 9.9999380e-01],\n",
       "        [6.6396770e-36, 3.5326288e-24, 1.8795287e-12, 1.0000000e+00]]],\n",
       "      dtype=float32)>"
      ]
     },
     "execution_count": 34,
     "metadata": {},
     "output_type": "execute_result"
    }
   ],
   "source": [
    "Softmax(axis=-1)(dot_product)"
   ]
  },
  {
   "cell_type": "code",
   "execution_count": null,
   "id": "9117ec29",
   "metadata": {},
   "outputs": [
    {
     "data": {
      "text/plain": [
       "<tf.Tensor: shape=(2, 4, 4), dtype=float32, numpy=\n",
       "array([[[1.0000000e+00, 2.0097726e-10, 2.7750147e-31, 1.4798254e-26],\n",
       "        [1.0000000e+00, 1.6577712e-15, 0.0000000e+00, 0.0000000e+00],\n",
       "        [1.0000000e+00, 1.3674291e-20, 0.0000000e+00, 0.0000000e+00],\n",
       "        [1.0000000e+00, 0.0000000e+00, 0.0000000e+00, 0.0000000e+00]],\n",
       "\n",
       "       [[1.0000000e+00, 2.0097726e-10, 2.7750147e-31, 1.4798254e-26],\n",
       "        [1.0000000e+00, 1.6577712e-15, 0.0000000e+00, 0.0000000e+00],\n",
       "        [1.0000000e+00, 1.3674186e-20, 0.0000000e+00, 0.0000000e+00],\n",
       "        [1.0000000e+00, 0.0000000e+00, 0.0000000e+00, 0.0000000e+00]]],\n",
       "      dtype=float32)>"
      ]
     },
     "execution_count": 33,
     "metadata": {},
     "output_type": "execute_result"
    }
   ],
   "source": [
    "Dense(units=4, activation='softmax')(dot_product)"
   ]
  },
  {
   "cell_type": "code",
   "execution_count": null,
   "id": "056585cd",
   "metadata": {},
   "outputs": [
    {
     "name": "stdout",
     "output_type": "stream",
     "text": [
      "(2, 4, 3)\n",
      "(2, 4, 4)\n"
     ]
    }
   ],
   "source": [
    "c =K.constant([[[1,1,1], [2,2,2], [3,3,3], [8,8,8]],[[1,1,1], [2,2,2], [3,3,3],[8,8,8]]])\n",
    "d = K.constant([[[2,3,4,5], [1,1,1,1], [1,1,1,1], [1,1,1,1]], [[1,1,1,1], [1,1,1,1], [1,1,1,1], [1,1,1,1]]])\n",
    "print(c.shape)\n",
    "print(d.shape)"
   ]
  },
  {
   "cell_type": "code",
   "execution_count": null,
   "id": "a8a77fe7",
   "metadata": {},
   "outputs": [
    {
     "data": {
      "text/plain": [
       "<tf.Tensor: shape=(2, 4, 3), dtype=float32, numpy=\n",
       "array([[[1., 1., 1.],\n",
       "        [2., 2., 2.],\n",
       "        [3., 3., 3.],\n",
       "        [8., 8., 8.]],\n",
       "\n",
       "       [[1., 1., 1.],\n",
       "        [2., 2., 2.],\n",
       "        [3., 3., 3.],\n",
       "        [8., 8., 8.]]], dtype=float32)>"
      ]
     },
     "execution_count": 46,
     "metadata": {},
     "output_type": "execute_result"
    }
   ],
   "source": [
    "c"
   ]
  },
  {
   "cell_type": "code",
   "execution_count": null,
   "id": "be66e92d",
   "metadata": {},
   "outputs": [
    {
     "data": {
      "text/plain": [
       "TensorShape([2, 4, 4, 1])"
      ]
     },
     "execution_count": 47,
     "metadata": {},
     "output_type": "execute_result"
    }
   ],
   "source": [
    "d2 = K.expand_dims(d, axis=-1)\n",
    "d2.shape"
   ]
  },
  {
   "cell_type": "code",
   "execution_count": null,
   "id": "cafec3ac",
   "metadata": {},
   "outputs": [
    {
     "data": {
      "text/plain": [
       "TensorShape([2, 1, 4, 3])"
      ]
     },
     "execution_count": 48,
     "metadata": {},
     "output_type": "execute_result"
    }
   ],
   "source": [
    "c2 = K.expand_dims(c, axis=1)\n",
    "c2.shape"
   ]
  },
  {
   "cell_type": "code",
   "execution_count": null,
   "id": "c354b06b",
   "metadata": {},
   "outputs": [
    {
     "data": {
      "text/plain": [
       "<tf.Tensor: shape=(2, 4, 3), dtype=float32, numpy=\n",
       "array([[[60., 60., 60.],\n",
       "        [14., 14., 14.],\n",
       "        [14., 14., 14.],\n",
       "        [14., 14., 14.]],\n",
       "\n",
       "       [[14., 14., 14.],\n",
       "        [14., 14., 14.],\n",
       "        [14., 14., 14.],\n",
       "        [14., 14., 14.]]], dtype=float32)>"
      ]
     },
     "execution_count": 49,
     "metadata": {},
     "output_type": "execute_result"
    }
   ],
   "source": [
    "K.sum(d2*c2, axis=-2)"
   ]
  },
  {
   "cell_type": "code",
   "execution_count": null,
   "id": "e24c3cc5",
   "metadata": {},
   "outputs": [],
   "source": [
    "max_sim_matrix = K.max(d, axis=-1)\n",
    "softmax_similarity_matrix = Softmax(axis=-1)(max_sim_matrix)"
   ]
  },
  {
   "cell_type": "code",
   "execution_count": null,
   "id": "8b7fa20a",
   "metadata": {},
   "outputs": [
    {
     "data": {
      "text/plain": [
       "<tf.Tensor: shape=(2, 4, 4), dtype=float32, numpy=\n",
       "array([[[2., 3., 4., 5.],\n",
       "        [1., 1., 1., 1.],\n",
       "        [1., 1., 1., 1.],\n",
       "        [1., 1., 1., 1.]],\n",
       "\n",
       "       [[1., 1., 1., 1.],\n",
       "        [1., 1., 1., 1.],\n",
       "        [1., 1., 1., 1.],\n",
       "        [1., 1., 1., 1.]]], dtype=float32)>"
      ]
     },
     "execution_count": 53,
     "metadata": {},
     "output_type": "execute_result"
    }
   ],
   "source": [
    "d"
   ]
  },
  {
   "cell_type": "code",
   "execution_count": null,
   "id": "83aa20de",
   "metadata": {},
   "outputs": [
    {
     "data": {
      "text/plain": [
       "<tf.Tensor: shape=(2, 4), dtype=float32, numpy=\n",
       "array([[5., 1., 1., 1.],\n",
       "       [1., 1., 1., 1.]], dtype=float32)>"
      ]
     },
     "execution_count": 52,
     "metadata": {},
     "output_type": "execute_result"
    }
   ],
   "source": [
    "max_sim_matrix"
   ]
  },
  {
   "cell_type": "code",
   "execution_count": null,
   "id": "99146728",
   "metadata": {},
   "outputs": [
    {
     "data": {
      "text/plain": [
       "<tf.Tensor: shape=(2, 4), dtype=float32, numpy=\n",
       "array([[0.9479149 , 0.01736167, 0.01736167, 0.01736167],\n",
       "       [0.25      , 0.25      , 0.25      , 0.25      ]], dtype=float32)>"
      ]
     },
     "execution_count": 54,
     "metadata": {},
     "output_type": "execute_result"
    }
   ],
   "source": [
    "softmax_similarity_matrix"
   ]
  },
  {
   "cell_type": "markdown",
   "id": "f4b91594",
   "metadata": {},
   "source": [
    "##### C2q"
   ]
  },
  {
   "cell_type": "code",
   "execution_count": 83,
   "id": "db4b9e58",
   "metadata": {},
   "outputs": [],
   "source": [
    "class Context2QuestionAttention(Layer):\n",
    "    '''\n",
    "    A = Take row-wise softmax of the similarity matrix\n",
    "    Û = For every row in A (softmaxed similarity matrix), A_t:\n",
    "        Multiply every element in A_t calculate the weighted sum of the question matrix. \n",
    "        (The weigths will be the elements in A_t)\n",
    "    Input: Question matrix and similarity matrix\n",
    "    '''\n",
    "    def __init__(self, **kwargs):\n",
    "        super(Context2QuestionAttention, self).__init__(**kwargs)\n",
    "    \n",
    "    def build(self, input_shape):\n",
    "        super(Context2QuestionAttention, self).build(input_shape)\n",
    "\n",
    "\n",
    "    \n",
    "    def call(self, inputs):\n",
    "        question_encoding, similarity_matrix = inputs\n",
    "        masked_inp = tf.where(similarity_matrix!=0, similarity_matrix, tf.float64.min)\n",
    "        softmax_similarity_matrix = Softmax(axis=-1)(masked_inp)\n",
    "        question_encoding_expand = K.expand_dims(question_encoding, axis=1)\n",
    "        softmax_similarity_matrix_expand = K.expand_dims(softmax_similarity_matrix, axis=-1)\n",
    "        product = softmax_similarity_matrix_expand*question_encoding_expand\n",
    "        summ = K.sum(product, axis=-2)\n",
    "        return summ\n",
    "\n",
    "    def compute_output_shape(self, input_shape):\n",
    "        question_encoding_shape, _ = input_shape\n",
    "        batch_size = question_encoding_shape[0]\n",
    "        max_seq_len = question_encoding_shape[1]\n",
    "        embedding_dim = question_encoding_shape[2]\n",
    "        return (batch_size,max_seq_len, embedding_dim)"
   ]
  },
  {
   "cell_type": "markdown",
   "id": "3cc5871f",
   "metadata": {},
   "source": [
    "##### q2c"
   ]
  },
  {
   "cell_type": "code",
   "execution_count": 84,
   "id": "5acee72e",
   "metadata": {},
   "outputs": [],
   "source": [
    "class Question2ContextAttention(Layer):\n",
    "    '''\n",
    "    Similraity matrix [max_seq_len, max_seq_len]\n",
    "    Z = maximum across each row of the similarity matrix [max_seq_len, 1]\n",
    "    b = softmax on Z to get attention distribution (max_seq_len, 1)\n",
    "    ^h = Use b to take a weigthed sum of the contex matrix H (max_seq_len, 1)\n",
    "    ^H = ^h dubplicated max_seq_len times (max_seq_len, max_seq_len)\n",
    "    '''\n",
    "    \n",
    "    def __init__(self, **kwargs):\n",
    "        super(Question2ContextAttention, self).__init__(**kwargs)\n",
    "    \n",
    "    def build(self, input_shape):\n",
    "        super(Question2ContextAttention, self).build(input_shape)\n",
    "    \n",
    "    def call(self, inputs):\n",
    "        context_encoding, similarity_matrix = inputs\n",
    "        max_sim_matrix = K.max(similarity_matrix, axis=-1) # K.max also squeezes\n",
    "        print('sim_matrix', similarity_matrix)\n",
    "        print('max_sim_matrix', max_sim_matrix)\n",
    "        masked_inp = tf.where(max_sim_matrix!=0, max_sim_matrix, tf.float64.min)\n",
    "        softmax_similarity_matrix = Softmax(axis=-1)(masked_inp)\n",
    "        softmax_similarity_matrix_expand = K.expand_dims(softmax_similarity_matrix, axis=-1)\n",
    "        product = softmax_similarity_matrix_expand*context_encoding\n",
    "        weighted_sum = K.sum(product, axis=-2)\n",
    "        # Expand dimensions, so that vector can be repeated\n",
    "        expanded_weighted_sum = K.expand_dims(weighted_sum, 1)\n",
    "        # get max_seq_len\n",
    "        max_seq_len = K.shape(context_encoding)[1]\n",
    "        # repeat vector for max seq length to make matrix\n",
    "        question2context_attention = K.tile(expanded_weighted_sum, [1, max_seq_len, 1])\n",
    "        return question2context_attention\n",
    "\n",
    "    def compute_output_shape(self, input_shape):\n",
    "        batch_size = input_shape[0][0]\n",
    "        num_context_words = input_shape[0][1]\n",
    "        num_query_words = input_shape[1][1]\n",
    "        return (batch_size, num_context_words, num_query_words)"
   ]
  },
  {
   "cell_type": "markdown",
   "id": "005817f6",
   "metadata": {},
   "source": [
    "##### Mega merge"
   ]
  },
  {
   "cell_type": "code",
   "execution_count": 85,
   "id": "26586890",
   "metadata": {},
   "outputs": [],
   "source": [
    "class MegaMerge(Layer):\n",
    "    '''\n",
    "    For each word in max_seqence_length (T):\n",
    "        cu = context elementwise multiply with Û (c2q) (2d, T)\n",
    "        ch = context elementwise multiply with ^H (q2c) (2d, T)\n",
    "        Stack for each column context, Û, cu, ch. [8*embedding_dim, 1]\n",
    "    Output:\n",
    "    mega_merge (8d, T)\n",
    "\n",
    "    '''\n",
    "    \n",
    "    def __init__(self, **kwargs):\n",
    "        super(MegaMerge, self).__init__(**kwargs)\n",
    "    \n",
    "    def build(self, input_shape):\n",
    "        super(MegaMerge, self).build(input_shape)\n",
    "    \n",
    "    def call(self, inputs):\n",
    "        context_encoding, context2question_attention, question2context_attention = inputs\n",
    "\n",
    "        element_wise_multiply1 = context_encoding * context2question_attention\n",
    "        element_wise_multiply2 = context_encoding * question2context_attention\n",
    "\n",
    "        mega_merge = K.concatenate([context_encoding, context2question_attention, element_wise_multiply1, element_wise_multiply2], axis=-1)\n",
    "        return mega_merge\n",
    "\n",
    "    def compute_output_shape(self, input_shape):\n",
    "        context_encoding_shape , _, _ = input_shape\n",
    "        batch_size = context_encoding_shape[0]\n",
    "        max_seq_len = context_encoding_shape[1]\n",
    "        embedding_dim2 = context_encoding_shape[2]\n",
    "        return (batch_size, max_seq_len, embedding_dim2*4)"
   ]
  },
  {
   "cell_type": "markdown",
   "id": "fe85d948",
   "metadata": {},
   "source": [
    "##### Output layer start"
   ]
  },
  {
   "cell_type": "code",
   "execution_count": 108,
   "id": "024311f9",
   "metadata": {},
   "outputs": [],
   "source": [
    "class StartOutput(Layer):\n",
    "    '''\n",
    "    1. super merge = Concatenate first hidden_layer(T,2d) with Mega merge(T,8d)\n",
    "    Make trainable weigths (10d, 1)\n",
    "    2. dotted = Dotproduct with trainable weigths and super merge (T,1)\n",
    "    3. out = Softmax the dotted vector (T,1)\n",
    "    Output:\n",
    "    out (T,1)\n",
    "\n",
    "    '''\n",
    "    \n",
    "    def __init__(self, **kwargs):\n",
    "        super(StartOutput, self).__init__(**kwargs)\n",
    "    \n",
    "    def build(self, input_shape):\n",
    "        shape = input_shape[0][-1]*5 # want 10*embedding dimention\n",
    "        self.kernel = self.add_weight(name='startOutput_weight',\n",
    "                                        shape=(shape, 1),\n",
    "                                        initializer='uniform',\n",
    "                                        trainable=True)\n",
    "        super(StartOutput, self).build(input_shape)\n",
    "    \n",
    "    def call(self, inputs):\n",
    "        hidden_layer, mega_merge, mask = inputs\n",
    "        super_merge = K.concatenate([mega_merge, hidden_layer])\n",
    "\n",
    "        dotted = K.squeeze(K.dot(super_merge, self.kernel), axis=-1)\n",
    "        print('start, before softmax:', dotted[0][:33])\n",
    "        print('mask', mask)\n",
    "        print('shape mask', mask.shape)\n",
    "        masked_inp = tf.where(mask!=False, dotted, tf.float64.min)\n",
    "        soft_max_dotted = Softmax(axis=-1)(masked_inp)\n",
    "        return soft_max_dotted\n",
    "\n",
    "    def compute_output_shape(self, input_shape):\n",
    "        hidden_layer , _, _ = input_shape\n",
    "        batch_size = hidden_layer[0]\n",
    "        max_seq_len = hidden_layer[1]\n",
    "        return (batch_size, max_seq_len, 1)"
   ]
  },
  {
   "cell_type": "code",
   "execution_count": 109,
   "id": "a4585190",
   "metadata": {},
   "outputs": [],
   "source": [
    "class EndOutput(Layer):\n",
    "    '''\n",
    "    1. super merge = Concatenate second hidden layer with Mega merge\n",
    "    Make trainable weigths (10d, 1)\n",
    "    2. dotted = Dotproduct with trainable weigths and super merge (T,1)\n",
    "    3. out = Softmax the dotted vector (T,1)\n",
    "    Output:\n",
    "    out (T,1)\n",
    "\n",
    "    '''\n",
    "    \n",
    "    def __init__(self, **kwargs):\n",
    "        super(EndOutput, self).__init__(**kwargs)\n",
    "    \n",
    "    def build(self, input_shape):\n",
    "        shape = input_shape[0][-1]*5 # want 10*embedding dimention\n",
    "        self.kernel = self.add_weight(name='startOutput_weight',\n",
    "                                        shape=(shape, 1),\n",
    "                                        initializer='uniform',\n",
    "                                        trainable=True)\n",
    "        super(EndOutput, self).build(input_shape)\n",
    "    \n",
    "    def call(self, inputs):\n",
    "        hidden_layer, mega_merge, mask = inputs\n",
    "        super_merge = K.concatenate([mega_merge, hidden_layer])\n",
    "\n",
    "        dotted = K.dot(super_merge, self.kernel)\n",
    "        masked_inp = tf.where(mask!=False, dotted, tf.float64.min)\n",
    "        soft_max_dotted = Softmax(axis=-1)(masked_inp)\n",
    "        return soft_max_dotted\n",
    "\n",
    "    def compute_output_shape(self, input_shape):\n",
    "        hidden_layer , _, _ = input_shape\n",
    "        batch_size = hidden_layer[0]\n",
    "        max_seq_len = hidden_layer[1]\n",
    "        return (batch_size, max_seq_len, 1)"
   ]
  },
  {
   "cell_type": "markdown",
   "id": "4d13737a",
   "metadata": {},
   "source": [
    "##### Create model"
   ]
  },
  {
   "cell_type": "code",
   "execution_count": 93,
   "id": "69cb3a49",
   "metadata": {},
   "outputs": [],
   "source": [
    "def create_model(max_tokens, vocab_size, embedding_dimension):\n",
    "    '''\n",
    "        Creates keras model for classification.\n",
    "        Inputs: \n",
    "            max_tokens (int): Max length of a text sequence\n",
    "            vocab_size (int): Size of the vocabulary\n",
    "            embedding_dimension (int): The dimension of the embedding vectors\n",
    "    '''   \n",
    "\n",
    "    #-------------------------- Input layer ------------------------------------------------------------\n",
    "    question_input = Input(shape=(max_tokens, ))\n",
    "    context_input = Input(shape=(max_tokens, ))\n",
    "    #-----------------------------------------------------------------------------------------------------\n",
    "\n",
    "    #-------------------------- Word embedding ------------------------------------------------------------\n",
    "    question_embedding = Embedding(vocab_size, embedding_dimension, weights = [embedding_matrix], name='WordEmbedding_question', trainable = False, mask_zero = True)(question_input)\n",
    "    context_embedding = Embedding(vocab_size, embedding_dimension, weights = [embedding_matrix], name='WordEmbedding_context', trainable = False, mask_zero = True)(context_input)\n",
    "    #-----------------------------------------------------------------------------------------------------\n",
    "\n",
    "    #-------------------------- Encoding/sentence embedding -------------------------------------------------------\n",
    "    # Encode token sequences with bi-directional LSTM and concatenate the series of hidden vectors (done by default)\n",
    "    question_encoding = Bidirectional(LSTM(embedding_dimension, return_sequences=True, name='SentenceEmbedding_claims'))(question_embedding)\n",
    "    context_encoding = Bidirectional(LSTM(embedding_dimension, return_sequences=True, name='SentenceEmbedding_evidence'))(context_embedding)\n",
    "    #-----------------------------------------------------------------------------------------------------\n",
    "    \n",
    "    #-------------------------- Similarity ------------------------------------------------------------\n",
    "    similarity_layer = Similarity()\n",
    "    similarity_matrix = similarity_layer([question_encoding, context_encoding])\n",
    "    #-------------------------- Attention ------------------------------------------------------------\n",
    "    c2q = Context2QuestionAttention()\n",
    "    context2question_attention = c2q([question_encoding, similarity_matrix])\n",
    "\n",
    "    q2c = Question2ContextAttention()\n",
    "    question2context_attention = q2c([context_encoding, similarity_matrix])\n",
    "    #-----------------------------------------------------------------------------------------------------\n",
    "\n",
    "    #-------------------------- Megamerge --------------------------------------------------------------\n",
    "    mm = MegaMerge()\n",
    "    mega_merge = mm([context_encoding, context2question_attention, question2context_attention])\n",
    "    #-------------------------- Model layer --------------------------------------------------------------\n",
    "\n",
    "    hidden_layer = Bidirectional(LSTM(embedding_dimension, return_sequences=True))(mega_merge)\n",
    "    hidden_layer2 = Bidirectional(LSTM(embedding_dimension, return_sequences=True))(hidden_layer)\n",
    "\n",
    "    #-----------------------------------------------------------------------------------------------------\n",
    "\n",
    "    #-------------------------- Output layer -------------------------------------------------------------\n",
    "    # OBS addef the mask to remove padding\n",
    "    emb = Embedding(vocab_size, embedding_dimension, weights = [embedding_matrix], name='WordEmbedding_context', trainable = False, mask_zero = True)\n",
    "    mask = emb.compute_mask(context_input)\n",
    "    start_out_model = StartOutput()\n",
    "    start_probabilities = start_out_model([hidden_layer, mega_merge, mask])\n",
    "\n",
    "    end_out_model = EndOutput()\n",
    "    end_probabilities = end_out_model([hidden_layer2, mega_merge, mask])\n",
    "\n",
    "    return Model(inputs=[question_input, context_input], outputs=[start_probabilities, end_probabilities])\n",
    "\n"
   ]
  },
  {
   "cell_type": "code",
   "execution_count": 66,
   "id": "7c1467a3",
   "metadata": {},
   "outputs": [
    {
     "name": "stdout",
     "output_type": "stream",
     "text": [
      "Model: \"model_2\"\n",
      "__________________________________________________________________________________________________\n",
      " Layer (type)                   Output Shape         Param #     Connected to                     \n",
      "==================================================================================================\n",
      " input_8 (InputLayer)           [(None, 653)]        0           []                               \n",
      "                                                                                                  \n",
      " input_7 (InputLayer)           [(None, 653)]        0           []                               \n",
      "                                                                                                  \n",
      " WordEmbedding_context (Embeddi  (None, 653, 50)     4029400     ['input_8[0][0]']                \n",
      " ng)                                                                                              \n",
      "                                                                                                  \n",
      " WordEmbedding_question (Embedd  (None, 653, 50)     4029400     ['input_7[0][0]']                \n",
      " ing)                                                                                             \n",
      "                                                                                                  \n",
      " bidirectional_9 (Bidirectional  (None, 653, 100)    40400       ['WordEmbedding_context[0][0]']  \n",
      " )                                                                                                \n",
      "                                                                                                  \n",
      " bidirectional_8 (Bidirectional  (None, 653, 100)    40400       ['WordEmbedding_question[0][0]'] \n",
      " )                                                                                                \n",
      "                                                                                                  \n",
      " similarity_2 (Similarity)      (None, 653, 653)     300         ['bidirectional_8[0][0]',        \n",
      "                                                                  'bidirectional_9[0][0]']        \n",
      "                                                                                                  \n",
      " context2_question_attention_2   (None, 653, 100)    0           ['bidirectional_8[0][0]',        \n",
      " (Context2QuestionAttention)                                      'similarity_2[0][0]']           \n",
      "                                                                                                  \n",
      " question2_context_attention_2   (None, 653, 100)    0           ['bidirectional_9[0][0]',        \n",
      " (Question2ContextAttention)                                      'similarity_2[0][0]']           \n",
      "                                                                                                  \n",
      " mega_merge_2 (MegaMerge)       (None, 653, 400)     0           ['bidirectional_9[0][0]',        \n",
      "                                                                  'context2_question_attention_2[0\n",
      "                                                                 ][0]',                           \n",
      "                                                                  'question2_context_attention_2[0\n",
      "                                                                 ][0]']                           \n",
      "                                                                                                  \n",
      " bidirectional_10 (Bidirectiona  (None, 653, 100)    180400      ['mega_merge_2[0][0]']           \n",
      " l)                                                                                               \n",
      "                                                                                                  \n",
      " bidirectional_11 (Bidirectiona  (None, 653, 100)    60400       ['bidirectional_10[0][0]']       \n",
      " l)                                                                                               \n",
      "                                                                                                  \n",
      " start_output_2 (StartOutput)   (None, 653, 1)       500         ['bidirectional_10[0][0]',       \n",
      "                                                                  'mega_merge_2[0][0]']           \n",
      "                                                                                                  \n",
      " end_output_2 (EndOutput)       (None, 653, 1)       500         ['bidirectional_11[0][0]',       \n",
      "                                                                  'mega_merge_2[0][0]']           \n",
      "                                                                                                  \n",
      "==================================================================================================\n",
      "Total params: 8,381,700\n",
      "Trainable params: 322,900\n",
      "Non-trainable params: 8,058,800\n",
      "__________________________________________________________________________________________________\n"
     ]
    }
   ],
   "source": [
    "model = create_model(MAX_SEQ_LEN, VOCABULARY_SIZE, 50)\n",
    "model.summary()"
   ]
  },
  {
   "cell_type": "code",
   "execution_count": 110,
   "id": "8fe669ac",
   "metadata": {},
   "outputs": [],
   "source": [
    "def create_model_mock(max_tokens, vocab_size, embedding_dimension, q_input, c_input):\n",
    "    '''\n",
    "        Creates keras model for classification.\n",
    "        Inputs: \n",
    "            max_tokens (int): Max length of a text sequence\n",
    "            vocab_size (int): Size of the vocabulary\n",
    "            embedding_dimension (int): The dimension of the embedding vectors\n",
    "    '''   \n",
    "\n",
    "    #-------------------------- Input layer ------------------------------------------------------------\n",
    "    question_input = q_input\n",
    "    context_input = c_input\n",
    "    #-----------------------------------------------------------------------------------------------------\n",
    "    print('q_input:', question_input)\n",
    "    print('c_input:', context_input)\n",
    "    #-------------------------- Word embedding ------------------------------------------------------------\n",
    "    question_embedding = Embedding(vocab_size, embedding_dimension, weights = [embedding_matrix], name='WordEmbedding_question', trainable = False, mask_zero = True)(question_input)\n",
    "    context_embedding = Embedding(vocab_size, embedding_dimension, weights = [embedding_matrix], name='WordEmbedding_context', trainable = False, mask_zero = True)(context_input)\n",
    "    #-----------------------------------------------------------------------------------------------------\n",
    "    print('q_embedding: ', question_embedding)\n",
    "    print('c_embedding: ', context_embedding)\n",
    "\n",
    "    #-------------------------- Encoding/sentence embedding -------------------------------------------------------\n",
    "    # Encode token sequences with bi-directional LSTM and concatenate the series of hidden vectors (done by default)\n",
    "    question_encoding = Bidirectional(LSTM(embedding_dimension, return_sequences=True, name='SentenceEmbedding_claims'))(question_embedding)\n",
    "    context_encoding = Bidirectional(LSTM(embedding_dimension, return_sequences=True, name='SentenceEmbedding_evidence'))(context_embedding)\n",
    "    #-----------------------------------------------------------------------------------------------------\n",
    "    print('q_encoding: ', question_encoding)\n",
    "    print('c_encoding: ', context_encoding)\n",
    "    #-------------------------- Similarity ------------------------------------------------------------\n",
    "    similarity_layer = Similarity()\n",
    "    similarity_matrix = similarity_layer([question_encoding, context_encoding])\n",
    "\n",
    "    print('Similarity: ', similarity_matrix)\n",
    "    #-------------------------- Attention ------------------------------------------------------------\n",
    "    c2q = Context2QuestionAttention()\n",
    "    context2question_attention = c2q([question_encoding, similarity_matrix])\n",
    "\n",
    "    q2c = Question2ContextAttention()\n",
    "    question2context_attention = q2c([context_encoding, similarity_matrix])\n",
    "\n",
    "    print('c2q_attention: ', context2question_attention)\n",
    "    print('question2context_attention: ', question2context_attention)\n",
    "    #-----------------------------------------------------------------------------------------------------\n",
    "\n",
    "    #-------------------------- Megamerge --------------------------------------------------------------\n",
    "    mm = MegaMerge()\n",
    "    mega_merge = mm([context_encoding, context2question_attention, question2context_attention])\n",
    "    print('mega_merge: ', mega_merge)\n",
    "    #-------------------------- Model layer --------------------------------------------------------------\n",
    "\n",
    "    hidden_layer = Bidirectional(LSTM(embedding_dimension, return_sequences=True))(mega_merge)\n",
    "    hidden_layer2 = Bidirectional(LSTM(embedding_dimension, return_sequences=True))(hidden_layer)\n",
    "    print('hidden_layer: \\n', hidden_layer)\n",
    "    print('hidden_layer2: \\n', hidden_layer2)\n",
    "\n",
    "    #-----------------------------------------------------------------------------------------------------\n",
    "\n",
    "    #-------------------------- Output layer -------------------------------------------------------------\n",
    "    #OBS ADDED THIS:\n",
    "    emb = Embedding(vocab_size, embedding_dimension, weights = [embedding_matrix], name='WordEmbedding_context', trainable = False, mask_zero = True)\n",
    "    mask = emb.compute_mask(context_input)\n",
    "    start_out_model = StartOutput()\n",
    "    start_probabilities = start_out_model([hidden_layer, mega_merge, mask])\n",
    "\n",
    "    end_out_model = EndOutput()\n",
    "    end_probabilities = end_out_model([hidden_layer2, mega_merge, mask])\n",
    "\n",
    "    print('start: ', start_probabilities, '\\nend: \\n', end_probabilities)"
   ]
  },
  {
   "cell_type": "code",
   "execution_count": 63,
   "id": "c867dd5c",
   "metadata": {},
   "outputs": [
    {
     "data": {
      "text/plain": [
       "(1, 653)"
      ]
     },
     "execution_count": 63,
     "metadata": {},
     "output_type": "execute_result"
    }
   ],
   "source": [
    "question_train[0:1].shape"
   ]
  },
  {
   "cell_type": "code",
   "execution_count": 111,
   "id": "78a19351",
   "metadata": {},
   "outputs": [
    {
     "name": "stdout",
     "output_type": "stream",
     "text": [
      "q_input: [[  17  137 7930 2096   11    0    0    0    0    0    0    0    0    0\n",
      "     0    0    0    0    0    0    0    0    0    0    0    0    0    0\n",
      "     0    0    0    0    0    0    0    0    0    0    0    0    0    0\n",
      "     0    0    0    0    0    0    0    0    0    0    0    0    0    0\n",
      "     0    0    0    0    0    0    0    0    0    0    0    0    0    0\n",
      "     0    0    0    0    0    0    0    0    0    0    0    0    0    0\n",
      "     0    0    0    0    0    0    0    0    0    0    0    0    0    0\n",
      "     0    0    0    0    0    0    0    0    0    0    0    0    0    0\n",
      "     0    0    0    0    0    0    0    0    0    0    0    0    0    0\n",
      "     0    0    0    0    0    0    0    0    0    0    0    0    0    0\n",
      "     0    0    0    0    0    0    0    0    0    0    0    0    0    0\n",
      "     0    0    0    0    0    0    0    0    0    0    0    0    0    0\n",
      "     0    0    0    0    0    0    0    0    0    0    0    0    0    0\n",
      "     0    0    0    0    0    0    0    0    0    0    0    0    0    0\n",
      "     0    0    0    0    0    0    0    0    0    0    0    0    0    0\n",
      "     0    0    0    0    0    0    0    0    0    0    0    0    0    0\n",
      "     0    0    0    0    0    0    0    0    0    0    0    0    0    0\n",
      "     0    0    0    0    0    0    0    0    0    0    0    0    0    0\n",
      "     0    0    0    0    0    0    0    0    0    0    0    0    0    0\n",
      "     0    0    0    0    0    0    0    0    0    0    0    0    0    0\n",
      "     0    0    0    0    0    0    0    0    0    0    0    0    0    0\n",
      "     0    0    0    0    0    0    0    0    0    0    0    0    0    0\n",
      "     0    0    0    0    0    0    0    0    0    0    0    0    0    0\n",
      "     0    0    0    0    0    0    0    0    0    0    0    0    0    0\n",
      "     0    0    0    0    0    0    0    0    0    0    0    0    0    0\n",
      "     0    0    0    0    0    0    0    0    0    0    0    0    0    0\n",
      "     0    0    0    0    0    0    0    0    0    0    0    0    0    0\n",
      "     0    0    0    0    0    0    0    0    0    0    0    0    0    0\n",
      "     0    0    0    0    0    0    0    0    0    0    0    0    0    0\n",
      "     0    0    0    0    0    0    0    0    0    0    0    0    0    0\n",
      "     0    0    0    0    0    0    0    0    0    0    0    0    0    0\n",
      "     0    0    0    0    0    0    0    0    0    0    0    0    0    0\n",
      "     0    0    0    0    0    0    0    0    0    0    0    0    0    0\n",
      "     0    0    0    0    0    0    0    0    0    0    0    0    0    0\n",
      "     0    0    0    0    0    0    0    0    0    0    0    0    0    0\n",
      "     0    0    0    0    0    0    0    0    0    0    0    0    0    0\n",
      "     0    0    0    0    0    0    0    0    0    0    0    0    0    0\n",
      "     0    0    0    0    0    0    0    0    0    0    0    0    0    0\n",
      "     0    0    0    0    0    0    0    0    0    0    0    0    0    0\n",
      "     0    0    0    0    0    0    0    0    0    0    0    0    0    0\n",
      "     0    0    0    0    0    0    0    0    0    0    0    0    0    0\n",
      "     0    0    0    0    0    0    0    0    0    0    0    0    0    0\n",
      "     0    0    0    0    0    0    0    0    0    0    0    0    0    0\n",
      "     0    0    0    0    0    0    0    0    0    0    0    0    0    0\n",
      "     0    0    0    0    0    0    0    0    0    0    0    0    0    0\n",
      "     0    0    0    0    0    0    0    0    0    0    0    0    0    0\n",
      "     0    0    0    0    0    0    0    0    0]]\n",
      "c_input: [[   24  1195   271  6771  7930     8    24   730    14  1344   513    11\n",
      "  17439   292     2  1195  1195   271  6100    66    25  1767     5   279\n",
      "    519    47    10   605   452  1204   215  2824    23  2157  5255  1204\n",
      "      0     0     0     0     0     0     0     0     0     0     0     0\n",
      "      0     0     0     0     0     0     0     0     0     0     0     0\n",
      "      0     0     0     0     0     0     0     0     0     0     0     0\n",
      "      0     0     0     0     0     0     0     0     0     0     0     0\n",
      "      0     0     0     0     0     0     0     0     0     0     0     0\n",
      "      0     0     0     0     0     0     0     0     0     0     0     0\n",
      "      0     0     0     0     0     0     0     0     0     0     0     0\n",
      "      0     0     0     0     0     0     0     0     0     0     0     0\n",
      "      0     0     0     0     0     0     0     0     0     0     0     0\n",
      "      0     0     0     0     0     0     0     0     0     0     0     0\n",
      "      0     0     0     0     0     0     0     0     0     0     0     0\n",
      "      0     0     0     0     0     0     0     0     0     0     0     0\n",
      "      0     0     0     0     0     0     0     0     0     0     0     0\n",
      "      0     0     0     0     0     0     0     0     0     0     0     0\n",
      "      0     0     0     0     0     0     0     0     0     0     0     0\n",
      "      0     0     0     0     0     0     0     0     0     0     0     0\n",
      "      0     0     0     0     0     0     0     0     0     0     0     0\n",
      "      0     0     0     0     0     0     0     0     0     0     0     0\n",
      "      0     0     0     0     0     0     0     0     0     0     0     0\n",
      "      0     0     0     0     0     0     0     0     0     0     0     0\n",
      "      0     0     0     0     0     0     0     0     0     0     0     0\n",
      "      0     0     0     0     0     0     0     0     0     0     0     0\n",
      "      0     0     0     0     0     0     0     0     0     0     0     0\n",
      "      0     0     0     0     0     0     0     0     0     0     0     0\n",
      "      0     0     0     0     0     0     0     0     0     0     0     0\n",
      "      0     0     0     0     0     0     0     0     0     0     0     0\n",
      "      0     0     0     0     0     0     0     0     0     0     0     0\n",
      "      0     0     0     0     0     0     0     0     0     0     0     0\n",
      "      0     0     0     0     0     0     0     0     0     0     0     0\n",
      "      0     0     0     0     0     0     0     0     0     0     0     0\n",
      "      0     0     0     0     0     0     0     0     0     0     0     0\n",
      "      0     0     0     0     0     0     0     0     0     0     0     0\n",
      "      0     0     0     0     0     0     0     0     0     0     0     0\n",
      "      0     0     0     0     0     0     0     0     0     0     0     0\n",
      "      0     0     0     0     0     0     0     0     0     0     0     0\n",
      "      0     0     0     0     0     0     0     0     0     0     0     0\n",
      "      0     0     0     0     0     0     0     0     0     0     0     0\n",
      "      0     0     0     0     0     0     0     0     0     0     0     0\n",
      "      0     0     0     0     0     0     0     0     0     0     0     0\n",
      "      0     0     0     0     0     0     0     0     0     0     0     0\n",
      "      0     0     0     0     0     0     0     0     0     0     0     0\n",
      "      0     0     0     0     0     0     0     0     0     0     0     0\n",
      "      0     0     0     0     0     0     0     0     0     0     0     0\n",
      "      0     0     0     0     0     0     0     0     0     0     0     0\n",
      "      0     0     0     0     0     0     0     0     0     0     0     0\n",
      "      0     0     0     0     0     0     0     0     0     0     0     0\n",
      "      0     0     0     0     0     0     0     0     0     0     0     0\n",
      "      0     0     0     0     0     0     0     0     0     0     0     0\n",
      "      0     0     0     0     0     0     0     0     0     0     0     0\n",
      "      0     0     0     0     0     0     0     0     0     0     0     0\n",
      "      0     0     0     0     0     0     0     0     0     0     0     0\n",
      "      0     0     0     0     0]]\n",
      "q_embedding:  tf.Tensor(\n",
      "[[[ 0.45323   0.059811 -0.10577  ...  0.5324   -0.25103   0.62546 ]\n",
      "  [ 0.2293    0.34231   0.059817 ...  0.19143  -0.041528  1.0861  ]\n",
      "  [ 0.1606   -0.26528   0.77349  ...  0.46284   0.40103   0.51235 ]\n",
      "  ...\n",
      "  [ 0.        0.        0.       ...  0.        0.        0.      ]\n",
      "  [ 0.        0.        0.       ...  0.        0.        0.      ]\n",
      "  [ 0.        0.        0.       ...  0.        0.        0.      ]]], shape=(1, 653, 50), dtype=float32)\n",
      "c_embedding:  tf.Tensor(\n",
      "[[[ 0.36143   0.58615  -0.23718  ...  0.39362   0.36523   0.36077 ]\n",
      "  [ 0.57121  -0.23423   1.5067   ... -0.071777  0.4303    0.1894  ]\n",
      "  [ 0.13409   0.68926   0.45086  ...  0.29695  -0.006097  0.94897 ]\n",
      "  ...\n",
      "  [ 0.        0.        0.       ...  0.        0.        0.      ]\n",
      "  [ 0.        0.        0.       ...  0.        0.        0.      ]\n",
      "  [ 0.        0.        0.       ...  0.        0.        0.      ]]], shape=(1, 653, 50), dtype=float32)\n",
      "q_encoding:  tf.Tensor(\n",
      "[[[ 0.11868585  0.0072962  -0.00131308 ... -0.11137405 -0.13233823\n",
      "   -0.2795885 ]\n",
      "  [ 0.15523392 -0.02412489  0.00886161 ... -0.07578091 -0.11281098\n",
      "   -0.21194081]\n",
      "  [ 0.15510535 -0.05790943 -0.05242066 ...  0.01201072 -0.0981182\n",
      "   -0.10621808]\n",
      "  ...\n",
      "  [ 0.          0.          0.         ...  0.          0.\n",
      "    0.        ]\n",
      "  [ 0.          0.          0.         ...  0.          0.\n",
      "    0.        ]\n",
      "  [ 0.          0.          0.         ...  0.          0.\n",
      "    0.        ]]], shape=(1, 653, 100), dtype=float32)\n",
      "c_encoding:  tf.Tensor(\n",
      "[[[0.05779307 0.1299002  0.03203196 ... 0.1678966  0.04579685 0.3188205 ]\n",
      "  [0.15282866 0.19181034 0.15061246 ... 0.10212911 0.35515526 0.25520492]\n",
      "  [0.17335401 0.29584858 0.15485187 ... 0.26904637 0.30239472 0.33725128]\n",
      "  ...\n",
      "  [0.         0.         0.         ... 0.         0.         0.        ]\n",
      "  [0.         0.         0.         ... 0.         0.         0.        ]\n",
      "  [0.         0.         0.         ... 0.         0.         0.        ]]], shape=(1, 653, 100), dtype=float32)\n",
      "Similarity:  tf.Tensor(\n",
      "[[[-0.03358765 -0.0106939  -0.04134917 ... -0.00574858 -0.00574858\n",
      "   -0.00574858]\n",
      "  [-0.0446777  -0.02357859 -0.05345212 ... -0.02284366 -0.02284366\n",
      "   -0.02284366]\n",
      "  [-0.0322556  -0.01147563 -0.04044773 ... -0.01379273 -0.01379273\n",
      "   -0.01379273]\n",
      "  ...\n",
      "  [-0.01594264  0.00097254 -0.02810048 ...  0.          0.\n",
      "    0.        ]\n",
      "  [-0.01594264  0.00097254 -0.02810048 ...  0.          0.\n",
      "    0.        ]\n",
      "  [-0.01594264  0.00097254 -0.02810048 ...  0.          0.\n",
      "    0.        ]]], shape=(1, 653, 653), dtype=float32)\n",
      "sim_matrix tf.Tensor(\n",
      "[[[-0.03358765 -0.0106939  -0.04134917 ... -0.00574858 -0.00574858\n",
      "   -0.00574858]\n",
      "  [-0.0446777  -0.02357859 -0.05345212 ... -0.02284366 -0.02284366\n",
      "   -0.02284366]\n",
      "  [-0.0322556  -0.01147563 -0.04044773 ... -0.01379273 -0.01379273\n",
      "   -0.01379273]\n",
      "  ...\n",
      "  [-0.01594264  0.00097254 -0.02810048 ...  0.          0.\n",
      "    0.        ]\n",
      "  [-0.01594264  0.00097254 -0.02810048 ...  0.          0.\n",
      "    0.        ]\n",
      "  [-0.01594264  0.00097254 -0.02810048 ...  0.          0.\n",
      "    0.        ]]], shape=(1, 653, 653), dtype=float32)\n",
      "max_sim_matrix tf.Tensor(\n",
      "[[ 0.01051998 -0.00223979  0.00802446  0.01858674  0.00637022  0.01764072\n",
      "   0.01764072  0.01764072  0.01764072  0.01764072  0.01764072  0.01764072\n",
      "   0.01764072  0.01764072  0.01764072  0.01764072  0.01764072  0.01764072\n",
      "   0.01764072  0.01764072  0.01764072  0.01764072  0.01764072  0.01764072\n",
      "   0.01764072  0.01764072  0.01764072  0.01764072  0.01764072  0.01764072\n",
      "   0.01764072  0.01764072  0.01764072  0.01764072  0.01764072  0.01764072\n",
      "   0.01764072  0.01764072  0.01764072  0.01764072  0.01764072  0.01764072\n",
      "   0.01764072  0.01764072  0.01764072  0.01764072  0.01764072  0.01764072\n",
      "   0.01764072  0.01764072  0.01764072  0.01764072  0.01764072  0.01764072\n",
      "   0.01764072  0.01764072  0.01764072  0.01764072  0.01764072  0.01764072\n",
      "   0.01764072  0.01764072  0.01764072  0.01764072  0.01764072  0.01764072\n",
      "   0.01764072  0.01764072  0.01764072  0.01764072  0.01764072  0.01764072\n",
      "   0.01764072  0.01764072  0.01764072  0.01764072  0.01764072  0.01764072\n",
      "   0.01764072  0.01764072  0.01764072  0.01764072  0.01764072  0.01764072\n",
      "   0.01764072  0.01764072  0.01764072  0.01764072  0.01764072  0.01764072\n",
      "   0.01764072  0.01764072  0.01764072  0.01764072  0.01764072  0.01764072\n",
      "   0.01764072  0.01764072  0.01764072  0.01764072  0.01764072  0.01764072\n",
      "   0.01764072  0.01764072  0.01764072  0.01764072  0.01764072  0.01764072\n",
      "   0.01764072  0.01764072  0.01764072  0.01764072  0.01764072  0.01764072\n",
      "   0.01764072  0.01764072  0.01764072  0.01764072  0.01764072  0.01764072\n",
      "   0.01764072  0.01764072  0.01764072  0.01764072  0.01764072  0.01764072\n",
      "   0.01764072  0.01764072  0.01764072  0.01764072  0.01764072  0.01764072\n",
      "   0.01764072  0.01764072  0.01764072  0.01764072  0.01764072  0.01764072\n",
      "   0.01764072  0.01764072  0.01764072  0.01764072  0.01764072  0.01764072\n",
      "   0.01764072  0.01764072  0.01764072  0.01764072  0.01764072  0.01764072\n",
      "   0.01764072  0.01764072  0.01764072  0.01764072  0.01764072  0.01764072\n",
      "   0.01764072  0.01764072  0.01764072  0.01764072  0.01764072  0.01764072\n",
      "   0.01764072  0.01764072  0.01764072  0.01764072  0.01764072  0.01764072\n",
      "   0.01764072  0.01764072  0.01764072  0.01764072  0.01764072  0.01764072\n",
      "   0.01764072  0.01764072  0.01764072  0.01764072  0.01764072  0.01764072\n",
      "   0.01764072  0.01764072  0.01764072  0.01764072  0.01764072  0.01764072\n",
      "   0.01764072  0.01764072  0.01764072  0.01764072  0.01764072  0.01764072\n",
      "   0.01764072  0.01764072  0.01764072  0.01764072  0.01764072  0.01764072\n",
      "   0.01764072  0.01764072  0.01764072  0.01764072  0.01764072  0.01764072\n",
      "   0.01764072  0.01764072  0.01764072  0.01764072  0.01764072  0.01764072\n",
      "   0.01764072  0.01764072  0.01764072  0.01764072  0.01764072  0.01764072\n",
      "   0.01764072  0.01764072  0.01764072  0.01764072  0.01764072  0.01764072\n",
      "   0.01764072  0.01764072  0.01764072  0.01764072  0.01764072  0.01764072\n",
      "   0.01764072  0.01764072  0.01764072  0.01764072  0.01764072  0.01764072\n",
      "   0.01764072  0.01764072  0.01764072  0.01764072  0.01764072  0.01764072\n",
      "   0.01764072  0.01764072  0.01764072  0.01764072  0.01764072  0.01764072\n",
      "   0.01764072  0.01764072  0.01764072  0.01764072  0.01764072  0.01764072\n",
      "   0.01764072  0.01764072  0.01764072  0.01764072  0.01764072  0.01764072\n",
      "   0.01764072  0.01764072  0.01764072  0.01764072  0.01764072  0.01764072\n",
      "   0.01764072  0.01764072  0.01764072  0.01764072  0.01764072  0.01764072\n",
      "   0.01764072  0.01764072  0.01764072  0.01764072  0.01764072  0.01764072\n",
      "   0.01764072  0.01764072  0.01764072  0.01764072  0.01764072  0.01764072\n",
      "   0.01764072  0.01764072  0.01764072  0.01764072  0.01764072  0.01764072\n",
      "   0.01764072  0.01764072  0.01764072  0.01764072  0.01764072  0.01764072\n",
      "   0.01764072  0.01764072  0.01764072  0.01764072  0.01764072  0.01764072\n",
      "   0.01764072  0.01764072  0.01764072  0.01764072  0.01764072  0.01764072\n",
      "   0.01764072  0.01764072  0.01764072  0.01764072  0.01764072  0.01764072\n",
      "   0.01764072  0.01764072  0.01764072  0.01764072  0.01764072  0.01764072\n",
      "   0.01764072  0.01764072  0.01764072  0.01764072  0.01764072  0.01764072\n",
      "   0.01764072  0.01764072  0.01764072  0.01764072  0.01764072  0.01764072\n",
      "   0.01764072  0.01764072  0.01764072  0.01764072  0.01764072  0.01764072\n",
      "   0.01764072  0.01764072  0.01764072  0.01764072  0.01764072  0.01764072\n",
      "   0.01764072  0.01764072  0.01764072  0.01764072  0.01764072  0.01764072\n",
      "   0.01764072  0.01764072  0.01764072  0.01764072  0.01764072  0.01764072\n",
      "   0.01764072  0.01764072  0.01764072  0.01764072  0.01764072  0.01764072\n",
      "   0.01764072  0.01764072  0.01764072  0.01764072  0.01764072  0.01764072\n",
      "   0.01764072  0.01764072  0.01764072  0.01764072  0.01764072  0.01764072\n",
      "   0.01764072  0.01764072  0.01764072  0.01764072  0.01764072  0.01764072\n",
      "   0.01764072  0.01764072  0.01764072  0.01764072  0.01764072  0.01764072\n",
      "   0.01764072  0.01764072  0.01764072  0.01764072  0.01764072  0.01764072\n",
      "   0.01764072  0.01764072  0.01764072  0.01764072  0.01764072  0.01764072\n",
      "   0.01764072  0.01764072  0.01764072  0.01764072  0.01764072  0.01764072\n",
      "   0.01764072  0.01764072  0.01764072  0.01764072  0.01764072  0.01764072\n",
      "   0.01764072  0.01764072  0.01764072  0.01764072  0.01764072  0.01764072\n",
      "   0.01764072  0.01764072  0.01764072  0.01764072  0.01764072  0.01764072\n",
      "   0.01764072  0.01764072  0.01764072  0.01764072  0.01764072  0.01764072\n",
      "   0.01764072  0.01764072  0.01764072  0.01764072  0.01764072  0.01764072\n",
      "   0.01764072  0.01764072  0.01764072  0.01764072  0.01764072  0.01764072\n",
      "   0.01764072  0.01764072  0.01764072  0.01764072  0.01764072  0.01764072\n",
      "   0.01764072  0.01764072  0.01764072  0.01764072  0.01764072  0.01764072\n",
      "   0.01764072  0.01764072  0.01764072  0.01764072  0.01764072  0.01764072\n",
      "   0.01764072  0.01764072  0.01764072  0.01764072  0.01764072  0.01764072\n",
      "   0.01764072  0.01764072  0.01764072  0.01764072  0.01764072  0.01764072\n",
      "   0.01764072  0.01764072  0.01764072  0.01764072  0.01764072  0.01764072\n",
      "   0.01764072  0.01764072  0.01764072  0.01764072  0.01764072  0.01764072\n",
      "   0.01764072  0.01764072  0.01764072  0.01764072  0.01764072  0.01764072\n",
      "   0.01764072  0.01764072  0.01764072  0.01764072  0.01764072  0.01764072\n",
      "   0.01764072  0.01764072  0.01764072  0.01764072  0.01764072  0.01764072\n",
      "   0.01764072  0.01764072  0.01764072  0.01764072  0.01764072  0.01764072\n",
      "   0.01764072  0.01764072  0.01764072  0.01764072  0.01764072  0.01764072\n",
      "   0.01764072  0.01764072  0.01764072  0.01764072  0.01764072  0.01764072\n",
      "   0.01764072  0.01764072  0.01764072  0.01764072  0.01764072  0.01764072\n",
      "   0.01764072  0.01764072  0.01764072  0.01764072  0.01764072  0.01764072\n",
      "   0.01764072  0.01764072  0.01764072  0.01764072  0.01764072  0.01764072\n",
      "   0.01764072  0.01764072  0.01764072  0.01764072  0.01764072  0.01764072\n",
      "   0.01764072  0.01764072  0.01764072  0.01764072  0.01764072  0.01764072\n",
      "   0.01764072  0.01764072  0.01764072  0.01764072  0.01764072  0.01764072\n",
      "   0.01764072  0.01764072  0.01764072  0.01764072  0.01764072  0.01764072\n",
      "   0.01764072  0.01764072  0.01764072  0.01764072  0.01764072  0.01764072\n",
      "   0.01764072  0.01764072  0.01764072  0.01764072  0.01764072  0.01764072\n",
      "   0.01764072  0.01764072  0.01764072  0.01764072  0.01764072  0.01764072\n",
      "   0.01764072  0.01764072  0.01764072  0.01764072  0.01764072  0.01764072\n",
      "   0.01764072  0.01764072  0.01764072  0.01764072  0.01764072  0.01764072\n",
      "   0.01764072  0.01764072  0.01764072  0.01764072  0.01764072  0.01764072\n",
      "   0.01764072  0.01764072  0.01764072  0.01764072  0.01764072  0.01764072\n",
      "   0.01764072  0.01764072  0.01764072  0.01764072  0.01764072  0.01764072\n",
      "   0.01764072  0.01764072  0.01764072  0.01764072  0.01764072  0.01764072\n",
      "   0.01764072  0.01764072  0.01764072  0.01764072  0.01764072  0.01764072\n",
      "   0.01764072  0.01764072  0.01764072  0.01764072  0.01764072  0.01764072\n",
      "   0.01764072  0.01764072  0.01764072  0.01764072  0.01764072  0.01764072\n",
      "   0.01764072  0.01764072  0.01764072  0.01764072  0.01764072  0.01764072\n",
      "   0.01764072  0.01764072  0.01764072  0.01764072  0.01764072  0.01764072\n",
      "   0.01764072  0.01764072  0.01764072  0.01764072  0.01764072  0.01764072\n",
      "   0.01764072  0.01764072  0.01764072  0.01764072  0.01764072]], shape=(1, 653), dtype=float32)\n",
      "c2q_attention:  tf.Tensor(\n",
      "[[[ 0.00110575 -0.00055577  0.00015435 ... -0.00028894 -0.00074402\n",
      "   -0.0013695 ]\n",
      "  [ 0.00111083 -0.00055817  0.00015487 ... -0.00029041 -0.00074749\n",
      "   -0.00137594]\n",
      "  [ 0.00111333 -0.00055888  0.00015472 ... -0.00029125 -0.00074936\n",
      "   -0.00137919]\n",
      "  ...\n",
      "  [ 0.02129884 -0.01068149  0.00295635 ... -0.00558228 -0.01434313\n",
      "   -0.0264018 ]\n",
      "  [ 0.02129884 -0.01068149  0.00295635 ... -0.00558228 -0.01434313\n",
      "   -0.0264018 ]\n",
      "  [ 0.02129884 -0.01068149  0.00295635 ... -0.00558228 -0.01434313\n",
      "   -0.0264018 ]]], shape=(1, 653, 100), dtype=float32)\n",
      "question2context_attention:  tf.Tensor(\n",
      "[[[ 0.01345642  0.01561245  0.00661371 ...  0.00432352 -0.00110596\n",
      "    0.01708665]\n",
      "  [ 0.01345642  0.01561245  0.00661371 ...  0.00432352 -0.00110596\n",
      "    0.01708665]\n",
      "  [ 0.01345642  0.01561245  0.00661371 ...  0.00432352 -0.00110596\n",
      "    0.01708665]\n",
      "  ...\n",
      "  [ 0.01345642  0.01561245  0.00661371 ...  0.00432352 -0.00110596\n",
      "    0.01708665]\n",
      "  [ 0.01345642  0.01561245  0.00661371 ...  0.00432352 -0.00110596\n",
      "    0.01708665]\n",
      "  [ 0.01345642  0.01561245  0.00661371 ...  0.00432352 -0.00110596\n",
      "    0.01708665]]], shape=(1, 653, 100), dtype=float32)\n",
      "mega_merge:  tf.Tensor(\n",
      "[[[ 5.7793070e-02  1.2990020e-01  3.2031965e-02 ...  7.2590436e-04\n",
      "   -5.0649651e-05  5.4475740e-03]\n",
      "  [ 1.5282866e-01  1.9181034e-01  1.5061246e-01 ...  4.4155726e-04\n",
      "   -3.9278879e-04  4.3605971e-03]\n",
      "  [ 1.7335401e-01  2.9584858e-01  1.5485187e-01 ...  1.1632274e-03\n",
      "   -3.3443756e-04  5.7624942e-03]\n",
      "  ...\n",
      "  [ 0.0000000e+00  0.0000000e+00  0.0000000e+00 ...  0.0000000e+00\n",
      "   -0.0000000e+00  0.0000000e+00]\n",
      "  [ 0.0000000e+00  0.0000000e+00  0.0000000e+00 ...  0.0000000e+00\n",
      "   -0.0000000e+00  0.0000000e+00]\n",
      "  [ 0.0000000e+00  0.0000000e+00  0.0000000e+00 ...  0.0000000e+00\n",
      "   -0.0000000e+00  0.0000000e+00]]], shape=(1, 653, 400), dtype=float32)\n",
      "hidden_layer: \n",
      " tf.Tensor(\n",
      "[[[ 0.05978339  0.0055762   0.02620285 ...  0.17232013 -0.06389042\n",
      "    0.08607335]\n",
      "  [ 0.12162439  0.00472451  0.05814575 ...  0.18060473 -0.06042244\n",
      "    0.07964776]\n",
      "  [ 0.15154004  0.00269563  0.09032577 ...  0.19161572 -0.0392547\n",
      "    0.06922436]\n",
      "  ...\n",
      "  [-0.00413272  0.01384332  0.02678346 ... -0.00354472 -0.00477816\n",
      "    0.00222913]\n",
      "  [-0.00413272  0.01384332  0.02678346 ... -0.00300468 -0.00390431\n",
      "    0.00162272]\n",
      "  [-0.00413272  0.01384332  0.02678346 ... -0.00195611 -0.00243835\n",
      "    0.00088972]]], shape=(1, 653, 100), dtype=float32)\n",
      "hidden_layer2: \n",
      " tf.Tensor(\n",
      "[[[ 0.00182173  0.00348677 -0.01074078 ... -0.03112382 -0.08913923\n",
      "   -0.09789452]\n",
      "  [ 0.00335099  0.00613199 -0.02223819 ... -0.03932735 -0.09749126\n",
      "   -0.10377173]\n",
      "  [ 0.00681384  0.00730995 -0.03591431 ... -0.04324901 -0.10697528\n",
      "   -0.10593295]\n",
      "  ...\n",
      "  [-0.00254964 -0.00370799 -0.00469739 ... -0.00077335  0.00370739\n",
      "    0.00206166]\n",
      "  [-0.00233953 -0.00340102 -0.00485731 ... -0.00083134  0.00290964\n",
      "    0.00109713]\n",
      "  [-0.00192761 -0.0029619  -0.00502479 ... -0.0006614   0.00169631\n",
      "    0.00030564]]], shape=(1, 653, 100), dtype=float32)\n",
      "start, before softmax: tf.Tensor(\n",
      "[-0.07790796 -0.087209   -0.0995861  -0.09511783 -0.10630156 -0.13052183\n",
      " -0.14105356 -0.12922174 -0.12255072 -0.1296907  -0.11779161 -0.12844685\n",
      " -0.1171035  -0.13553886 -0.15126295 -0.16196924 -0.16118996 -0.15282279\n",
      " -0.15322739 -0.15487702 -0.1465877  -0.12315948 -0.10910822 -0.11847569\n",
      " -0.14888501 -0.1428649  -0.12313949 -0.14963232 -0.12013873 -0.14087975\n",
      " -0.16359799 -0.14205979 -0.1264567 ], shape=(33,), dtype=float32)\n",
      "mask tf.Tensor(\n",
      "[[ True  True  True  True  True  True  True  True  True  True  True  True\n",
      "   True  True  True  True  True  True  True  True  True  True  True  True\n",
      "   True  True  True  True  True  True  True  True  True  True  True  True\n",
      "  False False False False False False False False False False False False\n",
      "  False False False False False False False False False False False False\n",
      "  False False False False False False False False False False False False\n",
      "  False False False False False False False False False False False False\n",
      "  False False False False False False False False False False False False\n",
      "  False False False False False False False False False False False False\n",
      "  False False False False False False False False False False False False\n",
      "  False False False False False False False False False False False False\n",
      "  False False False False False False False False False False False False\n",
      "  False False False False False False False False False False False False\n",
      "  False False False False False False False False False False False False\n",
      "  False False False False False False False False False False False False\n",
      "  False False False False False False False False False False False False\n",
      "  False False False False False False False False False False False False\n",
      "  False False False False False False False False False False False False\n",
      "  False False False False False False False False False False False False\n",
      "  False False False False False False False False False False False False\n",
      "  False False False False False False False False False False False False\n",
      "  False False False False False False False False False False False False\n",
      "  False False False False False False False False False False False False\n",
      "  False False False False False False False False False False False False\n",
      "  False False False False False False False False False False False False\n",
      "  False False False False False False False False False False False False\n",
      "  False False False False False False False False False False False False\n",
      "  False False False False False False False False False False False False\n",
      "  False False False False False False False False False False False False\n",
      "  False False False False False False False False False False False False\n",
      "  False False False False False False False False False False False False\n",
      "  False False False False False False False False False False False False\n",
      "  False False False False False False False False False False False False\n",
      "  False False False False False False False False False False False False\n",
      "  False False False False False False False False False False False False\n",
      "  False False False False False False False False False False False False\n",
      "  False False False False False False False False False False False False\n",
      "  False False False False False False False False False False False False\n",
      "  False False False False False False False False False False False False\n",
      "  False False False False False False False False False False False False\n",
      "  False False False False False False False False False False False False\n",
      "  False False False False False False False False False False False False\n",
      "  False False False False False False False False False False False False\n",
      "  False False False False False False False False False False False False\n",
      "  False False False False False False False False False False False False\n",
      "  False False False False False False False False False False False False\n",
      "  False False False False False False False False False False False False\n",
      "  False False False False False False False False False False False False\n",
      "  False False False False False False False False False False False False\n",
      "  False False False False False False False False False False False False\n",
      "  False False False False False False False False False False False False\n",
      "  False False False False False False False False False False False False\n",
      "  False False False False False False False False False False False False\n",
      "  False False False False False False False False False False False False\n",
      "  False False False False False]], shape=(1, 653), dtype=bool)\n",
      "shape mask (1, 653)\n",
      "start:  tf.Tensor(\n",
      "[[0.02913529 0.02886556 0.02851049 0.02863817 0.02831967 0.027642\n",
      "  0.02735241 0.02767796 0.02786322 0.02766498 0.02799614 0.02769942\n",
      "  0.02801541 0.02750367 0.02707458 0.02678625 0.02680714 0.02703238\n",
      "  0.02702144 0.02697691 0.02720146 0.02784626 0.0282403  0.02797699\n",
      "  0.02713904 0.02730291 0.02784682 0.02711876 0.0279305  0.02735716\n",
      "  0.02674267 0.0273249  0.0277546  0.02861673 0.02967498 0.02934284\n",
      "  0.         0.         0.         0.         0.         0.\n",
      "  0.         0.         0.         0.         0.         0.\n",
      "  0.         0.         0.         0.         0.         0.\n",
      "  0.         0.         0.         0.         0.         0.\n",
      "  0.         0.         0.         0.         0.         0.\n",
      "  0.         0.         0.         0.         0.         0.\n",
      "  0.         0.         0.         0.         0.         0.\n",
      "  0.         0.         0.         0.         0.         0.\n",
      "  0.         0.         0.         0.         0.         0.\n",
      "  0.         0.         0.         0.         0.         0.\n",
      "  0.         0.         0.         0.         0.         0.\n",
      "  0.         0.         0.         0.         0.         0.\n",
      "  0.         0.         0.         0.         0.         0.\n",
      "  0.         0.         0.         0.         0.         0.\n",
      "  0.         0.         0.         0.         0.         0.\n",
      "  0.         0.         0.         0.         0.         0.\n",
      "  0.         0.         0.         0.         0.         0.\n",
      "  0.         0.         0.         0.         0.         0.\n",
      "  0.         0.         0.         0.         0.         0.\n",
      "  0.         0.         0.         0.         0.         0.\n",
      "  0.         0.         0.         0.         0.         0.\n",
      "  0.         0.         0.         0.         0.         0.\n",
      "  0.         0.         0.         0.         0.         0.\n",
      "  0.         0.         0.         0.         0.         0.\n",
      "  0.         0.         0.         0.         0.         0.\n",
      "  0.         0.         0.         0.         0.         0.\n",
      "  0.         0.         0.         0.         0.         0.\n",
      "  0.         0.         0.         0.         0.         0.\n",
      "  0.         0.         0.         0.         0.         0.\n",
      "  0.         0.         0.         0.         0.         0.\n",
      "  0.         0.         0.         0.         0.         0.\n",
      "  0.         0.         0.         0.         0.         0.\n",
      "  0.         0.         0.         0.         0.         0.\n",
      "  0.         0.         0.         0.         0.         0.\n",
      "  0.         0.         0.         0.         0.         0.\n",
      "  0.         0.         0.         0.         0.         0.\n",
      "  0.         0.         0.         0.         0.         0.\n",
      "  0.         0.         0.         0.         0.         0.\n",
      "  0.         0.         0.         0.         0.         0.\n",
      "  0.         0.         0.         0.         0.         0.\n",
      "  0.         0.         0.         0.         0.         0.\n",
      "  0.         0.         0.         0.         0.         0.\n",
      "  0.         0.         0.         0.         0.         0.\n",
      "  0.         0.         0.         0.         0.         0.\n",
      "  0.         0.         0.         0.         0.         0.\n",
      "  0.         0.         0.         0.         0.         0.\n",
      "  0.         0.         0.         0.         0.         0.\n",
      "  0.         0.         0.         0.         0.         0.\n",
      "  0.         0.         0.         0.         0.         0.\n",
      "  0.         0.         0.         0.         0.         0.\n",
      "  0.         0.         0.         0.         0.         0.\n",
      "  0.         0.         0.         0.         0.         0.\n",
      "  0.         0.         0.         0.         0.         0.\n",
      "  0.         0.         0.         0.         0.         0.\n",
      "  0.         0.         0.         0.         0.         0.\n",
      "  0.         0.         0.         0.         0.         0.\n",
      "  0.         0.         0.         0.         0.         0.\n",
      "  0.         0.         0.         0.         0.         0.\n",
      "  0.         0.         0.         0.         0.         0.\n",
      "  0.         0.         0.         0.         0.         0.\n",
      "  0.         0.         0.         0.         0.         0.\n",
      "  0.         0.         0.         0.         0.         0.\n",
      "  0.         0.         0.         0.         0.         0.\n",
      "  0.         0.         0.         0.         0.         0.\n",
      "  0.         0.         0.         0.         0.         0.\n",
      "  0.         0.         0.         0.         0.         0.\n",
      "  0.         0.         0.         0.         0.         0.\n",
      "  0.         0.         0.         0.         0.         0.\n",
      "  0.         0.         0.         0.         0.         0.\n",
      "  0.         0.         0.         0.         0.         0.\n",
      "  0.         0.         0.         0.         0.         0.\n",
      "  0.         0.         0.         0.         0.         0.\n",
      "  0.         0.         0.         0.         0.         0.\n",
      "  0.         0.         0.         0.         0.         0.\n",
      "  0.         0.         0.         0.         0.         0.\n",
      "  0.         0.         0.         0.         0.         0.\n",
      "  0.         0.         0.         0.         0.         0.\n",
      "  0.         0.         0.         0.         0.         0.\n",
      "  0.         0.         0.         0.         0.         0.\n",
      "  0.         0.         0.         0.         0.         0.\n",
      "  0.         0.         0.         0.         0.         0.\n",
      "  0.         0.         0.         0.         0.         0.\n",
      "  0.         0.         0.         0.         0.         0.\n",
      "  0.         0.         0.         0.         0.         0.\n",
      "  0.         0.         0.         0.         0.         0.\n",
      "  0.         0.         0.         0.         0.         0.\n",
      "  0.         0.         0.         0.         0.         0.\n",
      "  0.         0.         0.         0.         0.         0.\n",
      "  0.         0.         0.         0.         0.         0.\n",
      "  0.         0.         0.         0.         0.         0.\n",
      "  0.         0.         0.         0.         0.         0.\n",
      "  0.         0.         0.         0.         0.         0.\n",
      "  0.         0.         0.         0.         0.         0.\n",
      "  0.         0.         0.         0.         0.         0.\n",
      "  0.         0.         0.         0.         0.         0.\n",
      "  0.         0.         0.         0.         0.         0.\n",
      "  0.         0.         0.         0.         0.         0.\n",
      "  0.         0.         0.         0.         0.         0.\n",
      "  0.         0.         0.         0.         0.         0.\n",
      "  0.         0.         0.         0.         0.         0.\n",
      "  0.         0.         0.         0.         0.         0.\n",
      "  0.         0.         0.         0.         0.         0.\n",
      "  0.         0.         0.         0.         0.        ]], shape=(1, 653), dtype=float32) \n",
      "end: \n",
      " tf.Tensor(\n",
      "[[[0.02777778 0.02777778 0.02777778 ... 0.         0.         0.        ]\n",
      "  [0.02777778 0.02777778 0.02777778 ... 0.         0.         0.        ]\n",
      "  [0.02777778 0.02777778 0.02777778 ... 0.         0.         0.        ]\n",
      "  ...\n",
      "  [0.02777778 0.02777778 0.02777778 ... 0.         0.         0.        ]\n",
      "  [0.02777778 0.02777778 0.02777778 ... 0.         0.         0.        ]\n",
      "  [0.02777778 0.02777778 0.02777778 ... 0.         0.         0.        ]]], shape=(1, 653, 653), dtype=float32)\n"
     ]
    }
   ],
   "source": [
    "create_model_mock(MAX_SEQ_LEN, VOCABULARY_SIZE, 50, question_train[0:1], context_train[0:1])"
   ]
  },
  {
   "cell_type": "code",
   "execution_count": 62,
   "id": "2439b43a",
   "metadata": {},
   "outputs": [
    {
     "name": "stdout",
     "output_type": "stream",
     "text": [
      "Epoch 1/2\n",
      "  132/69377 [..............................] - ETA: 37:02:56 - loss: 1.9969 - start_output_1_loss: 0.9985 - end_output_1_loss: 0.9985 - start_output_1_acc: 0.0015 - end_output_1_acc: 0.0015"
     ]
    },
    {
     "ename": "KeyboardInterrupt",
     "evalue": "",
     "output_type": "error",
     "traceback": [
      "\u001b[0;31m---------------------------------------------------------------------------\u001b[0m",
      "\u001b[0;31mKeyboardInterrupt\u001b[0m                         Traceback (most recent call last)",
      "\u001b[0;32m/var/folders/t4/vnxj6kkj2n97knry5lnrscx00000gn/T/ipykernel_69713/555842375.py\u001b[0m in \u001b[0;36m<module>\u001b[0;34m\u001b[0m\n\u001b[1;32m      2\u001b[0m               \u001b[0moptimizer\u001b[0m\u001b[0;34m=\u001b[0m\u001b[0;34m'Adam'\u001b[0m\u001b[0;34m,\u001b[0m\u001b[0;34m\u001b[0m\u001b[0;34m\u001b[0m\u001b[0m\n\u001b[1;32m      3\u001b[0m               metrics=['acc'])\n\u001b[0;32m----> 4\u001b[0;31m \u001b[0mhistory\u001b[0m \u001b[0;34m=\u001b[0m \u001b[0mmodel\u001b[0m\u001b[0;34m.\u001b[0m\u001b[0mfit\u001b[0m\u001b[0;34m(\u001b[0m\u001b[0mx\u001b[0m\u001b[0;34m=\u001b[0m\u001b[0;34m[\u001b[0m\u001b[0mcontext_train\u001b[0m\u001b[0;34m,\u001b[0m \u001b[0mquestion_train\u001b[0m\u001b[0;34m]\u001b[0m\u001b[0;34m,\u001b[0m \u001b[0my\u001b[0m\u001b[0;34m=\u001b[0m\u001b[0;34m[\u001b[0m\u001b[0mindex_start_train\u001b[0m\u001b[0;34m,\u001b[0m \u001b[0mindex_end_train\u001b[0m\u001b[0;34m]\u001b[0m\u001b[0;34m,\u001b[0m \u001b[0mbatch_size\u001b[0m\u001b[0;34m=\u001b[0m\u001b[0;36m1\u001b[0m\u001b[0;34m,\u001b[0m \u001b[0mepochs\u001b[0m\u001b[0;34m=\u001b[0m\u001b[0;36m2\u001b[0m\u001b[0;34m,\u001b[0m \u001b[0mvalidation_data\u001b[0m\u001b[0;34m=\u001b[0m\u001b[0;34m(\u001b[0m\u001b[0;34m[\u001b[0m\u001b[0mcontext_val\u001b[0m\u001b[0;34m,\u001b[0m \u001b[0mquestion_val\u001b[0m\u001b[0;34m]\u001b[0m\u001b[0;34m,\u001b[0m \u001b[0;34m[\u001b[0m\u001b[0mindex_start_val\u001b[0m\u001b[0;34m,\u001b[0m \u001b[0mindex_end_val\u001b[0m\u001b[0;34m]\u001b[0m\u001b[0;34m)\u001b[0m\u001b[0;34m)\u001b[0m\u001b[0;34m\u001b[0m\u001b[0;34m\u001b[0m\u001b[0m\n\u001b[0m",
      "\u001b[0;32m/usr/local/lib/python3.9/site-packages/keras/utils/traceback_utils.py\u001b[0m in \u001b[0;36merror_handler\u001b[0;34m(*args, **kwargs)\u001b[0m\n\u001b[1;32m     62\u001b[0m     \u001b[0mfiltered_tb\u001b[0m \u001b[0;34m=\u001b[0m \u001b[0;32mNone\u001b[0m\u001b[0;34m\u001b[0m\u001b[0;34m\u001b[0m\u001b[0m\n\u001b[1;32m     63\u001b[0m     \u001b[0;32mtry\u001b[0m\u001b[0;34m:\u001b[0m\u001b[0;34m\u001b[0m\u001b[0;34m\u001b[0m\u001b[0m\n\u001b[0;32m---> 64\u001b[0;31m       \u001b[0;32mreturn\u001b[0m \u001b[0mfn\u001b[0m\u001b[0;34m(\u001b[0m\u001b[0;34m*\u001b[0m\u001b[0margs\u001b[0m\u001b[0;34m,\u001b[0m \u001b[0;34m**\u001b[0m\u001b[0mkwargs\u001b[0m\u001b[0;34m)\u001b[0m\u001b[0;34m\u001b[0m\u001b[0;34m\u001b[0m\u001b[0m\n\u001b[0m\u001b[1;32m     65\u001b[0m     \u001b[0;32mexcept\u001b[0m \u001b[0mException\u001b[0m \u001b[0;32mas\u001b[0m \u001b[0me\u001b[0m\u001b[0;34m:\u001b[0m  \u001b[0;31m# pylint: disable=broad-except\u001b[0m\u001b[0;34m\u001b[0m\u001b[0;34m\u001b[0m\u001b[0m\n\u001b[1;32m     66\u001b[0m       \u001b[0mfiltered_tb\u001b[0m \u001b[0;34m=\u001b[0m \u001b[0m_process_traceback_frames\u001b[0m\u001b[0;34m(\u001b[0m\u001b[0me\u001b[0m\u001b[0;34m.\u001b[0m\u001b[0m__traceback__\u001b[0m\u001b[0;34m)\u001b[0m\u001b[0;34m\u001b[0m\u001b[0;34m\u001b[0m\u001b[0m\n",
      "\u001b[0;32m/usr/local/lib/python3.9/site-packages/keras/engine/training.py\u001b[0m in \u001b[0;36mfit\u001b[0;34m(self, x, y, batch_size, epochs, verbose, callbacks, validation_split, validation_data, shuffle, class_weight, sample_weight, initial_epoch, steps_per_epoch, validation_steps, validation_batch_size, validation_freq, max_queue_size, workers, use_multiprocessing)\u001b[0m\n\u001b[1;32m   1214\u001b[0m                 _r=1):\n\u001b[1;32m   1215\u001b[0m               \u001b[0mcallbacks\u001b[0m\u001b[0;34m.\u001b[0m\u001b[0mon_train_batch_begin\u001b[0m\u001b[0;34m(\u001b[0m\u001b[0mstep\u001b[0m\u001b[0;34m)\u001b[0m\u001b[0;34m\u001b[0m\u001b[0;34m\u001b[0m\u001b[0m\n\u001b[0;32m-> 1216\u001b[0;31m               \u001b[0mtmp_logs\u001b[0m \u001b[0;34m=\u001b[0m \u001b[0mself\u001b[0m\u001b[0;34m.\u001b[0m\u001b[0mtrain_function\u001b[0m\u001b[0;34m(\u001b[0m\u001b[0miterator\u001b[0m\u001b[0;34m)\u001b[0m\u001b[0;34m\u001b[0m\u001b[0;34m\u001b[0m\u001b[0m\n\u001b[0m\u001b[1;32m   1217\u001b[0m               \u001b[0;32mif\u001b[0m \u001b[0mdata_handler\u001b[0m\u001b[0;34m.\u001b[0m\u001b[0mshould_sync\u001b[0m\u001b[0;34m:\u001b[0m\u001b[0;34m\u001b[0m\u001b[0;34m\u001b[0m\u001b[0m\n\u001b[1;32m   1218\u001b[0m                 \u001b[0mcontext\u001b[0m\u001b[0;34m.\u001b[0m\u001b[0masync_wait\u001b[0m\u001b[0;34m(\u001b[0m\u001b[0;34m)\u001b[0m\u001b[0;34m\u001b[0m\u001b[0;34m\u001b[0m\u001b[0m\n",
      "\u001b[0;32m/usr/local/lib/python3.9/site-packages/tensorflow/python/util/traceback_utils.py\u001b[0m in \u001b[0;36merror_handler\u001b[0;34m(*args, **kwargs)\u001b[0m\n\u001b[1;32m    148\u001b[0m     \u001b[0mfiltered_tb\u001b[0m \u001b[0;34m=\u001b[0m \u001b[0;32mNone\u001b[0m\u001b[0;34m\u001b[0m\u001b[0;34m\u001b[0m\u001b[0m\n\u001b[1;32m    149\u001b[0m     \u001b[0;32mtry\u001b[0m\u001b[0;34m:\u001b[0m\u001b[0;34m\u001b[0m\u001b[0;34m\u001b[0m\u001b[0m\n\u001b[0;32m--> 150\u001b[0;31m       \u001b[0;32mreturn\u001b[0m \u001b[0mfn\u001b[0m\u001b[0;34m(\u001b[0m\u001b[0;34m*\u001b[0m\u001b[0margs\u001b[0m\u001b[0;34m,\u001b[0m \u001b[0;34m**\u001b[0m\u001b[0mkwargs\u001b[0m\u001b[0;34m)\u001b[0m\u001b[0;34m\u001b[0m\u001b[0;34m\u001b[0m\u001b[0m\n\u001b[0m\u001b[1;32m    151\u001b[0m     \u001b[0;32mexcept\u001b[0m \u001b[0mException\u001b[0m \u001b[0;32mas\u001b[0m \u001b[0me\u001b[0m\u001b[0;34m:\u001b[0m\u001b[0;34m\u001b[0m\u001b[0;34m\u001b[0m\u001b[0m\n\u001b[1;32m    152\u001b[0m       \u001b[0mfiltered_tb\u001b[0m \u001b[0;34m=\u001b[0m \u001b[0m_process_traceback_frames\u001b[0m\u001b[0;34m(\u001b[0m\u001b[0me\u001b[0m\u001b[0;34m.\u001b[0m\u001b[0m__traceback__\u001b[0m\u001b[0;34m)\u001b[0m\u001b[0;34m\u001b[0m\u001b[0;34m\u001b[0m\u001b[0m\n",
      "\u001b[0;32m/usr/local/lib/python3.9/site-packages/tensorflow/python/eager/def_function.py\u001b[0m in \u001b[0;36m__call__\u001b[0;34m(self, *args, **kwds)\u001b[0m\n\u001b[1;32m    908\u001b[0m \u001b[0;34m\u001b[0m\u001b[0m\n\u001b[1;32m    909\u001b[0m       \u001b[0;32mwith\u001b[0m \u001b[0mOptionalXlaContext\u001b[0m\u001b[0;34m(\u001b[0m\u001b[0mself\u001b[0m\u001b[0;34m.\u001b[0m\u001b[0m_jit_compile\u001b[0m\u001b[0;34m)\u001b[0m\u001b[0;34m:\u001b[0m\u001b[0;34m\u001b[0m\u001b[0;34m\u001b[0m\u001b[0m\n\u001b[0;32m--> 910\u001b[0;31m         \u001b[0mresult\u001b[0m \u001b[0;34m=\u001b[0m \u001b[0mself\u001b[0m\u001b[0;34m.\u001b[0m\u001b[0m_call\u001b[0m\u001b[0;34m(\u001b[0m\u001b[0;34m*\u001b[0m\u001b[0margs\u001b[0m\u001b[0;34m,\u001b[0m \u001b[0;34m**\u001b[0m\u001b[0mkwds\u001b[0m\u001b[0;34m)\u001b[0m\u001b[0;34m\u001b[0m\u001b[0;34m\u001b[0m\u001b[0m\n\u001b[0m\u001b[1;32m    911\u001b[0m \u001b[0;34m\u001b[0m\u001b[0m\n\u001b[1;32m    912\u001b[0m       \u001b[0mnew_tracing_count\u001b[0m \u001b[0;34m=\u001b[0m \u001b[0mself\u001b[0m\u001b[0;34m.\u001b[0m\u001b[0mexperimental_get_tracing_count\u001b[0m\u001b[0;34m(\u001b[0m\u001b[0;34m)\u001b[0m\u001b[0;34m\u001b[0m\u001b[0;34m\u001b[0m\u001b[0m\n",
      "\u001b[0;32m/usr/local/lib/python3.9/site-packages/tensorflow/python/eager/def_function.py\u001b[0m in \u001b[0;36m_call\u001b[0;34m(self, *args, **kwds)\u001b[0m\n\u001b[1;32m    940\u001b[0m       \u001b[0;31m# In this case we have created variables on the first call, so we run the\u001b[0m\u001b[0;34m\u001b[0m\u001b[0;34m\u001b[0m\u001b[0;34m\u001b[0m\u001b[0m\n\u001b[1;32m    941\u001b[0m       \u001b[0;31m# defunned version which is guaranteed to never create variables.\u001b[0m\u001b[0;34m\u001b[0m\u001b[0;34m\u001b[0m\u001b[0;34m\u001b[0m\u001b[0m\n\u001b[0;32m--> 942\u001b[0;31m       \u001b[0;32mreturn\u001b[0m \u001b[0mself\u001b[0m\u001b[0;34m.\u001b[0m\u001b[0m_stateless_fn\u001b[0m\u001b[0;34m(\u001b[0m\u001b[0;34m*\u001b[0m\u001b[0margs\u001b[0m\u001b[0;34m,\u001b[0m \u001b[0;34m**\u001b[0m\u001b[0mkwds\u001b[0m\u001b[0;34m)\u001b[0m  \u001b[0;31m# pylint: disable=not-callable\u001b[0m\u001b[0;34m\u001b[0m\u001b[0;34m\u001b[0m\u001b[0m\n\u001b[0m\u001b[1;32m    943\u001b[0m     \u001b[0;32melif\u001b[0m \u001b[0mself\u001b[0m\u001b[0;34m.\u001b[0m\u001b[0m_stateful_fn\u001b[0m \u001b[0;32mis\u001b[0m \u001b[0;32mnot\u001b[0m \u001b[0;32mNone\u001b[0m\u001b[0;34m:\u001b[0m\u001b[0;34m\u001b[0m\u001b[0;34m\u001b[0m\u001b[0m\n\u001b[1;32m    944\u001b[0m       \u001b[0;31m# Release the lock early so that multiple threads can perform the call\u001b[0m\u001b[0;34m\u001b[0m\u001b[0;34m\u001b[0m\u001b[0;34m\u001b[0m\u001b[0m\n",
      "\u001b[0;32m/usr/local/lib/python3.9/site-packages/tensorflow/python/eager/function.py\u001b[0m in \u001b[0;36m__call__\u001b[0;34m(self, *args, **kwargs)\u001b[0m\n\u001b[1;32m   3128\u001b[0m       (graph_function,\n\u001b[1;32m   3129\u001b[0m        filtered_flat_args) = self._maybe_define_function(args, kwargs)\n\u001b[0;32m-> 3130\u001b[0;31m     return graph_function._call_flat(\n\u001b[0m\u001b[1;32m   3131\u001b[0m         filtered_flat_args, captured_inputs=graph_function.captured_inputs)  # pylint: disable=protected-access\n\u001b[1;32m   3132\u001b[0m \u001b[0;34m\u001b[0m\u001b[0m\n",
      "\u001b[0;32m/usr/local/lib/python3.9/site-packages/tensorflow/python/eager/function.py\u001b[0m in \u001b[0;36m_call_flat\u001b[0;34m(self, args, captured_inputs, cancellation_manager)\u001b[0m\n\u001b[1;32m   1957\u001b[0m         and executing_eagerly):\n\u001b[1;32m   1958\u001b[0m       \u001b[0;31m# No tape is watching; skip to running the function.\u001b[0m\u001b[0;34m\u001b[0m\u001b[0;34m\u001b[0m\u001b[0;34m\u001b[0m\u001b[0m\n\u001b[0;32m-> 1959\u001b[0;31m       return self._build_call_outputs(self._inference_function.call(\n\u001b[0m\u001b[1;32m   1960\u001b[0m           ctx, args, cancellation_manager=cancellation_manager))\n\u001b[1;32m   1961\u001b[0m     forward_backward = self._select_forward_and_backward_functions(\n",
      "\u001b[0;32m/usr/local/lib/python3.9/site-packages/tensorflow/python/eager/function.py\u001b[0m in \u001b[0;36mcall\u001b[0;34m(self, ctx, args, cancellation_manager)\u001b[0m\n\u001b[1;32m    596\u001b[0m       \u001b[0;32mwith\u001b[0m \u001b[0m_InterpolateFunctionError\u001b[0m\u001b[0;34m(\u001b[0m\u001b[0mself\u001b[0m\u001b[0;34m)\u001b[0m\u001b[0;34m:\u001b[0m\u001b[0;34m\u001b[0m\u001b[0;34m\u001b[0m\u001b[0m\n\u001b[1;32m    597\u001b[0m         \u001b[0;32mif\u001b[0m \u001b[0mcancellation_manager\u001b[0m \u001b[0;32mis\u001b[0m \u001b[0;32mNone\u001b[0m\u001b[0;34m:\u001b[0m\u001b[0;34m\u001b[0m\u001b[0;34m\u001b[0m\u001b[0m\n\u001b[0;32m--> 598\u001b[0;31m           outputs = execute.execute(\n\u001b[0m\u001b[1;32m    599\u001b[0m               \u001b[0mstr\u001b[0m\u001b[0;34m(\u001b[0m\u001b[0mself\u001b[0m\u001b[0;34m.\u001b[0m\u001b[0msignature\u001b[0m\u001b[0;34m.\u001b[0m\u001b[0mname\u001b[0m\u001b[0;34m)\u001b[0m\u001b[0;34m,\u001b[0m\u001b[0;34m\u001b[0m\u001b[0;34m\u001b[0m\u001b[0m\n\u001b[1;32m    600\u001b[0m               \u001b[0mnum_outputs\u001b[0m\u001b[0;34m=\u001b[0m\u001b[0mself\u001b[0m\u001b[0;34m.\u001b[0m\u001b[0m_num_outputs\u001b[0m\u001b[0;34m,\u001b[0m\u001b[0;34m\u001b[0m\u001b[0;34m\u001b[0m\u001b[0m\n",
      "\u001b[0;32m/usr/local/lib/python3.9/site-packages/tensorflow/python/eager/execute.py\u001b[0m in \u001b[0;36mquick_execute\u001b[0;34m(op_name, num_outputs, inputs, attrs, ctx, name)\u001b[0m\n\u001b[1;32m     56\u001b[0m   \u001b[0;32mtry\u001b[0m\u001b[0;34m:\u001b[0m\u001b[0;34m\u001b[0m\u001b[0;34m\u001b[0m\u001b[0m\n\u001b[1;32m     57\u001b[0m     \u001b[0mctx\u001b[0m\u001b[0;34m.\u001b[0m\u001b[0mensure_initialized\u001b[0m\u001b[0;34m(\u001b[0m\u001b[0;34m)\u001b[0m\u001b[0;34m\u001b[0m\u001b[0;34m\u001b[0m\u001b[0m\n\u001b[0;32m---> 58\u001b[0;31m     tensors = pywrap_tfe.TFE_Py_Execute(ctx._handle, device_name, op_name,\n\u001b[0m\u001b[1;32m     59\u001b[0m                                         inputs, attrs, num_outputs)\n\u001b[1;32m     60\u001b[0m   \u001b[0;32mexcept\u001b[0m \u001b[0mcore\u001b[0m\u001b[0;34m.\u001b[0m\u001b[0m_NotOkStatusException\u001b[0m \u001b[0;32mas\u001b[0m \u001b[0me\u001b[0m\u001b[0;34m:\u001b[0m\u001b[0;34m\u001b[0m\u001b[0;34m\u001b[0m\u001b[0m\n",
      "\u001b[0;31mKeyboardInterrupt\u001b[0m: "
     ]
    }
   ],
   "source": [
    "model.compile(loss='mse',\n",
    "              optimizer='Adam',\n",
    "              metrics=['acc'])\n",
    "history = model.fit(x=[context_train, question_train], y=[index_start_train, index_end_train], batch_size=1, epochs=2, validation_data=([context_val, question_val], [index_start_val, index_end_val]))"
   ]
  },
  {
   "cell_type": "code",
   "execution_count": 31,
   "id": "d07a69f8",
   "metadata": {},
   "outputs": [
    {
     "data": {
      "image/png": "[encoded data removed]",
      "text/plain": [
       "<IPython.core.display.Image object>"
      ]
     },
     "execution_count": 31,
     "metadata": {},
     "output_type": "execute_result"
    }
   ],
   "source": [
    "tf.keras.utils.plot_model(model, show_shapes=True)"
   ]
  },
  {
   "cell_type": "code",
   "execution_count": null,
   "id": "c73b83bd",
   "metadata": {},
   "outputs": [],
   "source": [
    "history"
   ]
  },
  {
   "cell_type": "code",
   "execution_count": null,
   "id": "0d56075d",
   "metadata": {},
   "outputs": [
    {
     "data": {
      "text/plain": [
       "<tf.Tensor: shape=(), dtype=int32, numpy=2>"
      ]
     },
     "execution_count": 34,
     "metadata": {},
     "output_type": "execute_result"
    }
   ],
   "source": [
    "q = np.array([[[1,2, 3], [1,2, 3]], [[1,2, 3], [1,2, 3]]])\n",
    "K.shape(q)[1]"
   ]
  },
  {
   "cell_type": "code",
   "execution_count": null,
   "id": "51a996b1",
   "metadata": {},
   "outputs": [],
   "source": [
    "q = np.array([1,2,3])"
   ]
  },
  {
   "cell_type": "code",
   "execution_count": null,
   "id": "03015165",
   "metadata": {},
   "outputs": [],
   "source": [
    "ex = K.expand_dims(q, axis=0)"
   ]
  },
  {
   "cell_type": "code",
   "execution_count": null,
   "id": "486b672e",
   "metadata": {},
   "outputs": [
    {
     "data": {
      "text/plain": [
       "<tf.Tensor: shape=(1, 2, 2, 3), dtype=int64, numpy=\n",
       "array([[[[1, 2, 3],\n",
       "         [1, 2, 3]],\n",
       "\n",
       "        [[1, 2, 3],\n",
       "         [1, 2, 3]]]])>"
      ]
     },
     "execution_count": 38,
     "metadata": {},
     "output_type": "execute_result"
    }
   ],
   "source": [
    "ex"
   ]
  },
  {
   "cell_type": "code",
   "execution_count": null,
   "id": "1258bb18",
   "metadata": {},
   "outputs": [
    {
     "data": {
      "text/plain": [
       "<tf.Tensor: shape=(1, 2, 12, 3), dtype=int64, numpy=\n",
       "array([[[[1, 2, 3],\n",
       "         [1, 2, 3],\n",
       "         [1, 2, 3],\n",
       "         [1, 2, 3],\n",
       "         [1, 2, 3],\n",
       "         [1, 2, 3],\n",
       "         [1, 2, 3],\n",
       "         [1, 2, 3],\n",
       "         [1, 2, 3],\n",
       "         [1, 2, 3],\n",
       "         [1, 2, 3],\n",
       "         [1, 2, 3]],\n",
       "\n",
       "        [[1, 2, 3],\n",
       "         [1, 2, 3],\n",
       "         [1, 2, 3],\n",
       "         [1, 2, 3],\n",
       "         [1, 2, 3],\n",
       "         [1, 2, 3],\n",
       "         [1, 2, 3],\n",
       "         [1, 2, 3],\n",
       "         [1, 2, 3],\n",
       "         [1, 2, 3],\n",
       "         [1, 2, 3],\n",
       "         [1, 2, 3]]]])>"
      ]
     },
     "execution_count": 43,
     "metadata": {},
     "output_type": "execute_result"
    }
   ],
   "source": [
    "K.tile(ex, context_dim_repeat)"
   ]
  },
  {
   "cell_type": "code",
   "execution_count": null,
   "id": "f7245e8f",
   "metadata": {},
   "outputs": [],
   "source": [
    "context_dim_repeat = K.concatenate([[1, 1], [6], [1]], 0)"
   ]
  },
  {
   "cell_type": "code",
   "execution_count": null,
   "id": "1537eb28",
   "metadata": {},
   "outputs": [
    {
     "data": {
      "text/plain": [
       "<tf.Tensor: shape=(4,), dtype=int32, numpy=array([1, 1, 5, 1], dtype=int32)>"
      ]
     },
     "execution_count": 40,
     "metadata": {},
     "output_type": "execute_result"
    }
   ],
   "source": [
    "context_dim_repeat"
   ]
  },
  {
   "cell_type": "code",
   "execution_count": null,
   "id": "26e429db",
   "metadata": {},
   "outputs": [
    {
     "ename": "TypeError",
     "evalue": "_to_tensor() missing 1 required positional argument: 'dtype'",
     "output_type": "error",
     "traceback": [
      "\u001b[0;31m---------------------------------------------------------------------------\u001b[0m",
      "\u001b[0;31mTypeError\u001b[0m                                 Traceback (most recent call last)",
      "\u001b[0;32m/var/folders/t4/vnxj6kkj2n97knry5lnrscx00000gn/T/ipykernel_60641/3669352544.py\u001b[0m in \u001b[0;36m<module>\u001b[0;34m\u001b[0m\n\u001b[0;32m----> 1\u001b[0;31m \u001b[0mn1\u001b[0m \u001b[0;34m=\u001b[0m \u001b[0mK\u001b[0m\u001b[0;34m.\u001b[0m\u001b[0m_to_tensor\u001b[0m\u001b[0;34m(\u001b[0m\u001b[0mnp\u001b[0m\u001b[0;34m.\u001b[0m\u001b[0mrandom\u001b[0m\u001b[0;34m.\u001b[0m\u001b[0mrand\u001b[0m\u001b[0;34m(\u001b[0m\u001b[0;36m10\u001b[0m\u001b[0;34m,\u001b[0m\u001b[0;36m653\u001b[0m\u001b[0;34m,\u001b[0m \u001b[0;36m653\u001b[0m\u001b[0;34m,\u001b[0m \u001b[0;36m100\u001b[0m\u001b[0;34m)\u001b[0m\u001b[0;34m)\u001b[0m\u001b[0;34m\u001b[0m\u001b[0;34m\u001b[0m\u001b[0m\n\u001b[0m\u001b[1;32m      2\u001b[0m \u001b[0mn2\u001b[0m \u001b[0;34m=\u001b[0m \u001b[0mnp\u001b[0m\u001b[0;34m.\u001b[0m\u001b[0mrandom\u001b[0m\u001b[0;34m.\u001b[0m\u001b[0mrand\u001b[0m\u001b[0;34m(\u001b[0m\u001b[0;36m10\u001b[0m\u001b[0;34m,\u001b[0m\u001b[0;36m653\u001b[0m\u001b[0;34m,\u001b[0m \u001b[0;36m653\u001b[0m\u001b[0;34m,\u001b[0m \u001b[0;36m100\u001b[0m\u001b[0;34m)\u001b[0m\u001b[0;34m\u001b[0m\u001b[0;34m\u001b[0m\u001b[0m\n\u001b[1;32m      3\u001b[0m \u001b[0mn3\u001b[0m \u001b[0;34m=\u001b[0m \u001b[0mnp\u001b[0m\u001b[0;34m.\u001b[0m\u001b[0mrandom\u001b[0m\u001b[0;34m.\u001b[0m\u001b[0mrand\u001b[0m\u001b[0;34m(\u001b[0m\u001b[0;36m10\u001b[0m\u001b[0;34m,\u001b[0m\u001b[0;36m653\u001b[0m\u001b[0;34m,\u001b[0m \u001b[0;36m653\u001b[0m\u001b[0;34m,\u001b[0m \u001b[0;36m100\u001b[0m\u001b[0;34m)\u001b[0m\u001b[0;34m\u001b[0m\u001b[0;34m\u001b[0m\u001b[0m\n",
      "\u001b[0;31mTypeError\u001b[0m: _to_tensor() missing 1 required positional argument: 'dtype'"
     ]
    }
   ],
   "source": [
    "n1 = np.random.rand(10,653, 653, 100))\n",
    "n2 = np.random.rand(10,653, 653, 100)\n",
    "n3 = np.random.rand(10,653, 653, 100)"
   ]
  },
  {
   "cell_type": "code",
   "execution_count": null,
   "id": "bcafd95c",
   "metadata": {},
   "outputs": [],
   "source": [
    "n1 = tf.convert_to_tensor(n1)\n",
    "n2 = tf.convert_to_tensor(n2)\n",
    "n3 = tf.convert_to_tensor(n3)\n"
   ]
  },
  {
   "cell_type": "code",
   "execution_count": null,
   "id": "a8e4d5f0",
   "metadata": {},
   "outputs": [],
   "source": [
    "concatenated_tensor = K.concatenate([n1, n2, n3], axis=-1)"
   ]
  },
  {
   "cell_type": "code",
   "execution_count": null,
   "id": "7fd213d6",
   "metadata": {},
   "outputs": [],
   "source": []
  },
  {
   "cell_type": "markdown",
   "id": "9c869b93",
   "metadata": {},
   "source": [
    "### Funcitons for saving, predicting, plotting and evaluating the models\n"
   ]
  },
  {
   "cell_type": "markdown",
   "id": "260bdc41",
   "metadata": {},
   "source": [
    "#### Save model"
   ]
  },
  {
   "cell_type": "code",
   "execution_count": null,
   "id": "d4b23d04",
   "metadata": {},
   "outputs": [],
   "source": [
    "def save_model(model, sentence_embedding_type=1, merge_type=1, dir='models'):\n",
    "    '''\n",
    "        Saves model naming it according to sentence embedding merge type and time stamp.\n",
    "    '''\n",
    "    now = datetime.now()\n",
    "    dt_string = now.strftime(\"%d_%m_%Y_%H:%M:%S\")\n",
    "    model_name = f'model_SE{sentence_embedding_type}_MT{merge_type}_{dt_string}'\n",
    "    path = f'{dir}/{model_name}'\n",
    "    model.save(path)"
   ]
  },
  {
   "cell_type": "markdown",
   "id": "a86eea9a",
   "metadata": {},
   "source": [
    "#### Get predicitons"
   ]
  },
  {
   "cell_type": "code",
   "execution_count": null,
   "id": "9f467f2e",
   "metadata": {},
   "outputs": [],
   "source": [
    "def prediction(model: keras.Model, x, predicting_info):\n",
    "    '''Call the models prediction function'''\n",
    "    predictions = model.predict(x, **predicting_info)\n",
    "    return predictions"
   ]
  },
  {
   "cell_type": "markdown",
   "id": "1d25a8f4",
   "metadata": {},
   "source": [
    "#### Plot accuracy and loss"
   ]
  },
  {
   "cell_type": "code",
   "execution_count": null,
   "id": "aac54c0a",
   "metadata": {},
   "outputs": [],
   "source": [
    "def plot_accuracy(model_callback):\n",
    "    plt.plot(model_callback.history['acc'])\n",
    "    plt.plot(model_callback.history['val_acc'])\n",
    "    plt.title('model accuracy')\n",
    "    plt.ylabel('accuracy')\n",
    "    plt.xlabel('epoch')\n",
    "    plt.legend(['train', 'val'], loc=\"lower right\")\n",
    "    plt.show()\n",
    "    \n",
    "def plot_loss(model_callback):\n",
    "    plt.plot(model_callback.history['loss'])\n",
    "    plt.plot(model_callback.history['val_loss'])\n",
    "    plt.title('model loss')\n",
    "    plt.ylabel('loss')\n",
    "    plt.xlabel('epoch')\n",
    "    plt.legend(['train', 'val'], loc=\"lower right\")\n",
    "    plt.show()\n",
    "    \n",
    "def plot_confusion_matrix(confusion_matrix):\n",
    "\n",
    "    ax = sns.heatmap(confusion_matrix, annot=True, cmap='Blues', fmt='d')\n",
    "\n",
    "    ax.set_title('Confusion Matrix\\n\\n')\n",
    "    ax.set_xlabel('\\nPredicted Values')\n",
    "    ax.set_ylabel('Actual Values ')\n",
    "\n",
    "    ## Ticket labels - List must be in alphabetical order\n",
    "    ax.xaxis.set_ticklabels(['False','True'])\n",
    "    ax.yaxis.set_ticklabels(['False','True'])\n",
    "\n",
    "    ## Display the visualization of the Confusion Matrix.\n",
    "    plt.show()"
   ]
  },
  {
   "cell_type": "markdown",
   "id": "6005619e",
   "metadata": {},
   "source": [
    "#### Fucniton for multi-input classification evaluation"
   ]
  },
  {
   "cell_type": "code",
   "execution_count": null,
   "id": "c0b0d1a4",
   "metadata": {},
   "outputs": [],
   "source": [
    "def evaluation(predictions):\n",
    "    '''\n",
    "        Function for plotting the confusion_matrix\n",
    "        Inputs:\n",
    "            predicitons: Predicitons from a keras model\n",
    "    '''\n",
    "    print(classification_report(y_test, predictions))\n",
    "    print(accuracy_score(y_test, predictions))\n",
    "    cf_matrix = confusion_matrix(y_test, predictions)\n",
    "    plot_confusion_matrix(cf_matrix)"
   ]
  },
  {
   "cell_type": "markdown",
   "id": "f49b76c8",
   "metadata": {},
   "source": [
    "#### Funcitons for claim verification evaluation"
   ]
  },
  {
   "cell_type": "code",
   "execution_count": null,
   "id": "fa297b40",
   "metadata": {},
   "outputs": [],
   "source": [
    "def make_claims_dict():\n",
    "    \"\"\"\n",
    "    Makes a dictionary with claimID as key and \n",
    "    a list of the index for every evidence \n",
    "    corresponding to the claim as value\n",
    "    \"\"\"\n",
    "    claims = {}\n",
    "    t = test_df.groupby(\"claimID\")\n",
    "    for name, group in t:\n",
    "        claims[name] = list(group.index)\n",
    "    return claims"
   ]
  },
  {
   "cell_type": "code",
   "execution_count": null,
   "id": "e9ff77d1",
   "metadata": {},
   "outputs": [],
   "source": [
    "def majority_pred(predictions):\n",
    "    \"\"\"\n",
    "    Find predictions based on majority voting\n",
    "    \"\"\"\n",
    "    majority = []\n",
    "\n",
    "    for i in range(len(claim_test)):\n",
    "        claim_id = np.array(test_df['claimID'])[i]\n",
    "        support = 0\n",
    "        defutes = 0\n",
    "        for evidence in claims_dict[claim_id]:\n",
    "            if predictions[evidence] == 1:\n",
    "                support += 1\n",
    "            else:\n",
    "                defutes += 1\n",
    "        if support > defutes:\n",
    "            majority.append(1.0)\n",
    "        else:\n",
    "            majority.append(0.0)\n",
    "    return majority"
   ]
  },
  {
   "cell_type": "code",
   "execution_count": null,
   "id": "7f9cf4ea",
   "metadata": {},
   "outputs": [
    {
     "name": "stderr",
     "output_type": "stream",
     "text": [
      "2021-12-10 20:01:24.769048: W tensorflow/python/util/util.cc:368] Sets are not currently considered sequences, but this may change in the future, so consider avoiding using them.\n",
      "WARNING:absl:Found untraced functions such as softmax_21_layer_call_fn, softmax_21_layer_call_and_return_conditional_losses, softmax_22_layer_call_fn, softmax_22_layer_call_and_return_conditional_losses, lstm_cell_37_layer_call_fn while saving (showing 5 of 30). These functions will not be directly callable after loading.\n"
     ]
    },
    {
     "name": "stdout",
     "output_type": "stream",
     "text": [
      "INFO:tensorflow:Assets written to: models/model_SE1_MT1_10_12_2021_20:00:59/assets\n"
     ]
    },
    {
     "name": "stderr",
     "output_type": "stream",
     "text": [
      "INFO:tensorflow:Assets written to: models/model_SE1_MT1_10_12_2021_20:00:59/assets\n",
      "WARNING:absl:<keras.layers.recurrent.LSTMCell object at 0x181dbf580> has the same name 'LSTMCell' as a built-in Keras object. Consider renaming <class 'keras.layers.recurrent.LSTMCell'> to avoid naming conflicts when loading with `tf.keras.models.load_model`. If renaming is not possible, pass the object in the `custom_objects` parameter of the load function.\n",
      "WARNING:absl:<keras.layers.recurrent.LSTMCell object at 0x1820280d0> has the same name 'LSTMCell' as a built-in Keras object. Consider renaming <class 'keras.layers.recurrent.LSTMCell'> to avoid naming conflicts when loading with `tf.keras.models.load_model`. If renaming is not possible, pass the object in the `custom_objects` parameter of the load function.\n",
      "WARNING:absl:<keras.layers.recurrent.LSTMCell object at 0x181b51070> has the same name 'LSTMCell' as a built-in Keras object. Consider renaming <class 'keras.layers.recurrent.LSTMCell'> to avoid naming conflicts when loading with `tf.keras.models.load_model`. If renaming is not possible, pass the object in the `custom_objects` parameter of the load function.\n",
      "WARNING:absl:<keras.layers.recurrent.LSTMCell object at 0x181b51970> has the same name 'LSTMCell' as a built-in Keras object. Consider renaming <class 'keras.layers.recurrent.LSTMCell'> to avoid naming conflicts when loading with `tf.keras.models.load_model`. If renaming is not possible, pass the object in the `custom_objects` parameter of the load function.\n"
     ]
    }
   ],
   "source": [
    "save_model(model)"
   ]
  },
  {
   "cell_type": "code",
   "execution_count": null,
   "id": "f990c16d",
   "metadata": {},
   "outputs": [
    {
     "data": {
      "image/png": "[encoded data removed]",
      "text/plain": [
       "<Figure size 432x288 with 1 Axes>"
      ]
     },
     "metadata": {
      "needs_background": "light"
     },
     "output_type": "display_data"
    },
    {
     "ename": "KeyError",
     "evalue": "'acc'",
     "output_type": "error",
     "traceback": [
      "\u001b[0;31m---------------------------------------------------------------------------\u001b[0m",
      "\u001b[0;31mKeyError\u001b[0m                                  Traceback (most recent call last)",
      "\u001b[0;32m/var/folders/t4/vnxj6kkj2n97knry5lnrscx00000gn/T/ipykernel_52353/2189927672.py\u001b[0m in \u001b[0;36m<module>\u001b[0;34m\u001b[0m\n\u001b[1;32m      1\u001b[0m \u001b[0mplot_loss\u001b[0m\u001b[0;34m(\u001b[0m\u001b[0mhistory\u001b[0m\u001b[0;34m)\u001b[0m\u001b[0;34m\u001b[0m\u001b[0;34m\u001b[0m\u001b[0m\n\u001b[0;32m----> 2\u001b[0;31m \u001b[0mplot_accuracy\u001b[0m\u001b[0;34m(\u001b[0m\u001b[0mhistory\u001b[0m\u001b[0;34m)\u001b[0m\u001b[0;34m\u001b[0m\u001b[0;34m\u001b[0m\u001b[0m\n\u001b[0m",
      "\u001b[0;32m/var/folders/t4/vnxj6kkj2n97knry5lnrscx00000gn/T/ipykernel_52353/3317561991.py\u001b[0m in \u001b[0;36mplot_accuracy\u001b[0;34m(model_callback)\u001b[0m\n\u001b[1;32m      1\u001b[0m \u001b[0;32mdef\u001b[0m \u001b[0mplot_accuracy\u001b[0m\u001b[0;34m(\u001b[0m\u001b[0mmodel_callback\u001b[0m\u001b[0;34m)\u001b[0m\u001b[0;34m:\u001b[0m\u001b[0;34m\u001b[0m\u001b[0;34m\u001b[0m\u001b[0m\n\u001b[0;32m----> 2\u001b[0;31m     \u001b[0mplt\u001b[0m\u001b[0;34m.\u001b[0m\u001b[0mplot\u001b[0m\u001b[0;34m(\u001b[0m\u001b[0mmodel_callback\u001b[0m\u001b[0;34m.\u001b[0m\u001b[0mhistory\u001b[0m\u001b[0;34m[\u001b[0m\u001b[0;34m'acc'\u001b[0m\u001b[0;34m]\u001b[0m\u001b[0;34m)\u001b[0m\u001b[0;34m\u001b[0m\u001b[0;34m\u001b[0m\u001b[0m\n\u001b[0m\u001b[1;32m      3\u001b[0m     \u001b[0mplt\u001b[0m\u001b[0;34m.\u001b[0m\u001b[0mplot\u001b[0m\u001b[0;34m(\u001b[0m\u001b[0mmodel_callback\u001b[0m\u001b[0;34m.\u001b[0m\u001b[0mhistory\u001b[0m\u001b[0;34m[\u001b[0m\u001b[0;34m'val_acc'\u001b[0m\u001b[0;34m]\u001b[0m\u001b[0;34m)\u001b[0m\u001b[0;34m\u001b[0m\u001b[0;34m\u001b[0m\u001b[0m\n\u001b[1;32m      4\u001b[0m     \u001b[0mplt\u001b[0m\u001b[0;34m.\u001b[0m\u001b[0mtitle\u001b[0m\u001b[0;34m(\u001b[0m\u001b[0;34m'model accuracy'\u001b[0m\u001b[0;34m)\u001b[0m\u001b[0;34m\u001b[0m\u001b[0;34m\u001b[0m\u001b[0m\n\u001b[1;32m      5\u001b[0m     \u001b[0mplt\u001b[0m\u001b[0;34m.\u001b[0m\u001b[0mylabel\u001b[0m\u001b[0;34m(\u001b[0m\u001b[0;34m'accuracy'\u001b[0m\u001b[0;34m)\u001b[0m\u001b[0;34m\u001b[0m\u001b[0;34m\u001b[0m\u001b[0m\n",
      "\u001b[0;31mKeyError\u001b[0m: 'acc'"
     ]
    }
   ],
   "source": [
    "plot_loss(history)\n",
    "plot_accuracy(history)"
   ]
  },
  {
   "cell_type": "code",
   "execution_count": null,
   "id": "0b62b0a7",
   "metadata": {},
   "outputs": [],
   "source": []
  }
 ],
 "metadata": {
  "kernelspec": {
   "display_name": "Python 3",
   "language": "python",
   "name": "python3"
  },
  "language_info": {
   "codemirror_mode": {
    "name": "ipython",
    "version": 3
   },
   "file_extension": ".py",
   "mimetype": "text/x-python",
   "name": "python",
   "nbconvert_exporter": "python",
   "pygments_lexer": "ipython3",
   "version": "3.9.4"
  }
 },
 "nbformat": 4,
 "nbformat_minor": 5
}
